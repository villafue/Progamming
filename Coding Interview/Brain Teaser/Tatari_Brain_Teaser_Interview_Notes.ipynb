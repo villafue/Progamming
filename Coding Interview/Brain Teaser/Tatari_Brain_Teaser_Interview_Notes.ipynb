{
  "nbformat": 4,
  "nbformat_minor": 0,
  "metadata": {
    "colab": {
      "name": "Tatari Brain Teaser Interview Notes.ipynb",
      "provenance": [],
      "authorship_tag": "ABX9TyNLllt+dA1yNkdyZxPbgPY+",
      "include_colab_link": true
    },
    "kernelspec": {
      "name": "python3",
      "display_name": "Python 3"
    },
    "language_info": {
      "name": "python"
    }
  },
  "cells": [
    {
      "cell_type": "markdown",
      "metadata": {
        "id": "view-in-github",
        "colab_type": "text"
      },
      "source": [
        "<a href=\"https://colab.research.google.com/github/villafue/Progamming/blob/main/Coding%20Interview/Brain%20Teaser/Tatari_Brain_Teaser_Interview_Notes.ipynb\" target=\"_parent\"><img src=\"https://colab.research.google.com/assets/colab-badge.svg\" alt=\"Open In Colab\"/></a>"
      ]
    },
    {
      "cell_type": "markdown",
      "metadata": {
        "id": "Yth4AouhEZ7S"
      },
      "source": [
        "[Tatari Brain Teaser Interview Notes](https://docs.google.com/document/d/1h2Ok3QJwo4lgJNiE8VKYhoZcySXUvtr_TAl2S7MjA88/edit?usp=sharing)"
      ]
    },
    {
      "cell_type": "code",
      "metadata": {
        "id": "oKOJAXExDLXa"
      },
      "source": [
        ""
      ],
      "execution_count": null,
      "outputs": []
    }
  ]
}