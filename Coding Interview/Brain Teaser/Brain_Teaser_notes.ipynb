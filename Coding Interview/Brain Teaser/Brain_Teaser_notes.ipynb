{
  "nbformat": 4,
  "nbformat_minor": 0,
  "metadata": {
    "colab": {
      "name": "Brain Teaser notes.ipynb",
      "provenance": [],
      "authorship_tag": "ABX9TyMKz6zYCg9FcbVRH9wVZfBW",
      "include_colab_link": true
    },
    "kernelspec": {
      "name": "python3",
      "display_name": "Python 3"
    },
    "language_info": {
      "name": "python"
    }
  },
  "cells": [
    {
      "cell_type": "markdown",
      "metadata": {
        "id": "view-in-github",
        "colab_type": "text"
      },
      "source": [
        "<a href=\"https://colab.research.google.com/github/villafue/Progamming/blob/main/Coding%20Interview/Brain%20Teaser/Brain_Teaser_notes.ipynb\" target=\"_parent\"><img src=\"https://colab.research.google.com/assets/colab-badge.svg\" alt=\"Open In Colab\"/></a>"
      ]
    },
    {
      "cell_type": "markdown",
      "metadata": {
        "id": "Eq7PI6WPpSKb"
      },
      "source": [
        "Below are notes regarding Brain Teasers"
      ]
    },
    {
      "cell_type": "markdown",
      "metadata": {
        "id": "v-t5I2uSpWHQ"
      },
      "source": [
        "[7 Insane Brain Teasers](https://www.themuse.com/advice/7-insane-brain-teasers-you-could-actually-encounter-in-an-interview) is a good introduction to brain teasers I could meet in the wild. \n",
        "\n",
        "One good article is [4 Steps for Answering Crazy Interview Questions](https://www.themuse.com/advice/4-steps-for-answering-offthewall-interview-questions). \n",
        "  - I like that this is an opportunity to ask a follow-up question."
      ]
    },
    {
      "cell_type": "markdown",
      "metadata": {
        "id": "1PVOulZbsnuK"
      },
      "source": [
        "Now, these are articles that are related to how to answer crazy brain teaser:\n",
        "\n",
        "1. [9 Steps to Solving Impossible Brain Teasers in Tech Interviews](https://www.themuse.com/advice/9-steps-to-solving-an-impossible-brain-teaser-in-a-tech-interview-without-breaking-a-sweat) \n",
        "\n",
        "Essentially, it's smile, take some time, write everything down in the beginning, stay organized, clear, state assumptions and guide interviewer through journey on how I will answer this. At the end, state what assumptions I violated or details I overlooked. Oh and round numbers.\n",
        "\n",
        "2. Similar article is [4 Insanely Tough Interview Questions and How to Nail Them](https://www.themuse.com/advice/4-insanely-tough-interview-questions-and-how-to-nail-them)"
      ]
    },
    {
      "cell_type": "code",
      "metadata": {
        "id": "EH9E_VVDpAVS"
      },
      "source": [
        ""
      ],
      "execution_count": null,
      "outputs": []
    }
  ]
}