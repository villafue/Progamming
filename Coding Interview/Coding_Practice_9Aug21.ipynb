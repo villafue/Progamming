{
  "nbformat": 4,
  "nbformat_minor": 0,
  "metadata": {
    "colab": {
      "name": "Coding Practice 9Aug21.ipynb",
      "provenance": [],
      "authorship_tag": "ABX9TyNPLp4Nep2k9F9bYPVQYQrw",
      "include_colab_link": true
    },
    "kernelspec": {
      "name": "python3",
      "display_name": "Python 3"
    },
    "language_info": {
      "name": "python"
    }
  },
  "cells": [
    {
      "cell_type": "markdown",
      "metadata": {
        "id": "view-in-github",
        "colab_type": "text"
      },
      "source": [
        "<a href=\"https://colab.research.google.com/github/villafue/Progamming/blob/main/Coding%20Interview/Coding_Practice_9Aug21.ipynb\" target=\"_parent\"><img src=\"https://colab.research.google.com/assets/colab-badge.svg\" alt=\"Open In Colab\"/></a>"
      ]
    },
    {
      "cell_type": "code",
      "metadata": {
        "id": "qgby-OgyCUya"
      },
      "source": [
        ""
      ],
      "execution_count": null,
      "outputs": []
    },
    {
      "cell_type": "markdown",
      "metadata": {
        "id": "8d3Q6bIcCVTV"
      },
      "source": [
        "Practice session with Dhir for the Tatari Analyst \"on-site.\" It was Pandas focused"
      ]
    },
    {
      "cell_type": "code",
      "metadata": {
        "id": "WEdK7LdNCQr-"
      },
      "source": [
        "import pandas as pd\n",
        "\n",
        "df = pd.DataFrame({'Name': ['John Larter', 'Robert Junior', 'Jonny Depp'],\n",
        "                    'Age':[32, 34, 36]})\n",
        "\n",
        "\n",
        "#Split Name column into “First” and “Last” column respectively and add it to the existing Dataframe .\n",
        "\n",
        "# .str.lower, upper\n",
        "\n",
        "#fl_name = list(df['Name'])\n",
        "#print(f_name)\n",
        "\n",
        "#f_name = []\n",
        "#l_name = []\n",
        "#for f, l in f_name:\n",
        "    #fl_name.split(' ')\n",
        "    #f_name.append(f)\n",
        "   # l_name.append(l)\n",
        "\n",
        "#print(f_name)\n",
        "#print(l_name)\n",
        "\n",
        "#df['test'] = df.Name.str.split(expand=True)\n",
        "# I get this error: ValueError: Wrong number of items passed 2, placement implies 1\n",
        "# I need to pass two columns on the left.\n",
        " \n",
        "#display(df)\n",
        "#df['First'] = [first for first in df['test'] if df['test'][0]]\n",
        "\n",
        "#df.Name.str.split(expand=True)\n",
        "#fl_name = list(df.test)\n",
        "#print(fl_name)\n",
        "\n",
        "#df.Name.str.split(expand=True)\n",
        "\n",
        "# bydefault splitting is done on the basis of single space.\n",
        "df[['First','Last']] = df.Name.str.split(expand=True)\n",
        "display(df)\n"
      ],
      "execution_count": null,
      "outputs": []
    }
  ]
}