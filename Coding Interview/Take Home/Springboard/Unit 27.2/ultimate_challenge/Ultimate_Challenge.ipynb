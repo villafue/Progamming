{
  "nbformat": 4,
  "nbformat_minor": 0,
  "metadata": {
    "colab": {
      "name": "Ultimate Challenge.ipynb",
      "provenance": [],
      "toc_visible": true,
      "authorship_tag": "ABX9TyMBkrRj6SRCY0VDdyfGsdsz",
      "include_colab_link": true
    },
    "kernelspec": {
      "name": "python3",
      "display_name": "Python 3"
    },
    "language_info": {
      "name": "python"
    }
  },
  "cells": [
    {
      "cell_type": "markdown",
      "metadata": {
        "id": "view-in-github",
        "colab_type": "text"
      },
      "source": [
        "<a href=\"https://colab.research.google.com/github/villafue/Progamming/blob/main/Coding%20Interview/Take%20Home/Springboard/Unit%2027.2/ultimate_challenge/Ultimate_Challenge.ipynb\" target=\"_parent\"><img src=\"https://colab.research.google.com/assets/colab-badge.svg\" alt=\"Open In Colab\"/></a>"
      ]
    },
    {
      "cell_type": "markdown",
      "metadata": {
        "id": "jYpe2TCoV8-q"
      },
      "source": [
        "# Data Analysis Interview Challenge\n",
        "\n",
        "This is your chance to wow us with creative and rigorous solutions! Please include your code at\n",
        "the end of your submission, or in a separate file. We also accept incomplete solutions."
      ]
    },
    {
      "cell_type": "markdown",
      "metadata": {
        "id": "VYEY9t09V_fQ"
      },
      "source": [
        "## Part 1 ‑ Exploratory data analysis\n",
        "\n",
        "The attached logins.json file contains (simulated) timestamps of user logins in a particular\n",
        "geographic location. Aggregate these login counts based on 15minute\n",
        "time intervals, and\n",
        "visualize and describe the resulting time series of login counts in ways that best characterize the\n",
        "underlying patterns of the demand. Please report/illustrate important features of the demand,\n",
        "such as daily cycles. If there are data quality issues, please report them."
      ]
    },
    {
      "cell_type": "code",
      "metadata": {
        "id": "IRO5uSR8IaHR"
      },
      "source": [
        "import os\n",
        "import seaborn as sns\n",
        "import numpy as np\n",
        "import matplotlib.pyplot as plt\n",
        "import pandas as pd\n",
        "from IPython.display import display\n",
        "pd.set_option('display.notebook_repr_html', True)\n",
        "pd.set_option('display.max_columns', None)"
      ],
      "execution_count": 3,
      "outputs": []
    },
    {
      "cell_type": "code",
      "metadata": {
        "id": "eLb6vWwWI5tK"
      },
      "source": [
        "plt.rcParams.update(plt.rcParamsDefault)\n",
        "%matplotlib inline\n",
        "plt.style.use(['seaborn-whitegrid'])\n",
        "sns.set_palette(palette = [\"#66c2ff\", \"#5cd6d6\", \"#00cc99\", \"#85e085\", \"#ffd966\", \"#ffb366\", \"#ffb3b3\", \"#dab3ff\", \"#c2c2d6\"], n_colors = 4)\n",
        "sns.set(context='notebook', palette='deep')"
      ],
      "execution_count": 4,
      "outputs": []
    },
    {
      "cell_type": "code",
      "metadata": {
        "colab": {
          "base_uri": "https://localhost:8080/"
        },
        "id": "JAHQyUvvKa-x",
        "outputId": "28b5fb3d-dfe7-4524-bcbe-7d182476f861"
      },
      "source": [
        "df = pd.read_json(\"https://raw.githubusercontent.com/villafue/Progamming/main/Coding%20Interview/Take%20Home/Springboard/Unit%2027.2/ultimate_challenge/logins.json\")\n",
        "print (df.head())"
      ],
      "execution_count": 5,
      "outputs": [
        {
          "output_type": "stream",
          "text": [
            "           login_time\n",
            "0 1970-01-01 20:13:18\n",
            "1 1970-01-01 20:16:10\n",
            "2 1970-01-01 20:16:37\n",
            "3 1970-01-01 20:16:36\n",
            "4 1970-01-01 20:26:21\n"
          ],
          "name": "stdout"
        }
      ]
    },
    {
      "cell_type": "code",
      "metadata": {
        "colab": {
          "base_uri": "https://localhost:8080/"
        },
        "id": "nKrkL1WCdq93",
        "outputId": "faf88f72-5f3a-4d9f-b158-1039e1a86b46"
      },
      "source": [
        "df.info()"
      ],
      "execution_count": 6,
      "outputs": [
        {
          "output_type": "stream",
          "text": [
            "<class 'pandas.core.frame.DataFrame'>\n",
            "RangeIndex: 93142 entries, 0 to 93141\n",
            "Data columns (total 1 columns):\n",
            " #   Column      Non-Null Count  Dtype         \n",
            "---  ------      --------------  -----         \n",
            " 0   login_time  93142 non-null  datetime64[ns]\n",
            "dtypes: datetime64[ns](1)\n",
            "memory usage: 727.8 KB\n"
          ],
          "name": "stdout"
        }
      ]
    },
    {
      "cell_type": "markdown",
      "metadata": {
        "id": "KDJPcB7YeXmL"
      },
      "source": [
        "It looks like the index are dates and the login_time column is also \"datetime64\". I have to cycle this by 15 minute intervals. "
      ]
    },
    {
      "cell_type": "code",
      "metadata": {
        "colab": {
          "base_uri": "https://localhost:8080/",
          "height": 278
        },
        "id": "obV4X3zPfHb4",
        "outputId": "3276bc32-5970-4b08-99eb-6772bf52a4f1"
      },
      "source": [
        "df.describe()"
      ],
      "execution_count": 7,
      "outputs": [
        {
          "output_type": "stream",
          "text": [
            "/usr/local/lib/python3.7/dist-packages/ipykernel_launcher.py:1: FutureWarning: Treating datetime data as categorical rather than numeric in `.describe` is deprecated and will be removed in a future version of pandas. Specify `datetime_is_numeric=True` to silence this warning and adopt the future behavior now.\n",
            "  \"\"\"Entry point for launching an IPython kernel.\n"
          ],
          "name": "stderr"
        },
        {
          "output_type": "execute_result",
          "data": {
            "text/html": [
              "<div>\n",
              "<style scoped>\n",
              "    .dataframe tbody tr th:only-of-type {\n",
              "        vertical-align: middle;\n",
              "    }\n",
              "\n",
              "    .dataframe tbody tr th {\n",
              "        vertical-align: top;\n",
              "    }\n",
              "\n",
              "    .dataframe thead th {\n",
              "        text-align: right;\n",
              "    }\n",
              "</style>\n",
              "<table border=\"1\" class=\"dataframe\">\n",
              "  <thead>\n",
              "    <tr style=\"text-align: right;\">\n",
              "      <th></th>\n",
              "      <th>login_time</th>\n",
              "    </tr>\n",
              "  </thead>\n",
              "  <tbody>\n",
              "    <tr>\n",
              "      <th>count</th>\n",
              "      <td>93142</td>\n",
              "    </tr>\n",
              "    <tr>\n",
              "      <th>unique</th>\n",
              "      <td>92265</td>\n",
              "    </tr>\n",
              "    <tr>\n",
              "      <th>top</th>\n",
              "      <td>1970-02-12 11:16:53</td>\n",
              "    </tr>\n",
              "    <tr>\n",
              "      <th>freq</th>\n",
              "      <td>3</td>\n",
              "    </tr>\n",
              "    <tr>\n",
              "      <th>first</th>\n",
              "      <td>1970-01-01 20:12:16</td>\n",
              "    </tr>\n",
              "    <tr>\n",
              "      <th>last</th>\n",
              "      <td>1970-04-13 18:57:38</td>\n",
              "    </tr>\n",
              "  </tbody>\n",
              "</table>\n",
              "</div>"
            ],
            "text/plain": [
              "                 login_time\n",
              "count                 93142\n",
              "unique                92265\n",
              "top     1970-02-12 11:16:53\n",
              "freq                      3\n",
              "first   1970-01-01 20:12:16\n",
              "last    1970-04-13 18:57:38"
            ]
          },
          "metadata": {
            "tags": []
          },
          "execution_count": 7
        }
      ]
    },
    {
      "cell_type": "markdown",
      "metadata": {
        "id": "_57TebsEfRZa"
      },
      "source": [
        "It looks like it's a little over 3 months worth of data. "
      ]
    },
    {
      "cell_type": "code",
      "metadata": {
        "id": "D2Nq_jYzfZoD"
      },
      "source": [
        "#df_15min = df.resample('15Min')\n",
        "#print(df_15min.head())"
      ],
      "execution_count": 8,
      "outputs": []
    },
    {
      "cell_type": "markdown",
      "metadata": {
        "id": "B225lBRrgFZc"
      },
      "source": [
        "I realized what happened. I thought the date was the index and the times were another column. However, the index is a count and the entire date is 'login_time' column. "
      ]
    },
    {
      "cell_type": "code",
      "metadata": {
        "colab": {
          "base_uri": "https://localhost:8080/",
          "height": 209
        },
        "id": "SvP_Ds7ego8y",
        "outputId": "f28cf407-af21-4111-fd31-b0b12980f11c"
      },
      "source": [
        "df = df.sort_values(by = 'login_time')\n",
        "df = df.set_index('login_time')\n",
        "df.head()"
      ],
      "execution_count": 9,
      "outputs": [
        {
          "output_type": "execute_result",
          "data": {
            "text/html": [
              "<div>\n",
              "<style scoped>\n",
              "    .dataframe tbody tr th:only-of-type {\n",
              "        vertical-align: middle;\n",
              "    }\n",
              "\n",
              "    .dataframe tbody tr th {\n",
              "        vertical-align: top;\n",
              "    }\n",
              "\n",
              "    .dataframe thead th {\n",
              "        text-align: right;\n",
              "    }\n",
              "</style>\n",
              "<table border=\"1\" class=\"dataframe\">\n",
              "  <thead>\n",
              "    <tr style=\"text-align: right;\">\n",
              "      <th></th>\n",
              "    </tr>\n",
              "    <tr>\n",
              "      <th>login_time</th>\n",
              "    </tr>\n",
              "  </thead>\n",
              "  <tbody>\n",
              "    <tr>\n",
              "      <th>1970-01-01 20:12:16</th>\n",
              "    </tr>\n",
              "    <tr>\n",
              "      <th>1970-01-01 20:13:18</th>\n",
              "    </tr>\n",
              "    <tr>\n",
              "      <th>1970-01-01 20:16:10</th>\n",
              "    </tr>\n",
              "    <tr>\n",
              "      <th>1970-01-01 20:16:36</th>\n",
              "    </tr>\n",
              "    <tr>\n",
              "      <th>1970-01-01 20:16:37</th>\n",
              "    </tr>\n",
              "  </tbody>\n",
              "</table>\n",
              "</div>"
            ],
            "text/plain": [
              "Empty DataFrame\n",
              "Columns: []\n",
              "Index: [1970-01-01 20:12:16, 1970-01-01 20:13:18, 1970-01-01 20:16:10, 1970-01-01 20:16:36, 1970-01-01 20:16:37]"
            ]
          },
          "metadata": {
            "tags": []
          },
          "execution_count": 9
        }
      ]
    },
    {
      "cell_type": "markdown",
      "metadata": {
        "id": "FTAOqap6g1d3"
      },
      "source": [
        "Now let me resample to 15 min intervals."
      ]
    },
    {
      "cell_type": "code",
      "metadata": {
        "id": "bvvPVF8Gg6Dr"
      },
      "source": [
        "#df_15min = df.resample('15Min')\n",
        "#print(df_15min.head())"
      ],
      "execution_count": 10,
      "outputs": []
    },
    {
      "cell_type": "markdown",
      "metadata": {
        "id": "SQDjs1U0iaDa"
      },
      "source": [
        "Ok, after reading this [answer](https://stackoverflow.com/questions/39492004/how-to-convert-datetimeindexresampler-to-dataframe) I found that resample is often used with some sort of aggregation. I also looked at the [docs](https://pandas.pydata.org/docs/reference/api/pandas.DataFrame.resample.html) and it seems the case too."
      ]
    },
    {
      "cell_type": "code",
      "metadata": {
        "id": "WZ5tpS5ii4w2"
      },
      "source": [
        "#df_15min = df.resample('15Min').count()\n",
        "#print(df_15min.head())"
      ],
      "execution_count": 11,
      "outputs": []
    },
    {
      "cell_type": "markdown",
      "metadata": {
        "id": "hxbt2h0TjsTQ"
      },
      "source": [
        "I guess I need to already have a bin. "
      ]
    },
    {
      "cell_type": "code",
      "metadata": {
        "colab": {
          "base_uri": "https://localhost:8080/",
          "height": 373
        },
        "id": "kOVHtqY1jwnu",
        "outputId": "50ac312b-c1ca-4cca-82ab-ce2f1831583a"
      },
      "source": [
        "df['count'] = 1\n",
        "df.head(10)"
      ],
      "execution_count": 12,
      "outputs": [
        {
          "output_type": "execute_result",
          "data": {
            "text/html": [
              "<div>\n",
              "<style scoped>\n",
              "    .dataframe tbody tr th:only-of-type {\n",
              "        vertical-align: middle;\n",
              "    }\n",
              "\n",
              "    .dataframe tbody tr th {\n",
              "        vertical-align: top;\n",
              "    }\n",
              "\n",
              "    .dataframe thead th {\n",
              "        text-align: right;\n",
              "    }\n",
              "</style>\n",
              "<table border=\"1\" class=\"dataframe\">\n",
              "  <thead>\n",
              "    <tr style=\"text-align: right;\">\n",
              "      <th></th>\n",
              "      <th>count</th>\n",
              "    </tr>\n",
              "    <tr>\n",
              "      <th>login_time</th>\n",
              "      <th></th>\n",
              "    </tr>\n",
              "  </thead>\n",
              "  <tbody>\n",
              "    <tr>\n",
              "      <th>1970-01-01 20:12:16</th>\n",
              "      <td>1</td>\n",
              "    </tr>\n",
              "    <tr>\n",
              "      <th>1970-01-01 20:13:18</th>\n",
              "      <td>1</td>\n",
              "    </tr>\n",
              "    <tr>\n",
              "      <th>1970-01-01 20:16:10</th>\n",
              "      <td>1</td>\n",
              "    </tr>\n",
              "    <tr>\n",
              "      <th>1970-01-01 20:16:36</th>\n",
              "      <td>1</td>\n",
              "    </tr>\n",
              "    <tr>\n",
              "      <th>1970-01-01 20:16:37</th>\n",
              "      <td>1</td>\n",
              "    </tr>\n",
              "    <tr>\n",
              "      <th>1970-01-01 20:21:41</th>\n",
              "      <td>1</td>\n",
              "    </tr>\n",
              "    <tr>\n",
              "      <th>1970-01-01 20:26:05</th>\n",
              "      <td>1</td>\n",
              "    </tr>\n",
              "    <tr>\n",
              "      <th>1970-01-01 20:26:21</th>\n",
              "      <td>1</td>\n",
              "    </tr>\n",
              "    <tr>\n",
              "      <th>1970-01-01 20:31:03</th>\n",
              "      <td>1</td>\n",
              "    </tr>\n",
              "    <tr>\n",
              "      <th>1970-01-01 20:34:46</th>\n",
              "      <td>1</td>\n",
              "    </tr>\n",
              "  </tbody>\n",
              "</table>\n",
              "</div>"
            ],
            "text/plain": [
              "                     count\n",
              "login_time                \n",
              "1970-01-01 20:12:16      1\n",
              "1970-01-01 20:13:18      1\n",
              "1970-01-01 20:16:10      1\n",
              "1970-01-01 20:16:36      1\n",
              "1970-01-01 20:16:37      1\n",
              "1970-01-01 20:21:41      1\n",
              "1970-01-01 20:26:05      1\n",
              "1970-01-01 20:26:21      1\n",
              "1970-01-01 20:31:03      1\n",
              "1970-01-01 20:34:46      1"
            ]
          },
          "metadata": {
            "tags": []
          },
          "execution_count": 12
        }
      ]
    },
    {
      "cell_type": "code",
      "metadata": {
        "colab": {
          "base_uri": "https://localhost:8080/"
        },
        "id": "vebeHHjyj9_f",
        "outputId": "ac551635-9d4d-4962-c96d-605533b9046d"
      },
      "source": [
        "df_15min = df.resample('15Min').count()\n",
        "print(df_15min.head(10))"
      ],
      "execution_count": 13,
      "outputs": [
        {
          "output_type": "stream",
          "text": [
            "                     count\n",
            "login_time                \n",
            "1970-01-01 20:00:00      2\n",
            "1970-01-01 20:15:00      6\n",
            "1970-01-01 20:30:00      9\n",
            "1970-01-01 20:45:00      7\n",
            "1970-01-01 21:00:00      1\n",
            "1970-01-01 21:15:00      4\n",
            "1970-01-01 21:30:00      0\n",
            "1970-01-01 21:45:00      4\n",
            "1970-01-01 22:00:00      9\n",
            "1970-01-01 22:15:00      8\n"
          ],
          "name": "stdout"
        }
      ]
    },
    {
      "cell_type": "markdown",
      "metadata": {
        "id": "O4G9GqzSkS2M"
      },
      "source": [
        "Ok, now I understand. When it groups by 15 minute intervals, the counts represent the bins. So for example, the first entry has a count of 2 to account for the time slots inbetween 20:00hrs and 20:15hrs. "
      ]
    },
    {
      "cell_type": "code",
      "metadata": {
        "colab": {
          "base_uri": "https://localhost:8080/",
          "height": 529
        },
        "id": "1avSsR5anB7e",
        "outputId": "16d301c3-e68a-4840-c6a4-ae52f00dc89c"
      },
      "source": [
        "df_15min.plot(figsize = (20, 8), title = 'Number of Login Counts based on 15 minute Time Intervals')"
      ],
      "execution_count": 14,
      "outputs": [
        {
          "output_type": "execute_result",
          "data": {
            "text/plain": [
              "<matplotlib.axes._subplots.AxesSubplot at 0x7fdbc6d0f490>"
            ]
          },
          "metadata": {
            "tags": []
          },
          "execution_count": 14
        },
        {
          "output_type": "display_data",
          "data": {
            "image/png": "[encoded data removed]",
            "text/plain": [
              "<Figure size 1440x576 with 1 Axes>"
            ]
          },
          "metadata": {
            "tags": []
          }
        }
      ]
    },
    {
      "cell_type": "markdown",
      "metadata": {
        "id": "Uyqtr2dYnr-6"
      },
      "source": [
        "There are definitely peeks but it's hard to interpret based on the range. Let me do it again but on a daily cycle. "
      ]
    },
    {
      "cell_type": "code",
      "metadata": {
        "colab": {
          "base_uri": "https://localhost:8080/",
          "height": 641
        },
        "id": "b1b2VbHjoDHA",
        "outputId": "6d9ae186-53fb-489a-ec3f-212b4235eaf0"
      },
      "source": [
        "df_1d = df.resample('1D').count()\n",
        "print(df_1d.head())\n",
        "df_1d.plot(figsize = (20, 8), title = 'Number of Login Counts based on Daily Time Intervals')"
      ],
      "execution_count": 15,
      "outputs": [
        {
          "output_type": "stream",
          "text": [
            "            count\n",
            "login_time       \n",
            "1970-01-01    112\n",
            "1970-01-02    681\n",
            "1970-01-03    793\n",
            "1970-01-04    788\n",
            "1970-01-05    459\n"
          ],
          "name": "stdout"
        },
        {
          "output_type": "execute_result",
          "data": {
            "text/plain": [
              "<matplotlib.axes._subplots.AxesSubplot at 0x7fdbc6860e50>"
            ]
          },
          "metadata": {
            "tags": []
          },
          "execution_count": 15
        },
        {
          "output_type": "display_data",
          "data": {
            "image/png": "[encoded data removed]",
            "text/plain": [
              "<Figure size 1440x576 with 1 Axes>"
            ]
          },
          "metadata": {
            "tags": []
          }
        }
      ]
    },
    {
      "cell_type": "markdown",
      "metadata": {
        "id": "P5LsRUU5n_-k"
      },
      "source": [
        "There are defintely peeks approximtely every week? That is how I would interpret each little \"tick\" between the months. I'll resample weekly."
      ]
    },
    {
      "cell_type": "code",
      "metadata": {
        "colab": {
          "base_uri": "https://localhost:8080/",
          "height": 641
        },
        "id": "kXpWM0Rto7cR",
        "outputId": "dddd0089-b7cb-4a4a-b6c7-de1e62d71400"
      },
      "source": [
        "df_1w = df.resample('1W').count()\n",
        "print(df_1w.head())\n",
        "df_1w.plot(figsize = (20, 8), title = 'Number of Login Counts based on Weekly Time Intervals')"
      ],
      "execution_count": 16,
      "outputs": [
        {
          "output_type": "stream",
          "text": [
            "            count\n",
            "login_time       \n",
            "1970-01-04   2374\n",
            "1970-01-11   5217\n",
            "1970-01-18   5023\n",
            "1970-01-25   4751\n",
            "1970-02-01   4744\n"
          ],
          "name": "stdout"
        },
        {
          "output_type": "execute_result",
          "data": {
            "text/plain": [
              "<matplotlib.axes._subplots.AxesSubplot at 0x7fdbc67f6b50>"
            ]
          },
          "metadata": {
            "tags": []
          },
          "execution_count": 16
        },
        {
          "output_type": "display_data",
          "data": {
            "image/png": "[encoded data removed]",
            "text/plain": [
              "<Figure size 1440x576 with 1 Axes>"
            ]
          },
          "metadata": {
            "tags": []
          }
        }
      ]
    },
    {
      "cell_type": "markdown",
      "metadata": {
        "id": "Y374A4RJphyz"
      },
      "source": [
        "Interestingly, the login_time increased from January to about the middle of March. Unfortunately, it seemed the daily cycle showed more information."
      ]
    },
    {
      "cell_type": "markdown",
      "metadata": {
        "id": "w3mNVsMMqK5w"
      },
      "source": [
        "Conclusion:\n",
        "\n",
        "Grouping by 15 minute intervals showed some patterns but was indecipherable due to the range. I could see a trend when grouping based on a daily cycle. It seems that user logins peak once during the week. Last, when grouping using weekly cycles, there showed an increase in overall user logins through the middle of March before it declined considerably."
      ]
    },
    {
      "cell_type": "markdown",
      "metadata": {
        "id": "k7SNE_HJWFUt"
      },
      "source": [
        "---"
      ]
    },
    {
      "cell_type": "markdown",
      "metadata": {
        "id": "hvBXzYBRWGca"
      },
      "source": [
        "## Part 2 ‑ Experiment and metrics design\n",
        "\n",
        "The neighboring cities of Gotham and Metropolis have complementary circadian rhythms: on\n",
        "weekdays, Ultimate Gotham is most active at night, and Ultimate Metropolis is most active\n",
        "during the day. On weekends, there is reasonable activity in both cities.\n",
        "\n",
        "However, a toll bridge, with a two way\n",
        "toll, between the two cities causes driver partners to tend\n",
        "to be exclusive to each city. The Ultimate managers of city operations for the two cities have\n",
        "proposed an experiment to encourage driver partners to be available in both cities, by\n",
        "reimbursing all toll costs.\n",
        "\n",
        "1. What would you choose as the key measure of success of this experiment in\n",
        "encouraging driver partners to serve both cities, and why would you choose this metric?\n",
        "\n",
        " - I would first ask the managers what is success to them. Is it increased revenue, increased market-share, or even stimulating the economy. For example, would reimbursing tolls increase ridership for Gotham during the day, and vice versa for Metropolis? However, with the absence of this information, I would choose percentage of increased revenue during the experiment. It's a safe metric as all companies want to increase their revenue.\n",
        "\n",
        "2. Describe a practical experiment you would design to compare the effectiveness of the\n",
        "proposed change in relation to the key measure of success. Please provide details on:\n",
        " \n",
        " 1. how you will implement the experiment\n",
        "\n",
        "I would gather all the data prior to the experiment. I would want to know where the drivers live, ticket reimbursement total amount and count, times of the tolls, range of each trip, if the car stayed in the city after a trip or if they drove back to their original city, times of everything, and duration of trip (just to name a few of the important features).\n",
        "\n",
        "After, I would run the experiment for at least a month but preferably six months. The more data I collect the better I can judge the results. I would take into account this period of time compared to last year for comparison, and really try to control for other confounding factors such as festivals or car accidents. \n",
        "\n",
        " 2. what statistical test(s) you will conduct to verify the significance of the\n",
        "observation\n",
        "\n",
        "This is an A/B test of two hypotheses. The null hypothesis is reimbursing car tolls does not significantly increase Ultimate revenue. The alternate hypothesis is that reimbursing car tolls does significantly increase Ultimate revenue. I would compare the mean revenue for the period from last year to the mean revenue of the experiment for this year. As it is comparing two different means, I would perform a t-test for significance (p-value of 0.05). I would use a 95% confidence interval to reduce the probability that the results were due to chance.  \n",
        "\n",
        " 3. how you would interpret the results and provide recommendations to the city\n",
        "operations team along with any caveats.\n",
        "\n",
        "First, revenue is profit subracting the cost of reimbursing the tolls. Also, we would have to control for other confounding variables such as car accidents, festivals, etc. Also, we would have to adjust the data for inflation, ride prices, and any drastic changes to the company's structure. For example, maybe last year revenue was higher due to company lay-offs. \n",
        "\n",
        "Also, I would look out for any trends. Maybe, profit was highest during the weekend and low during the weekdays. This could be an indication that reimbursing ticket prices would be best only the weekend. Furthermore, I would pay attention to driver's morale as increasing the commute might increase driver turn-over which hurts revenue. \n",
        "\n",
        "Accounting for all these variables, I would present the percent mean difference of the experiment and tell them if it's potentially worth reimbursing ticket prices. "
      ]
    },
    {
      "cell_type": "markdown",
      "metadata": {
        "id": "pifyMaliWwrj"
      },
      "source": [
        "---"
      ]
    },
    {
      "cell_type": "markdown",
      "metadata": {
        "id": "F0Rh1iv3WxqM"
      },
      "source": [
        "## Part 3 ‑ Predictive modeling\n",
        "\n",
        "Ultimate is interested in predicting rider retention. To help explore this question, we have\n",
        "provided a sample dataset of a cohort of users who signed up for an Ultimate account in\n",
        "January 2014. The data was pulled several months later; we consider a user retained if they\n",
        "were “active” (i.e. took a trip) in the preceding 30 days.\n",
        "\n",
        "We would like you to use this data set to help understand what factors are the best predictors\n",
        "for retention, and offer suggestions to operationalize those insights to help Ultimate.\n",
        "\n",
        "The data is in the attached file ultimate_data_challenge.json. See below for a detailed\n",
        "description of the dataset. Please include any code you wrote for the analysis and delete the\n",
        "dataset when you have finished with the challenge.\n",
        "\n",
        "1. Perform any cleaning, exploratory analysis, and/or visualizations to use the provided\n",
        "data for this analysis (a few sentences/plots describing your approach will suffice). What\n",
        "fraction of the observed users were retained?\n",
        "\n",
        "2. Build a predictive model to help Ultimate determine whether or not a user will be active\n",
        "in their 6th month on the system. Discuss why you chose your approach, what\n",
        "alternatives you considered, and any concerns you have. How valid is your model?\n",
        "Include any key indicators of model performance.\n",
        "\n",
        "3. Briefly discuss how Ultimate might leverage the insights gained from the model to\n",
        "improve its longterm\n",
        "rider retention (again, a few sentences will suffice).\n",
        "\n",
        "```\n",
        "Data description\n",
        "● city: city this user signed up in\n",
        "● phone: primary device for this user\n",
        "● signup_date: date of account registration; in the form ‘YYYY MM DD’\n",
        "● last_trip_date: the last time this user completed a trip; in the form ‘YYYY MM DD’\n",
        "● avg_dist: the average distance in miles per trip taken in the first 30 days after signup\n",
        "● avg_rating_by_driver: the rider’s average rating over all of their trips\n",
        "● avg_rating_of_driver: the rider’s average rating of their drivers over all of their trips\n",
        "● surge_pct: the percent of trips taken with surge multiplier > 1\n",
        "● avg_surge: The average surge multiplier over all of this user’s trips\n",
        "● trips_in_first_30_days: the number of trips this user took in the first 30 days after\n",
        "signing up\n",
        "● ultimate_black_user: TRUE if the user took an Ultimate Black in their first 30 days;\n",
        "FALSE otherwise\n",
        "● weekday_pct: the percent of the user’s trips occurring during a weekday\n",
        "```"
      ]
    },
    {
      "cell_type": "markdown",
      "metadata": {
        "id": "vfmOeIHK-fWF"
      },
      "source": [
        "1. Perform any cleaning, exploratory analysis, and/or visualizations to use the provided\n",
        "data for this analysis (a few sentences/plots describing your approach will suffice). What\n",
        "fraction of the observed users were retained?"
      ]
    },
    {
      "cell_type": "code",
      "metadata": {
        "colab": {
          "base_uri": "https://localhost:8080/",
          "height": 249
        },
        "id": "qGWQq9HH-qel",
        "outputId": "1175c0fd-c0b6-4eb4-f3e5-5cb4b76539a2"
      },
      "source": [
        "df = pd.read_json('https://raw.githubusercontent.com/villafue/Progamming/main/Coding%20Interview/Take%20Home/Springboard/Unit%2027.2/ultimate_challenge/ultimate_data_challenge.json')\n",
        "df.head()"
      ],
      "execution_count": 17,
      "outputs": [
        {
          "output_type": "execute_result",
          "data": {
            "text/html": [
              "<div>\n",
              "<style scoped>\n",
              "    .dataframe tbody tr th:only-of-type {\n",
              "        vertical-align: middle;\n",
              "    }\n",
              "\n",
              "    .dataframe tbody tr th {\n",
              "        vertical-align: top;\n",
              "    }\n",
              "\n",
              "    .dataframe thead th {\n",
              "        text-align: right;\n",
              "    }\n",
              "</style>\n",
              "<table border=\"1\" class=\"dataframe\">\n",
              "  <thead>\n",
              "    <tr style=\"text-align: right;\">\n",
              "      <th></th>\n",
              "      <th>city</th>\n",
              "      <th>trips_in_first_30_days</th>\n",
              "      <th>signup_date</th>\n",
              "      <th>avg_rating_of_driver</th>\n",
              "      <th>avg_surge</th>\n",
              "      <th>last_trip_date</th>\n",
              "      <th>phone</th>\n",
              "      <th>surge_pct</th>\n",
              "      <th>ultimate_black_user</th>\n",
              "      <th>weekday_pct</th>\n",
              "      <th>avg_dist</th>\n",
              "      <th>avg_rating_by_driver</th>\n",
              "    </tr>\n",
              "  </thead>\n",
              "  <tbody>\n",
              "    <tr>\n",
              "      <th>0</th>\n",
              "      <td>King's Landing</td>\n",
              "      <td>4</td>\n",
              "      <td>2014-01-25</td>\n",
              "      <td>4.7</td>\n",
              "      <td>1.10</td>\n",
              "      <td>2014-06-17</td>\n",
              "      <td>iPhone</td>\n",
              "      <td>15.4</td>\n",
              "      <td>True</td>\n",
              "      <td>46.2</td>\n",
              "      <td>3.67</td>\n",
              "      <td>5.0</td>\n",
              "    </tr>\n",
              "    <tr>\n",
              "      <th>1</th>\n",
              "      <td>Astapor</td>\n",
              "      <td>0</td>\n",
              "      <td>2014-01-29</td>\n",
              "      <td>5.0</td>\n",
              "      <td>1.00</td>\n",
              "      <td>2014-05-05</td>\n",
              "      <td>Android</td>\n",
              "      <td>0.0</td>\n",
              "      <td>False</td>\n",
              "      <td>50.0</td>\n",
              "      <td>8.26</td>\n",
              "      <td>5.0</td>\n",
              "    </tr>\n",
              "    <tr>\n",
              "      <th>2</th>\n",
              "      <td>Astapor</td>\n",
              "      <td>3</td>\n",
              "      <td>2014-01-06</td>\n",
              "      <td>4.3</td>\n",
              "      <td>1.00</td>\n",
              "      <td>2014-01-07</td>\n",
              "      <td>iPhone</td>\n",
              "      <td>0.0</td>\n",
              "      <td>False</td>\n",
              "      <td>100.0</td>\n",
              "      <td>0.77</td>\n",
              "      <td>5.0</td>\n",
              "    </tr>\n",
              "    <tr>\n",
              "      <th>3</th>\n",
              "      <td>King's Landing</td>\n",
              "      <td>9</td>\n",
              "      <td>2014-01-10</td>\n",
              "      <td>4.6</td>\n",
              "      <td>1.14</td>\n",
              "      <td>2014-06-29</td>\n",
              "      <td>iPhone</td>\n",
              "      <td>20.0</td>\n",
              "      <td>True</td>\n",
              "      <td>80.0</td>\n",
              "      <td>2.36</td>\n",
              "      <td>4.9</td>\n",
              "    </tr>\n",
              "    <tr>\n",
              "      <th>4</th>\n",
              "      <td>Winterfell</td>\n",
              "      <td>14</td>\n",
              "      <td>2014-01-27</td>\n",
              "      <td>4.4</td>\n",
              "      <td>1.19</td>\n",
              "      <td>2014-03-15</td>\n",
              "      <td>Android</td>\n",
              "      <td>11.8</td>\n",
              "      <td>False</td>\n",
              "      <td>82.4</td>\n",
              "      <td>3.13</td>\n",
              "      <td>4.9</td>\n",
              "    </tr>\n",
              "  </tbody>\n",
              "</table>\n",
              "</div>"
            ],
            "text/plain": [
              "             city  trips_in_first_30_days signup_date  avg_rating_of_driver  \\\n",
              "0  King's Landing                       4  2014-01-25                   4.7   \n",
              "1         Astapor                       0  2014-01-29                   5.0   \n",
              "2         Astapor                       3  2014-01-06                   4.3   \n",
              "3  King's Landing                       9  2014-01-10                   4.6   \n",
              "4      Winterfell                      14  2014-01-27                   4.4   \n",
              "\n",
              "   avg_surge last_trip_date    phone  surge_pct  ultimate_black_user  \\\n",
              "0       1.10     2014-06-17   iPhone       15.4                 True   \n",
              "1       1.00     2014-05-05  Android        0.0                False   \n",
              "2       1.00     2014-01-07   iPhone        0.0                False   \n",
              "3       1.14     2014-06-29   iPhone       20.0                 True   \n",
              "4       1.19     2014-03-15  Android       11.8                False   \n",
              "\n",
              "   weekday_pct  avg_dist  avg_rating_by_driver  \n",
              "0         46.2      3.67                   5.0  \n",
              "1         50.0      8.26                   5.0  \n",
              "2        100.0      0.77                   5.0  \n",
              "3         80.0      2.36                   4.9  \n",
              "4         82.4      3.13                   4.9  "
            ]
          },
          "metadata": {
            "tags": []
          },
          "execution_count": 17
        }
      ]
    },
    {
      "cell_type": "code",
      "metadata": {
        "colab": {
          "base_uri": "https://localhost:8080/"
        },
        "id": "kj4VFoCc_Q8p",
        "outputId": "a9e6299e-b79d-417c-d614-ce6a772f9301"
      },
      "source": [
        "df.info()"
      ],
      "execution_count": 18,
      "outputs": [
        {
          "output_type": "stream",
          "text": [
            "<class 'pandas.core.frame.DataFrame'>\n",
            "RangeIndex: 50000 entries, 0 to 49999\n",
            "Data columns (total 12 columns):\n",
            " #   Column                  Non-Null Count  Dtype  \n",
            "---  ------                  --------------  -----  \n",
            " 0   city                    50000 non-null  object \n",
            " 1   trips_in_first_30_days  50000 non-null  int64  \n",
            " 2   signup_date             50000 non-null  object \n",
            " 3   avg_rating_of_driver    41878 non-null  float64\n",
            " 4   avg_surge               50000 non-null  float64\n",
            " 5   last_trip_date          50000 non-null  object \n",
            " 6   phone                   49604 non-null  object \n",
            " 7   surge_pct               50000 non-null  float64\n",
            " 8   ultimate_black_user     50000 non-null  bool   \n",
            " 9   weekday_pct             50000 non-null  float64\n",
            " 10  avg_dist                50000 non-null  float64\n",
            " 11  avg_rating_by_driver    49799 non-null  float64\n",
            "dtypes: bool(1), float64(6), int64(1), object(4)\n",
            "memory usage: 4.2+ MB\n"
          ],
          "name": "stdout"
        }
      ]
    },
    {
      "cell_type": "markdown",
      "metadata": {
        "id": "ldb3B6sD_Wms"
      },
      "source": [
        "There are a few null values especially in the 'avg_rating_of_driver' column. "
      ]
    },
    {
      "cell_type": "code",
      "metadata": {
        "colab": {
          "base_uri": "https://localhost:8080/",
          "height": 254
        },
        "id": "kttqvFkd_1nR",
        "outputId": "9b840848-b003-4bbd-ea5e-aa5f339702d2"
      },
      "source": [
        "df.describe().T"
      ],
      "execution_count": 19,
      "outputs": [
        {
          "output_type": "execute_result",
          "data": {
            "text/html": [
              "<div>\n",
              "<style scoped>\n",
              "    .dataframe tbody tr th:only-of-type {\n",
              "        vertical-align: middle;\n",
              "    }\n",
              "\n",
              "    .dataframe tbody tr th {\n",
              "        vertical-align: top;\n",
              "    }\n",
              "\n",
              "    .dataframe thead th {\n",
              "        text-align: right;\n",
              "    }\n",
              "</style>\n",
              "<table border=\"1\" class=\"dataframe\">\n",
              "  <thead>\n",
              "    <tr style=\"text-align: right;\">\n",
              "      <th></th>\n",
              "      <th>count</th>\n",
              "      <th>mean</th>\n",
              "      <th>std</th>\n",
              "      <th>min</th>\n",
              "      <th>25%</th>\n",
              "      <th>50%</th>\n",
              "      <th>75%</th>\n",
              "      <th>max</th>\n",
              "    </tr>\n",
              "  </thead>\n",
              "  <tbody>\n",
              "    <tr>\n",
              "      <th>trips_in_first_30_days</th>\n",
              "      <td>50000.0</td>\n",
              "      <td>2.278200</td>\n",
              "      <td>3.792684</td>\n",
              "      <td>0.0</td>\n",
              "      <td>0.00</td>\n",
              "      <td>1.00</td>\n",
              "      <td>3.00</td>\n",
              "      <td>125.00</td>\n",
              "    </tr>\n",
              "    <tr>\n",
              "      <th>avg_rating_of_driver</th>\n",
              "      <td>41878.0</td>\n",
              "      <td>4.601559</td>\n",
              "      <td>0.617338</td>\n",
              "      <td>1.0</td>\n",
              "      <td>4.30</td>\n",
              "      <td>4.90</td>\n",
              "      <td>5.00</td>\n",
              "      <td>5.00</td>\n",
              "    </tr>\n",
              "    <tr>\n",
              "      <th>avg_surge</th>\n",
              "      <td>50000.0</td>\n",
              "      <td>1.074764</td>\n",
              "      <td>0.222336</td>\n",
              "      <td>1.0</td>\n",
              "      <td>1.00</td>\n",
              "      <td>1.00</td>\n",
              "      <td>1.05</td>\n",
              "      <td>8.00</td>\n",
              "    </tr>\n",
              "    <tr>\n",
              "      <th>surge_pct</th>\n",
              "      <td>50000.0</td>\n",
              "      <td>8.849536</td>\n",
              "      <td>19.958811</td>\n",
              "      <td>0.0</td>\n",
              "      <td>0.00</td>\n",
              "      <td>0.00</td>\n",
              "      <td>8.60</td>\n",
              "      <td>100.00</td>\n",
              "    </tr>\n",
              "    <tr>\n",
              "      <th>weekday_pct</th>\n",
              "      <td>50000.0</td>\n",
              "      <td>60.926084</td>\n",
              "      <td>37.081503</td>\n",
              "      <td>0.0</td>\n",
              "      <td>33.30</td>\n",
              "      <td>66.70</td>\n",
              "      <td>100.00</td>\n",
              "      <td>100.00</td>\n",
              "    </tr>\n",
              "    <tr>\n",
              "      <th>avg_dist</th>\n",
              "      <td>50000.0</td>\n",
              "      <td>5.796827</td>\n",
              "      <td>5.707357</td>\n",
              "      <td>0.0</td>\n",
              "      <td>2.42</td>\n",
              "      <td>3.88</td>\n",
              "      <td>6.94</td>\n",
              "      <td>160.96</td>\n",
              "    </tr>\n",
              "    <tr>\n",
              "      <th>avg_rating_by_driver</th>\n",
              "      <td>49799.0</td>\n",
              "      <td>4.778158</td>\n",
              "      <td>0.446652</td>\n",
              "      <td>1.0</td>\n",
              "      <td>4.70</td>\n",
              "      <td>5.00</td>\n",
              "      <td>5.00</td>\n",
              "      <td>5.00</td>\n",
              "    </tr>\n",
              "  </tbody>\n",
              "</table>\n",
              "</div>"
            ],
            "text/plain": [
              "                          count       mean        std  min    25%    50%  \\\n",
              "trips_in_first_30_days  50000.0   2.278200   3.792684  0.0   0.00   1.00   \n",
              "avg_rating_of_driver    41878.0   4.601559   0.617338  1.0   4.30   4.90   \n",
              "avg_surge               50000.0   1.074764   0.222336  1.0   1.00   1.00   \n",
              "surge_pct               50000.0   8.849536  19.958811  0.0   0.00   0.00   \n",
              "weekday_pct             50000.0  60.926084  37.081503  0.0  33.30  66.70   \n",
              "avg_dist                50000.0   5.796827   5.707357  0.0   2.42   3.88   \n",
              "avg_rating_by_driver    49799.0   4.778158   0.446652  1.0   4.70   5.00   \n",
              "\n",
              "                           75%     max  \n",
              "trips_in_first_30_days    3.00  125.00  \n",
              "avg_rating_of_driver      5.00    5.00  \n",
              "avg_surge                 1.05    8.00  \n",
              "surge_pct                 8.60  100.00  \n",
              "weekday_pct             100.00  100.00  \n",
              "avg_dist                  6.94  160.96  \n",
              "avg_rating_by_driver      5.00    5.00  "
            ]
          },
          "metadata": {
            "tags": []
          },
          "execution_count": 19
        }
      ]
    },
    {
      "cell_type": "markdown",
      "metadata": {
        "id": "CJ_ZLebPB0kZ"
      },
      "source": [
        "Two of these columns are actually supposed to be datetime objects. Let me change that. "
      ]
    },
    {
      "cell_type": "code",
      "metadata": {
        "colab": {
          "base_uri": "https://localhost:8080/"
        },
        "id": "BZYAyIypCC8P",
        "outputId": "fc506f8f-c322-406c-f381-e35f4f9301c9"
      },
      "source": [
        "df['last_trip_date'] = pd.to_datetime(df['last_trip_date'])\n",
        "df['signup_date'] = pd.to_datetime(df['signup_date'])\n",
        "print(df.info())"
      ],
      "execution_count": 20,
      "outputs": [
        {
          "output_type": "stream",
          "text": [
            "<class 'pandas.core.frame.DataFrame'>\n",
            "RangeIndex: 50000 entries, 0 to 49999\n",
            "Data columns (total 12 columns):\n",
            " #   Column                  Non-Null Count  Dtype         \n",
            "---  ------                  --------------  -----         \n",
            " 0   city                    50000 non-null  object        \n",
            " 1   trips_in_first_30_days  50000 non-null  int64         \n",
            " 2   signup_date             50000 non-null  datetime64[ns]\n",
            " 3   avg_rating_of_driver    41878 non-null  float64       \n",
            " 4   avg_surge               50000 non-null  float64       \n",
            " 5   last_trip_date          50000 non-null  datetime64[ns]\n",
            " 6   phone                   49604 non-null  object        \n",
            " 7   surge_pct               50000 non-null  float64       \n",
            " 8   ultimate_black_user     50000 non-null  bool          \n",
            " 9   weekday_pct             50000 non-null  float64       \n",
            " 10  avg_dist                50000 non-null  float64       \n",
            " 11  avg_rating_by_driver    49799 non-null  float64       \n",
            "dtypes: bool(1), datetime64[ns](2), float64(6), int64(1), object(2)\n",
            "memory usage: 4.2+ MB\n",
            "None\n"
          ],
          "name": "stdout"
        }
      ]
    },
    {
      "cell_type": "code",
      "metadata": {
        "colab": {
          "base_uri": "https://localhost:8080/",
          "height": 304
        },
        "id": "XYfeKxUVJcTv",
        "outputId": "24c99cdc-00c0-4852-e9d6-d59bfa9a7d34"
      },
      "source": [
        "duplicateRowsDF = df[df.duplicated()]\n",
        "duplicateRowsDF"
      ],
      "execution_count": 21,
      "outputs": [
        {
          "output_type": "execute_result",
          "data": {
            "text/html": [
              "<div>\n",
              "<style scoped>\n",
              "    .dataframe tbody tr th:only-of-type {\n",
              "        vertical-align: middle;\n",
              "    }\n",
              "\n",
              "    .dataframe tbody tr th {\n",
              "        vertical-align: top;\n",
              "    }\n",
              "\n",
              "    .dataframe thead th {\n",
              "        text-align: right;\n",
              "    }\n",
              "</style>\n",
              "<table border=\"1\" class=\"dataframe\">\n",
              "  <thead>\n",
              "    <tr style=\"text-align: right;\">\n",
              "      <th></th>\n",
              "      <th>city</th>\n",
              "      <th>trips_in_first_30_days</th>\n",
              "      <th>signup_date</th>\n",
              "      <th>avg_rating_of_driver</th>\n",
              "      <th>avg_surge</th>\n",
              "      <th>last_trip_date</th>\n",
              "      <th>phone</th>\n",
              "      <th>surge_pct</th>\n",
              "      <th>ultimate_black_user</th>\n",
              "      <th>weekday_pct</th>\n",
              "      <th>avg_dist</th>\n",
              "      <th>avg_rating_by_driver</th>\n",
              "    </tr>\n",
              "  </thead>\n",
              "  <tbody>\n",
              "    <tr>\n",
              "      <th>2608</th>\n",
              "      <td>Astapor</td>\n",
              "      <td>1</td>\n",
              "      <td>2014-01-18</td>\n",
              "      <td>5.0</td>\n",
              "      <td>1.0</td>\n",
              "      <td>2014-01-19</td>\n",
              "      <td>iPhone</td>\n",
              "      <td>0.0</td>\n",
              "      <td>True</td>\n",
              "      <td>0.0</td>\n",
              "      <td>6.25</td>\n",
              "      <td>5.0</td>\n",
              "    </tr>\n",
              "    <tr>\n",
              "      <th>18057</th>\n",
              "      <td>Astapor</td>\n",
              "      <td>1</td>\n",
              "      <td>2014-01-11</td>\n",
              "      <td>5.0</td>\n",
              "      <td>1.0</td>\n",
              "      <td>2014-01-11</td>\n",
              "      <td>iPhone</td>\n",
              "      <td>0.0</td>\n",
              "      <td>True</td>\n",
              "      <td>0.0</td>\n",
              "      <td>2.33</td>\n",
              "      <td>5.0</td>\n",
              "    </tr>\n",
              "    <tr>\n",
              "      <th>29601</th>\n",
              "      <td>Winterfell</td>\n",
              "      <td>1</td>\n",
              "      <td>2014-01-01</td>\n",
              "      <td>NaN</td>\n",
              "      <td>1.0</td>\n",
              "      <td>2014-01-02</td>\n",
              "      <td>Android</td>\n",
              "      <td>0.0</td>\n",
              "      <td>False</td>\n",
              "      <td>100.0</td>\n",
              "      <td>8.08</td>\n",
              "      <td>5.0</td>\n",
              "    </tr>\n",
              "    <tr>\n",
              "      <th>34641</th>\n",
              "      <td>Winterfell</td>\n",
              "      <td>1</td>\n",
              "      <td>2014-01-18</td>\n",
              "      <td>NaN</td>\n",
              "      <td>1.0</td>\n",
              "      <td>2014-01-19</td>\n",
              "      <td>iPhone</td>\n",
              "      <td>0.0</td>\n",
              "      <td>True</td>\n",
              "      <td>0.0</td>\n",
              "      <td>1.44</td>\n",
              "      <td>5.0</td>\n",
              "    </tr>\n",
              "    <tr>\n",
              "      <th>36627</th>\n",
              "      <td>Winterfell</td>\n",
              "      <td>1</td>\n",
              "      <td>2014-01-18</td>\n",
              "      <td>5.0</td>\n",
              "      <td>1.0</td>\n",
              "      <td>2014-01-19</td>\n",
              "      <td>Android</td>\n",
              "      <td>0.0</td>\n",
              "      <td>False</td>\n",
              "      <td>0.0</td>\n",
              "      <td>3.54</td>\n",
              "      <td>5.0</td>\n",
              "    </tr>\n",
              "    <tr>\n",
              "      <th>39601</th>\n",
              "      <td>Winterfell</td>\n",
              "      <td>1</td>\n",
              "      <td>2014-01-10</td>\n",
              "      <td>5.0</td>\n",
              "      <td>1.0</td>\n",
              "      <td>2014-01-11</td>\n",
              "      <td>Android</td>\n",
              "      <td>0.0</td>\n",
              "      <td>False</td>\n",
              "      <td>100.0</td>\n",
              "      <td>0.00</td>\n",
              "      <td>5.0</td>\n",
              "    </tr>\n",
              "    <tr>\n",
              "      <th>42025</th>\n",
              "      <td>Winterfell</td>\n",
              "      <td>1</td>\n",
              "      <td>2014-01-18</td>\n",
              "      <td>NaN</td>\n",
              "      <td>1.0</td>\n",
              "      <td>2014-01-19</td>\n",
              "      <td>Android</td>\n",
              "      <td>0.0</td>\n",
              "      <td>False</td>\n",
              "      <td>0.0</td>\n",
              "      <td>0.01</td>\n",
              "      <td>5.0</td>\n",
              "    </tr>\n",
              "    <tr>\n",
              "      <th>45416</th>\n",
              "      <td>Astapor</td>\n",
              "      <td>1</td>\n",
              "      <td>2014-01-20</td>\n",
              "      <td>5.0</td>\n",
              "      <td>1.0</td>\n",
              "      <td>2014-01-20</td>\n",
              "      <td>iPhone</td>\n",
              "      <td>0.0</td>\n",
              "      <td>False</td>\n",
              "      <td>100.0</td>\n",
              "      <td>3.06</td>\n",
              "      <td>5.0</td>\n",
              "    </tr>\n",
              "  </tbody>\n",
              "</table>\n",
              "</div>"
            ],
            "text/plain": [
              "             city  trips_in_first_30_days signup_date  avg_rating_of_driver  \\\n",
              "2608      Astapor                       1  2014-01-18                   5.0   \n",
              "18057     Astapor                       1  2014-01-11                   5.0   \n",
              "29601  Winterfell                       1  2014-01-01                   NaN   \n",
              "34641  Winterfell                       1  2014-01-18                   NaN   \n",
              "36627  Winterfell                       1  2014-01-18                   5.0   \n",
              "39601  Winterfell                       1  2014-01-10                   5.0   \n",
              "42025  Winterfell                       1  2014-01-18                   NaN   \n",
              "45416     Astapor                       1  2014-01-20                   5.0   \n",
              "\n",
              "       avg_surge last_trip_date    phone  surge_pct  ultimate_black_user  \\\n",
              "2608         1.0     2014-01-19   iPhone        0.0                 True   \n",
              "18057        1.0     2014-01-11   iPhone        0.0                 True   \n",
              "29601        1.0     2014-01-02  Android        0.0                False   \n",
              "34641        1.0     2014-01-19   iPhone        0.0                 True   \n",
              "36627        1.0     2014-01-19  Android        0.0                False   \n",
              "39601        1.0     2014-01-11  Android        0.0                False   \n",
              "42025        1.0     2014-01-19  Android        0.0                False   \n",
              "45416        1.0     2014-01-20   iPhone        0.0                False   \n",
              "\n",
              "       weekday_pct  avg_dist  avg_rating_by_driver  \n",
              "2608           0.0      6.25                   5.0  \n",
              "18057          0.0      2.33                   5.0  \n",
              "29601        100.0      8.08                   5.0  \n",
              "34641          0.0      1.44                   5.0  \n",
              "36627          0.0      3.54                   5.0  \n",
              "39601        100.0      0.00                   5.0  \n",
              "42025          0.0      0.01                   5.0  \n",
              "45416        100.0      3.06                   5.0  "
            ]
          },
          "metadata": {
            "tags": []
          },
          "execution_count": 21
        }
      ]
    },
    {
      "cell_type": "markdown",
      "metadata": {
        "id": "laiFrAa1LRmZ"
      },
      "source": [
        "The algorithm identified 8 rows but they're not duplicates. This is fine."
      ]
    },
    {
      "cell_type": "markdown",
      "metadata": {
        "id": "wvbkA8ZFDZwM"
      },
      "source": [
        "Now I want to see what percentage of users took a trip in the last 30 days. "
      ]
    },
    {
      "cell_type": "code",
      "metadata": {
        "colab": {
          "base_uri": "https://localhost:8080/"
        },
        "id": "080RyvZVCsim",
        "outputId": "a1a0b2e9-0dd0-4b15-9528-b57a7d808741"
      },
      "source": [
        "print(max(df['last_trip_date']))"
      ],
      "execution_count": 22,
      "outputs": [
        {
          "output_type": "stream",
          "text": [
            "2014-07-01 00:00:00\n"
          ],
          "name": "stdout"
        }
      ]
    },
    {
      "cell_type": "markdown",
      "metadata": {
        "id": "NKojoVcRD3PS"
      },
      "source": [
        "The very last date was July 1 of 2014 and I will subtract 30 days from that. "
      ]
    },
    {
      "cell_type": "code",
      "metadata": {
        "colab": {
          "base_uri": "https://localhost:8080/"
        },
        "id": "cI4F-BESECw9",
        "outputId": "afa90645-ab35-480c-995d-030692aa98b9"
      },
      "source": [
        "last_month = max(df['last_trip_date']) - pd.Timedelta('30 days')\n",
        "print(last_month)"
      ],
      "execution_count": 23,
      "outputs": [
        {
          "output_type": "stream",
          "text": [
            "2014-06-01 00:00:00\n"
          ],
          "name": "stdout"
        }
      ]
    },
    {
      "cell_type": "markdown",
      "metadata": {
        "id": "dXmtwtqKEcGi"
      },
      "source": [
        "Anyone who gave a ride in the last 30 days is considered \"retained.\""
      ]
    },
    {
      "cell_type": "code",
      "metadata": {
        "colab": {
          "base_uri": "https://localhost:8080/",
          "height": 249
        },
        "id": "k_0kavOgEk0C",
        "outputId": "1718cda1-06ef-422e-9536-2b8d2383f75f"
      },
      "source": [
        "df['retained'] = df['last_trip_date'] > last_month\n",
        "df.head()"
      ],
      "execution_count": 24,
      "outputs": [
        {
          "output_type": "execute_result",
          "data": {
            "text/html": [
              "<div>\n",
              "<style scoped>\n",
              "    .dataframe tbody tr th:only-of-type {\n",
              "        vertical-align: middle;\n",
              "    }\n",
              "\n",
              "    .dataframe tbody tr th {\n",
              "        vertical-align: top;\n",
              "    }\n",
              "\n",
              "    .dataframe thead th {\n",
              "        text-align: right;\n",
              "    }\n",
              "</style>\n",
              "<table border=\"1\" class=\"dataframe\">\n",
              "  <thead>\n",
              "    <tr style=\"text-align: right;\">\n",
              "      <th></th>\n",
              "      <th>city</th>\n",
              "      <th>trips_in_first_30_days</th>\n",
              "      <th>signup_date</th>\n",
              "      <th>avg_rating_of_driver</th>\n",
              "      <th>avg_surge</th>\n",
              "      <th>last_trip_date</th>\n",
              "      <th>phone</th>\n",
              "      <th>surge_pct</th>\n",
              "      <th>ultimate_black_user</th>\n",
              "      <th>weekday_pct</th>\n",
              "      <th>avg_dist</th>\n",
              "      <th>avg_rating_by_driver</th>\n",
              "      <th>retained</th>\n",
              "    </tr>\n",
              "  </thead>\n",
              "  <tbody>\n",
              "    <tr>\n",
              "      <th>0</th>\n",
              "      <td>King's Landing</td>\n",
              "      <td>4</td>\n",
              "      <td>2014-01-25</td>\n",
              "      <td>4.7</td>\n",
              "      <td>1.10</td>\n",
              "      <td>2014-06-17</td>\n",
              "      <td>iPhone</td>\n",
              "      <td>15.4</td>\n",
              "      <td>True</td>\n",
              "      <td>46.2</td>\n",
              "      <td>3.67</td>\n",
              "      <td>5.0</td>\n",
              "      <td>True</td>\n",
              "    </tr>\n",
              "    <tr>\n",
              "      <th>1</th>\n",
              "      <td>Astapor</td>\n",
              "      <td>0</td>\n",
              "      <td>2014-01-29</td>\n",
              "      <td>5.0</td>\n",
              "      <td>1.00</td>\n",
              "      <td>2014-05-05</td>\n",
              "      <td>Android</td>\n",
              "      <td>0.0</td>\n",
              "      <td>False</td>\n",
              "      <td>50.0</td>\n",
              "      <td>8.26</td>\n",
              "      <td>5.0</td>\n",
              "      <td>False</td>\n",
              "    </tr>\n",
              "    <tr>\n",
              "      <th>2</th>\n",
              "      <td>Astapor</td>\n",
              "      <td>3</td>\n",
              "      <td>2014-01-06</td>\n",
              "      <td>4.3</td>\n",
              "      <td>1.00</td>\n",
              "      <td>2014-01-07</td>\n",
              "      <td>iPhone</td>\n",
              "      <td>0.0</td>\n",
              "      <td>False</td>\n",
              "      <td>100.0</td>\n",
              "      <td>0.77</td>\n",
              "      <td>5.0</td>\n",
              "      <td>False</td>\n",
              "    </tr>\n",
              "    <tr>\n",
              "      <th>3</th>\n",
              "      <td>King's Landing</td>\n",
              "      <td>9</td>\n",
              "      <td>2014-01-10</td>\n",
              "      <td>4.6</td>\n",
              "      <td>1.14</td>\n",
              "      <td>2014-06-29</td>\n",
              "      <td>iPhone</td>\n",
              "      <td>20.0</td>\n",
              "      <td>True</td>\n",
              "      <td>80.0</td>\n",
              "      <td>2.36</td>\n",
              "      <td>4.9</td>\n",
              "      <td>True</td>\n",
              "    </tr>\n",
              "    <tr>\n",
              "      <th>4</th>\n",
              "      <td>Winterfell</td>\n",
              "      <td>14</td>\n",
              "      <td>2014-01-27</td>\n",
              "      <td>4.4</td>\n",
              "      <td>1.19</td>\n",
              "      <td>2014-03-15</td>\n",
              "      <td>Android</td>\n",
              "      <td>11.8</td>\n",
              "      <td>False</td>\n",
              "      <td>82.4</td>\n",
              "      <td>3.13</td>\n",
              "      <td>4.9</td>\n",
              "      <td>False</td>\n",
              "    </tr>\n",
              "  </tbody>\n",
              "</table>\n",
              "</div>"
            ],
            "text/plain": [
              "             city  trips_in_first_30_days signup_date  avg_rating_of_driver  \\\n",
              "0  King's Landing                       4  2014-01-25                   4.7   \n",
              "1         Astapor                       0  2014-01-29                   5.0   \n",
              "2         Astapor                       3  2014-01-06                   4.3   \n",
              "3  King's Landing                       9  2014-01-10                   4.6   \n",
              "4      Winterfell                      14  2014-01-27                   4.4   \n",
              "\n",
              "   avg_surge last_trip_date    phone  surge_pct  ultimate_black_user  \\\n",
              "0       1.10     2014-06-17   iPhone       15.4                 True   \n",
              "1       1.00     2014-05-05  Android        0.0                False   \n",
              "2       1.00     2014-01-07   iPhone        0.0                False   \n",
              "3       1.14     2014-06-29   iPhone       20.0                 True   \n",
              "4       1.19     2014-03-15  Android       11.8                False   \n",
              "\n",
              "   weekday_pct  avg_dist  avg_rating_by_driver  retained  \n",
              "0         46.2      3.67                   5.0      True  \n",
              "1         50.0      8.26                   5.0     False  \n",
              "2        100.0      0.77                   5.0     False  \n",
              "3         80.0      2.36                   4.9      True  \n",
              "4         82.4      3.13                   4.9     False  "
            ]
          },
          "metadata": {
            "tags": []
          },
          "execution_count": 24
        }
      ]
    },
    {
      "cell_type": "code",
      "metadata": {
        "colab": {
          "base_uri": "https://localhost:8080/"
        },
        "id": "wSaNtWIMFAua",
        "outputId": "12e97d9e-7d13-47bc-a873-347eae2d2673"
      },
      "source": [
        "pct_retained = sum(df.retained / len(df.retained)) * 100\n",
        "print(pct_retained)"
      ],
      "execution_count": 25,
      "outputs": [
        {
          "output_type": "stream",
          "text": [
            "36.62000000000847\n"
          ],
          "name": "stdout"
        }
      ]
    },
    {
      "cell_type": "markdown",
      "metadata": {
        "id": "eht0-XCLFXwJ"
      },
      "source": [
        "Less than 37% of riders were considered retained. "
      ]
    },
    {
      "cell_type": "markdown",
      "metadata": {
        "id": "lPhKJVYlL1b-"
      },
      "source": [
        "---"
      ]
    },
    {
      "cell_type": "markdown",
      "metadata": {
        "id": "mi1FeYCLLt__"
      },
      "source": [
        "I'm going back to the nan values. "
      ]
    },
    {
      "cell_type": "code",
      "metadata": {
        "colab": {
          "base_uri": "https://localhost:8080/",
          "height": 757
        },
        "id": "hgaZVW8dFVil",
        "outputId": "a9b0861d-da45-4c8b-bb02-3ad724b624db"
      },
      "source": [
        "df_na = (df.isnull().sum() / len(df)) * 100\n",
        "df_na = df_na.drop(df_na[df_na == 0].index).sort_values(ascending=False)[:18]\n",
        "f, ax = plt.subplots(figsize=(15, 12))\n",
        "plt.xticks()\n",
        "sns.barplot(x=df_na, y=df_na.index, orient=\"h\")\n",
        "plt.xlabel('Percent of missing values', fontsize=15)\n",
        "plt.ylabel('Features', fontsize=15)\n",
        "plt.title('Percent missing data by feature', fontsize=15)"
      ],
      "execution_count": 26,
      "outputs": [
        {
          "output_type": "execute_result",
          "data": {
            "text/plain": [
              "Text(0.5, 1.0, 'Percent missing data by feature')"
            ]
          },
          "metadata": {
            "tags": []
          },
          "execution_count": 26
        },
        {
          "output_type": "display_data",
          "data": {
            "image/png": "[encoded data removed]",
            "text/plain": [
              "<Figure size 1080x864 with 1 Axes>"
            ]
          },
          "metadata": {
            "tags": []
          }
        }
      ]
    },
    {
      "cell_type": "code",
      "metadata": {
        "colab": {
          "base_uri": "https://localhost:8080/",
          "height": 136
        },
        "id": "tCjD7HyaMnqd",
        "outputId": "84281ea8-5603-48ec-d654-933fa37536d6"
      },
      "source": [
        "total = df.isnull().sum().sort_values(ascending=False)\n",
        "percent = (df.isnull().sum()/df.isnull().count()).sort_values(ascending=False)*100\n",
        "missing_data = pd.concat([total, percent], axis=1, keys=['Total', 'Percent'])\n",
        "missing_data[missing_data['Percent']>0]"
      ],
      "execution_count": 27,
      "outputs": [
        {
          "output_type": "execute_result",
          "data": {
            "text/html": [
              "<div>\n",
              "<style scoped>\n",
              "    .dataframe tbody tr th:only-of-type {\n",
              "        vertical-align: middle;\n",
              "    }\n",
              "\n",
              "    .dataframe tbody tr th {\n",
              "        vertical-align: top;\n",
              "    }\n",
              "\n",
              "    .dataframe thead th {\n",
              "        text-align: right;\n",
              "    }\n",
              "</style>\n",
              "<table border=\"1\" class=\"dataframe\">\n",
              "  <thead>\n",
              "    <tr style=\"text-align: right;\">\n",
              "      <th></th>\n",
              "      <th>Total</th>\n",
              "      <th>Percent</th>\n",
              "    </tr>\n",
              "  </thead>\n",
              "  <tbody>\n",
              "    <tr>\n",
              "      <th>avg_rating_of_driver</th>\n",
              "      <td>8122</td>\n",
              "      <td>16.244</td>\n",
              "    </tr>\n",
              "    <tr>\n",
              "      <th>phone</th>\n",
              "      <td>396</td>\n",
              "      <td>0.792</td>\n",
              "    </tr>\n",
              "    <tr>\n",
              "      <th>avg_rating_by_driver</th>\n",
              "      <td>201</td>\n",
              "      <td>0.402</td>\n",
              "    </tr>\n",
              "  </tbody>\n",
              "</table>\n",
              "</div>"
            ],
            "text/plain": [
              "                      Total  Percent\n",
              "avg_rating_of_driver   8122   16.244\n",
              "phone                   396    0.792\n",
              "avg_rating_by_driver    201    0.402"
            ]
          },
          "metadata": {
            "tags": []
          },
          "execution_count": 27
        }
      ]
    },
    {
      "cell_type": "markdown",
      "metadata": {
        "id": "xWHeYM0AMOtR"
      },
      "source": [
        "Avg rating of driver is missing about 16% of the data. Phone is missing 8% and average rating by driver 4%."
      ]
    },
    {
      "cell_type": "code",
      "metadata": {
        "colab": {
          "base_uri": "https://localhost:8080/"
        },
        "id": "Mm1bT5r3MWSj",
        "outputId": "acc42a3c-f845-4a26-8a3d-77b001d57d08"
      },
      "source": [
        "df.avg_rating_of_driver.value_counts(normalize=True) * 100"
      ],
      "execution_count": 28,
      "outputs": [
        {
          "output_type": "execute_result",
          "data": {
            "text/plain": [
              "5.0    49.598835\n",
              "4.0    10.012417\n",
              "4.5     5.964946\n",
              "4.8     5.802569\n",
              "4.7     4.644443\n",
              "4.9     4.228951\n",
              "4.3     3.550790\n",
              "4.6     2.729357\n",
              "3.0     2.395052\n",
              "4.4     1.979560\n",
              "4.2     1.435121\n",
              "3.5     1.165290\n",
              "3.8     1.022016\n",
              "4.1     0.950380\n",
              "3.7     0.869191\n",
              "1.0     0.611299\n",
              "3.9     0.608912\n",
              "2.0     0.499069\n",
              "3.3     0.479966\n",
              "3.6     0.410717\n",
              "3.4     0.257892\n",
              "2.5     0.224462\n",
              "3.2     0.126558\n",
              "2.7     0.112231\n",
              "3.1     0.093128\n",
              "2.8     0.066861\n",
              "2.3     0.052534\n",
              "2.9     0.031043\n",
              "2.6     0.028655\n",
              "2.1     0.014327\n",
              "1.5     0.009552\n",
              "2.4     0.007164\n",
              "1.8     0.004776\n",
              "1.7     0.004776\n",
              "2.2     0.002388\n",
              "1.6     0.002388\n",
              "1.9     0.002388\n",
              "Name: avg_rating_of_driver, dtype: float64"
            ]
          },
          "metadata": {
            "tags": []
          },
          "execution_count": 28
        }
      ]
    },
    {
      "cell_type": "markdown",
      "metadata": {
        "id": "lCMmpCKiNqtb"
      },
      "source": [
        "60% of the data is either 4.0 or 5.0. I will impute with either the mean or the median. "
      ]
    },
    {
      "cell_type": "code",
      "metadata": {
        "colab": {
          "base_uri": "https://localhost:8080/"
        },
        "id": "6rwdDuLtNMZ_",
        "outputId": "fba33cf6-2d81-42fe-b607-42574ff21dcc"
      },
      "source": [
        "df.avg_rating_of_driver.agg([np.mean, np.median])"
      ],
      "execution_count": 29,
      "outputs": [
        {
          "output_type": "execute_result",
          "data": {
            "text/plain": [
              "mean      4.601559\n",
              "median    4.900000\n",
              "Name: avg_rating_of_driver, dtype: float64"
            ]
          },
          "metadata": {
            "tags": []
          },
          "execution_count": 29
        }
      ]
    },
    {
      "cell_type": "markdown",
      "metadata": {
        "id": "sIaHzExsNIRP"
      },
      "source": [
        "I'm tempted to impute the missing values using the median, but because I cannot verify any try outliers I'll just use the mean. "
      ]
    },
    {
      "cell_type": "code",
      "metadata": {
        "colab": {
          "base_uri": "https://localhost:8080/",
          "height": 249
        },
        "id": "oO-309ZBOkcB",
        "outputId": "d95a90e0-93e1-4492-d301-f3a0764d83e9"
      },
      "source": [
        "df['avg_rating_of_driver'].fillna(value=df['avg_rating_of_driver'].mean(), inplace=True)\n",
        "df.head()"
      ],
      "execution_count": 30,
      "outputs": [
        {
          "output_type": "execute_result",
          "data": {
            "text/html": [
              "<div>\n",
              "<style scoped>\n",
              "    .dataframe tbody tr th:only-of-type {\n",
              "        vertical-align: middle;\n",
              "    }\n",
              "\n",
              "    .dataframe tbody tr th {\n",
              "        vertical-align: top;\n",
              "    }\n",
              "\n",
              "    .dataframe thead th {\n",
              "        text-align: right;\n",
              "    }\n",
              "</style>\n",
              "<table border=\"1\" class=\"dataframe\">\n",
              "  <thead>\n",
              "    <tr style=\"text-align: right;\">\n",
              "      <th></th>\n",
              "      <th>city</th>\n",
              "      <th>trips_in_first_30_days</th>\n",
              "      <th>signup_date</th>\n",
              "      <th>avg_rating_of_driver</th>\n",
              "      <th>avg_surge</th>\n",
              "      <th>last_trip_date</th>\n",
              "      <th>phone</th>\n",
              "      <th>surge_pct</th>\n",
              "      <th>ultimate_black_user</th>\n",
              "      <th>weekday_pct</th>\n",
              "      <th>avg_dist</th>\n",
              "      <th>avg_rating_by_driver</th>\n",
              "      <th>retained</th>\n",
              "    </tr>\n",
              "  </thead>\n",
              "  <tbody>\n",
              "    <tr>\n",
              "      <th>0</th>\n",
              "      <td>King's Landing</td>\n",
              "      <td>4</td>\n",
              "      <td>2014-01-25</td>\n",
              "      <td>4.7</td>\n",
              "      <td>1.10</td>\n",
              "      <td>2014-06-17</td>\n",
              "      <td>iPhone</td>\n",
              "      <td>15.4</td>\n",
              "      <td>True</td>\n",
              "      <td>46.2</td>\n",
              "      <td>3.67</td>\n",
              "      <td>5.0</td>\n",
              "      <td>True</td>\n",
              "    </tr>\n",
              "    <tr>\n",
              "      <th>1</th>\n",
              "      <td>Astapor</td>\n",
              "      <td>0</td>\n",
              "      <td>2014-01-29</td>\n",
              "      <td>5.0</td>\n",
              "      <td>1.00</td>\n",
              "      <td>2014-05-05</td>\n",
              "      <td>Android</td>\n",
              "      <td>0.0</td>\n",
              "      <td>False</td>\n",
              "      <td>50.0</td>\n",
              "      <td>8.26</td>\n",
              "      <td>5.0</td>\n",
              "      <td>False</td>\n",
              "    </tr>\n",
              "    <tr>\n",
              "      <th>2</th>\n",
              "      <td>Astapor</td>\n",
              "      <td>3</td>\n",
              "      <td>2014-01-06</td>\n",
              "      <td>4.3</td>\n",
              "      <td>1.00</td>\n",
              "      <td>2014-01-07</td>\n",
              "      <td>iPhone</td>\n",
              "      <td>0.0</td>\n",
              "      <td>False</td>\n",
              "      <td>100.0</td>\n",
              "      <td>0.77</td>\n",
              "      <td>5.0</td>\n",
              "      <td>False</td>\n",
              "    </tr>\n",
              "    <tr>\n",
              "      <th>3</th>\n",
              "      <td>King's Landing</td>\n",
              "      <td>9</td>\n",
              "      <td>2014-01-10</td>\n",
              "      <td>4.6</td>\n",
              "      <td>1.14</td>\n",
              "      <td>2014-06-29</td>\n",
              "      <td>iPhone</td>\n",
              "      <td>20.0</td>\n",
              "      <td>True</td>\n",
              "      <td>80.0</td>\n",
              "      <td>2.36</td>\n",
              "      <td>4.9</td>\n",
              "      <td>True</td>\n",
              "    </tr>\n",
              "    <tr>\n",
              "      <th>4</th>\n",
              "      <td>Winterfell</td>\n",
              "      <td>14</td>\n",
              "      <td>2014-01-27</td>\n",
              "      <td>4.4</td>\n",
              "      <td>1.19</td>\n",
              "      <td>2014-03-15</td>\n",
              "      <td>Android</td>\n",
              "      <td>11.8</td>\n",
              "      <td>False</td>\n",
              "      <td>82.4</td>\n",
              "      <td>3.13</td>\n",
              "      <td>4.9</td>\n",
              "      <td>False</td>\n",
              "    </tr>\n",
              "  </tbody>\n",
              "</table>\n",
              "</div>"
            ],
            "text/plain": [
              "             city  trips_in_first_30_days signup_date  avg_rating_of_driver  \\\n",
              "0  King's Landing                       4  2014-01-25                   4.7   \n",
              "1         Astapor                       0  2014-01-29                   5.0   \n",
              "2         Astapor                       3  2014-01-06                   4.3   \n",
              "3  King's Landing                       9  2014-01-10                   4.6   \n",
              "4      Winterfell                      14  2014-01-27                   4.4   \n",
              "\n",
              "   avg_surge last_trip_date    phone  surge_pct  ultimate_black_user  \\\n",
              "0       1.10     2014-06-17   iPhone       15.4                 True   \n",
              "1       1.00     2014-05-05  Android        0.0                False   \n",
              "2       1.00     2014-01-07   iPhone        0.0                False   \n",
              "3       1.14     2014-06-29   iPhone       20.0                 True   \n",
              "4       1.19     2014-03-15  Android       11.8                False   \n",
              "\n",
              "   weekday_pct  avg_dist  avg_rating_by_driver  retained  \n",
              "0         46.2      3.67                   5.0      True  \n",
              "1         50.0      8.26                   5.0     False  \n",
              "2        100.0      0.77                   5.0     False  \n",
              "3         80.0      2.36                   4.9      True  \n",
              "4         82.4      3.13                   4.9     False  "
            ]
          },
          "metadata": {
            "tags": []
          },
          "execution_count": 30
        }
      ]
    },
    {
      "cell_type": "code",
      "metadata": {
        "colab": {
          "base_uri": "https://localhost:8080/"
        },
        "id": "4uja3elxPAeS",
        "outputId": "5f969800-f8d8-47b0-af23-a689fb5608b6"
      },
      "source": [
        "df.phone.value_counts()"
      ],
      "execution_count": 31,
      "outputs": [
        {
          "output_type": "execute_result",
          "data": {
            "text/plain": [
              "iPhone     34582\n",
              "Android    15022\n",
              "Name: phone, dtype: int64"
            ]
          },
          "metadata": {
            "tags": []
          },
          "execution_count": 31
        }
      ]
    },
    {
      "cell_type": "markdown",
      "metadata": {
        "id": "gLI-g_qsE2b3"
      },
      "source": [
        "Because I don't have intuition whether or not this column is important and how to impute the missing values, I will just fill the NA's with \"None.\" I'm hoping this will not break my model. "
      ]
    },
    {
      "cell_type": "code",
      "metadata": {
        "colab": {
          "base_uri": "https://localhost:8080/"
        },
        "id": "II9y5Y_APlRR",
        "outputId": "6a0ffaea-cfb7-4027-a8e7-8eff471a21c1"
      },
      "source": [
        "df[\"phone\"] = df[\"phone\"].fillna(\"None\")\n",
        "df.phone.head(10)"
      ],
      "execution_count": 32,
      "outputs": [
        {
          "output_type": "execute_result",
          "data": {
            "text/plain": [
              "0     iPhone\n",
              "1    Android\n",
              "2     iPhone\n",
              "3     iPhone\n",
              "4    Android\n",
              "5     iPhone\n",
              "6    Android\n",
              "7     iPhone\n",
              "8    Android\n",
              "9    Android\n",
              "Name: phone, dtype: object"
            ]
          },
          "metadata": {
            "tags": []
          },
          "execution_count": 32
        }
      ]
    },
    {
      "cell_type": "code",
      "metadata": {
        "colab": {
          "base_uri": "https://localhost:8080/"
        },
        "id": "pQz-z1BW2RbE",
        "outputId": "f0e7f26b-4c2c-403e-a261-f6f5876fd914"
      },
      "source": [
        "df['avg_rating_by_driver'].value_counts(normalize=True)"
      ],
      "execution_count": 33,
      "outputs": [
        {
          "output_type": "execute_result",
          "data": {
            "text/plain": [
              "5.0    0.572461\n",
              "4.8    0.091106\n",
              "4.7    0.066869\n",
              "4.9    0.062130\n",
              "4.5    0.048676\n",
              "4.6    0.041728\n",
              "4.0    0.038435\n",
              "4.3    0.020442\n",
              "4.4    0.017269\n",
              "3.0    0.012089\n",
              "4.2    0.006868\n",
              "3.5    0.003996\n",
              "3.7    0.003916\n",
              "1.0    0.003635\n",
              "2.0    0.002530\n",
              "4.1    0.002510\n",
              "3.8    0.002229\n",
              "3.3    0.000944\n",
              "3.9    0.000823\n",
              "2.5    0.000623\n",
              "3.6    0.000382\n",
              "3.4    0.000100\n",
              "1.5    0.000080\n",
              "2.8    0.000060\n",
              "3.2    0.000040\n",
              "2.7    0.000040\n",
              "2.3    0.000020\n",
              "Name: avg_rating_by_driver, dtype: float64"
            ]
          },
          "metadata": {
            "tags": []
          },
          "execution_count": 33
        }
      ]
    },
    {
      "cell_type": "code",
      "metadata": {
        "colab": {
          "base_uri": "https://localhost:8080/"
        },
        "id": "U-vb1GHV2sxv",
        "outputId": "eb0007b2-4f41-4d1a-cd21-5016930436fa"
      },
      "source": [
        "df.avg_rating_by_driver.agg([np.mean, np.median])"
      ],
      "execution_count": 34,
      "outputs": [
        {
          "output_type": "execute_result",
          "data": {
            "text/plain": [
              "mean      4.778158\n",
              "median    5.000000\n",
              "Name: avg_rating_by_driver, dtype: float64"
            ]
          },
          "metadata": {
            "tags": []
          },
          "execution_count": 34
        }
      ]
    },
    {
      "cell_type": "markdown",
      "metadata": {
        "id": "v1jLDqRX3B0s"
      },
      "source": [
        "Just like the other column, I can't verify true outliers so I will impute with the mean."
      ]
    },
    {
      "cell_type": "code",
      "metadata": {
        "colab": {
          "base_uri": "https://localhost:8080/",
          "height": 249
        },
        "id": "DGUth3DC3MNT",
        "outputId": "6bcbb377-3d0d-48bc-d0f4-afbd3f10740d"
      },
      "source": [
        "df['avg_rating_by_driver'].fillna(value=df['avg_rating_by_driver'].mean(), inplace=True)\n",
        "df.head()"
      ],
      "execution_count": 35,
      "outputs": [
        {
          "output_type": "execute_result",
          "data": {
            "text/html": [
              "<div>\n",
              "<style scoped>\n",
              "    .dataframe tbody tr th:only-of-type {\n",
              "        vertical-align: middle;\n",
              "    }\n",
              "\n",
              "    .dataframe tbody tr th {\n",
              "        vertical-align: top;\n",
              "    }\n",
              "\n",
              "    .dataframe thead th {\n",
              "        text-align: right;\n",
              "    }\n",
              "</style>\n",
              "<table border=\"1\" class=\"dataframe\">\n",
              "  <thead>\n",
              "    <tr style=\"text-align: right;\">\n",
              "      <th></th>\n",
              "      <th>city</th>\n",
              "      <th>trips_in_first_30_days</th>\n",
              "      <th>signup_date</th>\n",
              "      <th>avg_rating_of_driver</th>\n",
              "      <th>avg_surge</th>\n",
              "      <th>last_trip_date</th>\n",
              "      <th>phone</th>\n",
              "      <th>surge_pct</th>\n",
              "      <th>ultimate_black_user</th>\n",
              "      <th>weekday_pct</th>\n",
              "      <th>avg_dist</th>\n",
              "      <th>avg_rating_by_driver</th>\n",
              "      <th>retained</th>\n",
              "    </tr>\n",
              "  </thead>\n",
              "  <tbody>\n",
              "    <tr>\n",
              "      <th>0</th>\n",
              "      <td>King's Landing</td>\n",
              "      <td>4</td>\n",
              "      <td>2014-01-25</td>\n",
              "      <td>4.7</td>\n",
              "      <td>1.10</td>\n",
              "      <td>2014-06-17</td>\n",
              "      <td>iPhone</td>\n",
              "      <td>15.4</td>\n",
              "      <td>True</td>\n",
              "      <td>46.2</td>\n",
              "      <td>3.67</td>\n",
              "      <td>5.0</td>\n",
              "      <td>True</td>\n",
              "    </tr>\n",
              "    <tr>\n",
              "      <th>1</th>\n",
              "      <td>Astapor</td>\n",
              "      <td>0</td>\n",
              "      <td>2014-01-29</td>\n",
              "      <td>5.0</td>\n",
              "      <td>1.00</td>\n",
              "      <td>2014-05-05</td>\n",
              "      <td>Android</td>\n",
              "      <td>0.0</td>\n",
              "      <td>False</td>\n",
              "      <td>50.0</td>\n",
              "      <td>8.26</td>\n",
              "      <td>5.0</td>\n",
              "      <td>False</td>\n",
              "    </tr>\n",
              "    <tr>\n",
              "      <th>2</th>\n",
              "      <td>Astapor</td>\n",
              "      <td>3</td>\n",
              "      <td>2014-01-06</td>\n",
              "      <td>4.3</td>\n",
              "      <td>1.00</td>\n",
              "      <td>2014-01-07</td>\n",
              "      <td>iPhone</td>\n",
              "      <td>0.0</td>\n",
              "      <td>False</td>\n",
              "      <td>100.0</td>\n",
              "      <td>0.77</td>\n",
              "      <td>5.0</td>\n",
              "      <td>False</td>\n",
              "    </tr>\n",
              "    <tr>\n",
              "      <th>3</th>\n",
              "      <td>King's Landing</td>\n",
              "      <td>9</td>\n",
              "      <td>2014-01-10</td>\n",
              "      <td>4.6</td>\n",
              "      <td>1.14</td>\n",
              "      <td>2014-06-29</td>\n",
              "      <td>iPhone</td>\n",
              "      <td>20.0</td>\n",
              "      <td>True</td>\n",
              "      <td>80.0</td>\n",
              "      <td>2.36</td>\n",
              "      <td>4.9</td>\n",
              "      <td>True</td>\n",
              "    </tr>\n",
              "    <tr>\n",
              "      <th>4</th>\n",
              "      <td>Winterfell</td>\n",
              "      <td>14</td>\n",
              "      <td>2014-01-27</td>\n",
              "      <td>4.4</td>\n",
              "      <td>1.19</td>\n",
              "      <td>2014-03-15</td>\n",
              "      <td>Android</td>\n",
              "      <td>11.8</td>\n",
              "      <td>False</td>\n",
              "      <td>82.4</td>\n",
              "      <td>3.13</td>\n",
              "      <td>4.9</td>\n",
              "      <td>False</td>\n",
              "    </tr>\n",
              "  </tbody>\n",
              "</table>\n",
              "</div>"
            ],
            "text/plain": [
              "             city  trips_in_first_30_days signup_date  avg_rating_of_driver  \\\n",
              "0  King's Landing                       4  2014-01-25                   4.7   \n",
              "1         Astapor                       0  2014-01-29                   5.0   \n",
              "2         Astapor                       3  2014-01-06                   4.3   \n",
              "3  King's Landing                       9  2014-01-10                   4.6   \n",
              "4      Winterfell                      14  2014-01-27                   4.4   \n",
              "\n",
              "   avg_surge last_trip_date    phone  surge_pct  ultimate_black_user  \\\n",
              "0       1.10     2014-06-17   iPhone       15.4                 True   \n",
              "1       1.00     2014-05-05  Android        0.0                False   \n",
              "2       1.00     2014-01-07   iPhone        0.0                False   \n",
              "3       1.14     2014-06-29   iPhone       20.0                 True   \n",
              "4       1.19     2014-03-15  Android       11.8                False   \n",
              "\n",
              "   weekday_pct  avg_dist  avg_rating_by_driver  retained  \n",
              "0         46.2      3.67                   5.0      True  \n",
              "1         50.0      8.26                   5.0     False  \n",
              "2        100.0      0.77                   5.0     False  \n",
              "3         80.0      2.36                   4.9      True  \n",
              "4         82.4      3.13                   4.9     False  "
            ]
          },
          "metadata": {
            "tags": []
          },
          "execution_count": 35
        }
      ]
    },
    {
      "cell_type": "code",
      "metadata": {
        "colab": {
          "base_uri": "https://localhost:8080/"
        },
        "id": "BovwNiJJ4ABU",
        "outputId": "e783a1fe-2154-4800-d013-17352c93757a"
      },
      "source": [
        "df.info()"
      ],
      "execution_count": 36,
      "outputs": [
        {
          "output_type": "stream",
          "text": [
            "<class 'pandas.core.frame.DataFrame'>\n",
            "RangeIndex: 50000 entries, 0 to 49999\n",
            "Data columns (total 13 columns):\n",
            " #   Column                  Non-Null Count  Dtype         \n",
            "---  ------                  --------------  -----         \n",
            " 0   city                    50000 non-null  object        \n",
            " 1   trips_in_first_30_days  50000 non-null  int64         \n",
            " 2   signup_date             50000 non-null  datetime64[ns]\n",
            " 3   avg_rating_of_driver    50000 non-null  float64       \n",
            " 4   avg_surge               50000 non-null  float64       \n",
            " 5   last_trip_date          50000 non-null  datetime64[ns]\n",
            " 6   phone                   50000 non-null  object        \n",
            " 7   surge_pct               50000 non-null  float64       \n",
            " 8   ultimate_black_user     50000 non-null  bool          \n",
            " 9   weekday_pct             50000 non-null  float64       \n",
            " 10  avg_dist                50000 non-null  float64       \n",
            " 11  avg_rating_by_driver    50000 non-null  float64       \n",
            " 12  retained                50000 non-null  bool          \n",
            "dtypes: bool(2), datetime64[ns](2), float64(6), int64(1), object(2)\n",
            "memory usage: 4.3+ MB\n"
          ],
          "name": "stdout"
        }
      ]
    },
    {
      "cell_type": "markdown",
      "metadata": {
        "id": "8pqNny173d0C"
      },
      "source": [
        "---"
      ]
    },
    {
      "cell_type": "code",
      "metadata": {
        "colab": {
          "base_uri": "https://localhost:8080/",
          "height": 1000
        },
        "id": "FGvzZQQH4VIw",
        "outputId": "6349cd61-0ee1-4b19-e8bb-6a116b888f5a"
      },
      "source": [
        "corr = df.corr()\n",
        "plt.subplots(figsize=(30, 30))\n",
        "cmap = sns.diverging_palette(150, 250, as_cmap=True)\n",
        "mask = np.triu(np.ones_like(corr, dtype=bool))\n",
        "sns.heatmap(corr, cmap=\"RdYlBu\", vmax=1, vmin=-0.6, center=0.2, square=True, linewidths=0, \n",
        "            cbar_kws={\"shrink\": .5}, annot = True, mask=mask);"
      ],
      "execution_count": 37,
      "outputs": [
        {
          "output_type": "display_data",
          "data": {
            "image/png": "[encoded data removed]",
            "text/plain": [
              "<Figure size 2160x2160 with 2 Axes>"
            ]
          },
          "metadata": {
            "tags": []
          }
        }
      ]
    },
    {
      "cell_type": "markdown",
      "metadata": {
        "id": "wiANltBP5i2y"
      },
      "source": [
        "According to the HeatMap, there is not a lot of correlation between the features and the target variable \"retained.\" The only highly correlated features were surge_pct and avg_surge. "
      ]
    },
    {
      "cell_type": "markdown",
      "metadata": {
        "id": "aB8bq8Mt_VVq"
      },
      "source": [
        "---"
      ]
    },
    {
      "cell_type": "markdown",
      "metadata": {
        "id": "Er9aiHa-_WRj"
      },
      "source": [
        "2. Build a predictive model to help Ultimate determine whether or not a user will be active\n",
        "in their 6th month on the system. Discuss why you chose your approach, what\n",
        "alternatives you considered, and any concerns you have. How valid is your model?\n",
        "Include any key indicators of model performance."
      ]
    },
    {
      "cell_type": "markdown",
      "metadata": {
        "id": "3lzoTKs2_XSf"
      },
      "source": [
        "Because the goal is to predict whether a user is retained, this is a binary classification model. I will go with the simple logistic regression model as it tends to perform well. \n",
        "\n",
        "First, I will look at my data again."
      ]
    },
    {
      "cell_type": "code",
      "metadata": {
        "colab": {
          "base_uri": "https://localhost:8080/",
          "height": 602
        },
        "id": "4jGqgsTg5egw",
        "outputId": "6c532084-9110-47da-9946-5a9500f6dfb8"
      },
      "source": [
        "print(df.info())\n",
        "df.head()"
      ],
      "execution_count": 38,
      "outputs": [
        {
          "output_type": "stream",
          "text": [
            "<class 'pandas.core.frame.DataFrame'>\n",
            "RangeIndex: 50000 entries, 0 to 49999\n",
            "Data columns (total 13 columns):\n",
            " #   Column                  Non-Null Count  Dtype         \n",
            "---  ------                  --------------  -----         \n",
            " 0   city                    50000 non-null  object        \n",
            " 1   trips_in_first_30_days  50000 non-null  int64         \n",
            " 2   signup_date             50000 non-null  datetime64[ns]\n",
            " 3   avg_rating_of_driver    50000 non-null  float64       \n",
            " 4   avg_surge               50000 non-null  float64       \n",
            " 5   last_trip_date          50000 non-null  datetime64[ns]\n",
            " 6   phone                   50000 non-null  object        \n",
            " 7   surge_pct               50000 non-null  float64       \n",
            " 8   ultimate_black_user     50000 non-null  bool          \n",
            " 9   weekday_pct             50000 non-null  float64       \n",
            " 10  avg_dist                50000 non-null  float64       \n",
            " 11  avg_rating_by_driver    50000 non-null  float64       \n",
            " 12  retained                50000 non-null  bool          \n",
            "dtypes: bool(2), datetime64[ns](2), float64(6), int64(1), object(2)\n",
            "memory usage: 4.3+ MB\n",
            "None\n"
          ],
          "name": "stdout"
        },
        {
          "output_type": "execute_result",
          "data": {
            "text/html": [
              "<div>\n",
              "<style scoped>\n",
              "    .dataframe tbody tr th:only-of-type {\n",
              "        vertical-align: middle;\n",
              "    }\n",
              "\n",
              "    .dataframe tbody tr th {\n",
              "        vertical-align: top;\n",
              "    }\n",
              "\n",
              "    .dataframe thead th {\n",
              "        text-align: right;\n",
              "    }\n",
              "</style>\n",
              "<table border=\"1\" class=\"dataframe\">\n",
              "  <thead>\n",
              "    <tr style=\"text-align: right;\">\n",
              "      <th></th>\n",
              "      <th>city</th>\n",
              "      <th>trips_in_first_30_days</th>\n",
              "      <th>signup_date</th>\n",
              "      <th>avg_rating_of_driver</th>\n",
              "      <th>avg_surge</th>\n",
              "      <th>last_trip_date</th>\n",
              "      <th>phone</th>\n",
              "      <th>surge_pct</th>\n",
              "      <th>ultimate_black_user</th>\n",
              "      <th>weekday_pct</th>\n",
              "      <th>avg_dist</th>\n",
              "      <th>avg_rating_by_driver</th>\n",
              "      <th>retained</th>\n",
              "    </tr>\n",
              "  </thead>\n",
              "  <tbody>\n",
              "    <tr>\n",
              "      <th>0</th>\n",
              "      <td>King's Landing</td>\n",
              "      <td>4</td>\n",
              "      <td>2014-01-25</td>\n",
              "      <td>4.7</td>\n",
              "      <td>1.10</td>\n",
              "      <td>2014-06-17</td>\n",
              "      <td>iPhone</td>\n",
              "      <td>15.4</td>\n",
              "      <td>True</td>\n",
              "      <td>46.2</td>\n",
              "      <td>3.67</td>\n",
              "      <td>5.0</td>\n",
              "      <td>True</td>\n",
              "    </tr>\n",
              "    <tr>\n",
              "      <th>1</th>\n",
              "      <td>Astapor</td>\n",
              "      <td>0</td>\n",
              "      <td>2014-01-29</td>\n",
              "      <td>5.0</td>\n",
              "      <td>1.00</td>\n",
              "      <td>2014-05-05</td>\n",
              "      <td>Android</td>\n",
              "      <td>0.0</td>\n",
              "      <td>False</td>\n",
              "      <td>50.0</td>\n",
              "      <td>8.26</td>\n",
              "      <td>5.0</td>\n",
              "      <td>False</td>\n",
              "    </tr>\n",
              "    <tr>\n",
              "      <th>2</th>\n",
              "      <td>Astapor</td>\n",
              "      <td>3</td>\n",
              "      <td>2014-01-06</td>\n",
              "      <td>4.3</td>\n",
              "      <td>1.00</td>\n",
              "      <td>2014-01-07</td>\n",
              "      <td>iPhone</td>\n",
              "      <td>0.0</td>\n",
              "      <td>False</td>\n",
              "      <td>100.0</td>\n",
              "      <td>0.77</td>\n",
              "      <td>5.0</td>\n",
              "      <td>False</td>\n",
              "    </tr>\n",
              "    <tr>\n",
              "      <th>3</th>\n",
              "      <td>King's Landing</td>\n",
              "      <td>9</td>\n",
              "      <td>2014-01-10</td>\n",
              "      <td>4.6</td>\n",
              "      <td>1.14</td>\n",
              "      <td>2014-06-29</td>\n",
              "      <td>iPhone</td>\n",
              "      <td>20.0</td>\n",
              "      <td>True</td>\n",
              "      <td>80.0</td>\n",
              "      <td>2.36</td>\n",
              "      <td>4.9</td>\n",
              "      <td>True</td>\n",
              "    </tr>\n",
              "    <tr>\n",
              "      <th>4</th>\n",
              "      <td>Winterfell</td>\n",
              "      <td>14</td>\n",
              "      <td>2014-01-27</td>\n",
              "      <td>4.4</td>\n",
              "      <td>1.19</td>\n",
              "      <td>2014-03-15</td>\n",
              "      <td>Android</td>\n",
              "      <td>11.8</td>\n",
              "      <td>False</td>\n",
              "      <td>82.4</td>\n",
              "      <td>3.13</td>\n",
              "      <td>4.9</td>\n",
              "      <td>False</td>\n",
              "    </tr>\n",
              "  </tbody>\n",
              "</table>\n",
              "</div>"
            ],
            "text/plain": [
              "             city  trips_in_first_30_days signup_date  avg_rating_of_driver  \\\n",
              "0  King's Landing                       4  2014-01-25                   4.7   \n",
              "1         Astapor                       0  2014-01-29                   5.0   \n",
              "2         Astapor                       3  2014-01-06                   4.3   \n",
              "3  King's Landing                       9  2014-01-10                   4.6   \n",
              "4      Winterfell                      14  2014-01-27                   4.4   \n",
              "\n",
              "   avg_surge last_trip_date    phone  surge_pct  ultimate_black_user  \\\n",
              "0       1.10     2014-06-17   iPhone       15.4                 True   \n",
              "1       1.00     2014-05-05  Android        0.0                False   \n",
              "2       1.00     2014-01-07   iPhone        0.0                False   \n",
              "3       1.14     2014-06-29   iPhone       20.0                 True   \n",
              "4       1.19     2014-03-15  Android       11.8                False   \n",
              "\n",
              "   weekday_pct  avg_dist  avg_rating_by_driver  retained  \n",
              "0         46.2      3.67                   5.0      True  \n",
              "1         50.0      8.26                   5.0     False  \n",
              "2        100.0      0.77                   5.0     False  \n",
              "3         80.0      2.36                   4.9      True  \n",
              "4         82.4      3.13                   4.9     False  "
            ]
          },
          "metadata": {
            "tags": []
          },
          "execution_count": 38
        }
      ]
    },
    {
      "cell_type": "markdown",
      "metadata": {
        "id": "XgOAIRFpDvK6"
      },
      "source": [
        "First I will make a copy of my data and then use pandas' get_dummies method to turn my categorical features into numeric features for modeling."
      ]
    },
    {
      "cell_type": "code",
      "metadata": {
        "id": "o_wD4YlsDGts"
      },
      "source": [
        "df_mod = df.copy()\n",
        "df_mod = pd.get_dummies(df_mod, columns = ['city', 'phone'])"
      ],
      "execution_count": 41,
      "outputs": []
    },
    {
      "cell_type": "code",
      "metadata": {
        "id": "TH3i8Pl-EcAI",
        "outputId": "62abb154-fe0a-4a15-a1c6-a5485102d907",
        "colab": {
          "base_uri": "https://localhost:8080/",
          "height": 652
        }
      },
      "source": [
        "print(df_mod.info())\n",
        "df_mod.head()"
      ],
      "execution_count": 42,
      "outputs": [
        {
          "output_type": "stream",
          "text": [
            "<class 'pandas.core.frame.DataFrame'>\n",
            "RangeIndex: 50000 entries, 0 to 49999\n",
            "Data columns (total 17 columns):\n",
            " #   Column                  Non-Null Count  Dtype         \n",
            "---  ------                  --------------  -----         \n",
            " 0   trips_in_first_30_days  50000 non-null  int64         \n",
            " 1   signup_date             50000 non-null  datetime64[ns]\n",
            " 2   avg_rating_of_driver    50000 non-null  float64       \n",
            " 3   avg_surge               50000 non-null  float64       \n",
            " 4   last_trip_date          50000 non-null  datetime64[ns]\n",
            " 5   surge_pct               50000 non-null  float64       \n",
            " 6   ultimate_black_user     50000 non-null  bool          \n",
            " 7   weekday_pct             50000 non-null  float64       \n",
            " 8   avg_dist                50000 non-null  float64       \n",
            " 9   avg_rating_by_driver    50000 non-null  float64       \n",
            " 10  retained                50000 non-null  bool          \n",
            " 11  city_Astapor            50000 non-null  uint8         \n",
            " 12  city_King's Landing     50000 non-null  uint8         \n",
            " 13  city_Winterfell         50000 non-null  uint8         \n",
            " 14  phone_Android           50000 non-null  uint8         \n",
            " 15  phone_None              50000 non-null  uint8         \n",
            " 16  phone_iPhone            50000 non-null  uint8         \n",
            "dtypes: bool(2), datetime64[ns](2), float64(6), int64(1), uint8(6)\n",
            "memory usage: 3.8 MB\n",
            "None\n"
          ],
          "name": "stdout"
        },
        {
          "output_type": "execute_result",
          "data": {
            "text/html": [
              "<div>\n",
              "<style scoped>\n",
              "    .dataframe tbody tr th:only-of-type {\n",
              "        vertical-align: middle;\n",
              "    }\n",
              "\n",
              "    .dataframe tbody tr th {\n",
              "        vertical-align: top;\n",
              "    }\n",
              "\n",
              "    .dataframe thead th {\n",
              "        text-align: right;\n",
              "    }\n",
              "</style>\n",
              "<table border=\"1\" class=\"dataframe\">\n",
              "  <thead>\n",
              "    <tr style=\"text-align: right;\">\n",
              "      <th></th>\n",
              "      <th>trips_in_first_30_days</th>\n",
              "      <th>signup_date</th>\n",
              "      <th>avg_rating_of_driver</th>\n",
              "      <th>avg_surge</th>\n",
              "      <th>last_trip_date</th>\n",
              "      <th>surge_pct</th>\n",
              "      <th>ultimate_black_user</th>\n",
              "      <th>weekday_pct</th>\n",
              "      <th>avg_dist</th>\n",
              "      <th>avg_rating_by_driver</th>\n",
              "      <th>retained</th>\n",
              "      <th>city_Astapor</th>\n",
              "      <th>city_King's Landing</th>\n",
              "      <th>city_Winterfell</th>\n",
              "      <th>phone_Android</th>\n",
              "      <th>phone_None</th>\n",
              "      <th>phone_iPhone</th>\n",
              "    </tr>\n",
              "  </thead>\n",
              "  <tbody>\n",
              "    <tr>\n",
              "      <th>0</th>\n",
              "      <td>4</td>\n",
              "      <td>2014-01-25</td>\n",
              "      <td>4.7</td>\n",
              "      <td>1.10</td>\n",
              "      <td>2014-06-17</td>\n",
              "      <td>15.4</td>\n",
              "      <td>True</td>\n",
              "      <td>46.2</td>\n",
              "      <td>3.67</td>\n",
              "      <td>5.0</td>\n",
              "      <td>True</td>\n",
              "      <td>0</td>\n",
              "      <td>1</td>\n",
              "      <td>0</td>\n",
              "      <td>0</td>\n",
              "      <td>0</td>\n",
              "      <td>1</td>\n",
              "    </tr>\n",
              "    <tr>\n",
              "      <th>1</th>\n",
              "      <td>0</td>\n",
              "      <td>2014-01-29</td>\n",
              "      <td>5.0</td>\n",
              "      <td>1.00</td>\n",
              "      <td>2014-05-05</td>\n",
              "      <td>0.0</td>\n",
              "      <td>False</td>\n",
              "      <td>50.0</td>\n",
              "      <td>8.26</td>\n",
              "      <td>5.0</td>\n",
              "      <td>False</td>\n",
              "      <td>1</td>\n",
              "      <td>0</td>\n",
              "      <td>0</td>\n",
              "      <td>1</td>\n",
              "      <td>0</td>\n",
              "      <td>0</td>\n",
              "    </tr>\n",
              "    <tr>\n",
              "      <th>2</th>\n",
              "      <td>3</td>\n",
              "      <td>2014-01-06</td>\n",
              "      <td>4.3</td>\n",
              "      <td>1.00</td>\n",
              "      <td>2014-01-07</td>\n",
              "      <td>0.0</td>\n",
              "      <td>False</td>\n",
              "      <td>100.0</td>\n",
              "      <td>0.77</td>\n",
              "      <td>5.0</td>\n",
              "      <td>False</td>\n",
              "      <td>1</td>\n",
              "      <td>0</td>\n",
              "      <td>0</td>\n",
              "      <td>0</td>\n",
              "      <td>0</td>\n",
              "      <td>1</td>\n",
              "    </tr>\n",
              "    <tr>\n",
              "      <th>3</th>\n",
              "      <td>9</td>\n",
              "      <td>2014-01-10</td>\n",
              "      <td>4.6</td>\n",
              "      <td>1.14</td>\n",
              "      <td>2014-06-29</td>\n",
              "      <td>20.0</td>\n",
              "      <td>True</td>\n",
              "      <td>80.0</td>\n",
              "      <td>2.36</td>\n",
              "      <td>4.9</td>\n",
              "      <td>True</td>\n",
              "      <td>0</td>\n",
              "      <td>1</td>\n",
              "      <td>0</td>\n",
              "      <td>0</td>\n",
              "      <td>0</td>\n",
              "      <td>1</td>\n",
              "    </tr>\n",
              "    <tr>\n",
              "      <th>4</th>\n",
              "      <td>14</td>\n",
              "      <td>2014-01-27</td>\n",
              "      <td>4.4</td>\n",
              "      <td>1.19</td>\n",
              "      <td>2014-03-15</td>\n",
              "      <td>11.8</td>\n",
              "      <td>False</td>\n",
              "      <td>82.4</td>\n",
              "      <td>3.13</td>\n",
              "      <td>4.9</td>\n",
              "      <td>False</td>\n",
              "      <td>0</td>\n",
              "      <td>0</td>\n",
              "      <td>1</td>\n",
              "      <td>1</td>\n",
              "      <td>0</td>\n",
              "      <td>0</td>\n",
              "    </tr>\n",
              "  </tbody>\n",
              "</table>\n",
              "</div>"
            ],
            "text/plain": [
              "   trips_in_first_30_days signup_date  avg_rating_of_driver  avg_surge  \\\n",
              "0                       4  2014-01-25                   4.7       1.10   \n",
              "1                       0  2014-01-29                   5.0       1.00   \n",
              "2                       3  2014-01-06                   4.3       1.00   \n",
              "3                       9  2014-01-10                   4.6       1.14   \n",
              "4                      14  2014-01-27                   4.4       1.19   \n",
              "\n",
              "  last_trip_date  surge_pct  ultimate_black_user  weekday_pct  avg_dist  \\\n",
              "0     2014-06-17       15.4                 True         46.2      3.67   \n",
              "1     2014-05-05        0.0                False         50.0      8.26   \n",
              "2     2014-01-07        0.0                False        100.0      0.77   \n",
              "3     2014-06-29       20.0                 True         80.0      2.36   \n",
              "4     2014-03-15       11.8                False         82.4      3.13   \n",
              "\n",
              "   avg_rating_by_driver  retained  city_Astapor  city_King's Landing  \\\n",
              "0                   5.0      True             0                    1   \n",
              "1                   5.0     False             1                    0   \n",
              "2                   5.0     False             1                    0   \n",
              "3                   4.9      True             0                    1   \n",
              "4                   4.9     False             0                    0   \n",
              "\n",
              "   city_Winterfell  phone_Android  phone_None  phone_iPhone  \n",
              "0                0              0           0             1  \n",
              "1                0              1           0             0  \n",
              "2                0              0           0             1  \n",
              "3                0              0           0             1  \n",
              "4                1              1           0             0  "
            ]
          },
          "metadata": {
            "tags": []
          },
          "execution_count": 42
        }
      ]
    },
    {
      "cell_type": "markdown",
      "metadata": {
        "id": "I-EwPeJMFNqo"
      },
      "source": [
        "Now I will use turn all the values into float64 to be fed into SkLearn's StandardScaler"
      ]
    },
    {
      "cell_type": "code",
      "metadata": {
        "id": "gZjGsMaqFVjr"
      },
      "source": [
        "cols = ['trips_in_first_30_days',\n",
        "        'ultimate_black_user',\n",
        "        'city_Astapor',\n",
        "        'city_King\\'s Landing',\n",
        "        'city_Winterfell',\n",
        "        'phone_Android',\n",
        "        'phone_None',\n",
        "        'phone_iPhone',\n",
        "        'signup_date',\n",
        "        'last_trip_date']\n",
        "\n",
        "for col in cols:\n",
        "    df_mod[col] = df_mod[col].values.astype(float)"
      ],
      "execution_count": 48,
      "outputs": []
    },
    {
      "cell_type": "code",
      "metadata": {
        "id": "pSHno3zEIVJb",
        "outputId": "fc92b592-6ae7-4b1e-b078-2fe1f1805415",
        "colab": {
          "base_uri": "https://localhost:8080/",
          "height": 652
        }
      },
      "source": [
        "print(df_mod.info())\n",
        "df_mod.head()"
      ],
      "execution_count": 49,
      "outputs": [
        {
          "output_type": "stream",
          "text": [
            "<class 'pandas.core.frame.DataFrame'>\n",
            "RangeIndex: 50000 entries, 0 to 49999\n",
            "Data columns (total 17 columns):\n",
            " #   Column                  Non-Null Count  Dtype  \n",
            "---  ------                  --------------  -----  \n",
            " 0   trips_in_first_30_days  50000 non-null  float64\n",
            " 1   signup_date             50000 non-null  float64\n",
            " 2   avg_rating_of_driver    50000 non-null  float64\n",
            " 3   avg_surge               50000 non-null  float64\n",
            " 4   last_trip_date          50000 non-null  float64\n",
            " 5   surge_pct               50000 non-null  float64\n",
            " 6   ultimate_black_user     50000 non-null  float64\n",
            " 7   weekday_pct             50000 non-null  float64\n",
            " 8   avg_dist                50000 non-null  float64\n",
            " 9   avg_rating_by_driver    50000 non-null  float64\n",
            " 10  retained                50000 non-null  bool   \n",
            " 11  city_Astapor            50000 non-null  float64\n",
            " 12  city_King's Landing     50000 non-null  float64\n",
            " 13  city_Winterfell         50000 non-null  float64\n",
            " 14  phone_Android           50000 non-null  float64\n",
            " 15  phone_None              50000 non-null  float64\n",
            " 16  phone_iPhone            50000 non-null  float64\n",
            "dtypes: bool(1), float64(16)\n",
            "memory usage: 6.2 MB\n",
            "None\n"
          ],
          "name": "stdout"
        },
        {
          "output_type": "execute_result",
          "data": {
            "text/html": [
              "<div>\n",
              "<style scoped>\n",
              "    .dataframe tbody tr th:only-of-type {\n",
              "        vertical-align: middle;\n",
              "    }\n",
              "\n",
              "    .dataframe tbody tr th {\n",
              "        vertical-align: top;\n",
              "    }\n",
              "\n",
              "    .dataframe thead th {\n",
              "        text-align: right;\n",
              "    }\n",
              "</style>\n",
              "<table border=\"1\" class=\"dataframe\">\n",
              "  <thead>\n",
              "    <tr style=\"text-align: right;\">\n",
              "      <th></th>\n",
              "      <th>trips_in_first_30_days</th>\n",
              "      <th>signup_date</th>\n",
              "      <th>avg_rating_of_driver</th>\n",
              "      <th>avg_surge</th>\n",
              "      <th>last_trip_date</th>\n",
              "      <th>surge_pct</th>\n",
              "      <th>ultimate_black_user</th>\n",
              "      <th>weekday_pct</th>\n",
              "      <th>avg_dist</th>\n",
              "      <th>avg_rating_by_driver</th>\n",
              "      <th>retained</th>\n",
              "      <th>city_Astapor</th>\n",
              "      <th>city_King's Landing</th>\n",
              "      <th>city_Winterfell</th>\n",
              "      <th>phone_Android</th>\n",
              "      <th>phone_None</th>\n",
              "      <th>phone_iPhone</th>\n",
              "    </tr>\n",
              "  </thead>\n",
              "  <tbody>\n",
              "    <tr>\n",
              "      <th>0</th>\n",
              "      <td>4.0</td>\n",
              "      <td>1.390608e+18</td>\n",
              "      <td>4.7</td>\n",
              "      <td>1.10</td>\n",
              "      <td>1.402963e+18</td>\n",
              "      <td>15.4</td>\n",
              "      <td>1.0</td>\n",
              "      <td>46.2</td>\n",
              "      <td>3.67</td>\n",
              "      <td>5.0</td>\n",
              "      <td>True</td>\n",
              "      <td>0.0</td>\n",
              "      <td>1.0</td>\n",
              "      <td>0.0</td>\n",
              "      <td>0.0</td>\n",
              "      <td>0.0</td>\n",
              "      <td>1.0</td>\n",
              "    </tr>\n",
              "    <tr>\n",
              "      <th>1</th>\n",
              "      <td>0.0</td>\n",
              "      <td>1.390954e+18</td>\n",
              "      <td>5.0</td>\n",
              "      <td>1.00</td>\n",
              "      <td>1.399248e+18</td>\n",
              "      <td>0.0</td>\n",
              "      <td>0.0</td>\n",
              "      <td>50.0</td>\n",
              "      <td>8.26</td>\n",
              "      <td>5.0</td>\n",
              "      <td>False</td>\n",
              "      <td>1.0</td>\n",
              "      <td>0.0</td>\n",
              "      <td>0.0</td>\n",
              "      <td>1.0</td>\n",
              "      <td>0.0</td>\n",
              "      <td>0.0</td>\n",
              "    </tr>\n",
              "    <tr>\n",
              "      <th>2</th>\n",
              "      <td>3.0</td>\n",
              "      <td>1.388966e+18</td>\n",
              "      <td>4.3</td>\n",
              "      <td>1.00</td>\n",
              "      <td>1.389053e+18</td>\n",
              "      <td>0.0</td>\n",
              "      <td>0.0</td>\n",
              "      <td>100.0</td>\n",
              "      <td>0.77</td>\n",
              "      <td>5.0</td>\n",
              "      <td>False</td>\n",
              "      <td>1.0</td>\n",
              "      <td>0.0</td>\n",
              "      <td>0.0</td>\n",
              "      <td>0.0</td>\n",
              "      <td>0.0</td>\n",
              "      <td>1.0</td>\n",
              "    </tr>\n",
              "    <tr>\n",
              "      <th>3</th>\n",
              "      <td>9.0</td>\n",
              "      <td>1.389312e+18</td>\n",
              "      <td>4.6</td>\n",
              "      <td>1.14</td>\n",
              "      <td>1.404000e+18</td>\n",
              "      <td>20.0</td>\n",
              "      <td>1.0</td>\n",
              "      <td>80.0</td>\n",
              "      <td>2.36</td>\n",
              "      <td>4.9</td>\n",
              "      <td>True</td>\n",
              "      <td>0.0</td>\n",
              "      <td>1.0</td>\n",
              "      <td>0.0</td>\n",
              "      <td>0.0</td>\n",
              "      <td>0.0</td>\n",
              "      <td>1.0</td>\n",
              "    </tr>\n",
              "    <tr>\n",
              "      <th>4</th>\n",
              "      <td>14.0</td>\n",
              "      <td>1.390781e+18</td>\n",
              "      <td>4.4</td>\n",
              "      <td>1.19</td>\n",
              "      <td>1.394842e+18</td>\n",
              "      <td>11.8</td>\n",
              "      <td>0.0</td>\n",
              "      <td>82.4</td>\n",
              "      <td>3.13</td>\n",
              "      <td>4.9</td>\n",
              "      <td>False</td>\n",
              "      <td>0.0</td>\n",
              "      <td>0.0</td>\n",
              "      <td>1.0</td>\n",
              "      <td>1.0</td>\n",
              "      <td>0.0</td>\n",
              "      <td>0.0</td>\n",
              "    </tr>\n",
              "  </tbody>\n",
              "</table>\n",
              "</div>"
            ],
            "text/plain": [
              "   trips_in_first_30_days   signup_date  avg_rating_of_driver  avg_surge  \\\n",
              "0                     4.0  1.390608e+18                   4.7       1.10   \n",
              "1                     0.0  1.390954e+18                   5.0       1.00   \n",
              "2                     3.0  1.388966e+18                   4.3       1.00   \n",
              "3                     9.0  1.389312e+18                   4.6       1.14   \n",
              "4                    14.0  1.390781e+18                   4.4       1.19   \n",
              "\n",
              "   last_trip_date  surge_pct  ultimate_black_user  weekday_pct  avg_dist  \\\n",
              "0    1.402963e+18       15.4                  1.0         46.2      3.67   \n",
              "1    1.399248e+18        0.0                  0.0         50.0      8.26   \n",
              "2    1.389053e+18        0.0                  0.0        100.0      0.77   \n",
              "3    1.404000e+18       20.0                  1.0         80.0      2.36   \n",
              "4    1.394842e+18       11.8                  0.0         82.4      3.13   \n",
              "\n",
              "   avg_rating_by_driver  retained  city_Astapor  city_King's Landing  \\\n",
              "0                   5.0      True           0.0                  1.0   \n",
              "1                   5.0     False           1.0                  0.0   \n",
              "2                   5.0     False           1.0                  0.0   \n",
              "3                   4.9      True           0.0                  1.0   \n",
              "4                   4.9     False           0.0                  0.0   \n",
              "\n",
              "   city_Winterfell  phone_Android  phone_None  phone_iPhone  \n",
              "0              0.0            0.0         0.0           1.0  \n",
              "1              0.0            1.0         0.0           0.0  \n",
              "2              0.0            0.0         0.0           1.0  \n",
              "3              0.0            0.0         0.0           1.0  \n",
              "4              1.0            1.0         0.0           0.0  "
            ]
          },
          "metadata": {
            "tags": []
          },
          "execution_count": 49
        }
      ]
    },
    {
      "cell_type": "markdown",
      "metadata": {
        "id": "Q3SoiKTSIqf2"
      },
      "source": [
        "Next, I will create my features. "
      ]
    },
    {
      "cell_type": "code",
      "metadata": {
        "id": "Y99LAXLeJAI4",
        "outputId": "61a6569d-6987-4ca4-b90f-6200ad4e9cad",
        "colab": {
          "base_uri": "https://localhost:8080/"
        }
      },
      "source": [
        "features = list(df_mod.columns)\n",
        "features.remove('retained')\n",
        "print(features)"
      ],
      "execution_count": 50,
      "outputs": [
        {
          "output_type": "stream",
          "text": [
            "['trips_in_first_30_days', 'signup_date', 'avg_rating_of_driver', 'avg_surge', 'last_trip_date', 'surge_pct', 'ultimate_black_user', 'weekday_pct', 'avg_dist', 'avg_rating_by_driver', 'city_Astapor', \"city_King's Landing\", 'city_Winterfell', 'phone_Android', 'phone_None', 'phone_iPhone']\n"
          ],
          "name": "stdout"
        }
      ]
    },
    {
      "cell_type": "markdown",
      "metadata": {
        "id": "Z5dnv2kiLT9B"
      },
      "source": [
        "After, I will scale my features."
      ]
    },
    {
      "cell_type": "code",
      "metadata": {
        "id": "QGfrTkQ9KTj1"
      },
      "source": [
        "from sklearn.preprocessing import StandardScaler\n",
        "\n",
        "X = df_mod[features].values\n",
        "y = df_mod['retained'].values\n",
        "\n",
        "scaler = StandardScaler()\n",
        "X_scaled = scaler.fit_transform(X)"
      ],
      "execution_count": 59,
      "outputs": []
    },
    {
      "cell_type": "markdown",
      "metadata": {
        "id": "xHnofTNwO60Y"
      },
      "source": [
        "Now, I will split my data into train and test sets for modeling."
      ]
    },
    {
      "cell_type": "code",
      "metadata": {
        "id": "EFxJ1HL4PBKn"
      },
      "source": [
        "X_train, X_test, y_train, y_test = train_test_split(X_scaled, y, random_state = 29, test_size = .33)"
      ],
      "execution_count": null,
      "outputs": []
    }
  ]
}