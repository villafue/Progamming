{
  "nbformat": 4,
  "nbformat_minor": 0,
  "metadata": {
    "colab": {
      "name": "Coding Springboard Interview Practice 8Aug2021.ipynb",
      "provenance": [],
      "authorship_tag": "ABX9TyOuP+EolOfCUpf2iKZnV0Mp",
      "include_colab_link": true
    },
    "kernelspec": {
      "name": "python3",
      "display_name": "Python 3"
    },
    "language_info": {
      "name": "python"
    }
  },
  "cells": [
    {
      "cell_type": "markdown",
      "metadata": {
        "id": "view-in-github",
        "colab_type": "text"
      },
      "source": [
        "<a href=\"https://colab.research.google.com/github/villafue/Progamming/blob/main/Coding%20Interview/Coding_Springboard_Interview_Practice_8Aug2021.ipynb\" target=\"_parent\"><img src=\"https://colab.research.google.com/assets/colab-badge.svg\" alt=\"Open In Colab\"/></a>"
      ]
    },
    {
      "cell_type": "code",
      "metadata": {
        "id": "XaZEE1qAqHob"
      },
      "source": [
        "'''\n",
        "Below is the coding practice with Vishal. I didn't realize it was the Fibonacci sequence. \n",
        "The last two completed functions were the answers he gave me. I couldn't complete it. \n",
        "'''\n",
        "\n",
        "# Python - Analytical Puzzle , 1,1,2,3,5,8.....\n",
        "# Write a function which accepts intput from user , n \n",
        "# and output is list containig elements of the sequence -> 1,1,2,3,5,8....\n",
        "n = 1 ; [1]\n",
        "n = 5 ; [1,1,2,3,5]\n",
        "\n",
        "def func(n)\n",
        "  fin_list = []\n",
        "  for i in range(0, n):\n",
        "    fin_list.append(i)\n",
        "  return fin_list\n",
        "  \n",
        "input_list = [input]\n",
        "def idx_list:\n",
        "  for idx in input_list\n",
        "  \n",
        "def func(n)\n",
        "  fin_list = []\n",
        "  for element in range(0, n):\n",
        "    if element = 0:\n",
        "      fin_list.append(1)\n",
        "    fin_list.append(element + element )\n",
        "\n",
        "  \n",
        "1 + 0 = 1, 1 + 1 = 2, \n",
        "\n",
        "def fibonacci(n):\n",
        "    #elements = []\n",
        "    if n == 2:\n",
        "        return [1, 1]\n",
        "    elif n == 1:\n",
        "        return [1]\n",
        "    elif n <= 0:\n",
        "        return []\n",
        "    else:\n",
        "        elements = fibonacci(n - 1)\n",
        "        next_element = elements[-1] + elements[-2]\n",
        "        elements.append(next_element)\n",
        "        return elements\n",
        "\n",
        "def series(n):\n",
        "    a,b=1,1\n",
        "    for i in range(n):\n",
        "        next=a+b\n",
        "        a=b\n",
        "        b=next\n",
        "        series_list.append(next)\n",
        "    return(series_list)"
      ],
      "execution_count": null,
      "outputs": []
    }
  ]
}