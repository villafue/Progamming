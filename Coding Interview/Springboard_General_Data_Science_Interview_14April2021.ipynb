{
  "nbformat": 4,
  "nbformat_minor": 0,
  "metadata": {
    "colab": {
      "name": "Springboard General Data Science Interview 14April2021.ipynb",
      "provenance": [],
      "authorship_tag": "ABX9TyMU07we69FT5boFVdWxjC+k",
      "include_colab_link": true
    },
    "kernelspec": {
      "name": "python3",
      "display_name": "Python 3"
    },
    "language_info": {
      "name": "python"
    }
  },
  "cells": [
    {
      "cell_type": "markdown",
      "metadata": {
        "id": "view-in-github",
        "colab_type": "text"
      },
      "source": [
        "<a href=\"https://colab.research.google.com/github/villafue/Progamming/blob/main/Coding%20Interview/Springboard_General_Data_Science_Interview_14April2021.ipynb\" target=\"_parent\"><img src=\"https://colab.research.google.com/assets/colab-badge.svg\" alt=\"Open In Colab\"/></a>"
      ]
    },
    {
      "cell_type": "markdown",
      "metadata": {
        "id": "HorIMhoIFrXj"
      },
      "source": [
        "Below are notes and feedback with my General Data Science Interview with Semih Yagcioglu. He gave a brief introduction and then invited me to give him a brief introduction.\n",
        "\n",
        "First, I told him I was nervous and burnt out. He told me to relax and that imagine this is a conversation between colleagues over coffee. He then asked if I wanted to do image processing or text processing. I chose text processing and admitted that I learned neither in the course.\n",
        "\n",
        "The scenario is that our company injests thousands of pieces of text and my goal is to design a machine learning system that tells users whether or not the text is in English or not in English.\n",
        "\n",
        "I said this was essentially a binary classification problem as it's either English or not English. \n",
        "\n",
        "I was nervous and I focused a lot on the technical aspect. I really wanted to pass. However, the advice Semih gave me was to focus more on, **\"What I am trying to solve.\"** Ask clarifying questions that relate to the problem at hand. Less technical implementation and more about the problem. An example is asking if the text is formal language or informal language. The questions should be to the point and with the objective of **\"for what purpose:**\n",
        "\n",
        "He also said during feature engineering that I should focus more on the problem. Listen very carefully to the question. An example I could have said was filtering based on letters or characters as English is different from Korean, etc. \n",
        "\n",
        "A technical issue he emphasized was how to avoid overfitting. I could not think of more than one way. He used an example of early stopping. \n",
        "\n",
        "I then asked him how I could practice this to get better for interviews. He said to imagine a problem with a product (like Spotify) and to go through solving the problem. Visualize and find a solution\n",
        "\n",
        "Another technical thing I could use is RNN as that tends to work well with text. \n",
        "\n",
        "A hiring manager is looking at my level of understanding and my ability to solve a problem using machine learning. \n",
        "\n",
        "Relax as it will help me. One of the best things he said is that **good problem solving starts with asking the right questions.** \n",
        "\n",
        "At the end of the interview, ask questions. He recommended that it should be an appropriate number of questions and pertinent to the problem. For example, he said if offered the job, what type of problems would I be working with. However, Kenneth my mentor offered that I'm also interviewing them. I should ask questions such as their culture and how their data is stored. I want to know if I actually do want to work there. \n",
        "\n"
      ]
    },
    {
      "cell_type": "code",
      "metadata": {
        "id": "Epg7tiozFbKv"
      },
      "source": [
        ""
      ],
      "execution_count": null,
      "outputs": []
    }
  ]
}