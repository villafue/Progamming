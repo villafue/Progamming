{
  "nbformat": 4,
  "nbformat_minor": 0,
  "metadata": {
    "colab": {
      "name": "Springboard Coding Exam 11April2021.ipynb",
      "provenance": [],
      "authorship_tag": "ABX9TyOnSz7+OnnMUrr/+3Dt607C",
      "include_colab_link": true
    },
    "kernelspec": {
      "name": "python3",
      "display_name": "Python 3"
    },
    "language_info": {
      "name": "python"
    }
  },
  "cells": [
    {
      "cell_type": "markdown",
      "metadata": {
        "id": "view-in-github",
        "colab_type": "text"
      },
      "source": [
        "<a href=\"https://colab.research.google.com/github/villafue/Progamming/blob/main/Coding%20Interview/Springboard_Coding_Exam_11April2021.ipynb\" target=\"_parent\"><img src=\"https://colab.research.google.com/assets/colab-badge.svg\" alt=\"Open In Colab\"/></a>"
      ]
    },
    {
      "cell_type": "markdown",
      "metadata": {
        "id": "pGlHtNNpVCPW"
      },
      "source": [
        "Below is the coding test from Springboard:\n",
        "\n",
        "\n",
        "\n",
        "*   Test was administered by Raghunandan Patthar\n",
        "*   Test was taken at 0800hrs PST on Sunday, April 11, 2021\n",
        "*   I was able to do the SQL question with some prompts\n",
        "*   I could not do the Python question without his guidance\n",
        "*   In terms of what to know for real employment coding exams this is what I need to know:\n",
        " *   He said to study \"Basic Data Structures\" such as list, tuples, dictionaries, json\n",
        " *   He said I need to know Pandas\n",
        " *   He said I need to know SQL through Joins, Aggregations, Window Functions, Subqueries\n",
        "* He said to use these three websites in order from best to worst: leetcode, Hacker Rank, Hacker Earth. \n",
        "\n",
        "\n"
      ]
    },
    {
      "cell_type": "markdown",
      "metadata": {
        "id": "5eXqRSgSWkea"
      },
      "source": [
        "This is the first of two questions and it is SQL:"
      ]
    },
    {
      "cell_type": "code",
      "metadata": {
        "id": "Mk4p75L98WM5"
      },
      "source": [
        "# Your previous MySQL content is preserved below:\n",
        "# \n",
        "# /*\n",
        "# CoderPad provides a basic SQL sandbox with the following schema.\n",
        "# You can also use commands like `show tables` and `desc employees`\n",
        "# \n",
        "# employees                             projects\n",
        "# +---------------+---------+           +---------------+---------+\n",
        "# | id            | int     |<----+  +->| id            | int     |\n",
        "# | first_name    | varchar |     |  |  | title         | varchar |\n",
        "# | last_name     | varchar |     |  |  | start_date    | date    |\n",
        "# | salary        | int     |     |  |  | end_date      | date    |\n",
        "# | department_id | int     |--+  |  |  | budget        | int     |\n",
        "# +---------------+---------+  |  |  |  +---------------+---------+\n",
        "#                              |  |  |\n",
        "# departments                  |  |  |  employees_projects\n",
        "# +---------------+---------+  |  |  |  +---------------+---------+\n",
        "# | id            | int     |<-+  |  +--| project_id    | int     |\n",
        "# | name          | varchar |     +-----| employee_id   | int     |\n",
        "# +---------------+---------+           +---------------+---------+\n",
        "# */\n",
        "'''SQL Test Question\n",
        "\n",
        "L1:fetch first name, last name, salary, department name where department id's are \n",
        "   the same in the table employees and departments and arrange the salary in descending #order\n",
        "'''\n",
        "# Answer is below:\n",
        "\n",
        "# SELECT first_name, last_name, salary, name AS department\n",
        "# FROM employees AS e\n",
        "# INNER JOIN departments AS d\n",
        "# ON e.department_id = d.id\n",
        "# ORDER BY salary DESC;\n",
        "# \n"
      ],
      "execution_count": null,
      "outputs": []
    },
    {
      "cell_type": "markdown",
      "metadata": {
        "id": "x_-O-XaQXHJl"
      },
      "source": [
        "Below is the \"Schema\" tab for the SQL question. I did not use this but it may be useful for other questions. Unfortunately, I could not retreive the output of my queries to save for study."
      ]
    },
    {
      "cell_type": "code",
      "metadata": {
        "id": "8DMUNcHxXFlx"
      },
      "source": [
        "A MySQL database is available to your program. Your code can connect to it at this socket:\n",
        "/tmp/mysql/socket/mysqld.sock\n",
        "Database state persists across code runs. To reset the state, press Reset or change the language.\n",
        "\n",
        "Schema\n",
        "\n",
        "DESCRIBE departments;\n",
        "+-------+--------------+------+-----+---------+----------------+\n",
        "| Field | Type         | Null | Key | Default | Extra          |\n",
        "+-------+--------------+------+-----+---------+----------------+\n",
        "| id    | int          | NO   | PRI | NULL    | auto_increment |\n",
        "| name  | varchar(255) | YES  |     | NULL    |                |\n",
        "+-------+--------------+------+-----+---------+----------------+\n",
        "DESCRIBE employees;\n",
        "+---------------+--------------+------+-----+---------+----------------+\n",
        "| Field         | Type         | Null | Key | Default | Extra          |\n",
        "+---------------+--------------+------+-----+---------+----------------+\n",
        "| id            | int          | NO   | PRI | NULL    | auto_increment |\n",
        "| first_name    | varchar(255) | YES  |     | NULL    |                |\n",
        "| last_name     | varchar(255) | YES  |     | NULL    |                |\n",
        "| salary        | int          | YES  |     | NULL    |                |\n",
        "| department_id | int          | YES  | MUL | NULL    |                |\n",
        "+---------------+--------------+------+-----+---------+----------------+\n",
        "DESCRIBE employees_projects;\n",
        "+-------------+------+------+-----+---------+-------+\n",
        "| Field       | Type | Null | Key | Default | Extra |\n",
        "+-------------+------+------+-----+---------+-------+\n",
        "| project_id  | int  | YES  | MUL | NULL    |       |\n",
        "| employee_id | int  | YES  | MUL | NULL    |       |\n",
        "+-------------+------+------+-----+---------+-------+\n",
        "DESCRIBE projects;\n",
        "+------------+--------------+------+-----+---------+----------------+\n",
        "| Field      | Type         | Null | Key | Default | Extra          |\n",
        "+------------+--------------+------+-----+---------+----------------+\n",
        "| id         | int          | NO   | PRI | NULL    | auto_increment |\n",
        "| title      | varchar(255) | YES  |     | NULL    |                |\n",
        "| start_date | date         | YES  |     | NULL    |                |\n",
        "| end_date   | date         | YES  |     | NULL    |                |\n",
        "| budget     | int          | YES  |     | NULL    |                |\n",
        "+------------+--------------+------+-----+---------+----------------+\n",
        "\n",
        "Want to use your own custom database in an interview? Go to https://app.coderpad.io/dashboard/databases to get started."
      ],
      "execution_count": null,
      "outputs": []
    },
    {
      "cell_type": "markdown",
      "metadata": {
        "id": "wBoQ3_yBXs1A"
      },
      "source": [
        "---"
      ]
    },
    {
      "cell_type": "markdown",
      "metadata": {
        "id": "ypk8FIqUXug3"
      },
      "source": [
        "The next question is Basic Python Structure:\n",
        "\n",
        "* The first question was to create a dictionary. He did this part for me. Notice, that it is 3 dictionaries inside a list. In other words, it is a \"list of dictionaries.\" Also, the dictionaries are independent of each other.\n",
        "* He walked me through creating dict1. That was my template for dict2 and dict 3. \n",
        "* He said one could use a loop to do this too but this is one way to answer this question."
      ]
    },
    {
      "cell_type": "markdown",
      "metadata": {
        "id": "OLB524gRYzid"
      },
      "source": [
        "These are the steps for dict1:\n",
        "\n",
        "1. Because the dictionaries are in a list, you can access the first dictionary by slicing the list using its index with square brackets. This was saved to variable `dict1`\n",
        "2. The output was a list within a list `[[\"John\",'Sally','Tim']]`. This was an issue because I could not sort it. I did not realize that this was still a dictionary so he had to education me on this. I could access it by using the its key of `'Name'`. This is what was saved for `dict1_val_list`.\n",
        "3. The last step is just sorting it in reverse. "
      ]
    },
    {
      "cell_type": "code",
      "metadata": {
        "id": "eXPN5A4aU65x"
      },
      "source": [
        "'''\n",
        "1. create a list of dictionaries to hold the below dataset:\n",
        "#\n",
        "#Name        id         department\n",
        "#John        123         Marketing\n",
        "#Sally       456         sales\n",
        "#Tim         789         Data\n",
        "#\n",
        "2. Print the sorted dictionary by value  in descending order\n",
        "'''\n",
        "\n",
        "list_dict = [{'Name':[\"John\",'Sally','Tim']},{'id':[123,456,789]},{\"department\":['Marketing','Sales','Data']}]\n",
        "\n",
        "#print(list_dict)\n",
        "\n",
        "dict1 = list_dict[0]\n",
        "dict1_val_list = dict1['Name']\n",
        "print(dict1_val_list)\n",
        "#dict1_val = dict1_val_list[0]\n",
        "print(sorted(dict1_val_list, reverse=True))\n",
        "\n",
        "dict2 = list_dict[1]\n",
        "dict2_val_list = dict2['id']\n",
        "print(dict2_val_list)\n",
        "print(sorted(dict2_val_list, reverse=True))\n",
        "\n",
        "dict3 = list_dict[2]\n",
        "dict3_val_list = dict3['department']\n",
        "print(dict3_val_list)\n",
        "print(sorted(dict3_val_list, reverse=True))\n",
        "    "
      ],
      "execution_count": null,
      "outputs": []
    },
    {
      "cell_type": "markdown",
      "metadata": {
        "id": "wuo5cHeSUWY3"
      },
      "source": [
        "The output for the Python question is below:"
      ]
    },
    {
      "cell_type": "code",
      "metadata": {
        "id": "p6OuXpv6UUIH"
      },
      "source": [
        "Python 3 environment ready. Hit run to try out some code!\n",
        "Python 3.8.0\n",
        "\n",
        ">>> \n",
        "\n",
        "Roland Villafuerte ran 73 lines of Python 3 (finished in 820ms):\n",
        "\n",
        "\n",
        ">>> \n",
        "\n",
        "Roland Villafuerte ran 73 lines of Python 3 (finished in 649ms):\n",
        "\n",
        "\n",
        ">>> \n",
        "\n",
        "Roland Villafuerte ran 74 lines of Python 3 (finished in 651ms):\n",
        "\n",
        "[{'Name': ['John', 'Sally', 'Tim']}, {'id': [123, 456, 789]}, {'department': ['Marketing', 'Sales', 'Data']}]\n",
        "\n",
        ">>> \n",
        "\n",
        "Roland Villafuerte ran 77 lines of Python 3 (finished in 746ms):\n",
        "\n",
        "[{'Name': ['John', 'Sally', 'Tim']}, {'id': [123, 456, 789]}, {'department': ['Marketing', 'Sales', 'Data']}]\n",
        "Traceback (most recent call last):\n",
        "  File \"/home/coderpad/solution.py\", line 14, in <module>\n",
        "    df = pd.DataFrame(list_dict)\n",
        "NameError: name 'pd' is not defined\n",
        "\n",
        "\n",
        ">>> \n",
        "\n",
        "Roland Villafuerte ran 77 lines of Python 3 (finished in 640ms):\n",
        "\n",
        "[{'Name': ['John', 'Sally', 'Tim']}, {'id': [123, 456, 789]}, {'department': ['Marketing', 'Sales', 'Data']}]\n",
        "{'Name': ['John', 'Sally', 'Tim']}\n",
        "\n",
        ">>> \n",
        "\n",
        "Roland Villafuerte ran 77 lines of Python 3 (finished in 783ms):\n",
        "\n",
        "dict_values([['John', 'Sally', 'Tim']])\n",
        "\n",
        ">>> \n",
        "\n",
        "Roland Villafuerte ran 77 lines of Python 3 (finished in 692ms):\n",
        "\n",
        "[['John', 'Sally', 'Tim']]\n",
        "\n",
        ">>> \n",
        "\n",
        "Roland Villafuerte ran 78 lines of Python 3 (finished in 712ms):\n",
        "\n",
        "Traceback (most recent call last):\n",
        "  File \"/home/coderpad/solution.py\", line 16, in <module>\n",
        "    dict1_val = dict1_val_list[0]\n",
        "TypeError: 'dict_values' object is not subscriptable\n",
        "\n",
        "\n",
        ">>> \n",
        "\n",
        "Springboard Career Services ran 79 lines of Python 3 (finished in 742ms):\n",
        "\n",
        "dict_values([['John', 'Sally', 'Tim']])\n",
        "Traceback (most recent call last):\n",
        "  File \"/home/coderpad/solution.py\", line 17, in <module>\n",
        "    dict1_val = dict1_val_list[0]\n",
        "TypeError: 'dict_values' object is not subscriptable\n",
        "\n",
        "\n",
        ">>> \n",
        "\n",
        "Springboard Career Services ran 79 lines of Python 3 (finished in 887ms):\n",
        "\n",
        "dict_values([['John', 'Sally', 'Tim']])\n",
        "\n",
        ">>> \n",
        "\n",
        "Springboard Career Services ran 79 lines of Python 3 (finished in 691ms):\n",
        "\n",
        "['John', 'Sally', 'Tim']\n",
        "\n",
        ">>> \n",
        "\n",
        "Springboard Career Services ran 79 lines of Python 3 (finished in 700ms):\n",
        "\n",
        "['John', 'Sally', 'Tim']\n",
        "['Tim', 'Sally', 'John']\n",
        "\n",
        ">>> \n",
        "\n",
        "Roland Villafuerte ran 85 lines of Python 3 (finished in 734ms):\n",
        "\n",
        "  File \"/home/coderpad/solution.py\", line 21\n",
        "    dic2_val_list = dict2['id]\n",
        "                              ^\n",
        "SyntaxError: EOL while scanning string literal\n",
        "\n",
        "\n",
        ">>> \n",
        "\n",
        "Roland Villafuerte ran 85 lines of Python 3 (finished in 733ms):\n",
        "\n",
        "  File \"/home/coderpad/solution.py\", line 84\n",
        "    #\n",
        "      ^\n",
        "SyntaxError: unexpected EOF while parsing\n",
        "\n",
        "\n",
        ">>> \n",
        "\n",
        "Roland Villafuerte ran 85 lines of Python 3 (finished in 663ms):\n",
        "\n",
        "['John', 'Sally', 'Tim']\n",
        "['Tim', 'Sally', 'John']\n",
        "[123, 456, 789]\n",
        "[789, 456, 123]\n",
        "\n",
        ">>> \n",
        "\n",
        "Roland Villafuerte ran 89 lines of Python 3 (finished in 649ms):\n",
        "\n",
        "['John', 'Sally', 'Tim']\n",
        "['Tim', 'Sally', 'John']\n",
        "[123, 456, 789]\n",
        "[789, 456, 123]\n",
        "['Marketing', 'Sales', 'Data']\n",
        "['Sales', 'Marketing', 'Data']"
      ],
      "execution_count": null,
      "outputs": []
    }
  ]
}