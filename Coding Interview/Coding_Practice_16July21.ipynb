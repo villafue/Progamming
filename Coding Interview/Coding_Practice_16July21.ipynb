{
  "nbformat": 4,
  "nbformat_minor": 0,
  "metadata": {
    "colab": {
      "name": "Coding Practice 16July21.ipynb",
      "provenance": [],
      "authorship_tag": "ABX9TyPL6tILEp7G49caYV3R6tX0",
      "include_colab_link": true
    },
    "kernelspec": {
      "name": "python3",
      "display_name": "Python 3"
    },
    "language_info": {
      "name": "python"
    }
  },
  "cells": [
    {
      "cell_type": "markdown",
      "metadata": {
        "id": "view-in-github",
        "colab_type": "text"
      },
      "source": [
        "<a href=\"https://colab.research.google.com/github/villafue/Progamming/blob/main/Coding%20Interview/Coding_Practice_16July21.ipynb\" target=\"_parent\"><img src=\"https://colab.research.google.com/assets/colab-badge.svg\" alt=\"Open In Colab\"/></a>"
      ]
    },
    {
      "cell_type": "code",
      "metadata": {
        "id": "Qt5oAvnDgIEq"
      },
      "source": [
        "subject_id,student_id\n",
        "10030,55000\n",
        "10030,55804\n",
        "10250,55804\n",
        "10510,55000\n",
        "#1. Use pandas to read the csv file, Data.csv; \n",
        "#Processing -> count the number of students per subject.\n",
        "10030 : 2\n",
        "10250 : 1\n",
        "10510 : 1\n",
        "\n",
        "import pandas as pd\n",
        "df = pd.read_csv('Data.csv')\n",
        "df.groupby('subject_id').count()\n",
        "df.groupby('subject_id').agg('count')\n",
        "\n",
        "\n",
        "\n",
        "# 2. Use base Python only to read the csv file, Data.csv; \n",
        "# Processing -> count the number of students per subject.\n",
        "# I can also look at collections\n",
        "_dic = {}\n",
        "lst = [[10030,55000],[10030,55804],[],[]]\n",
        "for x in lst\n",
        "  if x[0] not in _dic.keys(): #x = [10030, 50000] then x[0] = 10030 \n",
        "     _dic[x[0]] = 1\n",
        "     \n",
        "  else:\n",
        "       _dic[x[0]] += 1\n",
        "  \n",
        "  \n",
        "  \n",
        "#SQL,datatable \n",
        " SELECT subject_id, COUNT(student_id) FROM datatable GROUP BY subject_id\n",
        " \n",
        " SELECT DISTINCT subject_id, COUNT(student_id)   \n",
        "  FROM datatable \n",
        "  HAVING COUNT(student_id) > 1 \n",
        " \n",
        "#having agg_fn condition \n",
        "\n",
        "\n"
      ],
      "execution_count": null,
      "outputs": []
    }
  ]
}