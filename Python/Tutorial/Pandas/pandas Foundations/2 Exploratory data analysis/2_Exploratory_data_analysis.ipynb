{
  "nbformat": 4,
  "nbformat_minor": 0,
  "metadata": {
    "colab": {
      "name": "2 Exploratory data analysis.ipynb",
      "provenance": [],
      "authorship_tag": "ABX9TyOUJ+LuXDbTyXxXUUfhiig6",
      "include_colab_link": true
    },
    "kernelspec": {
      "name": "python3",
      "display_name": "Python 3"
    },
    "language_info": {
      "name": "python"
    }
  },
  "cells": [
    {
      "cell_type": "markdown",
      "metadata": {
        "id": "view-in-github",
        "colab_type": "text"
      },
      "source": [
        "<a href=\"https://colab.research.google.com/github/villafue/Progamming/blob/main/Python/Tutorial/Pandas/pandas%20Foundations/2%20Exploratory%20data%20analysis/2_Exploratory_data_analysis.ipynb\" target=\"_parent\"><img src=\"https://colab.research.google.com/assets/colab-badge.svg\" alt=\"Open In Colab\"/></a>"
      ]
    },
    {
      "cell_type": "markdown",
      "metadata": {
        "id": "EE0KzVGFz8an"
      },
      "source": [
        "# Exploratory data analysis\n",
        "\n",
        "Now that you’ve learned how to ingest and inspect your data, you will next learn how to explore it visually and quantitatively. This process, known as exploratory data analysis (EDA), is a crucial component of any data science project. pandas has powerful methods that help with statistical and visual EDA. In this chapter, you will learn how and when to apply these techniques."
      ]
    },
    {
      "cell_type": "markdown",
      "metadata": {
        "id": "IACcY3za0VFG"
      },
      "source": [
        "# Statistical exploratory data analysis\n",
        "\n",
        "1. Statistical exploratory data analysis\n",
        "\n",
        "Plots are useful, but it is useful to have quantitative results too.\n",
        "2. Summarizing with describe()\n",
        "\n",
        "Remember, a statistic is a single number that summarizes a numerical dataset. We can use describe to list summary statistics of numerical columns of the iris DataFrame.\n",
        "3. Describe\n",
        "\n",
        "The output of describe includes: counts, means, standard deviations, minima, first quartiles, medians, third quartiles, & maxima from all numerical columns of the DataFrame. Let's learn about these statistics in detail.\n",
        "4. Counts\n",
        "\n",
        "The count method returns the number of non-null entries in a given numerical column. The Series method count returns a scalar integer. The DataFrame method count returns a Series of counts computed over each column.\n",
        "5. Averages\n",
        "\n",
        "The mean method computes an average of a Series and the average of DataFrames column-wise, ignoring null entries. All Series & DataFrame statistical methods ignore null entries. This is particularly important to ensure summary statistics like averages are not diluted by null entries.\n",
        "6. Standard deviations\n",
        "\n",
        "The std method computes the standard deviation of the non-null entries of a Series. Remember, if the mean measures the tendency to a central value of a measurement, the standard deviation measures its spread. For instance, with a bell-curve distribution, the mean is roughly at the middle and the standard deviation is roughly the width of the bell curve.\n",
        "7. Mean and standard deviation on a bell curve\n",
        "\n",
        "For instance, with a bell-curve distribution, the mean is roughly at the middle and the standard deviation is roughly the width of the bell curve.\n",
        "8. Medians\n",
        "\n",
        "The mean is not the only measure of centrality used in statistics. The median method computes the median of a Series. Here, the median sepal width 3-point-00 cm tells us 75 of the 150 observations have sepal width smaller than 3-point-00 cm and the other 75 have sepal widths larger than 3-point-00 cm. Similar interpretations apply to the other columns.\n",
        "9. Medians & 0.5 quantiles\n",
        "\n",
        "A median is a special example of a quantile. If q is between 0 and 1, the qth quantile of a dataset is a numerical value that splits the data into two sets, one with the fraction q of smaller observations, the other with larger observations. Colloquially, quantiles are called percentiles using percentages between 0 & 100 rather than fractions between 0 and 1. The median, then, is the 0 point 5 quantile (or 50th percentile) of a dataset, as verified using the methods median and quantile(q) with q equals 0 point 5. The quantile method computes the median by default. Given a fraction q, it returns the qth quantile. The quantile method also accepts a list or array of values between 0 & 1.\n",
        "10. Inter-quartile range (IQR)\n",
        "\n",
        "For instance, using q equals 0 point 25, 0 point 75 with quantile(q) returns the interquartile range or IQR between the one-quarter and the three-quarter quantiles. Again, we see here the IQR for the petal length is between 1-point-6 cm and 5-point-1 cm, telling us half the data collected lies in this range.\n",
        "11. Ranges\n",
        "\n",
        "The range is the interval between the smallest and largest observations. These are given by the min and max methods respectively. Notice that these two methods also return values for the species column, notably the first and last strings in the columns when sorted in alphabetical order.\n",
        "12. Box plots\n",
        "\n",
        "Remember, we can use the plot method with kind equals 'box' to draw box plots.\n",
        "13. Box plots\n",
        "\n",
        "The plot draws the range and interquartile ranges graphically; you can read off the minimum, the one-quarter quartile, the median, the three-quarter quartile, and the maximum for all columns of the DataFrame.\n",
        "14. Percentiles as quantiles\n",
        "\n",
        "This box plot uses exactly the same data as reported by describe. Notice the quartiles are reported as percentiles by describe.\n",
        "15. Let's practice!\n",
        "\n",
        "Now you understand what these statistics describe reports, you can do some statistical Exploratory Data Analysis on your own in the exercises. "
      ]
    },
    {
      "cell_type": "markdown",
      "metadata": {
        "id": "S-Jk1Qed1LtR"
      },
      "source": [
        "# Fuel efficiency\n",
        "\n",
        "From the automobiles data set, which value corresponds to the median value of the 'mpg' column? Your job is to select the 'mpg' column and call the .median() method on it. The automobile DataFrame has been provided as df.\n",
        "\n",
        "```\n",
        "In [1]:\n",
        "df.head()\n",
        "Out[1]:\n",
        "\n",
        "    mpg  cyl  displ   hp  weight  accel  yr origin                       name\n",
        "0  18.0    8  307.0  130    3504   12.0  70     US  chevrolet chevelle malibu\n",
        "1  15.0    8  350.0  165    3693   11.5  70     US          buick skylark 320\n",
        "2  18.0    8  318.0  150    3436   11.0  70     US         plymouth satellite\n",
        "3  16.0    8  304.0  150    3433   12.0  70     US              amc rebel sst\n",
        "4  17.0    8  302.0  140    3449   10.5  70     US                ford torino\n",
        "\n",
        "In [2]:\n",
        "df.mpg.median()\n",
        "Out[2]:\n",
        "22.75\n",
        "```\n",
        "Possible Answers\n",
        "\n",
        "1. 29.0 - Incorrect. This is not the median value of mpg.\n",
        "\n",
        "2. 23.45 - Incorrect. The mean of mpg is 23.45, but you have to compute the median.\n",
        "    \n",
        "3. 22.75 - Exactly - great work! The median is a very useful statistic, especially in the presence of outliers, when it is more robust than the mean.\n",
        "\n",
        "4. 32 - Incorrect. The median value of mpg is not 32. "
      ]
    },
    {
      "cell_type": "markdown",
      "metadata": {
        "id": "MqOMLoEd3Sb0"
      },
      "source": [
        "# Bachelor's degrees awarded to women\n",
        "\n",
        "In this exercise, you will investigate statistics of the percentage of Bachelor's degrees awarded to women from 1970 to 2011. Data is recorded every year for 17 different fields. This data set was obtained from the [Digest of Education Statistics](http://nces.ed.gov/programs/digest/2013menu_tables.asp).\n",
        "\n",
        "Your job is to compute the minimum and maximum values of the 'Engineering' column and generate a line plot of the mean value of all 17 academic fields per year. To perform this step, you'll use the .mean() method with the keyword argument axis='columns'. This computes the mean across all columns per row.\n",
        "\n",
        "The DataFrame has been pre-loaded for you as df with the index set to 'Year'.\n",
        "\n",
        "Instructions\n",
        "\n",
        "1. Print the minimum value of the 'Engineering' column.\n",
        "\n",
        "2. Print the maximum value of the 'Engineering' column.\n",
        "\n",
        "3. Construct the mean percentage per year with .mean(axis='columns'). Assign the result to mean.\n",
        "\n",
        "4. Plot the average percentage per year. Since 'Year' is the index of df, it will appear on the x-axis of the plot. No keyword arguments are needed in your call to .plot().\n"
      ]
    },
    {
      "cell_type": "code",
      "metadata": {
        "id": "0ex2DMk3z61Q"
      },
      "source": [
        "In [1]:\n",
        "df.head()\n",
        "Out[1]:\n",
        "\n",
        "      Agriculture  Architecture  Art and Performance    Biology   Business  ...  Math and Statistics  Physical Sciences  Psychology  Public Administration  Social Sciences and History\n",
        "Year                                                                        ...                                                                                                        \n",
        "1970     4.229798     11.921005                 59.7  29.088363   9.064439  ...                 38.0               13.8        44.4                   68.4                         36.8\n",
        "1971     5.452797     12.003106                 59.9  29.394403   9.503187  ...                 39.0               14.9        46.2                   65.5                         36.2\n",
        "1972     7.420710     13.214594                 60.4  29.810221  10.558962  ...                 40.2               14.8        47.6                   62.6                         36.1\n",
        "1973     9.653602     14.791613                 60.2  31.147915  12.804602  ...                 40.9               16.5        50.4                   64.3                         36.4\n",
        "1974    14.074623     17.444688                 61.9  32.996183  16.204850  ...                 41.8               18.2        52.6                   66.1                         37.3\n",
        "\n",
        "[5 rows x 17 columns]"
      ],
      "execution_count": null,
      "outputs": []
    },
    {
      "cell_type": "code",
      "metadata": {
        "id": "zcoRQO-q4PpY"
      },
      "source": [
        "# Print the minimum value of the Engineering column\n",
        "print(df.Engineering.min())\n",
        "\n",
        "# Print the maximum value of the Engineering column\n",
        "print(df.Engineering.max())\n",
        "\n",
        "# Construct the mean percentage per year: mean\n",
        "mean = df.mean(axis='columns')\n",
        "\n",
        "# Plot the average percentage per year\n",
        "mean.plot()\n",
        "\n",
        "# Display the plot\n",
        "plt.show()\n",
        "\n",
        "'''\n",
        "<script.py> output:\n",
        "    0.8\n",
        "    19.0\n",
        "'''"
      ],
      "execution_count": null,
      "outputs": []
    },
    {
      "cell_type": "markdown",
      "metadata": {
        "id": "ZSClP-7033mz"
      },
      "source": [
        "Conclusion\n",
        "\n",
        "Well done! It looks like there has generally been an upward trend since 1970.\n",
        "\n",
        "![image.png](data:image/png;base64,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)"
      ]
    },
    {
      "cell_type": "markdown",
      "metadata": {
        "id": "S6CigtJv4Yib"
      },
      "source": [
        "# Median vs mean\n",
        "\n",
        "In many data sets, there can be large differences in the mean and median value due to the presence of outliers.\n",
        "\n",
        "In this exercise, you'll investigate the mean, median, and max fare prices paid by passengers on the Titanic and generate a box plot of the fare prices. This data set was obtained from [Vanderbilt University](http://biostat.mc.vanderbilt.edu/wiki/pub/Main/DataSets/titanic.html).\n",
        "\n",
        "All necessary modules have been imported and the DataFrame is available in the workspace as df.\n",
        "\n",
        "Instructions\n",
        "\n",
        "1. Print summary statistics of the 'fare' column of df with .describe() and print(). Note: df.fare and df['fare'] are equivalent.\n",
        "\n",
        "2. Generate a box plot of the 'fare' column.\n"
      ]
    },
    {
      "cell_type": "code",
      "metadata": {
        "id": "ersQqX5I5KcH"
      },
      "source": [
        "# Print summary statistics of the fare column with .describe()\n",
        "print(df.fare.describe())\n",
        "\n",
        "# Generate a box plot of the fare column\n",
        "df.fare.plot(kind='box')\n",
        "\n",
        "# Show the plot\n",
        "plt.show()\n",
        "\n",
        "'''\n",
        "<script.py> output:\n",
        "    count    1308.000000\n",
        "    mean       33.295479\n",
        "    std        51.758668\n",
        "    min         0.000000\n",
        "    25%         7.895800\n",
        "    50%        14.454200\n",
        "    75%        31.275000\n",
        "    max       512.329200\n",
        "    Name: fare, dtype: float64\n",
        "'''"
      ],
      "execution_count": null,
      "outputs": []
    },
    {
      "cell_type": "markdown",
      "metadata": {
        "id": "oLedkvNs5UvQ"
      },
      "source": [
        "Conclusion\n",
        "\n",
        "Excellent job! Here you can see why the median is a more informative statistic in the presence of outliers.\n",
        "\n",
        "![image.png](data:image/png;base64,iVBORw0KGgoAAAANSUhEUgAAAlkAAAGMCAYAAADp47dGAAAgAElEQVR4Ae3db4wdZ70fcMdxEicoXisQUgfEboRw3iSxqyIIEpGtXoU/SqI1CUIgFdnKG0QD3lVfFHi1pqEiErTrF74FiWrtN1TUqeQguEpVoToQ91YFqVuFqysqdOtQdNUXt63hxb1v+uKpfpM8J8+O55w9e86Mz9mdz0iTM/PMzOMzn/M7q2+emXPOvmQiQIAAAQIECBBoXWBf6z3qkAABAgQIECBAIAlZioAAAQIECBAg0IGAkNUBqi4JECBAgAABAkKWGiBAgAABAgQIdCAgZHWAqksCBAgQIECAgJClBggQIECAAAECHQgIWR2g6pIAAQIECBAgIGSpAQIECBAgQIBABwJCVgeouiRAgAABAgQICFlqgAABAgQIECDQgYCQ1QGqLgkQIECAAAECQpYaIECAAAECBAh0ICBkdYCqSwIECBAgQIDArg9Zzz//fNq3b5+ZgRpQA2pADagBNdBJDfzsZz+bKDHu+pC1sbGRTp06NdHJO4gAAQIECBAgMErg3e9+d/rtb387apeh24SsoTQ2ECBAgAABAn0XELKMZPX9PeD8CRAgQIBAJwJClpDVSWHplAABAgQI9F1AyBKy+v4ecP4ECBAgQKATASFLyOqksHRKgAABAgT6LiBkCVl9fw84fwIECBAg0ImAkCVkdVJYOiVAgAABAn0XELKErL6/B5w/AQIECBDoREDIErI6KSydEiBAgACBvgsIWUJW398Dzp/AWAKf+cxn0pEjR9LRo0fT2bNnxzrGTgQI9FtAyBKy+v0OcPYEthG4cOFCuu222276TbO77747Xbt2bZujbSZAoM8CQpaQ1ef6d+4EthXIPyJfjl49/vjjVeiKoGUiQIDAMAEhS8gaVhvaCfReIC4PRshqGrHKQasMX70HA0CAwBYBIUvI2lIQVggQeEdg//79KeZhUwSwCGImAgQINAkIWUJWU11oI0AgpW0vCUbIWlhYYEWAAIFGASFLyGosDI0ECKQqQEWQaprihvjYdsrfkCYebQQIpJSELH8gvREIEBgikIPUgQMHtuwR92hFwBoWwLbsbIUAgd4KzCxkXb16dfBHKv+xavqDtbKyMtjv5MmT6caNG1terM3NzbS0tFTtc/jw4XTx4sUt20etbGxs+L/QUUC2ESBQfS9W/hsVnyaMwJXX3fSuQAgQGCUw85AVYaucyye7traWjh07lq5fv16Fq+Xl5RRBK08RuCJYra+vV01Xrlyp/vhF8BpnErLGUbIPAQIxohUBK4eruNm96ROHpAgQIFAKzDxklU+mvhw3lJYjUxGe4o9chK6YIlwtLi5uOSyC2OnTp7e0DVsRsobJaCdAgAABAgSmFZh5yFpdXU0xnz9/fsulwBilikAVo1zlVLZFmIpQVU4x+nXixImyaeiykDWUxgYCBAgQIEBgSoGZhqwISBGKYo4RqePHjw+CVr5nq35+MboV+8cUYSov5/1iPS4hNk0x5P/YY48N5ve///3pE5/4RNOu2ggQIECAAAECUwnMLGTVn3WMXEXQyvdX5ZBVv9E9QlbeZ1jIql9CzP/Wm2++mX7+858P5q997WvpmWeeyZs9EiBAgAABAgRaE5ibkBVnFCNb+fLfuJcL65cGYySr3jZMy+XCYTLaCRAgQIAAgWkF5ipkxScJy8t/5chWnGj9xve4Kb5+aTACVnztwziTkDWOkn0IECBAgACBSQRmFrLi6xYuXbqUXnvttWqOb02Om9rLr1+Iy4IRol555ZWqPe7ZKj85GKNdcfnwzJkz1fa4eb789OF2IELWdkK2EyBAgAABApMKzDRkxchVhKIISnGZsP5JwjipGNmK7bFfBKz6PVoRynI/MfIV4W3cScgaV8p+BAgQIECAwE4FZhaydvpEu9hfyOpCVZ8ECBAgQIBACAhZfrvQO4EAAQIECBDoQEDIErI6KCtdEiBAgAABAkKWkOVdQIAAAQIECHQgIGQJWR2UlS4JECBAgAABIUvI8i4gQIAAAQIEOhAQsoSsDspKlwQIECBAgICQJWR5FxAgQIAAAQIdCAhZQlYHZaVLAgQIECBAQMgSsrwLCBAgQIAAgQ4EhCwhq4Oy0iUBAgQIECAgZAlZ3gUECBAgQIBABwJClpDVQVnpkgABAgQIEBCyhCzvAgIECBAgQKADASFLyOqgrHRJgAABAgQICFlClncBAQIECBAg0IGAkCVkdVBWuiRAgAABAgSELCHLu4AAAQIECBDoQEDIErI6KCtdEiBAgAABAkKWkOVdQIAAAQIECHQgIGQJWR2UlS4JECBAgAABIUvI8i4gQIAAAQIEOhAQsoSsDspKlwQIECBAgICQJWR5FxAgQIAAAQIdCAhZQlYHZaVLAgQIECBAQMgSsrwLCBAgQIAAgQ4EhCwhq4Oy0iUBAgQIECAgZAlZ3gUECBAgQIBABwJClpDVQVnpkgABAgQIEBCyhCzvAgIECBAgQKADASFLyOqgrHRJgAABAgQICFlClncBAQIECBAg0IGAkCVkdVBWuiRAgAABAgSELCHLu4AAAQIECBDoQEDIErI6KCtdEiBAgAABAkKWkOVdQIAAAQIECHQgIGQJWR2UlS4JECBAgAABIUvI8i4gQIAAAQIEOhAQsoSsDspKlwQIECBAgICQJWR5FxAgQIAAAQIdCAhZQlYHZaVLAgQIECBAQMgSsrwLCBAgQIAAgQ4EhCwhq4Oy0iUBAgQIECAgZAlZ3gUECBAgQIBABwJClpDVQVnpkgABAgQIEBCyhCzvAgIECBAgQKADASFLyOqgrHRJgAABAgQICFlClncBAQIECBAg0IGAkCVkdVBWuiRAgAABAgSELCHLu4AAAQIECBDoQEDIErI6KCtdEiBAgAABAnMRsq5fv55OnjyZVlZWbnpF1tbW0tLSUjp8+HA6c+ZMunHjxpZ9Njc306lTp9K+ffvS8ePH09WrV7dsH7WysbFRHTtqH9sIECBAgAABApMIzEXIOnHiRDp27FiKx3JaX19PCwsL6cqVKynCVOxz+vTpwS4RuCJ8RVtsj/0jbEVoG2cSssZRsg8BAgQIECAwicDMQ1YEowhXMWJVD1mLi4tVcMonFqNUEaLyaNbFixerEJa3x2MEsaYRsXKfvCxkZQmPBAgQIECAQNsCMw1ZMeIUQSoe6yErglQEqvrlv7ItRrDqwazezygwIWuUjm0ECBAgQIDANAIzDVkRkGIkK6Z6OKqPWuWTjMuH+Zg8Apa35X7iHq6m6fLly+nzn//8YP7IRz6SPvWpTzXtqo0AAQIECBAgMJXAzEJW3GdVjkINC1n1s4uRr9g3pmEhK4JY0/TLX/4yfe973xvMX/ziF9NTTz3VtKs2AgQIECBAgMBUAjMLWRGE4lOB586dq+b4dGGMQMV6XD6Mubw0mM+ybFteXk4xl1M9rJXb6ssuF9ZFrBMgQIAAAQJtCcwsZMUoVDnHCFUEr2iLTwrGFOtxc3ueoj1CVgSwmOKyYf3SYISu8hOI+dimRyGrSUUbAQIECBAg0IbAzEJW/ck3jUBFW3z3Vf40YQSoCGF5yjfH5yCWQ1gOaXm/YY9C1jAZ7QQIECBAgMC0AnMdsiJERbCK0auY4+sZ8ihWPvH8NQ6xPUa+8k3xefuoRyFrlI5tBAgQIECAwDQCcxOytjuJPJo1bL/ttjcdJ2Q1qWgjQIAAAQIE2hDYNSGrjZOt9yFk1UWsEyBAgAABAm0JCFl+ILqtWtIPAQIECBAgUAgIWUJWUQ4WCRAgQIAAgbYEhCwhq61a0g8BAgQIECBQCAhZQlZRDhYJECBAgACBtgSELCGrrVrSDwECBAgQIFAICFlCVlEOFgkQIECAAIG2BIQsIautWtIPAQIECBAgUAgIWUJWUQ4WCRAgQIAAgbYEhCwhq61a0g8BAgQIECBQCAhZQlZRDhYJECBAgACBtgSELCGrrVrSDwECBAgQIFAICFlCVlEOFgkQIECAAIG2BIQsIautWtIPAQIECBAgUAgIWUJWUQ4WCRAgQIAAgbYEhCwhq61a0g8BAgQIECBQCAhZQlZRDhYJECBAgACBtgSELCGrrVrSDwECBAgQIFAICFlCVlEOFgkQIECAAIG2BIQsIautWtIPAQIECBAgUAgIWUJWUQ4WCRAgQIAAgbYEhCwhq61a0g8BAgQIECBQCAhZQlZRDhYJECBAgACBtgSELCGrrVrSDwECBAgQIFAICFlCVlEOFgkQIECAAIG2BIQsIautWtIPAQIECBAgUAgIWUJWUQ4WCRAgQIAAgbYEhCwhq61a0g8BAgQIECBQCAhZQlZRDhYJECBAgACBtgSELCGrrVrSDwECBAgQIFAICFlCVlEOFgkQIECAAIG2BIQsIautWtIPAQIECBAgUAgIWUJWUQ4WCRAgQIAAgbYEhCwhq61a0g8BAgQIECBQCAhZQlZRDhYJECBAgACBtgSELCGrrVrSDwECBAgQIFAICFlCVlEOFgkQIECAAIG2BIQsIautWtIPAQIECBAgUAgIWUJWUQ4WCRAgQIAAgbYEhCwhq61a0g8BAgQIECBQCAhZQlZRDhYJECBAgACBtgSELCGrrVrSDwECBAgQIFAICFlCVlEOFgkQIECAAIG2BIQsIautWtIPAQIECBAgUAgIWUJWUQ4WCRAgQIAAgbYEhCwhq61a0g8BAgQIECBQCAhZQlZRDhYJECBAgACBtgSELCGrrVrSDwECBAgQIFAICFlCVlEOFgkQIECAAIG2BIQsIautWtIPAQIECBAgUAjMLGRdv349nTt3Lp08ebKaz5w5k6KtPl25ciWdOnWq2uf8+fP1zenGjRtpdXV1ZB83HfR2w8bGRtX3sO3aCRAgQIAAAQKTCswsZG1ubqaVlZW0vr6eLl68mJaXl9Phw4dTtOcpAta+ffvS2tpatc/CwkJ1TN4ej8eOHUsnTpxIsW/uI4LXOJOQNY6SfQgQIECAAIFJBGYWspqebASmCFR5ivUIYnmKIBVBLIeoWI/glddjvzgmgts4k5A1jpJ9CBAgQIAAgUkE5iZkRVBaWlraEpBiFOvq1atbzqtsiwAWo1jl1NRWbi+XhaxSwzIBAgQIECDQpsDMQ1aMXMX9WPVRqwhXEajq92lFW1xejCkCVjnSFW3R3/HjxxuNfvGLX6SXXnppMH/2s59NTz31VOO+GgkQIECAAAEC0wjMRciKYBSBKcJRDlU5ZNVPbnFxcXBJMY4pLy/GvrEeQaxp+vGPf5y+9KUvDeY4/tOf/nTTrtoIECBAgAABAlMJzDxklc8+Qk/cvB5ThK0IS+WN8NEebXEvVkyx7+nTp6vl/J8c2PL6qEeXC0fp2EaAAAECBAhMIzBXIasekOKm9hyo4iTrwSv2r18ajNCVg9p2MELWdkK2EyBAgAABApMKzCxk5cuC+YnHetz4HsEpTxGY4nu08hT3X8W9W3nKoSvfHB+jXvHpwzKY5X2bHoWsJhVtBAgQIECAQBsCMwtZEabi0l+EqBiNiuUYgSq/jiGWI1RF+Ip9YmSrfvkwvq4h9xMBq375cBSSkDVKxzYCBAgQIEBgGoGZhax40jESFaNQMddHtsqTyvuUAazcnvupB7Byn6ZlIatJRRsBAgQIECDQhsBMQ1YbJzBNH0LWNHqOJUCAAAECBEYJCFl+IHpUfdhGgAABAgQITCggZAlZE5aOwwgQIECAAIFRAkKWkDWqPmwjQIAAAQIEJhQQsoSsCUvHYQQIECBAgMAoASFLyBpVH7YRIECAAAECEwoIWULWhKXjMAIECBAgQGCUgJAlZI2qD9sIECBAgACBCQWELCFrwtJxGAECBAgQIDBKQMgSskbVh20ECBAgQIDAhAJClpA1Yek4jAABAgQIEBglIGQJWaPqwzYCBAgQIEBgQgEhS8iasHQcRqA/Ao8++mjat2/flnl1dbU/AM6UAIGJBIQsIWuiwnEQgb4I1MNVuf7ggw/2hcF5EiAwgYCQJWRNUDYOIdAPgUceeWQwevX8888PTvqhhx4atL/88suDdgsECBAoBYQsIausB8sECBQCedTq0qVLRetbi/fff38VtA4ePHjTNg0ECBAIASFLyPJOIEBgiEAOWUM2D0azhm3XToBAvwWELCGr3+8AZ09ghICQNQLHJgIEthUQsoSsbYvEDgT6KpBDVtybVZ/ytkOHDtU3WSdAgEAlIGQJWd4KBAgMEYh7sephKm50z23xaCJAgMAwASFLyBpWG9oJEEgp5Rvcy2CVl8tPHMIiQIBAXUDIErLqNWGdAIGaQDmiFQHrtttuq+1hlQABAjcLCFlC1s1VoYUAgYHA5cuX04EDB7ZcIoygFSNcb7zxxmA/CwQIEKgLCFlCVr0mrBMgUAjEqFXML7300qD12WefrUJXBC0TAQIEhgkIWULWsNrQTqD3Avk3C5tGrHLQKsNX78EAECCwRUDIErK2FIQVAgTeEbjrrrtSzMOmuGwYQcxEgACBJgEhS8hqqgttBAiklG6//fbq3qthGBGyFhcXh23WToBAzwWELCGr528Bp09guEAEqAhSTVPcEB/bXnjhhabN2ggQIOC3C08JWd4GBAgMEchB6t57792yR9yjlW+I37LBCgECBAoBI1lCVlEOFgkQqAs88cQTg69viE8TRuCKEayY3fRe17JOgEApIGQJWWU9WCZAoEEgRrQiYMU9WjHHze5NnzhsOFQTAQI9FhCyhKwel79TJ0CAAAEC3QkIWUJWd9WlZwIECBAg0GMBIUvI6nH5O3UCOxOI+7O+8IUv7OwgexMg0FsBIUvI6m3xO3EC4wocPHhwcLN7vun96NGj4x5uPwIEeiogZAlZPS19p01gPIEcqh544IH0zW9+sxrJipvfo/3QoUPjdWIvAgR6KSBkCVm9LHwnTWAcgQhWEaaaLhHGz+3EtgheJgIECDQJCFlCVlNdaCNAIKXqC0cjSF27di0dPnw47d+/Px04cCAdOXKk8oltEcRMBAgQaBIQsoSsprrQRoBASjfdhxUBK4JWhKs8j/oBaYgECPRbQMgSsvr9DnD2BEYIxE/nRJiKcBWjWXm6cOHCIGS5AT6reCRAoC4gZAlZ9ZqwToDA2wL5BvemS4J5JOtjH/sYLwIECDQKCFlCVmNhaCRAYOvlwhjVevjhh6t7sHLAiseFhQVUBAgQaBQQsoSsxsLQSIBAGtzoHpcEy2AVy/GJw3jMN8HzIkCAQF1AyBKy6jVhnQCBtwUiQEWQivuxPvjBD1Y/Dn3nnXdWAevUqVPVtrNnz/IiQIBAo4CQJWQ1FoZGAgRSFa7qI1j1dU4ECBAYJiBkCVnDakM7AQINX+MgZCkLAgTGFRCyhKxxa8V+BHonkL/C4aMf/Wh6/PHHq5vc40b3uESYvy/rwx/+cO9cnDABAuMJCFlC1niVYi8CPRTIo1bDTj22x9c8mAgQINAkIGQJWU11oY0AgeJS4TCM7ULYsOO0EyDQDwEhS8jqR6U7SwITCIwKUc8//3z16cL77rtvgp4dQoBAHwRmGrKuXLmSzp07V82XLl1q9L5+/Xo6f/58tc/m5mbjPrmf6OPGjRuN+zQ1bmxspPgYtokAAQJNAnEvVlPQevXVVwft5c/tNPWhjQCB/grMLGStra2lxcXFtLKyUs2xfPz48S2vRISq+OX706dPV/vEDacXL17csk9si2Ojv2PHjlV9jBu0hKwtlFYIEGgQyDe/57BVPj744IMNR2giQIDAWwIzC1kxQlVOEYzij1eMSuVpeXm5Clh5fX19PS0tLeXVdPXq1eqYHKriMQJXPYgNDqgtCFk1EKsECDQKRJgqw1Usf/nLX27cVyMBAgSywMxCVn4C5WMekcpt8YcsglSechDLbTF6deLEiby5eoyRsXrblh2KFSGrwLBIgAABAgQItCowNyErj0rlEa64VBghK6/ns462PFIVYSpCVTlF8Kpfdszbf/Ob36Sf/OQngzmOfeaZZ/JmjwQIECBAgACB1gTmImTle68iIOUph668nh/L0a4IWeUxsU+sRxBrmn7wgx+kJ554YjB/6EMfSp/85CebdtVGgAABAgQIEJhKYOYhKy4BxshT3MBeTnkkKx7LKQJUvm8rQlb9uAhZLheWYpYJECBAgACBWQjMNGQNC1gZogxU0dZ0T1b90mCErrhhfpzJPVnjKNmHAAECBAgQmERgZiFru4AVJxNhqfweq/h0YVwuzFN9tCv6jE8f5nu28n7DHoWsYTLaCRAgQIAAgWkFZhayIkDFSNXJkye3zGVAihAV340V+5w5c6bav9weJx8jVxGsVldXq8f4rqxxJyFrXCn7ESBAgAABAjsVmFnIigAVN7fX5/qnCWM9RrDiXqv6tnyycY9WbK8HsLx92KOQNUxGOwECBAgQIDCtwMxC1rRPvI3jhaw2FPVBgAABAgQINAkIWX67sKkutBEgQIAAAQJTCghZQtaUJeRwAgQIECBAoElAyBKymupCGwECBAgQIDClgJAlZE1ZQg4nQIAAAQIEmgSELCGrqS60ESBAgAABAlMKCFlC1pQl5HACBAgQIECgSUDIErKa6kIbAQIECBAgMKWAkCVkTVlCDidAgAABAgSaBIQsIaupLrQRIECAAAECUwoIWULWlCXkcAIECBAgQKBJQMgSsprqQhsBAoXA2bNn0/79+6sfqY8ftj9w4EC6du1asYdFAgQI3CwgZAlZN1eFFgIEBgJHjx4dhKuFhYUUcwStmCN8mQgQIDBMQMgSsobVhnYCvReIEBVhKoJVOcUoVh7ZMqJVylgmQKAUELKErLIeLBMgUAjcfffdVcgqmgaLEa4igJ3yN2RgYoEAga0CQpY/kFsrwhoBAgOBCFERtIZNTaNcw/bVToBA/wSELCGrf1XvjAmMKRCXBGMeNkXIinu2TAQIEGgSELKErKa60EaAQErpyJEj1SXBCxcu3OQxattNO2sgQKCXAkKWkNXLwnfSBMYViNGqYXP9hvhx+7QfAQL9EBCyhKx+VLqzJDChwEMPPTQ0ZL300ksT9uowAgT6ICBkCVl9qHPnSGAigQhRw0axcvsbb7wxUd8OIkBg7wsIWULW3q9yZ0hgQoH8FQ4RqMrp5ZdfHoSvF154odxkmQABAgMBIUvIGhSDBQIEtgqUo1VLS0vprrvuSvfff3969NFH0+rqahW07rjjjq0HWSNAgMDbAkKWkOXNQIDAEIEcsvJjhKzbb7+9Cle33XbbYDRryOGaCRDouYCQJWT1/C3g9AkMFyjDVXnv1eXLlwcBK34s2kSAAIEmASFLyGqqC20ECKQ0CFIRtp577rnKJMJWXC7MAewDH/gAKwIECDQKCFlCVmNhaCRAIA1+BDoHqqbHCFwmAgQINAkIWUJWU11oI0AgpepG93wPVlPAijYhS6kQIDBMQMgSsobVhnYCvRfIlwVfffXV9K53vWtwifC9731viq9uiJDlC0l7XyYACAwVELKErKHFYQOBvgvE/VfDRrCi3dc39L1CnD+B0QJClpA1ukJsJdBjgTfffHNkyIqvcTARIEBgmICQJWQNqw3tBHovEH8gy5GsO++886ab4b/61a/23gkAAQLNAkKWkNVcGVoJEBgErHvuuWeLRjnCFcHLRIAAgSYBIUvIaqoLbQQIFN+T1YTx+uuvD0JY03ZtBAgQELKELO8CAgSGCORLhTFyVZ/W19eFrDqKdQIEtggIWULWloKwQoDAOwI5ZMV3ZcXIVZ7KgHX33XfnZo8ECBDYIiBkCVlbCsIKAQLvCLzvfe8bjFblr2zIwSs/fv3rX3/nAEsECBAoBIQsIasoB4sECNQFcphqeowvKDURIEBgmICQJWQNqw3tBAikVF0mbPppnQceeCA13asFjQABAllAyBKyci14JECgQeDChQspvnS0PpIV92Jdu3at4QhNBAgQeEtAyBKyvBcIEBghkMPV2bNnB3s9/vjjVehy0/uAxAIBAg0CQpaQ1VAWmggQCIEjR45UYSpGs+pTDlpl+KrvY50AgX4LCFlCVr/fAc6ewAiB/fv3Vz+jE7tcvnw5feUrX6nm+OHomGKU6+jRoyN6sIkAgT4LCFlCVp/r37kTGCkQISp+Nueuu+666Z6spaWlqm1hYWFkHzYSINBfASFLyOpv9TtzAtsIRIDK92SVN7+Xy6f8DdlG0WYC/RUQsvyB7G/1O3MC2wjke7Jy0IrHMmDFelxGNBEgQKBJQMgSsprqQhsBAilV92OVAatp+bHHHmNFgACBRgEhS8hqLAyNBAi8dWN70+hVGbZ8jYNKIUBgmICQJWQNqw3tBHovUIapxcXF9MILL1RzeSN8fALRRIAAgSYBIUvIaqoLbQQIvP0VDRG07rvvvps8cgCLn9wxESBAoElg5iHrxo0b6bXXXkvXr19ven4ptr/yyivVPGyfzc3NdOnSpaqfxk6GNG5sbCSfDBqCo5kAgcEnCyNQxehVfG1DzOXN7wcOHCBFgACBRoGZhawIRvl7ZuIP2Nra2k1PMPY5fPhwOnbsWDpx4kSKj1NfuXJly36nT5+u2mN7DOfvJDQJWVsorRAgUBPIo1XxmINVfszb4m+UiQABAk0CMwtZMSoVgSkeIyA1hawIUMvLy4Pnvb6+XgWz3BDHxh+6CGMxxahXBLGLFy/mXUY+ClkjeWwk0HuBe+65Z8toVg5W5eOzzz7beycABAg0C8wsZJVPZ1jIij9k5chVPVRFMItRrnKqB7NyW31ZyKqLWCdAoBSIAFUGqqbl/BM75XGWCRAgEAJzG7JidCr+oOVRqvxylcErwlmEqnKK4BXtTdMf//jH9Pvf/34wf/e7393R5cWmPrURILC3Be69997qb1HckxWfJLzjjjsGlw6NYu3t197ZEZhWYG5D1tWrV6s/bPUTjJGrfGmxaQQstkUQa5pefPHFFH8w83zw4MH05JNPNu2qjQABAgOBCFf1UawHHnhgsN0CAQIEmi9wyvoAAA1ISURBVATmPmTFJcJyij90+Z6rCFkrKyvl5iqA1S8hbtmhWHG5sMCwSIBAo0AOWPGlo7Ec92nltvjZHRMBAgSGCcxtyIonHIEqRrTyFDe2l20RsOqXBpva8vH1RyGrLmKdAIFS4OjRozeNYNVHtC5cuFAeYpkAAQIDgbkOWfWRqrgJPj49mKdYjz94Eb7yFF/jEJ9CHGcSssZRsg+B/grEF42Woar+9Q2xLYKYiQABAk0CMw1Zcf/UuXPnqq9lOHnyZLWcLwXGk80hanV1NZ0/f776zqx8P1Y+mbg0ePz48erY+I6sCFll6Mr7NT0KWU0q2ggQyAJlwCoDV3wBad5255135t09EiBAYIvAzENWhKZyLkNWPNO4XBiXAONThOXXOeSziEAVI1f5JvhxA1YcL2RlRY8ECDQJ5CAVj/Hpwocffrj6H7n6iFbTsdoIECAw05A1a34ha9avgH+fwHwLlCFr1PJ8n4VnR4DArASELD8QPava8+8SmHuBUcEqb4tRLRMBAgSaBIQsIaupLrQRIPD2J5xzmBr26AeilQoBAsMEhCwha1htaCfQe4Fhware3nsoAAQINAoIWUJWY2FoJEDgre/qqweqpnVWBAgQaBIQsoSsprrQRoDAmJcLI3SZCBAg0CQgZAlZTXWhjQABIUsNECAwpYCQJWRNWUIOJ7B3BZouDTa17V0BZ0aAwDQCQpaQNU39OJbAnhZoClRNbXsawckRIDCxgJAlZE1cPA4ksNcFmgJVU9ted3B+BAhMJiBkCVmTVY6jCPRAoClQNbX1gMIpEiAwgYCQJWRNUDYOIdAPgaZA1dTWDw1nSYDATgWELCFrpzVjfwK9EWgKVE1tvQFxogQI7EhAyBKydlQwdibQJ4GmQNXU1icT50qAwPgCQpaQNX612JNAzwSaAlVTW89YnC4BAmMKCFlC1pilYjcCu0/g6aefTidPnpx4bgpU9bb3vOc9E/cfz+0b3/jG7oP1jAkQGEtAyBKyxioUOxHYjQLf/va309ra2sTzww8/nOqhqr7+3HPPTdx/PLcf/vCHu5HWcyZAYAwBIUvIGqNM7EKgnwJvvvlmOnjw4NCgdfz48X7COGsCBMYSELKErLEKxU4E+irw+uuvp4WFhSpo3bb/9kHgioAVIcxEgACBYQJClpA1rDa0EyBQCKyvr6e/99gT6R984rn0ox/9qNhikQABAs0CQpaQ1VwZWgkQuElg+cK19K0/+8ub2jUQIECgSUDIErKa6kIbAQINAkJWA4omAgSGCghZQtbQ4rCBAIGtAkLWVg9rBAiMFhCyhKzRFWIrAQIDASFrQGGBAIExBIQsIWuMMrELAQIhIGSpAwIEdiIgZAlZO6kX+xLotYCQ1euX38kT2LGAkCVk7bhoHECgrwJCVl9feedNYDIBIUvImqxyHEWghwJCVg9fdKdMYAoBIUvImqJ8HEqgXwJCVr9eb2dLYFoBIUvImraGHE+gNwJCVm9eaidKoBUBIUvIaqWQdEKgDwJCVh9eZedIoD0BIUvIaq+a9ERgjwsIWXv8BXZ6BFoWELKErJZLSncE9q6AkLV3X1tnRqALASFLyOqirvRJYE8KCFl78mV1UgQ6ExCyhKzOikvHBPaagJC1115R50OgWwEhS8jqtsL0TmAHAn/x139M//mv/s/czn/yL15L//jf/Ne5fX5h9z//79/tQNyuBAh0KSBkCVld1pe+CexIYPFrP01zP//T+X6On/v+n+/I3M4ECHQnIGQJWd1Vl54J7FAgAta/fv1/pD//q/89l/MP/8vv0pXNv57L5xZm/+Tf/rckZO2w6OxOoEMBIUvI6rC8dE1gZwIRsiIsmCYT+Jf/4b8LWZPROYpAJwJClpDVSWHplMAkAkLWJGrvHCNkvWNhicA8CAhZQtY81KHnQKASELKmKwQhazo/RxNoW0DIErLarin9EZhYQMiamK46UMiazs/RBNoWELKErLZrSn8EJhYQsiamqw4UsqbzczSBtgWELCGr7ZrSH4GJBYSsiemqA4Ws6fwcTaBtASFLyGq7pvRHYGIBIWtiuupAIWs6P0cTaFtAyBKy2q4p/RGYWEDImpiuOlDIms7P0QTaFhCyhKy2a0p/BCYS+Ju/+5v0yKVHzFMa/P2NfziRv4MIEGhfQMgSstqvKj0SmEDgb//f36YPfWclff0/fif96eafmicw+Ef/7p+lP/nBtybQdwgBAl0ICFlCVhd1pU8CEwm4XDgR2+AglwsHFBYIzIWAkCVkzUUhehIEQkDImq4OhKzp/BxNoG2BPRGybty4kV577bV0/fr1HflsbGykU0LWjszsTKBLgQhZ8zx/4Gs/TTHP83P0A9FdVqi+CexMYNeHrIsXL6Z9+/alxcXF6nF1dXVsASFrbCo7ErglAjESM8/zR//5z9Kpf/Wf5vo5/vu/+F+35LXyjxAgsL3Arg5ZMXIVASuCVkybm5tpYWEhXb16dfszTykJWWMx2YkAgbcFli9cS9/6s7/kQYAAgbEEdnXIWl9fr0awyjNdXl5Op0+fLpuGLgtZQ2lsIECgQUDIakDRRIDAUIFdHbIiUMVcTmtra+nEiRNl09BlIWsojQ0ECDQICFkNKJoIEBgqsKtDVoSpCFXlFOuHDx8umwbLL774Yjp06NBgPnjwYHryyScH2y0QILC3BOJvQdxSMM/z008/vbfQnQ0BAgOBPRmy4ib4pukPf/hD+t3vfjeYv/Od7/h0YROUNgJ7ROD111+v7tGM+zTbmDde/mn60Y9fbaWv/HzeeOONPaLtNAgQqAvs6pC1srJy06VBlwvrL7F1AgQIECBAYBYCuzpkxacK65cGjx07dtMlxGGw7skaJqOdAAECBAgQmFZgV4esOPm4NBhfKBpfRhrfkRVf4TDul5IKWdOWj+MJECBAgACBYQK7PmRFoIqvbIib4OOThvFdWeNOQta4UvYjQIAAAQIEdiqw60PWTk+43F/IKjUsEyBAgAABAm0KCFl+u7DNetIXAQIECBAg8LaAkCVkeTMQIECAAAECHQgIWUJWB2WlSwIECBAgQEDIErK8CwgQIECAAIEOBIQsIauDstIlAQIECBAgIGQJWd4FBAgQIECAQAcCQpaQ1UFZ6ZIAAQIECBAQsoQs7wICBAgQIECgA4Feh6z19fX08Y9/PF29etXMQA2oATWgBtSAGmi1Bg4dOpR+/etfTxTf9k101Bwd9OKLL1a/fXjy5MlkZqAG1MB2NbC0tJQeffRRfy/8zVQDamCsGoiRrF/96lcTJZ9dH7ImOmsHESDQW4HPfe5z6fvf/35vz9+JEyBw6wSErFtn7V8iQGAOBISsOXgRPAUCPREQsnryQjtNAgTeEhCyVAIBArdKQMi6VdL+HQIE5kJAyJqLl8GTINALASGrFy+zkyRAgAABAgRutYCQdavF/XsECBAgQIBALwSErF68zE6SAAECBAgQuNUCQtatFvfvESBAgAABAr0QELJ68TI7SQJ7X2BzczOdP3+++qbnvX+2zpAAgd0gIGTthlfJcyRAYKTAyspK9csP8Rg/sWUiQIDAPAgIWfPwKngOBAhMJbC4uJiuXLkyVR8OJkCAQNsCQlbbovojQOCWCqytraV9+/alM2fOpHPnzqXr16+nGzduVMvxO4anTp2qLiNGW55in9g3LjHGcbFfnmIkbHV1dXBcbvdIgACBnQoIWTsVsz8BAnMlEKEoQtb6+np1qTDCVISnfOkwRrhOnDhxU5CKY44dO1Ydd/Hixeqcoo+FhYWqrem4uTpxT4YAgbkXELLm/iXyBAkQ2E4gAtOoe7EieMU+MYIVUw5meT3aYp/Dhw9v6SfaInRFaDMRIEBgpwJC1k7F7E+AwNwJ1ENWhKO4HBiXAfNc7pNDVnkiuS2OK+elpaWUR7rK/S0TIEBgOwEhazsh2wkQmHuBMkDFk41LhXEpsBzdKvfJgao8sdwWj/W5HPEqj7FMgACBUQJC1igd2wgQ2BUCZYCKJxwBq/y0YYSkcp8cqMqTy5cUY5uJAAECbQgIWW0o6oMAgZkKlAEqnsjy8nJ1mTDCVYSmuPG93KcpZMVxMQIWlwdfeeWV6v6t2C9/CnGmJ+gfJ0BgVwoIWbvyZfOkCRAoBSJElTenx6hUBK24aT225aCV94nHaG+a4hOGsS2OjRGx06dPVzfFN+2rjQABAqMEhKxROrYRIECAAAECBCYUELImhHMYAQIECBAgQGCUgJA1Ssc2AgQIECBAgMCEAkLWhHAOI0CAAAECBAiMEhCyRunYRoAAAQIECBCYUEDImhDOYQQIECBAgACBUQJC1igd2wgQIECAAAECEwoIWRPCOYwAAQIECBAgMEpAyBqlYxsBAgQIECBAYEIBIWtCOIcRIECAAAECBEYJCFmjdGwjQIAAAQIECEwoIGRNCOcwAgQIECBAgMAoASFrlI5tBAgQIECAAIEJBYSsCeEcRoAAAQIECBAYJSBkjdKxjQABAgQIECAwoYCQNSGcwwgQIECAAAECowSErFE6thEgQIAAAQIEJhT4/xVzp/RwUR2JAAAAAElFTkSuQmCC)"
      ]
    },
    {
      "cell_type": "markdown",
      "metadata": {
        "id": "4HI0lLyB5axk"
      },
      "source": [
        "# Quantiles\n",
        "\n",
        "In this exercise, you'll investigate the probabilities of life expectancy in countries around the world. This dataset contains life expectancy for persons born each year from 1800 to 2015. Since country names change or results are not reported, not every country has values. This dataset was obtained from [Gapminder](https://docs.google.com/a/continuum.io/spreadsheets/d/1dgOdlUEq6_V55OHZCxz5BG_0uoghJTeA6f83br5peNs/pub?range=A1:D70&gid=1&output=html#).\n",
        "\n",
        "First, you will determine the number of countries reported in 2015. There are a total of 260 unique countries in the entire dataset. Then, you will compute the 5th and 95th percentiles of life expectancy over the entire dataset. Finally, you will make a box plot of life expectancy every 50 years from 1800 to 2000. Notice the large change in the distributions over this period.\n",
        "\n",
        "The dataset has been pre-loaded into a DataFrame called df.\n",
        "\n",
        "Instructions\n",
        "\n",
        "1. Print the number of countries reported in 2015. To do this, use the .count() method on the '2015' column of df.\n",
        "\n",
        "2. Print the 5th and 95th percentiles of df. To do this, use the .quantile() method with the list [0.05, 0.95].\n",
        "\n",
        "3. Generate a box plot using the list of columns provided in years. This has already been done for you, so click on 'Submit Answer' to view the result!\n"
      ]
    },
    {
      "cell_type": "code",
      "metadata": {
        "id": "RysAry1Q5psX"
      },
      "source": [
        "In [1]:\n",
        "df.head()\n",
        "Out[1]:\n",
        "\n",
        "   Unnamed: 0        Life expectancy   1800   1801   1802  ...  2012  2013  2014  2015   2016\n",
        "0           0               Abkhazia    NaN    NaN    NaN  ...   NaN   NaN   NaN   NaN    NaN\n",
        "1           1            Afghanistan  28.21  28.20  28.19  ...  54.4  54.8  54.9  53.8  52.72\n",
        "2           2  Akrotiri and Dhekelia    NaN    NaN    NaN  ...   NaN   NaN   NaN   NaN    NaN\n",
        "3           3                Albania  35.40  35.40  35.40  ...  77.5  77.7  77.9  78.0  78.10\n",
        "4           4                Algeria  28.82  28.82  28.82  ...  76.2  76.3  76.3  76.4  76.50\n",
        "\n",
        "[5 rows x 219 columns]"
      ],
      "execution_count": null,
      "outputs": []
    },
    {
      "cell_type": "code",
      "metadata": {
        "id": "1okp84pm6OLp"
      },
      "source": [
        "# Print the number of countries reported in 2015\n",
        "print(df['2015'].count())\n",
        "\n",
        "# Print the 5th and 95th percentiles\n",
        "print(df.quantile([0.05, 0.95]))\n",
        "\n",
        "# Generate a box plot\n",
        "years = ['1800','1850','1900','1950','2000']\n",
        "df[years].plot(kind='box')\n",
        "plt.show()\n",
        "\n",
        "'''\n",
        "<script.py> output:\n",
        "    208\n",
        "\n",
        "--------------------------------------------------------------------------------\n",
        "\n",
        "          Unnamed: 0   1800   1801   1802  1803  ...    2012    2013   2014    2015     2016\n",
        "    0.05       12.95  25.40  25.30  25.20  25.2  ...  56.335  56.705  56.87  57.855  59.2555\n",
        "    0.95      246.05  37.92  37.35  38.37  38.0  ...  81.665  81.830  82.00  82.100  82.1650\n",
        "    \n",
        "    [2 rows x 218 columns]\n",
        "'''"
      ],
      "execution_count": null,
      "outputs": []
    },
    {
      "cell_type": "markdown",
      "metadata": {
        "id": "AjMi8aYC6Xho"
      },
      "source": [
        "Conclusion\n",
        "\n",
        "Fantastic work! It looks like overall, life expectancy has steadily increased since 1900.\n",
        "\n",
        "![image.png](data:image/png;base64,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)"
      ]
    },
    {
      "cell_type": "markdown",
      "metadata": {
        "id": "WaIJXVDi6jI0"
      },
      "source": [
        "# Standard deviation of temperature\n",
        "\n",
        "Let's use the mean and standard deviation to explore differences in temperature distributions in Pittsburgh in 2013. The data has been obtained from [Weather Underground](https://www.wunderground.com/history/).\n",
        "\n",
        "In this exercise, you're going to compare the distribution of daily temperatures in January and March. You'll compute the mean and standard deviation for these two months. You will notice that while the mean values are similar, the standard deviations are quite different, meaning that one month had a larger fluctuation in temperature than the other.\n",
        "\n",
        "The DataFrames have been pre-loaded for you as january, which contains the January data, and march, which contains the March data.\n",
        "\n",
        "```\n",
        "In [1]:\n",
        "january.head()\n",
        "Out[1]:\n",
        "\n",
        "         Date  Temperature\n",
        "0  2013-01-01           28\n",
        "1  2013-01-02           21\n",
        "2  2013-01-03           24\n",
        "3  2013-01-04           28\n",
        "4  2013-01-05           30\n",
        "In [2]:\n",
        "march.head()\n",
        "Out[2]:\n",
        "\n",
        "         Date  Temperature\n",
        "0  2013-03-01           28\n",
        "1  2013-03-02           26\n",
        "2  2013-03-03           24\n",
        "3  2013-03-04           28\n",
        "4  2013-03-05           32\n",
        "```\n",
        "\n",
        "Instructions\n",
        "\n",
        "1. Compute and print the means of the January and March data using the .mean() method.\n",
        "\n",
        "2. Compute and print the standard deviations of the January and March data using the .std() method.\n"
      ]
    },
    {
      "cell_type": "code",
      "metadata": {
        "id": "aYEXs6GE63mH"
      },
      "source": [
        "# Print the mean of the January and March data\n",
        "print(january.mean(), march.mean())\n",
        "\n",
        "# Print the standard deviation of the January and March data\n",
        "print(january.std(), march.std())\n",
        "\n",
        "'''\n",
        "<script.py> output:\n",
        "    Temperature    32.354839\n",
        "    dtype: float64 Temperature    35.0\n",
        "    dtype: float64\n",
        "    \n",
        "    Temperature    13.583196\n",
        "    dtype: float64 Temperature    7.478859\n",
        "    dtype: float64\n",
        "'''"
      ],
      "execution_count": null,
      "outputs": []
    },
    {
      "cell_type": "markdown",
      "metadata": {
        "id": "TczF4xWy7YJ_"
      },
      "source": [
        "# Separating populations\n",
        "\n",
        "1. Separating populations\n",
        "\n",
        "Up to now, our Exploratory Data Analysis has used all the rows of the iris DataFrame.\n",
        "2. Insert title here...\n",
        "\n",
        "We've ignored the non-numerical species column.\n",
        "3. Describe species column\n",
        "\n",
        "Applying iris 'species' dot describe yields a curious result. The DataFrame returned has entries count, unique, top, and freq. This tells us the column species contains a categorical variable or a factor (one that has a small number of distinct values). count is the number of non-null entries (150 here). unique is the number of distinct values or categories (3 here). top is the most frequently occurring category (setosa, but it's a 3-way tie). freq is the count of the most frequently occurring category (50 here).\n",
        "4. Unique & factors\n",
        "\n",
        "Applying the unique method to the Series iris 'species' returns an array with three distinct values: 'setosa', 'versicolor', and 'virginica'. Knowing there are three different factors, it makes sense to carry out EDA separately on each factor.\n",
        "5. Filtering by species\n",
        "\n",
        "We can extract rows corresponding to each species by filtering. We first define a logical series indices in which the species is setosa. We slice on those indices to get a new DataFrame setosa. We repeat this process to assign new DataFrames setosa, versicolor, and virginica. We can verify the new DataFrames all have unique, distinct values in their respective species columns using unique.\n",
        "6. Checking species\n",
        "\n",
        "That being the case, the species column can be deleted from each.\n",
        "7. Checking indexes\n",
        "\n",
        "Actually, in this non-representative case, extracting factors is atypically easy. The original observations are sorted by species in the DataFrame iris, so we could split by species without filtering. We see this because the indexes for setosa, versicolor, and virginica are the integer ranges 0 to 49, 50 to 99, and 100 to 149 respectively. It is possible to reassign the indexes, but we are not that concerned about that here. In a later pandas course, you can learn better pandas tools for performing GroupBy operations to extract factors.\n",
        "8. Visual EDA: all data\n",
        "\n",
        "Let's repeat our EDA on individual species rather than the entire dataset. Notice: We plot all histograms on one figure. We pass optional arguments bins and range to hist. We use transparency alpha equals 0 point 3 to help visibility.\n",
        "9. Visual EDA: all data\n",
        "\n",
        "This is the histogram for the entire data set. Notice it's a bit messy with all the histograms overlapping.\n",
        "10. Visual EDA: individual factors\n",
        "\n",
        "We can make up similar plots for each species. Here are the related commands for the setosa DataFrame. For the versicolor DataFrame. And for the virginica DataFrame.\n",
        "11. Visual EDA: Setosa data\n",
        "\n",
        "Here are the setosa histograms.\n",
        "12. Visual EDA: Versicolor data\n",
        "\n",
        "The versicolor histograms.\n",
        "13. Visual EDA: Virginica data\n",
        "\n",
        "And the virginica histograms.\n",
        "14. Statistical EDA: describe()\n",
        "\n",
        "Where the collected data had significantly overlapping histograms with many confusing peaks, the separated factors reveal clearer trends for each measurement. The same point holds when computing statistics. Using the describe method with the entire iris DataFrame versus the individual factors leads to quantitative errors. We'll create DataFrames describe_all, describe_setosa, describe_versicolor, and describe_virginica containing the output of describe on each factor.\n",
        "15. Computing errors\n",
        "\n",
        "We can compute the percentage error in all the statistics in each case. This is the absolute difference of the correct statistic computed in its own group from the statistic computed with the whole population divided by the correct statistic. DataFrames can do elementwise arithmetic easily, so there is no need to write loops to compute errors for the mean, standard deviation, median, and so on.\n",
        "16. Viewing errors\n",
        "\n",
        "In looking at the percentage errors, the petal length and width show the greatest errors in using non-separated groups. This is suggested also by the histograms viewed earlier. These values give a sense of how misleading the statistics were when computed over the whole population rather than by factor.\n",
        "17. Let's practice!\n",
        "\n",
        "You'll see later how to group DataFrames. For now, try some exercises to get used to EDA with separate groups. "
      ]
    },
    {
      "cell_type": "markdown",
      "metadata": {
        "id": "wdhUoacyBWKc"
      },
      "source": [
        "# Filtering and counting\n",
        "\n",
        "How many automobiles were manufactured in Asia in the automobile dataset? The DataFrame has been provided for you as df. Use filtering and the .count() member method to determine the number of rows where the 'origin' column has the value 'Asia'.\n",
        "\n",
        "As an example, you can extract the rows that contain 'US' as the country of origin using `df[df['origin'] == 'US']`.\n",
        "\n",
        "```\n",
        "In [1]:\n",
        "df.head()\n",
        "Out[1]:\n",
        "\n",
        "    mpg  cyl  displ   hp  weight  accel  yr origin                       name\n",
        "0  18.0    8  307.0  130    3504   12.0  70     US  chevrolet chevelle malibu\n",
        "1  15.0    8  350.0  165    3693   11.5  70     US          buick skylark 320\n",
        "2  18.0    8  318.0  150    3436   11.0  70     US         plymouth satellite\n",
        "3  16.0    8  304.0  150    3433   12.0  70     US              amc rebel sst\n",
        "4  17.0    8  302.0  140    3449   10.5  70     US                ford torino\n",
        "\n",
        "-------------------\n",
        "\n",
        "In [3]:\n",
        "df[df['origin'] == 'Asia'].count()\n",
        "Out[3]:\n",
        "\n",
        "mpg       79\n",
        "cyl       79\n",
        "displ     79\n",
        "hp        79\n",
        "weight    79\n",
        "accel     79\n",
        "yr        79\n",
        "origin    79\n",
        "name      79\n",
        "dtype: int64\n",
        "```\n",
        "\n",
        "Possible Answers\n",
        "\n",
        "1. 68 - Incorrect. This is the number of automobiles manufactured in Europe.\n",
        "\n",
        "2. 79 - Correct! In this dataset, 79 automobiles were manufactured in Asia.\n",
        "\n",
        "3. 245 - Incorrect. This is the number of automobiles manufactured in the US.\n",
        "    \n",
        "4. 392 - Incorrect. This is the total number of automobiles in the DataFrame."
      ]
    },
    {
      "cell_type": "markdown",
      "metadata": {
        "id": "lM8PIcBCCSq-"
      },
      "source": [
        "# Separate and summarize\n",
        "\n",
        "Let's use population filtering to determine how the automobiles in the US differ from the global average and standard deviation. How does the distribution of fuel efficiency (MPG) for the US differ from the global average and standard deviation?\n",
        "\n",
        "In this exercise, you'll compute the means and standard deviations of all columns in the full automobile dataset. Next, you'll compute the same quantities for just the US population and subtract the global values from the US values.\n",
        "\n",
        "All necessary modules have been imported and the DataFrame has been pre-loaded as df.\n",
        "\n",
        "Instructions\n",
        "\n",
        "1. Compute the global mean and global standard deviations of df using the .mean() and .std() methods. Assign the results to global_mean and global_std.\n",
        "\n",
        "2. Filter the 'US' population from the 'origin' column and assign the result to us.\n",
        "\n",
        "3. Compute the US mean and US standard deviations of us using the .mean() and .std() methods. Assign the results to us_mean and us_std.\n",
        "\n",
        "4. Print the differences between us_mean and global_mean and us_std and global_std. This has already been done for you.\n"
      ]
    },
    {
      "cell_type": "code",
      "metadata": {
        "id": "rQ-5ej2YCwLp"
      },
      "source": [
        "# Compute the global mean and global standard deviation: global_mean, global_std\n",
        "global_mean = df.mean()\n",
        "global_std = df.std()\n",
        "\n",
        "# Filter the US population from the origin column: us\n",
        "us = df[df.origin == 'US']\n",
        "\n",
        "# Compute the US mean and US standard deviation: us_mean, us_std\n",
        "us_mean = us.mean()\n",
        "us_std = us.std()\n",
        "\n",
        "# Print the differences\n",
        "print(us_mean - global_mean)\n",
        "print(us_std - global_std)\n",
        "\n",
        "'''\n",
        "<script.py> output:\n",
        "    mpg        -3.412449\n",
        "    cyl         0.805612\n",
        "    displ      53.100255\n",
        "    hp         14.579592\n",
        "    weight    394.905612\n",
        "    accel      -0.551122\n",
        "    yr         -0.387755\n",
        "    dtype: float64\n",
        "\n",
        "----------------------------\n",
        "\n",
        "    mpg       -1.364623\n",
        "    cyl       -0.049788\n",
        "    displ     -6.267657\n",
        "    hp         1.406630\n",
        "    weight   -54.055870\n",
        "    accel     -0.022844\n",
        "    yr        -0.023369\n",
        "    dtype: float64\n",
        "'''"
      ],
      "execution_count": null,
      "outputs": []
    },
    {
      "cell_type": "markdown",
      "metadata": {
        "id": "B29xrellC3Y1"
      },
      "source": [
        "Conclusion\n",
        "\n",
        "Well done! Interestingly, it looks like US automobiles weigh more than the global mean."
      ]
    },
    {
      "cell_type": "markdown",
      "metadata": {
        "id": "2r7UA8GHDA26"
      },
      "source": [
        "# Separate and plot\n",
        "\n",
        "Population filtering can be used alongside plotting to quickly determine differences in distributions between the sub-populations. You'll work with the Titanic dataset.\n",
        "\n",
        "There were three passenger classes on the Titanic, and passengers in each class paid a different fare price. In this exercise, you'll investigate the differences in these fare prices.\n",
        "\n",
        "Your job is to use Boolean filtering and generate box plots of the fare prices for each of the three passenger classes. The fare prices are contained in the 'fare' column and passenger class information is contained in the 'pclass' column.\n",
        "\n",
        "When you're done, notice the portions of the box plots that differ and those that are similar.\n",
        "\n",
        "The DataFrame has been pre-loaded for you as titanic.\n",
        "\n",
        "Instructions\n",
        "1. Inside plt.subplots(), specify the nrows and ncols parameters so that there are 3 rows and 1 column.\n",
        "\n",
        "2. Filter the rows where the 'pclass' column has the values 1 and generate a box plot of the 'fare' column.\n",
        "\n",
        "3. Filter the rows where the 'pclass' column has the values 2 and generate a box plot of the 'fare' column.\n",
        "\n",
        "4. Filter the rows where the 'pclass' column has the values 3 and generate a box plot of the 'fare' column.\n"
      ]
    },
    {
      "cell_type": "code",
      "metadata": {
        "id": "A6tgrPLCE1vC"
      },
      "source": [
        "# Display the box plots on 3 separate rows and 1 column\n",
        "fig, axes = plt.subplots(nrows=3, ncols=1)\n",
        "\n",
        "# Generate a box plot of the fare prices for the First passenger class\n",
        "titanic.loc[titanic['pclass'] == 1].plot(ax=axes[0], y='fare', kind='box')\n",
        "\n",
        "# Generate a box plot of the fare prices for the Second passenger class\n",
        "titanic.loc[titanic['pclass'] == 2].plot(ax=axes[1], y='fare', kind='box')\n",
        "\n",
        "# Generate a box plot of the fare prices for the Third passenger class\n",
        "titanic.loc[titanic['pclass'] == 3].plot(ax=axes[2], y='fare', kind='box')\n",
        "\n",
        "# Display the plot\n",
        "plt.show()"
      ],
      "execution_count": null,
      "outputs": []
    },
    {
      "cell_type": "markdown",
      "metadata": {
        "id": "VN8GMGJ3E4xl"
      },
      "source": [
        "Conclusion\n",
        "\n",
        "Great work! Unsurprisingly, passengers in the first class had the highest fare.\n",
        "\n",
        "![image.png](data:image/png;base64,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)"
      ]
    }
  ]
}