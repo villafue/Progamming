{
  "nbformat": 4,
  "nbformat_minor": 0,
  "metadata": {
    "colab": {
      "name": " 1 Transforming Data .ipynb",
      "provenance": [],
      "authorship_tag": "ABX9TyMEyMIjDYIEwmTR+TMtnzzz",
      "include_colab_link": true
    },
    "kernelspec": {
      "name": "python3",
      "display_name": "Python 3"
    },
    "language_info": {
      "name": "python"
    }
  },
  "cells": [
    {
      "cell_type": "markdown",
      "metadata": {
        "id": "view-in-github",
        "colab_type": "text"
      },
      "source": [
        "<a href=\"https://colab.research.google.com/github/villafue/Progamming/blob/main/Python/Tutorial/Pandas/Data%20Manipulation%20with%20pandas/1%20Transforming%20Data/1_Transforming_Data_.ipynb\" target=\"_parent\"><img src=\"https://colab.research.google.com/assets/colab-badge.svg\" alt=\"Open In Colab\"/></a>"
      ]
    },
    {
      "cell_type": "markdown",
      "metadata": {
        "id": "tNSvIJ_fo1G1"
      },
      "source": [
        "Transforming Data\n",
        "\n",
        "Let’s master the pandas basics. Learn how to inspect DataFrames and perform fundamental manipulations, including sorting rows, subsetting, and adding new columns. "
      ]
    },
    {
      "cell_type": "markdown",
      "metadata": {
        "id": "dtng4vWPpQGo"
      },
      "source": [
        "Introducing DataFrames\n",
        "\n",
        "1. Introducing DataFrames\n",
        "\n",
        "Hi, I'm Richie. I'll be your tour guide through the world of pandas.\n",
        "2. What's the point of pandas?\n",
        "\n",
        "pandas is a Python package for data manipulation. It can also be used for data visualization; we'll get to that in Chapter 4.\n",
        "3. Course outline\n",
        "\n",
        "We'll start by talking about DataFrames, which form the core of pandas. In chapter 2, we'll discuss aggregating data to gather insights. In chapter 3, you'll learn all about slicing and indexing to subset DataFrames. Finally, you'll visualize your data, deal with missing data, and read data into a DataFrame. Let's dive in.\n",
        "4. pandas is built on NumPy and Matplotlib\n",
        "\n",
        "pandas is built on top of two essential Python packages, NumPy and Matplotlib. Numpy provides multidimensional array objects for easy data manipulation that pandas uses to store data, and Matplotlib has powerful data visualization capabilities that pandas takes advantage of.\n",
        "5. pandas is popular\n",
        "\n",
        "pandas has millions of users, with PyPi recording about 14 million downloads in December 2019. This represents almost the entire Python data science community!\n",
        "\n",
        "    1 https://pypistats.org/packages/pandas\n",
        "\n",
        "6. Rectangular data\n",
        "\n",
        "There are several ways to store data for analysis, but rectangular data, sometimes called \"tabular data\" is the most common form. In this example, with dogs, each observation, or each dog, is a row, and each variable, or each dog property, is a column. pandas is designed to work with rectangular data like this.\n",
        "7. pandas DataFrames\n",
        "\n",
        "In pandas, rectangular data is represented as a DataFrame object. Every programming language used for data analysis has something similar to this. R also has DataFrames, while SQL has database tables. Every value within a column has the same data type, either text or numeric, but different columns can contain different data types.\n",
        "8. Exploring a DataFrame: .head()\n",
        "\n",
        "When you first receive a new dataset, you want to quickly explore it and get a sense of its contents. pandas has several methods for this. The first is head, which returns the first few rows of the DataFrame. We only had seven rows to begin with, so it's not super exciting, but this becomes very useful if you have many rows.\n",
        "9. Exploring a DataFrame: .info()\n",
        "\n",
        "The info method displays the names of columns, the data types they contain, and whether they have any missing values.\n",
        "10. Exploring a DataFrame: .shape\n",
        "\n",
        "A DataFrame's shape attribute contains a tuple that holds the number of rows followed by the number of columns. Since this is an attribute instead of a method, you write it without parentheses.\n",
        "11. Exploring a DataFrame: .describe()\n",
        "\n",
        "The describe method computes some summary statistics for numerical columns, like mean and median. \"count\" is the number of non-missing values in each column. describe is good for a quick overview of numeric variables, but if you want more control, you'll see how to perform more specific calculations later in the course.\n",
        "12. Components of a DataFrame: .values\n",
        "\n",
        "DataFrames consist of three different components, accessible using attributes. The values attribute, as you might expect, contains the data values in a 2-dimensional NumPy array.\n",
        "13. Components of a DataFrame: .columns and .index\n",
        "\n",
        "The other two components of a DataFrame are labels for columns and rows. The columns attribute contains column names, and the index attribute contains row numbers or row names. Be careful, since row labels are stored in dot-index, not in dot-rows. Notice that these are Index objects, which we'll cover in Chapter 3. This allows for flexibility in labels. For example, the dogs data uses row numbers, but row names are also possible.\n",
        "14. pandas Philosophy\n",
        "\n",
        "Python has a semi-official philosophy on how to write good code called The Zen of Python. One suggestion is that given a programming problem, there should only be one obvious solution. As you go through this course, bear in mind that pandas deliberately doesn't follow this philosophy. Instead, there are often multiple ways to solve a problem, leaving you to choose the best. In this respect, pandas is like a Swiss Army Knife, giving you a variety of tools, making it incredibly powerful, but more difficult to learn. In this course, we aim for a more streamlined approach to pandas, only covering the most important ways of doing things.\n",
        "\n",
        "    1 https://www.python.org/dev/peps/pep-0020/\n",
        "\n",
        "15. Let's practice!\n",
        "\n",
        "Enough meditating, time to write some code! "
      ]
    },
    {
      "cell_type": "markdown",
      "metadata": {
        "id": "xO5AKECEqh2w"
      },
      "source": [
        "# Inspecting a DataFrame\n",
        "\n",
        "When you get a new DataFrame to work with, the first thing you need to do is explore it and see what it contains. There are several useful methods and attributes for this.\n",
        "\n",
        "  * .head() returns the first few rows (the “head” of the DataFrame).\n",
        "  * .info() shows information on each of the columns, such as the data type and number of missing values.\n",
        "  * .shape returns the number of rows and columns of the DataFrame.\n",
        "  * .describe() calculates a few summary statistics for each column.\n",
        "\n",
        "homelessness is a DataFrame containing estimates of homelessness in each U.S. state in 2018. The individual column is the number of homeless individuals not part of a family with children. The family_members column is the number of homeless individuals part of a family with children. The state_pop column is the state's total population.\n",
        "\n",
        "pandas is imported for you.\n",
        "\n",
        "Instructions 1/4\n",
        "\n",
        "1. Print the head of the homelessness DataFrame.\n"
      ]
    },
    {
      "cell_type": "code",
      "metadata": {
        "id": "k6MfRlxLoKb6"
      },
      "source": [
        "# Print the head of the homelessness data\n",
        "print(homelessness.head())\n",
        "\n",
        "'''\n",
        "<script.py> output:\n",
        "                   region       state  individuals  family_members  state_pop\n",
        "    0  East South Central     Alabama       2570.0           864.0    4887681\n",
        "    1             Pacific      Alaska       1434.0           582.0     735139\n",
        "    2            Mountain     Arizona       7259.0          2606.0    7158024\n",
        "    3  West South Central    Arkansas       2280.0           432.0    3009733\n",
        "    4             Pacific  California     109008.0         20964.0   39461588\n",
        "'''"
      ],
      "execution_count": null,
      "outputs": []
    },
    {
      "cell_type": "markdown",
      "metadata": {
        "id": "h0dCoR5MreXO"
      },
      "source": [
        "2. Print the number of rows and columns in homelessness."
      ]
    },
    {
      "cell_type": "code",
      "metadata": {
        "id": "TPV9SZhcreEh"
      },
      "source": [
        "# Print the head of the homelessness data\n",
        "print(homelessness.head())\n",
        "\n",
        "# Print information about homelessness\n",
        "print(homelessness.info())\n",
        "\n",
        "'''\n",
        "    <class 'pandas.core.frame.DataFrame'>\n",
        "    Int64Index: 51 entries, 0 to 50\n",
        "    Data columns (total 5 columns):\n",
        "    region            51 non-null object\n",
        "    state             51 non-null object\n",
        "    individuals       51 non-null float64\n",
        "    family_members    51 non-null float64\n",
        "    state_pop         51 non-null int64\n",
        "    dtypes: float64(2), int64(1), object(2)\n",
        "    memory usage: 2.4+ KB\n",
        "    None\n",
        "'''"
      ],
      "execution_count": null,
      "outputs": []
    },
    {
      "cell_type": "markdown",
      "metadata": {
        "id": "elEdnkB1riKV"
      },
      "source": [
        "3. Print the number of rows and columns in homelessness."
      ]
    },
    {
      "cell_type": "code",
      "metadata": {
        "id": "UYP9kSUSrhUq"
      },
      "source": [
        "# Print the head of the homelessness data\n",
        "print(homelessness.head())\n",
        "\n",
        "# Print information about homelessness\n",
        "print(homelessness.info())\n",
        "\n",
        "# Print the shape of homelessness\n",
        "print(homelessness.shape)\n",
        "\n",
        "'''\n",
        "(51, 5)\n",
        "'''"
      ],
      "execution_count": null,
      "outputs": []
    },
    {
      "cell_type": "markdown",
      "metadata": {
        "id": "s5A4yb7brzhe"
      },
      "source": [
        "4. Print some summary statistics that describe the homelessness DataFrame."
      ]
    },
    {
      "cell_type": "code",
      "metadata": {
        "id": "yD1QxQKUr2Cn"
      },
      "source": [
        "# Print the head of the homelessness data\n",
        "print(homelessness.head())\n",
        "\n",
        "# Print information about homelessness\n",
        "print(homelessness.info())\n",
        "\n",
        "# Print the shape of homelessness\n",
        "print(homelessness.shape)\n",
        "\n",
        "# Print a description of homelessness\n",
        "print(homelessness.describe())\n",
        "\n",
        "'''\n",
        "           individuals  family_members  state_pop\n",
        "    count       51.000          51.000  5.100e+01\n",
        "    mean      7225.784        3504.882  6.406e+06\n",
        "    std      15991.025        7805.412  7.327e+06\n",
        "    min        434.000          75.000  5.776e+05\n",
        "    25%       1446.500         592.000  1.777e+06\n",
        "    50%       3082.000        1482.000  4.461e+06\n",
        "    75%       6781.500        3196.000  7.341e+06\n",
        "    max     109008.000       52070.000  3.946e+07\n",
        "'''"
      ],
      "execution_count": null,
      "outputs": []
    },
    {
      "cell_type": "markdown",
      "metadata": {
        "id": "yqagyZICr_x3"
      },
      "source": [
        "Conclusion\n",
        "\n",
        "Insightful inspecting! You can see that the average number of homeless individuals in each state is about 7226. Let's explore the DataFrame further."
      ]
    },
    {
      "cell_type": "markdown",
      "metadata": {
        "id": "6OhSL3njsB3U"
      },
      "source": [
        "# Parts of a DataFrame\n",
        "\n",
        "To better understand DataFrame objects, it's useful to know that they consist of three components, stored as attributes:\n",
        "\n",
        " * .values: A two-dimensional NumPy array of values.\n",
        "\n",
        " * .columns: An index of columns: the column names.\n",
        "\n",
        " * .index: An index for the rows: either row numbers or row names.\n",
        "\n",
        "You can usually think of indexes as a list of strings or numbers, though the pandas Index data type allows for more sophisticated options. (These will be covered later in the course.)\n",
        "\n",
        "homelessness is available.\n",
        "\n",
        "Instructions\n",
        "\n",
        "1. Import pandas using the alias pd.\n",
        "\n",
        "2. Print a 2D NumPy array of the values in homelessness.\n",
        "\n",
        "3. Print the column names of homelessness.\n",
        "\n",
        "4. Print the index of homelessness.\n"
      ]
    },
    {
      "cell_type": "code",
      "metadata": {
        "id": "ovH1pnbKsy1t"
      },
      "source": [
        "# Import pandas using the alias pd\n",
        "import pandas as pd\n",
        "\n",
        "# Print the values of homelessness\n",
        "print(homelessness.values)\n",
        "\n",
        "# Print the column index of homelessness\n",
        "print(homelessness.columns)\n",
        "\n",
        "# Print the row index of homelessness\n",
        "print(homelessness.index)\n",
        "\n",
        "'''\n",
        "<script.py> output:\n",
        "    [['East South Central' 'Alabama' 2570.0 864.0 4887681]\n",
        "     ['Pacific' 'Alaska' 1434.0 582.0 735139]\n",
        "     ['Mountain' 'Arizona' 7259.0 2606.0 7158024]\n",
        "     ['West South Central' 'Arkansas' 2280.0 432.0 3009733]\n",
        "     ['Pacific' 'California' 109008.0 20964.0 39461588]\n",
        "     ['Mountain' 'Colorado' 7607.0 3250.0 5691287]\n",
        "     ['New England' 'Connecticut' 2280.0 1696.0 3571520]\n",
        "     ['South Atlantic' 'Delaware' 708.0 374.0 965479]\n",
        "     ['South Atlantic' 'District of Columbia' 3770.0 3134.0 701547]\n",
        "     ['South Atlantic' 'Florida' 21443.0 9587.0 21244317]\n",
        "     ['South Atlantic' 'Georgia' 6943.0 2556.0 10511131]\n",
        "     ['Pacific' 'Hawaii' 4131.0 2399.0 1420593]\n",
        "     ['Mountain' 'Idaho' 1297.0 715.0 1750536]\n",
        "     ['East North Central' 'Illinois' 6752.0 3891.0 12723071]\n",
        "     ['East North Central' 'Indiana' 3776.0 1482.0 6695497]\n",
        "     ['West North Central' 'Iowa' 1711.0 1038.0 3148618]\n",
        "     ['West North Central' 'Kansas' 1443.0 773.0 2911359]\n",
        "     ['East South Central' 'Kentucky' 2735.0 953.0 4461153]\n",
        "     ['West South Central' 'Louisiana' 2540.0 519.0 4659690]\n",
        "     ['New England' 'Maine' 1450.0 1066.0 1339057]\n",
        "     ['South Atlantic' 'Maryland' 4914.0 2230.0 6035802]\n",
        "     ['New England' 'Massachusetts' 6811.0 13257.0 6882635]\n",
        "     ['East North Central' 'Michigan' 5209.0 3142.0 9984072]\n",
        "     ['West North Central' 'Minnesota' 3993.0 3250.0 5606249]\n",
        "     ['East South Central' 'Mississippi' 1024.0 328.0 2981020]\n",
        "     ['West North Central' 'Missouri' 3776.0 2107.0 6121623]\n",
        "     ['Mountain' 'Montana' 983.0 422.0 1060665]\n",
        "     ['West North Central' 'Nebraska' 1745.0 676.0 1925614]\n",
        "     ['Mountain' 'Nevada' 7058.0 486.0 3027341]\n",
        "     ['New England' 'New Hampshire' 835.0 615.0 1353465]\n",
        "     ['Mid-Atlantic' 'New Jersey' 6048.0 3350.0 8886025]\n",
        "     ['Mountain' 'New Mexico' 1949.0 602.0 2092741]\n",
        "     ['Mid-Atlantic' 'New York' 39827.0 52070.0 19530351]\n",
        "     ['South Atlantic' 'North Carolina' 6451.0 2817.0 10381615]\n",
        "     ['West North Central' 'North Dakota' 467.0 75.0 758080]\n",
        "     ['East North Central' 'Ohio' 6929.0 3320.0 11676341]\n",
        "     ['West South Central' 'Oklahoma' 2823.0 1048.0 3940235]\n",
        "     ['Pacific' 'Oregon' 11139.0 3337.0 4181886]\n",
        "     ['Mid-Atlantic' 'Pennsylvania' 8163.0 5349.0 12800922]\n",
        "     ['New England' 'Rhode Island' 747.0 354.0 1058287]\n",
        "     ['South Atlantic' 'South Carolina' 3082.0 851.0 5084156]\n",
        "     ['West North Central' 'South Dakota' 836.0 323.0 878698]\n",
        "     ['East South Central' 'Tennessee' 6139.0 1744.0 6771631]\n",
        "     ['West South Central' 'Texas' 19199.0 6111.0 28628666]\n",
        "     ['Mountain' 'Utah' 1904.0 972.0 3153550]\n",
        "     ['New England' 'Vermont' 780.0 511.0 624358]\n",
        "     ['South Atlantic' 'Virginia' 3928.0 2047.0 8501286]\n",
        "     ['Pacific' 'Washington' 16424.0 5880.0 7523869]\n",
        "     ['South Atlantic' 'West Virginia' 1021.0 222.0 1804291]\n",
        "     ['East North Central' 'Wisconsin' 2740.0 2167.0 5807406]\n",
        "     ['Mountain' 'Wyoming' 434.0 205.0 577601]]\n",
        "\n",
        "------------------------------------------------------------------------------- \n",
        "\n",
        "    Index(['region', 'state', 'individuals', 'family_members', 'state_pop'], dtype='object')\n",
        "\n",
        "-------------------------------------------------------------------------------\n",
        "\n",
        "    Int64Index([0, 1, 2, 3, 4, 5, 6, 7, 8, 9, 10, 11, 12, 13, 14, 15, 16, 17, 18, 19, 20, 21, 22, 23, 24, 25, 26, 27, 28, 29, 30, 31, 32, 33, 34, 35, 36, 37, 38, 39, 40, 41, 42, 43, 44, 45, 46, 47, 48,\n",
        "                49, 50],\n",
        "               dtype='int64')\n",
        "'''"
      ],
      "execution_count": null,
      "outputs": []
    },
    {
      "cell_type": "markdown",
      "metadata": {
        "id": "hmcF_XsKtNi2"
      },
      "source": [
        "Conclusion\n",
        "\n",
        "Dynamite DataFrame dissection! DataFrames have three components: values, a column index, and a row index."
      ]
    },
    {
      "cell_type": "markdown",
      "metadata": {
        "id": "Oue65D06tSqf"
      },
      "source": [
        "# Sorting and subsetting\n",
        "\n",
        "1. Sorting and subsetting\n",
        "\n",
        "In this video, we'll cover the two simplest and possibly most important ways to find interesting parts of your DataFrame.\n",
        "2. Sorting\n",
        "\n",
        "The first thing you can do is change the order of the rows by sorting them so that the most interesting data is at the top of the DataFrame. You can sort rows using the sort_values method, passing in a column name that you want to sort by. For example, when we apply sort_values on the weight_kg column of the dogs DataFrame, we get the lightest dog at the top, Stella the Chihuahua, and the heaviest dog at the bottom, Bernie the Saint Bernard.\n",
        "3. Sorting in descending order\n",
        "\n",
        "Setting the ascending argument to False will sort the data the other way around, from heaviest dog to lightest dog.\n",
        "4. Sorting by multiple variables\n",
        "\n",
        "We can sort by multiple variables by passing a list of column names to sort_values. Here, we sort first by weight, then by height. Now, Charlie, Lucy, and Bella are ordered from shortest to tallest, even though they all weigh the same.\n",
        "5. Sorting by multiple variables\n",
        "\n",
        "To change the direction values are sorted in, pass a list to the ascending argument to specify which direction sorting should be done for each variable. Now, Charlie, Lucy, and Bella are ordered from tallest to shortest.\n",
        "6. Subsetting columns\n",
        "\n",
        "We may want to zoom in on just one column. We can do this using the name of the DataFrame, followed by square brackets with a column name inside. Here, we can look at just the name column.\n",
        "7. Subsetting multiple columns\n",
        "\n",
        "To select multiple columns, you need two pairs of square brackets. In this code, the inner and outer square brackets are performing different tasks. The outer square brackets are responsible for subsetting the DataFrame, and the inner square brackets are creating a list of column names to subset. This means you could provide a separate list of column names as a variable and then use that list to perform the same subsetting. Usually, it's easier to do in one line.\n",
        "8. Subsetting rows\n",
        "\n",
        "There are lots of different ways to subset rows. The most common way to do this is by creating a logical condition to filter against. For example, let's find all the dogs whose height is greater than 50 centimeters. Now we have a True or False value for every row.\n",
        "9. Subsetting rows\n",
        "\n",
        "We can use the logical condition inside of square brackets to subset the rows we're interested in to get all of the dogs taller than 50 centimeters.\n",
        "10. Subsetting based on text data\n",
        "\n",
        "We can also subset rows based on text data. Here, we use the double equal sign in the logical condition to filter the dogs that are Labradors.\n",
        "11. Subsetting based on dates\n",
        "\n",
        "We can also subset based on dates. Here, we filter all the dogs born before 2015. Notice that the dates are in quotes and are written as year then month, then day. This is the international standard date format.\n",
        "12. Subsetting based on multiple conditions\n",
        "\n",
        "To subset the rows that meet multiple conditions, you can combine conditions using logical operators, such as the \"and\" operator seen here. This means that only rows that meet both of these conditions will be subsetted. You could also do this in one line of code, but you'll also need to add parentheses around each condition.\n",
        "13. Subsetting using .isin()\n",
        "\n",
        "If you want to filter on multiple values of a categorical variable, the easiest way is to use the isin method. This takes in a list of values to filter for. Here, we check if the color of a dog is black or brown, and use this condition to subset the data.\n",
        "14. Let's practice!\n",
        "\n",
        "Now it's time to practice your sorting and subsetting!\n",
        "\n",
        "\n"
      ]
    },
    {
      "cell_type": "markdown",
      "metadata": {
        "id": "JUn2GfyhwAAe"
      },
      "source": [
        "# Sorting rows\n",
        "\n",
        "Finding interesting bits of data in a DataFrame is often easier if you change the order of the rows. You can sort the rows by passing a column name to .sort_values().\n",
        "\n",
        "In cases where rows have the same value (this is common if you sort on a categorical variable), you may wish to break the ties by sorting on another column. You can sort on multiple columns in this way by passing a list of column names.\n",
        "\n",
        "\n",
        "|Sort on … |\tSyntax |\n",
        "|-|-|\n",
        "|one column |\tdf.sort_values(\"breed\") |\n",
        "|multiple columns |\tdf.sort_values([\"breed\", \"weight_kg\"]) |\n",
        "\n",
        "By combining .sort_values() with .head(), you can answer questions in the form, \"What are the top cases where…?\".\n",
        "\n",
        "homelessness is available and pandas is loaded as pd.\n",
        "\n",
        "Instructions 1/3\n",
        "\n",
        "1. Sort homelessness by the number of homeless individuals, from smallest to largest, and save this as homelessness_ind.\n",
        "\n",
        "2. Print the head of the sorted DataFram"
      ]
    },
    {
      "cell_type": "code",
      "metadata": {
        "id": "pdq9hPGXzyVR"
      },
      "source": [
        "In [1]:\n",
        "homelessness.head()\n",
        "Out[1]:\n",
        "\n",
        "               region       state  individuals  family_members  state_pop\n",
        "0  East South Central     Alabama       2570.0           864.0    4887681\n",
        "1             Pacific      Alaska       1434.0           582.0     735139\n",
        "2            Mountain     Arizona       7259.0          2606.0    7158024\n",
        "3  West South Central    Arkansas       2280.0           432.0    3009733\n",
        "4             Pacific  California     109008.0         20964.0   39461588"
      ],
      "execution_count": null,
      "outputs": []
    },
    {
      "cell_type": "code",
      "metadata": {
        "id": "rZEzBKlQ0bdd"
      },
      "source": [
        "# Sort homelessness by individual\n",
        "homelessness_ind = homelessness.sort_values('individuals')\n",
        "\n",
        "# Print the top few rows\n",
        "print(homelessness_ind.head())\n",
        "\n",
        "'''\n",
        "<script.py> output:\n",
        "                    region         state  individuals  family_members  state_pop\n",
        "    50            Mountain       Wyoming        434.0           205.0     577601\n",
        "    34  West North Central  North Dakota        467.0            75.0     758080\n",
        "    7       South Atlantic      Delaware        708.0           374.0     965479\n",
        "    39         New England  Rhode Island        747.0           354.0    1058287\n",
        "    45         New England       Vermont        780.0           511.0     624358\n",
        "'''"
      ],
      "execution_count": null,
      "outputs": []
    },
    {
      "cell_type": "markdown",
      "metadata": {
        "id": "QxHFQhYr0pxj"
      },
      "source": [
        "3. Sort homelessness by the number of homeless family_members in descending order, and save this as homelessness_fam.\n",
        "\n",
        "4. Print the head of the sorted DataFrame.\n"
      ]
    },
    {
      "cell_type": "code",
      "metadata": {
        "id": "j9mWwS0-14j6"
      },
      "source": [
        "# Sort homelessness by descending family members\n",
        "homelessness_fam = homelessness.sort_values('family_members', ascending=False)\n",
        "\n",
        "# Print the top few rows\n",
        "print(homelessness_fam.head())\n",
        "\n",
        "'''\n",
        "<script.py> output:\n",
        "                    region          state  individuals  family_members  state_pop\n",
        "    32        Mid-Atlantic       New York      39827.0         52070.0   19530351\n",
        "    4              Pacific     California     109008.0         20964.0   39461588\n",
        "    21         New England  Massachusetts       6811.0         13257.0    6882635\n",
        "    9       South Atlantic        Florida      21443.0          9587.0   21244317\n",
        "    43  West South Central          Texas      19199.0          6111.0   28628666\n",
        "'''"
      ],
      "execution_count": null,
      "outputs": []
    },
    {
      "cell_type": "markdown",
      "metadata": {
        "id": "2ke4Nen12CRq"
      },
      "source": [
        "5. Sort homelessness first by region (ascending), and then by number of family members (descending). Save this as homelessness_reg_fam.\n",
        "\n",
        "6. Print the head of the sorted DataFrame.\n"
      ]
    },
    {
      "cell_type": "code",
      "metadata": {
        "id": "wWGV4LzF2wty"
      },
      "source": [
        "# Sort homelessness by region, then descending family members\n",
        "homelessness_reg_fam = homelessness.sort_values(['region', 'family_members'], ascending=[True, False])\n",
        "\n",
        "# Print the top few rows\n",
        "print(homelessness_reg_fam.head())\n",
        "\n",
        "'''\n",
        "<script.py> output:\n",
        "                    region      state  individuals  family_members  state_pop\n",
        "    13  East North Central   Illinois       6752.0          3891.0   12723071\n",
        "    35  East North Central       Ohio       6929.0          3320.0   11676341\n",
        "    22  East North Central   Michigan       5209.0          3142.0    9984072\n",
        "    49  East North Central  Wisconsin       2740.0          2167.0    5807406\n",
        "    14  East North Central    Indiana       3776.0          1482.0    6695497\n",
        "'''"
      ],
      "execution_count": null,
      "outputs": []
    },
    {
      "cell_type": "markdown",
      "metadata": {
        "id": "lUd2IP9M3kAk"
      },
      "source": [
        "Conclusion\n",
        "\n",
        "Your head is sorted! Using .sort_values() and .head() form a powerful pair."
      ]
    },
    {
      "cell_type": "markdown",
      "metadata": {
        "id": "p730DjZe4yiN"
      },
      "source": [
        "# Subsetting columns\n",
        "\n",
        "When working with data, you may not need all of the variables in your dataset. Square brackets ([]) can be used to select only the columns that matter to you in an order that makes sense to you. To select only \"col_a\" of the DataFrame df, use\n",
        "\n",
        "`df[\"col_a\"]`\n",
        "\n",
        "To select \"col_a\" and \"col_b\" of df, use\n",
        "\n",
        "`df[[\"col_a\", \"col_b\"]]`\n",
        "\n",
        "homelessness is available and pandas is loaded as pd.\n",
        "\n",
        "1. Create a DataFrame called individuals that contains only the individuals column of homelessness.\n",
        "\n",
        "2. Print the head of the result.\n"
      ]
    },
    {
      "cell_type": "code",
      "metadata": {
        "id": "85g2vy9r6jL7"
      },
      "source": [
        "In [1]:\n",
        "homelessness.head()\n",
        "Out[1]:\n",
        "\n",
        "               region       state  individuals  family_members  state_pop\n",
        "0  East South Central     Alabama       2570.0           864.0    4887681\n",
        "1             Pacific      Alaska       1434.0           582.0     735139\n",
        "2            Mountain     Arizona       7259.0          2606.0    7158024\n",
        "3  West South Central    Arkansas       2280.0           432.0    3009733\n",
        "4             Pacific  California     109008.0         20964.0   39461588"
      ],
      "execution_count": null,
      "outputs": []
    },
    {
      "cell_type": "code",
      "metadata": {
        "id": "y4DfFEqu6k54"
      },
      "source": [
        "# Select the individuals column\n",
        "individuals = homelessness.individuals\n",
        "\n",
        "# Print the head of the result\n",
        "print(individuals.head())\n",
        "\n",
        "'''\n",
        "<script.py> output:\n",
        "    0      2570.0\n",
        "    1      1434.0\n",
        "    2      7259.0\n",
        "    3      2280.0\n",
        "    4    109008.0\n",
        "    Name: individuals, dtype: float64\n",
        "'''"
      ],
      "execution_count": null,
      "outputs": []
    },
    {
      "cell_type": "markdown",
      "metadata": {
        "id": "By8C4Aqk8V0e"
      },
      "source": [
        "3. Create a DataFrame called state_fam that contains only the state and family_members columns of homelessness, in that order.\n",
        "\n",
        "4. Print the head of the result.\n"
      ]
    },
    {
      "cell_type": "code",
      "metadata": {
        "id": "iqREa8F7BRxg"
      },
      "source": [
        "# Select the state and family_members columns\n",
        "state_fam = homelessness[['state', 'family_members']]\n",
        "\n",
        "# Print the head of the result\n",
        "print(state_fam.head())\n",
        "\n",
        "'''\n",
        "<script.py> output:\n",
        "            state  family_members\n",
        "    0     Alabama           864.0\n",
        "    1      Alaska           582.0\n",
        "    2     Arizona          2606.0\n",
        "    3    Arkansas           432.0\n",
        "    4  California         20964.0\n",
        "'''"
      ],
      "execution_count": null,
      "outputs": []
    },
    {
      "cell_type": "markdown",
      "metadata": {
        "id": "K6a0j7RaBziL"
      },
      "source": [
        "5. Create a DataFrame called ind_state that contains the individuals and state columns of homelessness, in that order.\n",
        "\n",
        "6. Print the head of the result.\n"
      ]
    },
    {
      "cell_type": "code",
      "metadata": {
        "id": "w334j4mbCmBz"
      },
      "source": [
        "# Select only the individuals and state columns, in that order\n",
        "ind_state = homelessness[['individuals', 'state']]\n",
        "\n",
        "# Print the head of the result\n",
        "print(ind_state.head())\n",
        "\n",
        "'''\n",
        "<script.py> output:\n",
        "       individuals       state\n",
        "    0       2570.0     Alabama\n",
        "    1       1434.0      Alaska\n",
        "    2       7259.0     Arizona\n",
        "    3       2280.0    Arkansas\n",
        "    4     109008.0  California\n",
        "'''"
      ],
      "execution_count": null,
      "outputs": []
    },
    {
      "cell_type": "markdown",
      "metadata": {
        "id": "1xdlAw3fDBls"
      },
      "source": [
        "Conclusion\n",
        "\n",
        "Radical reordering! Selecting and reordering columns can make data easier to work with."
      ]
    },
    {
      "cell_type": "markdown",
      "metadata": {
        "id": "c4t6YAyXDwsI"
      },
      "source": [
        "# Subsetting rows\n",
        "\n",
        "A large part of data science is about finding which bits of your dataset are interesting. One of the simplest techniques for this is to find a subset of rows that match some criteria. This is sometimes known as filtering rows or selecting rows.\n",
        "\n",
        "There are many ways to subset a DataFrame, perhaps the most common is to use relational operators to return True or False for each row, then pass that inside square brackets.\n",
        "\n",
        "```\n",
        "dogs[dogs[\"height_cm\"] > 60]\n",
        "dogs[dogs[\"color\"] == \"tan\"]\n",
        "```\n",
        "\n",
        "You can filter for multiple conditions at once by using the \"bitwise and\" operator, &.\n",
        "\n",
        "`dogs[(dogs[\"height_cm\"] > 60) & (dogs[\"color\"] == \"tan\")]`\n",
        "\n",
        "homelessness is available and pandas is loaded as pd.\n",
        "\n",
        "Instructions\n",
        "\n",
        "1. Filter homelessness for cases where the number of individuals is greater than ten thousand, assigning to ind_gt_10k. View the printed result."
      ]
    },
    {
      "cell_type": "code",
      "metadata": {
        "id": "QazJALVXTamD"
      },
      "source": [
        "Out[1]:\n",
        "\n",
        "               region       state  individuals  family_members  state_pop\n",
        "0  East South Central     Alabama       2570.0           864.0    4887681\n",
        "1             Pacific      Alaska       1434.0           582.0     735139\n",
        "2            Mountain     Arizona       7259.0          2606.0    7158024\n",
        "3  West South Central    Arkansas       2280.0           432.0    3009733\n",
        "4             Pacific  California     109008.0         20964.0   39461588"
      ],
      "execution_count": null,
      "outputs": []
    },
    {
      "cell_type": "code",
      "metadata": {
        "id": "T9XOcb1ATbou"
      },
      "source": [
        "# Filter for rows where individuals is greater than 10000\n",
        "ind_gt_10k = homelessness[homelessness['individuals'] > 10000]\n",
        "\n",
        "# See the result\n",
        "print(ind_gt_10k)\n",
        "\n",
        "'''\n",
        "<script.py> output:\n",
        "                    region       state  individuals  family_members  state_pop\n",
        "    4              Pacific  California     109008.0         20964.0   39461588\n",
        "    9       South Atlantic     Florida      21443.0          9587.0   21244317\n",
        "    32        Mid-Atlantic    New York      39827.0         52070.0   19530351\n",
        "    37             Pacific      Oregon      11139.0          3337.0    4181886\n",
        "    43  West South Central       Texas      19199.0          6111.0   28628666\n",
        "    47             Pacific  Washington      16424.0          5880.0    7523869\n",
        "'''"
      ],
      "execution_count": null,
      "outputs": []
    },
    {
      "cell_type": "markdown",
      "metadata": {
        "id": "fq1XsGvtUIQu"
      },
      "source": [
        "2. Filter homelessness for cases where the USA Census region is \"Mountain\", assigning to mountain_reg. View the printed result."
      ]
    },
    {
      "cell_type": "code",
      "metadata": {
        "id": "EBUkHLAXUMCv"
      },
      "source": [
        "# Filter for rows where region is Mountain\n",
        "mountain_reg = homelessness[homelessness.region == 'Mountain']\n",
        "\n",
        "# See the result\n",
        "print(mountain_reg)\n",
        "\n",
        "'''\n",
        "<script.py> output:\n",
        "          region       state  individuals  family_members  state_pop\n",
        "    2   Mountain     Arizona       7259.0          2606.0    7158024\n",
        "    5   Mountain    Colorado       7607.0          3250.0    5691287\n",
        "    12  Mountain       Idaho       1297.0           715.0    1750536\n",
        "    26  Mountain     Montana        983.0           422.0    1060665\n",
        "    28  Mountain      Nevada       7058.0           486.0    3027341\n",
        "    31  Mountain  New Mexico       1949.0           602.0    2092741\n",
        "    44  Mountain        Utah       1904.0           972.0    3153550\n",
        "    50  Mountain     Wyoming        434.0           205.0     577601\n",
        "'''"
      ],
      "execution_count": null,
      "outputs": []
    },
    {
      "cell_type": "markdown",
      "metadata": {
        "id": "X1RbLtFOUfFG"
      },
      "source": [
        "3. Filter homelessness for cases where the number of family_members is less than one thousand and the region is \"Pacific\", assigning to fam_lt_1k_pac. View the printed result."
      ]
    },
    {
      "cell_type": "code",
      "metadata": {
        "id": "WHudWUyKUkRe"
      },
      "source": [
        "# Filter for rows where family_members is less than 1000 \n",
        "# and region is Pacific\n",
        "fam_lt_1k_pac = homelessness[(homelessness['family_members'] < 1000) & \n",
        "                             (homelessness['region'] == 'Pacific')]\n",
        "\n",
        "# See the result\n",
        "print(fam_lt_1k_pac)\n",
        "\n",
        "'''\n",
        "<script.py> output:\n",
        "        region   state  individuals  family_members  state_pop\n",
        "    1  Pacific  Alaska       1434.0           582.0     735139\n",
        "'''"
      ],
      "execution_count": null,
      "outputs": []
    },
    {
      "cell_type": "markdown",
      "metadata": {
        "id": "SRb1C9ghVwWk"
      },
      "source": [
        "Conclusion\n",
        "\n",
        "Superb subsetting! Using square brackets plus logical conditions is often the most powerful way of identifying interesting rows of data."
      ]
    },
    {
      "cell_type": "markdown",
      "metadata": {
        "id": "WZIM80ABWCNg"
      },
      "source": [
        "# Subsetting rows by categorical variables\n",
        "\n",
        "Subsetting data based on a categorical variable often involves using the \"or\" operator (|) to select rows from multiple categories. This can get tedious when you want all states in one of three different regions, for example. Instead, use the .isin() method, which will allow you to tackle this problem by writing one condition instead of three separate ones.\n",
        "\n",
        "```\n",
        "colors = [\"brown\", \"black\", \"tan\"]\n",
        "condition = dogs[\"color\"].isin(colors)\n",
        "dogs[condition]\n",
        "```\n",
        "homelessness is available and pandas is loaded as pd.\n",
        "\n",
        "Instructions\n",
        "\n",
        "1. Filter homelessness for cases where the USA census region is \"South Atlantic\" or it is \"Mid-Atlantic\", assigning to south_mid_atlantic. View the printed result."
      ]
    },
    {
      "cell_type": "code",
      "metadata": {
        "id": "LG9oUDcQXA-R"
      },
      "source": [
        "In [1]:\n",
        "homelessness.head()\n",
        "Out[1]:\n",
        "\n",
        "               region       state  individuals  family_members  state_pop\n",
        "0  East South Central     Alabama       2570.0           864.0    4887681\n",
        "1             Pacific      Alaska       1434.0           582.0     735139\n",
        "2            Mountain     Arizona       7259.0          2606.0    7158024\n",
        "3  West South Central    Arkansas       2280.0           432.0    3009733\n",
        "4             Pacific  California     109008.0         20964.0   39461588"
      ],
      "execution_count": null,
      "outputs": []
    },
    {
      "cell_type": "code",
      "metadata": {
        "id": "8NPcm6lWX929"
      },
      "source": [
        "# Subset for rows in South Atlantic or Mid-Atlantic regions\n",
        "south_mid_atlantic = homelessness[homelessness['region'].isin(['South Atlantic', 'Mid-Atlantic'])]\n",
        "\n",
        "# See the result\n",
        "print(south_mid_atlantic)\n",
        "\n",
        "'''\n",
        "<script.py> output:\n",
        "                region                 state  individuals  family_members  state_pop\n",
        "    7   South Atlantic              Delaware        708.0           374.0     965479\n",
        "    8   South Atlantic  District of Columbia       3770.0          3134.0     701547\n",
        "    9   South Atlantic               Florida      21443.0          9587.0   21244317\n",
        "    10  South Atlantic               Georgia       6943.0          2556.0   10511131\n",
        "    20  South Atlantic              Maryland       4914.0          2230.0    6035802\n",
        "    30    Mid-Atlantic            New Jersey       6048.0          3350.0    8886025\n",
        "    32    Mid-Atlantic              New York      39827.0         52070.0   19530351\n",
        "    33  South Atlantic        North Carolina       6451.0          2817.0   10381615\n",
        "    38    Mid-Atlantic          Pennsylvania       8163.0          5349.0   12800922\n",
        "    40  South Atlantic        South Carolina       3082.0           851.0    5084156\n",
        "    46  South Atlantic              Virginia       3928.0          2047.0    8501286\n",
        "    48  South Atlantic         West Virginia       1021.0           222.0    1804291\n",
        "'''"
      ],
      "execution_count": null,
      "outputs": []
    },
    {
      "cell_type": "markdown",
      "metadata": {
        "id": "6gkYTtCrWbsY"
      },
      "source": [
        "2. Filter homelessness for cases where the USA census state is in the list of Mojave states, canu, assigning to mojave_homelessness. View the printed result."
      ]
    },
    {
      "cell_type": "code",
      "metadata": {
        "id": "jXu3KqKhYQvn"
      },
      "source": [
        "# The Mojave Desert states\n",
        "canu = [\"California\", \"Arizona\", \"Nevada\", \"Utah\"]\n",
        "\n",
        "# Filter for rows in the Mojave Desert states\n",
        "mojave_homelessness = homelessness[homelessness['state'].isin(canu)]\n",
        "\n",
        "# See the result\n",
        "print(mojave_homelessness)\n",
        "\n",
        "'''\n",
        "<script.py> output:\n",
        "          region       state  individuals  family_members  state_pop\n",
        "    2   Mountain     Arizona       7259.0          2606.0    7158024\n",
        "    4    Pacific  California     109008.0         20964.0   39461588\n",
        "    28  Mountain      Nevada       7058.0           486.0    3027341\n",
        "    44  Mountain        Utah       1904.0           972.0    3153550\n",
        "'''"
      ],
      "execution_count": null,
      "outputs": []
    },
    {
      "cell_type": "markdown",
      "metadata": {
        "id": "jhOyN37VYiXl"
      },
      "source": [
        "Conclusion\n",
        "\n",
        "Success is in the air! Using .isin() makes subsetting categorical variables a breeze."
      ]
    },
    {
      "cell_type": "markdown",
      "metadata": {
        "id": "j52UstljYiQJ"
      },
      "source": [
        "# New columns\n",
        "\n",
        "1. New columns\n",
        "\n",
        "In the last lesson, you saw how to subset and sort a DataFrame to extract interesting bits. However, often when you first receive a DataFrame, the contents aren't exactly what you want. You may have to add new columns derived from existing columns.\n",
        "2. Adding a new column\n",
        "\n",
        "Creating and adding new columns can go by many names, including mutating a DataFrame, transforming a DataFrame, and feature engineering. Let's say we want to add a new column to our DataFrame that has each dog's height in meters instead of centimeters. On the left-hand side of the equals, we use square brackets with the name of the new column we want to create. On the right-hand side, we have the calculation. Notice that both the existing column and the new column we just created are in the DataFrame.\n",
        "3. Doggy mass index\n",
        "\n",
        "Let's see what the results are if we calculate the body mass index, or BMI, of these dogs. BMI is usually calculated by taking a person's weight in kilograms and dividing it by their height in meters, squared. Instead of doing this with people, we'll try it out with dogs. Again, the new column is on the left-hand side of the equals, but this time, our calculation involves two columns.\n",
        "4. Multiple manipulations\n",
        "\n",
        "The real power of pandas comes in when you combine all the skills you've learned so far. Let's figure out the names of skinny, tall dogs. First, to define the skinny dogs, we take the subset of the dogs who have a BMI of under 100. Next, we sort the result in descending order of height to get the tallest skinny dogs at the top. Finally, we keep only the columns we're interested in. Here, you can see that Max is the tallest dog with a BMI of under 100.\n",
        "5. Let's practice!\n",
        "\n",
        "Time to practice your pandas powers! "
      ]
    },
    {
      "cell_type": "markdown",
      "metadata": {
        "id": "UQt0Rdk9zqvE"
      },
      "source": [
        "# Adding new columns\n",
        "\n",
        "You aren't stuck with just the data you are given. Instead, you can add new columns to a DataFrame. This has many names, such as transforming, mutating, and feature engineering.\n",
        "\n",
        "You can create new columns from scratch, but it is also common to derive them from other columns, for example, by adding columns together or by changing their units.\n",
        "\n",
        "homelessness is available and pandas is loaded as pd.\n",
        "\n",
        "Instructions\n",
        "\n",
        "1. Add a new column to homelessness, named total, containing the sum of the individuals and family_members columns.\n",
        "\n",
        "2. Add another column to homelessness, named p_individuals, containing the proportion of homeless people in each state who are individuals.\n"
      ]
    },
    {
      "cell_type": "code",
      "metadata": {
        "id": "UDmz2juO0JZH"
      },
      "source": [
        "Out[1]:\n",
        "\n",
        "               region       state  individuals  family_members  state_pop\n",
        "0  East South Central     Alabama       2570.0           864.0    4887681\n",
        "1             Pacific      Alaska       1434.0           582.0     735139\n",
        "2            Mountain     Arizona       7259.0          2606.0    7158024\n",
        "3  West South Central    Arkansas       2280.0           432.0    3009733\n",
        "4             Pacific  California     109008.0         20964.0   39461588"
      ],
      "execution_count": null,
      "outputs": []
    },
    {
      "cell_type": "code",
      "metadata": {
        "id": "o25MmiGq2Gcp"
      },
      "source": [
        "# Add total col as sum of individuals and family_members\n",
        "homelessness['total'] = homelessness.individuals + homelessness.family_members\n",
        "\n",
        "# Add p_individuals col as proportion of individuals\n",
        "homelessness['p_individuals'] = (homelessness.individuals / homelessness.total) \n",
        "\n",
        "# See the result\n",
        "print(homelessness)\n",
        "\n",
        "'''\n",
        "<script.py> output:\n",
        "                    region                 state  individuals  family_members  state_pop     total  p_individuals\n",
        "    0   East South Central               Alabama       2570.0           864.0    4887681    3434.0          0.748\n",
        "    1              Pacific                Alaska       1434.0           582.0     735139    2016.0          0.711\n",
        "    2             Mountain               Arizona       7259.0          2606.0    7158024    9865.0          0.736\n",
        "    3   West South Central              Arkansas       2280.0           432.0    3009733    2712.0          0.841\n",
        "    4              Pacific            California     109008.0         20964.0   39461588  129972.0          0.839\n",
        "    5             Mountain              Colorado       7607.0          3250.0    5691287   10857.0          0.701\n",
        "    6          New England           Connecticut       2280.0          1696.0    3571520    3976.0          0.573\n",
        "    7       South Atlantic              Delaware        708.0           374.0     965479    1082.0          0.654\n",
        "    8       South Atlantic  District of Columbia       3770.0          3134.0     701547    6904.0          0.546\n",
        "    9       South Atlantic               Florida      21443.0          9587.0   21244317   31030.0          0.691\n",
        "    10      South Atlantic               Georgia       6943.0          2556.0   10511131    9499.0          0.731\n",
        "    11             Pacific                Hawaii       4131.0          2399.0    1420593    6530.0          0.633\n",
        "    12            Mountain                 Idaho       1297.0           715.0    1750536    2012.0          0.645\n",
        "    13  East North Central              Illinois       6752.0          3891.0   12723071   10643.0          0.634\n",
        "    14  East North Central               Indiana       3776.0          1482.0    6695497    5258.0          0.718\n",
        "    15  West North Central                  Iowa       1711.0          1038.0    3148618    2749.0          0.622\n",
        "    16  West North Central                Kansas       1443.0           773.0    2911359    2216.0          0.651\n",
        "    17  East South Central              Kentucky       2735.0           953.0    4461153    3688.0          0.742\n",
        "    18  West South Central             Louisiana       2540.0           519.0    4659690    3059.0          0.830\n",
        "    19         New England                 Maine       1450.0          1066.0    1339057    2516.0          0.576\n",
        "    20      South Atlantic              Maryland       4914.0          2230.0    6035802    7144.0          0.688\n",
        "    21         New England         Massachusetts       6811.0         13257.0    6882635   20068.0          0.339\n",
        "    22  East North Central              Michigan       5209.0          3142.0    9984072    8351.0          0.624\n",
        "    23  West North Central             Minnesota       3993.0          3250.0    5606249    7243.0          0.551\n",
        "    24  East South Central           Mississippi       1024.0           328.0    2981020    1352.0          0.757\n",
        "    25  West North Central              Missouri       3776.0          2107.0    6121623    5883.0          0.642\n",
        "    26            Mountain               Montana        983.0           422.0    1060665    1405.0          0.700\n",
        "    27  West North Central              Nebraska       1745.0           676.0    1925614    2421.0          0.721\n",
        "    28            Mountain                Nevada       7058.0           486.0    3027341    7544.0          0.936\n",
        "    29         New England         New Hampshire        835.0           615.0    1353465    1450.0          0.576\n",
        "    30        Mid-Atlantic            New Jersey       6048.0          3350.0    8886025    9398.0          0.644\n",
        "    31            Mountain            New Mexico       1949.0           602.0    2092741    2551.0          0.764\n",
        "    32        Mid-Atlantic              New York      39827.0         52070.0   19530351   91897.0          0.433\n",
        "    33      South Atlantic        North Carolina       6451.0          2817.0   10381615    9268.0          0.696\n",
        "    34  West North Central          North Dakota        467.0            75.0     758080     542.0          0.862\n",
        "    35  East North Central                  Ohio       6929.0          3320.0   11676341   10249.0          0.676\n",
        "    36  West South Central              Oklahoma       2823.0          1048.0    3940235    3871.0          0.729\n",
        "    37             Pacific                Oregon      11139.0          3337.0    4181886   14476.0          0.769\n",
        "    38        Mid-Atlantic          Pennsylvania       8163.0          5349.0   12800922   13512.0          0.604\n",
        "    39         New England          Rhode Island        747.0           354.0    1058287    1101.0          0.678\n",
        "    40      South Atlantic        South Carolina       3082.0           851.0    5084156    3933.0          0.784\n",
        "    41  West North Central          South Dakota        836.0           323.0     878698    1159.0          0.721\n",
        "    42  East South Central             Tennessee       6139.0          1744.0    6771631    7883.0          0.779\n",
        "    43  West South Central                 Texas      19199.0          6111.0   28628666   25310.0          0.759\n",
        "    44            Mountain                  Utah       1904.0           972.0    3153550    2876.0          0.662\n",
        "    45         New England               Vermont        780.0           511.0     624358    1291.0          0.604\n",
        "    46      South Atlantic              Virginia       3928.0          2047.0    8501286    5975.0          0.657\n",
        "    47             Pacific            Washington      16424.0          5880.0    7523869   22304.0          0.736\n",
        "    48      South Atlantic         West Virginia       1021.0           222.0    1804291    1243.0          0.821\n",
        "    49  East North Central             Wisconsin       2740.0          2167.0    5807406    4907.0          0.558\n",
        "    50            Mountain               Wyoming        434.0           205.0     577601     639.0          0.679\n",
        "'''"
      ],
      "execution_count": null,
      "outputs": []
    },
    {
      "cell_type": "markdown",
      "metadata": {
        "id": "ouxl7iy02jIs"
      },
      "source": [
        "Conclusion\n",
        "\n",
        "Astounding column assignment! If your dataset doesn't have the exact columns you need, you can often make your own from what you have."
      ]
    },
    {
      "cell_type": "markdown",
      "metadata": {
        "id": "7zKn17g12qij"
      },
      "source": [
        "# Combo-attack!\n",
        "\n",
        "You've seen the four most common types of data manipulation: sorting rows, subsetting columns, subsetting rows, and adding new columns. In a real-life data analysis, you can mix and match these four manipulations to answer a multitude of questions.\n",
        "\n",
        "In this exercise, you'll answer the question, \"Which state has the highest number of homeless individuals per 10,000 people in the state?\" Combine your new pandas skills to find out.\n",
        "\n",
        "Instructions\n",
        "\n",
        "1. Add a column to homelessness, indiv_per_10k, containing the number of homeless individuals per ten thousand people in each state.\n",
        "\n",
        "2. Subset rows where indiv_per_10k is higher than 20, assigning to high_homelessness.\n",
        "\n",
        "3. Sort high_homelessness by descending indiv_per_10k, assigning to high_homelessness_srt.\n",
        "\n",
        "4. Select only the state and indiv_per_10k columns of high_homelessness_srt and save as result. Look at the result.\n"
      ]
    },
    {
      "cell_type": "code",
      "metadata": {
        "id": "SmCbVeo029PE"
      },
      "source": [
        "In [1]:\n",
        "homelessness.head()\n",
        "Out[1]:\n",
        "\n",
        "               region       state  individuals  family_members  state_pop\n",
        "0  East South Central     Alabama       2570.0           864.0    4887681\n",
        "1             Pacific      Alaska       1434.0           582.0     735139\n",
        "2            Mountain     Arizona       7259.0          2606.0    7158024\n",
        "3  West South Central    Arkansas       2280.0           432.0    3009733\n",
        "4             Pacific  California     109008.0         20964.0   39461588"
      ],
      "execution_count": null,
      "outputs": []
    },
    {
      "cell_type": "code",
      "metadata": {
        "id": "zNn7RiXD293b"
      },
      "source": [
        "# Create indiv_per_10k col as homeless individuals per 10k state pop\n",
        "homelessness[\"indiv_per_10k\"] = 10000 * homelessness.individuals / homelessness.state_pop \n",
        "\n",
        "# Subset rows for indiv_per_10k greater than 20\n",
        "high_homelessness = homelessness[homelessness.indiv_per_10k > 20]\n",
        "\n",
        "# Sort high_homelessness by descending indiv_per_10k\n",
        "high_homelessness_srt = high_homelessness.sort_values('indiv_per_10k', ascending=False)\n",
        "\n",
        "# From high_homelessness_srt, select the state and indiv_per_10k cols\n",
        "result = high_homelessness_srt[['state', 'indiv_per_10k']]\n",
        "\n",
        "# See the result\n",
        "print(result)\n",
        "\n",
        "'''\n",
        "<script.py> output:\n",
        "                       state  indiv_per_10k\n",
        "    8   District of Columbia         53.738\n",
        "    11                Hawaii         29.079\n",
        "    4             California         27.624\n",
        "    37                Oregon         26.636\n",
        "    28                Nevada         23.314\n",
        "    47            Washington         21.829\n",
        "    32              New York         20.392\n",
        "'''"
      ],
      "execution_count": null,
      "outputs": []
    },
    {
      "cell_type": "markdown",
      "metadata": {
        "id": "gnzobJ5b4aB3"
      },
      "source": [
        "Conclusion\n",
        "\n",
        "Cool combination! Washington, D.C. has the highest number of homeless individuals - almost 54 per ten thousand people. This is almost double the number of the next-highest state, Hawaii. If you combine new column addition, row subsetting, sorting, and column selection, you can answer lots of questions like this."
      ]
    }
  ]
}