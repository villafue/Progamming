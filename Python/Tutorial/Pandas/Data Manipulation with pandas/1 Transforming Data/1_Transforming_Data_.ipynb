{
  "nbformat": 4,
  "nbformat_minor": 0,
  "metadata": {
    "colab": {
      "name": " 1 Transforming Data .ipynb",
      "provenance": [],
      "authorship_tag": "ABX9TyOmJJh2DSBY69O/t+p/tjQP",
      "include_colab_link": true
    },
    "kernelspec": {
      "name": "python3",
      "display_name": "Python 3"
    },
    "language_info": {
      "name": "python"
    }
  },
  "cells": [
    {
      "cell_type": "markdown",
      "metadata": {
        "id": "view-in-github",
        "colab_type": "text"
      },
      "source": [
        "<a href=\"https://colab.research.google.com/github/villafue/Progamming/blob/main/Python/Tutorial/Pandas/Data%20Manipulation%20with%20pandas/1%20Transforming%20Data/1_Transforming_Data_.ipynb\" target=\"_parent\"><img src=\"https://colab.research.google.com/assets/colab-badge.svg\" alt=\"Open In Colab\"/></a>"
      ]
    },
    {
      "cell_type": "markdown",
      "metadata": {
        "id": "tNSvIJ_fo1G1"
      },
      "source": [
        "Transforming Data\n",
        "\n",
        "Let’s master the pandas basics. Learn how to inspect DataFrames and perform fundamental manipulations, including sorting rows, subsetting, and adding new columns. "
      ]
    },
    {
      "cell_type": "code",
      "metadata": {
        "id": "k6MfRlxLoKb6"
      },
      "source": [
        ""
      ],
      "execution_count": null,
      "outputs": []
    }
  ]
}