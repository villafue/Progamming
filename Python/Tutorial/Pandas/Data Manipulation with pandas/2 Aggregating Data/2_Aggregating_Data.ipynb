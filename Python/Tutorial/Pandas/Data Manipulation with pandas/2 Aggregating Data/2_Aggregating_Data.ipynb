{
  "nbformat": 4,
  "nbformat_minor": 0,
  "metadata": {
    "colab": {
      "name": "2 Aggregating Data.ipynb",
      "provenance": [],
      "authorship_tag": "ABX9TyPN6sGzlGfXX1UF5uUn23vL",
      "include_colab_link": true
    },
    "kernelspec": {
      "name": "python3",
      "display_name": "Python 3"
    },
    "language_info": {
      "name": "python"
    }
  },
  "cells": [
    {
      "cell_type": "markdown",
      "metadata": {
        "id": "view-in-github",
        "colab_type": "text"
      },
      "source": [
        "<a href=\"https://colab.research.google.com/github/villafue/Progamming/blob/main/Python/Tutorial/Pandas/Data%20Manipulation%20with%20pandas/2%20Aggregating%20Data/2_Aggregating_Data.ipynb\" target=\"_parent\"><img src=\"https://colab.research.google.com/assets/colab-badge.svg\" alt=\"Open In Colab\"/></a>"
      ]
    },
    {
      "cell_type": "markdown",
      "metadata": {
        "id": "-tBsBC3b45Yb"
      },
      "source": [
        "Aggregating Data\n",
        "\n",
        "In this chapter, you’ll calculate summary statistics on DataFrame columns, and master grouped summary statistics and pivot tables."
      ]
    },
    {
      "cell_type": "markdown",
      "metadata": {
        "id": "yEbYH4xy5oi-"
      },
      "source": [
        "# Summary statistics\n",
        "\n",
        "1. Summary statistics\n",
        "\n",
        "Hi, I'm Maggie, and I'll be the other instructor for this course. In the first chapter, you learned about DataFrames, how to sort and subset them, and how to add new columns to them. In this chapter, we'll talk about aggregating data, starting with summary statistics. Summary statistics, as follows from their name, are numbers that summarize and tell you about your dataset.\n",
        "2. Summarizing numerical data\n",
        "\n",
        "One of the most common summary statistics for numeric data is the mean, which is one way of telling you where the \"center\" of your data is. You can calculate the mean of a column by selecting the column with square brackets and calling dot-mean. There are lots of other summary statistics that you can compute on columns, like median and mode, minimum and maximum, and variance and standard deviation. You can also take sums and calculate quantiles.\n",
        "3. Summarizing dates\n",
        "\n",
        "You can also get summary statistics for date columns. For example, we can find the oldest dog's date of birth by taking the minimum of the date of birth column. Similarly, we can take the maximum to see that the youngest dog was born in 2018.\n",
        "4. The .agg() method\n",
        "\n",
        "The aggregate, or agg, method allows you to compute custom summary statistics. Here, we create a function called pct30 that computes the thirtieth percentile of a DataFrame column. Don't worry if this code doesn't make sense to you -- just know that the function takes in a column and spits out the column's thirtieth percentile. Now we can subset the weight column and call dot-agg, passing in the name of our function, pct30. It gives us the thirtieth percentile of the dogs' weights.\n",
        "5. Summaries on multiple columns\n",
        "\n",
        "agg can also be used on more than one column. By selecting the weight and height columns before calling agg, we get the thirtieth percentile for both columns.\n",
        "6. Multiple summaries\n",
        "\n",
        "We can also use agg to get multiple summary statistics at once. Here's another function that computes the fortieth percentile called pct40. We can pass a list of functions into agg, in this case, pct30 and pct40, which will return the thirtieth and fortieth percentiles of the dogs' weights.\n",
        "7. Cumulative sum\n",
        "\n",
        "pandas also has methods for computing cumulative statistics, for example, the cumulative sum. Calling cumsum on a column returns not just one number, but a number for each row of the DataFrame. The first number returned, or the number in the zeroth index, is the first dog's weight. The next number is the sum of the first and second dogs' weights. The third number is the sum of the first, second, and third dogs' weights, and so on. The last number is the sum of all the dogs' weights.\n",
        "8. Cumulative statistics\n",
        "\n",
        "pandas also has methods for other cumulative statistics, such as the cumulative maximum, cumulative minimum, and the cumulative product. These all return an entire column of a DataFrame, rather than a single number.\n",
        "9. Walmart\n",
        "\n",
        "In this chapter, you'll be working with data on Walmart stores, which is a chain of department stores in the US. The dataset contains weekly sales in US dollars in various stores. Each store has an ID number and a specific store type. The sales are also separated by department ID. Along with weekly sales, there is information about whether it was a holiday week or not, the average temperature during the week in that location, the average fuel price in dollars per liter that week, and the national unemployment rate that week.\n",
        "10. Let's practice!\n",
        "\n",
        "Time to practice your summary statistics skills! "
      ]
    },
    {
      "cell_type": "markdown",
      "metadata": {
        "id": "zqjsqBCAom5-"
      },
      "source": [
        "# Mean and median\n",
        "\n",
        "Summary statistics are exactly what they sound like - they summarize many numbers in one statistic. For example, mean, median, minimum, maximum, and standard deviation are summary statistics. Calculating summary statistics allows you to get a better sense of your data, even if there's a lot of it.\n",
        "\n",
        "sales is available and pandas is loaded as pd.\n",
        "\n",
        "Instructions\n",
        "\n",
        "1. Explore your new DataFrame first by printing the first few rows of the sales DataFrame.\n",
        "\n",
        "2. Print information about the columns in sales.\n",
        "\n",
        "3. Print the mean of the weekly_sales column.\n",
        "\n",
        "4. Print the median of the weekly_sales column.\n"
      ]
    },
    {
      "cell_type": "code",
      "metadata": {
        "id": "c_NAFU5R40Ig"
      },
      "source": [
        "# Print the head of the sales DataFrame\n",
        "print(sales.head())\n",
        "\n",
        "# Print the info about the sales DataFrame\n",
        "print(sales.info())\n",
        "\n",
        "# Print the mean of weekly_sales\n",
        "print(sales.weekly_sales.mean())\n",
        "\n",
        "# Print the median of weekly_sales\n",
        "print(sales.weekly_sales.median())\n",
        "\n",
        "'''\n",
        "<script.py> output:\n",
        "       store type  department       date  weekly_sales  is_holiday  temperature_c  fuel_price_usd_per_l  unemployment\n",
        "    0      1    A           1 2010-02-05      24924.50       False          5.728                 0.679         8.106\n",
        "    1      1    A           1 2010-03-05      21827.90       False          8.056                 0.693         8.106\n",
        "    2      1    A           1 2010-04-02      57258.43       False         16.817                 0.718         7.808\n",
        "    3      1    A           1 2010-05-07      17413.94       False         22.528                 0.749         7.808\n",
        "    4      1    A           1 2010-06-04      17558.09       False         27.050                 0.715         7.808\n",
        "    \n",
        "    \n",
        "    <class 'pandas.core.frame.DataFrame'>\n",
        "    RangeIndex: 10774 entries, 0 to 10773\n",
        "    Data columns (total 9 columns):\n",
        "    store                   10774 non-null int64\n",
        "    type                    10774 non-null object\n",
        "    department              10774 non-null int32\n",
        "    date                    10774 non-null datetime64[ns]\n",
        "    weekly_sales            10774 non-null float64\n",
        "    is_holiday              10774 non-null bool\n",
        "    temperature_c           10774 non-null float64\n",
        "    fuel_price_usd_per_l    10774 non-null float64\n",
        "    unemployment            10774 non-null float64\n",
        "    dtypes: bool(1), datetime64[ns](1), float64(4), int32(1), int64(1), object(1)\n",
        "    memory usage: 641.9+ KB\n",
        "    None\n",
        "    \n",
        "    23843.95014850566\n",
        "    \n",
        "    12049.064999999999\n",
        "'''"
      ],
      "execution_count": null,
      "outputs": []
    },
    {
      "cell_type": "markdown",
      "metadata": {
        "id": "wjLtBzwGpwxR"
      },
      "source": [
        "Conclusion\n",
        "\n",
        "The mean weekly sales amount is almost double the median weekly sales amount! This can tell you that there are a few very high sales weeks that are making the mean so much higher than the median."
      ]
    },
    {
      "cell_type": "markdown",
      "metadata": {
        "id": "PugIRDlFpyKs"
      },
      "source": [
        "# Summarizing dates\n",
        "\n",
        "Summary statistics can also be calculated on date columns that have values with the data type datetime64. Some summary statistics — like mean — don't make a ton of sense on dates, but others are super helpful, for example, minimum and maximum, which allow you to see what time range your data covers.\n",
        "\n",
        "sales is available and pandas is loaded as pd.\n",
        "\n",
        "Instructions\n",
        "\n",
        "1. Print the maximum of the date column.\n",
        "\n",
        "2. Print the minimum of the date column.\n"
      ]
    },
    {
      "cell_type": "code",
      "metadata": {
        "id": "lQ4ue-8iqBSc"
      },
      "source": [
        "# Print the maximum of the date column\n",
        "print(sales.date.max())\n",
        "\n",
        "# Print the minimum of the date column\n",
        "print(sales.date.min())\n",
        "\n",
        "'''\n",
        "<script.py> output:\n",
        "    2012-10-26 00:00:00\n",
        "    2010-02-05 00:00:00\n",
        "'''"
      ],
      "execution_count": null,
      "outputs": []
    },
    {
      "cell_type": "markdown",
      "metadata": {
        "id": "OcLAI_53qE8R"
      },
      "source": [
        "Conclusion\n",
        "\n",
        "Super summarizing! Taking the minimum and maximum of a column of dates is handy for figuring out what time period your data covers. In this case, there are data from February of 2010 to October of 2012."
      ]
    },
    {
      "cell_type": "markdown",
      "metadata": {
        "id": "rWJN7cmuqWtG"
      },
      "source": [
        "# Efficient summaries\n",
        "\n",
        "While pandas and NumPy have tons of functions, sometimes, you may need a different function to summarize your data.\n",
        "\n",
        "The .agg() method allows you to apply your own custom functions to a DataFrame, as well as apply functions to more than one column of a DataFrame at once, making your aggregations super-efficient. For example,\n",
        "\n",
        "`df['column'].agg(function)`\n",
        "\n",
        "In the custom function for this exercise, \"IQR\" is short for inter-quartile range, which is the 75th percentile minus the 25th percentile. It's an alternative to standard deviation that is helpful if your data contains outliers.\n",
        "\n",
        "sales is available and pandas is loaded as pd.\n",
        "\n",
        "Instructions\n",
        "\n",
        "1. Use the custom iqr function defined for you along with .agg() to print the IQR of the temperature_c column of sales.\n"
      ]
    },
    {
      "cell_type": "code",
      "metadata": {
        "id": "9whvjKIhquPH"
      },
      "source": [
        "# A custom IQR function\n",
        "def iqr(column):\n",
        "    return column.quantile(0.75) - column.quantile(0.25)\n",
        "    \n",
        "# Print IQR of the temperature_c column\n",
        "print(sales.temperature_c.agg(iqr))\n",
        "\n",
        "'''\n",
        "<script.py> output:\n",
        "    16.583333333333336\n",
        "'''"
      ],
      "execution_count": null,
      "outputs": []
    },
    {
      "cell_type": "markdown",
      "metadata": {
        "id": "zD3Y4luBqyqK"
      },
      "source": [
        "2. Update the column selection to use the custom iqr function with .agg() to print the IQR of temperature_c, fuel_price_usd_per_l, and unemployment, in that order."
      ]
    },
    {
      "cell_type": "code",
      "metadata": {
        "id": "LP8fDS3jq4hG"
      },
      "source": [
        "# A custom IQR function\n",
        "def iqr(column):\n",
        "    return column.quantile(0.75) - column.quantile(0.25)\n",
        "\n",
        "# Update to print IQR of temperature_c, fuel_price_usd_per_l, & unemployment\n",
        "print(sales[[\"temperature_c\", \"fuel_price_usd_per_l\", \"unemployment\"]].agg(iqr))\n",
        "\n",
        "'''\n",
        "<script.py> output:\n",
        "    temperature_c           16.583\n",
        "    fuel_price_usd_per_l     0.073\n",
        "    unemployment             0.565\n",
        "    dtype: float64\n",
        "'''"
      ],
      "execution_count": null,
      "outputs": []
    },
    {
      "cell_type": "markdown",
      "metadata": {
        "id": "DiCSp-WErH3r"
      },
      "source": [
        "3. Update the aggregation functions called by .agg(): include iqr and np.median in that order."
      ]
    },
    {
      "cell_type": "code",
      "metadata": {
        "id": "dHN4SVxmrKHo"
      },
      "source": [
        "# Import NumPy and create custom IQR function\n",
        "import numpy as np\n",
        "def iqr(column):\n",
        "    return column.quantile(0.75) - column.quantile(0.25)\n",
        "\n",
        "# Update to print IQR and median of temperature_c, fuel_price_usd_per_l, & unemployment\n",
        "print(sales[[\"temperature_c\", \"fuel_price_usd_per_l\", \"unemployment\"]].agg([iqr, np.median]))\n",
        "\n",
        "'''\n",
        "<script.py> output:\n",
        "            temperature_c  fuel_price_usd_per_l  unemployment\n",
        "    iqr            16.583                 0.073         0.565\n",
        "    median         16.967                 0.743         8.099\n",
        "'''"
      ],
      "execution_count": null,
      "outputs": []
    },
    {
      "cell_type": "markdown",
      "metadata": {
        "id": "ijuPy9q0rakg"
      },
      "source": [
        "Conclusion\n",
        "\n",
        "Excellent efficiency! The .agg() method makes it easy to compute multiple statistics on multiple columns, all in just one line of code."
      ]
    },
    {
      "cell_type": "markdown",
      "metadata": {
        "id": "YX1xva6Grgu4"
      },
      "source": [
        "# Cumulative statistics\n",
        "\n",
        "Cumulative statistics can also be helpful in tracking summary statistics over time. In this exercise, you'll calculate the cumulative sum and cumulative max of a department's weekly sales, which will allow you to identify what the total sales were so far as well as what the highest weekly sales were so far.\n",
        "\n",
        "A DataFrame called sales_1_1 has been created for you, which contains the sales data for department 1 of store 1. pandas is loaded as pd.\n",
        "\n",
        "Instructions\n",
        "\n",
        "1. Sort the rows of sales_1_1 by the date column in ascending order.\n",
        "\n",
        "2. Get the cumulative sum of weekly_sales and add it as a new column of sales_1_1 called cum_weekly_sales.\n",
        "\n",
        "3. Get the cumulative maximum of weekly_sales, and add it as a column called cum_max_sales.\n",
        "\n",
        "4. Print the date, weekly_sales, cum_weekly_sales, and cum_max_sales columns.\n"
      ]
    },
    {
      "cell_type": "code",
      "metadata": {
        "id": "cWw4_EnYrxze"
      },
      "source": [
        "In [1]:\n",
        "sales_1_1.head()\n",
        "Out[1]:\n",
        "\n",
        "   store type  department       date  weekly_sales  is_holiday  temperature_c  fuel_price_usd_per_l  unemployment\n",
        "5      1    A           1 2010-07-02      16333.14       False         27.172                 0.705         7.787\n",
        "0      1    A           1 2010-02-05      24924.50       False          5.728                 0.679         8.106\n",
        "4      1    A           1 2010-06-04      17558.09       False         27.050                 0.715         7.808\n",
        "9      1    A           1 2010-11-05      34238.88       False         14.856                 0.710         7.838\n",
        "8      1    A           1 2010-10-01      20094.19       False         22.161                 0.688         7.838"
      ],
      "execution_count": null,
      "outputs": []
    },
    {
      "cell_type": "code",
      "metadata": {
        "id": "WzcWzERasrlu"
      },
      "source": [
        "# Sort sales_1_1 by date\n",
        "sales_1_1 = sales_1_1.sort_values(\"date\")\n",
        "\n",
        "# Get the cumulative sum of weekly_sales, add as cum_weekly_sales col\n",
        "sales_1_1[\"cum_weekly_sales\"] = sales_1_1.weekly_sales.cumsum()\n",
        "\n",
        "# Get the cumulative max of weekly_sales, add as cum_max_sales col\n",
        "sales_1_1[\"cum_max_sales\"] = sales_1_1.weekly_sales.cummax()\n",
        "\n",
        "# See the columns you calculated\n",
        "print(sales_1_1[[\"date\", \"weekly_sales\", \"cum_weekly_sales\", \"cum_max_sales\"]])\n",
        "\n",
        "'''\n",
        "<script.py> output:\n",
        "             date  weekly_sales  cum_weekly_sales  cum_max_sales\n",
        "    0  2010-02-05      24924.50          24924.50       24924.50\n",
        "    1  2010-03-05      21827.90          46752.40       24924.50\n",
        "    2  2010-04-02      57258.43         104010.83       57258.43\n",
        "    3  2010-05-07      17413.94         121424.77       57258.43\n",
        "    4  2010-06-04      17558.09         138982.86       57258.43\n",
        "    5  2010-07-02      16333.14         155316.00       57258.43\n",
        "    6  2010-08-06      17508.41         172824.41       57258.43\n",
        "    7  2010-09-03      16241.78         189066.19       57258.43\n",
        "    8  2010-10-01      20094.19         209160.38       57258.43\n",
        "    9  2010-11-05      34238.88         243399.26       57258.43\n",
        "    10 2010-12-03      22517.56         265916.82       57258.43\n",
        "    11 2011-01-07      15984.24         281901.06       57258.43\n",
        "'''"
      ],
      "execution_count": null,
      "outputs": []
    },
    {
      "cell_type": "markdown",
      "metadata": {
        "id": "Yr6yos47sxFR"
      },
      "source": [
        "Conclusion\n",
        "\n",
        "You've accumulated success! Not all functions that calculate on columns return a single number. Some, like the cumulative statistic functions, return a whole column."
      ]
    },
    {
      "cell_type": "markdown",
      "metadata": {
        "id": "QPlLCMGutEVf"
      },
      "source": [
        "# Counting\n",
        "\n",
        "1. Counting\n",
        "\n",
        "So far, in this chapter, you've learned how to summarize numeric variables. In this video, you'll learn how to summarize categorical data using counting.\n",
        "2. Avoiding double counting\n",
        "\n",
        "Counting dogs is no easy task when they're running around the park. It's hard to keep track of who you have and haven't counted!\n",
        "3. Vet visits\n",
        "\n",
        "Here's a DataFrame that contains vet visits. The vet's office wants to know how many dogs of each breed have visited their office. However, some dogs have been to the vet more than once, like Max and Stella, so we can't just count the number of each breed in the breed column.\n",
        "4. Dropping duplicate names\n",
        "\n",
        "Let's try to fix this by removing rows that contain a dog name already listed earlier in the dataset, or in other words; we'll extract a dog with each name from the dataset once. We can do this using the drop_duplicates method. It takes an argument, subset, which is the column we want to find our duplicates based on - in this case, we want all the unique names. Now we have a list of dogs where each one appears once. We have Max the Chow Chow, but where did Max the Labrador go? Because we have two different dogs with the same name, we'll need to consider more than just name when dropping duplicates.\n",
        "5. Dropping duplicate pairs\n",
        "\n",
        "Since Max and Max are different breeds, we can drop the rows with pairs of name and breed listed earlier in the dataset. To base our duplicate dropping on multiple columns, we can pass a list of column names to the subset argument, in this case, name and breed. Now both Maxes have been included, and we can start counting.\n",
        "6. Easy as 1, 2, 3\n",
        "\n",
        "To count the dogs of each breed, we'll subset the breed column and use the value_counts method. We can also use the sort argument to get the breeds with the biggest counts on top.\n",
        "7. Proportions\n",
        "\n",
        "The normalize argument can be used to turn the counts into proportions of the total. 25% of the dogs that go to this vet are Labradors.\n",
        "8. Let's practice!\n",
        "\n",
        "Time to commence counting! "
      ]
    },
    {
      "cell_type": "markdown",
      "metadata": {
        "id": "1MrPtoINtcFB"
      },
      "source": [
        "# Dropping duplicates\n",
        "\n",
        "Removing duplicates is an essential skill to get accurate counts because often, you don't want to count the same thing multiple times. In this exercise, you'll create some new DataFrames using unique values from sales.\n",
        "\n",
        "sales is available and pandas is imported as pd.\n",
        "\n",
        "Instructions\n",
        "\n",
        "1. Remove rows of sales with duplicate pairs of store and type and save as store_types and print the head.\n",
        "\n",
        "2. Remove rows of sales with duplicate pairs of store and department and save as store_depts and print the head.\n",
        "\n",
        "3. Subset the rows that are holiday weeks using the is_holiday column, and drop the duplicate dates, saving as holiday_dates.\n",
        "\n",
        "4. Select the date column of holiday_dates, and print.\n"
      ]
    },
    {
      "cell_type": "code",
      "metadata": {
        "id": "oUsCq_XixSQn"
      },
      "source": [
        "In [1]:\n",
        "sales.head()\n",
        "Out[1]:\n",
        "\n",
        "   store type  department       date  weekly_sales  is_holiday  temperature_c  fuel_price_usd_per_l  unemployment\n",
        "0      1    A           1 2010-02-05      24924.50       False          5.728                 0.679         8.106\n",
        "1      1    A           1 2010-03-05      21827.90       False          8.056                 0.693         8.106\n",
        "2      1    A           1 2010-04-02      57258.43       False         16.817                 0.718         7.808\n",
        "3      1    A           1 2010-05-07      17413.94       False         22.528                 0.749         7.808\n",
        "4      1    A           1 2010-06-04      17558.09       False         27.050                 0.715         7.808"
      ],
      "execution_count": null,
      "outputs": []
    },
    {
      "cell_type": "code",
      "metadata": {
        "id": "uWZrj266yUwF"
      },
      "source": [
        "# Drop duplicate store/type combinations\n",
        "store_types = sales.drop_duplicates(subset=[\"store\", \"type\"])\n",
        "print(store_types.head())\n",
        "\n",
        "# Drop duplicate store/department combinations\n",
        "store_depts = sales.drop_duplicates(subset=[\"store\", \"department\"])\n",
        "print(store_depts.head())\n",
        "\n",
        "# Subset the rows where is_holiday is True and drop duplicate dates\n",
        "holiday_dates = sales[sales[\"is_holiday\"] == True].drop_duplicates(subset=\"date\")\n",
        "\n",
        "# Print date col of holiday_dates\n",
        "print(holiday_dates.date)"
      ],
      "execution_count": null,
      "outputs": []
    },
    {
      "cell_type": "code",
      "metadata": {
        "id": "eKqN7X9jyY9A"
      },
      "source": [
        "\n",
        "<script.py> output:\n",
        "          store type  department       date  weekly_sales  is_holiday  temperature_c  fuel_price_usd_per_l  unemployment\n",
        "    0         1    A           1 2010-02-05      24924.50       False          5.728                 0.679         8.106\n",
        "    901       2    A           1 2010-02-05      35034.06       False          4.550                 0.679         8.324\n",
        "    1798      4    A           1 2010-02-05      38724.42       False          6.533                 0.686         8.623\n",
        "    2699      6    A           1 2010-02-05      25619.00       False          4.683                 0.679         7.259\n",
        "    3593     10    B           1 2010-02-05      40212.84       False         12.411                 0.782         9.765\n",
        "\n",
        "        store type  department       date  weekly_sales  is_holiday  temperature_c  fuel_price_usd_per_l  unemployment\n",
        "    0       1    A           1 2010-02-05      24924.50       False          5.728                 0.679         8.106\n",
        "    12      1    A           2 2010-02-05      50605.27       False          5.728                 0.679         8.106\n",
        "    24      1    A           3 2010-02-05      13740.12       False          5.728                 0.679         8.106\n",
        "    36      1    A           4 2010-02-05      39954.04       False          5.728                 0.679         8.106\n",
        "    48      1    A           5 2010-02-05      32229.38       False          5.728                 0.679         8.106\n",
        "    \n",
        "    498    2010-09-10\n",
        "    691    2011-11-25\n",
        "    2315   2010-02-12\n",
        "    6735   2012-09-07\n",
        "    6810   2010-12-31\n",
        "    6815   2012-02-10\n",
        "    6820   2011-09-09\n",
        "    Name: date, dtype: datetime64[ns]"
      ],
      "execution_count": null,
      "outputs": []
    },
    {
      "cell_type": "markdown",
      "metadata": {
        "id": "552qizNhxbrp"
      },
      "source": [
        "Conclusion\n",
        "\n",
        "Dazzling duplicate dropping! The holiday weeks correspond to the Superbowl in February, Labor Day in September, Thanksgiving in November, and Christmas in December. Now that the duplicates are removed, it's time to do some counting."
      ]
    },
    {
      "cell_type": "markdown",
      "metadata": {
        "id": "8cGx-iIUyzLU"
      },
      "source": [
        "# Counting categorical variables\n",
        "\n",
        "Counting is a great way to get an overview of your data and to spot curiosities that you might not notice otherwise. In this exercise, you'll count the number of each type of store and the number of each department number using the DataFrames you created in the previous exercise:\n",
        "\n",
        "```\n",
        "# Drop duplicate store/type combinations\n",
        "store_types = sales.drop_duplicates(subset=[\"store\", \"type\"])\n",
        "\n",
        "# Drop duplicate store/department combinations\n",
        "store_depts = sales.drop_duplicates(subset=[\"store\", \"department\"])\n",
        "```\n",
        "\n",
        "The store_types and store_depts DataFrames you created in the last exercise are available, and pandas is imported as pd.\n",
        "\n",
        "Instructions\n",
        "\n",
        "1. Count the number of stores of each store type in store_types.\n",
        "\n",
        "2. Count the proportion of stores of each store type in store_types.\n",
        "\n",
        "3. Count the number of different departments in store_depts, sorting the counts in descending order.\n",
        "\n",
        "4. Count the proportion of different departments in store_depts, sorting the proportions in descending order.\n"
      ]
    },
    {
      "cell_type": "code",
      "metadata": {
        "id": "eyMQ3VlnzRCD"
      },
      "source": [
        "In [1]:\n",
        "store_types.head()\n",
        "Out[1]:\n",
        "\n",
        "   store type  department       date  weekly_sales  is_holiday  temperature_c  fuel_price_usd_per_l  unemployment\n",
        "0      1    A           1 2010-02-05      24924.50       False          5.728                 0.679         8.106\n",
        "1      2    A           1 2010-02-05      35034.06       False          4.550                 0.679         8.324\n",
        "2      4    A           1 2010-02-05      38724.42       False          6.533                 0.686         8.623\n",
        "3      6    A           1 2010-02-05      25619.00       False          4.683                 0.679         7.259\n",
        "4     10    B           1 2010-02-05      40212.84       False         12.411                 0.782         9.765\n",
        "In [2]:\n",
        "store_depts.head()\n",
        "Out[2]:\n",
        "\n",
        "   store type  department       date  weekly_sales  is_holiday  temperature_c  fuel_price_usd_per_l  unemployment\n",
        "0      1    A           1 2010-02-05      24924.50       False          5.728                 0.679         8.106\n",
        "1      1    A           2 2010-02-05      50605.27       False          5.728                 0.679         8.106\n",
        "2      1    A           3 2010-02-05      13740.12       False          5.728                 0.679         8.106\n",
        "3      1    A           4 2010-02-05      39954.04       False          5.728                 0.679         8.106\n",
        "4      1    A           5 2010-02-05      32229.38       False          5.728                 0.679         8.106"
      ],
      "execution_count": null,
      "outputs": []
    },
    {
      "cell_type": "code",
      "metadata": {
        "id": "b1x3Rgj00FCt"
      },
      "source": [
        "# Count the number of stores of each type\n",
        "store_counts = store_types.type.value_counts()\n",
        "print(store_counts)\n",
        "\n",
        "# Get the proportion of stores of each type\n",
        "store_props = store_types.type.value_counts(normalize=True)\n",
        "print(store_props)\n",
        "\n",
        "# Count the number of each department number and sort\n",
        "dept_counts_sorted = store_depts.department.value_counts(sort=True)\n",
        "print(dept_counts_sorted)\n",
        "\n",
        "# Get the proportion of departments of each number and sort\n",
        "dept_props_sorted = store_depts.department.value_counts(sort=True, normalize=True)\n",
        "print(dept_props_sorted)\n",
        "\n",
        "'''\n",
        "<script.py> output:\n",
        "    A    11\n",
        "    B     1\n",
        "    Name: type, dtype: int64\n",
        "    \n",
        "    A    0.917\n",
        "    B    0.083\n",
        "    Name: type, dtype: float64\n",
        "    \n",
        "    41    12\n",
        "    30    12\n",
        "    23    12\n",
        "    24    12\n",
        "    25    12\n",
        "          ..\n",
        "    37    10\n",
        "    48     8\n",
        "    50     6\n",
        "    39     4\n",
        "    43     2\n",
        "    Name: department, Length: 80, dtype: int64\n",
        "    \n",
        "    41    0.013\n",
        "    30    0.013\n",
        "    23    0.013\n",
        "    24    0.013\n",
        "    25    0.013\n",
        "          ...  \n",
        "    37    0.011\n",
        "    48    0.009\n",
        "    50    0.006\n",
        "    39    0.004\n",
        "    43    0.002\n",
        "    Name: department, Length: 80, dtype: float64\n",
        "'''"
      ],
      "execution_count": null,
      "outputs": []
    },
    {
      "cell_type": "markdown",
      "metadata": {
        "id": "EBck21S30TX5"
      },
      "source": [
        "Conclusion\n",
        "\n",
        "Great counting! It looks like department 43 only exists in two stores."
      ]
    },
    {
      "cell_type": "markdown",
      "metadata": {
        "id": "3k5847Mx4hYq"
      },
      "source": [
        "# Grouped summary statistics\n",
        "\n",
        "1. Grouped summary statistics\n",
        "\n",
        "So far, you've been calculating summary statistics for all rows of a dataset, but summary statistics can be useful to compare different groups.\n",
        "2. Summaries by group\n",
        "\n",
        "While computing summary statistics of entire columns may be useful, you can gain many insights from summaries of individual groups. For example, does one color of dog weigh more than another on average? Are female dogs taller than males? You can already answer these questions with what you've learned so far! We can subset the dogs into groups based on their color, and take the mean of each. But that's a lot of work, and the duplicated code means you can easily introduce copy and paste bugs.\n",
        "3. Grouped summaries\n",
        "\n",
        "That's where the groupby method comes in. We can group by the color variable, select the weight column, and take the mean. This will give us the mean weight for each dog color. This was just one line of code compared to the five we had to write before to get the same results.\n",
        "4. Multiple grouped summaries\n",
        "\n",
        "Just like with ungrouped summary statistics, we can use the agg method to get multiple statistics. Here, we pass a list of functions into agg after grouping by color. This gives us the minimum, maximum, and sum of the different colored dogs' weights.\n",
        "5. Grouping by multiple variables\n",
        "\n",
        "You can also group by multiple columns and calculate summary statistics. Here, we group by color and breed, select the weight column and take the mean. This gives us the mean weight of each breed of each color.\n",
        "6. Many groups, many summaries\n",
        "\n",
        "You can also group by multiple columns and aggregate by multiple columns.\n",
        "7. Let's practice!\n",
        "\n",
        "Now that we've talked about grouping, it's time to practice grouped summary statistics. "
      ]
    },
    {
      "cell_type": "markdown",
      "metadata": {
        "id": "4e-EwG2148E7"
      },
      "source": [
        "# What percent of sales occurred at each store type?\n",
        "\n",
        "While .groupby() is useful, you can calculate grouped summary statistics without it.\n",
        "\n",
        "Walmart distinguishes three types of stores: \"supercenters,\" \"discount stores,\" and \"neighborhood markets,\" encoded in this dataset as type \"A,\" \"B,\" and \"C.\" In this exercise, you'll calculate the total sales made at each store type, without using .groupby(). You can then use these numbers to see what proportion of Walmart's total sales were made at each type.\n",
        "\n",
        "sales is available and pandas is imported as pd.\n",
        "\n",
        "Instructions\n",
        "\n",
        "1. Calculate the total weekly_sales over the whole dataset.\n",
        "\n",
        "2. Subset for type \"A\" stores, and calculate their total weekly sales.\n",
        "\n",
        "3. Do the same for type \"B\" and type \"C\" stores.\n",
        "\n",
        "4. Combine the A/B/C results into a list, and divide by sales_all to get the proportion of sales by type.\n"
      ]
    },
    {
      "cell_type": "code",
      "metadata": {
        "id": "167KKpUe6XXJ"
      },
      "source": [
        "In [1]:\n",
        "sales.head()\n",
        "Out[1]:\n",
        "\n",
        "   store type  department       date  weekly_sales  is_holiday  temperature_c  fuel_price_usd_per_l  unemployment\n",
        "0      1    A           1 2010-02-05      24924.50       False          5.728                 0.679         8.106\n",
        "1      1    A           1 2010-03-05      21827.90       False          8.056                 0.693         8.106\n",
        "2      1    A           1 2010-04-02      57258.43       False         16.817                 0.718         7.808\n",
        "3      1    A           1 2010-05-07      17413.94       False         22.528                 0.749         7.808\n",
        "4      1    A           1 2010-06-04      17558.09       False         27.050                 0.715         7.808"
      ],
      "execution_count": null,
      "outputs": []
    },
    {
      "cell_type": "code",
      "metadata": {
        "id": "M__BH1xP6YAW"
      },
      "source": [
        "# Calc total weekly sales\n",
        "sales_all = sales[\"weekly_sales\"].sum()\n",
        "\n",
        "# Subset for type A stores, calc total weekly sales\n",
        "sales_A = sales[sales[\"type\"] == \"A\"][\"weekly_sales\"].sum()\n",
        "\n",
        "# Subset for type B stores, calc total weekly sales\n",
        "sales_B = sales[sales[\"type\"] == \"B\"][\"weekly_sales\"].sum()\n",
        "\n",
        "# Subset for type C stores, calc total weekly sales\n",
        "sales_C = sales[sales[\"type\"] == \"C\"][\"weekly_sales\"].sum()\n",
        "\n",
        "# Get proportion for each type\n",
        "sales_propn_by_type = [sales_A, sales_B, sales_C] / sales_all\n",
        "print(sales_propn_by_type)\n",
        "\n",
        "'''\n",
        "<script.py> output:\n",
        "    [0.9097747 0.0902253 0.       ]\n",
        "'''"
      ],
      "execution_count": null,
      "outputs": []
    },
    {
      "cell_type": "markdown",
      "metadata": {
        "id": "8nYcVnuL6W7i"
      },
      "source": [
        "Conclusion\n",
        "\n",
        "Marvelous mathematics! About 91% of sales occurred in stores of type A', 9% in stores of type B, and there are no sales records for stores of type C. Now see if you can do this calculation using .groupby()."
      ]
    },
    {
      "cell_type": "markdown",
      "metadata": {
        "id": "faw54Glu7Taf"
      },
      "source": [
        "# Calculations with .groupby()\n",
        "\n",
        "The .groupby() method makes life much easier. In this exercise, you'll perform the same calculations as last time, except you'll use the .groupby() method. You'll also perform calculations on data grouped by two variables to see if sales differ by store type depending on if it's a holiday week or not.\n",
        "\n",
        "sales is available and pandas is loaded as pd.\n",
        "\n",
        "Instructions 1/2\n",
        "\n",
        "1. Group sales by \"type\", take the sum of \"weekly_sales\", and store as sales_by_type.\n",
        "\n",
        "2. Calculate the proportion of sales at each store type by dividing by the sum of sales_by_type. Assign to sales_propn_by_type.\n"
      ]
    },
    {
      "cell_type": "code",
      "metadata": {
        "id": "nIi-648n7l3n"
      },
      "source": [
        "In [1]:\n",
        "sales.head()\n",
        "Out[1]:\n",
        "\n",
        "   store type  department       date  weekly_sales  is_holiday  temperature_c  fuel_price_usd_per_l  unemployment\n",
        "0      1    A           1 2010-02-05      24924.50       False          5.728                 0.679         8.106\n",
        "1      1    A           1 2010-03-05      21827.90       False          8.056                 0.693         8.106\n",
        "2      1    A           1 2010-04-02      57258.43       False         16.817                 0.718         7.808\n",
        "3      1    A           1 2010-05-07      17413.94       False         22.528                 0.749         7.808\n",
        "4      1    A           1 2010-06-04      17558.09       False         27.050                 0.715         7.808"
      ],
      "execution_count": null,
      "outputs": []
    },
    {
      "cell_type": "code",
      "metadata": {
        "id": "jHdg_uFz7ktG"
      },
      "source": [
        "# Group by type; calc total weekly sales\n",
        "sales_by_type = sales.groupby(\"type\")[\"weekly_sales\"].sum()\n",
        "\n",
        "# Get proportion for each type\n",
        "sales_propn_by_type = sales_by_type / sum(sales_by_type)\n",
        "print(sales_propn_by_type)\n",
        "\n",
        "'''\n",
        "<script.py> output:\n",
        "    type\n",
        "    A    0.91\n",
        "    B    0.09\n",
        "    Name: weekly_sales, dtype: float64\n",
        "'''"
      ],
      "execution_count": null,
      "outputs": []
    },
    {
      "cell_type": "markdown",
      "metadata": {
        "id": "u28esSDq77Rx"
      },
      "source": [
        "2. Group sales by \"type\" and \"is_holiday\", take the sum of weekly_sales, and store as sales_by_type_is_holiday."
      ]
    },
    {
      "cell_type": "code",
      "metadata": {
        "id": "dKK4SdN28KKe"
      },
      "source": [
        "# From previous step\n",
        "sales_by_type = sales.groupby(\"type\")[\"weekly_sales\"].sum()\n",
        "\n",
        "# Group by type and is_holiday; calc total weekly sales\n",
        "sales_by_type_is_holiday = sales.groupby([\"type\", \"is_holiday\"])[\"weekly_sales\"].sum()\n",
        "print(sales_by_type_is_holiday)\n",
        "\n",
        "'''\n",
        "\n",
        "<script.py> output:\n",
        "    type  is_holiday\n",
        "    A     False         2.337e+08\n",
        "          True          2.360e+04\n",
        "    B     False         2.318e+07\n",
        "          True          1.621e+03\n",
        "    Name: weekly_sales, dtype: float64\n",
        "'''"
      ],
      "execution_count": null,
      "outputs": []
    },
    {
      "cell_type": "markdown",
      "metadata": {
        "id": "J_pviA3I8r6S"
      },
      "source": [
        "Conclusion\n",
        "\n",
        "Great grouping! You were able to do the same calculation as in the previous exercise while writing much less code."
      ]
    },
    {
      "cell_type": "markdown",
      "metadata": {
        "id": "eS-kXdFq8tS6"
      },
      "source": [
        "# Multiple grouped summaries\n",
        "\n",
        "Earlier in this chapter, you saw that the .agg() method is useful to compute multiple statistics on multiple variables. It also works with grouped data. NumPy, which is imported as np, has many different summary statistics functions, including: np.min, np.max, np.mean, and np.median.\n",
        "\n",
        "sales is available and pandas is imported as pd.\n",
        "\n",
        "Instructions\n",
        "\n",
        "1. Import numpy with the alias np.\n",
        "\n",
        "2. Get the min, max, mean, and median of weekly_sales for each store type using .groupby() and .agg(). Store this as sales_stats. Make sure to use numpy functions!\n",
        "\n",
        "3. Get the min, max, mean, and median of unemployment and fuel_price_usd_per_l for each store type. Store this as unemp_fuel_stats.\n"
      ]
    },
    {
      "cell_type": "code",
      "metadata": {
        "id": "uqX_HI1w85nr"
      },
      "source": [
        "In [1]:\n",
        "sales.head()\n",
        "Out[1]:\n",
        "\n",
        "   store type  department       date  weekly_sales  is_holiday  temperature_c  fuel_price_usd_per_l  unemployment\n",
        "0      1    A           1 2010-02-05      24924.50       False          5.728                 0.679         8.106\n",
        "1      1    A           1 2010-03-05      21827.90       False          8.056                 0.693         8.106\n",
        "2      1    A           1 2010-04-02      57258.43       False         16.817                 0.718         7.808\n",
        "3      1    A           1 2010-05-07      17413.94       False         22.528                 0.749         7.808\n",
        "4      1    A           1 2010-06-04      17558.09       False         27.050                 0.715         7.808"
      ],
      "execution_count": null,
      "outputs": []
    },
    {
      "cell_type": "code",
      "metadata": {
        "id": "roCXUgea86U9"
      },
      "source": [
        "# Import numpy with the alias np\n",
        "import numpy as np\n",
        "\n",
        "# For each store type, aggregate weekly_sales: get min, max, mean, and median\n",
        "sales_stats = sales.groupby(\"type\")[\"weekly_sales\"].agg([np.min, np.max, np.mean, np.median])\n",
        "\n",
        "# Print sales_stats\n",
        "print(sales_stats)\n",
        "\n",
        "# For each store type, aggregate unemployment and fuel_price_usd_per_l: get min, max, mean, and median\n",
        "unemp_fuel_stats = sales.groupby(\"type\")[[\"unemployment\", \"fuel_price_usd_per_l\"]].agg([np.min, np.max, np.mean, np.median])\n",
        "\n",
        "# Print unemp_fuel_stats\n",
        "print(unemp_fuel_stats)\n",
        "\n",
        "'''\n",
        "<script.py> output:\n",
        "            amin       amax       mean    median\n",
        "    type                                        \n",
        "    A    -1098.0  293966.05  23674.667  11943.92\n",
        "    B     -798.0  232558.51  25696.678  13336.08\n",
        "    \n",
        "                        unemployment                           fuel_price_usd_per_l                     \n",
        "                 amin   amax   mean median                 amin   amax   mean median\n",
        "    type                                                                            \n",
        "    A           3.879  8.992  7.973  8.067                0.664  1.107  0.745  0.735\n",
        "    B           7.170  9.765  9.279  9.199                0.760  1.108  0.806  0.803\n",
        "'''"
      ],
      "execution_count": null,
      "outputs": []
    },
    {
      "cell_type": "markdown",
      "metadata": {
        "id": "_s21bhBH98r6"
      },
      "source": [
        "Conclusion\n",
        "\n",
        "Awesome aggregating! Notice that the minimum weekly_sales is negative because some stores had more returns than sales."
      ]
    },
    {
      "cell_type": "markdown",
      "metadata": {
        "id": "yjpQBr2V-B--"
      },
      "source": [
        "# Pivot tables\n",
        "\n",
        "1. Pivot tables\n",
        "\n",
        "Pivot tables are another way of calculating grouped summary statistics. If you've ever used a spreadsheet, chances are you've used a pivot table. Let's see how to create pivot tables in pandas.\n",
        "2. Group by to pivot table\n",
        "\n",
        "In the last lesson, we grouped the dogs by color and calculated their mean weights. We can do the same thing using the pivot_table method. The \"values\" argument is the column that you want to summarize, and the index column is the column that you want to group by. By default, pivot_table takes the mean value for each group.\n",
        "3. Different statistics\n",
        "\n",
        "If we want a different summary statistic, we can use the aggfunc argument and pass it a function. Here, we take the median for each dog color using NumPy's median function.\n",
        "4. Multiple statistics\n",
        "\n",
        "To get multiple summary statistics at a time, we can pass a list of functions to the aggfunc argument. Here, we get the mean and median for each dog color.\n",
        "5. Pivot on two variables\n",
        "\n",
        "You also previously computed the mean weight grouped by two variables: color and breed. We can also do this using the pivot_table method. To group by two variables, we can pass a second variable name into the columns argument. While the result looks a little different than what we had before, it contains the same numbers. There are NaNs, or missing values, because there are no black Chihuahuas or gray Labradors in our dataset, for example.\n",
        "6. Filling missing values in pivot tables\n",
        "\n",
        "Instead of having lots of missing values in our pivot table, we can have them filled in using the fill_value argument. Here, all of the NaNs get filled in with zeros.\n",
        "7. Summing with pivot tables\n",
        "\n",
        "If we set the margins argument to True, the last row and last column of the pivot table contain the mean of all the values in the column or row, not including the missing values that were filled in with Os. For example, in the last row of the Labrador column, we can see that the mean weight of the Labradors is 26 kilograms. In the last column of the Brown row, the mean weight of the Brown dogs is 24 kilograms. The value in the bottom right, in the last row and last column, is the mean weight of all the dogs in the dataset. Using margins equals True allows us to see a summary statistic for multiple levels of the dataset: the entire dataset, grouped by one variable, by another variable, and by two variables.\n",
        "8. Let's practice!\n",
        "\n",
        "Time to practice aggregating data using pivot tables! "
      ]
    },
    {
      "cell_type": "markdown",
      "metadata": {
        "id": "646aAyuM-Bt-"
      },
      "source": [
        "# Pivoting on one variable\n",
        "\n",
        "Pivot tables are the standard way of aggregating data in spreadsheets. In pandas, pivot tables are essentially just another way of performing grouped calculations. That is, the .pivot_table() method is just an alternative to .groupby().\n",
        "\n",
        "In this exercise, you'll perform calculations using .pivot_table() to replicate the calculations you performed in the last lesson using .groupby().\n",
        "\n",
        "sales is available and pandas is imported as pd.\n",
        "Instructions\n",
        "\n",
        "1. Get the mean weekly_sales by type using .pivot_table() and store as mean_sales_by_type.\n"
      ]
    },
    {
      "cell_type": "code",
      "metadata": {
        "id": "QUKptZZs-BDd"
      },
      "source": [
        "# Pivot for mean weekly_sales for each store type\n",
        "mean_sales_by_type = sales.pivot_table(index=\"type\", values=\"weekly_sales\")\n",
        "\n",
        "# Print mean_sales_by_type\n",
        "print(mean_sales_by_type)\n",
        "\n",
        "'''\n",
        "<script.py> output:\n",
        "          weekly_sales\n",
        "    type              \n",
        "    A        23674.667\n",
        "    B        25696.678\n",
        "'''"
      ],
      "execution_count": null,
      "outputs": []
    },
    {
      "cell_type": "markdown",
      "metadata": {
        "id": "tUcxCOMn_2U1"
      },
      "source": [
        "2. Get the mean and median (using NumPy functions) of weekly_sales by type using .pivot_table() and store as mean_med_sales_by_type."
      ]
    },
    {
      "cell_type": "code",
      "metadata": {
        "id": "TNAINIwc_5NU"
      },
      "source": [
        "# Import NumPy as np\n",
        "import numpy as np\n",
        "\n",
        "# Pivot for mean and median weekly_sales for each store type\n",
        "mean_med_sales_by_type = sales.pivot_table(index=\"type\", values=\"weekly_sales\", aggfunc=[np.mean, np.median])\n",
        "\n",
        "# Print mean_med_sales_by_type\n",
        "print(mean_med_sales_by_type)\n",
        "\n",
        "'''\n",
        "<script.py> output:\n",
        "                 mean       median\n",
        "         weekly_sales weekly_sales\n",
        "    type                          \n",
        "    A       23674.667     11943.92\n",
        "    B       25696.678     13336.08\n",
        "'''"
      ],
      "execution_count": null,
      "outputs": []
    },
    {
      "cell_type": "markdown",
      "metadata": {
        "id": "PbQ5KVNDAPJ6"
      },
      "source": [
        "3. Get the mean of weekly_sales by type and is_holiday using .pivot_table() and store as mean_sales_by_type_holiday."
      ]
    },
    {
      "cell_type": "code",
      "metadata": {
        "id": "DfYGtZYMAQTC"
      },
      "source": [
        "# Pivot for mean weekly_sales by store type and holiday \n",
        "mean_sales_by_type_holiday = sales.pivot_table(index=\"type\", columns=\"is_holiday\", values=\"weekly_sales\")\n",
        "\n",
        "# Print mean_sales_by_type_holiday\n",
        "print(mean_sales_by_type_holiday)\n",
        "\n",
        "'''\n",
        "<script.py> output:\n",
        "    is_holiday      False    True \n",
        "    type                          \n",
        "    A           23768.584  590.045\n",
        "    B           25751.981  810.705\n",
        "'''"
      ],
      "execution_count": null,
      "outputs": []
    },
    {
      "cell_type": "markdown",
      "metadata": {
        "id": "eWpoCjxuAnEX"
      },
      "source": [
        "Conclusion\n",
        "\n",
        "Perfect pivoting! Pivot tables are another way to do the same thing as a group-by-then-summarize."
      ]
    },
    {
      "cell_type": "markdown",
      "metadata": {
        "id": "uFThm2zbAtiz"
      },
      "source": [
        "# Fill in missing values and sum values with pivot tables\n",
        "\n",
        "The .pivot_table() method has several useful arguments, including fill_value and margins.\n",
        "\n",
        " * fill_value replaces missing values with a real value (known as imputation). What to replace missing values with is a topic big enough to have its own course ([Dealing with Missing Data in Python](https://www.datacamp.com/courses/dealing-with-missing-data-in-python)), but the simplest thing to do is to substitute a dummy value.\n",
        "\n",
        " * margins is a shortcut for when you pivoted by two variables, but also wanted to pivot by each of those variables separately: it gives the row and column totals of the pivot table contents.\n",
        "\n",
        "In this exercise, you'll practice using these arguments to up your pivot table skills, which will help you crunch numbers more efficiently!\n",
        "\n",
        "sales is available and pandas is imported as pd.\n",
        "\n",
        "Instructions\n",
        "\n",
        "1. Print the mean weekly_sales by department and type, filling in any missing values with 0.\n"
      ]
    },
    {
      "cell_type": "code",
      "metadata": {
        "id": "0VMgXcFZBNni"
      },
      "source": [
        "# Print mean weekly_sales by department and type; fill missing values with 0\n",
        "print(sales.pivot_table(index=\"department\", columns=\"type\", values=\"weekly_sales\", fill_value=0))\n",
        "\n",
        "'''\n",
        "<script.py> output:\n",
        "    type                 A           B\n",
        "    department                        \n",
        "    1            30961.725   44050.627\n",
        "    2            67600.159  112958.527\n",
        "    3            17160.003   30580.655\n",
        "    4            44285.399   51219.654\n",
        "    5            34821.011   63236.875\n",
        "    ...                ...         ...\n",
        "    95          123933.787   77082.103\n",
        "    96           21367.043    9528.538\n",
        "    97           28471.267    5828.873\n",
        "    98           12875.423     217.428\n",
        "    99             379.124       0.000\n",
        "    \n",
        "    [80 rows x 2 columns]\n",
        "'''"
      ],
      "execution_count": null,
      "outputs": []
    },
    {
      "cell_type": "markdown",
      "metadata": {
        "id": "VUeLrSIuBU57"
      },
      "source": [
        "2. Print the mean weekly_sales by department and type, filling in any missing values with 0 and summing all rows and columns."
      ]
    },
    {
      "cell_type": "code",
      "metadata": {
        "id": "F8jecGSIBhXt"
      },
      "source": [
        "# Print the mean weekly_sales by department and type; fill missing values with 0s; sum all rows and cols\n",
        "print(sales.pivot_table(values=\"weekly_sales\", index=\"department\", columns=\"type\", fill_value=0, margins=True))\n",
        "\n",
        "'''\n",
        "<script.py> output:\n",
        "    type                A           B        All\n",
        "    department                                  \n",
        "    1           30961.725   44050.627  32052.467\n",
        "    2           67600.159  112958.527  71380.023\n",
        "    3           17160.003   30580.655  18278.391\n",
        "    4           44285.399   51219.654  44863.254\n",
        "    5           34821.011   63236.875  37189.000\n",
        "    ...               ...         ...        ...\n",
        "    96          21367.043    9528.538  20337.608\n",
        "    97          28471.267    5828.873  26584.401\n",
        "    98          12875.423     217.428  11820.590\n",
        "    99            379.124       0.000    379.124\n",
        "    All         23674.667   25696.678  23843.950\n",
        "    \n",
        "    [81 rows x 3 columns]\n",
        "'''"
      ],
      "execution_count": null,
      "outputs": []
    },
    {
      "cell_type": "markdown",
      "metadata": {
        "id": "xxCaULrkBml4"
      },
      "source": [
        "Conclusion\n",
        "\n",
        "Magnificent margin making! You are now armed with pivot table skills that can help you compute summaries at multiple grouped levels in one line of code."
      ]
    }
  ]
}