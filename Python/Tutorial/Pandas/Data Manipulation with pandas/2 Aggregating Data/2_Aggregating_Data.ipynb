{
  "nbformat": 4,
  "nbformat_minor": 0,
  "metadata": {
    "colab": {
      "name": "2 Aggregating Data.ipynb",
      "provenance": [],
      "authorship_tag": "ABX9TyN4J1tiyLXrcp1UUEKAGonH",
      "include_colab_link": true
    },
    "kernelspec": {
      "name": "python3",
      "display_name": "Python 3"
    },
    "language_info": {
      "name": "python"
    }
  },
  "cells": [
    {
      "cell_type": "markdown",
      "metadata": {
        "id": "view-in-github",
        "colab_type": "text"
      },
      "source": [
        "<a href=\"https://colab.research.google.com/github/villafue/Progamming/blob/main/Python/Tutorial/Pandas/Data%20Manipulation%20with%20pandas/2%20Aggregating%20Data/2_Aggregating_Data.ipynb\" target=\"_parent\"><img src=\"https://colab.research.google.com/assets/colab-badge.svg\" alt=\"Open In Colab\"/></a>"
      ]
    },
    {
      "cell_type": "markdown",
      "metadata": {
        "id": "-tBsBC3b45Yb"
      },
      "source": [
        "Aggregating Data\n",
        "\n",
        "In this chapter, you’ll calculate summary statistics on DataFrame columns, and master grouped summary statistics and pivot tables."
      ]
    },
    {
      "cell_type": "code",
      "metadata": {
        "id": "c_NAFU5R40Ig"
      },
      "source": [
        ""
      ],
      "execution_count": null,
      "outputs": []
    }
  ]
}