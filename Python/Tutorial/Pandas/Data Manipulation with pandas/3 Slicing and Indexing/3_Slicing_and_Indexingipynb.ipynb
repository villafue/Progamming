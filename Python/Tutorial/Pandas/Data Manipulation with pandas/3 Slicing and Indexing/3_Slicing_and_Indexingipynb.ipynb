{
  "nbformat": 4,
  "nbformat_minor": 0,
  "metadata": {
    "colab": {
      "name": "3 Slicing and Indexingipynb",
      "provenance": [],
      "authorship_tag": "ABX9TyOM0aYBXFEjFv6HcgXUosT6",
      "include_colab_link": true
    },
    "kernelspec": {
      "name": "python3",
      "display_name": "Python 3"
    },
    "language_info": {
      "name": "python"
    }
  },
  "cells": [
    {
      "cell_type": "markdown",
      "metadata": {
        "id": "view-in-github",
        "colab_type": "text"
      },
      "source": [
        "<a href=\"https://colab.research.google.com/github/villafue/Progamming/blob/main/Python/Tutorial/Pandas/Data%20Manipulation%20with%20pandas/3%20Slicing%20and%20Indexing/3_Slicing_and_Indexingipynb.ipynb\" target=\"_parent\"><img src=\"https://colab.research.google.com/assets/colab-badge.svg\" alt=\"Open In Colab\"/></a>"
      ]
    },
    {
      "cell_type": "markdown",
      "metadata": {
        "id": "UivvpwsXB3Et"
      },
      "source": [
        "Slicing and Indexing\n",
        "\n",
        "Indexes are supercharged row and column names. Learn how they can be combined with slicing for powerful DataFrame subsetting."
      ]
    },
    {
      "cell_type": "markdown",
      "metadata": {
        "id": "Ss9EipxxCPTp"
      },
      "source": [
        "# Explicit indexes\n",
        "\n",
        "1. Explicit indexes\n",
        "\n",
        "In chapter one, you saw that DataFrames are composed of three parts: a NumPy array for the data, and two indexes to store the row and column details.\n",
        "2. The dog dataset, revisited\n",
        "\n",
        "Here's the dog dataset again.\n",
        "3. .columns and .index\n",
        "\n",
        "Recall that dot-columns contains an Index object of column names, and dot-index contains an Index object of row numbers.\n",
        "4. Setting a column as the index\n",
        "\n",
        "You can move a column from the body of the DataFrame to the index. This is called \"setting an index,\" and it uses the set_index method. Notice that the output has changed slightly; in particular, a quick visual clue that name is now in the index is that the index values are left-aligned rather than right-aligned.\n",
        "5. Removing an index\n",
        "\n",
        "To undo what you just did, you can reset the index - that is, you remove it. This is done via reset_index.\n",
        "6. Dropping an index\n",
        "\n",
        "reset_index has a drop argument that allows you to discard an index. Here, setting drop to True entirely removes the dog names.\n",
        "7. Indexes make subsetting simpler\n",
        "\n",
        "You may be wondering why you should bother with indexes. The answer is that it makes subsetting code cleaner. Consider this example of subsetting for the rows where the dog is called Bella or Stella. It's a fairly tricky line of code for such a simple task. Now, look at the equivalent when the names are in the index. DataFrames have a subsetting method called \"loc,\" which filters on index values. Here you simply pass the dog names to loc as a list. Much easier!\n",
        "8. Index values don't need to be unique\n",
        "\n",
        "The values in the index don't need to be unique. Here, there are two Labradors in the index.\n",
        "9. Subsetting on duplicated index values\n",
        "\n",
        "Now, if you subset on \"Labrador\" using loc, all the Labrador data is returned.\n",
        "10. Multi-level indexes a.k.a. hierarchical indexes\n",
        "\n",
        "You can include multiple columns in the index by passing a list of column names to set_index. Here, breed and color are included. These are called multi-level indexes, or hierarchical indexes: the terms are synonymous. There is an implication here that the inner level of index, in this case, color, is nested inside the outer level, breed.\n",
        "11. Subset the outer level with a list\n",
        "\n",
        "To take a subset of rows at the outer level index, you pass a list of index values to loc. Here, the list contains Labrador and Chihuahua, and the resulting subset contains all dogs from both breeds.\n",
        "12. Subset inner levels with a list of tuples\n",
        "\n",
        "To subset on inner levels, you need to pass a list of tuples. Here, the first tuple specifies Labrador at the outer level and Brown at the inner level. The resulting rows have to match all conditions from a tuple. For example, the black Labrador wasn't returned because the brown condition wasn't matched.\n",
        "13. Sorting by index values\n",
        "\n",
        "In chapter 1, you saw how to sort the rows of a DataFrame using sort_values. You can also sort by index values using sort_index. By default, it sorts all index levels from outer to inner, in ascending order.\n",
        "14. Controlling sort_index\n",
        "\n",
        "You can control the sorting by passing lists to the level and ascending arguments.\n",
        "15. Now you have two problems\n",
        "\n",
        "Indexes are controversial. Although they simplify subsetting code, there are some downsides. Index values are just data. Storing data in multiple forms makes it harder to think about. There is a concept called \"tidy data,\" where data is stored in tabular form - like a DataFrame. Each row contains a single observation, and each variable is stored in its own column. Indexes violate the last rule since index values don't get their own column. In pandas, the syntax for working with indexes is different from the syntax for working with columns. By using two syntaxes, your code is more complicated, which can result in more bugs. If you decide you don't want to use indexes, that's perfectly reasonable. However, it's useful to know how they work for cases when you need to read other people's code.\n",
        "16. Temperature dataset\n",
        "\n",
        "In this chapter, you'll work with a monthly time series of air temperatures in cities around the world.\n",
        "17. Let's practice!\n",
        "\n",
        "Let's get indexing! "
      ]
    },
    {
      "cell_type": "markdown",
      "metadata": {
        "id": "6XHO46K6KQ5N"
      },
      "source": [
        "# Setting and removing indexes\n",
        "\n",
        "pandas allows you to designate columns as an index. This enables cleaner code when taking subsets (as well as providing more efficient lookup under some circumstances).\n",
        "\n",
        "In this chapter, you'll be exploring temperatures, a DataFrame of average temperatures in cities around the world. pandas is loaded as pd.\n",
        "\n",
        "Instructions\n",
        "\n",
        "1. Look at temperatures.\n",
        "\n",
        "2. Set the index of temperatures to \"city\", assigning to temperatures_ind.\n",
        "\n",
        "3. Look at temperatures_ind. How is it different from temperatures?\n",
        "\n",
        "4. Reset the index of temperatures_ind, keeping its contents.\n",
        "\n",
        "5. Reset the index of temperatures_ind, dropping its contents.\n"
      ]
    },
    {
      "cell_type": "code",
      "metadata": {
        "id": "l0R0ByFfBwVi"
      },
      "source": [
        "In [1]:\n",
        "temperatures.head()\n",
        "Out[1]:\n",
        "\n",
        "        date     city        country  avg_temp_c\n",
        "0 2000-01-01  Abidjan  Côte D'Ivoire      27.293\n",
        "1 2000-02-01  Abidjan  Côte D'Ivoire      27.685\n",
        "2 2000-03-01  Abidjan  Côte D'Ivoire      29.061\n",
        "3 2000-04-01  Abidjan  Côte D'Ivoire      28.162\n",
        "4 2000-05-01  Abidjan  Côte D'Ivoire      27.547"
      ],
      "execution_count": null,
      "outputs": []
    },
    {
      "cell_type": "code",
      "metadata": {
        "id": "42gYti1vLDBg"
      },
      "source": [
        "# Look at temperatures\n",
        "print(temperatures.head())\n",
        "\n",
        "# Index temperatures by city\n",
        "temperatures_ind = temperatures.set_index(\"city\")\n",
        "\n",
        "# Look at temperatures_ind\n",
        "print(temperatures_ind.head())\n",
        "\n",
        "# Reset the index, keeping its contents\n",
        "print(temperatures_ind.reset_index())\n",
        "\n",
        "# Reset the index, dropping its contents\n",
        "print(temperatures_ind.reset_index(drop=True))\n",
        "\n",
        "'''\n",
        "\n",
        "<script.py> output:\n",
        "            date     city        country  avg_temp_c\n",
        "    0 2000-01-01  Abidjan  Côte D'Ivoire      27.293\n",
        "    1 2000-02-01  Abidjan  Côte D'Ivoire      27.685\n",
        "    2 2000-03-01  Abidjan  Côte D'Ivoire      29.061\n",
        "    3 2000-04-01  Abidjan  Côte D'Ivoire      28.162\n",
        "    4 2000-05-01  Abidjan  Côte D'Ivoire      27.547\n",
        "\n",
        "                  date        country  avg_temp_c\n",
        "    city                                         \n",
        "    Abidjan 2000-01-01  Côte D'Ivoire      27.293\n",
        "    Abidjan 2000-02-01  Côte D'Ivoire      27.685\n",
        "    Abidjan 2000-03-01  Côte D'Ivoire      29.061\n",
        "    Abidjan 2000-04-01  Côte D'Ivoire      28.162\n",
        "    Abidjan 2000-05-01  Côte D'Ivoire      27.547\n",
        "    \n",
        "              city       date        country  avg_temp_c\n",
        "    0      Abidjan 2000-01-01  Côte D'Ivoire      27.293\n",
        "    1      Abidjan 2000-02-01  Côte D'Ivoire      27.685\n",
        "    2      Abidjan 2000-03-01  Côte D'Ivoire      29.061\n",
        "    3      Abidjan 2000-04-01  Côte D'Ivoire      28.162\n",
        "    4      Abidjan 2000-05-01  Côte D'Ivoire      27.547\n",
        "    ...        ...        ...            ...         ...\n",
        "    16495     Xian 2013-05-01          China      18.979\n",
        "    16496     Xian 2013-06-01          China      23.522\n",
        "    16497     Xian 2013-07-01          China      25.251\n",
        "    16498     Xian 2013-08-01          China      24.528\n",
        "    16499     Xian 2013-09-01          China         NaN\n",
        "    \n",
        "    [16500 rows x 4 columns]\n",
        "   \n",
        "                date        country  avg_temp_c\n",
        "    0     2000-01-01  Côte D'Ivoire      27.293\n",
        "    1     2000-02-01  Côte D'Ivoire      27.685\n",
        "    2     2000-03-01  Côte D'Ivoire      29.061\n",
        "    3     2000-04-01  Côte D'Ivoire      28.162\n",
        "    4     2000-05-01  Côte D'Ivoire      27.547\n",
        "    ...          ...            ...         ...\n",
        "    16495 2013-05-01          China      18.979\n",
        "    16496 2013-06-01          China      23.522\n",
        "    16497 2013-07-01          China      25.251\n",
        "    16498 2013-08-01          China      24.528\n",
        "    16499 2013-09-01          China         NaN\n",
        "    \n",
        "    [16500 rows x 3 columns]\n",
        "In [2]:\n",
        "'''"
      ],
      "execution_count": null,
      "outputs": []
    },
    {
      "cell_type": "markdown",
      "metadata": {
        "id": "O4ExQJfhLnhW"
      },
      "source": [
        "Conclusion\n",
        "\n",
        "Incredible indexing! Setting an index allows more concise code for subsetting for rows of a categorical variable via .loc[]."
      ]
    },
    {
      "cell_type": "markdown",
      "metadata": {
        "id": "Lctc5KONL0Y7"
      },
      "source": [
        "# Subsetting with .loc[]\n",
        "\n",
        "The killer feature for indexes is .loc[]: a subsetting method that accepts index values. When you pass it a single argument, it will take a subset of rows.\n",
        "\n",
        "The code for subsetting using .loc[] can be easier to read than standard square bracket subsetting, which can make your code less burdensome to maintain.\n",
        "\n",
        "pandas is loaded as pd. temperatures and temperatures_ind are available; the latter is indexed by city.\n",
        "\n",
        "Instructions\n",
        "\n",
        "1. Create a list called cities that contains \"Moscow\" and \"Saint Petersburg\".\n",
        "\n",
        "2. Use [] subsetting to filter temperatures for rows where the city column takes a value in the cities list.\n",
        "\n",
        "3. Use .loc[] subsetting to filter temperatures_ind for rows where the city is in the cities list.\n",
        "\n",
        "Hint\n",
        "\n",
        "1. Without an index, subsetting takes the form df[df[\"column\"].isin(values)].\n",
        "\n",
        "2. With an index, subsetting takes the form df_ind.loc[values].\n",
        "\n"
      ]
    },
    {
      "cell_type": "code",
      "metadata": {
        "id": "-InWjQDpMG_e"
      },
      "source": [
        "In [1]:\n",
        "temperatures.head()\n",
        "Out[1]:\n",
        "\n",
        "        date     city        country  avg_temp_c\n",
        "0 2000-01-01  Abidjan  Côte D'Ivoire      27.293\n",
        "1 2000-02-01  Abidjan  Côte D'Ivoire      27.685\n",
        "2 2000-03-01  Abidjan  Côte D'Ivoire      29.061\n",
        "3 2000-04-01  Abidjan  Côte D'Ivoire      28.162\n",
        "4 2000-05-01  Abidjan  Côte D'Ivoire      27.547\n",
        "\n",
        "In [2]:\n",
        "temperatures_ind.head()\n",
        "Out[2]:\n",
        "\n",
        "              date        country  avg_temp_c\n",
        "city                                         \n",
        "Abidjan 2000-01-01  Côte D'Ivoire      27.293\n",
        "Abidjan 2000-02-01  Côte D'Ivoire      27.685\n",
        "Abidjan 2000-03-01  Côte D'Ivoire      29.061\n",
        "Abidjan 2000-04-01  Côte D'Ivoire      28.162\n",
        "Abidjan 2000-05-01  Côte D'Ivoire      27.547"
      ],
      "execution_count": null,
      "outputs": []
    },
    {
      "cell_type": "code",
      "metadata": {
        "id": "EBW7gGzOM6NG"
      },
      "source": [
        "# Make a list of cities to subset on\n",
        "cities = [\"Moscow\", \"Saint Petersburg\"]\n",
        "\n",
        "# Subset temperatures using square brackets\n",
        "print(temperatures[temperatures.city.isin(cities)])\n",
        "\n",
        "# Subset temperatures_ind using .loc[]\n",
        "print(temperatures_ind.loc[cities])\n",
        "\n",
        "'''\n",
        "<script.py> output:\n",
        "                date              city country  avg_temp_c\n",
        "    10725 2000-01-01            Moscow  Russia      -7.313\n",
        "    10726 2000-02-01            Moscow  Russia      -3.551\n",
        "    10727 2000-03-01            Moscow  Russia      -1.661\n",
        "    10728 2000-04-01            Moscow  Russia      10.096\n",
        "    10729 2000-05-01            Moscow  Russia      10.357\n",
        "    ...          ...               ...     ...         ...\n",
        "    13360 2013-05-01  Saint Petersburg  Russia      12.355\n",
        "    13361 2013-06-01  Saint Petersburg  Russia      17.185\n",
        "    13362 2013-07-01  Saint Petersburg  Russia      17.234\n",
        "    13363 2013-08-01  Saint Petersburg  Russia      17.153\n",
        "    13364 2013-09-01  Saint Petersburg  Russia         NaN\n",
        "    \n",
        "    [330 rows x 4 columns]\n",
        "    \n",
        "                           date country  avg_temp_c\n",
        "    city                                           \n",
        "    Moscow           2000-01-01  Russia      -7.313\n",
        "    Moscow           2000-02-01  Russia      -3.551\n",
        "    Moscow           2000-03-01  Russia      -1.661\n",
        "    Moscow           2000-04-01  Russia      10.096\n",
        "    Moscow           2000-05-01  Russia      10.357\n",
        "    ...                     ...     ...         ...\n",
        "    Saint Petersburg 2013-05-01  Russia      12.355\n",
        "    Saint Petersburg 2013-06-01  Russia      17.185\n",
        "    Saint Petersburg 2013-07-01  Russia      17.234\n",
        "    Saint Petersburg 2013-08-01  Russia      17.153\n",
        "    Saint Petersburg 2013-09-01  Russia         NaN\n",
        "    \n",
        "    [330 rows x 3 columns]\n",
        "'''"
      ],
      "execution_count": null,
      "outputs": []
    },
    {
      "cell_type": "markdown",
      "metadata": {
        "id": "-DW8ffTWOS24"
      },
      "source": [
        "Conclusion\n",
        "\n",
        ".loc[] is used by all the best folk! Setting an index allows more concise code for subsetting rows via .loc[]."
      ]
    },
    {
      "cell_type": "markdown",
      "metadata": {
        "id": "tZI_Km4VOUbl"
      },
      "source": [
        "# Setting multi-level indexes\n",
        "\n",
        "Indexes can also be made out of multiple columns, forming a multi-level index (sometimes called a hierarchical index). There is a trade-off to using these.\n",
        "\n",
        "The benefit is that multi-level indexes make it more natural to reason about nested categorical variables. For example, in a clinical trial, you might have control and treatment groups. Then each test subject belongs to one or another group, and we can say that a test subject is nested inside the treatment group. Similarly, in the temperature dataset, the city is located in the country, so we can say a city is nested inside the country.\n",
        "\n",
        "The main downside is that the code for manipulating indexes is different from the code for manipulating columns, so you have to learn two syntaxes and keep track of how your data is represented.\n",
        "\n",
        "pandas is loaded as pd. temperatures is available.\n",
        "\n",
        "Instructions\n",
        "\n",
        "1. Set the index of temperatures to the \"country\" and \"city\" columns, and assign this to temperatures_ind.\n",
        "\n",
        "2. Specify two country/city pairs to keep: \"Brazil\"/\"Rio De Janeiro\" and \"Pakistan\"/\"Lahore\", assigning to rows_to_keep.\n",
        "\n",
        "3. Print and subset temperatures_ind for rows_to_keep using .loc[].\n"
      ]
    },
    {
      "cell_type": "code",
      "metadata": {
        "id": "sTTinhbZPBRd"
      },
      "source": [
        "# Index temperatures by country & city\n",
        "temperatures_ind = temperatures.set_index([\"country\", \"city\"])\n",
        "\n",
        "# List of tuples: Brazil, Rio De Janeiro & Pakistan, Lahore\n",
        "rows_to_keep = [(\"Brazil\", \"Rio De Janeiro\"), (\"Pakistan\", \"Lahore\")]\n",
        "\n",
        "# Subset for rows to keep\n",
        "print(temperatures_ind.loc[rows_to_keep])\n",
        "\n",
        "\n",
        "'''\n",
        "<script.py> output:\n",
        "                                  date  avg_temp_c\n",
        "    country  city                                 \n",
        "    Brazil   Rio De Janeiro 2000-01-01      25.974\n",
        "             Rio De Janeiro 2000-02-01      26.699\n",
        "             Rio De Janeiro 2000-03-01      26.270\n",
        "             Rio De Janeiro 2000-04-01      25.750\n",
        "             Rio De Janeiro 2000-05-01      24.356\n",
        "    ...                            ...         ...\n",
        "    Pakistan Lahore         2013-05-01      33.457\n",
        "             Lahore         2013-06-01      34.456\n",
        "             Lahore         2013-07-01      33.279\n",
        "             Lahore         2013-08-01      31.511\n",
        "             Lahore         2013-09-01         NaN\n",
        "    \n",
        "    [330 rows x 2 columns]\n",
        "'''"
      ],
      "execution_count": null,
      "outputs": []
    },
    {
      "cell_type": "markdown",
      "metadata": {
        "id": "z370T8YFPGTu"
      },
      "source": [
        "Conclusion\n",
        "\n",
        "Magnificent multi-level indexing! Multi-level indexes can make it easy to comprehend your dataset when one category is nested inside another category."
      ]
    },
    {
      "cell_type": "markdown",
      "metadata": {
        "id": "3Ka4cfBRPLkB"
      },
      "source": [
        "# Sorting by index values\n",
        "\n",
        "Previously, you changed the order of the rows in a DataFrame by calling .sort_values(). It's also useful to be able to sort by elements in the index. For this, you need to use .sort_index().\n",
        "\n",
        "pandas is loaded as pd. temperatures_ind has a multi-level index of country and city, and is available.\n",
        "\n",
        "Instructions\n",
        "\n",
        "1. Sort temperatures_ind by the index values.\n",
        "\n",
        "2. Sort temperatures_ind by the index values at the \"city\" level.\n",
        "\n",
        "3. Sort temperatures_ind by ascending country then descending city.\n"
      ]
    },
    {
      "cell_type": "code",
      "metadata": {
        "id": "-Rbglpc8PgXu"
      },
      "source": [
        "In [1]:\n",
        "temperatures_ind.head()\n",
        "Out[1]:\n",
        "\n",
        "                            date  avg_temp_c\n",
        "country       city                          \n",
        "Côte D'Ivoire Abidjan 2000-01-01      27.293\n",
        "              Abidjan 2000-02-01      27.685\n",
        "              Abidjan 2000-03-01      29.061\n",
        "              Abidjan 2000-04-01      28.162\n",
        "              Abidjan 2000-05-01      27.547"
      ],
      "execution_count": null,
      "outputs": []
    },
    {
      "cell_type": "code",
      "metadata": {
        "id": "L9aQLa26QEKO"
      },
      "source": [
        "# Sort temperatures_ind by index values\n",
        "print(temperatures_ind.sort_index())\n",
        "\n",
        "# Sort temperatures_ind by index values at the city level\n",
        "print(temperatures_ind.sort_index(level=\"city\"))\n",
        "\n",
        "# Sort temperatures_ind by country then descending city\n",
        "print(temperatures_ind.sort_index(level=[\"country\", \"city\"], ascending=[True, False]))\n",
        "\n",
        "'''\n",
        "<script.py> output:\n",
        "                             date  avg_temp_c\n",
        "    country     city                         \n",
        "    Afghanistan Kabul  2000-01-01       3.326\n",
        "                Kabul  2000-02-01       3.454\n",
        "                Kabul  2000-03-01       9.612\n",
        "                Kabul  2000-04-01      17.925\n",
        "                Kabul  2000-05-01      24.658\n",
        "    ...                       ...         ...\n",
        "    Zimbabwe    Harare 2013-05-01      18.298\n",
        "                Harare 2013-06-01      17.020\n",
        "                Harare 2013-07-01      16.299\n",
        "                Harare 2013-08-01      19.232\n",
        "                Harare 2013-09-01         NaN\n",
        "    \n",
        "    [16500 rows x 2 columns]\n",
        "\n",
        "                                date  avg_temp_c\n",
        "    country       city                          \n",
        "    Côte D'Ivoire Abidjan 2000-01-01      27.293\n",
        "                  Abidjan 2000-02-01      27.685\n",
        "                  Abidjan 2000-03-01      29.061\n",
        "                  Abidjan 2000-04-01      28.162\n",
        "                  Abidjan 2000-05-01      27.547\n",
        "    ...                          ...         ...\n",
        "    China         Xian    2013-05-01      18.979\n",
        "                  Xian    2013-06-01      23.522\n",
        "                  Xian    2013-07-01      25.251\n",
        "                  Xian    2013-08-01      24.528\n",
        "                  Xian    2013-09-01         NaN\n",
        "    \n",
        "    [16500 rows x 2 columns]\n",
        "    \n",
        "                             date  avg_temp_c\n",
        "    country     city                         \n",
        "    Afghanistan Kabul  2000-01-01       3.326\n",
        "                Kabul  2000-02-01       3.454\n",
        "                Kabul  2000-03-01       9.612\n",
        "                Kabul  2000-04-01      17.925\n",
        "                Kabul  2000-05-01      24.658\n",
        "    ...                       ...         ...\n",
        "    Zimbabwe    Harare 2013-05-01      18.298\n",
        "                Harare 2013-06-01      17.020\n",
        "                Harare 2013-07-01      16.299\n",
        "                Harare 2013-08-01      19.232\n",
        "                Harare 2013-09-01         NaN\n",
        "    \n",
        "    [16500 rows x 2 columns]\n",
        "'''"
      ],
      "execution_count": null,
      "outputs": []
    },
    {
      "cell_type": "markdown",
      "metadata": {
        "id": "HlM87g10QUpn"
      },
      "source": [
        "Conclusion\n",
        "\n",
        "Sorted! Sorting index values is similar to sorting values in columns, exectp that you call .sort_index() instead of .sort_values()."
      ]
    },
    {
      "cell_type": "markdown",
      "metadata": {
        "id": "3DJ9PzPMQYgD"
      },
      "source": [
        "# Slicing and subsetting with .loc and .iloc\n",
        "\n",
        "1. Slicing and subsetting with .loc and .iloc\n",
        "\n",
        "Slicing is a technique for selecting consecutive elements from objects.\n",
        "2. Slicing lists\n",
        "\n",
        "Here are the dog breeds, this time as a list. To slice the list, you pass first and last positions separated by a colon into square brackets. Remember that Python positions start from zero, so 2 refers to the third element, Chow Chow. Also remember that the last position, 5, is not included in the slice, so we finish at Labrador, not Chihuahua. If you want the slice to start from the beginning of the list, you can omit the zero. Here, using colon-3 returns the first three elements. Slicing with colon on its own returns the whole list.\n",
        "3. Sort the index before you slice\n",
        "\n",
        "You can also slice DataFrames, but first, you need to sort the index. Here, the dogs dataset has been given a multi-level index of breed and color; then, the index is sorted with sort_index.\n",
        "4. Slicing the outer index level\n",
        "\n",
        "To slice rows at the outer level of an index, you call loc, passing the first and last values separated by a colon. The full dataset is shown on the right for comparison. There are two differences compared to slicing lists. Rather than specifying row numbers, you specify index values. Secondly, notice that the final value is included. Here, Poodle is included in the results.\n",
        "5. Slicing the inner index levels badly\n",
        "\n",
        "The same technique doesn't work on inner index levels. Here, trying to slice from Tan to Grey returns an empty DataFrame instead of the six dogs we wanted. It's important to understand the danger here. pandas doesn't throw an error to let you know that there is a problem, so be careful when coding.\n",
        "6. Slicing the inner index levels correctly\n",
        "\n",
        "The correct approach to slicing at inner index levels is to pass the first and last positions as tuples. Here, the first element to include is a tuple of Labrador and Brown.\n",
        "7. Slicing columns\n",
        "\n",
        "Since DataFrames are two-dimensional objects, you can also slice columns. You do this by passing two arguments to loc. The simplest case involves subsetting columns but keeping all rows. To do this, pass a colon as the first argument to loc. As with slicing lists, a colon by itself means \"keep everything.\" The second argument takes column names as the first and last positions to slice on.\n",
        "8. Slice twice\n",
        "\n",
        "You can slice on rows and columns at the same time: simply pass the appropriate slice to each argument. Here, you see the previous two slices being performed in the same line of code.\n",
        "9. Dog days\n",
        "\n",
        "An important use case of slicing is to subset DataFrames by a range of dates. To demonstrate this, let's set the date_of_birth column as the index and sort by this index.\n",
        "10. Slicing by dates\n",
        "\n",
        "You slice dates with the same syntax as other types. The first and last dates are passed as strings.\n",
        "11. Slicing by partial dates\n",
        "\n",
        "One helpful feature is that you can slice by partial dates. Here, the first and last positions are only specified as 2014 and 2016, with no month or day parts. pandas interprets this as slicing from the start of 2014 to the end of 2016; that is, all dates in 2014, 2015, and 2016.\n",
        "12. Subsetting by row/column number\n",
        "\n",
        "You can also slice DataFrames by row or column number using the iloc method. This uses a similar syntax to slicing lists, except that there are two arguments: one for rows and one for columns. Notice that, like list slicing but unlike loc, the final values aren't included in the slice. In this case, the fifth row and fourth column aren't included.\n",
        "13. Let's practice!\n",
        "\n",
        "Time for a nice slice! "
      ]
    },
    {
      "cell_type": "markdown",
      "metadata": {
        "id": "qhoiJnAWQceU"
      },
      "source": [
        "# Slicing index values\n",
        "\n",
        "Slicing lets you select consecutive elements of an object using first:last syntax. DataFrames can be sliced by index values or by row/column number; we'll start with the first case. This involves slicing inside the .loc[] method.\n",
        "\n",
        "Compared to slicing lists, there are a few things to remember.\n",
        "\n",
        " * You can only slice an index if the index is sorted (using .sort_index()).\n",
        "\n",
        " * To slice at the outer level, first and last can be strings.\n",
        "\n",
        " * To slice at inner levels, first and last should be tuples.\n",
        "\n",
        " * If you pass a single slice to .loc[], it will slice the rows.\n",
        "\n",
        "pandas is loaded as pd. temperatures_ind has country and city in the index, and is available.\n",
        "\n",
        "Instructions\n",
        "\n",
        "1. Sort the index of temperatures_ind.\n",
        "\n",
        "2. Use slicing with .loc[] to get these subsets:\n",
        "\n",
        " * from Pakistan to Russia.\n",
        "\n",
        " * from Lahore to Moscow. (This will return nonsense.)\n",
        "\n",
        " * from Pakistan, Lahore to Russia, Moscow.\n"
      ]
    },
    {
      "cell_type": "code",
      "metadata": {
        "id": "8V3efRcEcnhj"
      },
      "source": [
        "In [1]:\n",
        "temperatures_ind.head()\n",
        "Out[1]:\n",
        "\n",
        "                            date  avg_temp_c\n",
        "country       city                          \n",
        "Côte D'Ivoire Abidjan 2000-01-01      27.293\n",
        "              Abidjan 2000-02-01      27.685\n",
        "              Abidjan 2000-03-01      29.061\n",
        "              Abidjan 2000-04-01      28.162\n",
        "              Abidjan 2000-05-01      27.547"
      ],
      "execution_count": null,
      "outputs": []
    },
    {
      "cell_type": "code",
      "metadata": {
        "id": "SR8PWRyZcoFt"
      },
      "source": [
        "# Sort the index of temperatures_ind\n",
        "temperatures_srt = temperatures_ind.sort_index()\n",
        "\n",
        "# Subset rows from Pakistan to Russia\n",
        "print(temperatures_srt.loc[\"Pakistan\":\"Russia\"])\n",
        "\n",
        "# Try to subset rows from Lahore to Moscow\n",
        "print(temperatures_srt.loc[\"Lahore\":\"Moscow\"])\n",
        "\n",
        "# Subset rows from Pakistan, Lahore to Russia, Moscow\n",
        "print(temperatures_srt.loc[(\"Pakistan\",\"Lahore\"):(\"Russia\", \"Moscow\")])\n",
        "\n",
        "'''\n",
        "<script.py> output:\n",
        "                                    date  avg_temp_c\n",
        "    country  city                                   \n",
        "    Pakistan Faisalabad       2000-01-01      12.792\n",
        "             Faisalabad       2000-02-01      14.339\n",
        "             Faisalabad       2000-03-01      20.309\n",
        "             Faisalabad       2000-04-01      29.072\n",
        "             Faisalabad       2000-05-01      34.845\n",
        "    ...                              ...         ...\n",
        "    Russia   Saint Petersburg 2013-05-01      12.355\n",
        "             Saint Petersburg 2013-06-01      17.185\n",
        "             Saint Petersburg 2013-07-01      17.234\n",
        "             Saint Petersburg 2013-08-01      17.153\n",
        "             Saint Petersburg 2013-09-01         NaN\n",
        "    \n",
        "    [1155 rows x 2 columns]\n",
        " \n",
        "                             date  avg_temp_c\n",
        "    country city                             \n",
        "    Mexico  Mexico     2000-01-01      12.694\n",
        "            Mexico     2000-02-01      14.677\n",
        "            Mexico     2000-03-01      17.376\n",
        "            Mexico     2000-04-01      18.294\n",
        "            Mexico     2000-05-01      18.562\n",
        "    ...                       ...         ...\n",
        "    Morocco Casablanca 2013-05-01      19.217\n",
        "            Casablanca 2013-06-01      23.649\n",
        "            Casablanca 2013-07-01      27.488\n",
        "            Casablanca 2013-08-01      27.952\n",
        "            Casablanca 2013-09-01         NaN\n",
        "    \n",
        "    [330 rows x 2 columns]\n",
        " \n",
        "                          date  avg_temp_c\n",
        "    country  city                         \n",
        "    Pakistan Lahore 2000-01-01      12.792\n",
        "             Lahore 2000-02-01      14.339\n",
        "             Lahore 2000-03-01      20.309\n",
        "             Lahore 2000-04-01      29.072\n",
        "             Lahore 2000-05-01      34.845\n",
        "    ...                    ...         ...\n",
        "    Russia   Moscow 2013-05-01      16.152\n",
        "             Moscow 2013-06-01      18.718\n",
        "             Moscow 2013-07-01      18.136\n",
        "             Moscow 2013-08-01      17.485\n",
        "             Moscow 2013-09-01         NaN\n",
        "    \n",
        "    [660 rows x 2 columns]\n",
        "'''"
      ],
      "execution_count": null,
      "outputs": []
    },
    {
      "cell_type": "markdown",
      "metadata": {
        "id": "R-IIFgDTdPK4"
      },
      "source": [
        "Conclusion\n",
        "\n",
        "That's a nice slice! Combining slicing with .loc[] provides a concise syntax for subsetting."
      ]
    },
    {
      "cell_type": "markdown",
      "metadata": {
        "id": "PnlkbbsGdgXR"
      },
      "source": [
        "# Slicing in both directions\n",
        "\n",
        "You've seen slicing DataFrames by rows and by columns, but since DataFrames are two-dimensional objects, it is often natural to slice both dimensions at once. That is, by passing two arguments to .loc[], you can subset by rows and columns in one go.\n",
        "\n",
        "pandas is loaded as pd. temperatures_srt is indexed by country and city, has a sorted index, and is available.\n",
        "\n",
        "Instructions\n",
        "\n",
        "1. Use .loc[] slicing to subset rows from India, Hyderabad to Iraq, Baghdad.\n",
        "\n",
        "2. Use .loc[] slicing to subset columns from date to avg_temp_c.\n",
        "\n",
        "3. Slice in both directions at once from Hyderabad to Baghdad, and date to avg_temp_c.\n"
      ]
    },
    {
      "cell_type": "code",
      "metadata": {
        "id": "3r_9jhE0dsSB"
      },
      "source": [
        "In [1]:\n",
        "temperatures_srt.head()\n",
        "Out[1]:\n",
        "\n",
        "                        date  avg_temp_c\n",
        "country     city                        \n",
        "Afghanistan Kabul 2000-01-01       3.326\n",
        "            Kabul 2000-02-01       3.454\n",
        "            Kabul 2000-03-01       9.612\n",
        "            Kabul 2000-04-01      17.925\n",
        "            Kabul 2000-05-01      24.658"
      ],
      "execution_count": null,
      "outputs": []
    },
    {
      "cell_type": "code",
      "metadata": {
        "id": "OgSpRTAFds38"
      },
      "source": [
        "# Subset rows from India, Hyderabad to Iraq, Baghdad\n",
        "print(temperatures_srt.loc[(\"India\",\"Hyderabad\"):(\"Iraq\",\"Baghdad\")])\n",
        "\n",
        "# Subset columns from date to avg_temp_c\n",
        "print(temperatures_srt.loc[:, \"date\":\"avg_temp_c\"])\n",
        "\n",
        "# Subset in both directions at once\n",
        "print(temperatures_srt.loc[(\"India\",\"Hyderabad\"):(\"Iraq\",\"Baghdad\"), \"date\":\"avg_temp_c\"])\n",
        "\n",
        "'''\n",
        "<script.py> output:\n",
        "                            date  avg_temp_c\n",
        "    country city                            \n",
        "    India   Hyderabad 2000-01-01      23.779\n",
        "            Hyderabad 2000-02-01      25.826\n",
        "            Hyderabad 2000-03-01      28.821\n",
        "            Hyderabad 2000-04-01      32.698\n",
        "            Hyderabad 2000-05-01      32.438\n",
        "    ...                      ...         ...\n",
        "    Iraq    Baghdad   2013-05-01      28.673\n",
        "            Baghdad   2013-06-01      33.803\n",
        "            Baghdad   2013-07-01      36.392\n",
        "            Baghdad   2013-08-01      35.463\n",
        "            Baghdad   2013-09-01         NaN\n",
        "    \n",
        "    [2145 rows x 2 columns]\n",
        "\n",
        "                             date  avg_temp_c\n",
        "    country     city                         \n",
        "    Afghanistan Kabul  2000-01-01       3.326\n",
        "                Kabul  2000-02-01       3.454\n",
        "                Kabul  2000-03-01       9.612\n",
        "                Kabul  2000-04-01      17.925\n",
        "                Kabul  2000-05-01      24.658\n",
        "    ...                       ...         ...\n",
        "    Zimbabwe    Harare 2013-05-01      18.298\n",
        "                Harare 2013-06-01      17.020\n",
        "                Harare 2013-07-01      16.299\n",
        "                Harare 2013-08-01      19.232\n",
        "                Harare 2013-09-01         NaN\n",
        "    \n",
        "    [16500 rows x 2 columns]\n",
        "    \n",
        "                            date  avg_temp_c\n",
        "    country city                            \n",
        "    India   Hyderabad 2000-01-01      23.779\n",
        "            Hyderabad 2000-02-01      25.826\n",
        "            Hyderabad 2000-03-01      28.821\n",
        "            Hyderabad 2000-04-01      32.698\n",
        "            Hyderabad 2000-05-01      32.438\n",
        "    ...                      ...         ...\n",
        "    Iraq    Baghdad   2013-05-01      28.673\n",
        "            Baghdad   2013-06-01      33.803\n",
        "            Baghdad   2013-07-01      36.392\n",
        "            Baghdad   2013-08-01      35.463\n",
        "            Baghdad   2013-09-01         NaN\n",
        "    \n",
        "    [2145 rows x 2 columns]\n",
        "'''"
      ],
      "execution_count": null,
      "outputs": []
    },
    {
      "cell_type": "markdown",
      "metadata": {
        "id": "pn3PSX2Efevd"
      },
      "source": [
        "Conclusion\n",
        "\n",
        "Brilliant bidirectional slicing! Slicing with .loc[] lets you take subsets in both directions at once."
      ]
    },
    {
      "cell_type": "markdown",
      "metadata": {
        "id": "wAca1DXthPLT"
      },
      "source": [
        "# Slicing time series\n",
        "\n",
        "Slicing is particularly useful for time series since it's a common thing to want to filter for data within a date range. Add the date column to the index, then use .loc[] to perform the subsetting. The important thing to remember is to keep your dates in ISO 8601 format, that is, yyyy-mm-dd.\n",
        "\n",
        "Recall from Chapter 1 that you can combine multiple Boolean conditions using logical operators (such as &). To do so in one line of code, you'll need to add parentheses () around each condition.\n",
        "\n",
        "pandas is loaded as pd and temperatures, with no index, is available.\n",
        "\n",
        "Instructions\n",
        "\n",
        "1. Use Boolean conditions (not .isin() or .loc[]) to subset for rows in 2010 and 2011, and print the results.\n",
        " * Note that because the date isn't set as an index, a condition that contains only a year, such as `df[\"date\"] == \"2009\"`, will check if the date is equal to the first day of the first month of the year (e.g. 2009-01-01), rather than checking whether the date occurs within the given year. We recommend writing out the full date when using Boolean conditions (e.g., 2009-12-31).\n",
        "\n",
        "2. Set the index to the date column.\n",
        "\n",
        "3. Use .loc[] to subset for rows in 2010 and 2011.\n",
        "\n",
        "4. Use .loc[] to subset for rows from Aug 2010 to Feb 2011.\n",
        "\n",
        "\n",
        "Incorrect submission\n",
        "Be careful when using Boolean conditions to subset dates. Using a check like `df['date'] == '2011'` or `df['date'] <= '2011'` will not check for all dates in `2011`, and will only check for the date `2011-01-01`. Try writing out the full date when using Boolean conditions (e.g. `2011-12-31`).\n"
      ]
    },
    {
      "cell_type": "code",
      "metadata": {
        "id": "4S7cfT-IhoZz"
      },
      "source": [
        "In [1]:\n",
        "temperatures.head()\n",
        "Out[1]:\n",
        "\n",
        "        date     city        country  avg_temp_c\n",
        "0 2000-01-01  Abidjan  Côte D'Ivoire      27.293\n",
        "1 2000-02-01  Abidjan  Côte D'Ivoire      27.685\n",
        "2 2000-03-01  Abidjan  Côte D'Ivoire      29.061\n",
        "3 2000-04-01  Abidjan  Côte D'Ivoire      28.162\n",
        "4 2000-05-01  Abidjan  Côte D'Ivoire      27.547"
      ],
      "execution_count": null,
      "outputs": []
    },
    {
      "cell_type": "code",
      "metadata": {
        "id": "WQ9rUSpZhpX8"
      },
      "source": [
        "# Use Boolean conditions to subset temperatures for rows in 2010 and 2011\n",
        "temperatures_bool = temperatures[(temperatures.date >= \"2010-01-01\") & (temperatures.date <= \"2011-12-31\")]\n",
        "print(temperatures_bool)\n",
        "\n",
        "# Set date as an index and sort the index\n",
        "temperatures_ind = temperatures.set_index(\"date\").sort_index()\n",
        "\n",
        "# Use .loc[] to subset temperatures_ind for rows in 2010 and 2011\n",
        "print(temperatures_ind.loc[\"2010\":\"2011\"])\n",
        "\n",
        "# Use .loc[] to subset temperatures_ind for rows from Aug 2010 to Feb 2011\n",
        "print((temperatures_ind.loc[\"2010-08\":\"2011-02\"]))\n",
        "\n",
        "'''\n",
        "<script.py> output:\n",
        "                date     city        country  avg_temp_c\n",
        "    120   2010-01-01  Abidjan  Côte D'Ivoire      28.270\n",
        "    121   2010-02-01  Abidjan  Côte D'Ivoire      29.262\n",
        "    122   2010-03-01  Abidjan  Côte D'Ivoire      29.596\n",
        "    123   2010-04-01  Abidjan  Côte D'Ivoire      29.068\n",
        "    124   2010-05-01  Abidjan  Côte D'Ivoire      28.258\n",
        "    ...          ...      ...            ...         ...\n",
        "    16474 2011-08-01     Xian          China      23.069\n",
        "    16475 2011-09-01     Xian          China      16.775\n",
        "    16476 2011-10-01     Xian          China      12.587\n",
        "    16477 2011-11-01     Xian          China       7.543\n",
        "    16478 2011-12-01     Xian          China      -0.490\n",
        "    \n",
        "    [2400 rows x 4 columns]\n",
        "\n",
        "                      city    country  avg_temp_c\n",
        "    date                                         \n",
        "    2010-01-01  Faisalabad   Pakistan      11.810\n",
        "    2010-01-01   Melbourne  Australia      20.016\n",
        "    2010-01-01   Chongqing      China       7.921\n",
        "    2010-01-01   São Paulo     Brazil      23.738\n",
        "    2010-01-01   Guangzhou      China      14.136\n",
        "    ...                ...        ...         ...\n",
        "    2011-12-01      Nagoya      Japan       6.476\n",
        "    2011-12-01   Hyderabad      India      23.613\n",
        "    2011-12-01        Cali   Colombia      21.559\n",
        "    2011-12-01        Lima       Peru      18.293\n",
        "    2011-12-01     Bangkok   Thailand      25.021\n",
        "    \n",
        "    [2400 rows x 3 columns]\n",
        "    \n",
        "                    city        country  avg_temp_c\n",
        "    date                                           \n",
        "    2010-08-01  Calcutta          India      30.226\n",
        "    2010-08-01      Pune          India      24.941\n",
        "    2010-08-01     Izmir         Turkey      28.352\n",
        "    2010-08-01   Tianjin          China      25.543\n",
        "    2010-08-01    Manila    Philippines      27.101\n",
        "    ...              ...            ...         ...\n",
        "    2011-02-01     Kabul    Afghanistan       3.914\n",
        "    2011-02-01   Chicago  United States       0.276\n",
        "    2011-02-01    Aleppo          Syria       8.246\n",
        "    2011-02-01     Delhi          India      18.136\n",
        "    2011-02-01   Rangoon          Burma      26.631\n",
        "    \n",
        "    [700 rows x 3 columns]\n",
        "'''"
      ],
      "execution_count": null,
      "outputs": []
    },
    {
      "cell_type": "markdown",
      "metadata": {
        "id": "tX0mZqK5jYNb"
      },
      "source": [
        "Conclusion\n",
        "\n",
        "Delightful data range slicing! Using .loc[] in conjunction with a date index provides an easy way to subset for rows before or after some date."
      ]
    },
    {
      "cell_type": "markdown",
      "metadata": {
        "id": "ExEFefuJjZxV"
      },
      "source": [
        "# Subsetting by row/column number\n",
        "\n",
        "The most common ways to subset rows are the ways we've previously discussed: using a Boolean condition or by index labels. However, it is also occasionally useful to pass row numbers.\n",
        "\n",
        "This is done using .iloc[], and like .loc[], it can take two arguments to let you subset by rows and columns.\n",
        "\n",
        "pandas is loaded as pd. temperatures (without an index) is available.\n",
        "\n",
        "Instructions\n",
        "\n",
        "Use .iloc[] on temperatures to take subsets.\n",
        "\n",
        " 1. Get the 23rd row, 2nd column (index positions 22 and 1).\n",
        "\n",
        " 2. Get the first 5 rows (index positions 0 to 5).\n",
        "\n",
        " 3. Get all rows, columns 3 and 4 (index positions 2 to 4).\n",
        "\n",
        " 4. Get the first 5 rows, columns 3 and 4.\n"
      ]
    },
    {
      "cell_type": "code",
      "metadata": {
        "id": "IKnqGzLxjvtQ"
      },
      "source": [
        "# Get 23rd row, 2nd column (index 22, 1)\n",
        "print(temperatures.iloc[22,1])\n",
        "\n",
        "# Use slicing to get the first 5 rows\n",
        "print(temperatures.iloc[:5])\n",
        "\n",
        "# Use slicing to get columns 3 to 4\n",
        "print(temperatures.iloc[:,2:4])\n",
        "\n",
        "# Use slicing in both directions at once\n",
        "print(temperatures.iloc[:5, 2:4])\n",
        "\n",
        "'''\n",
        "<script.py> output:\n",
        "    \n",
        "    Abidjan\n",
        "\n",
        "            date     city        country  avg_temp_c\n",
        "    0 2000-01-01  Abidjan  Côte D'Ivoire      27.293\n",
        "    1 2000-02-01  Abidjan  Côte D'Ivoire      27.685\n",
        "    2 2000-03-01  Abidjan  Côte D'Ivoire      29.061\n",
        "    3 2000-04-01  Abidjan  Côte D'Ivoire      28.162\n",
        "    4 2000-05-01  Abidjan  Côte D'Ivoire      27.547\n",
        "\n",
        "                 country  avg_temp_c\n",
        "    0      Côte D'Ivoire      27.293\n",
        "    1      Côte D'Ivoire      27.685\n",
        "    2      Côte D'Ivoire      29.061\n",
        "    3      Côte D'Ivoire      28.162\n",
        "    4      Côte D'Ivoire      27.547\n",
        "    ...              ...         ...\n",
        "    16495          China      18.979\n",
        "    16496          China      23.522\n",
        "    16497          China      25.251\n",
        "    16498          China      24.528\n",
        "    16499          China         NaN\n",
        "    \n",
        "    [16500 rows x 2 columns]\n",
        "\n",
        "             country  avg_temp_c\n",
        "    0  Côte D'Ivoire      27.293\n",
        "    1  Côte D'Ivoire      27.685\n",
        "    2  Côte D'Ivoire      29.061\n",
        "    3  Côte D'Ivoire      28.162\n",
        "    4  Côte D'Ivoire      27.547\n",
        "'''"
      ],
      "execution_count": null,
      "outputs": []
    },
    {
      "cell_type": "markdown",
      "metadata": {
        "id": "E5C0QOb-ko_S"
      },
      "source": [
        "Conclusion\n",
        "\n",
        "Insightful use of .iloc[]! Use .iloc[] to specify a subset using the row or column numbers."
      ]
    },
    {
      "cell_type": "markdown",
      "metadata": {
        "id": "pzK58BJgkrYW"
      },
      "source": [
        "# Working with pivot tables\n",
        "\n",
        "1. Working with pivot tables\n",
        "\n",
        "You saw how to create pivot tables with pandas in chapter two. In this lesson, you'll perform subsetting and calculations on pivot tables.\n",
        "2. A bigger dog dataset\n",
        "\n",
        "Here's a larger version of the dog dataset. The extra dogs mean we have something to compute on.\n",
        "3. Pivoting the dog pack\n",
        "\n",
        "Recall that you create a pivot table by calling dot-pivot_table. The first argument is the column name containing values to aggregate. The index argument lists the columns to group by and display in rows, and the columns argument lists the columns to group by and display in columns. We'll use the default aggregation function, which is mean.\n",
        "4. .loc[] + slicing is a power combo\n",
        "\n",
        "Pivot tables are just DataFrames with sorted indexes. That means that all the fun stuff you've learned so far this chapter can be used on them. In particular, the loc and slicing combination is ideal for subsetting pivot tables, like so.\n",
        "\n",
        "    1 -\n",
        "\n",
        "5. The axis argument\n",
        "\n",
        "The methods for calculating summary statistics on a DataFrame, such as mean, have an axis argument. The default value is \"index,\" which means \"calculate the statistic across rows.\" Here, the mean is calculated for each color. That is, \"across the breeds.\" The behavior is the same as if you hadn't specified the axis argument.\n",
        "6. Calculating summary stats across columns\n",
        "\n",
        "To calculate a summary statistic for each row, that is, \"across the columns,\" you set axis to \"columns.\" Here, the mean height is calculated for each breed. That is, \"across the colors.\" For most DataFrames, setting the axis argument doesn't make any sense, since you'll have different data types in each column. Pivot tables are a special case since every column contains the same data type.\n",
        "7. Let's practice!\n",
        "\n",
        "Time to play with pivot tables! "
      ]
    },
    {
      "cell_type": "markdown",
      "metadata": {
        "id": "WhW4XCdOkwor"
      },
      "source": [
        "# Pivot temperature by city and year\n",
        "\n",
        "It's interesting to see how temperatures for each city change over time—looking at every month results in a big table, which can be tricky to reason about. Instead, let's look at how temperatures change by year.\n",
        "\n",
        "You can access the components of a date (year, month and day) using code of the form `dataframe[\"column\"].dt.component`. For example, the month component is `dataframe[\"column\"].dt.month`, and the year component is `dataframe[\"column\"].dt.year`.\n",
        "\n",
        "Once you have the year column, you can create a pivot table with the data aggregated by city and year, which you'll explore in the coming exercises.\n",
        "\n",
        "pandas is loaded as pd. temperatures is available.\n",
        "\n",
        "Instructions\n",
        "\n",
        "1. Add a year column to temperatures, from the year component of the date column.\n",
        "\n",
        "2. Make a pivot table of the avg_temp_c column, with country and city as rows, and year as columns. Assign to temp_by_country_city_vs_year, and look at the result.\n"
      ]
    },
    {
      "cell_type": "code",
      "metadata": {
        "id": "7WKIHfetm_xK"
      },
      "source": [
        "In [1]:\n",
        "temperatures.head()\n",
        "Out[1]:\n",
        "\n",
        "        date     city        country  avg_temp_c\n",
        "0 2000-01-01  Abidjan  Côte D'Ivoire      27.293\n",
        "1 2000-02-01  Abidjan  Côte D'Ivoire      27.685\n",
        "2 2000-03-01  Abidjan  Côte D'Ivoire      29.061\n",
        "3 2000-04-01  Abidjan  Côte D'Ivoire      28.162\n",
        "4 2000-05-01  Abidjan  Côte D'Ivoire      27.547"
      ],
      "execution_count": null,
      "outputs": []
    },
    {
      "cell_type": "code",
      "metadata": {
        "id": "YZ_yLx0znAeQ"
      },
      "source": [
        "# Add a year column to temperatures\n",
        "temperatures[\"year\"] = temperatures.date.dt.year\n",
        "\n",
        "# Pivot avg_temp_c by country and city vs year\n",
        "temp_by_country_city_vs_year = temperatures.pivot_table(index=[\"country\", \"city\"], columns=\"year\", values=\"avg_temp_c\")\n",
        "\n",
        "# See the result\n",
        "print(temp_by_country_city_vs_year)\n",
        "\n",
        "'''\n",
        "<script.py> output:\n",
        "    year                              2000    2001    2002    2003    2004  ...    2009    2010    2011    2012    2013\n",
        "    country       city                                                      ...                                        \n",
        "    Afghanistan   Kabul             15.823  15.848  15.715  15.133  16.128  ...  15.093  15.676  15.812  14.510  16.206\n",
        "    Angola        Luanda            24.410  24.427  24.791  24.867  24.216  ...  24.325  24.440  24.151  24.240  24.554\n",
        "    Australia     Melbourne         14.320  14.180  14.076  13.986  13.742  ...  14.647  14.232  14.191  14.269  14.742\n",
        "                  Sydney            17.567  17.855  17.734  17.592  17.870  ...  18.176  17.999  17.713  17.474  18.090\n",
        "    Bangladesh    Dhaka             25.905  25.931  26.095  25.927  26.136  ...  26.536  26.648  25.803  26.284  26.587\n",
        "    ...                                ...     ...     ...     ...     ...  ...     ...     ...     ...     ...     ...\n",
        "    United States Chicago           11.090  11.703  11.532  10.482  10.943  ...  10.298  11.816  11.214  12.821  11.587\n",
        "                  Los Angeles       16.643  16.466  16.430  16.945  16.553  ...  16.677  15.887  15.875  17.090  18.121\n",
        "                  New York           9.969  10.931  11.252   9.836  10.389  ...  10.142  11.358  11.272  11.972  12.164\n",
        "    Vietnam       Ho Chi Minh City  27.589  27.832  28.065  27.828  27.687  ...  27.853  28.282  27.675  28.249  28.455\n",
        "    Zimbabwe      Harare            20.284  20.861  21.079  20.889  20.308  ...  20.524  21.166  20.782  20.523  19.756\n",
        "    \n",
        "    [100 rows x 14 columns]\n",
        "'''"
      ],
      "execution_count": null,
      "outputs": []
    },
    {
      "cell_type": "markdown",
      "metadata": {
        "id": "GFI9drfhntOp"
      },
      "source": [
        "Conclusion\n",
        "\n",
        "Powerful pivoting! Now you have the pivot table, let's manipulate it."
      ]
    },
    {
      "cell_type": "markdown",
      "metadata": {
        "id": "wrLQHN9js-Z3"
      },
      "source": [
        "# Subsetting pivot tables\n",
        "\n",
        "A pivot table is just a DataFrame with sorted indexes, so the techniques you have learned already can be used to subset them. In particular, the .loc[] + slicing combination is often helpful.\n",
        "\n",
        "pandas is loaded as pd. temp_by_country_city_vs_year is available.\n",
        "\n",
        "Instructions\n",
        "\n",
        "Use .loc[] on temp_by_country_city_vs_year to take subsets.\n",
        "\n",
        " * From Egypt to India.\n",
        "\n",
        " * From Egypt, Cairo to India, Delhi.\n",
        "\n",
        " * From Egypt, Cairo to India, Delhi, and 2005 to 2010.\n"
      ]
    },
    {
      "cell_type": "code",
      "metadata": {
        "id": "Kn_8ORhEttXx"
      },
      "source": [
        "In [1]:\n",
        "temp_by_country_city_vs_year.head()\n",
        "Out[1]:\n",
        "\n",
        "year                     2000    2001    2002    2003    2004  ...    2009    2010    2011    2012    2013\n",
        "country     city                                               ...                                        \n",
        "Afghanistan Kabul      15.823  15.848  15.715  15.133  16.128  ...  15.093  15.676  15.812  14.510  16.206\n",
        "Angola      Luanda     24.410  24.427  24.791  24.867  24.216  ...  24.325  24.440  24.151  24.240  24.554\n",
        "Australia   Melbourne  14.320  14.180  14.076  13.986  13.742  ...  14.647  14.232  14.191  14.269  14.742\n",
        "            Sydney     17.567  17.855  17.734  17.592  17.870  ...  18.176  17.999  17.713  17.474  18.090\n",
        "Bangladesh  Dhaka      25.905  25.931  26.095  25.927  26.136  ...  26.536  26.648  25.803  26.284  26.587\n",
        "\n",
        "[5 rows x 14 columns]"
      ],
      "execution_count": null,
      "outputs": []
    },
    {
      "cell_type": "code",
      "metadata": {
        "id": "Om8i90VJvBlp"
      },
      "source": [
        "# Subset for Egypt to India\n",
        "temp_by_country_city_vs_year.loc[\"Egypt\":\"India\"]\n",
        "\n",
        "# Subset for Egypt, Cairo to India, Delhi\n",
        "temp_by_country_city_vs_year.loc[(\"Egypt\", \"Cairo\"):(\"India\", \"Delhi\")]\n",
        "\n",
        "# Subset in both directions at once\n",
        "temp_by_country_city_vs_year.loc[(\"Egypt\", \"Cairo\"):(\"India\", \"Delhi\"), \"2005\":\"2010\"]\n"
      ],
      "execution_count": null,
      "outputs": []
    },
    {
      "cell_type": "markdown",
      "metadata": {
        "id": "v3zb7PGxvWlO"
      },
      "source": [
        "Conclusion\n",
        "\n",
        "Super pivot table subsetting! Slicing is especially helpful for subsetting pivot tables."
      ]
    },
    {
      "cell_type": "markdown",
      "metadata": {
        "id": "bQQI4tTQvgf0"
      },
      "source": [
        "# Calculating on a pivot table\n",
        "\n",
        "Pivot tables are filled with summary statistics, but they are only a first step to finding something insightful. Often you'll need to perform further calculations on them. A common thing to do is to find the rows or columns where the highest or lowest value occurs.\n",
        "\n",
        "Recall from Chapter 1 that you can easily subset a Series or DataFrame to find rows of interest using a logical condition inside of square brackets. For example: series[series > value].\n",
        "\n",
        "pandas is loaded as pd and the DataFrame temp_by_country_city_vs_year is available.\n",
        "\n",
        "Instructions\n",
        "\n",
        "1. Calculate the mean temperature for each year, assigning to mean_temp_by_year.\n",
        "\n",
        "2. Filter mean_temp_by_year for the year that had the highest mean temperature.\n",
        "\n",
        "3. Calculate the mean temperature for each city (across columns), assigning to mean_temp_by_city.\n",
        "\n",
        "4. Filter mean_temp_by_city for the city that had the lowest mean temperature.\n"
      ]
    },
    {
      "cell_type": "code",
      "metadata": {
        "id": "PDLYxvzVv6vA"
      },
      "source": [
        "In [1]:\n",
        "temp_by_country_city_vs_year.head()\n",
        "Out[1]:\n",
        "\n",
        "year                     2000    2001    2002    2003    2004  ...    2009    2010    2011    2012    2013\n",
        "country     city                                               ...                                        \n",
        "Afghanistan Kabul      15.823  15.848  15.715  15.133  16.128  ...  15.093  15.676  15.812  14.510  16.206\n",
        "Angola      Luanda     24.410  24.427  24.791  24.867  24.216  ...  24.325  24.440  24.151  24.240  24.554\n",
        "Australia   Melbourne  14.320  14.180  14.076  13.986  13.742  ...  14.647  14.232  14.191  14.269  14.742\n",
        "            Sydney     17.567  17.855  17.734  17.592  17.870  ...  18.176  17.999  17.713  17.474  18.090\n",
        "Bangladesh  Dhaka      25.905  25.931  26.095  25.927  26.136  ...  26.536  26.648  25.803  26.284  26.587\n",
        "\n",
        "[5 rows x 14 columns]"
      ],
      "execution_count": null,
      "outputs": []
    },
    {
      "cell_type": "code",
      "metadata": {
        "id": "YEZkQjx4v7iF"
      },
      "source": [
        "# Get the worldwide mean temp by year\n",
        "mean_temp_by_year = temp_by_country_city_vs_year.mean(axis=\"index\")\n",
        "\n",
        "# Filter for the year that had the highest mean temp\n",
        "print(mean_temp_by_year[mean_temp_by_year == mean_temp_by_year.max()])\n",
        "\n",
        "# Get the mean temp by city\n",
        "mean_temp_by_city = temp_by_country_city_vs_year.mean(axis=\"columns\")\n",
        "\n",
        "# Filter for the city that had the lowest mean temp\n",
        "print(mean_temp_by_city[mean_temp_by_city == mean_temp_by_city.min()])\n",
        "\n",
        "'''\n",
        "<script.py> output:\n",
        "    year\n",
        "    2013    20.312\n",
        "    dtype: float64\n",
        "    country  city  \n",
        "    China    Harbin    4.877\n",
        "    dtype: float64\n",
        "'''"
      ],
      "execution_count": null,
      "outputs": []
    },
    {
      "cell_type": "markdown",
      "metadata": {
        "id": "jeHNAXq_0G8w"
      },
      "source": [
        "Conclusion\n",
        "\n",
        "Classy calculating! With an average temperature just above freezing, Harbin is famous for its ice sculpture festival."
      ]
    }
  ]
}