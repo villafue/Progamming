{
  "nbformat": 4,
  "nbformat_minor": 0,
  "metadata": {
    "colab": {
      "name": "3 Slicing and Indexingipynb",
      "provenance": [],
      "authorship_tag": "ABX9TyOXoBzUz0ZX/A9i9M9gTyUP",
      "include_colab_link": true
    },
    "kernelspec": {
      "name": "python3",
      "display_name": "Python 3"
    },
    "language_info": {
      "name": "python"
    }
  },
  "cells": [
    {
      "cell_type": "markdown",
      "metadata": {
        "id": "view-in-github",
        "colab_type": "text"
      },
      "source": [
        "<a href=\"https://colab.research.google.com/github/villafue/Progamming/blob/main/Python/Tutorial/Pandas/Data%20Manipulation%20with%20pandas/3%20Slicing%20and%20Indexing/3_Slicing_and_Indexingipynb.ipynb\" target=\"_parent\"><img src=\"https://colab.research.google.com/assets/colab-badge.svg\" alt=\"Open In Colab\"/></a>"
      ]
    },
    {
      "cell_type": "markdown",
      "metadata": {
        "id": "UivvpwsXB3Et"
      },
      "source": [
        "Slicing and Indexing\n",
        "\n",
        "Indexes are supercharged row and column names. Learn how they can be combined with slicing for powerful DataFrame subsetting."
      ]
    },
    {
      "cell_type": "code",
      "metadata": {
        "id": "l0R0ByFfBwVi"
      },
      "source": [
        ""
      ],
      "execution_count": null,
      "outputs": []
    }
  ]
}