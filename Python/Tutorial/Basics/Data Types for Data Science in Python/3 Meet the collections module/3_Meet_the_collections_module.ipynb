{
  "nbformat": 4,
  "nbformat_minor": 0,
  "metadata": {
    "colab": {
      "name": "3 Meet the collections module.ipynb",
      "provenance": [],
      "authorship_tag": "ABX9TyMomKW3lVkkaLWZKIy33w/Q",
      "include_colab_link": true
    },
    "kernelspec": {
      "name": "python3",
      "display_name": "Python 3"
    },
    "language_info": {
      "name": "python"
    }
  },
  "cells": [
    {
      "cell_type": "markdown",
      "metadata": {
        "id": "view-in-github",
        "colab_type": "text"
      },
      "source": [
        "<a href=\"https://colab.research.google.com/github/villafue/Progamming/blob/main/Python/Tutorial/Basics/Data%20Types%20for%20Data%20Science%20in%20Python/3%20Meet%20the%20collections%20module/3_Meet_the_collections_module.ipynb\" target=\"_parent\"><img src=\"https://colab.research.google.com/assets/colab-badge.svg\" alt=\"Open In Colab\"/></a>"
      ]
    },
    {
      "cell_type": "markdown",
      "metadata": {
        "id": "QvkTFoLEqjdK"
      },
      "source": [
        "# Meet the collections module\n",
        "\n",
        "The collections module is part of Python's standard library and holds some more advanced data containers. You'll learn how to use the Counter, defaultdict, OrderedDict and namedtuple in the context of answering questions about the Chicago transit dataset."
      ]
    },
    {
      "cell_type": "markdown",
      "metadata": {
        "id": "5sxlm0XZq-uL"
      },
      "source": [
        "# Counting made easy\n",
        "\n",
        "1. Counting made easy\n",
        "\n",
        "As a data scientist, we're often going to need to count items, create dictionaries values before we know keys to store them in, or maintain order in a dictionary.\n",
        "2. Collections Module\n",
        "\n",
        "The collections module is part of Python standard library and holds several more advanced data containers which solve these problems and more. Let's start our tour of the collection module by learning about Counter.\n",
        "3. Counter\n",
        "\n",
        "Counter is a powerful python object based on the dictionary object that accepts a list and counts the number of times a value is found within the elements of that list. Since it's based on a dictionary, you can use all the normal dictionary features. Here, I have an list named nyc_eatery_types that contains one column of data called type from a table about eateries in NYC parks. I create a new Counter based on that list and print it. You can see each type from list and the number of times it was found in the list. I can also see how many restaurants are in the counter by using Restaurant as the index and printing it. Counters also provide a wonderful way to find the high values they contain.\n",
        "4. Counter to find the most common\n",
        "\n",
        "The most_common() method on a Counter returns a list of tuples containing the items and their count in descending order. Here I'm printing the top 3 eatery types in the NYC park system with the most_common method and passing it 3 as the number items to return. most_common() is great for frequency analytics, how often something occurs, a problem I encounter often when working on data science problems. Now it's your turn.\n",
        "5. Let's practice!"
      ]
    },
    {
      "cell_type": "markdown",
      "metadata": {
        "id": "yqDbRtzj1wac"
      },
      "source": [
        "# Using Counter on lists\n",
        "\n",
        "Counter is a powerful tool for counting, validating, and learning more about the elements within a dataset that is found in the collections module. You pass an iterable (list, set, tuple) or a dictionary to the Counter. You can also use the Counter object similarly to a dictionary with key/value assignment, for example counter[key] = value.\n",
        "\n",
        "A common usage for Counter is checking data for consistency prior to using it, so let's do just that. In this exercise, you'll be using data from the Chicago Transit Authority on ridership.\n",
        "\n",
        "Instructions\n",
        "\n",
        "1. Import the Counter object from collections.\n",
        "\n",
        "2. Print the first ten items from the stations list.\n",
        "\n",
        "3. Create a Counter of the stations list called station_count.\n",
        "\n",
        "4. Print the station_count.\n",
        "\n",
        "Hint\n",
        "\n",
        "1.  Use the command from y import x to import x from y.\n",
        "\n",
        "2. Use list slicing to select the first 10 items of stations. Be sure to place it inside a print() function.\n",
        "\n",
        "3. Use Counter() with stations as an argument to create station_count.\n"
      ]
    },
    {
      "cell_type": "code",
      "metadata": {
        "id": "P-8B9n0GqZIS"
      },
      "source": [
        "# Import the Counter object\n",
        "from collections import Counter\n",
        "\n",
        "# Print the first ten items from the stations list\n",
        "print(stations[:10])\n",
        "\n",
        "# Create a Counter of the stations list: station_count\n",
        "station_count = Counter(stations)\n",
        "\n",
        "# Print the station_count\n",
        "print(station_count)\n",
        "\n",
        "'''\n",
        "<script.py> output:\n",
        "    ['stationname', 'Austin-Forest Park', 'Austin-Forest Park', 'Austin-Forest Park', 'Austin-Forest Park', 'Austin-Forest Park', 'Austin-Forest Park', 'Austin-Forest Park', 'Austin-Forest Park', 'Austin-Forest Park']\n",
        "    Counter({'Howard': 700, \"Irving Park-O'Hare\": 700, 'California-Lake': 700, 'Loyola': 700, 'Harlem-Lake': 700, 'Ashland-Lake': 700, 'Conservatory': 700, '79th': 700, 'Cumberland': 700, 'Damen/Milwaukee': 700, 'California/Milwaukee': 700, 'Granville': 700, 'Kostner': 700, '47th-Dan Ryan': 700, 'Sedgwick': 700, 'Pulaski-Forest Park': 700, 'Grand/State': 700, '54th/Cermak': 700, 'State/Lake': 700, 'Jarvis': 700, 'Fullerton': 700, 'Cicero-Cermak': 700, 'Indiana': 700, 'Main': 700, 'Rosemont': 700, 'Harlem-Forest Park': 700, 'Garfield-South Elevated': 700, 'Midway Airport': 700, 'Clinton-Lake': 700, 'Monroe/State': 700, 'Forest Park': 700, 'Central Park': 700, 'Logan Square': 700, 'Lake/State': 700, 'Halsted-Orange': 700, 'Francisco': 700, 'Dempster-Skokie': 700, 'Jefferson Park': 700, 'Medical Center': 700, 'Clark/Lake': 700, 'Kedzie-Cermak': 700, 'LaSalle/Van Buren': 700, 'Ashland-Orange': 700, \"Harlem-O'Hare\": 700, 'Bryn Mawr': 700, 'Montrose-Brown': 700, 'Western/Milwaukee': 700, 'Chicago/State': 700, 'Dempster': 700, 'Morse': 700, '35th/Archer': 700, 'Washington/Dearborn': 700, 'King Drive': 700, 'Chicago/Franklin': 700, 'Addison-North Main': 700, 'Wilson': 700, 'Austin-Lake': 700, 'Grand/Milwaukee': 700, 'Garfield-Dan Ryan': 700, 'Kedzie-Homan-Forest Park': 700, \"Addison-O'Hare\": 700, '35-Bronzeville-IIT': 700, 'Halsted/63rd': 700, 'Pulaski-Cermak': 700, 'Oak Park-Forest Park': 700, 'Damen-Brown': 700, 'Morgan-Lake': 700, 'Damen-Cermak': 700, 'Clark/Division': 700, 'East 63rd-Cottage Grove': 700, 'Kimball': 700, 'Madison/Wabash': 700, 'Ashland/63rd': 700, '18th': 700, '43rd': 700, '87th': 700, 'Cicero-Forest Park': 700, 'Berwyn': 700, 'Central-Evanston': 700, 'Jackson/Dearborn': 700, 'Racine': 700, 'Austin-Forest Park': 700, 'Merchandise Mart': 700, 'Adams/Wabash': 700, 'Lawrence': 700, 'Rockwell': 700, 'Cermak-Chinatown': 700, 'Pulaski-Orange': 700, 'Randolph/Wabash': 700, 'LaSalle': 700, '95th/Dan Ryan': 700, \"Montrose-O'Hare\": 700, 'Harrison': 700, 'Paulina': 700, 'California-Cermak': 700, 'Pulaski-Lake': 700, 'Washington/Wells': 700, 'Sox-35th-Dan Ryan': 700, \"O'Hare Airport\": 700, 'Clinton-Forest Park': 700, 'Western-Brown': 700, 'Addison-Brown': 700, 'South Boulevard': 700, 'Belmont-North Main': 700, 'Western-Orange': 700, '69th': 700, 'Polk': 700, 'Laramie': 700, 'Davis': 700, 'Monroe/Dearborn': 700, 'Wellington': 700, 'Division/Milwaukee': 700, 'Southport': 700, 'Oak Park-Lake': 700, 'Quincy/Wells': 700, 'Cicero-Lake': 700, 'Cermak-McCormick Place': 700, '51st': 700, 'Armitage': 700, 'Western-Forest Park': 700, 'Library': 700, 'North/Clybourn': 700, 'UIC-Halsted': 700, 'Thorndale': 700, 'Western-Cermak': 700, 'Kedzie-Midway': 700, 'Linden': 700, '47th-South Elevated': 700, 'Chicago/Milwaukee': 700, 'Noyes': 700, 'Kedzie-Lake': 700, 'Oakton-Skokie': 700, \"Belmont-O'Hare\": 700, 'Jackson/State': 700, 'Foster': 700, 'Central-Lake': 700, 'Roosevelt': 700, 'Irving Park-Brown': 700, 'Kedzie-Brown': 700, '63rd-Dan Ryan': 700, 'Argyle': 700, 'Sheridan': 700, 'Diversey': 700, 'Ridgeland': 700, 'stationname': 1})\n",
        "'''"
      ],
      "execution_count": null,
      "outputs": []
    },
    {
      "cell_type": "markdown",
      "metadata": {
        "id": "Ujll_Rvi5pKb"
      },
      "source": [
        "# Finding most common elements\n",
        "\n",
        "Another powerful usage of Counter is finding the most common elements in a list. This can be done with the .most_common() method.\n",
        "\n",
        "Practice using this now to find the most common stations in a stations list.\n",
        "\n",
        "Instructions\n",
        "\n",
        "1. Import the Counter object from collections.\n",
        "\n",
        "2. Create a Counter of the stations list called station_count.\n",
        "\n",
        "3. Print the 5 most common elements.\n"
      ]
    },
    {
      "cell_type": "code",
      "metadata": {
        "id": "jAlFhYwJ5pEQ"
      },
      "source": [
        "# Import the Counter object\n",
        "from collections import Counter\n",
        "\n",
        "# Create a Counter of the stations list: station_count\n",
        "station_count = Counter(stations)\n",
        "\n",
        "# Find the 5 most common elements\n",
        "print(station_count.most_common(5))\n",
        "\n",
        "'''\n",
        "<script.py> output:\n",
        "    [('Howard', 102), ('Cumberland', 102), ('Kostner', 102), ('Indiana', 102), ('Rosemont', 102)]\n",
        "'''"
      ],
      "execution_count": null,
      "outputs": []
    },
    {
      "cell_type": "markdown",
      "metadata": {
        "id": "YJ7QN5Ny-fgo"
      },
      "source": [
        "# Dictionaries of unknown structure - Defaultdict\n",
        "\n",
        "1. Dictionaries of unknown structure - defaultdict\n",
        "\n",
        "Often, we'll be working with data were we don't know all the keys that will be used, but we want to store a complex structure under those keys. A good example is I want every key to have a list of values. I'd have to initialize every key with an empty list then add the values to the list. Here is an example of just that.\n",
        "2. Dictionary Handling\n",
        "\n",
        "You can I start by looping over a list of tuples with the park's id and the name of the eatery. Then I check to see if I have a list for that part already in my dictionary. If not I create an empty list. Next, I append the name of the eatery to the list for that park id. Thankfully, collections provides an easier way using defaultdict.\n",
        "3. Using defaultdict\n",
        "\n",
        "Defaultdict accepts a type that every value will default to if the key is not present in the dictionary. You can override that type by setting the key manually to a value of different type. Still working with the NYC Parks eatery data, I have a list of tuples that contain the park id and the name of an eatery. I want to create a list of eateries by park. I begin by importing defaultdict from collections. Next, I create a defaultdict that defaults to a list. Next I iterate over my data and unpack it into the park_id and name. I append each eatery name into list for each park id. Finally, I print the eateries in the park with the ID os M010, which if you are curious is Central Park. Let's look at another example.\n",
        "4. defaultdict (cont.)\n",
        "\n",
        "It's also common to use a defaultdict as a type of counter for a list if dictionaries where we are counting multiple keys from those dictionaries. In our NYC park eateries, I was curious how many had a published phone number or a website. This time when creating my defaultdict, I tell it I want it to be an int. Then I look over my nyc_eateries data and add 1 to the phones key on my defaultdict if it has a phone number that is not None. Then I add 1 to the websites key if it has a website. Finally, I print my defaultdict to see the counts. Let's go practice.\n",
        "5. Let's practice!"
      ]
    },
    {
      "cell_type": "markdown",
      "metadata": {
        "id": "hLgQe7gQ_2sW"
      },
      "source": [
        "# Creating dictionaries of an unknown structure\n",
        "\n",
        "Occasionally, you'll need a structure to hold nested data, and you may not be certain that the keys will all actually exist. This can be an issue if you're trying to append items to a list for that key. You might remember the NYC data that we explored in the video. In order to solve the problem with a regular dictionary, you'll need to test that the key exists in the dictionary, and if not, add it with an empty list.\n",
        "\n",
        "You'll be working with a list of entries that contains ridership details on the Chicago transit system. You're going to solve this same type of problem with a much easier solution in the next exercise.\n",
        "\n",
        "Instructions\n",
        "\n",
        "1. Create an empty dictionary called ridership.\n",
        "\n",
        "2. Iterate over entries, unpacking it into the variables date, stop, and riders.\n",
        "\n",
        "3. Check to see if the date already exists in the ridership dictionary. If it does not exist, create an empty list for the date key.\n",
        "\n",
        "4. Append a tuple consisting of stop and riders to the date key of the ridership dictionary.\n",
        "\n",
        "5. Print the ridership for '03/09/2016'.\n",
        "\n",
        "Hint\n",
        "\n",
        "1. You can create an empty dictionary using either dict() or {}.\n",
        "\n",
        "2. entries is a tuple consisting of 3 elements. If you had a tuple consisting of two elements, you could unpack it into a and b using a for loop like so: for a, b in tuple.\n",
        "\n",
        "3. You need to create an empty list if date is not in ridership.\n",
        "\n",
        "4. Use the .append() method on ridership[date] with the a tuple consisting of stop and riders.\n",
        "\n",
        "5. You should pass in the date as a key to the ridership dictionary to find out the ridership on that date.\n",
        "\n"
      ]
    },
    {
      "cell_type": "code",
      "metadata": {
        "id": "4FYNSh4wA_lv"
      },
      "source": [
        "In [3]:\n",
        "entries[:10]\n",
        "Out[3]:\n",
        "\n",
        "[('01/01/2015', 'Austin-Forest Park', '587'),\n",
        " ('01/02/2015', 'Austin-Forest Park', '1386'),\n",
        " ('01/03/2015', 'Austin-Forest Park', '785'),\n",
        " ('01/04/2015', 'Austin-Forest Park', '625'),\n",
        " ('01/05/2015', 'Austin-Forest Park', '1752'),\n",
        " ('01/06/2015', 'Austin-Forest Park', '1777'),\n",
        " ('01/07/2015', 'Austin-Forest Park', '1269'),\n",
        " ('01/08/2015', 'Austin-Forest Park', '1435'),\n",
        " ('01/09/2015', 'Austin-Forest Park', '1631'),\n",
        " ('01/10/2015', 'Austin-Forest Park', '771')]"
      ],
      "execution_count": null,
      "outputs": []
    },
    {
      "cell_type": "code",
      "metadata": {
        "id": "YCJr_RWXC6eG"
      },
      "source": [
        "# Create an empty dictionary: ridership\n",
        "ridership = {}\n",
        "\n",
        "# Iterate over the entries\n",
        "for date, stop, riders in entries:\n",
        "    # Check to see if date is already in the ridership dictionary\n",
        "    if date not in ridership:\n",
        "        # Create an empty list for any missing date\n",
        "        ridership[date] = []\n",
        "    # Append the stop and riders as a tuple to the date keys list\n",
        "    ridership[date].append((stop, riders))\n",
        "    \n",
        "# Print the ridership for '03/09/2016'\n",
        "print(ridership['03/09/2016'])\n",
        "\n",
        "'''\n",
        "<script.py> output:\n",
        "    [('Austin-Forest Park', '2128'), ('Harlem-Lake', '3769'), ('Pulaski-Lake', '1502'), ('Quincy/Wells', '8139'), ('Davis', '3656'), (\"Belmont-O'Hare\", '5294'), ('Jackson/Dearborn', '8369'), ('Sheridan', '5823'), ('Damen-Brown', '3048'), ('Morse', '4826'), ('35th/Archer', '3450'), ('51st', '1033'), ('Dempster-Skokie', '1697'), ('Pulaski-Cermak', '1259'), ('LaSalle/Van Buren', '3104'), ('Ashland-Lake', '2486'), ('Oak Park-Forest Park', '1882'), ('Sox-35th-Dan Ryan', '4967'), ('Randolph/Wabash', '9659'), ('Damen-Cermak', '1572'), ('Western-Forest Park', '1819'), ('Cumberland', '4589'), ('79th', '7476'), ('Kedzie-Homan-Forest Park', '2256'), ('State/Lake', '10594'), ('Main', '1129'), ('Central-Lake', '2145'), ('Ashland/63rd', '1302'), ('Indiana', '919'), ('Western-Orange', '3958'), ('Division/Milwaukee', '6580'), ('Grand/State', '10949'), ('Berwyn', '3539'), ('UIC-Halsted', '7523'), ('Southport', '3467'), ('Washington/Dearborn', '12365'), ('Clark/Lake', '21640'), ('Forest Park', '3636'), ('Noyes', '941'), ('Cicero-Cermak', '1271'), ('Clinton-Forest Park', '4016'), ('California-Cermak', '1627'), ('95th/Dan Ryan', '11509'), ('Merchandise Mart', '8345'), ('Racine', '2598'), ('Cicero-Lake', '1485'), ('Grand/Milwaukee', '2851'), ('Garfield-South Elevated', '1413'), ('Foster', '963'), ('Diversey', '5771'), ('Wilson', '6470'), (\"Irving Park-O'Hare\", '4808'), ('Jackson/State', '12445'), ('California/Milwaukee', '5413'), ('54th/Cermak', '2170'), ('Damen/Milwaukee', '7022'), ('Kostner', '556'), ('Ridgeland', '1353'), ('Clark/Division', '8216'), ('Madison/Wabash', '0'), ('North/Clybourn', '6360'), ('Armitage', '4575'), ('Western/Milwaukee', '5511'), ('Adams/Wabash', '9666'), ('Dempster', '788'), ('Laramie', '1328'), ('Chicago/Franklin', '6868'), ('East 63rd-Cottage Grove', '1135'), ('Washington/Wells', '8267'), ('Western-Cermak', '1182'), (\"Harlem-O'Hare\", '3202'), ('Granville', '3762'), ('Lawrence', '3355'), ('Central Park', '1342'), ('Monroe/Dearborn', '7972'), ('Sedgwick', '4004'), ('Medical Center', '3581'), ('Rosemont', '6101'), ('18th', '2028'), ('South Boulevard', '813'), ('Library', '4127'), ('Francisco', '1617'), ('Thorndale', '3355'), (\"O'Hare Airport\", '9742'), ('Howard', '5935'), ('63rd-Dan Ryan', '3500'), ('Pulaski-Forest Park', '2110'), ('Midway Airport', '8698'), ('Halsted/63rd', '839'), ('Pulaski-Orange', '5663'), ('Cicero-Forest Park', '1475'), ('Harlem-Forest Park', '1185'), ('69th', '5790'), ('Cermak-Chinatown', '4312'), ('Rockwell', '1996'), ('Logan Square', '7536'), ('Polk', '3750'), ('Kedzie-Cermak', '1181'), ('Linden', '817'), ('Ashland-Orange', '1637'), ('Kedzie-Lake', '1753'), ('47th-South Elevated', '1347'), ('Monroe/State', '11264'), ('35-Bronzeville-IIT', '1901'), ('Halsted-Orange', '3162'), ('King Drive', '651'), ('Kedzie-Midway', '3552'), ('Clinton-Lake', '4278'), ('Garfield-Dan Ryan', '3676'), ('Kedzie-Brown', '2039'), ('Jarvis', '1817'), ('Argyle', '3152'), ('Wellington', '3242'), ('Fullerton', '15150'), ('47th-Dan Ryan', '3331'), (\"Addison-O'Hare\", '3563'), ('Central-Evanston', '802'), ('Austin-Lake', '1994'), ('43rd', '1090'), ('Jefferson Park', '7112'), ('Kimball', '4236'), ('Loyola', '4712'), ('Paulina', '2895'), ('Belmont-North Main', '12936'), (\"Montrose-O'Hare\", '2529'), ('LaSalle', '3556'), ('Oak Park-Lake', '1561'), ('California-Lake', '1125'), ('Bryn Mawr', '4888'), ('Roosevelt', '11055'), ('Chicago/Milwaukee', '4605'), ('Addison-North Main', '6719'), ('87th', '4473'), ('Addison-Brown', '2754'), ('Chicago/State', '13946'), ('Irving Park-Brown', '3268'), ('Western-Brown', '4273'), ('Harrison', '4750'), ('Montrose-Brown', '2875'), ('Morgan-Lake', '2700'), ('Lake/State', '21708'), ('Conservatory', '999'), ('Oakton-Skokie', '839'), ('Cermak-McCormick Place', '1208')]\n",
        "'''"
      ],
      "execution_count": null,
      "outputs": []
    },
    {
      "cell_type": "markdown",
      "metadata": {
        "id": "0o6f0RQDDApN"
      },
      "source": [
        "Conclusion\n",
        "\n",
        "Nicely done! In the next exercise, you'll practice creating a defaultdict and see how useful it can be."
      ]
    },
    {
      "cell_type": "markdown",
      "metadata": {
        "id": "93IsTVlMDPjw"
      },
      "source": [
        "# Safely appending to a key's value list\n",
        "\n",
        "Often when working with dictionaries, you will need to initialize a data type before you can use it. A prime example of this is a list, which has to be initialized on each key before you can append to that list.\n",
        "\n",
        "A defaultdict allows you to define what each uninitialized key will contain. When establishing a defaultdict, you pass it the type you want it to be, such as a list, tuple, set, int, string, dictionary or any other valid type object.\n",
        "\n",
        "Instructions\n",
        "\n",
        "1. Import defaultdict from collections.\n",
        "\n",
        "2. Create a defaultdict with a default type of list called ridership.\n",
        "\n",
        "3. Iterate over the list entries, unpacking it into the variables date, stop, and riders, exactly as you did in the previous exercise.\n",
        "\n",
        " * Use stop as the key of the ridership dictionary and append riders to its value.\n",
        "\n",
        "4. Print the first 10 items of the ridership dictionary. You can use the .items() method for this. Remember, you have to convert ridership.items() to a list before slicing.\n",
        "\n"
      ]
    },
    {
      "cell_type": "code",
      "metadata": {
        "id": "rvq_rFepEKw5"
      },
      "source": [
        "# Import defaultdict\n",
        "from collections import defaultdict\n",
        "\n",
        "# Create a defaultdict with a default type of list: ridership\n",
        "ridership = defaultdict(list)\n",
        "\n",
        "# Iterate over the entries\n",
        "for date, stop, riders in entries:\n",
        "    # Use the stop as the key of ridership and append the riders to its value\n",
        "    ridership[stop].append(riders)\n",
        "    \n",
        "# Print the first 10 items of the ridership dictionary\n",
        "print(list(ridership.items())[:10])\n",
        "\n",
        "'''\n",
        "<script.py> output:\n",
        "    [('Washington/Dearborn', ['3466', '8346', '3948', '3013', '10436', '10660', ...])]\n",
        "'''"
      ],
      "execution_count": null,
      "outputs": []
    },
    {
      "cell_type": "markdown",
      "metadata": {
        "id": "Ne_WHwzBEn-n"
      },
      "source": [
        "# Maintaining Dictionary Order with OrderedDict\n",
        "\n",
        "1. Maintaining Dictionary Order with OrderedDict\n",
        "\n",
        "Often we want to store data in the dictionary in an ordered fashion. For example, I might want to store the data in order by date, or by a ranking.\n",
        "2. Order in Python dictionaries\n",
        "\n",
        "Normal dictionaries don't maintain order of the keys that you insert into them in versions of Python below 3-point-6. Recently in Python 3-point-6 they started storing dictionary order. However, the collections module provides an OrderedDict that maintains the order that keys and values as they were added to the dictionary without regard for the Python version. You might remember this from our video using the CSV dictreader which returned each row as an OrderedDict. Let's take a look at an example using an OrderedDict.\n",
        "3. Getting started with OrderedDict\n",
        "\n",
        "We begin by importing OrderedDict from collections. Next, I create an OrderedDict to hold the NYC Park data by permit end date. Then I loop over the NYC park eateries which are ordered by permit end date already and add them to the OrderedDict by that date. Finally, I can print the first three permit end dates by making a list of the items and slicing it.\n",
        "4. OrderedDict power feature\n",
        "\n",
        "Using the OrderedDict from the previous example, I use popitem() and get the permit that expires the latest, a second popitem() returns the next latest expiration. Finally, I can pop the lowest end date in the dictionary by using popitem last equals False here. Your turn to experiment with an OrderedDict. Let's do some work with OrderedDicts.\n",
        "5. OrderedDict power feature (2)\n",
        "\n",
        "6. Let's practice!"
      ]
    },
    {
      "cell_type": "markdown",
      "metadata": {
        "id": "TEfLjrosF9B7"
      },
      "source": [
        "# Working with OrderedDictionaries\n",
        "\n",
        "Recently in Python 3.6, dictionaries were made to maintain the order in which the keys were inserted; however, in all versions prior to that you need to use an OrderedDict to maintain insertion order.\n",
        "\n",
        "Let's create a dictionary of all the stop times by route and rider, then use it to find the ridership throughout the day.\n",
        "\n",
        "Instructions\n",
        "\n",
        "1. Import OrderedDict from collections.\n",
        "\n",
        "2. Create an OrderedDict called ridership_date.\n",
        "\n",
        "3. Iterate over the list entries, unpacking it into date and riders.\n",
        "\n",
        "4. If a key does not exist in ridership_date for the date, set it equal to 0 (if only you could use defaultdict here!)\n",
        "\n",
        "5. Add riders to the date key of ridership_date.\n",
        "\n",
        "6. Print the first 31 records. Remember to convert the items into a list.\n"
      ]
    },
    {
      "cell_type": "code",
      "metadata": {
        "id": "YHHp4KlzGbHM"
      },
      "source": [
        "In [3]:\n",
        "entries[:10]\n",
        "Out[3]:\n",
        "\n",
        "[('01/01/2015', 587),\n",
        " ('01/02/2015', 1386),\n",
        " ('01/03/2015', 785),\n",
        " ('01/04/2015', 625),\n",
        " ('01/05/2015', 1752),\n",
        " ('01/06/2015', 1777),\n",
        " ('01/07/2015', 1269),\n",
        " ('01/08/2015', 1435),\n",
        " ('01/09/2015', 1631),\n",
        " ('01/10/2015', 771)]"
      ],
      "execution_count": null,
      "outputs": []
    },
    {
      "cell_type": "code",
      "metadata": {
        "id": "lTYca3J6Hrw1"
      },
      "source": [
        "# Import OrderedDict from collections\n",
        "from collections import OrderedDict\n",
        "\n",
        "# Create an OrderedDict called: ridership_date\n",
        "ridership_date = OrderedDict()\n",
        "\n",
        "# Iterate over the entries\n",
        "for date, riders in entries:\n",
        "    # If a key does not exist in ridership_date, set it to 0\n",
        "    if date not in ridership_date:\n",
        "        ridership_date[date] = 0\n",
        "        \n",
        "    # Add riders to the date key in ridership_date\n",
        "    ridership_date[date] += riders\n",
        "    \n",
        "# Print the first 31 records\n",
        "print(list(ridership_date.items())[:31])\n",
        "\n",
        "'''\n",
        "<script.py> output:\n",
        "    [('01/01/2015', 233956), ('01/02/2015', 432144), ('01/03/2015', 273207), ('01/04/2015', 217632), ('01/05/2015', 538868), ('01/06/2015', 556918), ('01/07/2015', 416984), ('01/08/2015', 475074), ('01/09/2015', 524144), ('01/10/2015', 282850), ('01/11/2015', 227240), ('01/12/2015', 605068), ('01/13/2015', 609226), ('01/14/2015', 608109), ('01/15/2015', 622792), ('01/16/2015', 612833), ('01/17/2015', 335555), ('01/18/2015', 244490), ('01/19/2015', 411497), ('01/20/2015', 618377), ('01/21/2015', 619945), ('01/22/2015', 623914), ('01/23/2015', 612177), ('01/24/2015', 333440), ('01/25/2015', 226964), ('01/26/2015', 605287), ('01/27/2015', 626168), ('01/28/2015', 625531), ('01/29/2015', 622695), ('01/30/2015', 618395), ('01/31/2015', 337018)]\n",
        "'''"
      ],
      "execution_count": null,
      "outputs": []
    },
    {
      "cell_type": "markdown",
      "metadata": {
        "id": "NpkWsfUHH1Pz"
      },
      "source": [
        "Conclusion\n",
        "\n",
        "Great work using the OrderedDict! Do you see any interesting patterns in the ridership in January 2015?"
      ]
    },
    {
      "cell_type": "markdown",
      "metadata": {
        "id": "a6BGHG47H66v"
      },
      "source": [
        "# Powerful Ordered popping\n",
        "\n",
        "Where OrderedDicts really shine is when you need to access the data in the dictionary in the order you added it. OrderedDict has a .popitem() method that will return items in reverse of which they were inserted. You can also pass .popitem() the last=False keyword argument and go through the items in the order of how they were added.\n",
        "\n",
        "Here, you'll use the ridership_date OrderedDict you created in the previous exercise.\n",
        "\n",
        "Instructions\n",
        "\n",
        "1. Print the first key in ridership_date (Remember to make keys a list before slicing).\n",
        "\n",
        "2. Pop the first item from ridership_date and print it.\n",
        "\n",
        "3. Print the last key in ridership_date.\n",
        "\n",
        "4. Pop the last item from ridership_date and print it.\n"
      ]
    },
    {
      "cell_type": "code",
      "metadata": {
        "id": "XkKqEGthIdiX"
      },
      "source": [
        "In [2]:\n",
        "list(ridership_date.items())[:10]\n",
        "Out[2]:\n",
        "\n",
        "[('01/01/2015', 233956),\n",
        " ('01/02/2015', 432144),\n",
        " ('01/03/2015', 273207),\n",
        " ('01/04/2015', 217632),\n",
        " ('01/05/2015', 538868),\n",
        " ('01/06/2015', 556918),\n",
        " ('01/07/2015', 416984),\n",
        " ('01/08/2015', 475074),\n",
        " ('01/09/2015', 524144),\n",
        " ('01/10/2015', 282850)]"
      ],
      "execution_count": null,
      "outputs": []
    },
    {
      "cell_type": "code",
      "metadata": {
        "id": "2HakUM7FIekp"
      },
      "source": [
        "# Print the first key in ridership_date\n",
        "print(list(ridership_date.keys())[0])\n",
        "\n",
        "# Pop the first item from ridership_date and print it\n",
        "print(ridership_date.popitem(last=False))\n",
        "\n",
        "# Print the last key in ridership_date\n",
        "print(list(ridership_date.keys())[-1])\n",
        "\n",
        "# Pop the last item from ridership_date and print it\n",
        "print(ridership_date.popitem())\n",
        "\n",
        "'''\n",
        "<script.py> output:\n",
        "    01/01/2015\n",
        "    ('01/01/2015', 233956)\n",
        "    11/30/2016\n",
        "    ('11/30/2016', 631904)\n",
        "'''"
      ],
      "execution_count": null,
      "outputs": []
    },
    {
      "cell_type": "markdown",
      "metadata": {
        "id": "6nm1WIW_Joih"
      },
      "source": [
        "# What do you mean I don't have any class? Namedtuple\n",
        "\n",
        "1. namedtuple\n",
        "\n",
        "Often times when working with data, you will use a dictionary just so you can use key names to make reading the code and accessing the data easier to understand.\n",
        "2. What is a namedtuple?\n",
        "\n",
        "Python has another container called a namedtuple which is a tuple, but has names for each position of the tuple. This works well when you don't need the nested structure of a dictionary or desire each item to look identical, and don't want to add the overhead of a Pandas dataframe.\n",
        "3. Creating a namedtuple\n",
        "\n",
        "You create a namedtuple by passing a name for the tuple type and a list of field names. Let's begin by importing namedtuple from the collections module. Next we'll define our namedtuple. It's common practice to use Pascalcase (capitalizing each word) when naming namedtuples so hear I've used Eatery with a capital E for both the tuple name and the variable we stored the namedtuple as. Then we provide a list of fields we want on the nametuple. Now we can create our Eatery named tuples. I'm going to change our NYC Park eateries data into a list of namedtuples. I create an empty list then iterate over my nyc_eateries list creating an instance of my Eatery namedtuple by passing in the data from the loop as the arguments to my namedtuple.\n",
        "4. Print the first element\n",
        "\n",
        "Finally, let's print the first Eatery in the list. Now that we've got a list of named tuples let's see how we can use them.\n",
        "5. Leveraging namedtuples\n",
        "\n",
        "One of the great things about named tuples is that they can make code clearer because each field is available an as attribute. An attribute is basically a named field or data storage location. We can also depend on every instance of a namedtuple to have all the fields, although some might be empty or None in Python terms. This means we can always have safe access to a field without the need for a get method like a dictionary. Here I'm going to use the list of tuples we created in the prior slide, and print the name, park_id, and location for the first three entries in the list. Now it's your turn to practice.\n",
        "6. Let's practice!"
      ]
    },
    {
      "cell_type": "markdown",
      "metadata": {
        "id": "PQU90UDXMO0s"
      },
      "source": [
        "# Creating namedtuples for storing data\n",
        "\n",
        "Often times when working with data, you will use a dictionary just so you can use key names to make reading the code and accessing the data easier to understand. Python has another container called a namedtuple that is a tuple, but has names for each position of the tuple. You create one by passing a name for the tuple type and a list of field names.\n",
        "\n",
        "For example, Cookie = namedtuple(\"Cookie\", ['name', 'quantity']) will create a container, and you can create new ones of the type using Cookie('chocolate chip', 1) where you can access the name using the name attribute, and then get the quantity using the quantity attribute.\n",
        "\n",
        "In this exercise, you're going to restructure the transit data you've been working with into namedtuples for more descriptive code.\n",
        "\n",
        "Instructions\n",
        "\n",
        "1. Import namedtuple from collections.\n",
        "\n",
        "2. Create a namedtuple called DateDetails with a type name of DateDetails and fields of 'date', 'stop', and 'riders'.\n",
        "\n",
        "3. Create a list called labeled_entries.\n",
        "\n",
        "4. Iterate over the entries list, unpacking it into date, stop, and riders.\n",
        "\n",
        "5. Create a new DateDetails namedtuple instance for each entry and append it to labeled_entries.\n",
        "\n",
        "6. Print the first 5 items in labeled_entries. This has been done for you, so hit 'Submit Answer' to see the result!\n",
        "\n",
        "Hint\n",
        "\n",
        "1. Use the command from y import x to import x from y.\n",
        "\n",
        "2. Use namedtuple() to create DateDetails. As arguments, pass in the desired name of the namedtuple and a list consisting of 'date', 'stop', and 'riders'.\n",
        "\n",
        "3. Use [] or list() to create labeled_entries.\n",
        "\n",
        "4. You can create a new namedtuple instance using DateDetails(date, stop, riders).\n",
        "\n"
      ]
    },
    {
      "cell_type": "code",
      "metadata": {
        "id": "l8LEtyZSMsYq"
      },
      "source": [
        "In [2]:\n",
        "entries[:10]\n",
        "Out[2]:\n",
        "\n",
        "[('01/01/2015', 'Austin-Forest Park', '587'),\n",
        " ('01/02/2015', 'Austin-Forest Park', '1386'),\n",
        " ('01/03/2015', 'Austin-Forest Park', '785'),\n",
        " ('01/04/2015', 'Austin-Forest Park', '625'),\n",
        " ('01/05/2015', 'Austin-Forest Park', '1752'),\n",
        " ('01/06/2015', 'Austin-Forest Park', '1777'),\n",
        " ('01/07/2015', 'Austin-Forest Park', '1269'),\n",
        " ('01/08/2015', 'Austin-Forest Park', '1435'),\n",
        " ('01/09/2015', 'Austin-Forest Park', '1631'),\n",
        " ('01/10/2015', 'Austin-Forest Park', '771')]"
      ],
      "execution_count": null,
      "outputs": []
    },
    {
      "cell_type": "code",
      "metadata": {
        "id": "pKJMILrYOxma"
      },
      "source": [
        "# Import namedtuple from collections\n",
        "from collections import namedtuple\n",
        "\n",
        "# Create the namedtuple: DateDetails\n",
        "DateDetails = namedtuple('DateDetails', ['date', 'stop', 'riders'])\n",
        "\n",
        "# Create the empty list: labeled_entries\n",
        "labeled_entries = []\n",
        "\n",
        "# Iterate over the entries list\n",
        "for date, stop, riders in entries:\n",
        "    # Append a new DateDetails namedtuple instance for each entry to labeled_entries\n",
        "    labeled_entries.append(DateDetails(date, stop, riders))\n",
        "    \n",
        "# Print the first 5 items in labeled_entries\n",
        "print(labeled_entries[:5])\n",
        "\n",
        "'''\n",
        "<script.py> output:\n",
        "    [DateDetails(date='01/01/2015', stop='Austin-Forest Park', riders='587'), DateDetails(date='01/02/2015', stop='Austin-Forest Park', riders='1386'), DateDetails(date='01/03/2015', stop='Austin-Forest Park', riders='785'), DateDetails(date='01/04/2015', stop='Austin-Forest Park', riders='625'), DateDetails(date='01/05/2015', stop='Austin-Forest Park', riders='1752')]\n",
        "'''"
      ],
      "execution_count": null,
      "outputs": []
    },
    {
      "cell_type": "markdown",
      "metadata": {
        "id": "LK4_IO8sO5U5"
      },
      "source": [
        "Conclusion\n",
        "\n",
        "Namedtuples are great for making an easy-to-use datatype. Let's look at how we can use them to make our code easier to read and reason about."
      ]
    },
    {
      "cell_type": "markdown",
      "metadata": {
        "id": "By5vBzCoPAHV"
      },
      "source": [
        "# Leveraging attributes on namedtuples\n",
        "\n",
        "Once you have a namedtuple, you can write more expressive code that is easier to understand. Remember, you can access the elements in the tuple by their name as an attribute. For example, you can access the date of the namedtuples in the previous exercise using the .date attribute.\n",
        "\n",
        "Here, you'll use the tuples you made in the previous exercise to see how this works.\n",
        "\n",
        "Instructions\n",
        "\n",
        "1. Iterate over the first twenty items in the labeled_entries list:\n",
        "\n",
        " * Print each item's stop.\n",
        "\n",
        " * Print each item's date.\n",
        "\n",
        " * Print each item's riders.\n"
      ]
    },
    {
      "cell_type": "code",
      "metadata": {
        "id": "lLU_tyh9PLyr"
      },
      "source": [
        "# Iterate over the first twenty items in labeled_entries\n",
        "for item in labeled_entries[:20]:\n",
        "    # Print each item's stop\n",
        "    print(item.stop)\n",
        "\n",
        "    # Print each item's date\n",
        "    print(item.date)\n",
        "\n",
        "    # Print each item's riders\n",
        "    print(item.riders)\n",
        "\n",
        "'''\n",
        "<script.py> output:\n",
        "    Austin-Forest Park\n",
        "    01/01/2015\n",
        "    587\n",
        "    Austin-Forest Park\n",
        "    01/02/2015\n",
        "    1386\n",
        "    Austin-Forest Park\n",
        "    01/03/2015\n",
        "    785\n",
        "    Austin-Forest Park\n",
        "    01/04/2015\n",
        "    625\n",
        "    Austin-Forest Park\n",
        "    01/05/2015\n",
        "    1752\n",
        "    Austin-Forest Park\n",
        "    01/06/2015\n",
        "    1777\n",
        "    Austin-Forest Park\n",
        "    01/07/2015\n",
        "    1269\n",
        "    Austin-Forest Park\n",
        "    01/08/2015\n",
        "    1435\n",
        "    Austin-Forest Park\n",
        "    01/09/2015\n",
        "    1631\n",
        "    Austin-Forest Park\n",
        "    01/10/2015\n",
        "    771\n",
        "    Austin-Forest Park\n",
        "    01/11/2015\n",
        "    588\n",
        "    Austin-Forest Park\n",
        "    01/12/2015\n",
        "    2065\n",
        "    Austin-Forest Park\n",
        "    01/13/2015\n",
        "    2108\n",
        "    Austin-Forest Park\n",
        "    01/14/2015\n",
        "    2012\n",
        "    Austin-Forest Park\n",
        "    01/15/2015\n",
        "    2069\n",
        "    Austin-Forest Park\n",
        "    01/16/2015\n",
        "    2003\n",
        "    Austin-Forest Park\n",
        "    01/17/2015\n",
        "    953\n",
        "    Austin-Forest Park\n",
        "    01/18/2015\n",
        "    706\n",
        "    Austin-Forest Park\n",
        "    01/19/2015\n",
        "    1216\n",
        "    Austin-Forest Park\n",
        "    01/20/2015\n",
        "    2115\n",
        "'''"
      ],
      "execution_count": null,
      "outputs": []
    },
    {
      "cell_type": "markdown",
      "metadata": {
        "id": "a7S2QhmpPj1k"
      },
      "source": [
        "Conclusion\n",
        "\n",
        "Congratulations on finishing Chapter 3! See you in Chapter 4, where you'll learn how to deal with Dates and Times in Python."
      ]
    }
  ]
}