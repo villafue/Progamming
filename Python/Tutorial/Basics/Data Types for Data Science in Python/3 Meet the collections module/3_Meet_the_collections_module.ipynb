{
  "nbformat": 4,
  "nbformat_minor": 0,
  "metadata": {
    "colab": {
      "name": "3 Meet the collections module.ipynb",
      "provenance": [],
      "authorship_tag": "ABX9TyMKjKvKCqcjzcsObZWohdQI",
      "include_colab_link": true
    },
    "kernelspec": {
      "name": "python3",
      "display_name": "Python 3"
    },
    "language_info": {
      "name": "python"
    }
  },
  "cells": [
    {
      "cell_type": "markdown",
      "metadata": {
        "id": "view-in-github",
        "colab_type": "text"
      },
      "source": [
        "<a href=\"https://colab.research.google.com/github/villafue/Progamming/blob/main/Python/Tutorial/Basics/Data%20Types%20for%20Data%20Science%20in%20Python/3%20Meet%20the%20collections%20module/3_Meet_the_collections_module.ipynb\" target=\"_parent\"><img src=\"https://colab.research.google.com/assets/colab-badge.svg\" alt=\"Open In Colab\"/></a>"
      ]
    },
    {
      "cell_type": "markdown",
      "metadata": {
        "id": "QvkTFoLEqjdK"
      },
      "source": [
        "# Meet the collections module\n",
        "\n",
        "The collections module is part of Python's standard library and holds some more advanced data containers. You'll learn how to use the Counter, defaultdict, OrderedDict and namedtuple in the context of answering questions about the Chicago transit dataset."
      ]
    },
    {
      "cell_type": "code",
      "metadata": {
        "id": "P-8B9n0GqZIS"
      },
      "source": [
        ""
      ],
      "execution_count": null,
      "outputs": []
    }
  ]
}