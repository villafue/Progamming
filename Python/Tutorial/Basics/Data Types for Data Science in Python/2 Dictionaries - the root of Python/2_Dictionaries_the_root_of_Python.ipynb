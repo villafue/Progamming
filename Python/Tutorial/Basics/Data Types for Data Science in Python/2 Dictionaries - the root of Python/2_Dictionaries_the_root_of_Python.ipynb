{
  "nbformat": 4,
  "nbformat_minor": 0,
  "metadata": {
    "colab": {
      "name": "2 Dictionaries - the root of Python.ipynb",
      "provenance": [],
      "authorship_tag": "ABX9TyP3Mo2lStsfXNOQ8YnNj1q9",
      "include_colab_link": true
    },
    "kernelspec": {
      "name": "python3",
      "display_name": "Python 3"
    },
    "language_info": {
      "name": "python"
    }
  },
  "cells": [
    {
      "cell_type": "markdown",
      "metadata": {
        "id": "view-in-github",
        "colab_type": "text"
      },
      "source": [
        "<a href=\"https://colab.research.google.com/github/villafue/Progamming/blob/main/Python/Tutorial/Basics/Data%20Types%20for%20Data%20Science%20in%20Python/2%20Dictionaries%20-%20the%20root%20of%20Python/2_Dictionaries_the_root_of_Python.ipynb\" target=\"_parent\"><img src=\"https://colab.research.google.com/assets/colab-badge.svg\" alt=\"Open In Colab\"/></a>"
      ]
    },
    {
      "cell_type": "markdown",
      "metadata": {
        "id": "KkOSVf1I0O4o"
      },
      "source": [
        "# Dictionaries - the root of Python\n",
        "\n",
        "At the root of all things Python is a dictionary. Herein, you'll learn how to use them to safely handle data that can viewed in a variety of ways to answer even more questions about the New York Baby Names dataset. You'll explore how to loop through data in a dictionary, access nested data, add new data, and come to appreciate all of the wonderful capabilities of Python dictionaries."
      ]
    },
    {
      "cell_type": "markdown",
      "metadata": {
        "id": "RVutlZjy0jpL"
      },
      "source": [
        "# Using dictionaries\n",
        "\n",
        "1. Using dictionaries\n",
        "\n",
        "Now that you are familiar with the container sequence types, let's dive into dictionaries. People often joke that everything in Python is a dictionary, and while it is a joke, there is a tiny bit of truth to that. I find myself using dictionaries the most of any container type. Dictionary are useful for storing key/value pair, grouping data by time or structuring hierarchical data like org charts. Let's take a look.\n",
        "2. Creating and looping through dictionaries\n",
        "\n",
        "Dictionaries hold data in key/value pairs. While the key must be alphanumeric, the value can be any other data type. It's also possible to nest dictionaries so that you can work with grouped or hierarchical data. We can also iterate over the keys and values of a dictionary. We can also iterate over the items of a dictionary, which are tuples of the key value pairs)! We create dictionaries using the dict() method or the braces shortcut. Here, I've got a list of tuples containing the name and zip for New York City Art Galleries. I'd like to turn that into a dictionary so I can quickly find the zip code without having to scan the whole list. I begin by creating an empty dictionary named art_galleries. Next I use tuple unpacking as I loop over the galleries list that contains my data. Then inside the loop I set the name of the gallery as the key in my dictionary and the zip code as the value. Finally, I'd like to find the last 5 art gallery names. By default when using sorted on a dictionary or looping over a dictionary we loop over the keys. So we'll print the keys which are names. Let's talk more about accessing dictionary values by key.\n",
        "3. Printing in the loop\n",
        "\n",
        "4. Safely finding by key\n",
        "\n",
        "Here I'm looking for the Louvre gallery in New York City, but it's in Paris and throws an exception. Often you will know the key you want to get from the dictionary, and using the key as an index value to get the data. However, if the key is not present you will get an ugly exception that stops the execution of your code. While you could use Python exception handling, this is so common that dictionaries have a get() method just for this problem.\n",
        "5. Safely finding by key (cont.)\n",
        "\n",
        "The get method allows you to safely get a value from a key by passing the key. If the key is not found in the dictionary, it returns None. You can optionally supply a second argument which will be returned instead of None. Continuing from the prior example of looking for the Louvre, I make the same request with the get method, and supply the string Not Found to be returned if it is not present, which is exactly what happens. Finally, I supplied a valid key to the get() method and it returned the value from the dictionary. Accessing data in a safe manner is critical to ensure your programs execute properly. Let's learn more about nested data.\n",
        "6. Working with nested dictionaries\n",
        "\n",
        "I mentioned earlier that you can also nest dictionaries to group data or establish a hierarchy. I've reorganized my prior art galleries dictionary to by keyed by zip code and then gallery name with the value of their phone number. I can use the keys() method to see the list of zip code keys. I can print the value of one of those zip codes so you can see the dictionary nested under it,\n",
        "7. Accessing nested data\n",
        "\n",
        "and I can get the phone number of one of those galleries by using the gallery name which is the nested dictionary's key as a secondary index. Nesting dictionaries is a very common way to deal with repeating data structures such as yearly data, grouped, or hierarchical data such as organization reporting structures. You access nested values by providing multiple indices to the dictionary or using the get method on an index.\n",
        "8. Let's practice!\n",
        "\n",
        "It's your turn to practice. "
      ]
    },
    {
      "cell_type": "markdown",
      "metadata": {
        "id": "0tW6KLL83PQ0"
      },
      "source": [
        "# Creating and looping through dictionaries\n",
        "\n",
        "You'll often encounter the need to loop over some array type data, like in Chapter 1, and provide it some structure so you can find the data you desire quickly.\n",
        "\n",
        "You start that by creating an empty dictionary and assigning part of your array data as the key and the rest as the value.\n",
        "\n",
        "Previously, you used sorted() to organize your data in a list. Dictionaries can also be sorted. By default, using sorted() on a dictionary will sort by the keys of the dictionary. You can also reverse the order by passing reverse=True as a keyword argument.\n",
        "\n",
        "Finally, since sorted returns a list, you can use slice notation to select only part of the list. For example, [:10] will slice the first ten items off a list and return only those items.\n",
        "\n",
        "Instructions\n",
        "\n",
        "1. Create an empty dictionary called names_by_rank.\n",
        "\n",
        "2. Loop over female_baby_names_2012.items(), unpacking it into the variables rank and name.\n",
        "\n",
        "3. Inside the loop, add each name to the names_by_rank dictionary using the rank as the key.\n",
        "\n",
        "4. Sort the names_by_rank dictionary keys in descending order, select the first ten items. Print each item.\n"
      ]
    },
    {
      "cell_type": "code",
      "metadata": {
        "id": "ibg2ZLQC0Ku-"
      },
      "source": [
        "In [1]:\n",
        "female_baby_names_2012\n",
        "Out[1]:\n",
        "\n",
        "{1: 'EMMA',\n",
        " 2: 'LEAH',\n",
        " 3: 'SARAH',\n",
        " 4: 'SOPHIA',\n",
        " 5: 'ESTHER',\n",
        " 6: 'RACHEL',\n",
        " 7: 'CHAYA',\n",
        " 8: 'AVA',\n",
        " 9: 'CHANA',\n",
        " 10: 'MIRIAM',\n",
        " 11: 'ELLA',\n",
        " 12: 'EMILY',\n",
        " 13: 'MIA',\n",
        " 14: 'SARA',\n",
        " 15: 'CHARLOTTE',\n",
        " 16: 'ISABELLA',\n",
        " 17: 'MAYA',\n",
        " 18: 'ELIZABETH',\n",
        " 19: 'ABIGAIL',\n",
        " 20: 'ALEXANDRA',\n",
        " 21: 'VICTORIA',\n",
        " 22: 'LILY',\n",
        " 23: 'SOFIA',\n",
        " 24: 'RIVKA',\n",
        " 25: 'ZOE',\n",
        " 26: 'JULIA',\n",
        " 27: 'SOPHIE',\n",
        " 28: 'GABRIELLA',\n",
        " 29: 'HANNAH',\n",
        " 30: 'GRACE',\n",
        " 31: 'AVERY',\n",
        " 32: 'STELLA',\n",
        " 33: 'SHAINDY',\n",
        " 34: 'FAIGY',\n",
        " 35: 'GITTY',\n",
        " 36: 'MADISON',\n",
        " 37: 'MALKY',\n",
        " 38: 'EVA',\n",
        " 39: 'MALKA',\n",
        " 40: 'ALEXA',\n",
        " 41: 'MADELINE',\n",
        " 42: 'PENELOPE',\n",
        " 43: 'TOBY',\n",
        " 44: 'RIVKY',\n",
        " 45: 'NICOLE',\n",
        " 46: 'VIOLET',\n",
        " 47: 'NATALIE',\n",
        " 48: 'REBECCA',\n",
        " 49: 'MARIA',\n",
        " 50: 'YITTY',\n",
        " 51: 'NINA',\n",
        " 52: 'KATHERINE',\n",
        " 53: 'RILEY',\n",
        " 54: 'SIENNA',\n",
        " 55: 'SYDNEY',\n",
        " 56: 'VIVIENNE',\n",
        " 57: 'VALENTINA',\n",
        " 58: 'TALIA',\n",
        " 59: 'JOSEPHINE',\n",
        " 60: 'FRANCESCA',\n",
        " 61: 'ZISSY',\n",
        " 62: 'SURY',\n",
        " 63: 'NAOMI',\n",
        " 64: 'YIDES',\n",
        " 65: 'SKYLAR',\n",
        " 66: 'VERONICA',\n",
        " 67: 'TAYLOR',\n",
        " 68: 'ZOEY',\n",
        " 69: 'LILIANA',\n",
        " 70: 'YAEL',\n",
        " 71: 'SAVANNAH',\n",
        " 72: 'VANESSA',\n",
        " 73: 'SIMONE',\n",
        " 74: 'SLOANE',\n",
        " 75: 'VERA',\n",
        " 76: 'YEHUDIS',\n",
        " 77: 'SYLVIA',\n",
        " 78: 'SIMA',\n",
        " 79: 'SHAINA',\n",
        " 80: 'TZIPORA',\n",
        " 81: 'YITTA',\n",
        " 82: 'TZIVIA',\n",
        " 83: 'YARA'}"
      ],
      "execution_count": null,
      "outputs": []
    },
    {
      "cell_type": "code",
      "metadata": {
        "id": "tXGKIMiL4Mg6"
      },
      "source": [
        "# Create an empty dictionary: names_by_rank\n",
        "\n",
        "names_by_rank = {}\n",
        "\n",
        "# Loop over the girl names\n",
        "for rank, name in female_baby_names_2012.items():\n",
        "    # Add each name to the names_by_rank dictionary using rank as the key\n",
        "    names_by_rank[rank] = name\n",
        "    \n",
        "# Sort the names_by_rank dict by rank in descending order and slice the first 10 items\n",
        "for rank in sorted(names_by_rank, reverse=True)[:10]:\n",
        "    # Print each item\n",
        "    print(names_by_rank[rank])\n",
        "\n",
        "'''\n",
        "<script.py> output:\n",
        "    YARA\n",
        "    TZIVIA\n",
        "    YITTA\n",
        "    TZIPORA\n",
        "    SHAINA\n",
        "    SIMA\n",
        "    SYLVIA\n",
        "    YEHUDIS\n",
        "    VERA\n",
        "    SLOANE\n",
        "'''"
      ],
      "execution_count": null,
      "outputs": []
    },
    {
      "cell_type": "markdown",
      "metadata": {
        "id": "bQeTt7r8jT6z"
      },
      "source": [
        "# Safely finding by key\n",
        "\n",
        "As demonstrated in the video, if you attempt to access a key that isn't present in a dictionary, you'll get a KeyError. One option to handle this type of error is to use a try: except: block. You can learn more about error handling in Python Data Science Toolbox (Part 1), specifically in this video.\n",
        "\n",
        "Python provides a faster, more versatile tool to help with this problem in the form of the .get() method. The .get() method allows you to supply the name of a key, and optionally, what you'd like to have returned if the key is not found.\n",
        "\n",
        "You'll be using same names dictionary from the previous exercise and will gain practice using the .get() method.\n",
        "\n",
        "Instructions\n",
        "\n",
        "1. Safely print rank 7 from the names dictionary.\n",
        "    \n",
        "2. Safely print the type of rank 100 from the names dictionary.\n",
        "\n",
        "3. Safely print rank 105 from the names dictionary or 'Not Found' if 105 is not found.\n"
      ]
    },
    {
      "cell_type": "code",
      "metadata": {
        "id": "DTPQ5KB8jtVm"
      },
      "source": [
        "In [1]:\n",
        "names\n",
        "Out[1]:\n",
        "\n",
        "{1: 'EMMA',\n",
        " 2: 'LEAH',\n",
        " 3: 'SARAH',\n",
        " 4: 'SOPHIA',\n",
        " 5: 'ESTHER',\n",
        " 6: 'RACHEL',\n",
        " 7: 'CHAYA',\n",
        " 8: 'AVA',\n",
        " 9: 'CHANA',\n",
        " 10: 'MIRIAM',\n",
        "...}"
      ],
      "execution_count": null,
      "outputs": []
    },
    {
      "cell_type": "code",
      "metadata": {
        "id": "ZG5R1qA6jukL"
      },
      "source": [
        "# Safely print rank 7 from the names dictionary\n",
        "print(names.get(7))\n",
        "\n",
        "# Safely print the type of rank 100 from the names dictionary\n",
        "print(names.get(100))\n",
        "\n",
        "# Safely print rank 105 from the names dictionary or 'Not Found'\n",
        "print(names.get(105, 'Not Found'))\n",
        "\n",
        "'''\n",
        "<script.py> output:\n",
        "    CHAYA\n",
        "    <class 'NoneType'>\n",
        "    Not Found\n",
        "'''"
      ],
      "execution_count": null,
      "outputs": []
    },
    {
      "cell_type": "markdown",
      "metadata": {
        "id": "dd_9y3HOkbhe"
      },
      "source": [
        "Conclusion\n",
        "\n",
        "Great work. Notice the difference in output between the three print statements. The names dictionary does not have ranks of 100 and 105."
      ]
    },
    {
      "cell_type": "markdown",
      "metadata": {
        "id": "LVGG81Wckf2b"
      },
      "source": [
        "# Dealing with nested data\n",
        "\n",
        "A dictionary can contain another dictionary as the value of a key, and this is a very common way to deal with repeating data structures such as yearly, monthly or weekly data. All the same rules apply when creating or accessing the dictionary.\n",
        "\n",
        "For example, if you had a dictionary that had a ranking of my cookie consumption by year and type of cookie. It might look like cookies = {'2017': {'chocolate chip': 483, 'peanut butter': 115}, '2016': {'chocolate chip': 9513, 'peanut butter': 6792}}. I could access how many chocolate chip cookies I ate in 2016 using cookies['2016']['chocolate chip'].\n",
        "\n",
        "When exploring a new dictionary, it can be helpful to use the .keys() method to get an idea of what data might be available within the dictionary. You can also iterate over a dictionary and it will return each key in the dictionary for you to use inside the loop. Here, a dictionary called boy_names has been loaded into your workspace. It consists of all male names in 2013 and 2014.\n",
        "\n",
        "Instructions\n",
        "\n",
        "1. Print the keys of the boy_names dictionary.\n",
        "\n",
        "2. Print the keys of the boy_names dictionary for the year 2013.\n",
        "\n",
        "3. Loop over the boy_names dictionary.\n",
        "\n",
        " * Inside the loop, safely print the year and the third ranked name. Print 'Unknown' if the third ranked name is not found.\n",
        "\n",
        "Hint\n",
        "\n",
        "1. Use the .keys() method to access the keys of boy_names and boy_names[2013].\n",
        "\n",
        "2. Inside the loop, use the .get() method on boy_names[year] as the second argument to the provided print() function.\n",
        "\n"
      ]
    },
    {
      "cell_type": "code",
      "metadata": {
        "id": "iNq5UykAtJ4q"
      },
      "source": [
        "# Print a list of keys from the boy_names dictionary\n",
        "print(boy_names.keys())\n",
        "\n",
        "# Print a list of keys from the boy_names dictionary for the year 2013\n",
        "print(boy_names[2013].keys())\n",
        "\n",
        "# Loop over the dictionary\n",
        "for year in boy_names:\n",
        "    # Safely print the year and the third ranked name or 'Unknown'\n",
        "    print(year, boy_names[year].get(3, 'Unknown'))\n",
        "\n",
        "'''\n",
        "<script.py> output:\n",
        "    dict_keys([2012, 2013, 2014])\n",
        "    dict_keys([1, 2, 3, 4, 5, 6, 7, 8, 9, 10, 11, 12, 13, 14, 15, 16, 17, 18, 19, 20, 21, 22, 23, 24, 25, 26, 27, 28, 29, 30, 31, 32, 33, 34, 35, 36, 37, 38, 39, 40, 41, 42, 43, 44, 45, 46, 47, 48, 49, 50, 51, 52, 53, 54, 55, 56, 57, 58, 59, 60, 61, 62, 63, 64, 65, 66, 67, 68, 69, 70, 71, 72, 73, 74, 75, 76, 77, 78, 79, 80, 81, 82, 83, 84, 85, 86, 87, 88, 89, 90, 91, 92, 93, 94, 95, 96, 97, 98, 99, 100])\n",
        "    2012 Unknown\n",
        "    2013 Michael\n",
        "    2014 Michael\n",
        "'''"
      ],
      "execution_count": null,
      "outputs": []
    },
    {
      "cell_type": "markdown",
      "metadata": {
        "id": "9hpjausftRrB"
      },
      "source": [
        "Conclusion\n",
        "\n",
        "Excellent work! Dealing with nested dictionaries can be tricky. Here, the 2012 key consists of an empty dictionary, and so there is no third ranked name. As a result, 'Unknown' is printed, unlike for 2013 and 2014."
      ]
    },
    {
      "cell_type": "markdown",
      "metadata": {
        "id": "F6a-laCk2TY9"
      },
      "source": [
        "# Altering dictionaries\n",
        "\n",
        "1. Altering dictionaries\n",
        "\n",
        "In the prior video we learned that dictionaries are mutable, so we can alter them in a number of ways. Let's start by adding data to them. Which is something that you, as a data scientist, will need to do all the time.\n",
        "2. Adding and extending dictionaries\n",
        "\n",
        "You can add data to a dictionary just by using a new key as an index and assigning it a value. It's also possible to supply a dictionary, list of tuples or a set of keywords arguments to the update() method to add values into a dictionary. I have a dictionary that contains the art galleries in the 10007 zip code and I want to add it to my art_galleries dictionary. I assign the zip code as the key and then the dictionary as the value.\n",
        "3. Updating a dictionary\n",
        "\n",
        "I can also create a list of tuples, and supply them to the update() method. Here I'm supplying them to a dictionary index of the zip code since I want this data to be nested underneath it. Finally I'll print the zip code to be sure they were added. Notice how those are now a dictionary under that key. Often, We'll also want to narrow down our dataset to only the data which is relevant to the problem at hand, so let's learn how to remove data.\n",
        "4. Popping and deleting from dictionaries\n",
        "\n",
        "You can use the del python instruction on a dictionary key to remove data from a dictionary. However, it's important to remember that del will throw a KeyError if the key you are trying to delete does not exist. The pop() method provides a safe way to remove keys from a dictionary. Let's start by removing all the galleries from zipcode '11234', then I'm not sure if there are any galleries in zip code 10310, so I'm going to pop that zip code from the dictionary and save it. Finally, I'll print the popped value.\n",
        "5. Let's practice!"
      ]
    },
    {
      "cell_type": "markdown",
      "metadata": {
        "id": "gdvt-PHs3TG1"
      },
      "source": [
        "# Adding and extending dictionaries\n",
        "\n",
        "If you have a dictionary and you want to add data to it, you can simply create a new key and assign the data you desire to it. It's important to remember that if it's a nested dictionary, then all the keys in the data path must exist, and each key in the path must be assigned individually.\n",
        "\n",
        "You can also use the .update() method to update a dictionary with keys and values from another dictionary, tuples or keyword arguments.\n",
        "\n",
        "Here, you'll combine several techniques used in prior exercises to setup your dictionary in a way that makes it easy to find the least popular baby name for each year.\n",
        "\n",
        "Your job is to add data for the year 2011 to your dictionary by assignment, 2012 by update, and then find the least popular baby name for each year.\n",
        "\n",
        "Instructions\n",
        "\n",
        "1. Assign the names_2011 dictionary as the value to the 2011 key of the boy_names dictionary.\n",
        "\n",
        "2. Update the 2012 key in the boy_names dictionary with the following data in a list of tuples: (1, 'Casey'), (2, 'Aiden').\n",
        "\n",
        "3. Loop over the boy_names dictionary.\n",
        "\n",
        " * Inside the for loop, sort the data for each year of boy_names by descending rank and take the first result which will be the lowest ranked name.\n",
        "\n",
        " * Safely print the year and least popular name or 'Not Available' if it is not found. Take advantage of the .get() method.\n"
      ]
    },
    {
      "cell_type": "code",
      "metadata": {
        "id": "C9yRxa3zYgmo"
      },
      "source": [
        "# Assign the names_2011 dictionary as the value to the 2011 key of boy_names\n",
        "boy_names[2011] = names_2011\n",
        "\n",
        "# Update the 2012 key in the boy_names dictionary\n",
        "boy_names[2012].update([(1, 'Casey'), (2, 'Aiden')])\n",
        "\n",
        "# Loop over the years in the boy_names dictionary \n",
        "for year in boy_names:\n",
        "    # Sort the data for each year by descending rank and get the lowest one\n",
        "    lowest_ranked =  sorted(boy_names[year], reverse=True)[0]\n",
        "    # Safely print the year and the least popular name or 'Not Available'\n",
        "    print(year, boy_names[year].get(lowest_ranked, 'Not Available'))\n",
        "\n",
        "'''\n",
        "<script.py> output:\n",
        "    2011 Yonah\n",
        "    2012 Aiden\n",
        "    2013 Yitzchak\n",
        "    2014 Yidel\n",
        "'''"
      ],
      "execution_count": null,
      "outputs": []
    },
    {
      "cell_type": "markdown",
      "metadata": {
        "id": "XdI4WWbbYk-X"
      },
      "source": [
        "Conclusion\n",
        "\n",
        "Great work! It looks like 'Yonah', 'Yitzchak', and 'Yidel' were the least popular baby names in 2011, 2013, and 2014. The dictionary in the 2012 key of boy_names did not contain any data until you added 'Casey' and 'Aiden', so unsurprisingly, 'Aiden' is the least popular name."
      ]
    },
    {
      "cell_type": "code",
      "metadata": {
        "id": "nHatpPHkieVL"
      },
      "source": [
        "# Remove 2011 from female_names and store it: female_names_2011\n",
        "female_names_2011 = female_names.pop(2011)\n",
        "\n",
        "# Safely remove 2015 from female_names with an empty dictionary as the default: female_names_2015\n",
        "female_names_2015 = female_names.pop(2015, {})\n",
        "\n",
        "# Delete 2012 from female_names\n",
        "del female_names[2012]\n",
        "\n",
        "# Print female_names\n",
        "print(female_names)\n",
        "\n",
        "'''\n",
        "<script.py> output:\n",
        "    {2013: {1: 'Olivia', 2: 'Emma', 3: 'Esther', 4: 'Sophia', 5: 'Sarah', 6: 'Leah', 7: 'Rachel', 8: 'Chaya', 9: 'Miriam', 10: 'Chana'}, \n",
        "     2014: {1: 'Olivia', 2: 'Esther', 3: 'Rachel', 4: 'Leah', 5: 'Emma', 6: 'Chaya', 7: 'Sarah', 8: 'Sophia', 9: 'Ava', 10: 'Miriam'}}\n",
        "\n",
        "In [1]:\n",
        "female_names_2011\n",
        "Out[1]:\n",
        "\n",
        "{1: 'Olivia',\n",
        " 2: 'Esther',\n",
        " 3: 'Rachel',\n",
        " 4: 'Leah',\n",
        " 5: 'Emma',\n",
        " 6: 'Chaya',\n",
        " 7: 'Sarah',\n",
        " 8: 'Sophia',\n",
        " 9: 'Ava',\n",
        " 10: 'Miriam'}\n",
        "\n",
        "In [2]:\n",
        "female_names_2015\n",
        "Out[2]:\n",
        "{}\n",
        "'''"
      ],
      "execution_count": null,
      "outputs": []
    },
    {
      "cell_type": "markdown",
      "metadata": {
        "id": "cpQgO1blirBE"
      },
      "source": [
        "Conclusion\n",
        "\n",
        "Great work! As expected, only the data from the years 2013 and 2014 is retained."
      ]
    },
    {
      "cell_type": "markdown",
      "metadata": {
        "id": "X_otfmXvjAey"
      },
      "source": [
        "# Pythonically using dictionaries\n",
        "\n",
        "1. Pythonically using dictionaries\n",
        "\n",
        "So far, we've been working with dictionaries in a straight forward manner, but Python has more efficient ways to work with them. We refer to these manners of interacting as being Pythonic.\n",
        "2. Working with dictionaries more pythonically\n",
        "\n",
        "Previously, we looped through dictionary keys then used the keys to get the values we desired. Python provides an items() method which returns a dict_items object, but we can iterate over it as a list of key/value tuples. If I use the dot items() method on my original art_galleries dictionary it returns a tuple of the gallery name and the phone number. I can use tuple unpacking to go ahead and expand that into its two components in the loop. Finally, I print them so you can see the information. Now let's look at a more Pythonic method for checking if data is present in a dictionary.\n",
        "3. Checking dictionaries for data\n",
        "\n",
        "Earlier, we used the get method to safely look for keys, and we can use that to check to see if a key is in a dictionary. However, Python provides the in operator to see if a key is in a dictionary. It returns a boolean (True or False). Here I'm checking to see if 11234 is in the art_galleries dictionary, and since I deleted that key earlier it returns false. Since it returns a boolean, it is often used in conditionals statements like an if/else statement. Here if the key 10010 is in the art_galleries dictionary I'm going to print a message saying that it was found and with the value of the key.\n",
        "4. Let's practice!"
      ]
    },
    {
      "cell_type": "markdown",
      "metadata": {
        "id": "s1g7pkV6jlPT"
      },
      "source": [
        "# Working with dictionaries more pythonically\n",
        "\n",
        "So far, you've worked a lot with the keys of a dictionary to access data, but in Python, the preferred manner for iterating over items in a dictionary is with the .items() method.\n",
        "\n",
        "This returns each key and value from the dictionary as a tuple, which you can unpack in a for loop. You'll now get practice doing this.\n",
        "\n",
        "Instructions\n",
        "\n",
        "1. Iterate over baby_names[2014], unpacking it into rank and name.\n",
        "\n",
        "  * Print each rank and name.\n",
        "    \n",
        "2. Repeat the process for baby_names[2012].\n"
      ]
    },
    {
      "cell_type": "code",
      "metadata": {
        "id": "iN7fjoyNj_3o"
      },
      "source": [
        "# Iterate over the 2014 nested dictionary\n",
        "for rank, name in baby_names[2014].items():\n",
        "    # Print rank and name\n",
        "    print(rank, name)\n",
        "    \n",
        "# Iterate over the 2012 nested dictionary\n",
        "for rank, name in baby_names[2012].items():\n",
        "    # Print rank and name\n",
        "    print(rank, name)\n",
        "\n",
        "'''\n",
        "<script.py> output:\n",
        "    1 Joseph\n",
        "    2 David\n",
        "    3 Michael\n",
        "    4 Moshe\n",
        "    5 Jacob\n",
        "    6 Benjamin\n",
        "    7 Alexander\n",
        "    8 Daniel\n",
        "    9 Samuel\n",
        "    10 Jack\n",
        "'''"
      ],
      "execution_count": null,
      "outputs": []
    },
    {
      "cell_type": "markdown",
      "metadata": {
        "id": "hnq7A5q3kFg3"
      },
      "source": [
        "Conclusion\n",
        "\n",
        "Nicely done. Using the .items() method to iterate over dictionaries is something you'll be doing very frequently in Python."
      ]
    },
    {
      "cell_type": "markdown",
      "metadata": {
        "id": "JkLIe-1jkLcl"
      },
      "source": [
        "# Checking dictionaries for data\n",
        "\n",
        "You can check to see if a key exists in a dictionary by using the in expression.\n",
        "\n",
        "For example, you can check to see if 'cookies' is a key in the dictionary by using `if 'cookies' in recipes_dict:` this allows you to safely react to data being present in the dictionary.\n",
        "\n",
        "You can also use the in expression so see if data is in the value of a dictionary such as `if 'cookies' in recipes_dict.values()`. Remember you have to handle nested dictionaries differently as illustrated in the video and previous exercises, and use the in expression on each nested dictionary.\n",
        "\n",
        "Instructions\n",
        "\n",
        "1. Check to see if 2011 is in the baby_names dictionary.\n",
        "\n",
        " * Print 'Found 2011' if it is present.\n",
        "\n",
        "2. Check to see if 1 is in baby_names[2012].\n",
        "\n",
        " * Print 'Found Rank 1 in 2012' if found and 'Rank 1 missing from 2012' if not found.\n",
        "\n",
        "3. Check to see if rank 5 is in baby_names[2013].\n",
        "\n",
        " * Print 'Found Rank 5' if it is present.\n"
      ]
    },
    {
      "cell_type": "code",
      "metadata": {
        "id": "z129XBiuk7rL"
      },
      "source": [
        "# Check to see if 2011 is in baby_names\n",
        "if 2011 in baby_names:\n",
        "    # Print 'Found 2011'\n",
        "    print('Found 2011')\n",
        "    \n",
        "# Check to see if rank 1 is in 2012\n",
        "if 1 in baby_names[2012]:\n",
        "    # Print 'Found Rank 1 in 2012' if found\n",
        "    print('Found Rank 1 in 2012')\n",
        "else:\n",
        "    # Print 'Rank 1 missing from 2012' if not found\n",
        "    print('Rank 1 missing from 2012')\n",
        "    \n",
        "# Check to see if Rank 5 is in 2013\n",
        "if 5 in baby_names[2013]:\n",
        "   # Print 'Found Rank 5'\n",
        "   print('Found Rank 5')\n",
        "\n",
        "'''\n",
        "\n",
        "<script.py> output:\n",
        "    Rank 1 missing from 2012\n",
        "    Found Rank 5\n",
        "'''"
      ],
      "execution_count": null,
      "outputs": []
    },
    {
      "cell_type": "markdown",
      "metadata": {
        "id": "NkmxKWLMlBMH"
      },
      "source": [
        "Conclusion\n",
        "\n",
        "Superb! If you explore baby_names[2012] in the IPython Shell, you'll see that it is empty. Similarly, baby_names does not contain 2011."
      ]
    },
    {
      "cell_type": "markdown",
      "metadata": {
        "id": "98Jh4zDplSVi"
      },
      "source": [
        "# Working with CSV files\n",
        "\n",
        "1. Working with CSV files\n",
        "\n",
        "Okay, we're going to take a break from all this talk of types and look at where our data has been coming from so far: CSVs or Comma Separated Value files.\n",
        "2. CSV Files\n",
        "\n",
        "Many of the data sets you're going to encounter as a data scientist will be published as CSV files, because it's one of the most common ways to dump data from a database or storage system. Here is an example of a CSV file for the Art galleries we've been working with. You can see it begins with a header line that identifies the fields in each row. Then a line for each row of data. CSV files are not required to have a header. Let's look at how to read data from these.\n",
        "3. Reading from a file using CSV reader\n",
        "\n",
        "Python provides a wonderful module called csv to work with these types of files. To create a Python file object, you use the open() function, which accepts a file name and a mode. The mode is typically 'r' for read or 'w' for write. Then we pass the file object to the dot reader() method on the csv module and use it as you would any other iterable. Here I import the csv module, create a file object for the ART_GALLERY dot csv data file. Then I use the csv dot reader to read the file and iterate over each line or row in the file and print it.\n",
        "4. Reading from a CSV - Results\n",
        "\n",
        "Notice this files first line is a header record which contains the fields found in each record of the file.\n",
        "5. Creating a dictionary from a file\n",
        "\n",
        "The Python CSV module also provides a way to directly create a dictionary from a csv file with the DictReader class. If the file has a header row, that row will automatically be used as the keys for the dictionary; however, if not you can supply a list of keys to be used. Each row from the file is returned as an ordered dictionary. We'll learn more about OrderedDicts in a later video. Let's review an example of how this works. It's all the same until line there where we use the DictReader instead of the reader method. Then we print the row, we get an OrderedDict that looks like a list of tuples; however, it operates just like a normal dictionary. Okay time for you to practice.\n",
        "6. Let's practice!"
      ]
    },
    {
      "cell_type": "markdown",
      "metadata": {
        "id": "y_Sl_PYMmn_j"
      },
      "source": [
        "# Reading from a file using CSV reader\n",
        "\n",
        "Python provides a wonderful module called csv to work with CSV files. You can pass the .reader() method of csv a Python file object and use it as you would any other iterable. To create a Python file object, you use the open() function, which accepts a file name and a mode. The mode is typically 'r' for read or 'w' for write.\n",
        "\n",
        "Though you won't use it for this exercise, often CSV files will have a header row with field names, and you will need to use slice notation such as [1:] to skip the header row.\n",
        "\n",
        "You'll now use the csv module to read the baby_names.csv file and fill the baby_names dictionary with data. This baby_names dictionary has already been created for you.\n",
        "\n",
        "Instructions\n",
        "\n",
        "1. Import the python csv module.\n",
        "\n",
        "2. Create a Python file object in read mode for baby_names.csv called csvfile with the open function.\n",
        "\n",
        "3. Use the reader method from the csv module on the file object in a for loop. Inside the loop:\n",
        "\n",
        " * Print each row and add the rank (the 6th element of row) as the key and name (the 4th element of row) as the value to the existing dictionary (baby_names).\n",
        "\n",
        "4. Print the keys of baby_names.\n"
      ]
    },
    {
      "cell_type": "code",
      "metadata": {
        "id": "CsP8POwlmz6l"
      },
      "source": [
        "# Import the python CSV module\n",
        "import csv\n",
        "\n",
        "# Create a python file object in read mode for the baby_names.csv file: csvfile\n",
        "csvfile = open('baby_names.csv', 'r')\n",
        "\n",
        "# Loop over a csv reader on the file object\n",
        "for row in csv.reader(csvfile):\n",
        "    # Print each row \n",
        "    print(row)\n",
        "    # Add the rank and name to the dictionary\n",
        "    baby_names[row[5]] = row[3]\n",
        "\n",
        "# Print the dictionary keys\n",
        "print(baby_names.keys())\n",
        "\n",
        "'''\n",
        "<script.py> output:\n",
        "    ['BRITH_YEAR', 'GENDER', 'ETHNICTY', 'NAME', 'COUNT', 'RANK']\n",
        "    ['2011', 'FEMALE', 'HISPANIC', 'GERALDINE', '13', '75']\n",
        "    ['2011', 'FEMALE', 'HISPANIC', 'GIA', '21', '67']\n",
        "    ...\n",
        "    ['2014', 'MALE', 'WHITE NON HISPANIC', 'Yusuf', '16', '96']\n",
        "    ['2014', 'MALE', 'WHITE NON HISPANIC', 'Zachary', '90', '39']\n",
        "    ['2014', 'MALE', 'WHITE NON HISPANIC', 'Zev', '49', '65']\n",
        "    dict_keys(['7', '96', '41', '23', '93', '89', '76', '65', '83', '11', '5', '15', '67', '9', '73', '39', '55', '59', '95', '80', '53', '87', '28', '19', '60', '71', '30', '92', '101', '81', '78', '66', '61', '57', '22', '2', '13', '6', '1', '70', '50', '40', '3', '68', '36', '17', '47', '14', '62', '63', '12', '85', '94', '102', '45', '35', '74', '32', '72', 'RANK', '20', '58', '84', '48', '90', '79', '44', '42', '29', '52', '4', '21', '37', '75', '16', '82', '64', '100', '56', '43', '88', '38', '31', '51', '77', '49', '10', '91', '27', '26', '46', '99', '8', '34', '54', '97', '18', '25', '69', '86', '33', '24', '98'])\n",
        "'''"
      ],
      "execution_count": null,
      "outputs": []
    },
    {
      "cell_type": "markdown",
      "metadata": {
        "id": "xFqEWUyyolzS"
      },
      "source": [
        "Conclusion\n",
        "\n",
        "Fantastic work! CSV files are among the most common methods of storing tabular data, and you'll encounter them in the wild very frequently. As a result, knowing how to leverage the csv module can be a great addition to your data science toolbox."
      ]
    },
    {
      "cell_type": "markdown",
      "metadata": {
        "id": "S1DfVM_IothL"
      },
      "source": [
        "# Creating a dictionary from a file\n",
        "\n",
        "The csv module also provides a way to directly create a dictionary from a CSV file with the DictReader class. If the file has a header row, that row will automatically be used as the keys for the dictionary. However, if not, you can supply a list of keys to be used. Each row from the file is returned as a dictionary. Using DictReader can make it much easier to read your code and understand what data is being used, especially when compared to the numbered indexes you used in the prior exercise.\n",
        "\n",
        "Your job in this exercise is to create a dictionary directly from the data file using DictReader. NOTE: The misspellings are from the original data, and this is a very common issue. Again, the baby_names dictionary has already been created for you.\n",
        "\n",
        "Instructions\n",
        "\n",
        "1. Import the Python csv module.\n",
        "\n",
        "2. Create a Python file object in read mode for the baby_names.csv called csvfile.\n",
        "\n",
        "3. Loop over a csv DictReader on csvfile. Inside the loop:\n",
        "\n",
        " * Print each row.\n",
        "        \n",
        " * Add the 'RANK' of each row as the key and 'NAME' of each row as the value to the existing dictionary.\n",
        "\n",
        "4. Print the dictionary keys.\n"
      ]
    },
    {
      "cell_type": "code",
      "metadata": {
        "id": "5bJHBQpFp_PE"
      },
      "source": [
        "# Import the python CSV module\n",
        "import csv\n",
        "\n",
        "# Create a python file object in read mode for the `baby_names.csv` file: csvfile\n",
        "csvfile = open('baby_names.csv', 'r')\n",
        "\n",
        "# Loop over a DictReader on the file\n",
        "for row in csv.DictReader(csvfile):\n",
        "    # Print each row \n",
        "    print(row)\n",
        "    # Add the rank and name to the dictionary: baby_names\n",
        "    baby_names[row['RANK']] = row['NAME']\n",
        "\n",
        "# Print the dictionary keys\n",
        "print(baby_names.keys())\n",
        "\n",
        "'''\n",
        "<script.py> output:\n",
        "    {'NAME': 'GERALDINE', 'RANK': '75', 'COUNT': '13', 'ETHNICTY': 'HISPANIC', 'BRITH_YEAR': '2011', 'GENDER': 'FEMALE'}\n",
        "    {'NAME': 'GIA', 'RANK': '67', 'COUNT': '21', 'ETHNICTY': 'HISPANIC', 'BRITH_YEAR': '2011', 'GENDER': 'FEMALE'}\n",
        "    {'NAME': 'GIANNA', 'RANK': '42', 'COUNT': '49', 'ETHNICTY': 'HISPANIC', 'BRITH_YEAR': '2011', 'GENDER': 'FEMALE'}\n",
        "    ...\n",
        "    {'NAME': 'Yusuf', 'RANK': '96', 'COUNT': '16', 'ETHNICTY': 'WHITE NON HISPANIC', 'BRITH_YEAR': '2014', 'GENDER': 'MALE'}\n",
        "    {'NAME': 'Zachary', 'RANK': '39', 'COUNT': '90', 'ETHNICTY': 'WHITE NON HISPANIC', 'BRITH_YEAR': '2014', 'GENDER': 'MALE'}\n",
        "    {'NAME': 'Zev', 'RANK': '65', 'COUNT': '49', 'ETHNICTY': 'WHITE NON HISPANIC', 'BRITH_YEAR': '2014', 'GENDER': 'MALE'}\n",
        "    \n",
        "    dict_keys(['7', '96', '41', '23', '93', '89', '76', '65', '83', '11', '5', '15', '67', '9', '73', '39', '55', '59', '95', '80', '53', '87', '28', '19', '60', '71', '30', '92', '101', '81', '78', '66', '61', '57', '22', '2', '13', '6', '1', '70', '50', '40', '3', '68', '36', '17', '47', '14', '62', '63', '12', '85', '94', '102', '45', '35', '74', '32', '72', '20', '58', '84', '48', '90', '79', '44', '42', '29', '52', '4', '21', '37', '75', '16', '82', '64', '100', '56', '43', '88', '38', '31', '51', '77', '49', '10', '91', '27', '26', '46', '99', '8', '34', '54', '97', '18', '25', '69', '86', '33', '24', '98'])\n",
        "'''"
      ],
      "execution_count": null,
      "outputs": []
    },
    {
      "cell_type": "markdown",
      "metadata": {
        "id": "gilrO34ZqP6v"
      },
      "source": [
        "Conclusion\n",
        "\n",
        "Wonderful work - congratulations on completing Chapter 2! See you in Chapter 3, where you'll learn about Python's collections module."
      ]
    }
  ]
}