{
  "nbformat": 4,
  "nbformat_minor": 0,
  "metadata": {
    "colab": {
      "name": "2 Dictionaries - the root of Python.ipynb",
      "provenance": [],
      "authorship_tag": "ABX9TyPQKvZGjV79kwDsjj5OYP4I",
      "include_colab_link": true
    },
    "kernelspec": {
      "name": "python3",
      "display_name": "Python 3"
    },
    "language_info": {
      "name": "python"
    }
  },
  "cells": [
    {
      "cell_type": "markdown",
      "metadata": {
        "id": "view-in-github",
        "colab_type": "text"
      },
      "source": [
        "<a href=\"https://colab.research.google.com/github/villafue/Progamming/blob/main/Python/Tutorial/Basics/Data%20Types%20for%20Data%20Science%20in%20Python/2%20Dictionaries%20-%20the%20root%20of%20Python/2_Dictionaries_the_root_of_Python.ipynb\" target=\"_parent\"><img src=\"https://colab.research.google.com/assets/colab-badge.svg\" alt=\"Open In Colab\"/></a>"
      ]
    },
    {
      "cell_type": "markdown",
      "metadata": {
        "id": "KkOSVf1I0O4o"
      },
      "source": [
        "# Dictionaries - the root of Python\n",
        "\n",
        "At the root of all things Python is a dictionary. Herein, you'll learn how to use them to safely handle data that can viewed in a variety of ways to answer even more questions about the New York Baby Names dataset. You'll explore how to loop through data in a dictionary, access nested data, add new data, and come to appreciate all of the wonderful capabilities of Python dictionaries."
      ]
    },
    {
      "cell_type": "code",
      "metadata": {
        "id": "ibg2ZLQC0Ku-"
      },
      "source": [
        ""
      ],
      "execution_count": null,
      "outputs": []
    }
  ]
}