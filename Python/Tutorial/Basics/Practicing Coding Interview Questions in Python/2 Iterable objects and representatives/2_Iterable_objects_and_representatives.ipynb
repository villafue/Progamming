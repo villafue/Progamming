{
  "nbformat": 4,
  "nbformat_minor": 0,
  "metadata": {
    "colab": {
      "name": "2 Iterable objects and representatives.ipynb",
      "provenance": [],
      "authorship_tag": "ABX9TyODkym/aprI0727pHUQ1olv",
      "include_colab_link": true
    },
    "kernelspec": {
      "name": "python3",
      "display_name": "Python 3"
    },
    "language_info": {
      "name": "python"
    }
  },
  "cells": [
    {
      "cell_type": "markdown",
      "metadata": {
        "id": "view-in-github",
        "colab_type": "text"
      },
      "source": [
        "<a href=\"https://colab.research.google.com/github/villafue/Progamming/blob/main/Python/Tutorial/Basics/Practicing%20Coding%20Interview%20Questions%20in%20Python/2%20Iterable%20objects%20and%20representatives/2_Iterable_objects_and_representatives.ipynb\" target=\"_parent\"><img src=\"https://colab.research.google.com/assets/colab-badge.svg\" alt=\"Open In Colab\"/></a>"
      ]
    },
    {
      "cell_type": "markdown",
      "metadata": {
        "id": "RTbtegQ4nOVi"
      },
      "source": [
        "# Iterable objects and representatives\n",
        "\n",
        "This chapter focuses on iterable objects. We'll refresh the definition of iterable objects and explain, how to identify one. Next, we'll cover list comprehensions, which is a very special feature of Python programming language to define lists. Then, we'll recall how to combine several iterable objects into one. Finally, we'll cover how to create custom iterable objects using generators."
      ]
    },
    {
      "cell_type": "code",
      "metadata": {
        "id": "dDExzPSNnLfu"
      },
      "source": [
        ""
      ],
      "execution_count": null,
      "outputs": []
    }
  ]
}