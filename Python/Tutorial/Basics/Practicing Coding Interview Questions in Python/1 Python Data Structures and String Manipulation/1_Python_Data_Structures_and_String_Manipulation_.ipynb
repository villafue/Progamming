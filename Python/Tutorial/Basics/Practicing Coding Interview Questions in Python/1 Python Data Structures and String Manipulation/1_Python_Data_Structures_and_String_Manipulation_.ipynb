{
  "nbformat": 4,
  "nbformat_minor": 0,
  "metadata": {
    "colab": {
      "name": " 1 Python Data Structures and String Manipulation .ipynb",
      "provenance": [],
      "authorship_tag": "ABX9TyOUfTMpyfR32RQcXsQCFAm+",
      "include_colab_link": true
    },
    "kernelspec": {
      "name": "python3",
      "display_name": "Python 3"
    },
    "language_info": {
      "name": "python"
    }
  },
  "cells": [
    {
      "cell_type": "markdown",
      "metadata": {
        "id": "view-in-github",
        "colab_type": "text"
      },
      "source": [
        "<a href=\"https://colab.research.google.com/github/villafue/Progamming/blob/main/Python/Tutorial/Basics/Practicing%20Coding%20Interview%20Questions%20in%20Python/1%20Python%20Data%20Structures%20and%20String%20Manipulation/1_Python_Data_Structures_and_String_Manipulation_.ipynb\" target=\"_parent\"><img src=\"https://colab.research.google.com/assets/colab-badge.svg\" alt=\"Open In Colab\"/></a>"
      ]
    },
    {
      "cell_type": "markdown",
      "metadata": {
        "id": "10lhToN-TmwJ"
      },
      "source": [
        "# Python Data Structures and String Manipulation \n",
        "\n",
        "In this chapter, we'll refresh our knowledge of the main data structures used in Python. We'll cover how to deal with lists, tuples, sets, and dictionaries. We'll also consider strings and how to write regular expressions to retrieve specific character sequences from a given text. "
      ]
    },
    {
      "cell_type": "markdown",
      "metadata": {
        "id": "TQjtixEBUMzf"
      },
      "source": [
        "# What are the main data structures in Python?\n",
        "\n",
        "1. What are the main data structures in Python?\n",
        "\n",
        "Welcome to the course on Coding Interview Questions in Python! My name is Kirill Smirnov and I am a Data Science Consultant at Altran. We'll go through some common topics met during a job interview process. Let's start with the basic question: what are the main data structures in Python?\n",
        "2. Data Structure\n",
        "\n",
        "But first, what is a data structure? It is a specialized format to organize and store data. Python's standard library has four main data structures: list, tuple, set, and dictionary. Let's get through each of them!\n",
        "3. List\n",
        "\n",
        "List. List represents an ordered mutable sequence of items, like numbers, strings, and other objects. Lists are created by inserting comma-separated items into square brackets.\n",
        "4. List: accessing items\n",
        "\n",
        "To retrieve an item, we have to specify its index in square brackets after the variable's name. Remember, Python starts indexing from zero, not from one! Using negative indices is also possible. In this case, counting works backwards in the list. We can also access a sub-list via slicing. Note that the item corresponding to the right-hand side index is not included. Not specifying the left-hand or right-hand side index results in the whole range taken into account.\n",
        "5. List: modifying items\n",
        "\n",
        "Modifying items is very simple as well. We can change either a single item or a slice.\n",
        "6. List: methods\n",
        "\n",
        "Lists have some useful methods. .append() adds a new item to a list. .remove() deletes a specific item from a list.\n",
        "7. List: methods\n",
        "\n",
        ".pop() removes the last item from a list and returns its value. .count() counts the amount of a certain item in a list.\n",
        "8. Tuple\n",
        "\n",
        "Tuple. Tuple is an immutable sequence of items. Here, immutable means that we cannot modify it. There are two ways to create a tuple: Either by using round brackets or by writing comma-separated values. Accessing items in a tuple is similar to list mechanics.\n",
        "9. Tuple: modifying values\n",
        "\n",
        "Modifying though is not possible: we will get TypeError.\n",
        "10. Set\n",
        "\n",
        "Set. Set is an unordered collection with no duplicate items. Unordered means that there is no indexing for the constituent items. Here is the code to create a set. If we have duplicates during creation, they are not included.\n",
        "11. Set: methods\n",
        "\n",
        "Sets have some useful methods. .add() inserts a new item to a set. .remove() does the contrary. .union() returns a new set with items from both sets. .intersection() returns a new set with only common items. .difference() returns a new set with items present in one set but not in another.\n",
        "12. Dictionary\n",
        "\n",
        "Dictionary. Dictionary is a collection of key-value pairs where keys are unique and immutable. A key has a unique correspondence to its value but not vice versa. There are several ways to create a dictionary. For example, using curly brackets and specifying each key-value pair with a colon or using the dict() constructor together with a list of tuples.\n",
        "13. Dictionary: accessing values\n",
        "\n",
        "A value associated with a key can be accessed by specifying the key within square brackets. The operation raises KeyError if the key does not exist.\n",
        "14. Dictionary: modifying values\n",
        "\n",
        "Modifying the value for a key is very straightforward: Accessing the value and re-assigning it. If the key does not exist, the operation creates a new key-value pair.\n",
        "15. Dictionary: methods\n",
        "\n",
        "Dictionaries have some useful methods. .items() returns the stored key-value pairs.\n",
        "16. Dictionary: methods\n",
        "\n",
        "We can pass the method output to the list() constructor to get the corresponding list.\n",
        "17. Dictionary: methods\n",
        "\n",
        "We can also retrieve keys and values separately\n",
        "18. Dictionary: methods\n",
        "\n",
        "and also use the trick with the list() constructor.\n",
        "19. Dictionary: methods\n",
        "\n",
        "We can remove the last inserted key-value pair with the .popitem() method. The method also returns the associated value.\n",
        "20. Operations on Lists, Tuples, Sets, and Dictionaries\n",
        "\n",
        "We can apply some operations on all the aforementioned collections. One very practical is: len() that returns the collection's size.\n",
        "21. Operations on Lists, Tuples, Sets, and Dictionaries\n",
        "\n",
        "Another one uses the in keyword that checks if an item is already present in a collection.\n",
        "22. Let's practice!\n",
        "\n",
        "We went through some main data structures in Python. Now it's time to practice! "
      ]
    },
    {
      "cell_type": "markdown",
      "metadata": {
        "id": "ExHLfO6pXX3r"
      },
      "source": [
        "# List methods\n",
        "\n",
        "Let's practice list methods!\n",
        "\n",
        "Let's imagine a situation: you went to the market and filled your baskets (basket1 and basket2) with fruits. You wanted to have one of each kind but realized that some fruits were put in both baskets.\n",
        "\n",
        "Task 1. Your first task is to remove everything from basket2 that is already present in basket1.\n",
        "\n",
        "Task 2. After the removal it is reasonable to anticipate that one of the baskets might weigh more compared to the another (all fruit kinds weight the same). Therefore, the second task is to transfer some fruits from a heavier basket to the lighter one to get approximately the same weight/amount of fruits.\n",
        "\n",
        "Instructions\n",
        "\n",
        "1. Remove fruits from basket2 that are already present in basket1.\n"
      ]
    },
    {
      "cell_type": "code",
      "metadata": {
        "id": "4axu5s0idgTb"
      },
      "source": [
        "In [1]:\n",
        "basket1\n",
        "Out[1]:\n",
        "\n",
        "['banana',\n",
        " 'kiwifruits',\n",
        " 'grapefruits',\n",
        " 'apples',\n",
        " 'apricots',\n",
        " 'nectarines',\n",
        " 'oranges',\n",
        " 'peaches',\n",
        " 'pears',\n",
        " 'lemons']\n",
        "In [2]:\n",
        "basket2\n",
        "Out[2]:\n",
        "\n",
        "['apples',\n",
        " 'grapes',\n",
        " 'apricots',\n",
        " 'dragonfruits',\n",
        " 'peaches',\n",
        " 'pears',\n",
        " 'limes',\n",
        " 'papaya']"
      ],
      "execution_count": null,
      "outputs": []
    },
    {
      "cell_type": "code",
      "metadata": {
        "id": "31lH_bbYTinH"
      },
      "source": [
        "# Remove fruits from basket2 that are present in basket1\n",
        "for item in basket1:\n",
        "    if item in basket2:\n",
        "        basket2.remove(item)\n",
        "\n",
        "print('Basket 1: ' + str(basket1))\n",
        "print('Basket 2: ' + str(basket2))\n",
        "\n",
        "<script.py> output:\n",
        "    Basket 1: ['banana', 'kiwifruits', 'grapefruits', 'apples', 'apricots', 'nectarines', 'oranges', 'peaches', 'pears', 'lemons']\n",
        "    Basket 2: ['grapes', 'dragonfruits', 'limes', 'papaya']"
      ],
      "execution_count": null,
      "outputs": []
    },
    {
      "cell_type": "markdown",
      "metadata": {
        "id": "slD-nAaffG9Z"
      },
      "source": [
        "2. Transfer fruits from basket1 to basket2 until the amount in basket2 becomes more or equal to the amount in basket1."
      ]
    },
    {
      "cell_type": "code",
      "metadata": {
        "id": "o5Vb4T8ge8Yk"
      },
      "source": [
        "# Transfer fruits from basket1 to basket2\n",
        "while len(basket1) > len(basket2):\n",
        "    item_to_transfer = basket1.pop()\n",
        "    basket2.append(item_to_transfer)\n",
        "\n",
        "print('Basket 1: ' + str(basket1))\n",
        "print('Basket 2: ' + str(basket2))\n",
        "\n",
        "<script.py> output:\n",
        "    Basket 1: ['banana', 'kiwifruits', 'grapefruits', 'apples', 'apricots', 'nectarines', 'oranges', 'peaches', 'pears', 'lemons']\n",
        "    Basket 2: ['grapes', 'dragonfruits', 'limes', 'papaya']\n",
        "    Basket 1: ['banana', 'kiwifruits', 'grapefruits', 'apples', 'apricots', 'nectarines', 'oranges']\n",
        "    Basket 2: ['grapes', 'dragonfruits', 'limes', 'papaya', 'lemons', 'pears', 'peaches']"
      ],
      "execution_count": null,
      "outputs": []
    },
    {
      "cell_type": "markdown",
      "metadata": {
        "id": "D0d2EJt0fDUY"
      },
      "source": [
        "Conclusion\n",
        "\n",
        "Well done! We practiced some of the list methods but there are many more! Don't hesitate to practice them as well."
      ]
    },
    {
      "cell_type": "markdown",
      "metadata": {
        "id": "fsichW2jfc95"
      },
      "source": [
        "# Operations on sets\n",
        "\n",
        "Putting the information on sets in more mathematical terms, we can define the following operations given two sets\n",
        "<math xmlns=\"http://www.w3.org/1998/Math/MathML\">\n",
        "  <mi>X</mi>\n",
        "</math> and\n",
        "<math xmlns=\"http://www.w3.org/1998/Math/MathML\">\n",
        "  <mi>Y</mi>\n",
        "</math>:\n",
        "\n",
        " \n",
        "1. <math xmlns=\"http://www.w3.org/1998/Math/MathML\">\n",
        "  <mi>X</mi>\n",
        "  <mo>&#x2229;</mo>\n",
        "  <mi>Y</mi>\n",
        "</math> - the intersection between <math xmlns=\"http://www.w3.org/1998/Math/MathML\">\n",
        "  <mi>X</mi> and <math xmlns=\"http://www.w3.org/1998/Math/MathML\">\n",
        "  <mi>Y</mi> (all elements which are in both <math xmlns=\"http://www.w3.org/1998/Math/MathML\">\n",
        "  <mi>X</mi>\n",
        "</math> and <math xmlns=\"http://www.w3.org/1998/Math/MathML\">\n",
        "  <mi>Y</mi>\n",
        "</math>)\n",
        "\n",
        "2. <math xmlns=\"http://www.w3.org/1998/Math/MathML\">\n",
        "  <mi>X</mi>\n",
        "  <mo>&#x222A;</mo>\n",
        "  <mi>Y</mi>\n",
        "</math> - the union between <math xmlns=\"http://www.w3.org/1998/Math/MathML\">\n",
        "  <mi>X</mi>\n",
        "</math> and </math> and <math xmlns=\"http://www.w3.org/1998/Math/MathML\">\n",
        "  <mi>Y</mi> (all elements which are either in <math xmlns=\"http://www.w3.org/1998/Math/MathML\">\n",
        "  <mi>X</mi>\n",
        "</math> or <math xmlns=\"http://www.w3.org/1998/Math/MathML\">\n",
        "  <mi>Y</mi>\n",
        "</math>)\n",
        "\n",
        "3. <math xmlns=\"http://www.w3.org/1998/Math/MathML\">\n",
        "  <mi>X</mi>\n",
        "  <mo>&#x2212;</mo>\n",
        "  <mi>Y</mi>\n",
        "</math>- the difference between <math xmlns=\"http://www.w3.org/1998/Math/MathML\">\n",
        "  <mi>X</mi>\n",
        "</math> and <math xmlns=\"http://www.w3.org/1998/Math/MathML\">\n",
        "  <mi>Y</mi>\n",
        "(all elements which are in <math xmlns=\"http://www.w3.org/1998/Math/MathML\">\n",
        "  <mi>X</mi>\n",
        "</math> but not in </math> and <math xmlns=\"http://www.w3.org/1998/Math/MathML\">\n",
        "  <mi>Y</mi>)\n",
        "\n",
        "\n",
        "You are given 5 sets of integers A, B, C, D, E. What is the result of the following expression?\n",
        "\n",
        "<math xmlns=\"http://www.w3.org/1998/Math/MathML\" display=\"block\">\n",
        "  <mrow data-mjx-texclass=\"INNER\">\n",
        "    <mo data-mjx-texclass=\"OPEN\">(</mo>\n",
        "    <mi>A</mi>\n",
        "    <mo>&#x222A;</mo>\n",
        "    <mrow data-mjx-texclass=\"INNER\">\n",
        "      <mo data-mjx-texclass=\"OPEN\">(</mo>\n",
        "      <mi>B</mi>\n",
        "      <mo>&#x2229;</mo>\n",
        "      <mi>C</mi>\n",
        "      <mo data-mjx-texclass=\"CLOSE\">)</mo>\n",
        "    </mrow>\n",
        "    <mo data-mjx-texclass=\"CLOSE\">)</mo>\n",
        "  </mrow>\n",
        "  <mo>&#x2212;</mo>\n",
        "  <mrow data-mjx-texclass=\"INNER\">\n",
        "    <mo data-mjx-texclass=\"OPEN\">(</mo>\n",
        "    <mi>D</mi>\n",
        "    <mo>&#x2229;</mo>\n",
        "    <mi>E</mi>\n",
        "    <mo data-mjx-texclass=\"CLOSE\">)</mo>\n",
        "  </mrow>\n",
        "</math>\n",
        "\n",
        "Possible Answers\n",
        "\n",
        "* {2} - Incorrect. Check if you did not confuse the intersection with the union operation.\n",
        "\n",
        "* {} - Incorrect. Check if the difference operation is applied correctly.\n",
        "\n",
        "* {1, 2} - Incorrect. Check if you performed operations in the right order.\n",
        "\n",
        "* {1, 2, 3, 4, 5, 6, 7} - Correct! This is the right answer!"
      ]
    },
    {
      "cell_type": "code",
      "metadata": {
        "id": "np5AJj-nhluu"
      },
      "source": [
        "A = {1, 2, 3, 4, 5, 6, 7}\n",
        "B = {5, 7, 9, 11, 13, 15}\n",
        "C = {1, 2, 8, 10, 11, 12, 13, 14, 15, 16, 17}\n",
        "D = {1, 3, 5, 7, 9, 11, 12, 13, 14, 15, 16, 17, 18, 19, 20}\n",
        "E = {9, 10, 11, 12, 13, 14, 15}\n",
        "\n",
        "In [1]:\n",
        "A.union(B.intersection(C)) - (D.union(E))\n",
        "\n",
        "Out[1]:\n",
        "{2, 4, 6}\n",
        "\n",
        "In [2]:\n",
        "A.union(B.intersection(C)) - (D.intersection(E))\n",
        "\n",
        "Out[2]:\n",
        "{1, 2, 3, 4, 5, 6, 7}"
      ],
      "execution_count": null,
      "outputs": []
    },
    {
      "cell_type": "markdown",
      "metadata": {
        "id": "7ZLraEIXhlID"
      },
      "source": [
        "# Storing data in a dictionary\n",
        "\n",
        "The surface you see below is called circular paraboloid:\n",
        "\n",
        "![Circular_Paraboloid_Small.png](data:image/png;base64,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)\n",
        "\n",
        "Circular Paraboloid\n",
        "\n",
        "It can be described by the following equation:\n",
        "\n",
        "![image.png](data:image/png;base64,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)\n",
        "\n",
        "Let's set the coefficient <math xmlns=\"http://www.w3.org/1998/Math/MathML\">\n",
        "  <mi>a</mi>\n",
        "</math> to 1. Therefore, the radius at each cut will be equal to ![image.png](data:image/png;base64,iVBORw0KGgoAAAANSUhEUgAAAC0AAAAgCAYAAACGhPFEAAACuklEQVRYCe2YTUgVURTH3QRBi4JaFISFlUHRh4KaUQRm2AdaJBYPc1EKokEhFFGLoCRwUS2EigiCFgVli6QoiRChD7KEEoyMCumTIopaVOTmxO/CvfguM829780YDzwwOPPeuef+5v/+c85gnuRg5OUgs0xAj9evNqF0ziv9+ctX6em9J5NmLXE6fG44MXs0tB6QzQ27fViccxOBfj3yVibPXiYPHj9xBvFJTAS6Zf8Rqazd5cPhlRs79LfvP5TKffcfeYH4JMcOvefQMSlZV+fD4J0bK7RW+drNO94gPgtihT7YflKKKrb67J9RbmzQf0ZHZdq8Url49XooSFd3j8wpWqs8X1a1Xd5//CSsW7yqWo4ePx26zv4iNuj2E2ckf3mFXd9cX+m+pYbM1IIS4WDo0BanF5YraJPocBILNGrNWFguZy9cDt1yU6pZsI8OrTAq//z1W3/s9DcSmoJRRTs6zymVAXEJ6gHLwbj3jX9CDz1/KTMXrZZU877QuoBiC8BdAsi5xZWycmNK+dlljZ0TCn3q/CXlOe09RnNQYAkeQBeVefCwEe8l2UQgdO/dfqXww4FBA87QCApU5iGMihevRhSw/YsMPhuWusa2qOVp3wdCj81AFdRGTYbH2KC9uaiMJVC4ZkervHn3wZRAeXyt31PIW7pmi8wvrZKBp0Mmzz6JhMYW+p3YVrRwxYa0jmAX51p3iQVl62VbU1taq6MuN6MfxsMdnWav2p17g8qpzyKhyUIJNsAK2ruMavqsrb69E7ZCTb2OAUOfnpJfLNX1LQaYdViFB5/vbtzus0uZaydo3ou12roXM67DfG6qJ3TiBM3eQAKOJVxVTojZ/f8egGq18SEv+v8rnJUGEE8DjpfD+vZ43IgXNH4GOtvhkO2NeUHTARgEukVlu3mm672gM90k7nU5Cf0X1fk3A0VF/gQAAAAASUVORK5CYII=)\n",
        ".\n",
        "\n",
        "Your task is to create a dictionary that stores the mapping from the pair of coordinates (x, y) to the coordinate z (the lists storing considered ranges for x and y are given: `range_x` and `range_y`, respectively).\n",
        "\n",
        "Instructions\n",
        "\n",
        "1. Calculate the value for z coordinate using coordinates x and y.\n",
        "\n",
        "2. Create a new key for the dictionary `circ_parab` represented as a tuple containing x and y.\n",
        "\n",
        "3. Create a new key-value pair for `circ_parab`."
      ]
    },
    {
      "cell_type": "markdown",
      "metadata": {
        "id": "c5jIQUKkmzWf"
      },
      "source": [
        "# Hint\n",
        "\n",
        "1. Watch carefully the formula given in the context.\n",
        "\n",
        "2. A tuple can be specified by round brackets.\n",
        "\n",
        "3. Remember that a key should be an immutable type.\n"
      ]
    },
    {
      "cell_type": "code",
      "metadata": {
        "id": "V4zPr_ZTk0NW"
      },
      "source": [
        "range_x = [0.0, 0.2, 0.4, 0.6, 0.8, 1.0, 1.2, 1.4, 1.6, 1.8, 2.0]\n",
        "range_y = [0.0, 0.2, 0.4, 0.6, 0.8, 1.0, 1.2, 1.4, 1.6, 1.8, 2.0]\n",
        "\n",
        "'''\n",
        "I got screwed because I assumed x**2 + y**2 == (x + y)**2. They are not equal.\n",
        "'''\n",
        "\n",
        "circ_parab = dict()\n",
        "\n",
        "for x in range_x:\n",
        "    for y in range_y:       \n",
        "        # Calculate the value for z\n",
        "        z = x**2 + y**2\n",
        "        # Create a new key for the dictionary\n",
        "        key = (x, y)\n",
        "        # Create a new key-value pair      \n",
        "        circ_parab[key] = z"
      ],
      "execution_count": null,
      "outputs": []
    },
    {
      "cell_type": "markdown",
      "metadata": {
        "id": "R63cPZTSotO6"
      },
      "source": [
        "2. Question\n",
        "\n",
        "What is the value of circ_parab for the key (1.8, 1.4)?\n",
        "Possible Answers\n",
        "\n",
        "* 5.2 - Correct\n",
        "\n",
        "* 10.0 - Incorrect. This value cannot be included into circ_parab by using range_x and range_y.\n",
        "\n",
        "* 5.96 - Incorrect. The value 5.96 corresponds to another key.\n",
        "\n",
        "* 4.0 - Incorrect. The value 4.0 corresponds to another key."
      ]
    },
    {
      "cell_type": "code",
      "metadata": {
        "id": "GEgy344coLQd"
      },
      "source": [
        "range_x = [0.0, 0.2, 0.4, 0.6, 0.8, 1.0, 1.2, 1.4, 1.6, 1.8, 2.0]\n",
        "range_y = [0.0, 0.2, 0.4, 0.6, 0.8, 1.0, 1.2, 1.4, 1.6, 1.8, 2.0]\n",
        "In [1]:\n",
        "circ_parab\n",
        "Out[1]:\n",
        "\n",
        "{(0.0, 0.0): 0.0,\n",
        " (0.0, 0.2): 0.04000000000000001,\n",
        " (0.0, 0.4): 0.16000000000000003,\n",
        " (0.0, 0.6): 0.36,\n",
        " (0.0, 0.8): 0.6400000000000001,\n",
        " (0.0, 1.0): 1.0,\n",
        " (0.0, 1.2): 1.44,\n",
        " (0.0, 1.4): 1.9599999999999997,\n",
        " (0.0, 1.6): 2.5600000000000005,\n",
        " (0.0, 1.8): 3.24,\n",
        " (0.0, 2.0): 4.0,\n",
        " (0.2, 0.0): 0.04000000000000001,\n",
        " (0.2, 0.2): 0.08000000000000002,\n",
        " (0.2, 0.4): 0.20000000000000004,\n",
        " (0.2, 0.6): 0.4,\n",
        " (0.2, 0.8): 0.6800000000000002,\n",
        " (0.2, 1.0): 1.04,\n",
        " (0.2, 1.2): 1.48,\n",
        " (0.2, 1.4): 1.9999999999999998,\n",
        " (0.2, 1.6): 2.6000000000000005,\n",
        " (0.2, 1.8): 3.2800000000000002,\n",
        " (0.2, 2.0): 4.04,\n",
        " (0.4, 0.0): 0.16000000000000003,\n",
        " (0.4, 0.2): 0.20000000000000004,\n",
        " (0.4, 0.4): 0.32000000000000006,\n",
        " (0.4, 0.6): 0.52,\n",
        " (0.4, 0.8): 0.8000000000000002,\n",
        " (0.4, 1.0): 1.1600000000000001,\n",
        " (0.4, 1.2): 1.6,\n",
        " (0.4, 1.4): 2.1199999999999997,\n",
        " (0.4, 1.6): 2.7200000000000006,\n",
        " (0.4, 1.8): 3.4000000000000004,\n",
        " (0.4, 2.0): 4.16,\n",
        " (0.6, 0.0): 0.36,\n",
        " (0.6, 0.2): 0.4,\n",
        " (0.6, 0.4): 0.52,\n",
        " (0.6, 0.6): 0.72,\n",
        " (0.6, 0.8): 1.0,\n",
        " (0.6, 1.0): 1.3599999999999999,\n",
        " (0.6, 1.2): 1.7999999999999998,\n",
        " (0.6, 1.4): 2.32,\n",
        " (0.6, 1.6): 2.9200000000000004,\n",
        " (0.6, 1.8): 3.6,\n",
        " (0.6, 2.0): 4.36,\n",
        " (0.8, 0.0): 0.6400000000000001,\n",
        " (0.8, 0.2): 0.6800000000000002,\n",
        " (0.8, 0.4): 0.8000000000000002,\n",
        " (0.8, 0.6): 1.0,\n",
        " (0.8, 0.8): 1.2800000000000002,\n",
        " (0.8, 1.0): 1.6400000000000001,\n",
        " (0.8, 1.2): 2.08,\n",
        " (0.8, 1.4): 2.5999999999999996,\n",
        " (0.8, 1.6): 3.2000000000000006,\n",
        " (0.8, 1.8): 3.8800000000000003,\n",
        " (0.8, 2.0): 4.640000000000001,\n",
        " (1.0, 0.0): 1.0,\n",
        " (1.0, 0.2): 1.04,\n",
        " (1.0, 0.4): 1.1600000000000001,\n",
        " (1.0, 0.6): 1.3599999999999999,\n",
        " (1.0, 0.8): 1.6400000000000001,\n",
        " (1.0, 1.0): 2.0,\n",
        " (1.0, 1.2): 2.44,\n",
        " (1.0, 1.4): 2.96,\n",
        " (1.0, 1.6): 3.5600000000000005,\n",
        " (1.0, 1.8): 4.24,\n",
        " (1.0, 2.0): 5.0,\n",
        " (1.2, 0.0): 1.44,\n",
        " (1.2, 0.2): 1.48,\n",
        " (1.2, 0.4): 1.6,\n",
        " (1.2, 0.6): 1.7999999999999998,\n",
        " (1.2, 0.8): 2.08,\n",
        " (1.2, 1.0): 2.44,\n",
        " (1.2, 1.2): 2.88,\n",
        " (1.2, 1.4): 3.3999999999999995,\n",
        " (1.2, 1.6): 4.0,\n",
        " (1.2, 1.8): 4.68,\n",
        " (1.2, 2.0): 5.4399999999999995,\n",
        " (1.4, 0.0): 1.9599999999999997,\n",
        " (1.4, 0.2): 1.9999999999999998,\n",
        " (1.4, 0.4): 2.1199999999999997,\n",
        " (1.4, 0.6): 2.32,\n",
        " (1.4, 0.8): 2.5999999999999996,\n",
        " (1.4, 1.0): 2.96,\n",
        " (1.4, 1.2): 3.3999999999999995,\n",
        " (1.4, 1.4): 3.9199999999999995,\n",
        " (1.4, 1.6): 4.5200000000000005,\n",
        " (1.4, 1.8): 5.2,\n",
        " (1.4, 2.0): 5.96,\n",
        " (1.6, 0.0): 2.5600000000000005,\n",
        " (1.6, 0.2): 2.6000000000000005,\n",
        " (1.6, 0.4): 2.7200000000000006,\n",
        " (1.6, 0.6): 2.9200000000000004,\n",
        " (1.6, 0.8): 3.2000000000000006,\n",
        " (1.6, 1.0): 3.5600000000000005,\n",
        " (1.6, 1.2): 4.0,\n",
        " (1.6, 1.4): 4.5200000000000005,\n",
        " (1.6, 1.6): 5.120000000000001,\n",
        " (1.6, 1.8): 5.800000000000001,\n",
        " (1.6, 2.0): 6.5600000000000005,\n",
        " (1.8, 0.0): 3.24,\n",
        " (1.8, 0.2): 3.2800000000000002,\n",
        " (1.8, 0.4): 3.4000000000000004,\n",
        " (1.8, 0.6): 3.6,\n",
        " (1.8, 0.8): 3.8800000000000003,\n",
        " (1.8, 1.0): 4.24,\n",
        " (1.8, 1.2): 4.68,\n",
        " (1.8, 1.4): 5.2,\n",
        " (1.8, 1.6): 5.800000000000001,\n",
        " (1.8, 1.8): 6.48,\n",
        " (1.8, 2.0): 7.24,\n",
        " (2.0, 0.0): 4.0,\n",
        " (2.0, 0.2): 4.04,\n",
        " (2.0, 0.4): 4.16,\n",
        " (2.0, 0.6): 4.36,\n",
        " (2.0, 0.8): 4.640000000000001,\n",
        " (2.0, 1.0): 5.0,\n",
        " (2.0, 1.2): 5.4399999999999995,\n",
        " (2.0, 1.4): 5.96,\n",
        " (2.0, 1.6): 6.5600000000000005,\n",
        " (2.0, 1.8): 7.24,\n",
        " (2.0, 2.0): 8.0}"
      ],
      "execution_count": null,
      "outputs": []
    },
    {
      "cell_type": "code",
      "metadata": {
        "id": "lpTLP4aVo9wv"
      },
      "source": [
        "circ_parab[(1.8, 1.4)]\n",
        "\n",
        "5.2"
      ],
      "execution_count": null,
      "outputs": []
    },
    {
      "cell_type": "markdown",
      "metadata": {
        "id": "Ry6gs_kipgmW"
      },
      "source": [
        "3. Question\n",
        "\n",
        "Is it possible to use a list instead of a tuple for a key in the circ_parab dictionary?\n",
        "\n",
        "Possible Answers\n",
        "\n",
        "1. Yes, there is no substantial difference between two data structures in this regard.\n",
        "  - Incorrect. The data structures have one substantial difference.\n",
        "\n",
        "2. No, because a list is mutable and the operation will result in TypeError.\n",
        "  - Correct. Keys can represent only immutable objects.\n",
        "  \n",
        "3. No, because a dictionary can accept only a tuple as a key.\n",
        "  - Incorrect. It is not required that a key is a tuple.\n",
        "\n",
        "4. No, because a list is an ordered sequence and the operation will result in TypeError.\n",
        "  - Incorrect. A Tuple is also an ordered sequence."
      ]
    },
    {
      "cell_type": "markdown",
      "metadata": {
        "id": "-yTyBrY1uPZq"
      },
      "source": [
        "# What are common ways to manipulate strings?\n",
        "\n",
        "1. What are common ways to manipulate strings?\n",
        "\n",
        "The next topic we'll cover is string manipulation. Coding exercises in interviews often involve this subject.\n",
        "2. String\n",
        "\n",
        "Strings are created simply by enclosing a text in single or double quotes.\n",
        "3. String\n",
        "\n",
        "Generally, strings are created using the str() constructor. We can also pass to it other data types like real numbers, or lists to convert them to a string.\n",
        "4. str() contructor\n",
        "\n",
        "Actually, we can pass any object to the str() constructor. Let's check it with our own object. Recall that first we need to create a class representing a \"blueprint\" of an object. We need to include the __init__() method indicating the state of our object at initialization. Here, an object is initialized with the num variable. After creating an instance, we can retrieve the value of this variable. If we pass the object to the str() constructor, we'll get quite unreadable output. How to customize it?\n",
        "5. str() constructor\n",
        "\n",
        "We have to implement the __str__() method in the class. Here, this method will return the value of the num variable. Now, when we create an instance and pass it to the str() constructor, we get the number defined at initialization.\n",
        "6. Accessing characters in a string\n",
        "\n",
        "String characters are indexed. Therefore, we can access each character using square brackets with the corresponding index. Negative indices can be used as well. We can also use slicing. If left-hand or right-hand side index is omitted, all the characters in the corresponding direction are considered.\n",
        "7. The .index() method\n",
        "\n",
        "To retrieve an index of a specific character in a string, use the .index() method. Note that if a character is present in a string more than once, only the lowest index is returned.\n",
        "8. Strings are immutable\n",
        "\n",
        "Strings are immutable. We cannot modify an existing string. Doing so will raise an error. You could ask: but there are plenty of methods that we can apply on a string object implying modification! The answer is: it only looks like modification. In reality, we return a new string object. Let's look at some of these methods.\n",
        "9. Modifying methods 1\n",
        "\n",
        "First is string concatenation. It is easily done with the \"+\" operator. Another important method is replacing a substring. It substitutes all the occurrences of a specific character sequence in a string with another sequence.\n",
        "10. Modifying methods 2\n",
        "\n",
        "There is a set of methods to change case representation in a string. For example, transforming to the upper case or to the lower case. If we need to capitalize only the first letter in a string, we have to use the .capitalize() method.\n",
        "11. Relation to lists\n",
        "\n",
        "Let's look at a couple of methods dealing with lists. We will begin with creating a string from a list of strings. Assume we have the following list. To convert it to a proper sentence, we can use the .join() method. We need to specify a delimiter that is inserted between the strings in the list and to pass the list as an argument. The second method is about breaking a string into a list. Let's inverse the operation we just did. For this, we can use the .split() method. We need to specify the string to apply the method to and the delimiter for splitting.\n",
        "12. String methods with DataFrames\n",
        "\n",
        "Knowledge of string methods is very handy because we can use them with DataFrames. More specifically, we can apply them to columns containing text data. Let's create a DataFrame using a custom dictionary. As you can see, the name column contains text data. However, the names are not capitalized.\n",
        "13. String methods with DataFrames\n",
        "\n",
        "To change that, we need to modify the column of interest.\n",
        "14. String methods with DataFrames\n",
        "\n",
        "We start by accessing the column.\n",
        "15. String methods with DataFrames\n",
        "\n",
        "Then, we add an str specifier that gives us access to the string methods.\n",
        "16. String methods with DataFrames\n",
        "\n",
        "And finally, we call the .capitalize() method we already know. Let's check the result! Great! We capitalized all the names in our DataFrame in just seconds!\n",
        "17. Let's practice!\n",
        "\n",
        "That was quite a lot of information. Let's put it all together and get some practice! "
      ]
    },
    {
      "cell_type": "markdown",
      "metadata": {
        "id": "vNqlEvAv8kIV"
      },
      "source": [
        "# String indexing and concatenation\n",
        "\n",
        "You are presented with one of the earliest known encryption techniques - Caesar cipher. It is based on a simple shift of each letter in a message by a certain number of positions down the given alphabet. For example, given the English alphabet, a shift of 1 for 'xyz' would imply 'yza' and vice versa in case of decryption. Notice that 'z' becomes 'a' in this case.\n",
        "\n",
        "Thus, encryption/decryption requires two arguments: text and an integer key denoting the shift (key = 1 for the example above).\n",
        "\n",
        "Your task is to create an encryption function given the English alphabet stored in the alphabet string.\n",
        "\n",
        "Instructions\n",
        "\n",
        "1. Fill in the blanks in the loop to create an encrypted text.\n",
        "\n",
        "2. Check the encryption function with the shift equals to 10 (it should return `'nkdkmkwz'`).\n"
      ]
    },
    {
      "cell_type": "code",
      "metadata": {
        "id": "1UCk5jIHNU6a"
      },
      "source": [
        "In [1]:\n",
        "alphabet\n",
        "Out[1]:\n",
        "'abcdefghijklmnopqrstuvwxyz'\n",
        "\n",
        "def encrypt(text, key):\n",
        "  \n",
        "    encrypted_text = ''\n",
        "\n",
        "    # Fill in the blanks to create an encrypted text\n",
        "    for char in text.lower():\n",
        "        idx = (alphabet.index(char) + key) % len(alphabet) # modulo makes it so that it \"wraps\" back to the beginning. Look at 'z'\n",
        "        encrypted_text = encrypted_text + alphabet[idx]\n",
        "\n",
        "    return encrypted_text\n",
        "\n",
        "# Check the encryption function with the shift equals to 10\n",
        "print(encrypt(\"datacamp\", 10))"
      ],
      "execution_count": null,
      "outputs": []
    },
    {
      "cell_type": "code",
      "metadata": {
        "id": "etawxN6sPEal"
      },
      "source": [
        "In [2]:\n",
        "alphabet.index('a')\n",
        "Out[2]:\n",
        "0\n",
        "In [3]:\n",
        "alphabet.index('a') + 10\n",
        "Out[3]:\n",
        "10\n",
        "In [4]:\n",
        "alphabet[10]\n",
        "Out[4]:\n",
        "'k'\n",
        "In [5]:\n",
        "alphabet['d'] + 10\n",
        "Traceback (most recent call last):\n",
        "  File \"<stdin>\", line 1, in <module>\n",
        "    alphabet['d'] + 10\n",
        "TypeError: string indices must be integers\n",
        "In [6]:\n",
        "alphabet.index('d') + 10\n",
        "Out[6]:\n",
        "13\n",
        "In [7]:\n",
        "alphabet['13']\n",
        "Traceback (most recent call last):\n",
        "  File \"<stdin>\", line 1, in <module>\n",
        "    alphabet['13']\n",
        "TypeError: string indices must be integers\n",
        "In [8]:\n",
        "alphabet[13]\n",
        "Out[8]:\n",
        "'n'\n",
        "In [9]:\n",
        "(alphabet.index('d') + 10) % len(alphabet)\n",
        "Out[9]:\n",
        "13\n",
        "In [10]:\n",
        "(alphabet.index('z') + 10) % len(alphabet)\n",
        "Out[10]:\n",
        "9\n",
        "In [11]:\n",
        "(alphabet.index('z') + 10)\n",
        "Out[11]:\n",
        "35\n",
        "In [12]:\n",
        "len(alphabet)\n",
        "Out[12]:\n",
        "26\n",
        "In [13]:\n",
        "35 % 26\n",
        "Out[13]:\n",
        "9\n",
        "\n",
        "<script.py> output:\n",
        "    nkdkmkwz\n"
      ],
      "execution_count": null,
      "outputs": []
    },
    {
      "cell_type": "markdown",
      "metadata": {
        "id": "-Hyz_PouPZft"
      },
      "source": [
        "\n",
        "2. Question\n",
        "\n",
        "Great! Interestingly, decryption function is only different by the line you fixed in the for loop. What would be the corresponding change in the decrypt() function?\n",
        "\n",
        "1. idx = alphabet.index(char) - key\n",
        "  - Correct. It is enough to only subtract since Python allows negative indexing.\n",
        "\n",
        "2. idx = (alphabet.index(char) - key) % len(alphabet)\n",
        "  - Incorrect. In case of negative indices % results in the same number.\n",
        "\n",
        "3. idx = alphabet.indx(char) + key\n",
        "  - Incorrect. This implementation can raise an IndexError.\n",
        "\n",
        "4. idx = (alphabet.indx(char) * key) % len(alphabet)\n",
        "  - Incorrect. This implementation represents another algorithm."
      ]
    },
    {
      "cell_type": "code",
      "metadata": {
        "colab": {
          "base_uri": "https://localhost:8080/"
        },
        "id": "hHwO-si1QCwA",
        "outputId": "b1ff78ae-115c-4ecc-ac70-6713c9c587db"
      },
      "source": [
        "alphabet = 'abcdefghijklmnopqrstuvwxyz'\n",
        "\n",
        "def encrypt(text, key):\n",
        "  \n",
        "    encrypted_text = ''\n",
        "\n",
        "    # Fill in the blanks to create an encrypted text\n",
        "    for char in text.lower():\n",
        "        idx = (alphabet.index(char) + key) % len(alphabet) # modulo makes it so that it \"wraps\" back to the beginning. Look at 'z'\n",
        "        encrypted_text = encrypted_text + alphabet[idx]\n",
        "\n",
        "    return encrypted_text\n",
        "\n",
        "# Check the encryption function with the shift equals to 10\n",
        "print(encrypt(\"datacamp\", 10))"
      ],
      "execution_count": 1,
      "outputs": [
        {
          "output_type": "stream",
          "text": [
            "nkdkmkwz\n"
          ],
          "name": "stdout"
        }
      ]
    },
    {
      "cell_type": "markdown",
      "metadata": {
        "id": "RRJXsE_URgXu"
      },
      "source": [
        "Below is the same by negative indexing. Positive 10 is equal to -16"
      ]
    },
    {
      "cell_type": "code",
      "metadata": {
        "colab": {
          "base_uri": "https://localhost:8080/"
        },
        "id": "FWXfV2rNQe07",
        "outputId": "3d73bc69-cb27-4dec-c99c-7730f45ae4fc"
      },
      "source": [
        "alphabet = 'abcdefghijklmnopqrstuvwxyz'\n",
        "\n",
        "def encrypt(text, key):\n",
        "  \n",
        "    encrypted_text = ''\n",
        "\n",
        "    # Fill in the blanks to create an encrypted text\n",
        "    for char in text.lower():\n",
        "        idx = alphabet.index(char) - key\n",
        "        encrypted_text = encrypted_text + alphabet[idx]\n",
        "\n",
        "    return encrypted_text\n",
        "\n",
        "# Check the encryption function with the shift equals to 10\n",
        "print(encrypt(\"datacamp\", 16))"
      ],
      "execution_count": 5,
      "outputs": [
        {
          "output_type": "stream",
          "text": [
            "nkdkmkwz\n"
          ],
          "name": "stdout"
        }
      ]
    },
    {
      "cell_type": "markdown",
      "metadata": {
        "id": "YWpDHCNKSul_"
      },
      "source": [
        "# Operations on strings\n",
        "\n",
        "You are given the variable text storing the following string `'StRing ObJeCts haVe mANy inTEResting pROPerTies'`.\n",
        "\n",
        "Your task is to modify this string in such a way that would result in `'string OBJECTS have MANY interesting PROPERTIES'` (every other word in `text` is uppercased and lowercased, otherwise). You will obtain this result in three steps.\n",
        "\n",
        "Instructions\n",
        "\n",
        "1. First, create a word list from the given string.\n"
      ]
    },
    {
      "cell_type": "code",
      "metadata": {
        "id": "PT1ZL6OHTVEr"
      },
      "source": [
        "In [1]:\n",
        "text\n",
        "Out[1]:\n",
        "'StRing ObJeCts haVe mANy inTEResting pROPerTies'\n",
        "\n",
        "# Create a word list from the string stored in text\n",
        "word_list = text.split(' ')\n",
        "\n",
        "In [2]:\n",
        "word_list\n",
        "Out[2]:\n",
        "['StRing', 'ObJeCts', 'haVe', 'mANy', 'inTEResting', 'pROPerTies']"
      ],
      "execution_count": null,
      "outputs": []
    },
    {
      "cell_type": "markdown",
      "metadata": {
        "id": "z5fPN_NpTuyX"
      },
      "source": [
        " 2. Now, make every other word uppercased and lowercased, otherwise."
      ]
    },
    {
      "cell_type": "code",
      "metadata": {
        "id": "yQGYu7hAVMLk"
      },
      "source": [
        "# Create a word list from the string stored in text\n",
        "word_list = text.split()\n",
        "\n",
        "# Make every other word uppercased; otherwise - lowercased\n",
        "'''\n",
        "Below was my answer. It was accepted but they used a different one for the next step.\n",
        "'''\n",
        "for i in range(len(word_list)):\n",
        "    if i % 2 == 0:\n",
        "        word_list[i] = word_list[i].lower()\n",
        "    else:\n",
        "        word_list[i] = word_list[i].upper()\n",
        "\n",
        "In [4]:\n",
        "word_list\n",
        "Out[4]:\n",
        "['StRing', 'ObJeCts', 'haVe', 'mANy', 'inTEResting', 'pROPerTies']\n",
        "In [5]:\n",
        "len(word_list)\n",
        "Out[5]:\n",
        "6\n",
        "In [6]:\n",
        "range(len(word_list))\n",
        "Out[6]:\n",
        "range(0, 6)"
      ],
      "execution_count": null,
      "outputs": []
    },
    {
      "cell_type": "markdown",
      "metadata": {
        "id": "CkluFJRbVm2-"
      },
      "source": [
        "3. Finally, join the words and form a new string and check the newly created string."
      ]
    },
    {
      "cell_type": "code",
      "metadata": {
        "id": "nyMl0HShV46j"
      },
      "source": [
        "# Create a word list from the string stored in 'text'\n",
        "word_list = text.split()\n",
        "\n",
        "# Make every other word uppercased; otherwise - lowercased\n",
        "for i in range(len(word_list)):\n",
        "    if (i + 1) % 2 == 0:\n",
        "        word_list[i] = word_list[i].upper()\n",
        "    else:\n",
        "        word_list[i] = word_list[i].lower()\n",
        "        \n",
        "# Join the words back and form a new string\n",
        "new_text = ' '.join(word_list)\n",
        "print(new_text)\n",
        "\n",
        "# Create a word list from the string stored in 'text'\n",
        "word_list = text.split()\n",
        "In [8]:\n",
        "word_list\n",
        "Out[8]:\n",
        "['StRing', 'ObJeCts', 'haVe', 'mANy', 'inTEResting', 'pROPerTies']\n",
        "# Make every other word uppercased; otherwise - lowercased\n",
        "for i in range(len(word_list)):\n",
        "    if (i + 1) % 2 == 0:\n",
        "        word_list[i] = word_list[i].upper()\n",
        "    else:\n",
        "        word_list[i] = word_list[i].lower()\n",
        "In [8]:\n",
        "word_list\n",
        "Out[8]:\n",
        "['string', 'OBJECTS', 'have', 'MANY', 'interesting', 'PROPERTIES']\n",
        "\n",
        "<script.py> output:\n",
        "    string OBJECTS have MANY interesting PROPERTIES\n"
      ],
      "execution_count": null,
      "outputs": []
    },
    {
      "cell_type": "markdown",
      "metadata": {
        "id": "wgAcmdb7Wipe"
      },
      "source": [
        "Conclusion\n",
        "\n",
        "Good! Having some exercises on strings is a good practice because coding interviews usually include string manipulation questions."
      ]
    },
    {
      "cell_type": "markdown",
      "metadata": {
        "id": "cqtpKCFmWnV3"
      },
      "source": [
        "# Fixing string errors in a DataFrame\n",
        "\n",
        "You are given the heroes dataset containing the information on different comic book heroes. However, you'll need to make some refinements in order to use this dataset further.\n",
        "\n",
        "Comparing Eye color, Hair color, and Skin color columns, you can see that strings in the Hair color columns are capitalized, whereas in other two the strings are lowercased.\n",
        "\n",
        "Moreover, some rows in the Gender column contain a spelling error (Fmale instead of Female).\n",
        "\n",
        "Your task is to make the strings in the Hair column lowercased and to fix the spelling error in the Gender column.\n",
        "\n",
        "Instructions\n",
        "\n",
        "1. Make all the values in the Hair color column lowercased.\n"
      ]
    },
    {
      "cell_type": "code",
      "metadata": {
        "id": "JkiY5i_fXfe2"
      },
      "source": [
        "In [2]:\n",
        "heroes.head()\n",
        "Out[2]:\n",
        "\n",
        "          name Gender Eye color               Race Hair color  Height          Publisher Skin color Alignment  Weight\n",
        "0       A-Bomb   Male    yellow              Human    No Hair   203.0      Marvel Comics        NaN      good   441.0\n",
        "1   Abe Sapien   Male      blue      Icthyo Sapien    No Hair   191.0  Dark Horse Comics       blue      good    65.0\n",
        "2     Abin Sur   Male      blue            Ungaran    No Hair   185.0          DC Comics        red      good    90.0\n",
        "3  Abomination   Male     green  Human / Radiation    No Hair   203.0      Marvel Comics        NaN       bad   441.0\n",
        "4      Abraxas   Male      blue      Cosmic Entity      Black     NaN      Marvel Comics        NaN       bad     NaN"
      ],
      "execution_count": null,
      "outputs": []
    },
    {
      "cell_type": "code",
      "metadata": {
        "id": "6i94-DNbYRsm"
      },
      "source": [
        "# Make all the values in the 'Hair color' column lowercased\n",
        "heroes['Hair color'] = heroes['Hair color'].str.lower()\n",
        "  \n",
        "# Check the values in the 'Hair color' column\n",
        "print(heroes['Hair color'].value_counts())\n",
        "\n",
        "<script.py> output:\n",
        "    black               161\n",
        "    blond               102\n",
        "    brown                87\n",
        "    no hair              75\n",
        "    red                  51\n",
        "    white                23\n",
        "    auburn               13\n",
        "    green                 8\n",
        "    strawberry blond      7\n",
        "    grey                  5\n",
        "    purple                5\n",
        "    silver                4\n",
        "    brown / white         4\n",
        "    blue                  3\n",
        "    yellow                2\n",
        "    orange                2\n",
        "    gold                  1\n",
        "    magenta               1\n",
        "    indigo                1\n",
        "    red / grey            1\n",
        "    red / white           1\n",
        "    black / blue          1\n",
        "    pink                  1\n",
        "    red / orange          1\n",
        "    brown / black         1\n",
        "    orange / white        1\n",
        "    Name: Hair color, dtype: int64"
      ],
      "execution_count": null,
      "outputs": []
    },
    {
      "cell_type": "markdown",
      "metadata": {
        "id": "346CSxvUYS4o"
      },
      "source": [
        "2. Substitute all the appearances of Fmale with Female in the Gender column."
      ]
    },
    {
      "cell_type": "code",
      "metadata": {
        "id": "g4Sw4RfkY_nB"
      },
      "source": [
        "# Make all the values in the 'Hair color' column lowercased\n",
        "heroes['Hair color'] = heroes['Hair color'].str.lower()\n",
        "  \n",
        "# Check the values in the 'Hair color' column\n",
        "print(heroes['Hair color'].value_counts())\n",
        "\n",
        "# Substitute 'Fmale' with 'Female' in the 'Gender' column\n",
        "heroes['Gender'] = heroes['Gender'].str.replace('Fmale', 'Female')\n",
        "\n",
        "# Check if there is no occurences of 'Fmale'\n",
        "print(heroes['Gender'].value_counts())\n",
        "\n",
        "\n",
        "<script.py> output:\n",
        "    black               161\n",
        "    blond               102\n",
        "    brown                87\n",
        "    no hair              75\n",
        "    red                  51\n",
        "    white                23\n",
        "    auburn               13\n",
        "    green                 8\n",
        "    strawberry blond      7\n",
        "    grey                  5\n",
        "    purple                5\n",
        "    silver                4\n",
        "    brown / white         4\n",
        "    blue                  3\n",
        "    yellow                2\n",
        "    orange                2\n",
        "    gold                  1\n",
        "    magenta               1\n",
        "    indigo                1\n",
        "    red / grey            1\n",
        "    red / white           1\n",
        "    black / blue          1\n",
        "    pink                  1\n",
        "    red / orange          1\n",
        "    brown / black         1\n",
        "    orange / white        1\n",
        "    \n",
        "    Name: Hair color, dtype: int64\n",
        "    Male      505\n",
        "    Female    200\n",
        "    Name: Gender, dtype: int64\n",
        "In [3]:"
      ],
      "execution_count": null,
      "outputs": []
    },
    {
      "cell_type": "markdown",
      "metadata": {
        "id": "y5z6_0M1ZAd3"
      },
      "source": [
        "Conclusion\n",
        "\n",
        "Congratulations! You are ready to become a string armed ninja! Note that Series and DataFrames have their own .replace() method that deals with any kind of objects in addition to strings."
      ]
    },
    {
      "cell_type": "markdown",
      "metadata": {
        "id": "oJ79O7bIZNYG"
      },
      "source": [
        "# How to write regular expressions in Python?\n",
        "\n",
        "1. How to write regular expressions in Python?\n",
        "\n",
        "In this lesson we'll cover how to write regular expressions in Python.\n",
        "2. Definition\n",
        "\n",
        "A regular expression is a sequence of special characters or so-called metacharacters defining a pattern to search in a text. The easiest sequence is just a sequence of letters as in this example. If we provide some text and search for this sequence,\n",
        "3. Definition\n",
        "\n",
        "we will find the following matches. Note that, apart from the word cat, the sequence fits to the beginning of the word \"catches\". But what to do if we want to search for more complicated patterns?\n",
        "4. Complex patterns\n",
        "\n",
        "Let's check with this text. We want to have a sequence that fits\n",
        "5. Complex patterns\n",
        "\n",
        "to all the e-mail addresses in it. Simple character sequence isn't enough. Therefore, metacharacters are needed.\n",
        "6. Special characters\n",
        "\n",
        "In a regular expression metacharacters are mapped to real characters. Some of them are simple and are mapped onto themselves. A dot metacharacter is mapped to everything. But a dot prefixed with backslash maps to a dot character.\n",
        "7. Special characters\n",
        "\n",
        "The following metacharacters represent backslash followed by a letter. \"w\" small maps to any alphanumeric character or underscore. \"d\" small maps to any digit. \"s\" small maps to any whitespace character\n",
        "8. Square brackets\n",
        "\n",
        "Several metacharacters can be enclosed in square brackets which itself is a metacharacter. In this case, the mapping will result in either of the characters enclosed. There are also short versions for some of the frequently used expressions: any lowercased character, any uppercased character, any digit. We can also combine them together.\n",
        "9. Repetitions\n",
        "\n",
        "Complex or simple metacharacters can be followed by symbols indicating how many times the associated character is repeated. \"*\" indicates that the character is absent or repeats an undefined number of times. \"+\" indicates that the character is present at least once. \"?\" indicates that the character exists or not. \"{}\" indicate the lower and upper bound for a character to be present.\n",
        "10. Regular expression for an e-mail\n",
        "\n",
        "Returning back to our previous example, a regular expression fitting an e-mail address can look like this. Let's have a better understanding.\n",
        "11. Regular expression for an e-mail\n",
        "\n",
        "This part maps to at least one letter, digit, underscore, or dot character.\n",
        "12. Regular expression for an e-mail\n",
        "\n",
        "The '@' symbol maps to itself.\n",
        "13. Regular expression for an e-mail\n",
        "\n",
        "This part maps to at least one lowercased letter.\n",
        "14. Regular expression for an e-mail\n",
        "\n",
        "Backslash and dot map simply to a dot character.\n",
        "15. Regular expression for an e-mail\n",
        "\n",
        "And again, mapping to at least one lowercased letter.\n",
        "16. re package\n",
        "\n",
        "We defined a regular expression. But how do we use it programmatically? The re package comes to help! Once we defined an expression, we can pass it to the .compile() function. Note that we use the \"r\" prefix before the expression. The next step is to use it against our text. We'll cover a couple of functions to do so.\n",
        "17. re.finditer()\n",
        "\n",
        "The finditer() function returns a special object given a pattern and text. We can use this object in a for loop. In this case each item will represent a Match object containing the information about a single match in our text.\n",
        "18. re.finditer()\n",
        "\n",
        "To retrieve this information, we can call the following methods on our Match object. The .group() method will return the matching substring. The .start() and .end() methods return the start and end indices of the matching substring in a given text.\n",
        "19. re.findall()\n",
        "\n",
        "If we are only interested about the matching substrings, we can use the findall() function. It simply returns a list of substrings representing the matches to our pattern.\n",
        "20. re.split()\n",
        "\n",
        "Another interesting function is called split(). Instead of returning matches, the method splits a given string by a matching pattern. This results in a list of strings of the following form.\n",
        "21. Let's practice!\n",
        "\n",
        "That was a concise reminder on regular expressions. Now, let's practice our skills! "
      ]
    },
    {
      "cell_type": "markdown",
      "metadata": {
        "id": "JQpxOyB4k45L"
      },
      "source": [
        "# Write a regular expression\n",
        "\n",
        "Let's write some regular expressions!\n",
        "\n",
        "Your task is to create a regular expression matching a valid temperature represented either in Celsius or Fahrenheit scale (e.g. '+23.5 C', '-4 F', '0.0 C', '73.45 F') and to extract all the appearances from the given string text. Positive temperatures can be with or without the + prefix (e.g. '5 F', '+5 F'). Negative temperatures must be prefixed with -. Zero temperature can be used with a prefix or without.\n",
        "\n",
        "The re module is already imported.\n",
        "\n",
        "Tips:\n",
        "\n",
        " * The + symbol within the square brackets [] matches the + symbol itself (e.g. the regular expression [1a+] matches to '1', 'a', or '+').\n",
        "\n",
        " * You can also apply ? to the characters within the square brackets [] to make the set optional (e.g. [ab]? matches to 'a', 'b', or '').\n",
        "\n",
        "Instructions\n",
        "\n",
        "1. Define a pattern to search for valid temperatures in text.\n"
      ]
    },
    {
      "cell_type": "code",
      "metadata": {
        "id": "kUwzkTnSlETc"
      },
      "source": [
        "In [1]:\n",
        "text\n",
        "Out[1]:\n",
        "\"Let's consider the following temperatures using the Celsius scale: +23 C, 0 C, -20.0 C, -2.2 C, -5.65 C, 0.0001 C. To convert them to the Fahrenheit scale you have to multiply the number by 9/5 and add 32 to the result. Therefore, the corresponding temperatures in the Fahrenheit scale will be: +73.4 F, 32 F, -4.0 F, +28.04 F, 21.83 F, +32.00018 F.\""
      ],
      "execution_count": null,
      "outputs": []
    }
  ]
}