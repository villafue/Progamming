{
  "nbformat": 4,
  "nbformat_minor": 0,
  "metadata": {
    "colab": {
      "name": " 1 Python Data Structures and String Manipulation .ipynb",
      "provenance": [],
      "authorship_tag": "ABX9TyMDRRk3P+qlPi047aK4qmbn",
      "include_colab_link": true
    },
    "kernelspec": {
      "name": "python3",
      "display_name": "Python 3"
    },
    "language_info": {
      "name": "python"
    }
  },
  "cells": [
    {
      "cell_type": "markdown",
      "metadata": {
        "id": "view-in-github",
        "colab_type": "text"
      },
      "source": [
        "<a href=\"https://colab.research.google.com/github/villafue/Progamming/blob/main/Python/Tutorial/Basics/Practicing%20Coding%20Interview%20Questions%20in%20Python/1%20Python%20Data%20Structures%20and%20String%20Manipulation/1_Python_Data_Structures_and_String_Manipulation_.ipynb\" target=\"_parent\"><img src=\"https://colab.research.google.com/assets/colab-badge.svg\" alt=\"Open In Colab\"/></a>"
      ]
    },
    {
      "cell_type": "markdown",
      "metadata": {
        "id": "10lhToN-TmwJ"
      },
      "source": [
        "# Python Data Structures and String Manipulation \n",
        "\n",
        "In this chapter, we'll refresh our knowledge of the main data structures used in Python. We'll cover how to deal with lists, tuples, sets, and dictionaries. We'll also consider strings and how to write regular expressions to retrieve specific character sequences from a given text. "
      ]
    },
    {
      "cell_type": "code",
      "metadata": {
        "id": "31lH_bbYTinH"
      },
      "source": [
        ""
      ],
      "execution_count": null,
      "outputs": []
    }
  ]
}