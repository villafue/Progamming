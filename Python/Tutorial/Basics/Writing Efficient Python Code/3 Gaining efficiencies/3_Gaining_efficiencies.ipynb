{
  "nbformat": 4,
  "nbformat_minor": 0,
  "metadata": {
    "colab": {
      "name": "3 Gaining efficiencies.ipynb",
      "provenance": [],
      "authorship_tag": "ABX9TyMCOZLNGv523Id8DrlfDvqR",
      "include_colab_link": true
    },
    "kernelspec": {
      "name": "python3",
      "display_name": "Python 3"
    },
    "language_info": {
      "name": "python"
    }
  },
  "cells": [
    {
      "cell_type": "markdown",
      "metadata": {
        "id": "view-in-github",
        "colab_type": "text"
      },
      "source": [
        "<a href=\"https://colab.research.google.com/github/villafue/Progamming/blob/main/Python/Tutorial/Basics/Writing%20Efficient%20Python%20Code/3%20Gaining%20efficiencies/3_Gaining_efficiencies.ipynb\" target=\"_parent\"><img src=\"https://colab.research.google.com/assets/colab-badge.svg\" alt=\"Open In Colab\"/></a>"
      ]
    },
    {
      "cell_type": "markdown",
      "source": [
        "# Gaining efficiencies\n",
        "\n",
        "This chapter covers more complex efficiency tips and tricks. You'll learn a few useful built-in modules for writing efficient code and practice using set theory. You'll then learn about looping patterns in Python and how to make them more efficient."
      ],
      "metadata": {
        "id": "imQo0xgJegnN"
      }
    },
    {
      "cell_type": "markdown",
      "source": [
        ""
      ],
      "metadata": {
        "id": "RF3DubE_eg7X"
      }
    },
    {
      "cell_type": "code",
      "execution_count": null,
      "metadata": {
        "id": "LysgOzm4eND6"
      },
      "outputs": [],
      "source": [
        ""
      ]
    }
  ]
}