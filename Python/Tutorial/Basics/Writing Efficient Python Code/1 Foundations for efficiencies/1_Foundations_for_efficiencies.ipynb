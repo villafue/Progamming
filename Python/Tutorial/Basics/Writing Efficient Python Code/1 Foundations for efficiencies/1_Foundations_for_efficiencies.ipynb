{
  "nbformat": 4,
  "nbformat_minor": 0,
  "metadata": {
    "colab": {
      "name": "1 Foundations for efficiencies.ipynb",
      "provenance": [],
      "authorship_tag": "ABX9TyNdKHLiPG5xy19LqvzD69ae",
      "include_colab_link": true
    },
    "kernelspec": {
      "name": "python3",
      "display_name": "Python 3"
    },
    "language_info": {
      "name": "python"
    }
  },
  "cells": [
    {
      "cell_type": "markdown",
      "metadata": {
        "id": "view-in-github",
        "colab_type": "text"
      },
      "source": [
        "<a href=\"https://colab.research.google.com/github/villafue/Progamming/blob/main/Python/Tutorial/Basics/Writing%20Efficient%20Python%20Code/1%20Foundations%20for%20efficiencies/1_Foundations_for_efficiencies.ipynb\" target=\"_parent\"><img src=\"https://colab.research.google.com/assets/colab-badge.svg\" alt=\"Open In Colab\"/></a>"
      ]
    },
    {
      "cell_type": "markdown",
      "metadata": {
        "id": "1blZMaZDku76"
      },
      "source": [
        "# Foundations for efficiencies\n",
        "\n",
        "In this chapter, you'll learn what it means to write efficient Python code. You'll explore Python's Standard Library, learn about NumPy arrays, and practice using some of Python's built-in tools. This chapter builds a foundation for the concepts covered ahead."
      ]
    },
    {
      "cell_type": "code",
      "metadata": {
        "id": "EuToRscSkrUx"
      },
      "source": [
        ""
      ],
      "execution_count": null,
      "outputs": []
    }
  ]
}