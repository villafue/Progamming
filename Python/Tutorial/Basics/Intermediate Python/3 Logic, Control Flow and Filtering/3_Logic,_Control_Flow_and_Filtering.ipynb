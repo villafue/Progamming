{
  "nbformat": 4,
  "nbformat_minor": 0,
  "metadata": {
    "colab": {
      "name": " 3 Logic, Control Flow and Filtering.ipynb",
      "provenance": [],
      "authorship_tag": "ABX9TyNiDMAYnAFfKerIKMoHdtiE",
      "include_colab_link": true
    },
    "kernelspec": {
      "name": "python3",
      "display_name": "Python 3"
    },
    "language_info": {
      "name": "python"
    }
  },
  "cells": [
    {
      "cell_type": "markdown",
      "metadata": {
        "id": "view-in-github",
        "colab_type": "text"
      },
      "source": [
        "<a href=\"https://colab.research.google.com/github/villafue/Progamming/blob/main/Python/Tutorial/Basics/Intermediate%20Python/3%20Logic%2C%20Control%20Flow%20and%20Filtering/3_Logic%2C_Control_Flow_and_Filtering.ipynb\" target=\"_parent\"><img src=\"https://colab.research.google.com/assets/colab-badge.svg\" alt=\"Open In Colab\"/></a>"
      ]
    },
    {
      "cell_type": "markdown",
      "metadata": {
        "id": "XsvD-ucU8Z-n"
      },
      "source": [
        "# Logic, Control Flow and Filtering\n",
        "\n",
        "Boolean logic is the foundation of decision-making in Python programs. Learn about different comparison operators, how to combine them with Boolean operators, and how to use the Boolean outcomes in control structures. You'll also learn to filter data in pandas DataFrames using logic. \n"
      ]
    },
    {
      "cell_type": "code",
      "metadata": {
        "id": "fkEyh7Hj8WBn"
      },
      "source": [
        ""
      ],
      "execution_count": null,
      "outputs": []
    }
  ]
}