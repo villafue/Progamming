{
  "nbformat": 4,
  "nbformat_minor": 0,
  "metadata": {
    "colab": {
      "name": " 3 Logic, Control Flow and Filtering.ipynb",
      "provenance": [],
      "authorship_tag": "ABX9TyMTdC5oz2oy7fzrduOFqTcQ",
      "include_colab_link": true
    },
    "kernelspec": {
      "name": "python3",
      "display_name": "Python 3"
    },
    "language_info": {
      "name": "python"
    }
  },
  "cells": [
    {
      "cell_type": "markdown",
      "metadata": {
        "id": "view-in-github",
        "colab_type": "text"
      },
      "source": [
        "<a href=\"https://colab.research.google.com/github/villafue/Progamming/blob/main/Python/Tutorial/Basics/Intermediate%20Python/3%20Logic%2C%20Control%20Flow%20and%20Filtering/3_Logic%2C_Control_Flow_and_Filtering.ipynb\" target=\"_parent\"><img src=\"https://colab.research.google.com/assets/colab-badge.svg\" alt=\"Open In Colab\"/></a>"
      ]
    },
    {
      "cell_type": "markdown",
      "metadata": {
        "id": "XsvD-ucU8Z-n"
      },
      "source": [
        "# Logic, Control Flow and Filtering\n",
        "\n",
        "Boolean logic is the foundation of decision-making in Python programs. Learn about different comparison operators, how to combine them with Boolean operators, and how to use the Boolean outcomes in control structures. You'll also learn to filter data in pandas DataFrames using logic. \n"
      ]
    },
    {
      "cell_type": "markdown",
      "metadata": {
        "id": "CJx3hDpETS6v"
      },
      "source": [
        "# Comparison Operators\n",
        "\n",
        "1. Comparison Operators\n",
        "Welcome back, budding Pythonistas! You have already learned a bit about different Python types.\n",
        "\n",
        "2. Numpy recap\n",
        "Among those was bool, short for boolean. Do you remember the bmi array from the intro course? Here it is again. Using the greater than sign, we could find out which values in bmi were above 23. Next, I used the resulting Boolean array to actually select that value. In this video, we'll dive a little deeper into the world of comparison operators, like this greater than sign. Comparison operators are operators that can tell how two Python values relate, and result in a boolean.\n",
        "\n",
        "3. Numeric comparisons\n",
        "In the simplest sense, you can use these operators on numbers. Say, for example, that you want to check if 2 is smaller than 3. You type 2 less then sign 3, and hit Enter. Because this is the case, you get True. You can also check if two values are equal, with a double equals sign. From this call, we see that 2 equals equals 3 gives us False. Makes sense, because 2 is not equal to 3. You can also make a combination of equality and smaller than. Have a look at this command that checks if 2 is smaller than or equal to 3. It's TRUE, but also 3 smaller than or equal to 3 is True. Of course, you can also use comparison operators directly on variables that represent these integers, like I did in this example.\n",
        "\n",
        "4. Other comparisons\n",
        "All these operators also work for strings. Let's check if \"carl\" is smaller than \"chris\". According to the alphabet, carl comes before chris, so the result is True. Do you think that comparing a string and an integer can work? Let's try to see if the integer 3 is smaller than the string chris. We get an error. Typically, Python can't tell how two objects with different types relate. Different numeric types, such as floats and integers, are exceptions as this example shows: no error this time. In general, always make sure that you make comparisons between objects of the same type.\n",
        "\n",
        "5. Other comparisons\n",
        "Another exception arises when we move back to the example we started with, where we compared the Numpy array, bmi, with an integer, 23. This works perfectly. Numpy figures out that you want to compare every element in bmi with 23, and returns corresponding booleans. Behind the scenes, Numpy builds a numpy array of the same size filled with the number 23, and then performs an element-wise comparison. This is concise yet very efficient code, something data scientists love!\n",
        "\n",
        "6. Comparators\n",
        "Have a look at this table that summarizes all comparison operators. You already know about some of these. They're all pretty straightforward, except for the last one maybe. The exclamation mark followed by an equals sign stands for inequality. It's basically the opposite of equality.\n",
        "\n",
        "7. Let's practice!\n",
        "Now head over to the exercises and train your comparison skills!\n"
      ]
    },
    {
      "cell_type": "markdown",
      "metadata": {
        "id": "6aIeJU73ZjW5"
      },
      "source": [
        "# Equality\n",
        "\n",
        "To check if two Python values, or variables, are equal you can use ==. To check for inequality, you need !=. As a refresher, have a look at the following examples that all result in True. Feel free to try them out in the IPython Shell.\n",
        "```\n",
        "2 == (1 + 1)\n",
        "\"intermediate\" != \"python\"\n",
        "True != False\n",
        "\"Python\" != \"python\"\n",
        "```\n",
        "When you write these comparisons in a script, you will need to wrap a print() function around them to see the output.\n",
        "\n",
        "Instructions\n",
        "\n",
        "1. In the editor on the right, write code to see if True equals False.\n",
        "\n",
        "2. Write Python code to check if -5 * 15 is not equal to 75.\n",
        "\n",
        "3. Ask Python whether the strings \"pyscript\" and \"PyScript\" are equal.\n",
        "\n",
        "4. What happens if you compare booleans and integers? Write code to see if True and 1 are equal."
      ]
    },
    {
      "cell_type": "code",
      "metadata": {
        "id": "fkEyh7Hj8WBn"
      },
      "source": [
        "# Comparison of booleans\n",
        "print(True == False)\n",
        "\n",
        "# Comparison of integers\n",
        "print((-5*15) != 15)\n",
        "\n",
        "# Comparison of strings\n",
        "print(\"pyscript\" == \"PyScript\")\n",
        "\n",
        "# Compare a boolean with an integer\n",
        "print( True == 1)\n",
        "\n",
        "'''\n",
        "<script.py> output:\n",
        "    False\n",
        "    True\n",
        "    False\n",
        "    True\n",
        "'''"
      ],
      "execution_count": null,
      "outputs": []
    },
    {
      "cell_type": "markdown",
      "metadata": {
        "id": "-K_ol7t-gVBb"
      },
      "source": [
        "Conclusion\n",
        "\n",
        "The last comparison worked fine because actually, a boolean is a special kind of integer: True corresponds to 1, False corresponds to 0."
      ]
    },
    {
      "cell_type": "markdown",
      "metadata": {
        "id": "mIhQf2BYgskK"
      },
      "source": [
        "# Greater and less than\n",
        "\n",
        "In the video, Hugo also talked about the less than and greater than signs, < and > in Python. You can combine them with an equals sign: <= and >=. Pay attention: <= is valid syntax, but =< is not.\n",
        "\n",
        "All Python expressions in the following code chunk evaluate to True:\n",
        "\n",
        "```\n",
        "3 < 4\n",
        "3 <= 4\n",
        "\"alpha\" <= \"beta\"\n",
        "```\n",
        "Remember that for string comparison, Python determines the relationship based on alphabetical order.\n",
        "\n",
        "Instructions\n",
        "\n",
        "1. Write Python expressions, wrapped in a print() function, to check whether:\n",
        "\n",
        "  * x is greater than or equal to -10. x has already been defined for you.\n",
        "\n",
        "  * \"test\" is less than or equal to y. y has already been defined for you.\n",
        "\n",
        "  * True is greater than False."
      ]
    },
    {
      "cell_type": "code",
      "metadata": {
        "id": "PBe6G23xhrz9"
      },
      "source": [
        "# Comparison of integers\n",
        "x = -3 * 6\n",
        "print(x >= -10)\n",
        "\n",
        "# Comparison of strings\n",
        "y = \"test\"\n",
        "print(y >= \"test\")\n",
        "\n",
        "# Comparison of booleans\n",
        "print(True > False)\n",
        "\n",
        "<script.py> output:\n",
        "    False\n",
        "    True\n",
        "    True"
      ],
      "execution_count": null,
      "outputs": []
    },
    {
      "cell_type": "markdown",
      "metadata": {
        "id": "sVt1JrqmidSo"
      },
      "source": [
        "# Compare arrays\n",
        "\n",
        "Out of the box, you can also use comparison operators with Numpy arrays.\n",
        "\n",
        "Remember areas, the list of area measurements for different rooms in your house from Introduction to Python? This time there's two Numpy arrays: my_house and your_house. They both contain the areas for the kitchen, living room, bedroom and bathroom in the same order, so you can compare them.\n",
        "\n",
        "Instructions\n",
        "\n",
        "Using comparison operators, generate boolean arrays that answer the following questions:\n",
        "\n",
        "1. Which areas in my_house are greater than or equal to 18?\n",
        "\n",
        "2. You can also compare two Numpy arrays element-wise. Which areas in my_house are smaller than the ones in your_house?\n",
        "\n",
        "3. Make sure to wrap both commands in a print() statement so that you can inspect the output!"
      ]
    },
    {
      "cell_type": "code",
      "metadata": {
        "id": "AMu4p5qmipRS",
        "outputId": "03cf1dce-60a7-4349-dbbd-7c172a715083",
        "colab": {
          "base_uri": "https://localhost:8080/",
          "height": 102
        }
      },
      "source": [
        "# Create arrays\n",
        "import numpy as np\n",
        "my_house = np.array([18.0, 20.0, 10.75, 9.50])\n",
        "your_house = np.array([14.0, 24.0, 14.25, 9.0])\n",
        "\n",
        "# my_house greater than or equal to 18\n",
        "print(my_house >= 18)\n",
        "\n",
        "# my_house less than your_house\n",
        "print(my_house <= your_house)\n",
        "\n",
        "print(my_house[my_house >=18])\n",
        "\n",
        "print(my_house[my_house <= your_house])\n",
        "'''\n",
        "<script.py> output:\n",
        "    [ True  True False False]\n",
        "    [False  True  True False]\n",
        "    '''"
      ],
      "execution_count": 2,
      "outputs": [
        {
          "output_type": "stream",
          "text": [
            "[ True  True False False]\n",
            "[False  True  True False]\n",
            "[18. 20.]\n",
            "[20.   10.75]\n"
          ],
          "name": "stdout"
        },
        {
          "output_type": "execute_result",
          "data": {
            "application/vnd.google.colaboratory.intrinsic+json": {
              "type": "string"
            },
            "text/plain": [
              "'\\n<script.py> output:\\n    [ True  True False False]\\n    [False  True  True False]\\n    '"
            ]
          },
          "metadata": {
            "tags": []
          },
          "execution_count": 2
        }
      ]
    },
    {
      "cell_type": "markdown",
      "metadata": {
        "id": "jyR_uaSIkKcq"
      },
      "source": [
        "Conclusion\n",
        "\n",
        "Good job. It appears that the living room and bedroom in my_house are smaller than the corresponding areas in your_house."
      ]
    },
    {
      "cell_type": "markdown",
      "metadata": {
        "id": "MeC-Zu_wkSRE"
      },
      "source": [
        "# Boolean Operators\n",
        "\n",
        "1. Boolean Operators\n",
        "You're doing great! And now that you can produce booleans by performing comparison operations, the next step is combining these booleans.\n",
        "\n",
        "2. Boolean Operators\n",
        "You can use boolean operators for this. The three most common ones are and, or, and not.\n",
        "\n",
        "3. and\n",
        "The and operator works just as you would expect. It takes two booleans and returns True only if both the booleans themselves are True. This means that True and True evaluates True, but False and True, True and False and False and False all evaluate to False. Instead of using booleans, we can of course use the results of comparisons. Suppose we have a variable x, equal to 12. To check if this variable is greater than 5 but less than 15, we can use x greater than 5 and x less than 15. As you already learned, the first part will evaluate to True. The second part, will also evaluate to True. So the result of this expression, True and True, is True. This makes sense, because 12 lies between 5 and 15.\n",
        "\n",
        "4. or\n",
        "The or operator works similarly, but the difference is that only at least one of the booleans it uses should be True. This means that, True or True equals True, but that also False or True and True or False evaluate to True. Only False or False results in False. Also here you can make combinations with variables, like this example that checks if a variable y, which is equal to 5, is less than 7 or above 13. 5 less than 7 is True, 5 greater than 13 is False. The or operation thus returns True.\n",
        "\n",
        "5. not\n",
        "Finally, there's the not operator. It simply negates the boolean value you use it on. not True is False, not False is True. The not operation is typically useful if you're combining different boolean operations and then want to negate that result; you'll see some examples in the exercises.\n",
        "\n",
        "6. NumPy\n",
        "Now, for Numpy arrays, things are different. Retaking the bmi example from the intro course, we can try to find out which bmis are higher than 21, but lower than 22. The output of bmi greater than 21 is easily found, so is the one for the bmi lower than 22. Let's now try to combine those with the and operator I just introduced. Oops, an error. The truth value of an array with more than one element is ambiguous. and clearly doesn't like an array of booleans to work on.\n",
        "\n",
        "7. NumPy\n",
        "After some digging in the numpy documentation, you can find the functions logical_and, logical_or and logical_not, the \"array equivalents\" of and or and not. To find out which bmis are between 21 and 22, we thus need this call. Again, as we expect from Numpy, the and operation is performed element-wise: True and True give True, like these ones, but False and True or True and False give False, like for these elements. To actually select only these bmis from the bmi array, we can use the resulting array of booleans in square brackets. Again, Numpy wins when it comes to writing short yet very expressive Python code. I can hear you asking, \"Cool, but how does this work for Pandas DataFrames, the de facto standard for dataset manipulation?\" That's something you'll find out later in this chapter.\n",
        "\n",
        "8. Let's practice!\n",
        "First try to ace the exercises that follow, and I'll see you in the next video!"
      ]
    },
    {
      "cell_type": "markdown",
      "metadata": {
        "id": "-jkAubTXpQd_"
      },
      "source": [
        "# and, or, not (1)\n",
        "\n",
        "A boolean is either 1 or 0, True or False. With boolean operators such as and, or and not, you can combine these booleans to perform more advanced queries on your data.\n",
        "\n",
        "In the sample code, two variables are defined: my_kitchen and your_kitchen, representing areas.\n",
        "\n",
        "Instructions\n",
        "\n",
        "1. Write Python expressions, wrapped in a print() function, to check whether:\n",
        "\n",
        "  * my_kitchen is bigger than 10 and smaller than 18.\n",
        "\n",
        " * my_kitchen is smaller than 14 or bigger than 17.\n",
        "\n",
        " * double the area of my_kitchen is smaller than triple the area of your_kitchen."
      ]
    },
    {
      "cell_type": "code",
      "metadata": {
        "id": "_Gui8VEAqNyz"
      },
      "source": [
        "# Define variables\n",
        "my_kitchen = 18.0\n",
        "your_kitchen = 14.0\n",
        "\n",
        "# my_kitchen bigger than 10 and smaller than 18?\n",
        "print(my_kitchen > 10 and my_kitchen < 18)\n",
        "\n",
        "# my_kitchen smaller than 14 or bigger than 17?\n",
        "print(my_kitchen < 14 or my_kitchen > 17)\n",
        "\n",
        "# Double my_kitchen smaller than triple your_kitchen?\n",
        "print(2 * my_kitchen < 3 * your_kitchen)\n",
        "\n",
        "<script.py> output:\n",
        "    False\n",
        "    True\n",
        "    True"
      ],
      "execution_count": null,
      "outputs": []
    },
    {
      "cell_type": "markdown",
      "metadata": {
        "id": "nOSeT8Tvq3QV"
      },
      "source": [
        "# and, or, not (2)\n",
        "\n",
        "To see if you completely understood the boolean operators, have a look at the following piece of Python code:\n",
        "```\n",
        "x = 8\n",
        "y = 9\n",
        "not(not(x < 3) and not(y > 14 or y > 10))\n",
        "```\n",
        "\n",
        "NB: Notice that not has a higher priority than and and or, it is executed first.\n",
        "\n",
        "What will the result be if you execute these three commands in the IPython Shell?\n",
        "\n",
        "\n",
        "1. True\n",
        "\n",
        "2. False - NB: Notice that not has a higher priority than and and or, it is executed first.\n",
        "\n",
        "3. Running these commands will result in an error."
      ]
    },
    {
      "cell_type": "markdown",
      "metadata": {
        "id": "NyinKgzUrj-P"
      },
      "source": [
        "# Boolean operators with Numpy\n",
        "\n",
        "Before, the operational operators like < and >= worked with Numpy arrays out of the box. Unfortunately, this is not true for the boolean operators and, or, and not.\n",
        "\n",
        "To use these operators with Numpy, you will need np.logical_and(), np.logical_or() and np.logical_not(). Here's an example on the my_house and your_house arrays from before to give you an idea:\n",
        "\n",
        "```\n",
        "np.logical_and(my_house > 13, \n",
        "               your_house < 15)\n",
        "```\n",
        "\n",
        "Instructions\n",
        "\n",
        "1. Generate boolean arrays that answer the following questions:\n",
        "\n",
        "2. Which areas in my_house are greater than 18.5 or smaller than 10?\n",
        "\n",
        "3. Which areas are smaller than 11 in both my_house and your_house? Make sure to wrap both commands in print() statement, so that you can inspect the output."
      ]
    },
    {
      "cell_type": "code",
      "metadata": {
        "id": "64CqnqFrxzI2"
      },
      "source": [
        "# Create arrays\n",
        "import numpy as np\n",
        "my_house = np.array([18.0, 20.0, 10.75, 9.50])\n",
        "your_house = np.array([14.0, 24.0, 14.25, 9.0])\n",
        "\n",
        "# my_house greater than 18.5 or smaller than 10\n",
        "print(np.logical_or(my_house > 18, my_house < 10))\n",
        "\n",
        "# Both my_house and your_house smaller than 11\n",
        "print(np.logical_and(my_house < 11, your_house < 11))"
      ],
      "execution_count": null,
      "outputs": []
    },
    {
      "cell_type": "markdown",
      "metadata": {
        "id": "USWQSo4M1gEu"
      },
      "source": [
        "# if, elif, else\n",
        "\n",
        "1. if, elif, else\n",
        "So you know about comparison operators now,\n",
        "\n",
        "2. Overview\n",
        "such as less than and greater than, and you also know how to combine the boolean results, using boolean operators such as and and or. Things get really interesting when you can actually use these concepts to change how your program behaves. Depending on the outcome of your comparisons, you might want your Python code to behave differently. You can do this with conditional statements in Python: if, else and elif.\n",
        "\n",
        "3. if\n",
        "Let's start working in a script, control.py. Suppose you have a variable z, equal to 4. If the value is even, you want to print out: \"z is even\". This code does the trick. modulo operator 2 will return 0 if z is even. If you run this, Python checks if the condition holds. It's true, so the corresponding code is executed: \"z is even\" gets printed out. Let's compare this to the general recipe for an if statement. It reads as follows: if condition, execute expression. Notice the colon at the end, and the fact that you simply have to indent the Python code with four spaces (or a tab) to tell Python what to do in the case the condition succeeds.\n",
        "\n",
        "4. if\n",
        "To exit the if statement, simply continue with some Python code without indentation, and Python will now that it's not part of the if statement.\n",
        "\n",
        "5. if\n",
        "It's perfectly possible to have more lines inside the if statement, like this for example. The script now prints out two lines if you run it. If the condition does not pass, the expression is not executed.\n",
        "\n",
        "6. if\n",
        "You can see this if we change z to be 5 and rerun the code: there's no output. Suppose now that you want to print out \"z is odd\" in this case. How to do this?\n",
        "\n",
        "7. else\n",
        "Well, you can simply use an else statement, like this. If we run it with z equal to 5, the condition is not true, so the expression for the else statement gets printed out. The general recipe looks like this: for the else statement, you don't need to specify a condition. The corresponding expression gets run if the condition of the if statement it belongs to does not hold.\n",
        "\n",
        "8. elif\n",
        "You can think of cases where even more customized behavior is necessary. Say you want different printouts for numbers that are divisible by 2 and by 3. You can throw some elifs in there to get the job done. Take this example. Can you tell what this script will print out if you run it? If z equals 3, the first condition is False, so it goes over to the next condition. This condition, does hold, so the corresponding print statement is executed.\n",
        "\n",
        "9. elif\n",
        "Suppose now that z equals 6. Both the if and elif conditions hold in this case. Will two printouts occur? Nope. As soon as Python bumps into a condition that is true, it executes the corresponding code and then leaves the control structure after that. This means the second condition, corresponding to the elif, is never reached so there's no corresponding printout.\n",
        "\n",
        "10. Let's practice!\n",
        "Control flow can be extremely powerful when you're writing your own Python scripts. Get some practice with it in the exercises!"
      ]
    },
    {
      "cell_type": "markdown",
      "metadata": {
        "id": "MnOyDoAA3sUk"
      },
      "source": [
        "# Warmup\n",
        "\n",
        "To experiment with if and else a bit, have a look at this code sample:\n",
        "\n",
        "```\n",
        "area = 10.0\n",
        "if(area < 9) :\n",
        "    print(\"small\")\n",
        "elif(area < 12) :\n",
        "    print(\"medium\")\n",
        "else :\n",
        "    print(\"large\")\n",
        "```\n",
        "\n",
        "What will the output be if you run this piece of code in the IPython Shell?\n",
        "\n",
        "\n",
        "Possible Answers\n",
        "\n",
        "1. small - Wrong, area < 9 will evaluate to False, so the corresponding code is not executed.\n",
        "\n",
        "2. medium - Correct\n",
        "\n",
        "3. large - The else statement is not executed.\n",
        "\n",
        "4. The syntax is incorrect; this code will produce an error."
      ]
    },
    {
      "cell_type": "markdown",
      "metadata": {
        "id": "5KUDf8xM51At"
      },
      "source": [
        "# if\n",
        "\n",
        "It's time to take a closer look around in your house.\n",
        "\n",
        "Two variables are defined in the sample code: room, a string that tells you which room of the house we're looking at, and area, the area of that room.\n",
        "\n",
        "Instructions\n",
        "\n",
        "1. Examine the if statement that prints out \"Looking around in the kitchen.\" if room equals \"kit\".\n",
        "\n",
        "2. Write another if statement that prints out \"big place!\" if area is greater than 15."
      ]
    },
    {
      "cell_type": "code",
      "metadata": {
        "id": "GyeRtCT66RQB"
      },
      "source": [
        "# Define variables\n",
        "room = \"kit\"\n",
        "area = 14.0\n",
        "\n",
        "# if statement for room\n",
        "if room == \"kit\" :\n",
        "    print(\"looking around in the kitchen.\")\n",
        "\n",
        "# if statement for area\n",
        "if area > 15 :\n",
        "    print(\"big place!\")\n",
        "\n",
        "<script.py> output:\n",
        "    looking around in the kitchen."
      ],
      "execution_count": null,
      "outputs": []
    },
    {
      "cell_type": "markdown",
      "metadata": {
        "id": "1JGXrtfj6iJA"
      },
      "source": [
        "Conclusion\n",
        "\n",
        "Great! big place! wasn't printed, because area > 15 is not True. Experiment with other values of room and area to see how the printouts change."
      ]
    },
    {
      "cell_type": "markdown",
      "metadata": {
        "id": "EnqXHoUe6mwb"
      },
      "source": [
        "# Add else\n",
        "\n",
        "In the script, the if construct for room has been extended with an else statement so that \"looking around elsewhere.\" is printed if the condition room == \"kit\" evaluates to False.\n",
        "\n",
        "Can you do a similar thing to add more functionality to the if construct for area?\n",
        "\n",
        "Instructions\n",
        "\n",
        "1. Add an else statement to the second control structure so that \"pretty small.\" is printed out if area > 15 evaluates to False."
      ]
    },
    {
      "cell_type": "code",
      "metadata": {
        "id": "Ms_1MtEC68bK"
      },
      "source": [
        "# Define variables\n",
        "room = \"kit\"\n",
        "area = 14.0\n",
        "\n",
        "# if-else construct for room\n",
        "if room == \"kit\" :\n",
        "    print(\"looking around in the kitchen.\")\n",
        "else :\n",
        "    print(\"looking around elsewhere.\")\n",
        "\n",
        "# if-else construct for area\n",
        "if area > 15 :\n",
        "    print(\"big place!\")\n",
        "\n",
        "else :\n",
        "    print(\"pretty small.\")\n",
        "\n",
        "<script.py> output:\n",
        "    looking around in the kitchen.\n",
        "    pretty small."
      ],
      "execution_count": null,
      "outputs": []
    },
    {
      "cell_type": "markdown",
      "metadata": {
        "id": "W7_YpInS7EvW"
      },
      "source": [
        "Conclusion\n",
        "\n",
        "Nice! Again, feel free to play around with different values of room and area some more. After, head over to the next exercise where you'll take this customization one step further!"
      ]
    },
    {
      "cell_type": "markdown",
      "metadata": {
        "id": "9-1tf4o67J5d"
      },
      "source": [
        "# Customize further: elif\n",
        "\n",
        "It's also possible to have a look around in the bedroom. The sample code contains an elif part that checks if room equals \"bed\". In that case, \"looking around in the bedroom.\" is printed out.\n",
        "\n",
        "It's up to you now! Make a similar addition to the second control structure to further customize the messages for different values of area.\n",
        "\n",
        "Instructions\n",
        "\n",
        "1. Add an elif to the second control structure such that \"medium size, nice!\" is printed out if area is greater than 10."
      ]
    },
    {
      "cell_type": "code",
      "metadata": {
        "id": "FJqOhevDAkw2"
      },
      "source": [
        "# Define variables\n",
        "room = \"bed\"\n",
        "area = 14.0\n",
        "\n",
        "# if-elif-else construct for room\n",
        "if room == \"kit\" :\n",
        "    print(\"looking around in the kitchen.\")\n",
        "elif room == \"bed\":\n",
        "    print(\"looking around in the bedroom.\")\n",
        "else :\n",
        "    print(\"looking around elsewhere.\")\n",
        "\n",
        "# if-elif-else construct for area\n",
        "if area > 15 :\n",
        "    print(\"big place!\")\n",
        "elif area > 10 :\n",
        "    print(\"medium size, nice!\")\n",
        "else :\n",
        "    print(\"pretty small.\")\n",
        "\n",
        "<script.py> output:\n",
        "    looking around in the bedroom.\n",
        "    medium size, nice!"
      ],
      "execution_count": null,
      "outputs": []
    }
  ]
}