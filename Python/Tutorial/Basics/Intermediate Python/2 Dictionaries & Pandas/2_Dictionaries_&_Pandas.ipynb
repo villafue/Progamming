{
  "nbformat": 4,
  "nbformat_minor": 0,
  "metadata": {
    "colab": {
      "name": "2 Dictionaries & Pandas.ipynb",
      "provenance": [],
      "authorship_tag": "ABX9TyN1+0OvpehQoq3D4ud/R7ux",
      "include_colab_link": true
    },
    "kernelspec": {
      "name": "python3",
      "display_name": "Python 3"
    },
    "language_info": {
      "name": "python"
    }
  },
  "cells": [
    {
      "cell_type": "markdown",
      "metadata": {
        "id": "view-in-github",
        "colab_type": "text"
      },
      "source": [
        "<a href=\"https://colab.research.google.com/github/villafue/Progamming/blob/main/Python/Tutorial/Basics/Intermediate%20Python/2%20Dictionaries%20%26%20Pandas/2_Dictionaries_%26_Pandas.ipynb\" target=\"_parent\"><img src=\"https://colab.research.google.com/assets/colab-badge.svg\" alt=\"Open In Colab\"/></a>"
      ]
    },
    {
      "cell_type": "markdown",
      "metadata": {
        "id": "QE_wP9v_H8S0"
      },
      "source": [
        "# Dictionaries & Pandas\n",
        "\n",
        "Learn about the dictionary, an alternative to the Python list, and the pandas DataFrame, the de facto standard to work with tabular data in Python. You will get hands-on practice with creating and manipulating datasets, and you’ll learn how to access the information you need from these data structures."
      ]
    },
    {
      "cell_type": "markdown",
      "metadata": {
        "id": "AsxfCctTJEnE"
      },
      "source": [
        "# Dictionaries, Part 1\n",
        "\n",
        "1. Dictionaries, Part 1\n",
        "Weeeeeelcome back. Now do I have a treat for you. In this video, I'll be talking about a new Python type: the dictionary. Dictionaries are sooooo useful in the data world and to see this, imagine the following: you work for the World Bank and want to keep track of the population in each country.\n",
        "\n",
        "2. List\n",
        "You can put the populations in a list. You start with Afghanistan, 30.55 million, Albania, 2.77 million, Algeria, around 40 million, and so on. To keep track about which population belongs to which country, you can create a second list, with the names of the countries in the same order as the populations. Now suppose that want to get the population of Albania. First, you have to figure out where in the list Albania is, so that you can use this position to get the correct population. Remember about the method index(), a list method you learned about in the Intro to Python course? Let's use it to get the index of Albania in countries, like this. Now, we can use this index to subset the pop list, to get the population corresponding to Albania. As expected, we get 2.77, the population of Albania in millions. So we built two lists, and used the index to connect corresponding elements in both lists. It worked, but it's a pretty terrible approach: it's not convenient and not intuitive. Wouldn't it be easier if we had a way to connect each country directly to its population, without using an index? This is where the dictionary comes into play.\n",
        "\n",
        "3. Dictionary\n",
        "Let's convert this population data to a dictionary. I included the lists to start from on the top here, so you can see what's going on. To create the dictionary, you need curly brackets. Next, inside the curly brackets, you have a bunch of what are called key:value pairs. In our case, the keys are the country names, and the values are the corresponding populations.\n",
        "\n",
        "4. Dictionary\n",
        "The first key is Afghanistan, and its corresponding value is 30.55. Notice the colon that separates the key and value here. Let's do the same thing for the two other key-value pairs, and store the dictionary under the name world.\n",
        "\n",
        "5. Dictionary\n",
        "If you know want to find the population for Albania, you simply type world, and then the string Albania inside square brackets. In other words, you pass the key in square brackets, and you get the corresponding value. The key opens the door to the value: pretty poetic, isn't it? This approach is not only intuitive, it's also very efficient, because Python can make the lookup of these keys very fast, even for huge dictionaries.\n",
        "\n",
        "6. Let's practice!\n",
        "Get lyrical about dictionaries yourself in the exercises. In the next video, we'll delve deeper into how to use them. I can't wait!"
      ]
    },
    {
      "cell_type": "markdown",
      "metadata": {
        "id": "Mhyb6U6RJKDy"
      },
      "source": [
        "# Motivation for dictionaries\n",
        "\n",
        "To see why dictionaries are useful, have a look at the two lists defined in the script. countries contains the names of some European countries. capitals lists the corresponding names of their capital.\n",
        "\n",
        "Instructions\n",
        "\n",
        "1. Use the index() method on countries to find the index of 'germany'. Store this index as ind_ger.\n",
        "\n",
        "2. Use ind_ger to access the capital of Germany from the capitals list. Print it out."
      ]
    },
    {
      "cell_type": "code",
      "metadata": {
        "id": "ocoNgbZeHlBT"
      },
      "source": [
        "# Definition of countries and capital\n",
        "countries = ['spain', 'france', 'germany', 'norway']\n",
        "capitals = ['madrid', 'paris', 'berlin', 'oslo']\n",
        "\n",
        "# Get index of 'germany': ind_ger\n",
        "ind_ger = countries.index('germany')\n",
        "\n",
        "# Use ind_ger to print out capital of Germany\n",
        "print(capitals[ind_ger])\n",
        "\n",
        "<script.py> output:\n",
        "    berlin"
      ],
      "execution_count": null,
      "outputs": []
    },
    {
      "cell_type": "markdown",
      "metadata": {
        "id": "3tlk_kTHKduL"
      },
      "source": [
        "Conclusion:\n",
        "\n",
        "As Hugo already told you: this works, but it's not very convenient. Head over to the next exercise to create a dictionary of this data."
      ]
    },
    {
      "cell_type": "markdown",
      "metadata": {
        "id": "_GKQYbU1LJJz"
      },
      "source": [
        "# Create dictionary\n",
        "\n",
        "The countries and capitals lists are again available in the script. It's your job to convert this data to a dictionary where the country names are the keys and the capitals are the corresponding values. As a refresher, here is a recipe for creating a dictionary:\n",
        "```\n",
        "my_dict = {\n",
        "   \"key1\":\"value1\",\n",
        "   \"key2\":\"value2\",\n",
        "}\n",
        "```\n",
        "In this recipe, both the keys and the values are strings. This will also be the case for this exercise.\n",
        "\n",
        "Instructions\n",
        "\n",
        "1. With the strings in countries and capitals, create a dictionary called europe with 4 key:value pairs. Beware of capitalization! Make sure you use lowercase characters everywhere.\n",
        "\n",
        "2. Print out europe to see if the result is what you expected."
      ]
    },
    {
      "cell_type": "code",
      "metadata": {
        "id": "PxLCFOiENulk"
      },
      "source": [
        "# Definition of countries and capital\n",
        "countries = ['spain', 'france', 'germany', 'norway']\n",
        "capitals = ['madrid', 'paris', 'berlin', 'oslo']\n",
        "\n",
        "# From string in countries and capitals, create dictionary europe\n",
        "europe = { 'spain':'madrid', 'france':'paris', 'germany':'berlin', 'norway':'oslo'}\n",
        "\n",
        "# Print europe\n",
        "print(europe)\n",
        "\n",
        "<script.py> output:\n",
        "    {'spain': 'madrid', 'norway': 'oslo', 'germany': 'berlin', 'france': 'paris'}"
      ],
      "execution_count": null,
      "outputs": []
    },
    {
      "cell_type": "markdown",
      "metadata": {
        "id": "hY1mRhiLNxRT"
      },
      "source": [
        "Conclusion:\n",
        "\n",
        "Great! Now that you've built your first dictionaries, let's get serious!"
      ]
    },
    {
      "cell_type": "markdown",
      "metadata": {
        "id": "DqrtSwLRICQ2"
      },
      "source": [
        "# Access dictionary\n",
        "\n",
        "If the keys of a dictionary are chosen wisely, accessing the values in a dictionary is easy and intuitive. For example, to get the capital for France from europe you can use:\n",
        "\n",
        "`europe['france']`\n",
        "\n",
        "Here, 'france' is the key and 'paris' the value is returned.\n",
        "\n",
        "Instructions\n",
        "\n",
        "1. Check out which keys are in europe by calling the keys() method on europe. \n",
        "\n",
        "2. Print out the result.\n",
        "\n",
        "3. Print out the value that belongs to the key 'norway'."
      ]
    },
    {
      "cell_type": "code",
      "metadata": {
        "id": "7T4YcdJtIxyT"
      },
      "source": [
        "<script.py> output:\n",
        "    dict_keys(['germany', 'spain', 'norway', 'france'])\n",
        "    oslo"
      ],
      "execution_count": null,
      "outputs": []
    },
    {
      "cell_type": "markdown",
      "metadata": {
        "id": "jyAov1vDIzg1"
      },
      "source": [
        "# Dictionaries, Part 2\n",
        "\n",
        "1. Dictionaries, Part 2\n",
        "In the previous video,\n",
        "\n",
        "2. Recap\n",
        "we created the dictionary \"world\", which basically is a set of key value pairs. You could easily access the population of Albania, by passing the key in square brackets, like this. For this lookup to work properly, the keys in a dictionary should be unique. If you try to add another key:value pair to world with the same key, Albania, for example, you'll see that the resulting world dictionary still contains three pairs. The last pair that you specified in the curly brackets was kept in the resulting dictionary.\n",
        "\n",
        "3. Recap\n",
        "Also, these unique keys in a dictionary should be so-called immutable objects. Basically, the content of immutable objects cannot be changed after they're created. Strings, booleans, integers and floats are immutable objects, but the list for example is mutable, because you can change its contents after it's created. That's why this dictionary, that has all immutable objects as keys, is perfectly valid. This one, however, that uses a list as a key, is not valid, so we get an error. So now that you have an idea of how to build a valid dictionary and how to access it using square brackets, let's see how we can add more data to a dictionary that already exists.\n",
        "\n",
        "4. Principality of Sealand\n",
        "Say for example that you, an employee of the World Bank, decide to acknowledge the Principality of Sealand. Sealand is an unrecognized micronation, on an offshore platform located in the North Sea. At the moment, it has 27 inhabitants.\n",
        "\n",
        "1 Source: Wikipedia\n",
        "5. Dictionary\n",
        "To add this information, simply write the key sealand in square brackets and assign 27 expressed in millions to it with the equals sign. If you check out \"world\" again, indeed, sealand is in there. To check this with code, you can also write \"sealand in world\", which gives you True if the key sealand is in there.\n",
        "\n",
        "6. Dictionary\n",
        "With the same syntax, you can also change values, for example, to update the population of sealand to 28. Because each key in a dictionary is unique, Python knows that you're not trying to create a new pair, but want to update the pair that's already in there. You can see this from the printout here. Suppose now that your boss didn't see the humour of adding Sealand to the list, and asks you to remove it again. You can do this with del, again pointing to sealand inside square brackets. If you print world again, Sealand is no longer in there. Good riddance!\n",
        "\n",
        "7. List vs Dictionary\n",
        "If you remember the discussion of lists from the intro course, you'll notice that using lists\n",
        "\n",
        "8. List vs Dictionary\n",
        "and dictionaries is pretty similar. You can\n",
        "\n",
        "9. List vs Dictionary\n",
        "select, update and remove elements with square brackets.\n",
        "\n",
        "10. List vs Dictionary\n",
        "There are some big differences though. The list is a sequence of values\n",
        "\n",
        "11. List vs Dictionary\n",
        "that are indexed by a range of numbers. The dictionary, on the other hand,\n",
        "\n",
        "12. List vs Dictionary\n",
        "is indexed by unique keys, that can be any immutable type. When to use which one, I hear you ask? Well, if you have a collection of values\n",
        "\n",
        "13. List vs Dictionary\n",
        "where the order matters, and you want to easily select entire subsets of data, you'll want to go with a list. If, on the other hand, you need some sort of\n",
        "\n",
        "14. List vs Dictionary\n",
        "look up table, where looking for data should be fast and where you can specify unique keys, a dictionary is the preferred option.\n",
        "\n",
        "15. Let's practice!\n",
        "Now off to some more exercises on dictionaries! I'll see you back here soon.\n"
      ]
    },
    {
      "cell_type": "markdown",
      "metadata": {
        "id": "pbwflNNtL4GY"
      },
      "source": [
        "# Dictionary Manipulation (1)\n",
        "\n",
        "If you know how to access a dictionary, you can also assign a new value to it. To add a new key-value pair to europe you can use something like this:\n",
        "\n",
        "`europe['iceland'] = 'reykjavik'`\n",
        "\n",
        "Instructions\n",
        "\n",
        "1. Add the key 'italy' with the value 'rome' to europe.\n",
        "\n",
        "2. To assert that 'italy' is now a key in europe, print out 'italy' in europe.\n",
        "\n",
        "3. Add another key:value pair to europe: 'poland' is the key, 'warsaw' is the corresponding value.\n",
        "\n",
        "4. Print out europe."
      ]
    },
    {
      "cell_type": "code",
      "metadata": {
        "id": "evh-574ANfZL"
      },
      "source": [
        "# Definition of dictionary\n",
        "europe = {'spain':'madrid', 'france':'paris', 'germany':'berlin', 'norway':'oslo' }\n",
        "\n",
        "# Add italy to europe\n",
        "europe['italy'] = 'rome'\n",
        "\n",
        "# Print out italy in europe\n",
        "print('italy' in europe)\n",
        "\n",
        "# Add poland to europe\n",
        "europe['poland'] = 'warsaw'\n",
        "\n",
        "# Print europe\n",
        "print(europe)\n",
        "\n",
        "<script.py> output:\n",
        "    True\n",
        "    {'poland': 'warsaw', 'norway': 'oslo', 'france': 'paris', 'germany': 'berlin', 'spain': 'madrid', 'italy': 'rome'}"
      ],
      "execution_count": null,
      "outputs": []
    },
    {
      "cell_type": "markdown",
      "metadata": {
        "id": "WWhlyBYCNko3"
      },
      "source": [
        "Conclusion\n",
        "\n",
        "Well done! Europe is growing by the minute! Did you notice that the order of the printout is not the same as the order in the dictionary's definition? That's because dictionaries are inherently unordered."
      ]
    },
    {
      "cell_type": "markdown",
      "metadata": {
        "id": "bBlaGMqGOIGh"
      },
      "source": [
        "# Dictionary Manipulation (2)\n",
        "\n",
        "Somebody thought it would be funny to mess with your accurately generated dictionary. An adapted version of the europe dictionary is available in the script.\n",
        "\n",
        "Can you clean up? Do not do this by adapting the definition of europe, but by adding Python commands to the script to update and remove key:value pairs.\n",
        "\n",
        "Instructions\n",
        "\n",
        "1. The capital of Germany is not 'bonn'; it's 'berlin'. Update its value.\n",
        "\n",
        "2. Australia is not in Europe, Austria is! Remove the key 'australia' from europe.\n",
        "\n",
        "3. Print out europe to see if your cleaning work paid off."
      ]
    },
    {
      "cell_type": "code",
      "metadata": {
        "id": "y4HmJJSfOG3S"
      },
      "source": [
        "# Definition of dictionary\n",
        "europe = {'spain':'madrid', 'france':'paris', 'germany':'bonn',\n",
        "          'norway':'oslo', 'italy':'rome', 'poland':'warsaw',\n",
        "          'australia':'vienna' }\n",
        "\n",
        "# Update capital of germany\n",
        "europe['germany'] = 'berlin'\n",
        "\n",
        "# Remove australia\n",
        "del europe['australia']\n",
        "\n",
        "# Print europe\n",
        "print(europe)\n",
        "\n",
        "<script.py> output:\n",
        "    {'poland': 'warsaw', 'norway': 'oslo', 'france': 'paris', 'germany': 'berlin', \n",
        "     'spain': 'madrid', 'italy': 'rome'}"
      ],
      "execution_count": null,
      "outputs": []
    },
    {
      "cell_type": "markdown",
      "metadata": {
        "id": "KJAPmO0bOl71"
      },
      "source": [
        "# Dictionariception\n",
        "\n",
        "Remember lists? They could contain anything, even other lists. Well, for dictionaries the same holds. Dictionaries can contain key:value pairs where the values are again dictionaries.\n",
        "\n",
        "As an example, have a look at the script where another version of europe - the dictionary you've been working with all along - is coded. The keys are still the country names, but the values are dictionaries that contain more information than just the capital.\n",
        "\n",
        "It's perfectly possible to chain square brackets to select elements. To fetch the population for Spain from europe, for example, you need:\n",
        "\n",
        "`europe['spain']['population']`\n",
        "\n",
        "Instructions\n",
        "\n",
        "1. Use chained square brackets to select and print out the capital of France.\n",
        "\n",
        "2. Create a dictionary, named data, with the keys 'capital' and 'population'. Set them to 'rome' and 59.83, respectively.\n",
        "\n",
        "3. Add a new key-value pair to europe; the key is 'italy' and the value is data, the dictionary you just built."
      ]
    },
    {
      "cell_type": "code",
      "metadata": {
        "id": "kkDSnrHAOlVK"
      },
      "source": [
        "# Dictionary of dictionaries\n",
        "europe = { 'spain': { 'capital':'madrid', 'population':46.77 },\n",
        "           'france': { 'capital':'paris', 'population':66.03 },\n",
        "           'germany': { 'capital':'berlin', 'population':80.62 },\n",
        "           'norway': { 'capital':'oslo', 'population':5.084 } }\n",
        "\n",
        "# Print out the capital of France\n",
        "print(europe['france']['capital'])\n",
        "\n",
        "# Create sub-dictionary data\n",
        "data = {'population': 59.83, 'capital': 'rome'}\n",
        "\n",
        "# Add data to europe under key 'italy'\n",
        "europe['italy'] = data\n",
        "\n",
        "# Print europe\n",
        "print(europe)\n",
        "\n",
        "<script.py> output:\n",
        "    paris\n",
        "    {'germany': {'population': 80.62, 'capital': 'berlin'}, \n",
        "     'spain': {'population': 46.77, 'capital': 'madrid'}, \n",
        "     'italy': {'population': 59.83, 'capital': 'rome'}, \n",
        "     'norway': {'population': 5.084, 'capital': 'oslo'}, \n",
        "     'france': {'population': 66.03, 'capital': 'paris'}}"
      ],
      "execution_count": null,
      "outputs": []
    },
    {
      "cell_type": "markdown",
      "metadata": {
        "id": "TOYvkWS2L1Qq"
      },
      "source": [
        "---"
      ]
    },
    {
      "cell_type": "markdown",
      "metadata": {
        "id": "vJVB13oxLvbm"
      },
      "source": [
        "#Fun Personal Practice"
      ]
    },
    {
      "cell_type": "code",
      "metadata": {
        "id": "S_ud0j8HKXK-",
        "outputId": "8e0a7909-db0e-45aa-d633-c8a410720cab",
        "colab": {
          "base_uri": "https://localhost:8080/"
        }
      },
      "source": [
        "world = {'poop': 30, 'caca': 15, 'piss': 5}\n",
        "world"
      ],
      "execution_count": 1,
      "outputs": [
        {
          "output_type": "execute_result",
          "data": {
            "text/plain": [
              "{'caca': 15, 'piss': 5, 'poop': 30}"
            ]
          },
          "metadata": {
            "tags": []
          },
          "execution_count": 1
        }
      ]
    },
    {
      "cell_type": "code",
      "metadata": {
        "id": "va193r2PKtYL",
        "outputId": "abe2b15c-a513-4878-c940-9c7ac2c0ac0c",
        "colab": {
          "base_uri": "https://localhost:8080/"
        }
      },
      "source": [
        "world['poop']"
      ],
      "execution_count": 3,
      "outputs": [
        {
          "output_type": "execute_result",
          "data": {
            "text/plain": [
              "30"
            ]
          },
          "metadata": {
            "tags": []
          },
          "execution_count": 3
        }
      ]
    },
    {
      "cell_type": "code",
      "metadata": {
        "id": "w9M8jP2zKx-6",
        "outputId": "ddc2dd5d-3eaf-4b51-ec39-8775404b986d",
        "colab": {
          "base_uri": "https://localhost:8080/"
        }
      },
      "source": [
        "world.keys()"
      ],
      "execution_count": 4,
      "outputs": [
        {
          "output_type": "execute_result",
          "data": {
            "text/plain": [
              "dict_keys(['poop', 'caca', 'piss'])"
            ]
          },
          "metadata": {
            "tags": []
          },
          "execution_count": 4
        }
      ]
    },
    {
      "cell_type": "code",
      "metadata": {
        "id": "NCmFhqy9K0mP",
        "outputId": "144da897-e6b7-48e0-8d82-a28fa27fd1d5",
        "colab": {
          "base_uri": "https://localhost:8080/"
        }
      },
      "source": [
        "world['shit'] = 60\n",
        "world"
      ],
      "execution_count": 5,
      "outputs": [
        {
          "output_type": "execute_result",
          "data": {
            "text/plain": [
              "{'caca': 15, 'piss': 5, 'poop': 30, 'shit': 60}"
            ]
          },
          "metadata": {
            "tags": []
          },
          "execution_count": 5
        }
      ]
    },
    {
      "cell_type": "code",
      "metadata": {
        "id": "uWRqWbqgK6_A",
        "outputId": "44d63e24-e646-4c33-cafd-72f738aed582",
        "colab": {
          "base_uri": "https://localhost:8080/"
        }
      },
      "source": [
        "del world['shit']\n",
        "world"
      ],
      "execution_count": 6,
      "outputs": [
        {
          "output_type": "execute_result",
          "data": {
            "text/plain": [
              "{'caca': 15, 'piss': 5, 'poop': 30}"
            ]
          },
          "metadata": {
            "tags": []
          },
          "execution_count": 6
        }
      ]
    },
    {
      "cell_type": "code",
      "metadata": {
        "id": "acxa65W0LLkF"
      },
      "source": [
        "earth = ['poop', 'caca', 'piss']"
      ],
      "execution_count": 8,
      "outputs": []
    },
    {
      "cell_type": "code",
      "metadata": {
        "id": "6qgr835WLVG6",
        "outputId": "74fc8951-19af-4372-b4d4-1d9e80813e15",
        "colab": {
          "base_uri": "https://localhost:8080/",
          "height": 35
        }
      },
      "source": [
        "earth[0]"
      ],
      "execution_count": 9,
      "outputs": [
        {
          "output_type": "execute_result",
          "data": {
            "application/vnd.google.colaboratory.intrinsic+json": {
              "type": "string"
            },
            "text/plain": [
              "'poop'"
            ]
          },
          "metadata": {
            "tags": []
          },
          "execution_count": 9
        }
      ]
    },
    {
      "cell_type": "code",
      "metadata": {
        "id": "cuX6v2iELYB-",
        "outputId": "9ee1a97e-9e4e-4ce9-f9dc-cb94c4471ddd",
        "colab": {
          "base_uri": "https://localhost:8080/"
        }
      },
      "source": [
        "'caca' in world"
      ],
      "execution_count": 17,
      "outputs": [
        {
          "output_type": "execute_result",
          "data": {
            "text/plain": [
              "True"
            ]
          },
          "metadata": {
            "tags": []
          },
          "execution_count": 17
        }
      ]
    }
  ]
}