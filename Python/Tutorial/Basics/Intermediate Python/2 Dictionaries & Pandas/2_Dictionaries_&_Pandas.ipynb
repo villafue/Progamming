{
  "nbformat": 4,
  "nbformat_minor": 0,
  "metadata": {
    "colab": {
      "name": "2 Dictionaries & Pandas.ipynb",
      "provenance": [],
      "authorship_tag": "ABX9TyPZd9FNFUFOd0rf3MCeUl1k",
      "include_colab_link": true
    },
    "kernelspec": {
      "name": "python3",
      "display_name": "Python 3"
    },
    "language_info": {
      "name": "python"
    }
  },
  "cells": [
    {
      "cell_type": "markdown",
      "metadata": {
        "id": "view-in-github",
        "colab_type": "text"
      },
      "source": [
        "<a href=\"https://colab.research.google.com/github/villafue/Progamming/blob/main/Python/Tutorial/Basics/Intermediate%20Python/2%20Dictionaries%20%26%20Pandas/2_Dictionaries_%26_Pandas.ipynb\" target=\"_parent\"><img src=\"https://colab.research.google.com/assets/colab-badge.svg\" alt=\"Open In Colab\"/></a>"
      ]
    },
    {
      "cell_type": "markdown",
      "metadata": {
        "id": "QE_wP9v_H8S0"
      },
      "source": [
        "# Dictionaries & Pandas\n",
        "\n",
        "Learn about the dictionary, an alternative to the Python list, and the pandas DataFrame, the de facto standard to work with tabular data in Python. You will get hands-on practice with creating and manipulating datasets, and you’ll learn how to access the information you need from these data structures."
      ]
    },
    {
      "cell_type": "code",
      "metadata": {
        "id": "ocoNgbZeHlBT"
      },
      "source": [
        ""
      ],
      "execution_count": null,
      "outputs": []
    }
  ]
}