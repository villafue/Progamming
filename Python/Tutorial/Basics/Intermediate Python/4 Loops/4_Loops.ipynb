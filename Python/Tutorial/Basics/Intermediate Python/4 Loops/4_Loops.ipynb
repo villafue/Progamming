{
  "nbformat": 4,
  "nbformat_minor": 0,
  "metadata": {
    "colab": {
      "name": "4 Loops.ipynb",
      "provenance": [],
      "authorship_tag": "ABX9TyMkZ35T1dK/GPmEU8hUEyW2",
      "include_colab_link": true
    },
    "kernelspec": {
      "name": "python3",
      "display_name": "Python 3"
    },
    "language_info": {
      "name": "python"
    }
  },
  "cells": [
    {
      "cell_type": "markdown",
      "metadata": {
        "id": "view-in-github",
        "colab_type": "text"
      },
      "source": [
        "<a href=\"https://colab.research.google.com/github/villafue/Progamming/blob/main/Python/Tutorial/Basics/Intermediate%20Python/4%20Loops/4_Loops.ipynb\" target=\"_parent\"><img src=\"https://colab.research.google.com/assets/colab-badge.svg\" alt=\"Open In Colab\"/></a>"
      ]
    },
    {
      "cell_type": "markdown",
      "metadata": {
        "id": "_UsPPLyJuLTq"
      },
      "source": [
        "# Loops\n",
        "\n",
        "There are several techniques you can use to repeatedly execute Python code. While loops are like repeated if statements, the for loop iterates over all kinds of data structures. Learn all about them in this chapter."
      ]
    },
    {
      "cell_type": "markdown",
      "metadata": {
        "id": "FQpxVkx-upHr"
      },
      "source": [
        "# while loop\n",
        "\n",
        "In the previous chapter, you've discovered the if-elif-else construct, a way to alter the flow of your scripts. As soon as Python encounters an if statement, it checks the condition.\n",
        "\n",
        "2. if-elif-else\n",
        "When this condition is True, the corresponding code is executed. If the conditions evaluates to False, and if there are elif and else statements, Python continues the search. Anyways, Python goes through this piece of code only once. After that, Python heads over to the next command in the script. The while loop is somewhat similar to an if statement: it executes the code inside if the condition is True. However, as opposed to the if statement, the while loop will continue to execute this code over and over again as long as the condition is true.\n",
        "\n",
        "3. While\n",
        "The syntax of a while loop is very similar to the if statement, as you can see here. The while loop is not that common, but in some cases it can be very useful. As example, suppose you're numerically calculating a model based on your data. This typically involves taking the same steps over and over again, until the error between your model and your data is below some boundary. When you can reformulate the problem as 'repeating an action until a particular condition is met', a while loop is often the way to go. Say that we start with an error of fifty and that our fancy algorithm divides the error by four on each run. We want to keep going until the error is no longer above 1.\n",
        "\n",
        "4. While\n",
        "Now heading over to the script, we start by adding the error we start with, 50. Next, we write a while loop. In the condition part, we write error > 1, so that the while loop executes again as long as the error is above 1. Inside the code, we divide the error by four and update the error variable. This kind of simulates our fancy algorithm that divides the error by four on every run. Next, we also print this error. Let's go through what happens if you actually run this script, step by step.\n",
        "\n",
        "5. While\n",
        "On the first run, the error is 50, so the while condition is True and the corresponding code is executed. The error is divided by four and printed out: 12.5.\n",
        "\n",
        "6. While\n",
        "Now, Python heads back to the condition of the while loop, with error equal to 12.5. Again, the condition is True, and the code is executed. The Error is divided by 4 and printed out. Now the error is 3.125 and Python heads back to the while condition.\n",
        "\n",
        "7. While\n",
        "3.125 is still greater than 1 so the corresponding code is executed again. Now, the error is only zero point seven eight so on, as you can see from the printout.\n",
        "\n",
        "8. While\n",
        "Once more, Python heads over to the while condition, but this time, the condition is False. The code in the while loop is not executed anymore, and Python moves on. Notice that inside this while loop, this update of error is crucial: the error had to go down to become lower than 1 at some point.\n",
        "\n",
        "9. While\n",
        "Suppose that we comment out these updates of the error value, and run the script again. The error isn't updated, so the condition is always True and the while loop will go on forever. On DataCamp, this will cause your session to be disconnected. If you're making this mistake on your own system, you will have to interrupt the python program by pressing the control and C keys.\n",
        "\n",
        "10. Let's practice!\n",
        "Head over to the exercises to write some while loops yourself, and be careful: your while loop should stop at some point! If it doesn't, how will you get back to the next video? Just kidding. See you soon."
      ]
    },
    {
      "cell_type": "markdown",
      "metadata": {
        "id": "RCHhDtgcvTII"
      },
      "source": [
        "# while: warming up\n",
        "\n",
        "The while loop is like a repeated if statement. The code is executed over and over again, as long as the condition is True. Have another look at its recipe.\n",
        "```\n",
        "while condition :\n",
        "    expression\n",
        "```\n",
        "Can you tell how many printouts the following while loop will do?\n",
        "```\n",
        "x = 1\n",
        "while x < 4 :\n",
        "    print(x)\n",
        "    x = x + 1\n",
        "```\n",
        "Possible Answers\n",
        "\n",
        "* 0\n",
        "\n",
        "* 1\n",
        "\n",
        "* 2\n",
        "\n",
        "* 3 - Correct! After 3 runs, x will be equal to 4, causing x < 4 to evaluate to False. This means that the while loop is executed 3 times, giving three printouts.\n",
        "\n",
        "* 4"
      ]
    },
    {
      "cell_type": "markdown",
      "metadata": {
        "id": "478zCtHkwoAA"
      },
      "source": [
        "# Basic while loop\n",
        "\n",
        "Below you can find the example from the video where the error variable, initially equal to 50.0, is divided by 4 and printed out on every run:\n",
        "```\n",
        "error = 50.0\n",
        "while error > 1 :\n",
        "    error = error / 4\n",
        "    print(error)\n",
        "```\n",
        "This example will come in handy, because it's time to build a while loop yourself! We're going to code a while loop that implements a very basic control system for an [inverted pendulum](https://en.wikipedia.org/wiki/Inverted_pendulum). If there's an offset from standing perfectly straight, the while loop will incrementally fix this offset.\n",
        "\n",
        "Note that if your while loop takes too long to run, you might have made a mistake. In particular, remember to indent the contents of the loop!\n",
        "\n",
        "Instructions\n",
        "\n",
        "1. Create the variable offset with an initial value of 8.\n",
        "\n",
        "2. Code a while loop that keeps running as long as offset is not equal to 0. Inside the while loop:\n",
        "\n",
        "  * Print out the sentence \"correcting...\".\n",
        "\n",
        "  * Next, decrease the value of offset by 1. You can do this with offset = offset - 1.\n",
        "\n",
        "  * Finally, still within your loop, print out offset so you can see how it changes."
      ]
    },
    {
      "cell_type": "code",
      "metadata": {
        "id": "h04nlCzxuG2s"
      },
      "source": [
        "# Initialize offset\n",
        "offset = 8\n",
        "\n",
        "# Code the while loop\n",
        "while offset != 0 :\n",
        "    print(\"correcting...\")\n",
        "    offset = offset - 1\n",
        "    print(offset)\n",
        "\n",
        "<script.py> output:\n",
        "    correcting...\n",
        "    7\n",
        "    correcting...\n",
        "    6\n",
        "    correcting...\n",
        "    5\n",
        "    correcting...\n",
        "    4\n",
        "    correcting...\n",
        "    3\n",
        "    correcting...\n",
        "    2\n",
        "    correcting...\n",
        "    1\n",
        "    correcting...\n",
        "    0"
      ],
      "execution_count": null,
      "outputs": []
    },
    {
      "cell_type": "markdown",
      "metadata": {
        "id": "pX9kAU0xxymH"
      },
      "source": [
        "# Add conditionals\n",
        "\n",
        "The while loop that corrects the offset is a good start, but what if offset is negative? You can try to run the following code where offset is initialized to -6:\n",
        "```\n",
        "# Initialize offset\n",
        "offset = -6\n",
        "\n",
        "# Code the while loop\n",
        "while offset != 0 :\n",
        "    print(\"correcting...\")\n",
        "    offset = offset - 1\n",
        "    print(offset)\n",
        "```\n",
        "but your session will be disconnected. The while loop will never stop running, because offset will be further decreased on every run. offset != 0 will never become False and the while loop continues forever.\n",
        "\n",
        "Fix things by putting an if-else statement inside the while loop. If your code is still taking too long to run, you probably made a mistake!\n",
        "\n",
        "Instructions\n",
        "\n",
        "1. Inside the while loop, complete the if-else statement:\n",
        "\n",
        "  * If offset is greater than zero, you should decrease offset by 1.\n",
        "\n",
        "  * Else, you should increase offset by 1.\n",
        "\n",
        "2. If you've coded things correctly, hitting Submit Answer should work this time.\n",
        "\n",
        "If your code is still taking too long to run (or your session is expiring), you probably made a mistake. Check your code and make sure that the statement offset != 0 will eventually evaluate to FALSE!"
      ]
    },
    {
      "cell_type": "code",
      "metadata": {
        "id": "byttDwnfy33T"
      },
      "source": [
        "# Initialize offset\n",
        "offset = -6\n",
        "\n",
        "# Code the while loop\n",
        "while offset != 0 :\n",
        "    print(\"correcting...\")\n",
        "    if offset > 0 :\n",
        "      offset = offset - 1\n",
        "    else : \n",
        "      offset = offset + 1    \n",
        "    print(offset)\n",
        "\n",
        "<script.py> output:\n",
        "    correcting...\n",
        "    -5\n",
        "    correcting...\n",
        "    -4\n",
        "    correcting...\n",
        "    -3\n",
        "    correcting...\n",
        "    -2\n",
        "    correcting...\n",
        "    -1\n",
        "    correcting...\n",
        "    0"
      ],
      "execution_count": null,
      "outputs": []
    },
    {
      "cell_type": "markdown",
      "metadata": {
        "id": "MJjzoBE3y8iy"
      },
      "source": [
        "Conclusion\n",
        "\n",
        "Good work! The while loop is not that often used in Data Science, so let's head over to the for loop."
      ]
    },
    {
      "cell_type": "markdown",
      "metadata": {
        "id": "X1Skgg-WzAm6"
      },
      "source": [
        "# for loop\n",
        "\n",
        "1. for loop\n",
        "Next to the while loop, Python features another type of loop as well: You've seen the while loop and now it's time for another loop: the for loop! Have a look at the for loop's recipe here:\n",
        "\n",
        "2. for loop\n",
        "This can be read as: for each var, a variable, in seq, a sequence, execute the expressions. Makes sense?\n",
        "\n",
        "3. fam\n",
        "Let's see how this actually works with an example. Remember about the fam list, containing the heights of your family? Here it is again, in the family (dot) py script. Suppose that instead of a single printout of the entire list, like this, we want to print out each element in the list separately.\n",
        "\n",
        "4. fam\n",
        "You could do this by doing 4 print calls with the correct subsetting operations. Instead of this repetitive and tedious approach, you can use a for loop.\n",
        "\n",
        "5. for loop\n",
        "Let's wipe the print calls, and start a for loop: for height in fam, followed by a colon. This means that I want to execute some code for each height in the fam list. Height is an arbitrary name here, I could just as well call it h or something else. Inside the for loop, on every iteration, I print out the value of height. When you run this script, Python encounters the for loop and evaluates the seq element, fam in this case. It sees that it's a list containing 4 elements. Then the actual iteration starts.\n",
        "\n",
        "6. for loop\n",
        "In the first run, Python stores the first element, so the float 1 point 73, in the variable height. Next, the expression, print(height), is executed, printing out 1 point 73.\n",
        "\n",
        "7. for loop\n",
        "In the second iteration, Python stores the second value of fam in height, being 1 point 68 now, and prints out height again.\n",
        "\n",
        "8. for loop\n",
        "This process continues until all heights in fam have been iterated over, and we end up with 4 separate printouts, great! In this solution, you don't have access to the index of the elements you're iterating over.\n",
        "\n",
        "9. for loop\n",
        "Say that, together with printing out the height, you also want to display the index in the list, so that the printouts are converted to this. How should the for loop be built in this case?\n",
        "\n",
        "10. enumerate\n",
        "To achieve this, you can use enumerate(). Let's update the for loop definition like this. Now, enumerate(fam) produces two values on each iteration: the index of the value, and the value itself. Instead of a single variable height, you now write index, height. Now, on each iteration, index will contain the index, and height will contain the float. This means that we can now also update the statement inside the for loop with a more complicated print() call. Notice that I had to convert the floats to strings with str() so that you can add everything together. The printouts are exactly what we wanted, nice.\n",
        "\n",
        "11. Loop over string\n",
        "The for loop doesn't only work with lists. You can also create a for loop that iterates over every character a string, \"family\" for example, and stores it in c, one after the other. Inside the loop, the string c is capitalized and printed out. This time, 7 different printouts occur. That's enough on the for loop for now.\n",
        "\n",
        "12. Let's practice!\n",
        "In the next videos, I'll explain how you can use the for loop to iterate over other data structures that you learned about by now, such as dictionaries and Pandas DataFrames. But for now, let's get you coding and building some for loops of your very own."
      ]
    },
    {
      "cell_type": "markdown",
      "metadata": {
        "id": "8BvIh06XzFCC"
      },
      "source": [
        "# Loop over a list\n",
        "\n",
        "Have another look at the for loop that Hugo showed in the video:\n",
        "```\n",
        "fam = [1.73, 1.68, 1.71, 1.89]\n",
        "for height in fam : \n",
        "    print(height)\n",
        "```\n",
        "As usual, you simply have to indent the code with 4 spaces to tell Python which code should be executed in the for loop.\n",
        "\n",
        "The areas variable, containing the area of different rooms in your house, is already defined.\n",
        "\n",
        "Instructions\n",
        "\n",
        "1. Write a for loop that iterates over all elements of the areas list and prints out every element separately."
      ]
    },
    {
      "cell_type": "code",
      "metadata": {
        "id": "oHWymYVpy_4F"
      },
      "source": [
        "# areas list\n",
        "areas = [11.25, 18.0, 20.0, 10.75, 9.50]\n",
        "\n",
        "# Code the for loop\n",
        "for area in areas :\n",
        "    print(area)\n",
        "\n",
        "<script.py> output:\n",
        "    11.25\n",
        "    18.0\n",
        "    20.0\n",
        "    10.75\n",
        "    9.5"
      ],
      "execution_count": null,
      "outputs": []
    },
    {
      "cell_type": "markdown",
      "metadata": {
        "id": "QTUkkKWD1OSQ"
      },
      "source": [
        "# Indexes and values (1)\n",
        "\n",
        "Using a for loop to iterate over a list only gives you access to every list element in each run, one after the other. If you also want to access the index information, so where the list element you're iterating over is located, you can use enumerate().\n",
        "\n",
        "As an example, have a look at how the for loop from the video was converted:\n",
        "```\n",
        "fam = [1.73, 1.68, 1.71, 1.89]\n",
        "for index, height in enumerate(fam) :\n",
        "    print(\"person \" + str(index) + \": \" + str(height))\n",
        "```\n",
        "Instructions\n",
        "\n",
        "1. Adapt the for loop in the sample code to use enumerate() and use two iterator variables.\n",
        "\n",
        "2. Update the print() statement so that on each run, a line of the form \"room x: y\" should be printed, where x is the index of the list element and y is the actual list element, i.e. the area. Make sure to print out this exact string, with the correct spacing."
      ]
    },
    {
      "cell_type": "code",
      "metadata": {
        "id": "8t6MEXGn1X5s"
      },
      "source": [
        "# areas list\n",
        "areas = [11.25, 18.0, 20.0, 10.75, 9.50]\n",
        "\n",
        "# Change for loop to use enumerate() and update print()\n",
        "for index, area in enumerate(areas) :\n",
        "    print(\"room \" + str(index) + \": \" + str(area))\n",
        "\n",
        "<script.py> output:\n",
        "    room 0: 11.25\n",
        "    room 1: 18.0\n",
        "    room 2: 20.0\n",
        "    room 3: 10.75\n",
        "    room 4: 9.5"
      ],
      "execution_count": null,
      "outputs": []
    },
    {
      "cell_type": "markdown",
      "metadata": {
        "id": "K2xH7fAt1OQI"
      },
      "source": [
        "# Indexes and values (2)\n",
        "\n",
        "For non-programmer folks, room 0: 11.25 is strange. Wouldn't it be better if the count started at 1?\n",
        "\n",
        "Instructions\n",
        "\n",
        "1. Adapt the print() function in the for loop so that the first printout becomes \"room 1: 11.25\", the second one \"room 2: 18.0\" and so on."
      ]
    },
    {
      "cell_type": "code",
      "metadata": {
        "id": "lF8NMs6d2Gbl"
      },
      "source": [
        "# areas list\n",
        "areas = [11.25, 18.0, 20.0, 10.75, 9.50]\n",
        "\n",
        "# Code the for loop\n",
        "for index, area in enumerate(areas) :\n",
        "    print(\"room \" + str(index + 1) + \": \" + str(area))\n",
        "\n",
        "<script.py> output:\n",
        "    room 1: 11.25\n",
        "    room 2: 18.0\n",
        "    room 3: 20.0\n",
        "    room 4: 10.75\n",
        "    room 5: 9.5"
      ],
      "execution_count": null,
      "outputs": []
    },
    {
      "cell_type": "markdown",
      "metadata": {
        "id": "IjpUqpYq2MaC"
      },
      "source": [
        "# Loop over list of lists\n",
        "\n",
        "Remember the house variable from the Intro to Python course? Have a look at its definition in the script. It's basically a list of lists, where each sublist contains the name and area of a room in your house.\n",
        "\n",
        "It's up to you to build a for loop from scratch this time!\n",
        "\n",
        "Instructions\n",
        "\n",
        "1. Write a for loop that goes through each sublist of house and prints out the x is y sqm, where x is the name of the room and y is the area of the room."
      ]
    },
    {
      "cell_type": "code",
      "metadata": {
        "id": "-1dZadDQ3eAl"
      },
      "source": [
        "# house list of lists\n",
        "house = [[\"hallway\", 11.25], \n",
        "         [\"kitchen\", 18.0], \n",
        "         [\"living room\", 20.0], \n",
        "         [\"bedroom\", 10.75], \n",
        "         [\"bathroom\", 9.50]]\n",
        "         \n",
        "# Build a for loop from scratch\n",
        "for room, area in house :\n",
        "    print(\"the \" + str(room) + \" is \" + str(area) + \" sqm\")"
      ],
      "execution_count": null,
      "outputs": []
    },
    {
      "cell_type": "markdown",
      "metadata": {
        "id": "7GclbKwV3kxH"
      },
      "source": [
        "# Loop Data Structures Part 1\n",
        "\n",
        "1. Loop Data Structures Part 1\n",
        "So you already saw how looping over lists and strings works, but what about those other data structures, such as dictionaries and Numpy arrays? Well, in both cases, you can use a similar for loop construct, but the way you define the \"sequence\" over which you're iterating will differ depending on the data structure.\n",
        "\n",
        "2. Dictionary\n",
        "Let's go back to our \"world\" dictionary, containing country names as keys and corresponding populations as values, shown here. How should we approach this if we want to print out the key and corresponding value for each key:value pair on a new line? Maybe like this, simply hoping that the key and value are correctly set? Unfortunately, we get an error. Python sees that you expect two values in every iteration, like enumerate did before when you wanted the index and value from a list element, but in this case, Python has no idea how to go about this.\n",
        "\n",
        "3. Dictionary\n",
        "We can fix this by calling the method items() on world. This will generate a key and value in each iteration. If you have a look at the printout, there's something strange: afghanistan comes first in world, but not in the printout. That's because dictionaries are inherently unordered: the order in which they're iterated over is not fixed, at least in Python 3.5.\n",
        "\n",
        "4. Dictionary\n",
        "The names key and value are totally arbitrary by the way, I can also call these k and v, like here. The order does matter though. The first variable gets the key, the second one the value.\n",
        "\n",
        "5. Numpy Arrays\n",
        "Now for the Numpy array, that \"data science equivalent\" of the Python list I've been talking about quite a bit. Let's start from the bmi array that you already know -- here it is. It's pretty straightforward: the most basic for loop you can imagine already does the trick.\n",
        "\n",
        "6. 2D Numpy Arrays\n",
        "Let's see if this also works with a 2D Numpy array. Here, I created meas, by combining the np_height and np_weight arrays. If we want to print out each element in this 2D array separately, the same basic for loop won't do the trick though. The 2D array is actually built up from an array of 1D arrays. The for loop simply prints out an entire array on each iteration.\n",
        "\n",
        "7. 2D Numpy Arrays\n",
        "To get every element of an array, you can use a Numpy function called nditer(). The input is the array you want to iterate over, meas in our case. This time, we get 10 printouts, first all the heights, then all the weights. Nice!\n",
        "\n",
        "8. Recap\n",
        "To recap: if you want to iterate over key-value pairs in a dictionary, use the items() method on the dictionary to define the sequence in the for loop. If you want to iterate over all elements in a Numpy array, you should use the nditer() function to specify the sequence. Pay attention here: dictionaries require a method, Numpy arrays use a function.\n",
        "\n",
        "9. Let's practice!\n",
        "Before you get confused, head over to some exercises and enhance your looping skills!\n"
      ]
    },
    {
      "cell_type": "markdown",
      "metadata": {
        "id": "K29Kxur6XTny"
      },
      "source": [
        "# Loop over dictionary\n",
        "\n",
        "In Python 3, you need the items() method to loop over a dictionary:\n",
        "```\n",
        "world = { \"afghanistan\":30.55, \n",
        "          \"albania\":2.77,\n",
        "          \"algeria\":39.21 }\n",
        "\n",
        "for key, value in world.items() :\n",
        "    print(key + \" -- \" + str(value))\n",
        "```\n",
        "Remember the europe dictionary that contained the names of some European countries as key and their capitals as corresponding value? Go ahead and write a loop to iterate over it!\n",
        "\n",
        "Instructions\n",
        "\n",
        "1. Write a for loop that goes through each key:value pair of europe. On each iteration, \"the capital of x is y\" should be printed out, where x is the key and y is the value of the pair."
      ]
    },
    {
      "cell_type": "code",
      "metadata": {
        "id": "P6OuyR7W3mbV"
      },
      "source": [
        "# Definition of dictionary\n",
        "europe = {'spain':'madrid', 'france':'paris', 'germany':'berlin',\n",
        "          'norway':'oslo', 'italy':'rome', 'poland':'warsaw', 'austria':'vienna' }\n",
        "          \n",
        "# Iterate over europe\n",
        "\n",
        "for key, value in europe.items() :\n",
        "    print(\"the capital of \" + key + \" is \" + value)\n",
        "\n",
        "<script.py> output:\n",
        "    the capital of austria is vienna\n",
        "    the capital of poland is warsaw\n",
        "    the capital of germany is berlin\n",
        "    the capital of norway is oslo\n",
        "    the capital of spain is madrid\n",
        "    the capital of italy is rome\n",
        "    the capital of france is paris"
      ],
      "execution_count": null,
      "outputs": []
    },
    {
      "cell_type": "markdown",
      "metadata": {
        "id": "MSJRsT17Zzyn"
      },
      "source": [
        "Conclusion\n",
        "\n",
        "Great! Notice that the order of the printouts doesn't necessarily correspond with the order used when defining europe. Remember: dictionaries are inherently unordered!"
      ]
    },
    {
      "cell_type": "markdown",
      "metadata": {
        "id": "7P2-CeRtaEUK"
      },
      "source": [
        "Loop over Numpy array\n",
        "If you're dealing with a 1D Numpy array, looping over all elements can be as simple as:\n",
        "```\n",
        "for x in my_array :\n",
        "    ...\n",
        "```\n",
        "If you're dealing with a 2D Numpy array, it's more complicated. A 2D array is built up of multiple 1D arrays. To explicitly iterate over all separate elements of a multi-dimensional array, you'll need this syntax:\n",
        "```\n",
        "for x in np.nditer(my_array) :\n",
        "    ...\n",
        "```\n",
        "Two Numpy arrays that you might recognize from the intro course are available in your Python session: np_height, a Numpy array containing the heights of Major League Baseball players, and np_baseball, a 2D Numpy array that contains both the heights (first column) and weights (second column) of those players.\n",
        "\n",
        "Instructions\n",
        "\n",
        "1. Import the numpy package under the local alias np.\n",
        "\n",
        "2. Write a for loop that iterates over all elements in np_height and prints out \"x inches\" for each element, where x is the value in the array.\n",
        "\n",
        "3. Write a for loop that visits every element of the np_baseball array and prints it out."
      ]
    },
    {
      "cell_type": "code",
      "metadata": {
        "id": "8ctkT2aidgPB"
      },
      "source": [
        "# Import numpy as np\n",
        "import numpy as np\n",
        "\n",
        "# For loop over np_height\n",
        "for height in np.nditer(np_height) :\n",
        "    print(str(height) + \" inches\")\n",
        "\n",
        "# For loop over np_baseball\n",
        "for x in np.nditer(np_baseball) :\n",
        "    print(x)\n",
        "\n",
        "<script.py> output:\n",
        "    74 inches\n",
        "    74 inches\n",
        "    72 inches\n",
        "    72 inches\n",
        "    73 inches\n",
        "\n",
        "...\n",
        "\n",
        "    74\n",
        "    74\n",
        "    72\n",
        "    72\n",
        "    73"
      ],
      "execution_count": null,
      "outputs": []
    },
    {
      "cell_type": "markdown",
      "metadata": {
        "id": "l_FS0UP7d8ZM"
      },
      "source": [
        "Conclusion\n",
        "\n",
        "Wow, that's a lot of output! Try to add an additional argument end = to the print() call - the output will be mesmerizing!"
      ]
    },
    {
      "cell_type": "markdown",
      "metadata": {
        "id": "qsjRlWgneHyq"
      },
      "source": [
        "# Loop over DataFrame (1)\n",
        "\n",
        "Iterating over a Pandas DataFrame is typically done with the iterrows() method. Used in a for loop, every observation is iterated over and on every iteration the row label and actual row contents are available:\n",
        "```\n",
        "for lab, row in brics.iterrows() :\n",
        "    ...\n",
        "```\n",
        "In this and the following exercises you will be working on the cars DataFrame. It contains information on the cars per capita and whether people drive right or left for seven countries in the world.\n",
        "\n",
        "Instructions\n",
        "\n",
        "1. Write a for loop that iterates over the rows of cars and on each iteration perform two print() calls: one to print out the row label and one to print out all of the rows contents."
      ]
    },
    {
      "cell_type": "code",
      "metadata": {
        "id": "e7Uac09dl1GY"
      },
      "source": [
        "     cars_per_cap        country  drives_right\n",
        "US            809  United States          True\n",
        "AUS           731      Australia         False\n",
        "JPN           588          Japan         False\n",
        "IN             18          India         False\n",
        "RU            200         Russia          True\n",
        "MOR            70        Morocco          True\n",
        "EG             45          Egypt          True"
      ],
      "execution_count": null,
      "outputs": []
    },
    {
      "cell_type": "code",
      "metadata": {
        "id": "r1J_GPH3mqaW"
      },
      "source": [
        "# Import cars data\n",
        "import pandas as pd\n",
        "cars = pd.read_csv('cars.csv', index_col = 0)\n",
        "\n",
        "# Iterate over rows of cars\n",
        "for lab, row in cars.iterrows() :\n",
        "    print(lab)\n",
        "    print(row)\n",
        "\n",
        "<script.py> output:\n",
        "    US\n",
        "    cars_per_cap              809\n",
        "    country         United States\n",
        "    drives_right             True\n",
        "    Name: US, dtype: object\n",
        "    AUS\n",
        "    cars_per_cap          731\n",
        "    country         Australia\n",
        "    drives_right        False\n",
        "    Name: AUS, dtype: object\n",
        "    JPN\n",
        "    cars_per_cap      588\n",
        "    country         Japan\n",
        "    drives_right    False\n",
        "    Name: JPN, dtype: object\n",
        "    IN\n",
        "    cars_per_cap       18\n",
        "    country         India\n",
        "    drives_right    False\n",
        "    Name: IN, dtype: object\n",
        "    RU\n",
        "    cars_per_cap       200\n",
        "    country         Russia\n",
        "    drives_right      True\n",
        "    Name: RU, dtype: object\n",
        "    MOR\n",
        "    cars_per_cap         70\n",
        "    country         Morocco\n",
        "    drives_right       True\n",
        "    Name: MOR, dtype: object\n",
        "    EG\n",
        "    cars_per_cap       45\n",
        "    country         Egypt\n",
        "    drives_right     True\n",
        "    Name: EG, dtype: object"
      ],
      "execution_count": null,
      "outputs": []
    },
    {
      "cell_type": "markdown",
      "metadata": {
        "id": "5R4_N_zEqsE9"
      },
      "source": [
        "# Loop over DataFrame (2)\n",
        "\n",
        "The row data that's generated by iterrows() on every run is a Pandas Series. This format is not very convenient to print out. Luckily, you can easily select variables from the Pandas Series using square brackets:\n",
        "```\n",
        "for lab, row in brics.iterrows() :\n",
        "    print(row['country'])\n",
        "```\n",
        "Instructions\n",
        "\n",
        "1. Using the iterators lab and row, adapt the code in the for loop such that the first iteration prints out \"US: 809\", the second iteration \"AUS: 731\", and so on.\n",
        "\n",
        "2. The output should be in the form \"country: cars_per_cap\". Make sure to print out this exact string (with the correct spacing).\n",
        "  \n",
        "  * You can use str() to convert your integer data to a string so that you can print it in conjunction with the country label."
      ]
    },
    {
      "cell_type": "code",
      "metadata": {
        "id": "j06EujZLqq7_"
      },
      "source": [
        "     cars_per_cap        country  drives_right\n",
        "US            809  United States          True\n",
        "AUS           731      Australia         False\n",
        "JPN           588          Japan         False\n",
        "IN             18          India         False\n",
        "RU            200         Russia          True\n",
        "MOR            70        Morocco          True\n",
        "EG             45          Egypt          True"
      ],
      "execution_count": null,
      "outputs": []
    },
    {
      "cell_type": "code",
      "metadata": {
        "id": "38qBFY4vsRiV"
      },
      "source": [
        "# Import cars data\n",
        "import pandas as pd\n",
        "cars = pd.read_csv('cars.csv', index_col = 0)\n",
        "\n",
        "# Adapt for loop\n",
        "for lab, row in cars.iterrows() :\n",
        "    print(lab + \": \" + str(row['cars_per_cap']))\n",
        "\n",
        "<script.py> output:\n",
        "    US: 809\n",
        "    AUS: 731\n",
        "    JPN: 588\n",
        "    IN: 18\n",
        "    RU: 200\n",
        "    MOR: 70\n",
        "    EG: 45"
      ],
      "execution_count": null,
      "outputs": []
    },
    {
      "cell_type": "markdown",
      "metadata": {
        "id": "I9t7S9VSsZnX"
      },
      "source": [
        "# Add column (1)\n",
        "\n",
        "In the video, Hugo showed you how to add the length of the country names of the brics DataFrame in a new column:\n",
        "```\n",
        "for lab, row in brics.iterrows() :\n",
        "    brics.loc[lab, \"name_length\"] = len(row[\"country\"])\n",
        "```\n",
        "You can do similar things on the cars DataFrame.\n",
        "\n",
        "Instructions\n",
        "\n",
        "1. Use a for loop to add a new column, named COUNTRY, that contains a uppercase version of the country names in the \"country\" column. You can use the string method upper() for this.\n",
        "\n",
        "2. To see if your code worked, print out cars. Don't indent this code, so that it's not part of the for loop."
      ]
    },
    {
      "cell_type": "code",
      "metadata": {
        "id": "-CiGg5AlsZG9"
      },
      "source": [
        "     cars_per_cap        country  drives_right\n",
        "US            809  United States          True\n",
        "AUS           731      Australia         False\n",
        "JPN           588          Japan         False\n",
        "IN             18          India         False\n",
        "RU            200         Russia          True\n",
        "MOR            70        Morocco          True\n",
        "EG             45          Egypt          True"
      ],
      "execution_count": null,
      "outputs": []
    },
    {
      "cell_type": "code",
      "metadata": {
        "id": "ykSg8AbTxtyU"
      },
      "source": [
        "# Import cars data\n",
        "import pandas as pd\n",
        "cars = pd.read_csv('cars.csv', index_col = 0)\n",
        "\n",
        "# Code for loop that adds COUNTRY column\n",
        "for lab, row in cars.iterrows() :\n",
        "    cars.loc[lab, \"COUNTRY\"] = row[\"country\"].upper()\n",
        "\n",
        "# Print cars\n",
        "print(cars)"
      ],
      "execution_count": null,
      "outputs": []
    },
    {
      "cell_type": "markdown",
      "metadata": {
        "id": "xI6gTQFb1cXG"
      },
      "source": [
        "# Add column (2)\n",
        "\n",
        "Using iterrows() to iterate over every observation of a Pandas DataFrame is easy to understand, but not very efficient. On every iteration, you're creating a new Pandas Series.\n",
        "\n",
        "If you want to add a column to a DataFrame by calling a function on another column, the iterrows() method in combination with a for loop is not the preferred way to go. Instead, you'll want to use apply().\n",
        "\n",
        "Compare the iterrows() version with the apply() version to get the same result in the brics DataFrame:\n",
        "```\n",
        "for lab, row in brics.iterrows() :\n",
        "    brics.loc[lab, \"name_length\"] = len(row[\"country\"])\n",
        "\n",
        "brics[\"name_length\"] = brics[\"country\"].apply(len)\n",
        "```\n",
        "We can do a similar thing to call the upper() method on every name in the country column. However, upper() is a method, so we'll need a slightly different approach:\n",
        "\n",
        "Instructions\n",
        "\n",
        "1. Replace the for loop with a one-liner that uses .apply(str.upper). The call should give the same result: a column COUNTRY should be added to cars, containing an uppercase version of the country names.\n",
        "\n",
        "2. As usual, print out cars to see the fruits of your hard labor"
      ]
    },
    {
      "cell_type": "code",
      "metadata": {
        "id": "604Ox7VE1a6u"
      },
      "source": [
        "# Import cars data\n",
        "import pandas as pd\n",
        "cars = pd.read_csv('cars.csv', index_col = 0)\n",
        "\n",
        "# Use .apply(str.upper)\n",
        "cars[\"COUNTRY\"] = cars[\"country\"].apply(str.upper)"
      ],
      "execution_count": null,
      "outputs": []
    },
    {
      "cell_type": "markdown",
      "metadata": {
        "id": "SMzVc7AE3Ees"
      },
      "source": [
        "Conclusion\n",
        "\n",
        "Great job! It's time to blend everything you've learned together in a case-study. Head over to the next chapter!"
      ]
    }
  ]
}