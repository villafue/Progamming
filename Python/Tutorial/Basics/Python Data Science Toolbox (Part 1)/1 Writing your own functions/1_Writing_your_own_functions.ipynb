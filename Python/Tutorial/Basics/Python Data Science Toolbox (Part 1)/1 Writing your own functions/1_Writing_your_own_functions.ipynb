{
  "nbformat": 4,
  "nbformat_minor": 0,
  "metadata": {
    "colab": {
      "name": "1 Writing your own functions.ipynb",
      "provenance": [],
      "authorship_tag": "ABX9TyPPYeiBfy0Ad6yf0OdvLGIe",
      "include_colab_link": true
    },
    "kernelspec": {
      "name": "python3",
      "display_name": "Python 3"
    },
    "language_info": {
      "name": "python"
    }
  },
  "cells": [
    {
      "cell_type": "markdown",
      "metadata": {
        "id": "view-in-github",
        "colab_type": "text"
      },
      "source": [
        "<a href=\"https://colab.research.google.com/github/villafue/Progamming/blob/main/Python/Tutorial/Basics/Python%20Data%20Science%20Toolbox%20(Part%201)/1%20Writing%20your%20own%20functions/1_Writing_your_own_functions.ipynb\" target=\"_parent\"><img src=\"https://colab.research.google.com/assets/colab-badge.svg\" alt=\"Open In Colab\"/></a>"
      ]
    },
    {
      "cell_type": "markdown",
      "metadata": {
        "id": "H2J2jjzOzTvy"
      },
      "source": [
        "# Writing your own functions\n",
        "\n",
        "In this chapter, you'll learn how to write simple functions, as well as functions that accept multiple arguments and return multiple values. You'll also have the opportunity to apply these new skills to questions commonly encountered by data scientists."
      ]
    },
    {
      "cell_type": "code",
      "metadata": {
        "id": "lpJi3E34zIon"
      },
      "source": [
        ""
      ],
      "execution_count": null,
      "outputs": []
    }
  ]
}