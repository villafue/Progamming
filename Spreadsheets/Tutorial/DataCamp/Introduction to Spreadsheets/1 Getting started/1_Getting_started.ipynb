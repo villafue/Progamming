{
  "nbformat": 4,
  "nbformat_minor": 0,
  "metadata": {
    "colab": {
      "name": "1 Getting started.ipynb",
      "provenance": [],
      "authorship_tag": "ABX9TyNL/3euKFkPVBr54Pe3i2DJ",
      "include_colab_link": true
    },
    "kernelspec": {
      "name": "python3",
      "display_name": "Python 3"
    },
    "language_info": {
      "name": "python"
    }
  },
  "cells": [
    {
      "cell_type": "markdown",
      "metadata": {
        "id": "view-in-github",
        "colab_type": "text"
      },
      "source": [
        "<a href=\"https://colab.research.google.com/github/villafue/Progamming/blob/main/Spreadsheets/Tutorial/DataCamp/Introduction%20to%20Spreadsheets/1%20Getting%20started/1_Getting_started.ipynb\" target=\"_parent\"><img src=\"https://colab.research.google.com/assets/colab-badge.svg\" alt=\"Open In Colab\"/></a>"
      ]
    },
    {
      "cell_type": "markdown",
      "metadata": {
        "id": "7rpEKtm1o9jg"
      },
      "source": [
        "# Getting started\n",
        "\n",
        "In this chapter, you’ll learn how to navigate within spreadsheets using concepts like rows, columns, cells, and ranges. Then you’ll practice using an essential part of spreadsheets: formulas. Finally, you'll learn how different data types are used in Google Sheets."
      ]
    },
    {
      "cell_type": "code",
      "metadata": {
        "id": "Rd-mbxlwoZW8"
      },
      "source": [
        ""
      ],
      "execution_count": null,
      "outputs": []
    }
  ]
}