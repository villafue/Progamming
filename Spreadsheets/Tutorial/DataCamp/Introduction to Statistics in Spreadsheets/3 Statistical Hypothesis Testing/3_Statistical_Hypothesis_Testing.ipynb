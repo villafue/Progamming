{
  "nbformat": 4,
  "nbformat_minor": 0,
  "metadata": {
    "colab": {
      "name": "3 Statistical Hypothesis Testing.ipynb",
      "provenance": [],
      "authorship_tag": "ABX9TyPELc9nKBR8f/1bQNie/qvQ",
      "include_colab_link": true
    },
    "kernelspec": {
      "name": "python3",
      "display_name": "Python 3"
    },
    "language_info": {
      "name": "python"
    }
  },
  "cells": [
    {
      "cell_type": "markdown",
      "metadata": {
        "id": "view-in-github",
        "colab_type": "text"
      },
      "source": [
        "<a href=\"https://colab.research.google.com/github/villafue/Progamming/blob/main/Spreadsheets/Tutorial/DataCamp/Introduction%20to%20Statistics%20in%20Spreadsheets/3%20Statistical%20Hypothesis%20Testing/3_Statistical_Hypothesis_Testing.ipynb\" target=\"_parent\"><img src=\"https://colab.research.google.com/assets/colab-badge.svg\" alt=\"Open In Colab\"/></a>"
      ]
    },
    {
      "cell_type": "markdown",
      "metadata": {
        "id": "Oizwp7v7E36F"
      },
      "source": [
        "# Statistical Hypothesis Testing\n",
        "\n",
        "This chapter introduces you to statistical hypothesis testing. You'll learn how to construct a hypothesis, test it using different statistical tests, and properly interpret the results."
      ]
    },
    {
      "cell_type": "code",
      "metadata": {
        "id": "G37zkkt9EYwP"
      },
      "source": [
        ""
      ],
      "execution_count": null,
      "outputs": []
    }
  ]
}