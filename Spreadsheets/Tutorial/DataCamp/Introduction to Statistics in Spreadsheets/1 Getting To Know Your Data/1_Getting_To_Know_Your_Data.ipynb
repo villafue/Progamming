{
  "nbformat": 4,
  "nbformat_minor": 0,
  "metadata": {
    "colab": {
      "name": "1 Getting To Know Your Data.ipynb",
      "provenance": [],
      "authorship_tag": "ABX9TyPwFT0+dObMlysQlJAk9OM8",
      "include_colab_link": true
    },
    "kernelspec": {
      "name": "python3",
      "display_name": "Python 3"
    },
    "language_info": {
      "name": "python"
    }
  },
  "cells": [
    {
      "cell_type": "markdown",
      "metadata": {
        "id": "view-in-github",
        "colab_type": "text"
      },
      "source": [
        "<a href=\"https://colab.research.google.com/github/villafue/Progamming/blob/main/Spreadsheets/Tutorial/DataCamp/Introduction%20to%20Statistics%20in%20Spreadsheets/1%20Getting%20To%20Know%20Your%20Data/1_Getting_To_Know_Your_Data.ipynb\" target=\"_parent\"><img src=\"https://colab.research.google.com/assets/colab-badge.svg\" alt=\"Open In Colab\"/></a>"
      ]
    },
    {
      "cell_type": "markdown",
      "metadata": {
        "id": "tcZcJL3ipna_"
      },
      "source": [
        "# Getting To Know Your Data\n",
        "\n",
        "Begin your journey by learning why and how to summarize your data using statistics such as the mean, median, and mode. While working with a variety of datasets ranging from Amazon revenue to U.S Presidential ratings, you'll learn about the differences between each of these fundamental statistics and most importantly, when to use each.\n",
        "\n"
      ]
    },
    {
      "cell_type": "code",
      "metadata": {
        "id": "7nOWAPOZoa_x"
      },
      "source": [
        ""
      ],
      "execution_count": null,
      "outputs": []
    }
  ]
}