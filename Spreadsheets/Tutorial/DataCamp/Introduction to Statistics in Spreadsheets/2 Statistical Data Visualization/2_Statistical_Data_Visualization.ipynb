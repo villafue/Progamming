{
  "nbformat": 4,
  "nbformat_minor": 0,
  "metadata": {
    "colab": {
      "name": "2 Statistical Data Visualization.ipynb",
      "provenance": [],
      "authorship_tag": "ABX9TyMd+sRMw2Oj3TMO2yOQJCER",
      "include_colab_link": true
    },
    "kernelspec": {
      "name": "python3",
      "display_name": "Python 3"
    },
    "language_info": {
      "name": "python"
    }
  },
  "cells": [
    {
      "cell_type": "markdown",
      "metadata": {
        "id": "view-in-github",
        "colab_type": "text"
      },
      "source": [
        "<a href=\"https://colab.research.google.com/github/villafue/Progamming/blob/main/Spreadsheets/Tutorial/DataCamp/Introduction%20to%20Statistics%20in%20Spreadsheets/2%20Statistical%20Data%20Visualization/2_Statistical_Data_Visualization.ipynb\" target=\"_parent\"><img src=\"https://colab.research.google.com/assets/colab-badge.svg\" alt=\"Open In Colab\"/></a>"
      ]
    },
    {
      "cell_type": "markdown",
      "metadata": {
        "id": "ORs0CXsCzHoU"
      },
      "source": [
        "# Statistical Data Visualization\n",
        "\n",
        "Data visualization is one of the most important parts of any data science workflow. It leads to a deeper understanding of your dataset which in turn allows you to more effectively communicate results to stakeholders. In this chapter, you'll learn how to visualize your data in Spreadsheets using statistical plots such as the histogram, scatter plot, and bar plot."
      ]
    },
    {
      "cell_type": "code",
      "metadata": {
        "id": "dvG-HvpuzBQp"
      },
      "source": [
        ""
      ],
      "execution_count": null,
      "outputs": []
    }
  ]
}