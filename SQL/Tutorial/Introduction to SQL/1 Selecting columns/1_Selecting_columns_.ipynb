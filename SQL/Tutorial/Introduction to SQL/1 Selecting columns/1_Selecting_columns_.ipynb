{
  "nbformat": 4,
  "nbformat_minor": 0,
  "metadata": {
    "colab": {
      "name": " 1 Selecting columns .ipynb",
      "provenance": [],
      "authorship_tag": "ABX9TyM3B+Qqth+3VbHuW/aehoOf",
      "include_colab_link": true
    },
    "kernelspec": {
      "name": "python3",
      "display_name": "Python 3"
    },
    "language_info": {
      "name": "python"
    }
  },
  "cells": [
    {
      "cell_type": "markdown",
      "metadata": {
        "id": "view-in-github",
        "colab_type": "text"
      },
      "source": [
        "<a href=\"https://colab.research.google.com/github/villafue/Progamming/blob/main/SQL/Tutorial/Introduction%20to%20SQL/1%20Selecting%20columns/1_Selecting_columns_.ipynb\" target=\"_parent\"><img src=\"https://colab.research.google.com/assets/colab-badge.svg\" alt=\"Open In Colab\"/></a>"
      ]
    },
    {
      "cell_type": "markdown",
      "metadata": {
        "id": "lC_Bv3fhnc1J"
      },
      "source": [
        "# Selecting Columns\n",
        "\n",
        "This chapter provides a brief introduction to working with relational databases. You'll learn about their structure, how to talk about them using database lingo, and how to begin an analysis using simple SQL commands to select and summarize columns from database tables. "
      ]
    },
    {
      "cell_type": "code",
      "metadata": {
        "id": "qj1PN9W-nOxL"
      },
      "source": [
        ""
      ],
      "execution_count": null,
      "outputs": []
    }
  ]
}