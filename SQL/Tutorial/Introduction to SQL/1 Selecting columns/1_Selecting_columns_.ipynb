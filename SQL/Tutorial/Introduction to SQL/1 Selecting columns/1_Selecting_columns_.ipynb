{
  "nbformat": 4,
  "nbformat_minor": 0,
  "metadata": {
    "colab": {
      "name": " 1 Selecting columns .ipynb",
      "provenance": [],
      "authorship_tag": "ABX9TyPK7GHGtsIYUGguDWfwINvV",
      "include_colab_link": true
    },
    "kernelspec": {
      "name": "python3",
      "display_name": "Python 3"
    },
    "language_info": {
      "name": "python"
    }
  },
  "cells": [
    {
      "cell_type": "markdown",
      "metadata": {
        "id": "view-in-github",
        "colab_type": "text"
      },
      "source": [
        "<a href=\"https://colab.research.google.com/github/villafue/Progamming/blob/main/SQL/Tutorial/Introduction%20to%20SQL/1%20Selecting%20columns/1_Selecting_columns_.ipynb\" target=\"_parent\"><img src=\"https://colab.research.google.com/assets/colab-badge.svg\" alt=\"Open In Colab\"/></a>"
      ]
    },
    {
      "cell_type": "markdown",
      "metadata": {
        "id": "lC_Bv3fhnc1J"
      },
      "source": [
        "# Selecting Columns\n",
        "\n",
        "This chapter provides a brief introduction to working with relational databases. You'll learn about their structure, how to talk about them using database lingo, and how to begin an analysis using simple SQL commands to select and summarize columns from database tables. "
      ]
    },
    {
      "cell_type": "markdown",
      "metadata": {
        "id": "_b_ybG97xLsr"
      },
      "source": [
        "# Welcome to the course!\n",
        "\n",
        "1. Welcome to the course!\n",
        "\n",
        "Hi, and welcome to Introduction to SQL for Data Science! Most of the world's data live in databases, so learning how to access and unlock insights from these data is an essential skill for every data scientist. SQL, or ess-que-el, is the native language for interacting with databases and is designed for exactly this purpose. This course will give you a basic introduction to SQL. We hope you enjoy it.\n",
        "2. Let's practice!\n",
        "\n",
        "Now let's get started! "
      ]
    },
    {
      "cell_type": "markdown",
      "metadata": {
        "id": "zpwaEqEyxPSf"
      },
      "source": [
        "# Onboarding | Tables\n",
        "\n",
        "If you've used DataCamp to learn R or Python, you'll be familiar with the interface. For SQL, however, there are a few new features you should be aware of.\n",
        "\n",
        "For this course, you'll be using a database containing information on almost 5000 films. To the right, underneath the editor, you can see the data in this database by clicking through the tabs.\n",
        "\n",
        "From looking at the tabs, who is the first person listed in the people table?\n",
        "\n",
        "Possible Answers\n",
        "\n",
        "Kanye West - Incorrect: Kanye West is nowhere to be seen in the people table. Have another look!\n",
        "    \n",
        "Biggie Smalls - Incorrect: Biggie Smalls is nowhere to be seen in the people table. Have another look!\n",
        "\n",
        "50 Cent - That's correct! Head over to the next exercise to see how we can answer a similar question with code!\n",
        "\n",
        "Jay Z - Incorrect: Jay Z is nowhere to be seen in the people table. Have another look!"
      ]
    },
    {
      "cell_type": "markdown",
      "metadata": {
        "id": "Plze2lvOx0rP"
      },
      "source": [
        "# Onboarding | Query Result\n",
        "\n",
        "Notice the query result tab in the bottom right corner of your screen. This is where the results of your SQL queries will be displayed.\n",
        "\n",
        "Run this query in the editor and check out the resulting table in the query result tab!\n",
        "\n",
        "`SELECT name FROM people;`\n",
        "\n",
        "Who is the second person listed in the query result?\n",
        "\n",
        "Possible Answers\n",
        "\n",
        "1. Kanye West - Incorrect: If you execute the query that was already provided with the 'Run Code' button, you will see that Kanye West is not the second person listed in the query result.\n",
        "\n",
        "2. A. Michael Baldwin - Correct\n",
        "\n",
        "3. 50 Cent - Incorrect - 50 Cent is the first person listed in the query result. We're looking for the second person.\n",
        "\n",
        "4. Jay Z - Incorrect - If you execute the query that was already provided with the 'Run Code' button, you will see that Jay Z is not the second person listed in the query result."
      ]
    },
    {
      "cell_type": "markdown",
      "metadata": {
        "id": "EpnAjr0jyVyF"
      },
      "source": [
        "# Onboarding | Errors\n",
        "\n",
        "If you submit the code below, you'll see that you get two types of errors.\n",
        "\n",
        "SQL errors are shown below the editor. These are errors returned by the SQL engine. You should see:\n",
        "\n",
        "`syntax error at or near \"'DataCamp <3 SQL'\" LINE 2: 'DataCamp <3 SQL' ^`\n",
        "\n",
        "\n",
        "DataCamp errors are shown in the Instructions box. These will let you know in plain English where you went wrong in your code! You should see:\n",
        "\n",
        "`You need to add SELECT at the start of line 2!`\n",
        "\n",
        "Instructions\n",
        "\n",
        "1. Submit the code to the right, check out the errors, then fix them!"
      ]
    },
    {
      "cell_type": "code",
      "metadata": {
        "id": "qj1PN9W-nOxL"
      },
      "source": [
        "-- Try running me!\n",
        "SELECT 'DataCamp <3 SQL'\n",
        "AS result;\n",
        "\n",
        "'''\n",
        "result\n",
        "DataCamp <3 SQL\n",
        "'''"
      ],
      "execution_count": null,
      "outputs": []
    },
    {
      "cell_type": "markdown",
      "metadata": {
        "id": "X8FoIOGhzEGU"
      },
      "source": [
        "Conclusion\n",
        "\n",
        "Excellent error editing! You can feel safe experimenting with code in the editor – you'll always get feedback if something goes wrong."
      ]
    },
    {
      "cell_type": "markdown",
      "metadata": {
        "id": "DY0aKOdDzfRV"
      },
      "source": [
        "# Onboarding | Bullet Exercises\n",
        "\n",
        "Another new feature we're introducing is the bullet exercise, which allows you to easily practice a new concept through repetition. Check it out below!\n",
        "\n",
        "1. Submit the query in the editor! Don't worry, you'll learn how it works soon."
      ]
    },
    {
      "cell_type": "code",
      "metadata": {
        "id": "LQ2cPBp0y-Q1"
      },
      "source": [
        "SELECT 'SQL'\n",
        "AS result;\n",
        "\n",
        "'''\n",
        "result\n",
        "SQL\n",
        "'''"
      ],
      "execution_count": null,
      "outputs": []
    },
    {
      "cell_type": "markdown",
      "metadata": {
        "id": "aoyY7Mxoy6Rb"
      },
      "source": [
        "2. Now change 'SQL' to 'SQL is' and click Submit!"
      ]
    },
    {
      "cell_type": "code",
      "metadata": {
        "id": "dQqAD447zx--"
      },
      "source": [
        "SELECT 'SQL is'\n",
        "AS result;\n",
        "\n",
        "'''\n",
        "result\n",
        "SQL is\n",
        "'''"
      ],
      "execution_count": null,
      "outputs": []
    },
    {
      "cell_type": "markdown",
      "metadata": {
        "id": "q3d8RL0Lz1NH"
      },
      "source": [
        "3. Finally, change 'SQL is' to 'SQL is cool' and click Submit!"
      ]
    },
    {
      "cell_type": "code",
      "metadata": {
        "id": "4yHK_XeUz8T6"
      },
      "source": [
        "SELECT 'SQL is cool'\n",
        "AS result;\n",
        "\n",
        "'''\n",
        "result\n",
        "SQL is cool\n",
        "'''"
      ],
      "execution_count": null,
      "outputs": []
    },
    {
      "cell_type": "markdown",
      "metadata": {
        "id": "7rKjCozc0Cbx"
      },
      "source": [
        "Conclusion\n",
        "\n",
        "Well done! The time has come to actually fetch information from tables now!"
      ]
    },
    {
      "cell_type": "markdown",
      "metadata": {
        "id": "H3uNKugs0Elv"
      },
      "source": [
        "Beginning your SQL journey\n",
        "\n",
        "Now that you're familiar with the interface, let's get straight into it.\n",
        "\n",
        "SQL, which stands for Structured Query Language, is a language for interacting with data stored in something called a relational database.\n",
        "\n",
        "You can think of a relational database as a collection of tables. A table is just a set of rows and columns, like a spreadsheet, which represents exactly one type of entity. For example, a table might represent employees in a company or purchases made, but not both.\n",
        "\n",
        "Each row, or record, of a table contains information about a single entity. For example, in a table representing employees, each row represents a single person. Each column, or field, of a table contains a single attribute for all rows in the table. For example, in a table representing employees, we might have a column containing first and last names for all employees.\n",
        "\n",
        "The table of employees might look something like this:\n",
        "\n",
        "```\n",
        "id \tname \t age \tnationality\n",
        "1 \tJessica \t22 \tIreland\n",
        "2 \tGabriel \t48 \tFrance\n",
        "3 \tLaura \t  36 \tUSA\n",
        "```\n",
        "How many fields does the employees table above contain?\n",
        "\n",
        "Possible Answers\n",
        "\n",
        "A. 1 - Incorrect, a table contains information about one type of entity, but generally has multiple fields.\n",
        "\n",
        "B. 2 - Incorrect, Sorry, try again!\n",
        "\n",
        "C. 3 - Incorrect, the table contains three records, but how many fields does it have?\n",
        "    \n",
        "D. 4 - Correct! The table contains four columns, or fields."
      ]
    },
    {
      "cell_type": "markdown",
      "metadata": {
        "id": "gAlW9Mbm02qg"
      },
      "source": [
        "# SELECTing single columns\n",
        "\n",
        "While SQL can be used to create and modify databases, the focus of this course will be querying databases. A query is a request for data from a database table (or combination of tables). Querying is an essential skill for a data scientist, since the data you need for your analyses will often live in databases.\n",
        "\n",
        "In SQL, you can select data from a table using a SELECT statement. For example, the following query selects the name column from the people table:\n",
        "\n",
        "```\n",
        "SELECT name\n",
        "FROM people;\n",
        "```\n",
        "In this query, SELECT and FROM are called keywords. In SQL, keywords are not case-sensitive, which means you can write the same query as:\n",
        "\n",
        "```\n",
        "select name\n",
        "from people;\n",
        "```\n",
        "\n",
        "That said, it's good practice to make SQL keywords uppercase to distinguish them from other parts of your query, like column and table names.\n",
        "\n",
        "It's also good practice (but not necessary for the exercises in this course) to include a semicolon at the end of your query. This tells SQL where the end of your query is!\n",
        "\n",
        "Remember, you can see the results of executing your query in the query tab!\n",
        "\n",
        "Instructions\n",
        "\n",
        "1. Select the title column from the films table."
      ]
    },
    {
      "cell_type": "code",
      "metadata": {
        "id": "Hhs2syHA3T0L"
      },
      "source": [
        "SELECT title FROM films;\n",
        "\n",
        "'''\n",
        "title\n",
        "Intolerance: Love's Struggle Throughout the Ages\n",
        "Over the Hill to the Poorhouse\n",
        "The Big Parade\n",
        "...\n",
        "'''"
      ],
      "execution_count": null,
      "outputs": []
    },
    {
      "cell_type": "markdown",
      "metadata": {
        "id": "AgRk0CHw3YtH"
      },
      "source": [
        "2. Select the release_year column from the films table."
      ]
    },
    {
      "cell_type": "code",
      "metadata": {
        "id": "v4oW1k0d3Zyk"
      },
      "source": [
        "SELECT release_year FROM films;\n",
        "\n",
        "'''\n",
        "release_year\n",
        "1916\n",
        "1920\n",
        "1925\n",
        "...\n",
        "'''"
      ],
      "execution_count": null,
      "outputs": []
    },
    {
      "cell_type": "markdown",
      "metadata": {
        "id": "ZuFGnV593drr"
      },
      "source": [
        "3. Select the name of each person in the people table."
      ]
    },
    {
      "cell_type": "code",
      "metadata": {
        "id": "krVIRIKo33PI"
      },
      "source": [
        "SELECT name FROM people;\n",
        "\n",
        "'''\n",
        "name\n",
        "50 Cent\n",
        "A. Michael Baldwin\n",
        "A. Raven Cruz\n",
        "'''"
      ],
      "execution_count": null,
      "outputs": []
    },
    {
      "cell_type": "markdown",
      "metadata": {
        "id": "tfzYbCYr36rq"
      },
      "source": [
        "# SELECTing multiple columns\n",
        "\n",
        "Well done! Now you know how to select single columns.\n",
        "\n",
        "In the real world, you will often want to select multiple columns. Luckily, SQL makes this really easy. To select multiple columns from a table, simply separate the column names with commas!\n",
        "\n",
        "For example, this query selects two columns, name and birthdate, from the people table:\n",
        "\n",
        "```\n",
        "SELECT name, birthdate\n",
        "FROM people;\n",
        "```\n",
        "\n",
        "Sometimes, you may want to select all columns from a table. Typing out every column name would be a pain, so there's a handy shortcut:\n",
        "\n",
        "```\n",
        "SELECT *\n",
        "FROM people;\n",
        "```\n",
        "\n",
        "If you only want to return a certain number of results, you can use the `LIMIT` keyword to limit the number of rows returned:\n",
        "\n",
        "```\n",
        "SELECT *\n",
        "FROM people\n",
        "LIMIT 10;\n",
        "```\n",
        "\n",
        "Before getting started with the instructions below, check out the column names in the films table!\n",
        "\n",
        "Instructions\n",
        "\n",
        "1. Get the title of every film from the films table."
      ]
    },
    {
      "cell_type": "code",
      "metadata": {
        "id": "QlfyQc_f4S3v"
      },
      "source": [
        "SELECT title from films;\n",
        "\n",
        "'''\n",
        "title\n",
        "Intolerance: Love's Struggle Throughout the Ages\n",
        "Over the Hill to the Poorhouse\n",
        "The Big Parade\n",
        "...\n",
        "'''"
      ],
      "execution_count": null,
      "outputs": []
    },
    {
      "cell_type": "markdown",
      "metadata": {
        "id": "juoeEZnB4c2x"
      },
      "source": [
        "2. Get the title and release year for every film."
      ]
    },
    {
      "cell_type": "code",
      "metadata": {
        "id": "e4bhKoku4fZU"
      },
      "source": [
        "SELECT title, release_year\n",
        "FROM films;\n",
        "\n",
        "'''\n",
        "title\t                                            release_year\n",
        "Intolerance: Love's Struggle Throughout the Ages\t1916\n",
        "Over the Hill to the Poorhouse\t                  1920\n",
        "The Big Parade\t                                  1925\n",
        "...\n",
        "'''"
      ],
      "execution_count": null,
      "outputs": []
    },
    {
      "cell_type": "markdown",
      "metadata": {
        "id": "8pKfgBH148mw"
      },
      "source": [
        "3. Get the title, release year and country for every film."
      ]
    },
    {
      "cell_type": "code",
      "metadata": {
        "id": "EZSM7iWv49CN"
      },
      "source": [
        "SELECT title, release_year, country\n",
        "FROM films;\n",
        "\n",
        "'''\n",
        "title                               \t            release_year\tcountry\n",
        "Intolerance: Love's Struggle Throughout the Ages\t1916\t        USA\n",
        "Over the Hill to the Poorhouse\t                  1920\t        USA\n",
        "The Big Parade\t                                  1925\t        USA\n",
        "...\n",
        "'''"
      ],
      "execution_count": null,
      "outputs": []
    },
    {
      "cell_type": "markdown",
      "metadata": {
        "id": "cpxg_DZG5Sn6"
      },
      "source": [
        "4. Get all columns from the films table."
      ]
    },
    {
      "cell_type": "code",
      "metadata": {
        "id": "MUatSG6f5U0M"
      },
      "source": [
        "SELECT *\n",
        "FROM films;\n",
        "\n",
        "'''\n",
        "id\ttitle\t                                          release_year\tcountry\tduration\tlanguage\tcertification\tgross\tbudget\n",
        "1\tIntolerance: Love's Struggle Throughout the Ages\t1916\t        USA\t    123\t      null\t    Not Rated\t    null\t385907\n",
        "2\tOver the Hill to the Poorhouse\t1920\tUSA\t110\tnull\tnull\t3000000\t100000\n",
        "3\tThe Big Parade\t1925\tUSA\t151\tnull\tNot Rated\tnull\t245000\n",
        "...\n",
        "'''"
      ],
      "execution_count": null,
      "outputs": []
    },
    {
      "cell_type": "markdown",
      "metadata": {
        "id": "QWdEPsRc5qMe"
      },
      "source": [
        "# SELECT DISTINCT\n",
        "\n",
        "Often your results will include many duplicate values. If you want to select all the unique values from a column, you can use the DISTINCT keyword.\n",
        "\n",
        "This might be useful if, for example, you're interested in knowing which languages are represented in the films table:\n",
        "\n",
        "```\n",
        "SELECT DISTINCT language\n",
        "FROM films;\n",
        "```\n",
        "\n",
        "Remember, you can check out the data in the tables by clicking on the table name!\n",
        "\n",
        "Instructions\n",
        "\n",
        "1. Get all the unique countries represented in the films table."
      ]
    },
    {
      "cell_type": "code",
      "metadata": {
        "id": "UkSA_gRT5yf8"
      },
      "source": [
        "SELECT DISTINCT country FROM films;\n",
        "\n",
        "'''\n",
        "country\n",
        "null\n",
        "Soviet Union\n",
        "Indonesia\n",
        "...\n",
        "'''"
      ],
      "execution_count": null,
      "outputs": []
    },
    {
      "cell_type": "markdown",
      "metadata": {
        "id": "9UHBXIeY6Oe3"
      },
      "source": [
        "2. Get all the different film certifications from the films table."
      ]
    },
    {
      "cell_type": "code",
      "metadata": {
        "id": "T98FQFgs6Sjo"
      },
      "source": [
        "SELECT DISTINCT certification FROM films;\n",
        "\n",
        "'''\n",
        "certification\n",
        "Unrated\n",
        "M\n",
        "G\n",
        "...\n",
        "'''"
      ],
      "execution_count": null,
      "outputs": []
    },
    {
      "cell_type": "markdown",
      "metadata": {
        "id": "3g5fmQXy6dkB"
      },
      "source": [
        "3. Get the different types of film roles from the roles table."
      ]
    },
    {
      "cell_type": "code",
      "metadata": {
        "id": "znzK7mnB6fTn"
      },
      "source": [
        "SELECT DISTINCT role FROM roles;\n",
        "\n",
        "'''\n",
        "role\n",
        "director\n",
        "actor\n",
        "relation \"director\" does not exist\n",
        "LINE 1: SELECT DISTINCT role FROM director;\n",
        "                                  ^\n",
        "Showing 2 out of 2 rows\n",
        "'''"
      ],
      "execution_count": null,
      "outputs": []
    },
    {
      "cell_type": "markdown",
      "metadata": {
        "id": "N5FIP4Lv61K0"
      },
      "source": [
        "# Learning to COUNT\n",
        "\n",
        "What if you want to count the number of employees in your employees table? The COUNT statement lets you do this by returning the number of rows in one or more columns.\n",
        "\n",
        "For example, this code gives the number of rows in the people table:\n",
        "\n",
        "```\n",
        "SELECT COUNT(*)\n",
        "FROM people;\n",
        "```\n",
        "\n",
        "How many records are contained in the reviews table?\n",
        "\n",
        "Possible Answers\n",
        "\n",
        "1. 9,468\n",
        "\n",
        "2. 8,397\n",
        "\n",
        "3. 4,968 - Correct\n",
        "\n",
        "4. 9,837\n",
        "\n",
        "5. 9,864"
      ]
    },
    {
      "cell_type": "code",
      "metadata": {
        "id": "O7AP3muB7CUB"
      },
      "source": [
        "SELECT COUNT(*) FROM reviews;\n",
        "\n",
        "'''\n",
        "count\n",
        "4968\n",
        "Showing 1 out of 1 rows\n",
        "'''"
      ],
      "execution_count": null,
      "outputs": []
    },
    {
      "cell_type": "markdown",
      "metadata": {
        "id": "UuVQrnxW73az"
      },
      "source": [
        "# Practice with COUNT\n",
        "\n",
        "As you've seen, COUNT(*) tells you how many rows are in a table. However, if you want to count the number of non-missing values in a particular column, you can call COUNT on just that column.\n",
        "\n",
        "For example, to count the number of birth dates present in the people table:\n",
        "\n",
        "```\n",
        "SELECT COUNT(birthdate)\n",
        "FROM people;\n",
        "```\n",
        "\n",
        "It's also common to combine COUNT with DISTINCT to count the number of distinct values in a column.\n",
        "\n",
        "For example, this query counts the number of distinct birth dates contained in the people table:\n",
        "\n",
        "```\n",
        "SELECT COUNT(DISTINCT birthdate)\n",
        "FROM people;\n",
        "```\n",
        "\n",
        "Let's get some practice with COUNT!\n",
        "\n",
        "Instructions\n",
        "\n",
        "1. Count the number of rows in the people table."
      ]
    },
    {
      "cell_type": "code",
      "metadata": {
        "id": "V56YPPmB8CpK"
      },
      "source": [
        "SELECT COUNT(*) FROM people;\n",
        "\n",
        "'''\n",
        "count\n",
        "8397                     ^\n",
        "Showing 1 out of 1 rows\n",
        "'''"
      ],
      "execution_count": null,
      "outputs": []
    },
    {
      "cell_type": "markdown",
      "metadata": {
        "id": "XLkAE7RO8Z0c"
      },
      "source": [
        "2. Count the number of (non-missing) birth dates in the people table."
      ]
    },
    {
      "cell_type": "code",
      "metadata": {
        "id": "N2hFdVZK8dV-"
      },
      "source": [
        "SELECT COUNT(birthdate)\n",
        "FROM people;\n",
        "\n",
        "'''\n",
        "count\n",
        "6152\n",
        "Showing 1 out of 1 rows\n",
        "'''"
      ],
      "execution_count": null,
      "outputs": []
    },
    {
      "cell_type": "markdown",
      "metadata": {
        "id": "pjhe68rG8r4N"
      },
      "source": [
        "3. Count the number of unique birth dates in the people table."
      ]
    },
    {
      "cell_type": "code",
      "metadata": {
        "id": "2nT8G4uF8uOf"
      },
      "source": [
        "SELECT COUNT(DISTINCT birthdate)\n",
        "FROM people;\n",
        "\n",
        "'''\n",
        "count\n",
        "5398\n",
        "'''"
      ],
      "execution_count": null,
      "outputs": []
    },
    {
      "cell_type": "markdown",
      "metadata": {
        "id": "_Fi8f6sI81Z9"
      },
      "source": [
        "4. Count the number of unique languages in the films table."
      ]
    },
    {
      "cell_type": "code",
      "metadata": {
        "id": "6LrUIMDr84ib"
      },
      "source": [
        "SELECT COUNT(DISTINCT language) FROM films;\n",
        "\n",
        "'''\n",
        "count\n",
        "47\n",
        "'''"
      ],
      "execution_count": null,
      "outputs": []
    },
    {
      "cell_type": "markdown",
      "metadata": {
        "id": "HEfsx5we9FMv"
      },
      "source": [
        "5. Count the number of unique countries in the films table."
      ]
    },
    {
      "cell_type": "code",
      "metadata": {
        "id": "xJD6VLYI9IcT"
      },
      "source": [
        "SELECT COUNT(DISTINCT country) FROM films;\n",
        "\n",
        "'''\n",
        "count\n",
        "64\n",
        "'''"
      ],
      "execution_count": null,
      "outputs": []
    }
  ]
}