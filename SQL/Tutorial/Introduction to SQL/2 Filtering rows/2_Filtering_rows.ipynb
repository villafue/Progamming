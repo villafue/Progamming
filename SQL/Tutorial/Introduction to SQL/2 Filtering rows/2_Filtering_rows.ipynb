{
  "nbformat": 4,
  "nbformat_minor": 0,
  "metadata": {
    "colab": {
      "name": "2 Filtering rows.ipynb",
      "provenance": [],
      "authorship_tag": "ABX9TyO9pitCKOpwysN3OVDgLmie",
      "include_colab_link": true
    },
    "kernelspec": {
      "name": "python3",
      "display_name": "Python 3"
    },
    "language_info": {
      "name": "python"
    }
  },
  "cells": [
    {
      "cell_type": "markdown",
      "metadata": {
        "id": "view-in-github",
        "colab_type": "text"
      },
      "source": [
        "<a href=\"https://colab.research.google.com/github/villafue/Progamming/blob/main/SQL/Tutorial/Introduction%20to%20SQL/2%20Filtering%20rows/2_Filtering_rows.ipynb\" target=\"_parent\"><img src=\"https://colab.research.google.com/assets/colab-badge.svg\" alt=\"Open In Colab\"/></a>"
      ]
    },
    {
      "cell_type": "markdown",
      "metadata": {
        "id": "0xem7YGm9iPs"
      },
      "source": [
        "Filtering rows\n",
        "\n",
        "This chapter builds on the first by teaching you how to filter tables for rows satisfying some criteria of interest. You'll learn how to use basic comparison operators, combine multiple criteria, match patterns in text, and much more."
      ]
    },
    {
      "cell_type": "markdown",
      "metadata": {
        "id": "dc3urdFC90bo"
      },
      "source": [
        "# Filtering results\n",
        "\n",
        "Congrats on finishing the first chapter! You now know how to select columns and perform basic counts. This chapter will focus on filtering your results.\n",
        "\n",
        "In SQL, the WHERE keyword allows you to filter based on both text and numeric values in a table. There are a few different comparison operators you can use:\n",
        "\n",
        "```\n",
        "    = equal\n",
        "    <> not equal\n",
        "    < less than\n",
        "    > greater than\n",
        "    <= less than or equal to\n",
        "    >= greater than or equal to\n",
        "```\n",
        "\n",
        "For example, you can filter text records such as title. The following code returns all films with the title 'Metropolis':\n",
        "\n",
        "```\n",
        "SELECT title\n",
        "FROM films\n",
        "WHERE title = 'Metropolis';\n",
        "```\n",
        "\n",
        "Notice that the WHERE clause always comes after the FROM statement!\n",
        "\n",
        "**Note that in this course we will use <> and not != for the not equal operator, as per the SQL standard.**\n",
        "\n",
        "What does the following query return?\n",
        "\n",
        "```\n",
        "SELECT title\n",
        "FROM films\n",
        "WHERE release_year > 2000;\n",
        "```\n",
        "\n",
        "Possible Answers\n",
        "\n",
        "1. Films released before the year 2000\n",
        "\n",
        "2. Films released after the year 2000 - Correct!\n",
        "\n",
        "3. Films released after the year 2001\n",
        "\n",
        "4. Films released in 2000"
      ]
    },
    {
      "cell_type": "markdown",
      "metadata": {
        "id": "kmVP_nqp-gmi"
      },
      "source": [
        "# Simple filtering of numeric values\n",
        "\n",
        "As you learned in the previous exercise, the WHERE clause can also be used to filter numeric records, such as years or ages.\n",
        "\n",
        "For example, the following query selects all details for films with a budget over ten thousand dollars:\n",
        "\n",
        "```\n",
        "SELECT *\n",
        "FROM films\n",
        "WHERE budget > 10000;\n",
        "```\n",
        "\n",
        "Now it's your turn to use the WHERE clause to filter numeric values!\n",
        "\n",
        "Instructions\n",
        "\n",
        "1. Get all details for all films released in 2016."
      ]
    },
    {
      "cell_type": "code",
      "metadata": {
        "id": "dGYyXzhS9Yhp"
      },
      "source": [
        "SELECT * FROM films WHERE release_year = 2016;\n",
        "\n",
        "'''\n",
        "id\ttitle\trelease_year\tcountry\tduration\tlanguage\tcertification\tgross\tbudget\n",
        "4821\t10 Cloverfield Lane\t2016\tUSA\t104\tEnglish\tPG-13\t71897215\t15000000\n",
        "4822\t13 Hours\t2016\tUSA\t144\tEnglish\tR\t52822418\t50000000\n",
        "4823\tA Beginner's Guide to Snuff\t2016\tUSA\t87\tEnglish\tnull\tnull\tnull\n",
        "...\n",
        "'''"
      ],
      "execution_count": null,
      "outputs": []
    },
    {
      "cell_type": "markdown",
      "metadata": {
        "id": "_XQxLJ6U-8tM"
      },
      "source": [
        "2. Get the number of films released before 2000."
      ]
    },
    {
      "cell_type": "code",
      "metadata": {
        "id": "0_c_Z3t_-_qx"
      },
      "source": [
        "SELECT COUNT(*) FROM films WHERE release_year < 2000;\n",
        "\n",
        "'''\n",
        "count\n",
        "1337\n",
        "'''"
      ],
      "execution_count": null,
      "outputs": []
    },
    {
      "cell_type": "markdown",
      "metadata": {
        "id": "9evrXkLa_Nza"
      },
      "source": [
        "3. Get the title and release year of films released after 2000."
      ]
    },
    {
      "cell_type": "code",
      "metadata": {
        "id": "KJJ_xm7Z_QJq"
      },
      "source": [
        "SELECT title, release_year FROM films WHERE release_year > 2000;\n",
        "\n",
        "'''\n",
        "title\trelease_year\n",
        "15 Minutes\t2001\n",
        "3000 Miles to Graceland\t2001\n",
        "A Beautiful Mind\t2001\n",
        "...\n",
        "'''"
      ],
      "execution_count": null,
      "outputs": []
    },
    {
      "cell_type": "markdown",
      "metadata": {
        "id": "7poKTgCA_f2s"
      },
      "source": [
        "Conclusion\n",
        "\n",
        "Great job! After filtering of numeric values, it's time to explore filtering of text!"
      ]
    },
    {
      "cell_type": "markdown",
      "metadata": {
        "id": "BdBnKOmZ_hu0"
      },
      "source": [
        "# Simple filtering of text\n",
        "\n",
        "Remember, the WHERE clause can also be used to filter text results, such as names or countries.\n",
        "\n",
        "For example, this query gets the titles of all films which were filmed in China:\n",
        "\n",
        "```\n",
        "SELECT title\n",
        "FROM films\n",
        "WHERE country = 'China';\n",
        "```\n",
        "\n",
        "Now it's your turn to practice using WHERE with text values!\n",
        "\n",
        "**Important: in PostgreSQL (the version of SQL we're using), you must use single quotes with WHERE.**\n",
        "\n",
        "Instructions\n",
        "\n",
        "1. Get all details for all French language films."
      ]
    },
    {
      "cell_type": "code",
      "metadata": {
        "id": "B_Mpkoih_7WP"
      },
      "source": [
        "SELECT * FROM films WHERE language = 'French'\n",
        "\n",
        "'''\n",
        "id\ttitle\trelease_year\tcountry\tduration\tlanguage\tcertification\tgross\tbudget\n",
        "108\tUne Femme Mariée\t1964\tFrance\t94\tFrench\tnull\tnull\t120000\n",
        "111\tPierrot le Fou\t1965\tFrance\t110\tFrench\tNot Rated\tnull\t300000\n",
        "140\tMississippi Mermaid\t1969\tFrance\t123\tFrench\tR\t26893\t1600000\n",
        "...\n",
        "'''"
      ],
      "execution_count": null,
      "outputs": []
    },
    {
      "cell_type": "markdown",
      "metadata": {
        "id": "X2tkzeyP__9i"
      },
      "source": [
        "2. Get the name and birth date of the person born on November 11th, 1974. Remember to use ISO date format ('1974-11-11')!"
      ]
    },
    {
      "cell_type": "code",
      "metadata": {
        "id": "tjzpEoBPADga"
      },
      "source": [
        "SELECT name, birthdate FROM people WHERE birthdate = '1974-11-11'\n",
        "\n",
        "'''\n",
        "name\tbirthdate\n",
        "Leonardo DiCaprio\t1974-11-11\n",
        "'''"
      ],
      "execution_count": null,
      "outputs": []
    },
    {
      "cell_type": "markdown",
      "metadata": {
        "id": "IMSrkOLNAWLn"
      },
      "source": [
        "3. Get the number of Hindi language films."
      ]
    },
    {
      "cell_type": "code",
      "metadata": {
        "id": "W4jeJDIYAYlr"
      },
      "source": [
        "SELECT COUNT(*) FROM films WHERE language = 'Hindi'\n",
        "\n",
        "'''\n",
        "count\n",
        "28\n",
        "'''"
      ],
      "execution_count": null,
      "outputs": []
    },
    {
      "cell_type": "markdown",
      "metadata": {
        "id": "PaHP5ap1Ar1s"
      },
      "source": [
        "4. Get all details for all films with an R certification."
      ]
    },
    {
      "cell_type": "code",
      "metadata": {
        "id": "Z410qQxFAvpY"
      },
      "source": [
        "SELECT * FROM films WHERE certification = 'R'\n",
        "\n",
        "'''\n",
        "id\ttitle\trelease_year\tcountry\tduration\tlanguage\tcertification\tgross\tbudget\n",
        "76\tPsycho\t1960\tUSA\t108\tEnglish\tR\t32000000\t806947\n",
        "99\tA Fistful of Dollars\t1964\tItaly\t99\tItalian\tR\t3500000\t200000\n",
        "134\tRosemary's Baby\t1968\tUSA\t136\tEnglish\tR\tnull\t2300000\n",
        "...\n",
        "'''"
      ],
      "execution_count": null,
      "outputs": []
    },
    {
      "cell_type": "markdown",
      "metadata": {
        "id": "kqlpw9cTA9Tq"
      },
      "source": [
        "Conclusion\n",
        "\n",
        "Wonderful! Let's look at combining different conditions now!"
      ]
    },
    {
      "cell_type": "markdown",
      "metadata": {
        "id": "NYcPaZm6LkVg"
      },
      "source": [
        "# WHERE AND\n",
        "\n",
        "Often, you'll want to select data based on multiple conditions. You can build up your WHERE queries by combining multiple conditions with the AND keyword.\n",
        "\n",
        "For example,\n",
        "\n",
        "```\n",
        "SELECT title\n",
        "FROM films\n",
        "WHERE release_year > 1994\n",
        "AND release_year < 2000;\n",
        "```\n",
        "\n",
        "gives you the titles of films released between 1994 and 2000.\n",
        "\n",
        "Note that you need to specify the column name separately for every AND condition, so the following would be invalid:\n",
        "\n",
        "```\n",
        "SELECT title\n",
        "FROM films\n",
        "WHERE release_year > 1994 AND < 2000;\n",
        "```\n",
        "\n",
        "You can add as many AND conditions as you need!\n",
        "\n",
        "Instructions\n",
        "\n",
        "1. Get the title and release year for all Spanish language films released before 2000."
      ]
    },
    {
      "cell_type": "code",
      "metadata": {
        "id": "qrUibsYqLxi5"
      },
      "source": [
        "SELECT title, release_year FROM films WHERE language = 'Spanish' AND release_year < 2000;\n",
        "\n",
        "'''\n",
        "title\trelease_year\n",
        "El Mariachi\t1992\n",
        "La otra conquista\t1998\n",
        "Tango\t1998\n",
        "Showing 3 out of 3 rows\n",
        "'''"
      ],
      "execution_count": null,
      "outputs": []
    },
    {
      "cell_type": "markdown",
      "metadata": {
        "id": "tyFd49AAMHgK"
      },
      "source": [
        "2. Get all details for Spanish language films released after 2000."
      ]
    },
    {
      "cell_type": "code",
      "metadata": {
        "id": "2r5pPo3wMKZr"
      },
      "source": [
        "SELECT * FROM films WHERE language = 'Spanish' AND release_year > 2000;\n",
        "\n",
        "'''\n",
        "Id\ttitle\trelease_year\tcountry\tduration\tlanguage\tcertification\tgross\tbudget\n",
        "1695\tY Tu Mamá También\t2001\tMexico\t106\tSpanish\tR\t13622333\t2000000\n",
        "1757\tEl crimen del padre Amaro\t2002\tMexico\t118\tSpanish\tR\t5709616\t1800000\n",
        "1807\tMondays in the Sun\t2002\tSpain\t113\tSpanish\tR\t146402\t4000000\n",
        "...\n",
        "'''"
      ],
      "execution_count": null,
      "outputs": []
    },
    {
      "cell_type": "markdown",
      "metadata": {
        "id": "dlabftnnMgjs"
      },
      "source": [
        "3. Get all details for Spanish language films released after 2000, but before 2010."
      ]
    },
    {
      "cell_type": "code",
      "metadata": {
        "id": "6pNZdAcLMh3E"
      },
      "source": [
        "SELECT * FROM films WHERE language = 'Spanish' AND release_year > 2000 AND release_year < 2010;\n",
        "\n",
        "'''\n",
        "id\ttitle\trelease_year\tcountry\tduration\tlanguage\tcertification\tgross\tbudget\n",
        "1695\tY Tu Mamá También\t2001\tMexico\t106\tSpanish\tR\t13622333\t2000000\n",
        "1757\tEl crimen del padre Amaro\t2002\tMexico\t118\tSpanish\tR\t5709616\t1800000\n",
        "1807\tMondays in the Sun\t2002\tSpain\t113\tSpanish\tR\t146402\t4000000\n",
        "...\n",
        "'''"
      ],
      "execution_count": null,
      "outputs": []
    },
    {
      "cell_type": "markdown",
      "metadata": {
        "id": "ZRy11c1hM291"
      },
      "source": [
        "Conclusion\n",
        "\n",
        "Great work! Being able to combine conditions with AND will prove to be very useful if you only want your query to return a specific subset of records!"
      ]
    },
    {
      "cell_type": "markdown",
      "metadata": {
        "id": "LEHfE5FZM7JL"
      },
      "source": [
        "# WHERE AND OR\n",
        "\n",
        "What if you want to select rows based on multiple conditions where some but not all of the conditions need to be met? For this, SQL has the OR operator.\n",
        "\n",
        "For example, the following returns all films released in either 1994 or 2000:\n",
        "\n",
        "```\n",
        "SELECT title\n",
        "FROM films\n",
        "WHERE release_year = 1994\n",
        "OR release_year = 2000;\n",
        "```\n",
        "\n",
        "Note that you need to specify the column for every OR condition, so the following is invalid:\n",
        "\n",
        "```\n",
        "SELECT title\n",
        "FROM films\n",
        "WHERE release_year = 1994 OR 2000;\n",
        "```\n",
        "\n",
        "When combining AND and OR, be sure to enclose the individual clauses in parentheses, like so:\n",
        "\n",
        "```\n",
        "SELECT title\n",
        "FROM films\n",
        "WHERE (release_year = 1994 OR release_year = 1995)\n",
        "AND (certification = 'PG' OR certification = 'R');\n",
        "```\n",
        "\n",
        "Otherwise, due to SQL's precedence rules, you may not get the results you're expecting!\n",
        "\n",
        "What does the OR operator do?\n",
        "\n",
        "Possible Answers\n",
        "\n",
        "1. Display only rows that meet at least one of the specified conditions.\n",
        " - Correct!\n",
        " \n",
        "2. Display only rows that meet all of the specified conditions.\n",
        " - Incorrect. OR does not only display rows that meet all of the specified conditions.\n",
        "\n",
        "3. Display only rows that meet none of the specified conditions.\n",
        " - Incorrect. OR does not display rows that meet none of the specified conditions.\n"
      ]
    },
    {
      "cell_type": "markdown",
      "metadata": {
        "id": "GX3S6ZwONiJa"
      },
      "source": [
        "# WHERE AND OR (2)\n",
        "\n",
        "You now know how to select rows that meet some but not all conditions by combining AND and OR.\n",
        "\n",
        "For example, the following query selects all films that were released in 1994 or 1995 which had a rating of PG or R.\n",
        "\n",
        "```\n",
        "SELECT title\n",
        "FROM films\n",
        "WHERE (release_year = 1994 OR release_year = 1995)\n",
        "AND (certification = 'PG' OR certification = 'R');\n",
        "```\n",
        "\n",
        "Now you'll write a query to get the title and release year of films released in the 90s which were in French or Spanish and which took in more than $2M gross.\n",
        "\n",
        "It looks like a lot, but you can build the query up one step at a time to get comfortable with the underlying concept in each step. Let's go!\n",
        "\n",
        "Instructions\n",
        "\n",
        "1. Get the title and release year for films released in the 90s."
      ]
    },
    {
      "cell_type": "code",
      "metadata": {
        "id": "EwT47az8N-a5"
      },
      "source": [
        "SELECT title, release_year\n",
        "FROM films\n",
        "WHERE release_year >= 1990\n",
        "AND release_year < 2000;\n",
        "\n",
        "'''\n",
        "title\trelease_year\n",
        "Arachnophobia\t1990\n",
        "Back to the Future Part III\t1990\n",
        "Child's Play 2\t1990\n",
        "...\n",
        "'''"
      ],
      "execution_count": null,
      "outputs": []
    },
    {
      "cell_type": "markdown",
      "metadata": {
        "id": "lB84CyAOODp6"
      },
      "source": [
        "2. Now, build on your query to filter the records to only include French or Spanish language films."
      ]
    },
    {
      "cell_type": "code",
      "metadata": {
        "id": "V1bdGTSgOF0Q"
      },
      "source": [
        "SELECT title, release_year\n",
        "FROM films\n",
        "WHERE (release_year >= 1990 AND release_year < 2000)\n",
        "AND (language = 'French' OR language = 'Spanish');\n",
        "\n",
        "'''\n",
        "title\trelease_year\n",
        "El Mariachi\t1992\n",
        "Les visiteurs\t1993\n",
        "The Horseman on the Roof\t1995\n",
        "When the Cat's Away\t1996\n",
        "The Chambermaid on the Titanic\t1997\n",
        "The Swindle\t1997\n",
        "La otra conquista\t1998\n",
        "Les couloirs du temps: Les visiteurs II\t1998\n",
        "Tango\t1998\n",
        "The Red Violin\t1998\n",
        "Showing 10 out of 10 rows\n",
        "'''"
      ],
      "execution_count": null,
      "outputs": []
    },
    {
      "cell_type": "markdown",
      "metadata": {
        "id": "dYqRg4EgOWDT"
      },
      "source": [
        "3. Finally, restrict the query to only return films that took in more than $2M gross."
      ]
    },
    {
      "cell_type": "code",
      "metadata": {
        "id": "LtvZyNeKOXZc"
      },
      "source": [
        "SELECT title, release_year\n",
        "FROM films\n",
        "WHERE (release_year >= 1990 AND release_year < 2000)\n",
        "AND (language = 'French' OR language = 'Spanish')\n",
        "AND gross > 2000000;\n",
        "\n",
        "'''\n",
        "title\trelease_year\n",
        "El Mariachi\t1992\n",
        "The Red Violin\t1998\n",
        "Showing 2 out of 2 rows\n",
        "'''"
      ],
      "execution_count": null,
      "outputs": []
    },
    {
      "cell_type": "markdown",
      "metadata": {
        "id": "sN7vnA2WOpTL"
      },
      "source": [
        "# BETWEEN\n",
        "\n",
        "As you've learned, you can use the following query to get titles of all films released in and between 1994 and 2000:\n",
        "\n",
        "```\n",
        "SELECT title\n",
        "FROM films\n",
        "WHERE release_year >= 1994\n",
        "AND release_year <= 2000;\n",
        "```\n",
        "\n",
        "Checking for ranges like this is very common, so in SQL the BETWEEN keyword provides a useful shorthand for filtering values within a specified range. This query is equivalent to the one above:\n",
        "\n",
        "```\n",
        "SELECT title\n",
        "FROM films\n",
        "WHERE release_year\n",
        "BETWEEN 1994 AND 2000;\n",
        "```\n",
        "\n",
        "It's important to remember that BETWEEN is inclusive, meaning the beginning and end values are included in the results!\n",
        "\n",
        "What does the BETWEEN keyword do?\n",
        "\n",
        "Possible Answers\n",
        "\n",
        "1. Filter numeric values - Incorrect. BETWEEN does not just filter numeric values.\n",
        "\n",
        "2. Filter text values - Incorrect. BETWEEN does not just filter text values.\n",
        "\n",
        "3. Filter values in a specified list - Incorrect!\n",
        "\n",
        "4. Filter values in a specified range - Correct!"
      ]
    },
    {
      "cell_type": "markdown",
      "metadata": {
        "id": "wpf-gaL4PGSf"
      },
      "source": [
        "# BETWEEN (2)\n",
        "\n",
        "Similar to the WHERE clause, the BETWEEN clause can be used with multiple AND and OR operators, so you can build up your queries and make them even more powerful!\n",
        "\n",
        "For example, suppose we have a table called kids. We can get the names of all kids between the ages of 2 and 12 from the United States:\n",
        "\n",
        "```\n",
        "SELECT name\n",
        "FROM kids\n",
        "WHERE age BETWEEN 2 AND 12\n",
        "AND nationality = 'USA';\n",
        "```\n",
        "\n",
        "Take a go at using BETWEEN with AND on the films data to get the title and release year of all Spanish language films released between 1990 and 2000 (inclusive) with budgets over $100 million. We have broken the problem into smaller steps so that you can build the query as you go along!\n",
        "\n",
        "Instructions\n",
        "\n",
        "1. Get the title and release year of all films released between 1990 and 2000 (inclusive)."
      ]
    },
    {
      "cell_type": "code",
      "metadata": {
        "id": "AJMqqChYPhWb"
      },
      "source": [
        "SELECT title, release_year\n",
        "FROM films\n",
        "WHERE release_year\n",
        "BETWEEN 1990 AND 2000;\n",
        "\n",
        "'''\n",
        "title\trelease_year\n",
        "Arachnophobia\t1990\n",
        "Back to the Future Part III\t1990\n",
        "Child's Play 2\t1990\n",
        "...\n",
        "'''"
      ],
      "execution_count": null,
      "outputs": []
    },
    {
      "cell_type": "markdown",
      "metadata": {
        "id": "7CW9Q7HmPniE"
      },
      "source": [
        "2. Now, build on your previous query to select only films that have budgets over $100 million."
      ]
    },
    {
      "cell_type": "code",
      "metadata": {
        "id": "yDtUNGhKP7W4"
      },
      "source": [
        "SELECT title, release_year\n",
        "FROM films\n",
        "WHERE release_year BETWEEN 1990 AND 2000\n",
        "AND budget > 100000000;\n",
        "\n",
        "'''\n",
        "title\trelease_year\n",
        "Terminator 2: Judgment Day\t1991\n",
        "True Lies\t1994\n",
        "Waterworld\t1995\n",
        "...\n",
        "'''"
      ],
      "execution_count": null,
      "outputs": []
    },
    {
      "cell_type": "markdown",
      "metadata": {
        "id": "KJ_w9XhjQBKw"
      },
      "source": [
        "3. Now restrict the query to only return Spanish language films."
      ]
    },
    {
      "cell_type": "code",
      "metadata": {
        "id": "qlSIdFHmQDgT"
      },
      "source": [
        "SELECT title, release_year\n",
        "FROM films\n",
        "WHERE release_year BETWEEN 1990 AND 2000\n",
        "AND budget > 100000000\n",
        "AND language = 'Spanish'\n",
        "\n",
        "'''\n",
        "title\trelease_year\n",
        "Tango\t1998\n",
        "'''"
      ],
      "execution_count": null,
      "outputs": []
    },
    {
      "cell_type": "markdown",
      "metadata": {
        "id": "fIdfc8VXQKfJ"
      },
      "source": [
        "4. Finally, modify to your previous query to include all Spanish language or French language films with the same criteria as before. Don't forget your parentheses!"
      ]
    },
    {
      "cell_type": "code",
      "metadata": {
        "id": "V3Enqh3VQY-y"
      },
      "source": [
        "SELECT title, release_year\n",
        "FROM films\n",
        "WHERE release_year BETWEEN 1990 AND 2000\n",
        "AND budget > 100000000\n",
        "AND (language = 'Spanish' OR language = 'French');\n",
        "\n",
        "'''\n",
        "title\trelease_year\n",
        "Les couloirs du temps: Les visiteurs II\t1998\n",
        "Tango\t1998\n",
        "'''"
      ],
      "execution_count": null,
      "outputs": []
    },
    {
      "cell_type": "markdown",
      "metadata": {
        "id": "ZumqKHeTQgW1"
      },
      "source": [
        "Conclusion\n",
        "\n",
        "Well done! Off to the next filtering operator!"
      ]
    },
    {
      "cell_type": "markdown",
      "metadata": {
        "id": "-zzg1OmTQh0J"
      },
      "source": [
        "# WHERE IN\n",
        "\n",
        "As you've seen, WHERE is very useful for filtering results. However, if you want to filter based on many conditions, WHERE can get unwieldy. For example:\n",
        "\n",
        "```\n",
        "SELECT name\n",
        "FROM kids\n",
        "WHERE age = 2\n",
        "OR age = 4\n",
        "OR age = 6\n",
        "OR age = 8\n",
        "OR age = 10;\n",
        "```\n",
        "\n",
        "Enter the IN operator! The IN operator allows you to specify multiple values in a WHERE clause, making it easier and quicker to specify multiple OR conditions! Neat, right?\n",
        "\n",
        "So, the above example would become simply:\n",
        "\n",
        "```\n",
        "SELECT name\n",
        "FROM kids\n",
        "WHERE age IN (2, 4, 6, 8, 10);\n",
        "```\n",
        "\n",
        "Try using the IN operator yourself!\n",
        "\n",
        "Instructions\n",
        "\n",
        "1. Get the title and release year of all films released in 1990 or 2000 that were longer than two hours. Remember, duration is in minutes!"
      ]
    },
    {
      "cell_type": "code",
      "metadata": {
        "id": "O95MK03wQ1VO"
      },
      "source": [
        "SELECT title, release_year\n",
        "FROM films\n",
        "WHERE release_year IN (1990, 2000)\n",
        "AND duration > 120;\n",
        "\n",
        "'''\n",
        "title\trelease_year\n",
        "Dances with Wolves\t1990\n",
        "Die Hard 2\t1990\n",
        "Ghost\t1990\n",
        "'''"
      ],
      "execution_count": null,
      "outputs": []
    },
    {
      "cell_type": "markdown",
      "metadata": {
        "id": "RtGkMr7-ROdB"
      },
      "source": [
        "2. Get the title and language of all films which were in English, Spanish, or French."
      ]
    },
    {
      "cell_type": "code",
      "metadata": {
        "id": "zdj5jvIuRRGv"
      },
      "source": [
        "SELECT title, language\n",
        "FROM films\n",
        "WHERE language IN ('English', 'Spanish', 'French');\n",
        "\n",
        "'''\n",
        "title\tlanguage\n",
        "The Broadway Melody\tEnglish\n",
        "Hell's Angels\tEnglish\n",
        "A Farewell to Arms\tEnglish\n",
        "'''"
      ],
      "execution_count": null,
      "outputs": []
    },
    {
      "cell_type": "markdown",
      "metadata": {
        "id": "f8XcDtU3RpQz"
      },
      "source": [
        "3. Get the title and certification of all films with an NC-17 or R certification."
      ]
    },
    {
      "cell_type": "code",
      "metadata": {
        "id": "tp-s7uk1Rro7"
      },
      "source": [
        "SELECT title, certification\n",
        "FROM films\n",
        "WHERE certification in ('NC-17', 'R');\n",
        "\n",
        "'''\n",
        "title\tcertification\n",
        "Psycho\tR\n",
        "A Fistful of Dollars\tR\n",
        "Rosemary's Baby\tR\n",
        "'''"
      ],
      "execution_count": null,
      "outputs": []
    },
    {
      "cell_type": "markdown",
      "metadata": {
        "id": "1EZMlJYGR6FA"
      },
      "source": [
        "Conclusion\n",
        "\n",
        "Your SQL vocabulary is growing by the minute!"
      ]
    },
    {
      "cell_type": "markdown",
      "metadata": {
        "id": "5CNt77AkR9pE"
      },
      "source": [
        "# Introduction to NULL and IS NULL\n",
        "\n",
        "In SQL, NULL represents a missing or unknown value. You can check for NULL values using the expression IS NULL. For example, to count the number of missing birth dates in the people table:\n",
        "\n",
        "```\n",
        "SELECT COUNT(*)\n",
        "FROM people\n",
        "WHERE birthdate IS NULL;\n",
        "```\n",
        "\n",
        "As you can see, IS NULL is useful when combined with WHERE to figure out what data you're missing.\n",
        "\n",
        "Sometimes, you'll want to filter out missing values so you only get results which are not NULL. To do this, you can use the IS NOT NULL operator.\n",
        "\n",
        "For example, this query gives the names of all people whose birth dates are not missing in the people table.\n",
        "\n",
        "```\n",
        "SELECT name\n",
        "FROM people\n",
        "WHERE birthdate IS NOT NULL;\n",
        "```\n",
        "\n",
        "What does NULL represent?\n",
        "\n",
        "Possible Answers\n",
        "\n",
        "1. A corrupt entry - Incorrect. We can not be sure that a NULL value is actually corrupt.\n",
        "\n",
        "2. A missing value - Correct! NULL is used to represent unknown values.\n",
        "\n",
        "3. An empty string - Incorrect. An empty string is not the same as a NULL value.\n",
        "\n",
        "4. An invalid value - Incorrect!"
      ]
    },
    {
      "cell_type": "markdown",
      "metadata": {
        "id": "8rLX5fzwSZG2"
      },
      "source": [
        "# NULL and IS NULL\n",
        "\n",
        "Now that you know what NULL is and what it's used for, it's time for some practice!\n",
        "\n",
        "Instructions\n",
        "\n",
        "1. Get the names of people who are still alive, i.e. whose death date is missing."
      ]
    },
    {
      "cell_type": "code",
      "metadata": {
        "id": "ACS7LmzYSpzI"
      },
      "source": [
        "SELECT *\n",
        "FROM people\n",
        "WHERE deathdate IS NULL;\n",
        "\n",
        "'''\n",
        "id\tname\tbirthdate\tdeathdate\n",
        "1\t50 Cent\t1975-07-06\tnull\n",
        "2\tA. Michael Baldwin\t1963-04-04\tnull\n",
        "3\tA. Raven Cruz\tnull\tnull\n",
        "'''"
      ],
      "execution_count": null,
      "outputs": []
    },
    {
      "cell_type": "markdown",
      "metadata": {
        "id": "cXgHXDDcSrWX"
      },
      "source": [
        "2. Get the title of every film which doesn't have a budget associated with it."
      ]
    },
    {
      "cell_type": "code",
      "metadata": {
        "id": "0MvOqn20St-i"
      },
      "source": [
        "SELECT title\n",
        "FROM films\n",
        "WHERE budget IS NULL;\n",
        "\n",
        "'''\n",
        "title\n",
        "Pandora's Box\n",
        "The Prisoner of Zenda\n",
        "The Blue Bird\n",
        "'''"
      ],
      "execution_count": null,
      "outputs": []
    },
    {
      "cell_type": "markdown",
      "metadata": {
        "id": "8eLzvyp1S1SI"
      },
      "source": [
        "3. Get the number of films which don't have a language associated with them."
      ]
    },
    {
      "cell_type": "code",
      "metadata": {
        "id": "olvJ1rAFS3w7"
      },
      "source": [
        "SELECT COUNT(*)\n",
        "FROM films\n",
        "WHERE language IS NULL;\n",
        "\n",
        "'''\n",
        "count\n",
        "11\n",
        "'''"
      ],
      "execution_count": null,
      "outputs": []
    },
    {
      "cell_type": "markdown",
      "metadata": {
        "id": "NWeg5OQ0TC87"
      },
      "source": [
        "Conclusion\n",
        "\n",
        "Alright! Are you ready for a last type of operator?"
      ]
    },
    {
      "cell_type": "markdown",
      "metadata": {
        "id": "O1iwbrRkTWT-"
      },
      "source": [
        "# LIKE and NOT LIKE\n",
        "\n",
        "As you've seen, the WHERE clause can be used to filter text data. However, so far you've only been able to filter by specifying the exact text you're interested in. In the real world, often you'll want to search for a pattern rather than a specific text string.\n",
        "\n",
        "In SQL, the LIKE operator can be used in a WHERE clause to search for a pattern in a column. To accomplish this, you use something called a wildcard as a placeholder for some other values. There are two wildcards you can use with LIKE:\n",
        "\n",
        "The `%` wildcard will match zero, one, or many characters in text. For example, the following query matches companies like 'Data', 'DataC' 'DataCamp', 'DataMind', and so on:\n",
        "\n",
        "```\n",
        "SELECT name\n",
        "FROM companies\n",
        "WHERE name LIKE 'Data%';\n",
        "```\n",
        "\n",
        "The `_` wildcard will match a single character. For example, the following query matches companies like 'DataCamp', 'DataComp', and so on:\n",
        "\n",
        "```\n",
        "SELECT name\n",
        "FROM companies\n",
        "WHERE name LIKE 'DataC_mp';\n",
        "```\n",
        "\n",
        "You can also use the `NOT LIKE` operator to find records that don't match the pattern you specify.\n",
        "\n",
        "Got it? Let's practice!\n",
        "\n",
        "Instructions\n",
        "\n",
        "1. Get the names of all people whose names begin with 'B'. The pattern you need is 'B%'."
      ]
    },
    {
      "cell_type": "code",
      "metadata": {
        "id": "r8gOP6NvUEO4"
      },
      "source": [
        "SELECT name\n",
        "FROM people\n",
        "WHERE name LIKE 'B%';\n",
        "\n",
        "'''\n",
        "name\n",
        "B.J. Novak\n",
        "Babak Najafi\n",
        "Babar Ahmed\n",
        "'''"
      ],
      "execution_count": null,
      "outputs": []
    },
    {
      "cell_type": "markdown",
      "metadata": {
        "id": "luvps958UIUB"
      },
      "source": [
        "2. Get the names of people whose names have 'r' as the second letter. The pattern you need is '_r%'."
      ]
    },
    {
      "cell_type": "code",
      "metadata": {
        "id": "1hBl4KmdUMMH"
      },
      "source": [
        "SELECT name\n",
        "FROM people\n",
        "WHERE name LIKE '_r%';"
      ],
      "execution_count": null,
      "outputs": []
    },
    {
      "cell_type": "markdown",
      "metadata": {
        "id": "QycSHC2-ULJp"
      },
      "source": [
        "3. Get the names of people whose names don't start with A. The pattern you need is 'A%'."
      ]
    },
    {
      "cell_type": "code",
      "metadata": {
        "id": "IAefKSikUbzs"
      },
      "source": [
        "SELECT name\n",
        "FROM people\n",
        "WHERE name NOT LIKE 'A%';\n",
        "\n",
        "'''\n",
        "name\n",
        "Ara Celi\n",
        "Aramis Knight\n",
        "Arben Bajraktaraj\n",
        "'''"
      ],
      "execution_count": null,
      "outputs": []
    },
    {
      "cell_type": "markdown",
      "metadata": {
        "id": "OVMphYP9UqSw"
      },
      "source": [
        "Conclusion\n",
        "\n",
        "This concludes the second chapter of the intro to SQL course. Rush over to chapter 3 if you want to learn more about aggregate functions!"
      ]
    }
  ]
}