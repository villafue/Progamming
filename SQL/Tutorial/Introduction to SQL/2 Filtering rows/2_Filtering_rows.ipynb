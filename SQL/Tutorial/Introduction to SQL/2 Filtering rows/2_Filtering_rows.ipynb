{
  "nbformat": 4,
  "nbformat_minor": 0,
  "metadata": {
    "colab": {
      "name": "2 Filtering rows.ipynb",
      "provenance": [],
      "authorship_tag": "ABX9TyNHW5kT7in792GHYUNoGcR9",
      "include_colab_link": true
    },
    "kernelspec": {
      "name": "python3",
      "display_name": "Python 3"
    },
    "language_info": {
      "name": "python"
    }
  },
  "cells": [
    {
      "cell_type": "markdown",
      "metadata": {
        "id": "view-in-github",
        "colab_type": "text"
      },
      "source": [
        "<a href=\"https://colab.research.google.com/github/villafue/Progamming/blob/main/SQL/Tutorial/Introduction%20to%20SQL/2%20Filtering%20rows/2_Filtering_rows.ipynb\" target=\"_parent\"><img src=\"https://colab.research.google.com/assets/colab-badge.svg\" alt=\"Open In Colab\"/></a>"
      ]
    },
    {
      "cell_type": "markdown",
      "metadata": {
        "id": "0xem7YGm9iPs"
      },
      "source": [
        "Filtering rows\n",
        "\n",
        "This chapter builds on the first by teaching you how to filter tables for rows satisfying some criteria of interest. You'll learn how to use basic comparison operators, combine multiple criteria, match patterns in text, and much more."
      ]
    },
    {
      "cell_type": "code",
      "metadata": {
        "id": "dGYyXzhS9Yhp"
      },
      "source": [
        ""
      ],
      "execution_count": null,
      "outputs": []
    }
  ]
}