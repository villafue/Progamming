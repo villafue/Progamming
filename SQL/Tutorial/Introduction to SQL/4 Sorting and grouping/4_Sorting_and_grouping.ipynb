{
  "nbformat": 4,
  "nbformat_minor": 0,
  "metadata": {
    "colab": {
      "name": "4 Sorting and grouping.ipynb",
      "provenance": [],
      "authorship_tag": "ABX9TyNE5AcD60HKUF96YTknI2Wd",
      "include_colab_link": true
    },
    "kernelspec": {
      "name": "python3",
      "display_name": "Python 3"
    },
    "language_info": {
      "name": "python"
    }
  },
  "cells": [
    {
      "cell_type": "markdown",
      "metadata": {
        "id": "view-in-github",
        "colab_type": "text"
      },
      "source": [
        "<a href=\"https://colab.research.google.com/github/villafue/Progamming/blob/main/SQL/Tutorial/Introduction%20to%20SQL/4%20Sorting%20and%20grouping/4_Sorting_and_grouping.ipynb\" target=\"_parent\"><img src=\"https://colab.research.google.com/assets/colab-badge.svg\" alt=\"Open In Colab\"/></a>"
      ]
    },
    {
      "cell_type": "markdown",
      "metadata": {
        "id": "gHDoVWv9YUdQ"
      },
      "source": [
        "Sorting and grouping\n",
        "\n",
        "This chapter provides a brief introduction to sorting and grouping your results."
      ]
    },
    {
      "cell_type": "code",
      "metadata": {
        "id": "ny3jHebqYejH"
      },
      "source": [
        ""
      ],
      "execution_count": null,
      "outputs": []
    },
    {
      "cell_type": "code",
      "metadata": {
        "id": "q7BnwIHpX758"
      },
      "source": [
        ""
      ],
      "execution_count": null,
      "outputs": []
    }
  ]
}