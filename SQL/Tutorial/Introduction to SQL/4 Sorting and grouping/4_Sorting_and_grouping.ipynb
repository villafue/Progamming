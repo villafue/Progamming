{
  "nbformat": 4,
  "nbformat_minor": 0,
  "metadata": {
    "colab": {
      "name": "4 Sorting and grouping.ipynb",
      "provenance": [],
      "authorship_tag": "ABX9TyOVuXmwcTAL8HaNN1BuOmwj",
      "include_colab_link": true
    },
    "kernelspec": {
      "name": "python3",
      "display_name": "Python 3"
    },
    "language_info": {
      "name": "python"
    }
  },
  "cells": [
    {
      "cell_type": "markdown",
      "metadata": {
        "id": "view-in-github",
        "colab_type": "text"
      },
      "source": [
        "<a href=\"https://colab.research.google.com/github/villafue/Progamming/blob/main/SQL/Tutorial/Introduction%20to%20SQL/4%20Sorting%20and%20grouping/4_Sorting_and_grouping.ipynb\" target=\"_parent\"><img src=\"https://colab.research.google.com/assets/colab-badge.svg\" alt=\"Open In Colab\"/></a>"
      ]
    },
    {
      "cell_type": "markdown",
      "metadata": {
        "id": "gHDoVWv9YUdQ"
      },
      "source": [
        "Sorting and grouping\n",
        "\n",
        "This chapter provides a brief introduction to sorting and grouping your results."
      ]
    },
    {
      "cell_type": "markdown",
      "metadata": {
        "id": "BdOiswB8zhpk"
      },
      "source": [
        "# ORDER BY\n",
        "\n",
        "Congratulations on making it this far! You now know how to select and filter your results.\n",
        "\n",
        "In this chapter you'll learn how to sort and group your results to gain further insight. Let's go!\n",
        "\n",
        "In SQL, the ORDER BY keyword is used to sort results in ascending or descending order according to the values of one or more columns.\n",
        "\n",
        "By default ORDER BY will sort in ascending order. If you want to sort the results in descending order, you can use the DESC keyword. For example,\n",
        "\n",
        "```\n",
        "SELECT title\n",
        "FROM films\n",
        "ORDER BY release_year DESC;\n",
        "```\n",
        "\n",
        "gives you the titles of films sorted by release year, from newest to oldest.\n",
        "\n",
        "How do you think ORDER BY sorts a column of text values by default?\n",
        "\n",
        "Possible Answers\n",
        "\n",
        "1. Alphabetically (A-Z) - Correct!\n",
        "\n",
        "2. Reverse alphabetically (Z-A)\n",
        "\n",
        "3. There's no natural ordering to text data\n",
        "\n",
        "4. By number of characters (fewest to most)"
      ]
    },
    {
      "cell_type": "markdown",
      "metadata": {
        "id": "LC8wKgUx5Z4f"
      },
      "source": [
        "# Sorting single columns\n",
        "\n",
        "Now that you understand how ORDER BY works, give these exercises a go!\n",
        "\n",
        "Instructions\n",
        "\n",
        "1. Get the names of people from the people table, sorted alphabetically."
      ]
    },
    {
      "cell_type": "code",
      "metadata": {
        "id": "ny3jHebqYejH"
      },
      "source": [
        "SELECT name FROM people ORDER BY name;\n",
        "\n",
        "'''\n",
        "name\n",
        "50 Cent\n",
        "A. Michael Baldwin\n",
        "A. Raven Cruz\n",
        "'''"
      ],
      "execution_count": null,
      "outputs": []
    },
    {
      "cell_type": "markdown",
      "metadata": {
        "id": "z4MZ78bT5vYc"
      },
      "source": [
        "2. Get the names of people, sorted by birth date."
      ]
    },
    {
      "cell_type": "code",
      "metadata": {
        "id": "q7BnwIHpX758"
      },
      "source": [
        "SELECT name\n",
        "FROM people\n",
        "ORDER BY birthdate;\n",
        "\n",
        "'''\n",
        "name\n",
        "Robert Shaw\n",
        "Lucille La Verne\n",
        "Mary Carr\n",
        "'''"
      ],
      "execution_count": null,
      "outputs": []
    },
    {
      "cell_type": "markdown",
      "metadata": {
        "id": "J4JEX7Xj6P3V"
      },
      "source": [
        "3. Get the birth date and name for every person, in order of when they were born."
      ]
    },
    {
      "cell_type": "code",
      "metadata": {
        "id": "vxFzVL306U_A"
      },
      "source": [
        "SELECT birthdate, name\n",
        "FROM people\n",
        "ORDER BY birthdate;\n",
        "\n",
        "'''\n",
        "birthdate\tname\n",
        "1837-10-10\tRobert Shaw\n",
        "1872-11-07\tLucille La Verne\n",
        "1874-03-14\tMary Carr\n",
        "'''"
      ],
      "execution_count": null,
      "outputs": []
    },
    {
      "cell_type": "markdown",
      "metadata": {
        "id": "wpsgRX_h6hJ5"
      },
      "source": [
        "# Sorting single columns (2)\n",
        "\n",
        "Let's get some more practice with ORDER BY!\n",
        "\n",
        "Instructions\n",
        "\n",
        "1. Get the title of films released in 2000 or 2012, in the order they were released."
      ]
    },
    {
      "cell_type": "code",
      "metadata": {
        "id": "UTgycNAF6k40"
      },
      "source": [
        "SELECT title\n",
        "FROM films\n",
        "WHERE release_year IN (2000, 2012)\n",
        "ORDER BY release_year;\n",
        "\n",
        "'''\n",
        "title\n",
        "102 Dalmatians\n",
        "28 Days\n",
        "3 Strikes\n",
        "'''"
      ],
      "execution_count": null,
      "outputs": []
    },
    {
      "cell_type": "markdown",
      "metadata": {
        "id": "v9jQhxDL7D1_"
      },
      "source": [
        "2. Get all details for all films except those released in 2015 and order them by duration."
      ]
    },
    {
      "cell_type": "code",
      "metadata": {
        "id": "YW9wI0VM7OVh"
      },
      "source": [
        "SELECT *\n",
        "FROM films\n",
        "WHERE NOT release_year = '2015'\n",
        "ORDER BY duration; \n",
        "\n",
        "'''\n",
        "id\ttitle\trelease_year\tcountry\tduration\tlanguage\tcertification\tgross\tbudget\n",
        "2926\tThe Touch\t2007\tUSA\t7\tEnglish\tnull\tnull\t13000\n",
        "4098\tVessel\t2012\tUSA\t14\tEnglish\tnull\tnull\tnull\n",
        "2501\tWal-Mart: The High Cost of Low Price\t2005\tUSA\t20\tEnglish\tNot Rated\tnull\t1500000\n",
        "'''"
      ],
      "execution_count": null,
      "outputs": []
    },
    {
      "cell_type": "markdown",
      "metadata": {
        "id": "1L7mdpcv7-7q"
      },
      "source": [
        "3. Get the title and gross earnings for movies which begin with the letter 'M' and order the results alphabetically."
      ]
    },
    {
      "cell_type": "code",
      "metadata": {
        "id": "intVPcei8Pyg"
      },
      "source": [
        "SELECT title, gross\n",
        "FROM films\n",
        "WHERE title LIKE 'M%'\n",
        "ORDER BY title;\n",
        "\n",
        "'''\n",
        "title\tgross\n",
        "MacGruber\t8460995\n",
        "Machete\t26589953\n",
        "Machete Kills\t7268659\n",
        "'''"
      ],
      "execution_count": null,
      "outputs": []
    },
    {
      "cell_type": "markdown",
      "metadata": {
        "id": "D1tQYaTa86pz"
      },
      "source": [
        "Conclusion\n",
        "\n",
        "Can you feel the SQL power dawn on you?!"
      ]
    },
    {
      "cell_type": "markdown",
      "metadata": {
        "id": "C-_lmsRE9EIY"
      },
      "source": [
        "# Sorting single columns (DESC)\n",
        "\n",
        "To order results in descending order, you can put the keyword DESC after your ORDER BY. For example, to get all the names in the people table, in reverse alphabetical order:\n",
        "\n",
        "```\n",
        "SELECT name\n",
        "FROM people\n",
        "ORDER BY name DESC;\n",
        "```\n",
        "\n",
        "Now practice using ORDER BY with DESC to sort single columns in descending order!\n",
        "\n",
        "Instructions\n",
        "\n",
        "1. Get the IMDB score and film ID for every film from the reviews table, sorted from highest to lowest score."
      ]
    },
    {
      "cell_type": "code",
      "metadata": {
        "id": "eUI2dbvr9zGV"
      },
      "source": [
        "SELECT imdb_score, film_id\n",
        "FROM reviews\n",
        "ORDER BY imdb_score DESC;\n",
        "\n",
        "'''\n",
        "imdb_score\tfilm_id\n",
        "9.5\t4960\n",
        "9.3\t742\n",
        "9.2\t178\n",
        "'''"
      ],
      "execution_count": null,
      "outputs": []
    },
    {
      "cell_type": "markdown",
      "metadata": {
        "id": "uak3icmsQvBx"
      },
      "source": [
        "2. Get the title for every film, in reverse order."
      ]
    },
    {
      "cell_type": "code",
      "metadata": {
        "id": "uSEr8jDJQxmz"
      },
      "source": [
        "SELECT title\n",
        "FROM films\n",
        "ORDER BY title DESC;\n",
        "\n",
        "'''\n",
        "title\n",
        "Æon Flux\n",
        "xXx: State of the Union\n",
        "xXx\n",
        "'''"
      ],
      "execution_count": null,
      "outputs": []
    },
    {
      "cell_type": "markdown",
      "metadata": {
        "id": "q-MAlx6YQ8x_"
      },
      "source": [
        "3. Get the title and duration for every film, in order of longest duration to shortest."
      ]
    },
    {
      "cell_type": "code",
      "metadata": {
        "id": "wTMDKyPzQ_ua"
      },
      "source": [
        "SELECT title, duration\n",
        "FROM films\n",
        "ORDER BY duration DESC;\n",
        "\n",
        "'''\n",
        "title\tduration\n",
        "Destiny\tnull\n",
        "Should've Been Romeo\tnull\n",
        "Hum To Mohabbat Karega\tnull\n",
        "'''"
      ],
      "execution_count": null,
      "outputs": []
    },
    {
      "cell_type": "markdown",
      "metadata": {
        "id": "UYPMhUrVRPw4"
      },
      "source": [
        "Conclusion\n",
        "\n",
        "Nice. Let's explore how you can sort multiple columns!"
      ]
    },
    {
      "cell_type": "markdown",
      "metadata": {
        "id": "3GRucihTW2zp"
      },
      "source": [
        "# Sorting multiple columns\n",
        "\n",
        "ORDER BY can also be used to sort on multiple columns. It will sort by the first column specified, then sort by the next, then the next, and so on. For example,\n",
        "\n",
        "```\n",
        "SELECT birthdate, name\n",
        "FROM people\n",
        "ORDER BY birthdate, name;\n",
        "```\n",
        "\n",
        "sorts on birth dates first (oldest to newest) and then sorts on the names in alphabetical order. The order of columns is important!\n",
        "\n",
        "Try using ORDER BY to sort multiple columns! Remember, to specify multiple columns you separate the column names with a comma.\n",
        "\n",
        "Instructions\n",
        "\n",
        "1. Get the birth date and name of people in the people table, in order of when they were born and alphabetically by name."
      ]
    },
    {
      "cell_type": "code",
      "metadata": {
        "id": "SodCQIJ3W_Nm"
      },
      "source": [
        "SELECT birthdate, name\n",
        "FROM people\n",
        "ORDER BY birthdate, name;\n",
        "\n",
        "'''\n",
        "birthdate\tname\n",
        "1837-10-10\tRobert Shaw\n",
        "1872-11-07\tLucille La Verne\n",
        "1874-03-14\tMary Carr\n",
        "'''"
      ],
      "execution_count": null,
      "outputs": []
    },
    {
      "cell_type": "markdown",
      "metadata": {
        "id": "ILWi_mRGXS6u"
      },
      "source": [
        "2. Get the release year, duration, and title of films ordered by their release year and duration."
      ]
    },
    {
      "cell_type": "code",
      "metadata": {
        "id": "zbN1J7dBXUue"
      },
      "source": [
        "SELECT release_year, duration, title\n",
        "FROM films\n",
        "ORDER BY release_year, duration;\n",
        "\n",
        "'''\n",
        "release_year\tduration\ttitle\n",
        "1916\t123\tIntolerance: Love's Struggle Throughout the Ages\n",
        "1920\t110\tOver the Hill to the Poorhouse\n",
        "1925\t151\tThe Big Parade\n",
        "'''"
      ],
      "execution_count": null,
      "outputs": []
    },
    {
      "cell_type": "markdown",
      "metadata": {
        "id": "NSjEbk3dXd8y"
      },
      "source": [
        "3. Get certifications, release years, and titles of films ordered by certification (alphabetically) and release year."
      ]
    },
    {
      "cell_type": "code",
      "metadata": {
        "id": "2fA8VsgQXgjm"
      },
      "source": [
        "SELECT certification, release_year, title\n",
        "FROM films\n",
        "ORDER BY certification, release_year;\n",
        "\n",
        "'''\n",
        "certification\trelease_year\ttitle\n",
        "Approved\t1933\tShe Done Him Wrong\n",
        "Approved\t1935\tTop Hat\n",
        "Approved\t1936\tThe Charge of the Light Brigade\n",
        "'''"
      ],
      "execution_count": null,
      "outputs": []
    },
    {
      "cell_type": "markdown",
      "metadata": {
        "id": "pf0k4b2xX1io"
      },
      "source": [
        "4. Get the names and birthdates of people ordered by name and birth date."
      ]
    },
    {
      "cell_type": "code",
      "metadata": {
        "id": "jwbmKi5VX4uM"
      },
      "source": [
        "SELECT name, birthdate\n",
        "FROM people\n",
        "ORDER BY name, birthdate;\n",
        "\n",
        "'''\n",
        "name\tbirthdate\n",
        "50 Cent\t1975-07-06\n",
        "A. Michael Baldwin\t1963-04-04\n",
        "A. Raven Cruz\tnull\n",
        "'''"
      ],
      "execution_count": null,
      "outputs": []
    },
    {
      "cell_type": "markdown",
      "metadata": {
        "id": "BD9DVJyjYE1t"
      },
      "source": [
        "Well done. Notice how the second column you order on only steps in when the first column is not decisive to tell the order. The second column acts as a tie breaker."
      ]
    },
    {
      "cell_type": "markdown",
      "metadata": {
        "id": "2hFIA_T6YKlS"
      },
      "source": [
        "# GROUP BY\n",
        "\n",
        "Now you know how to sort results! Often you'll need to aggregate results. For example, you might want to count the number of male and female employees in your company. Here, what you want is to group all the males together and count them, and group all the females together and count them. In SQL, GROUP BY allows you to group a result by one or more columns, like so:\n",
        "\n",
        "```\n",
        "SELECT sex, count(*)\n",
        "FROM employees\n",
        "GROUP BY sex;\n",
        "```\n",
        "\n",
        "This might give, for example:\n",
        "\n",
        "```\n",
        "sex \t  count\n",
        "male \t  15\n",
        "female \t19\n",
        "```\n",
        "\n",
        "Commonly, `GROUP BY` is used with aggregate functions like `COUNT()` or `MAX()`. Note that `GROUP BY` always goes after the `FROM` clause!\n",
        "\n",
        "What is `GROUP BY` used for?\n",
        "\n",
        "Possible Answers\n",
        "\n",
        "1. Performing operations by column\n",
        " - Incorrect. While GROUP BY does sort by column, we could just use ORDER BY for this.\n",
        "\n",
        "2. Performing operations all at once\n",
        " - Incorrect.\n",
        "\n",
        "3. Performing operations in a particular order\n",
        " - Incorrect. While GROUP BY does sort results, it's not designed to control order of operations.\n",
        "\n",
        "4. Performing operations by group\n",
        " - Correct! GROUP BY is for performing operations within groups."
      ]
    },
    {
      "cell_type": "markdown",
      "metadata": {
        "id": "c93Wa1FkZrh5"
      },
      "source": [
        "# GROUP BY practice\n",
        "\n",
        "As you've just seen, combining aggregate functions with GROUP BY can yield some powerful results!\n",
        "\n",
        "A word of warning: SQL will return an error if you try to SELECT a field that is not in your GROUP BY clause without using it to calculate some kind of value about the entire group.\n",
        "\n",
        "Note that you can combine GROUP BY with ORDER BY to group your results, calculate something about them, and then order your results. For example,\n",
        "\n",
        "```\n",
        "SELECT sex, count(*)\n",
        "FROM employees\n",
        "GROUP BY sex\n",
        "ORDER BY count DESC;\n",
        "```\n",
        "\n",
        "might return something like\n",
        "\n",
        "```\n",
        "sex \t  count\n",
        "female \t19\n",
        "male \t  15\n",
        "```\n",
        "\n",
        "because there are more females at our company than males. Note also that ORDER BY always goes after GROUP BY. Let's try some exercises!\n",
        "\n",
        "Instructions\n",
        "\n",
        "1. Get the release year and count of films released in each year."
      ]
    },
    {
      "cell_type": "code",
      "metadata": {
        "id": "5bkP236PaGxm"
      },
      "source": [
        "SELECT release_year, count(*)\n",
        "FROM films\n",
        "GROUP BY release_year;\n",
        "\n",
        "'''\n",
        "release_year\tcount\n",
        "1954\t5\n",
        "1988\t31\n",
        "1959\t3\n",
        "'''"
      ],
      "execution_count": null,
      "outputs": []
    },
    {
      "cell_type": "markdown",
      "metadata": {
        "id": "RtCglEhsa2G4"
      },
      "source": [
        "2. Get the release year and average duration of all films, grouped by release year."
      ]
    },
    {
      "cell_type": "code",
      "metadata": {
        "id": "LCVm00x5a4fe"
      },
      "source": [
        "SELECT release_year, AVG(duration)\n",
        "FROM films\n",
        "GROUP BY release_year;\n",
        "\n",
        "'''\n",
        "release_year\tavg\n",
        "1954\t140.6000000000000000\n",
        "1988\t107.0000000000000000\n",
        "1959\t136.6666666666666667\n",
        "'''"
      ],
      "execution_count": null,
      "outputs": []
    },
    {
      "cell_type": "markdown",
      "metadata": {
        "id": "-cYqprUwbE6R"
      },
      "source": [
        "3. Get the release year and largest budget for all films, grouped by release year."
      ]
    },
    {
      "cell_type": "code",
      "metadata": {
        "id": "FwFxqSKwbNA0"
      },
      "source": [
        "SELECT release_year, MAX(budget)\n",
        "FROM films\n",
        "GROUP BY release_year;\n",
        "\n",
        "'''\n",
        "release_year\tmax\n",
        "1954\t5000000\n",
        "1988\t1100000000\n",
        "1959\t5000000\n",
        "'''"
      ],
      "execution_count": null,
      "outputs": []
    },
    {
      "cell_type": "markdown",
      "metadata": {
        "id": "243_S8yLbugq"
      },
      "source": [
        "4. Get the IMDB score and count of film reviews grouped by IMDB score in the reviews table."
      ]
    },
    {
      "cell_type": "code",
      "metadata": {
        "id": "WiWDPp7xcOW6"
      },
      "source": [
        "SELECT imdb_score, COUNT(*)\n",
        "FROM reviews\n",
        "GROUP BY imdb_score;\n",
        "\n",
        "'''\n",
        "imdb_score\tcount\n",
        "5.7\t117\n",
        "8.7\t11\n",
        "9\t2\n",
        "'''"
      ],
      "execution_count": null,
      "outputs": []
    },
    {
      "cell_type": "markdown",
      "metadata": {
        "id": "RG1BVN9jcgmU"
      },
      "source": [
        "Conclusion\n",
        "\n",
        "Now that you've accustomed yourself with GROUP BY, let's throw it in the mix with other SQL constructs you already know!"
      ]
    },
    {
      "cell_type": "markdown",
      "metadata": {
        "id": "ZD4PvL2Ucikv"
      },
      "source": [
        "# GROUP BY practice (2)\n",
        "\n",
        "Now practice your new skills by combining GROUP BY and ORDER BY with some more aggregate functions!\n",
        "\n",
        "Make sure to always put the ORDER BY clause at the end of your query. You can't sort values that you haven't calculated yet!\n",
        "\n",
        "Instructions\n",
        "\n",
        "1. Get the release year and lowest gross earnings per release year."
      ]
    },
    {
      "cell_type": "code",
      "metadata": {
        "id": "UPQV0gC2c-GD"
      },
      "source": [
        "SELECT release_year, MIN(gross)\n",
        "FROM films\n",
        "GROUP BY release_year;\n",
        "\n",
        "'''\n",
        "release_year\tmin\n",
        "1954\t269061\n",
        "1988\t439162\n",
        "1959\t25000000\n",
        "'''"
      ],
      "execution_count": null,
      "outputs": []
    },
    {
      "cell_type": "markdown",
      "metadata": {
        "id": "Djukh4eydQ-R"
      },
      "source": [
        "2. Get the language and total gross amount films in each language made."
      ]
    },
    {
      "cell_type": "code",
      "metadata": {
        "id": "G1WDjHw6dUif"
      },
      "source": [
        "SELECT language, SUM(gross)\n",
        "FROM films\n",
        "GROUP BY language;\n",
        "\n",
        "'''\n",
        "language\tsum\n",
        "Danish\t2403857\n",
        "Greek\t110197\n",
        "Dzongkha\t505295\n",
        "'''"
      ],
      "execution_count": null,
      "outputs": []
    },
    {
      "cell_type": "markdown",
      "metadata": {
        "id": "Qs5Cg65JdoQ-"
      },
      "source": [
        "3. Get the country and total budget spent making movies in each country."
      ]
    },
    {
      "cell_type": "code",
      "metadata": {
        "id": "1SMfltwndq7B"
      },
      "source": [
        "SELECT country, SUM(budget)\n",
        "from films\n",
        "GROUP BY country;\n",
        "\n",
        "'''\n",
        "country\tsum\n",
        "null\t3500000\n",
        "Soviet Union\t1000000\n",
        "Indonesia\t1100000\n",
        "'''"
      ],
      "execution_count": null,
      "outputs": []
    },
    {
      "cell_type": "markdown",
      "metadata": {
        "id": "rB1zRgajd5JF"
      },
      "source": [
        "4. Get the release year, country, and highest budget spent making a film for each year, for each country. Sort your results by release year and country."
      ]
    },
    {
      "cell_type": "code",
      "metadata": {
        "id": "yFwkwrYOd93g"
      },
      "source": [
        "SELECT release_year, country, MAX(budget)\n",
        "FROM films\n",
        "GROUP BY release_year, country\n",
        "ORDER BY release_year, country;\n",
        "\n",
        "'''\n",
        "release_year\tcountry\tmax\n",
        "1916\tUSA\t385907\n",
        "1920\tUSA\t100000\n",
        "1925\tUSA\t245000\n",
        "'''"
      ],
      "execution_count": null,
      "outputs": []
    },
    {
      "cell_type": "markdown",
      "metadata": {
        "id": "tcQL-pWneQ6Q"
      },
      "source": [
        "5. Get the country, release year, and lowest amount grossed per release year per country. Order your results by country and release year."
      ]
    },
    {
      "cell_type": "code",
      "metadata": {
        "id": "9Bm6q-IcedEC"
      },
      "source": [
        "SELECT country, release_year, MIN(gross)\n",
        "FROM films\n",
        "GROUP BY country, release_year\n",
        "ORDER BY country, release_year;\n",
        "\n",
        "'''\n",
        "country\trelease_year\tmin\n",
        "Afghanistan\t2003\t1127331\n",
        "Argentina\t2000\t1221261\n",
        "Argentina\t2004\t304124\n",
        "'''"
      ],
      "execution_count": null,
      "outputs": []
    },
    {
      "cell_type": "markdown",
      "metadata": {
        "id": "r2jjim6me3Ep"
      },
      "source": [
        "# HAVING a great time\n",
        "\n",
        "In SQL, aggregate functions can't be used in WHERE clauses. For example, the following query is invalid:\n",
        "\n",
        "```\n",
        "SELECT release_year\n",
        "FROM films\n",
        "GROUP BY release_year\n",
        "WHERE COUNT(title) > 10;\n",
        "```\n",
        "\n",
        "This means that if you want to filter based on the result of an aggregate function, you need another way! That's where the HAVING clause comes in. For example,\n",
        "\n",
        "```\n",
        "SELECT release_year\n",
        "FROM films\n",
        "GROUP BY release_year\n",
        "HAVING COUNT(title) > 10;\n",
        "```\n",
        "\n",
        "shows only those years in which more than 10 films were released.\n",
        "\n",
        "In how many different years were more than 200 movies released?\n",
        "\n",
        "Possible Answers\n",
        "\n",
        "* 2\n",
        " - Incorrect: It's more than that! Copy and paste the code from the example query, make a small modification, and run it to answer the question!\n",
        "\n",
        "* 13\n",
        " - That's correct! We're nearing the end of the course, so it's time to combine everything that you've learned and answer some interesting questions!\n",
        " \n",
        "* 44\n",
        " - Incorrect: 44 is the number of different years in which more than 10 movies were released. Make sure to answer the same question but for 200 movies.\n",
        "\n",
        "* 63\n",
        " - Incorrect: Not that much! Copy and paste the code from the example query, make a small modification, and run it to answer the question!"
      ]
    },
    {
      "cell_type": "markdown",
      "metadata": {
        "id": "91xMZjNPhC6C"
      },
      "source": [
        "# All together now\n",
        "\n",
        "Time to practice using ORDER BY, GROUP BY and HAVING together.\n",
        "\n",
        "Now you're going to write a query that returns the average budget and average gross earnings for films in each year after 1990, if the average budget is greater than $60 million.\n",
        "\n",
        "This is going to be a big query, but you can handle it!\n",
        "\n",
        "Instructions\n",
        "\n",
        "1. Get the release year, budget and gross earnings for each film in the films table."
      ]
    },
    {
      "cell_type": "code",
      "metadata": {
        "id": "FsdsSiP9hLZK"
      },
      "source": [
        "SELECT release_year, budget, gross\n",
        "FROM films;\n",
        "\n",
        "'''\n",
        "release_year\tbudget\tgross\n",
        "1916\t385907\tnull\n",
        "1920\t100000\t3000000\n",
        "1925\t245000\tnull\n",
        "'''"
      ],
      "execution_count": null,
      "outputs": []
    },
    {
      "cell_type": "markdown",
      "metadata": {
        "id": "X656ZKFKhPqT"
      },
      "source": [
        "2. Modify your query so that only records with a release_year after 1990 are included."
      ]
    },
    {
      "cell_type": "code",
      "metadata": {
        "id": "F2hwP37-hR32"
      },
      "source": [
        "SELECT release_year, budget, gross\n",
        "FROM films\n",
        "WHERE release_year > 1990;\n",
        "\n",
        "'''\n",
        "release_year\tbudget\tgross\n",
        "1991\t6000000\t869325\n",
        "1991\t20000000\t38037513\n",
        "1991\t6000000\t57504069\n",
        "'''"
      ],
      "execution_count": null,
      "outputs": []
    },
    {
      "cell_type": "markdown",
      "metadata": {
        "id": "kROIT0xTiDV1"
      },
      "source": [
        "3. Remove the budget and gross columns, and group your results by release year."
      ]
    },
    {
      "cell_type": "code",
      "metadata": {
        "id": "GEcoD0hsiGwr"
      },
      "source": [
        "SELECT release_year\n",
        "FROM films\n",
        "GROUP BY release_year\n",
        "HAVING release_year > 1990\n",
        "\n",
        "# or\n",
        "\n",
        "SELECT release_year,\n",
        "FROM films\n",
        "WHERE release_year > 1990\n",
        "GROUP BY release_year;\n",
        "\n",
        "'''\n",
        "release_year\n",
        "2008\n",
        "1991\n",
        "2009\n",
        "'''\n"
      ],
      "execution_count": null,
      "outputs": []
    },
    {
      "cell_type": "markdown",
      "metadata": {
        "id": "Mbc6j7BEixnV"
      },
      "source": [
        "4. Modify your query to include the average budget and average gross earnings for the results you have so far. Alias the average budget as avg_budget; alias the average gross earnings as avg_gross."
      ]
    },
    {
      "cell_type": "code",
      "metadata": {
        "id": "CZutw9cMi1HW"
      },
      "source": [
        "SELECT release_year, AVG(budget) AS avg_budget,\n",
        "       AVG(gross) AS avg_gross\n",
        "FROM films\n",
        "WHERE release_year > 1990\n",
        "GROUP BY release_year;\n",
        "\n",
        "'''\n",
        "release_year\tavg_budget\tavg_gross\n",
        "2008\t41804885.572139303483\t44573509.378109452736\n",
        "1991\t25176548.387096774194\t53844501.666666666667\n",
        "2009\t37073287.037037037037\t46207440.200000000000\n",
        "'''"
      ],
      "execution_count": null,
      "outputs": []
    },
    {
      "cell_type": "markdown",
      "metadata": {
        "id": "3O0cPcs5jJzc"
      },
      "source": [
        "5. Modify your query so that only years with an average budget of greater than $60 million are included."
      ]
    },
    {
      "cell_type": "code",
      "metadata": {
        "id": "myv1_QxdjMxq"
      },
      "source": [
        "SELECT release_year, AVG(budget) AS avg_budget, AVG(gross) AS avg_gross\n",
        "FROM films\n",
        "WHERE release_year > 1990\n",
        "GROUP BY release_year\n",
        "HAVING AVG(budget) > 60000000;\n",
        "\n",
        "'''\n",
        "release_year\tavg_budget\tavg_gross\n",
        "2005\t70323938.231527093596\t41159143.290640394089\n",
        "2006\t93968929.577464788732\t39237855.953703703704\n",
        "'''"
      ],
      "execution_count": null,
      "outputs": []
    },
    {
      "cell_type": "markdown",
      "metadata": {
        "id": "fb64xzvTkZFM"
      },
      "source": [
        "6. Finally, modify your query to order the results from highest average gross earnings to lowest."
      ]
    },
    {
      "cell_type": "code",
      "metadata": {
        "id": "qzUD09qokcRF"
      },
      "source": [
        "SELECT release_year, AVG(budget) AS avg_budget, AVG(gross) AS avg_gross\n",
        "FROM films\n",
        "WHERE release_year > 1990\n",
        "GROUP BY release_year\n",
        "HAVING AVG(budget) > 60000000\n",
        "ORDER BY avg_gross DESC;\n",
        "\n",
        "'''\n",
        "release_year\tavg_budget\tavg_gross\n",
        "2005\t70323938.231527093596\t41159143.290640394089\n",
        "2006\t93968929.577464788732\t39237855.953703703704\n",
        "'''"
      ],
      "execution_count": null,
      "outputs": []
    },
    {
      "cell_type": "markdown",
      "metadata": {
        "id": "kFqEUIMRk2UA"
      },
      "source": [
        "# All together now (2)\n",
        "\n",
        "Great work! Now try another large query. This time, all in one go!\n",
        "\n",
        "Remember, if you only want to return a certain number of results, you can use the `LIMIT` keyword to limit the number of rows returned\n",
        "\n",
        "Instructions\n",
        "\n",
        "1. Get the country, average budget, and average gross take of countries that have made more than 10 films. Order the result by country name, and limit the number of results displayed to 5. You should alias the averages as avg_budget and avg_gross respectively."
      ]
    },
    {
      "cell_type": "code",
      "metadata": {
        "id": "R6GnfGUAk-hO"
      },
      "source": [
        "#-- select country, average budget, \n",
        "#--     and average gross\n",
        "SELECT country, AVG(budget) AS avg_budget, AVG(gross) AS avg_gross\n",
        "#-- from the films table\n",
        "FROM films\n",
        "#-- group by country \n",
        "GROUP BY country\n",
        "#-- where the country has more than 10 titles\n",
        "HAVING COUNT(title) > 10\n",
        "#-- order by country\n",
        "ORDER BY country\n",
        "#-- limit to only show 5 results\n",
        "LIMIT 5;\n",
        "\n",
        "'''\n",
        "country\tavg_budget\tavg_gross\n",
        "Australia\t31172110.460000000000\t40205909.571428571429\n",
        "Canada\t14798458.715596330275\t22432066.680555555556\n",
        "China\t62219000.000000000000\t14143040.736842105263\n",
        "'''"
      ],
      "execution_count": null,
      "outputs": []
    },
    {
      "cell_type": "markdown",
      "metadata": {
        "id": "1ok0LFtwmX49"
      },
      "source": [
        "Conclusion\n",
        "\n",
        "Superb work on a selection saga! SELECT queries can get rather long, but breaking them down into individual clauses makes them easier to write."
      ]
    },
    {
      "cell_type": "markdown",
      "metadata": {
        "id": "CWD_lp6nmeGt"
      },
      "source": [
        "# A taste of things to come\n",
        "\n",
        "Congrats on making it to the end of the course! By now you should have a good understanding of the basics of SQL.\n",
        "\n",
        "There's one more concept we're going to introduce. You may have noticed that all your results so far have been from just one table, e.g. films or people.\n",
        "\n",
        "In the real world however, you will often want to query multiple tables. For example, what if you want to see the IMDB score for a particular movie?\n",
        "\n",
        "In this case, you'd want to get the ID of the movie from the films table and then use it to get IMDB information from the reviews table. In SQL, this concept is known as a join, and a basic join is shown in the editor to the right.\n",
        "\n",
        "The query in the editor gets the IMDB score for the film To Kill a Mockingbird! Cool right?\n",
        "\n",
        "As you can see, joins are incredibly useful and important to understand for anyone using SQL.\n",
        "\n",
        "We have a whole follow-up course dedicated to them called [Joining Data in PostgreSQL](https://www.datacamp.com/courses/joining-data-in-postgresql) for you to hone your database skills further!\n",
        "\n",
        "Instructions\n",
        "\n",
        "1. Submit the code in the editor and inspect the results."
      ]
    },
    {
      "cell_type": "code",
      "metadata": {
        "id": "AoGv6tfzmdmS"
      },
      "source": [
        "SELECT title, imdb_score\n",
        "FROM films\n",
        "JOIN reviews\n",
        "ON films.id = reviews.film_id\n",
        "WHERE title = 'To Kill a Mockingbird';\n",
        "\n",
        "'''\n",
        "title\timdb_score\n",
        "To Kill a Mockingbird\t8.4\n",
        "'''"
      ],
      "execution_count": null,
      "outputs": []
    },
    {
      "cell_type": "markdown",
      "metadata": {
        "id": "FJzucJYAm3fv"
      },
      "source": [
        "2. Question\n",
        "\n",
        "What is the IMDB score for the film To Kill a Mockingbird?\n",
        "\n",
        "Possible Answers\n",
        "\n",
        " * 8.1\n",
        "\n",
        " * 8.4 - Correct!\n",
        "\n",
        " * 7.7\n",
        "\n",
        " * 9.3"
      ]
    }
  ]
}