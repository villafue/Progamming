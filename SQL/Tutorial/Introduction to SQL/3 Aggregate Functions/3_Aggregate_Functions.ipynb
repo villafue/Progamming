{
  "nbformat": 4,
  "nbformat_minor": 0,
  "metadata": {
    "colab": {
      "name": "3 Aggregate Functions.ipynb",
      "provenance": [],
      "authorship_tag": "ABX9TyNyAwCHPv60xA2OM+XZuacx",
      "include_colab_link": true
    },
    "kernelspec": {
      "name": "python3",
      "display_name": "Python 3"
    },
    "language_info": {
      "name": "python"
    }
  },
  "cells": [
    {
      "cell_type": "markdown",
      "metadata": {
        "id": "view-in-github",
        "colab_type": "text"
      },
      "source": [
        "<a href=\"https://colab.research.google.com/github/villafue/Progamming/blob/main/SQL/Tutorial/Introduction%20to%20SQL/3%20Aggregate%20Functions/3_Aggregate_Functions.ipynb\" target=\"_parent\"><img src=\"https://colab.research.google.com/assets/colab-badge.svg\" alt=\"Open In Colab\"/></a>"
      ]
    },
    {
      "cell_type": "markdown",
      "metadata": {
        "id": "RdkQDYBmU2UZ"
      },
      "source": [
        "Aggregate Functions\n",
        "\n",
        "This chapter teaches you how to use aggregate functions to summarize data and gain useful insights. You'll also learn about arithmetic in SQL and how to use aliases to make your results more readable."
      ]
    },
    {
      "cell_type": "markdown",
      "metadata": {
        "id": "dZuliXuwVYpV"
      },
      "source": [
        "# Aggregate functions\n",
        "\n",
        "Often, you will want to perform some calculation on the data in a database. SQL provides a few functions, called aggregate functions, to help you out with this.\n",
        "\n",
        "For example,\n",
        "\n",
        "```\n",
        "SELECT AVG(budget)\n",
        "FROM films;\n",
        "```\n",
        "gives you the average value from the budget column of the films table. Similarly, the MAX function returns the highest budget:\n",
        "\n",
        "```\n",
        "SELECT MAX(budget)\n",
        "FROM films;\n",
        "```\n",
        "\n",
        "The SUM function returns the result of adding up the numeric values in a column:\n",
        "\n",
        "```\n",
        "SELECT SUM(budget)\n",
        "FROM films;\n",
        "```\n",
        "\n",
        "You can probably guess what the MIN function does! Now it's your turn to try out some SQL functions.\n",
        "\n",
        "Instructions\n",
        "\n",
        "1. Use the SUM function to get the total duration of all films."
      ]
    },
    {
      "cell_type": "code",
      "metadata": {
        "id": "d4tHQoMpUyVG"
      },
      "source": [
        "SELECT SUM(duration)\n",
        "FROM films;\n",
        "\n",
        "'''\n",
        "sum\n",
        "534882\n",
        "'''"
      ],
      "execution_count": null,
      "outputs": []
    },
    {
      "cell_type": "markdown",
      "metadata": {
        "id": "sPzFCJToV51V"
      },
      "source": [
        "2. Get the average duration of all films."
      ]
    },
    {
      "cell_type": "code",
      "metadata": {
        "id": "6FDQOja_V9IX"
      },
      "source": [
        "SELECT AVG(duration)\n",
        "FROM films;\n",
        "\n",
        "'''\n",
        "avg\n",
        "107.9479313824419778\n",
        "'''"
      ],
      "execution_count": null,
      "outputs": []
    },
    {
      "cell_type": "markdown",
      "metadata": {
        "id": "L-yI3SLNWIOT"
      },
      "source": [
        "3. Get the duration of the shortest film."
      ]
    },
    {
      "cell_type": "code",
      "metadata": {
        "id": "Uk2wYxTaWKul"
      },
      "source": [
        "SELECT MIN(duration)\n",
        "FROM films;\n",
        "\n",
        "'''\n",
        "min\n",
        "7\n",
        "'''"
      ],
      "execution_count": null,
      "outputs": []
    },
    {
      "cell_type": "markdown",
      "metadata": {
        "id": "g-CGrTVTWVJv"
      },
      "source": [
        "4. Get the duration of the longest film."
      ]
    },
    {
      "cell_type": "code",
      "metadata": {
        "id": "QC3VSVP8WYD5"
      },
      "source": [
        "SELECT MAX(duration)\n",
        "FROM films;\n",
        "\n",
        "'''\n",
        "max\n",
        "334\n",
        "'''"
      ],
      "execution_count": null,
      "outputs": []
    },
    {
      "cell_type": "markdown",
      "metadata": {
        "id": "S1BwY9oGWjTH"
      },
      "source": [
        "# Aggregate functions practice\n",
        "\n",
        "Good work. Aggregate functions are important to understand, so let's get some more practice!\n",
        "\n",
        "Instructions\n",
        "\n",
        "1. Use the SUM function to get the total amount grossed by all films."
      ]
    },
    {
      "cell_type": "code",
      "metadata": {
        "id": "BARL9ctgWuSg"
      },
      "source": [
        "SELECT SUM(gross)\n",
        "FROM films;\n",
        "\n",
        "'''\n",
        "sum\n",
        "202515840134\n",
        "'''"
      ],
      "execution_count": null,
      "outputs": []
    },
    {
      "cell_type": "markdown",
      "metadata": {
        "id": "ZVY3QHeHWvR-"
      },
      "source": [
        "2. Get the average amount grossed by all films."
      ]
    },
    {
      "cell_type": "code",
      "metadata": {
        "id": "1TK9sAofW2nO"
      },
      "source": [
        "SELECT AVG(gross)\n",
        "FROM films;\n",
        "\n",
        "'''\n",
        "avg\n",
        "48705108.257335257335\n",
        "'''"
      ],
      "execution_count": null,
      "outputs": []
    },
    {
      "cell_type": "markdown",
      "metadata": {
        "id": "KdbqkggKXBRF"
      },
      "source": [
        "3. Get the amount grossed by the worst performing film."
      ]
    },
    {
      "cell_type": "code",
      "metadata": {
        "id": "Ty178SysXD_p"
      },
      "source": [
        "SELECT MIN(gross)\n",
        "FROM films;\n",
        "\n",
        "'''\n",
        "min\n",
        "162\n",
        "'''"
      ],
      "execution_count": null,
      "outputs": []
    },
    {
      "cell_type": "markdown",
      "metadata": {
        "id": "-cXleihJXKlD"
      },
      "source": [
        "4. Get the amount grossed by the best performing film."
      ]
    },
    {
      "cell_type": "code",
      "metadata": {
        "id": "USg8Uio4XNS-"
      },
      "source": [
        "SELECT MAX(gross)\n",
        "FROM films;\n",
        "\n",
        "'''\n",
        "max\n",
        "936627416\n",
        "'''"
      ],
      "execution_count": null,
      "outputs": []
    },
    {
      "cell_type": "markdown",
      "metadata": {
        "id": "YRt24Ns-XXkw"
      },
      "source": [
        "Conclusion\n",
        "\n",
        "Well done! Don't forget about these functions. You'll find yourself using them over and over again to get a quick grasp of the data in a SQL database."
      ]
    },
    {
      "cell_type": "markdown",
      "metadata": {
        "id": "HFRgPI9BXc2v"
      },
      "source": [
        "# Combining aggregate functions with WHERE\n",
        "\n",
        "Aggregate functions can be combined with the WHERE clause to gain further insights from your data.\n",
        "\n",
        "For example, to get the total budget of movies made in the year 2010 or later:\n",
        "\n",
        "```\n",
        "SELECT SUM(budget)\n",
        "FROM films\n",
        "WHERE release_year >= 2010;\n",
        "```\n",
        "\n",
        "Now it's your turn!\n",
        "\n",
        "Instructions\n",
        "\n",
        "1. Use the SUM function to get the total amount grossed by all films made in the year 2000 or later."
      ]
    },
    {
      "cell_type": "code",
      "metadata": {
        "id": "fbjNmYK4Xkrc"
      },
      "source": [
        "SELECT SUM(gross)\n",
        "FROM films\n",
        "WHERE release_year >= 2000;\n",
        "\n",
        "'''\n",
        "sum\n",
        "150900926358\n",
        "'''"
      ],
      "execution_count": null,
      "outputs": []
    },
    {
      "cell_type": "markdown",
      "metadata": {
        "id": "GsmXRQwsX08n"
      },
      "source": [
        "2. Get the average amount grossed by all films whose titles start with the letter 'A'."
      ]
    },
    {
      "cell_type": "code",
      "metadata": {
        "id": "__OP0uKpX4aN"
      },
      "source": [
        "SELECT AVG(gross)\n",
        "FROM films\n",
        "WHERE title LIKE 'A%';\n",
        "\n",
        "'''\n",
        "avg\n",
        "47893236.422480620155\n",
        "'''"
      ],
      "execution_count": null,
      "outputs": []
    },
    {
      "cell_type": "markdown",
      "metadata": {
        "id": "HKmrB5HtYR25"
      },
      "source": [
        "3. Get the amount grossed by the worst performing film in 1994."
      ]
    },
    {
      "cell_type": "code",
      "metadata": {
        "id": "-7EvVMNIYUPq"
      },
      "source": [
        "SELECT MIN(gross)\n",
        "FROM films\n",
        "WHERE release_year = '1994';\n",
        "\n",
        "'''\n",
        "min\n",
        "125169\n",
        "'''"
      ],
      "execution_count": null,
      "outputs": []
    },
    {
      "cell_type": "markdown",
      "metadata": {
        "id": "WpWSekIwYqSb"
      },
      "source": [
        "4. Get the amount grossed by the best performing film between 2000 and 2012, inclusive."
      ]
    },
    {
      "cell_type": "code",
      "metadata": {
        "id": "Bo_gYPc_Yszy"
      },
      "source": [
        "SELECT MAX(gross)\n",
        "FROM films\n",
        "WHERE release_year BETWEEN 2000 AND 2012;\n",
        "\n",
        "'''\n",
        "max\n",
        "760505847\n",
        "'''"
      ],
      "execution_count": null,
      "outputs": []
    },
    {
      "cell_type": "markdown",
      "metadata": {
        "id": "9XIPjJY3ZJH-"
      },
      "source": [
        "Conclusion\n",
        "\n",
        "Nice. Can you see how SQL basically provides you a bunch of building blocks that you can combine in all kinds of ways? Hence the name: Structured Query Language."
      ]
    },
    {
      "cell_type": "markdown",
      "metadata": {
        "id": "aLZMgzGqP1RE"
      },
      "source": [
        "# A note on arithmetic\n",
        "\n",
        "In addition to using aggregate functions, you can perform basic arithmetic with symbols like +, -, *, and /.\n",
        "\n",
        "So, for example, this gives a result of 12:\n",
        "\n",
        "`SELECT (4 * 3);`\n",
        "\n",
        "However, the following gives a result of 1:\n",
        "\n",
        "`SELECT (4 / 3);`\n",
        "\n",
        "What's going on here?\n",
        "\n",
        "SQL assumes that if you divide an integer by an integer, you want to get an integer back. So be careful when dividing!\n",
        "\n",
        "If you want more precision when dividing, you can add decimal places to your numbers. For example,\n",
        "\n",
        "`SELECT (4.0 / 3.0) AS result;`\n",
        "\n",
        "gives you the result you would expect: 1.333.\n",
        "\n",
        "What is the result of SELECT (10 / 3);?\n",
        "\n",
        "Possible Answers\n",
        "\n",
        "1. 2.333\n",
        "\n",
        "2. 3.333\n",
        "\n",
        "3. 3 - Correct!\n",
        "\n",
        "4. 3.0"
      ]
    },
    {
      "cell_type": "markdown",
      "metadata": {
        "id": "B6otFQYwQQcl"
      },
      "source": [
        "# It's AS simple AS aliasing\n",
        "\n",
        "You may have noticed in the first exercise of this chapter that the column name of your result was just the name of the function you used. For example,\n",
        "\n",
        "```\n",
        "SELECT MAX(budget)\n",
        "FROM films;\n",
        "```\n",
        "\n",
        "gives you a result with one column, named max. But what if you use two functions like this?\n",
        "\n",
        "```\n",
        "SELECT MAX(budget), MAX(duration)\n",
        "FROM films;\n",
        "```\n",
        "\n",
        "Well, then you'd have two columns named max, which isn't very useful!\n",
        "\n",
        "To avoid situations like this, SQL allows you to do something called aliasing. Aliasing simply means you assign a temporary name to something. To alias, you use the AS keyword, which you've already seen earlier in this course.\n",
        "\n",
        "For example, in the above example we could use aliases to make the result clearer:\n",
        "\n",
        "```\n",
        "SELECT MAX(budget) AS max_budget,\n",
        "       MAX(duration) AS max_duration\n",
        "FROM films;\n",
        "```\n",
        "\n",
        "Aliases are helpful for making results more readable!\n",
        "\n",
        "Instructions\n",
        "\n",
        "1. Get the title and net profit (the amount a film grossed, minus its budget) for all films. Alias the net profit as net_profit."
      ]
    },
    {
      "cell_type": "code",
      "metadata": {
        "id": "Q0WMbPgNRqvn"
      },
      "source": [
        "SELECT title,\n",
        "       (gross - budget) AS net_profit\n",
        "FROM films;\n",
        "\n",
        "'''\n",
        "title\tnet_profit\n",
        "Intolerance: Love's Struggle Throughout the Ages\tnull\n",
        "Over the Hill to the Poorhouse\t2900000\n",
        "The Big Parade\tnull\n",
        "'''"
      ],
      "execution_count": null,
      "outputs": []
    },
    {
      "cell_type": "markdown",
      "metadata": {
        "id": "Wf6Jm7poSO1w"
      },
      "source": [
        "2. Get the title and duration in hours for all films. The duration is in minutes, so you'll need to divide by 60.0 to get the duration in hours. Alias the duration in hours as duration_hours."
      ]
    },
    {
      "cell_type": "code",
      "metadata": {
        "id": "OV2YUp73SWMC"
      },
      "source": [
        "SELECT title,\n",
        "       (duration/60.0) AS duration_hours\n",
        "FROM films;\n",
        "\n",
        "'''\n",
        "title\tduration_hours\n",
        "Intolerance: Love's Struggle Throughout the Ages\t2.0500000000000000\n",
        "Over the Hill to the Poorhouse\t1.8333333333333333\n",
        "The Big Parade\t2.5166666666666667\n",
        "'''"
      ],
      "execution_count": null,
      "outputs": []
    },
    {
      "cell_type": "markdown",
      "metadata": {
        "id": "qDEoCbuCTAYM"
      },
      "source": [
        "3. Get the average duration in hours for all films, aliased as avg_duration_hours."
      ]
    },
    {
      "cell_type": "code",
      "metadata": {
        "id": "pHx016YOTC6e"
      },
      "source": [
        "SELECT AVG(duration) / 60.0 AS avg_duration_hours\n",
        "from FILMS;\n",
        "\n",
        "'''\n",
        "avg_duration_hours\n",
        "1.7991321897073663\n",
        "'''"
      ],
      "execution_count": null,
      "outputs": []
    },
    {
      "cell_type": "markdown",
      "metadata": {
        "id": "KpldCufcTkNA"
      },
      "source": [
        "# Even more aliasing\n",
        "\n",
        "Let's practice your newfound aliasing skills some more before moving on!\n",
        "\n",
        "Recall: SQL assumes that if you divide an integer by an integer, you want to get an integer back.\n",
        "\n",
        "This means that the following will erroneously result in 400.0:\n",
        "\n",
        "`SELECT 45 / 10 * 100.0;`\n",
        "\n",
        "This is because 45 / 10 evaluates to an integer (4), and not a decimal number like we would expect.\n",
        "\n",
        "So when you're dividing make sure at least one of your numbers has a decimal place:\n",
        "\n",
        "`SELECT 45 * 100.0 / 10;`\n",
        "\n",
        "The above now gives the correct answer of 450.0 since the numerator (45 * 100.0) of the division is now a decimal!\n",
        "\n",
        "Instructions\n",
        "\n",
        "1. Get the percentage of people who are no longer alive. Alias the result as percentage_dead. Remember to use 100.0 and not 100!"
      ]
    },
    {
      "cell_type": "code",
      "metadata": {
        "id": "jvZT98OEUZMg"
      },
      "source": [
        "#-- get the count(deathdate) and multiply by 100.0\n",
        "#-- then divide by count(*)\n",
        "SELECT (count(deathdate) * 100.0 / count(*)) AS percentage_dead\n",
        "FROM people;\n",
        "\n",
        "'''\n",
        "percentage_dead\n",
        "9.3723949029415267\n",
        "'''"
      ],
      "execution_count": null,
      "outputs": []
    },
    {
      "cell_type": "markdown",
      "metadata": {
        "id": "zfm9oMtJUhOv"
      },
      "source": [
        "2. Get the number of years between the newest film and oldest film. Alias the result as difference."
      ]
    },
    {
      "cell_type": "code",
      "metadata": {
        "id": "I_X-BxR2Wa21"
      },
      "source": [
        "SELECT (MAX(release_year) - MIN(release_year)) AS difference\n",
        "FROM films;\n",
        "\n",
        "'''\n",
        "difference\n",
        "100\n",
        "'''"
      ],
      "execution_count": null,
      "outputs": []
    },
    {
      "cell_type": "markdown",
      "metadata": {
        "id": "od4pi-2uWxYF"
      },
      "source": [
        "3. Get the number of decades the films table covers. Alias the result as number_of_decades. The top half of your fraction should be enclosed in parentheses."
      ]
    },
    {
      "cell_type": "code",
      "metadata": {
        "id": "y-xuyakEW1Wl"
      },
      "source": [
        "SELECT (MAX(release_year) - MIN(release_year)) / 10 AS number_of_decades\n",
        "FROM films;\n",
        "\n",
        "'''\n",
        "number_of_decades\n",
        "10\n",
        "'''"
      ],
      "execution_count": null,
      "outputs": []
    },
    {
      "cell_type": "markdown",
      "metadata": {
        "id": "3CGp-UDYXXwR"
      },
      "source": [
        "4. We're at the end of chapter 3! In chapter 4, you will learn about sorting, grouping and joins. Head over there quickly!"
      ]
    }
  ]
}