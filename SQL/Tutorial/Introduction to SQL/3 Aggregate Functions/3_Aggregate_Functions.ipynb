{
  "nbformat": 4,
  "nbformat_minor": 0,
  "metadata": {
    "colab": {
      "name": "3 Aggregate Functions.ipynb",
      "provenance": [],
      "authorship_tag": "ABX9TyPiWhdHpPv1PXOdT/sr0Q/o",
      "include_colab_link": true
    },
    "kernelspec": {
      "name": "python3",
      "display_name": "Python 3"
    },
    "language_info": {
      "name": "python"
    }
  },
  "cells": [
    {
      "cell_type": "markdown",
      "metadata": {
        "id": "view-in-github",
        "colab_type": "text"
      },
      "source": [
        "<a href=\"https://colab.research.google.com/github/villafue/Progamming/blob/main/SQL/Tutorial/Introduction%20to%20SQL/3%20Aggregate%20Functions/3_Aggregate_Functions.ipynb\" target=\"_parent\"><img src=\"https://colab.research.google.com/assets/colab-badge.svg\" alt=\"Open In Colab\"/></a>"
      ]
    },
    {
      "cell_type": "markdown",
      "metadata": {
        "id": "RdkQDYBmU2UZ"
      },
      "source": [
        "Aggregate Functions\n",
        "\n",
        "This chapter teaches you how to use aggregate functions to summarize data and gain useful insights. You'll also learn about arithmetic in SQL and how to use aliases to make your results more readable."
      ]
    },
    {
      "cell_type": "code",
      "metadata": {
        "id": "d4tHQoMpUyVG"
      },
      "source": [
        ""
      ],
      "execution_count": null,
      "outputs": []
    }
  ]
}