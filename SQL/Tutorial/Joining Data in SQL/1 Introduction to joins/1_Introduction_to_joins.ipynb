{
  "nbformat": 4,
  "nbformat_minor": 0,
  "metadata": {
    "colab": {
      "name": "1 Introduction to joins.ipynb",
      "provenance": [],
      "authorship_tag": "ABX9TyMKcrs4ilPCvDZG7trgTXDC",
      "include_colab_link": true
    },
    "kernelspec": {
      "name": "python3",
      "display_name": "Python 3"
    },
    "language_info": {
      "name": "python"
    }
  },
  "cells": [
    {
      "cell_type": "markdown",
      "metadata": {
        "id": "view-in-github",
        "colab_type": "text"
      },
      "source": [
        "<a href=\"https://colab.research.google.com/github/villafue/Progamming/blob/main/SQL/Tutorial/Joining%20Data%20in%20SQL/1%20Introduction%20to%20joins/1_Introduction_to_joins.ipynb\" target=\"_parent\"><img src=\"https://colab.research.google.com/assets/colab-badge.svg\" alt=\"Open In Colab\"/></a>"
      ]
    },
    {
      "cell_type": "markdown",
      "metadata": {
        "id": "1mD3_uuG3lw_"
      },
      "source": [
        "Introduction to joins\n",
        "\n",
        "In this chapter, you'll be introduced to the concept of joining tables, and will explore the different ways you can enrich your queries using inner joins and self joins. You'll also see how to use the case statement to split up a field into different categories."
      ]
    },
    {
      "cell_type": "code",
      "metadata": {
        "id": "zm4yCjDy3I5L"
      },
      "source": [
        ""
      ],
      "execution_count": null,
      "outputs": []
    }
  ]
}