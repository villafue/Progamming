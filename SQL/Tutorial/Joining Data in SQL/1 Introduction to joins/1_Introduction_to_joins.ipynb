{
  "nbformat": 4,
  "nbformat_minor": 0,
  "metadata": {
    "colab": {
      "name": "1 Introduction to joins.ipynb",
      "provenance": [],
      "authorship_tag": "ABX9TyPvWbGRUKhDiv2mG1zyrdML",
      "include_colab_link": true
    },
    "kernelspec": {
      "name": "python3",
      "display_name": "Python 3"
    },
    "language_info": {
      "name": "python"
    }
  },
  "cells": [
    {
      "cell_type": "markdown",
      "metadata": {
        "id": "view-in-github",
        "colab_type": "text"
      },
      "source": [
        "<a href=\"https://colab.research.google.com/github/villafue/Progamming/blob/main/SQL/Tutorial/Joining%20Data%20in%20SQL/1%20Introduction%20to%20joins/1_Introduction_to_joins.ipynb\" target=\"_parent\"><img src=\"https://colab.research.google.com/assets/colab-badge.svg\" alt=\"Open In Colab\"/></a>"
      ]
    },
    {
      "cell_type": "markdown",
      "metadata": {
        "id": "1mD3_uuG3lw_"
      },
      "source": [
        "Introduction to joins\n",
        "\n",
        "In this chapter, you'll be introduced to the concept of joining tables, and will explore the different ways you can enrich your queries using inner joins and self joins. You'll also see how to use the case statement to split up a field into different categories."
      ]
    },
    {
      "cell_type": "markdown",
      "metadata": {
        "id": "rEpVz9xj5Ida"
      },
      "source": [
        "Introduction to INNER JOIN\n",
        "\n",
        "1. Welcome to the course!\n",
        "\n",
        "Hi, my name is Chester Ismay and I'll be your instructor for this course on Joining Data in PostgreSQL. As the name suggests, the focus of this course is using SQL to join two or more database tables together into a single table, an essential skill for data scientists. In this chapter, you'll learn about the INNER JOIN, which along with LEFT JOIN are probably the two most common JOINs. You'll see diagrams throughout this course that are designed to help you understand the mechanics of the different joins. Let's begin with a diagram showing the layout of some data and then how an INNER JOIN can be applied to that data.\n",
        "2. Initial data diagram\n",
        "\n",
        "In the videos in this chapter and the next, we'll often work with two tables named left and right. You can see that matching values of the id field are colored with the same color. The id field is known as a KEY field since it can be used to reference one table to another. Both the left and right tables also have another field named val. This will be useful in helping you see specifically which records and values are included in each join.\n",
        "3. INNER JOIN diagram\n",
        "\n",
        "An INNER JOIN only includes records in which the key is in both tables. You can see here that the id field matches for values of 1 and 4 only. With inner joins we look for matches in the right table corresponding to all entries in the key field in the left table.\n",
        "4. INNER JOIN diagram (2)\n",
        "\n",
        "So the focus here shifts to only those records with a match in terms of the id field. The records not of interest to INNER JOIN have been faded.\n",
        "5. INNER JOIN diagram (3)\n",
        "\n",
        "Here's a resulting single table from the INNER JOIN clause that gives the val field from the right table with records corresponding to only those with id value of 1 or 4, which are colored as yellow and purple. Now that you have a sense for how INNER JOIN works, let's try an example in SQL.\n",
        "6. prime_ministers table\n",
        "\n",
        "The prime_ministers table is one of the tables in the leaders database. It is displayed here. Note the countries that are included. Suppose you were interested in determining nations that have both a prime minister and a president AND putting the results into a single table. Next you'll see the presidents table.\n",
        "7. presidents table\n",
        "\n",
        "How did I display all of the prime_ministers table in the previous slide? Recall the use of SELECT and FROM clauses as is shown for the presidents table here. Which countries appear in both tables? With small tables like these, it is easy to notice that Egypt, Portugal, Vietnam, and Haiti appear in both tables. For larger tables, it isn't as simple as just picking these countries out visually. So what does the syntax look like for SQL to get the results of countries with a prime minister and a president from these two tables into one?\n",
        "8. INNER JOIN in SQL\n",
        "\n",
        "The syntax for completing an INNER JOIN from the prime_ministers table to the presidents table based on a key field of country is shown. Note the use of aliases for prime_ministers as p1 and presidents as p2. This helps to simplify your code, especially with longer table names like prime_ministers and presidents. A SELECT statement is used to select specific fields from the two tables. In this case, since country exists in both tables, we must write p1 and the period to avoid a SQL error. Next we list the table on the left of the inner join after FROM and then we list the table on the right after INNER JOIN. Lastly, we specify the keys in the two tables that we would like to match on.\n",
        "9. Let's practice!\n",
        "\n",
        "You'll now practice applying an inner join to two tables and to three tables. Let's get to it! "
      ]
    },
    {
      "cell_type": "markdown",
      "metadata": {
        "id": "Fndr61zy5IKv"
      },
      "source": [
        "# Inner join\n",
        "\n",
        "PostgreSQL was mentioned in the slides but you'll find that these joins and the material here applies to different forms of SQL as well.\n",
        "\n",
        "Throughout this course, you'll be working with the countries database containing information about the most populous world cities as well as country-level economic data, population data, and geographic data. This countries database also contains information on languages spoken in each country.\n",
        "\n",
        "You can see the different tables in this database by clicking on the tabs on the bottom right below query.sql. Click through them to get a sense for the types of data that each table contains before you continue with the course! Take note of the fields that appear to be shared across the tables.\n",
        "\n",
        "Recall from the video the basic syntax for an INNER JOIN, here including all columns in both tables:\n",
        "\n",
        "```\n",
        "SELECT *\n",
        "FROM left_table\n",
        "INNER JOIN right_table\n",
        "ON left_table.id = right_table.id;\n",
        "```\n",
        "\n",
        "You'll start off with a SELECT statement and then build up to an inner join with the cities and countries tables. Let's get to it!\n",
        "\n",
        "Instructions\n",
        "\n",
        "1. Begin by selecting all columns from the cities table."
      ]
    },
    {
      "cell_type": "code",
      "metadata": {
        "id": "ELWAW1Eb5H3O"
      },
      "source": [
        "#-- Select all columns from cities\n",
        "SELECT *\n",
        "FROM cities;\n",
        "\n",
        "'''\n",
        "name\tcountry_code\tcity_proper_pop\tmetroarea_pop\turbanarea_pop\n",
        "Abidjan\tCIV\t4765000\tnull\t4765000\n",
        "Abu Dhabi\tARE\t1145000\tnull\t1145000\n",
        "Abuja\tNGA\t1235880\t6000000\t1235880\n",
        "'''"
      ],
      "execution_count": null,
      "outputs": []
    },
    {
      "cell_type": "markdown",
      "metadata": {
        "id": "LVNjb5K35vIj"
      },
      "source": [
        "2. Inner join the cities table on the left to the countries table on the right, keeping all of the fields in both tables.\n",
        "\n",
        "3. You should match the tables on the country_code field in cities and the code field in countries.\n",
        "\n",
        "4. Do not alias your tables here or in the next step. Using cities and countries is fine for now.\n"
      ]
    },
    {
      "cell_type": "code",
      "metadata": {
        "id": "zm4yCjDy3I5L"
      },
      "source": [
        "SELECT * \n",
        "FROM cities\n",
        " # -- 1. Inner join to countries\n",
        "  INNER JOIN countries\n",
        " #   -- 2. Match on the country codes\n",
        "    ON cities.country_code = countries.code;\n",
        "\n",
        "'''\n",
        "name\tcountry_code\tcity_proper_pop\tmetroarea_pop\turbanarea_pop\tcode\tname\tcontinent\tregion\tsurface_area\tindep_year\tlocal_name\tgov_form\tcapital\tcap_long\tcap_lat\n",
        "Abidjan\tCIV\t4765000\tnull\t4765000\tCIV\tCote d'Ivoire\tAfrica\tWestern Africa\t322463\t1960\tCote dIvoire\tRepublic\tYamoussoukro\t-4.0305\t5.332\n",
        "Abu Dhabi\tARE\t1145000\tnull\t1145000\tARE\tUnited Arab Emirates\tAsia\tMiddle East\t83600\t1971\tAl-Imarat al-´Arabiya al-Muttahida\tEmirate Federation\tAbu Dhabi\t54.3705\t24.4764\n",
        "Abuja\tNGA\t1235880\t6000000\t1235880\tNGA\tNigeria\tAfrica\tWestern Africa\t923768\t1960\tNigeria\tFederal Republic\tAbuja\t7.48906\t9.05804\n",
        "'''"
      ],
      "execution_count": null,
      "outputs": []
    },
    {
      "cell_type": "markdown",
      "metadata": {
        "id": "q1HmQaZb6N6m"
      },
      "source": [
        "5. Modify the SELECT statement to keep only the name of the city, the name of the country, and the name of the region the country resides in.\n",
        "\n",
        "6. Recall from our [Intro to SQL for Data Science](https://www.datacamp.com/courses/intro-to-sql-for-data-science) course that you can alias fields using AS. Alias the name of the city AS city and the name of the country AS country.\n"
      ]
    },
    {
      "cell_type": "code",
      "metadata": {
        "id": "Ek4smk046Tty"
      },
      "source": [
        "#-- 1. Select name fields (with alias) and region \n",
        "SELECT cities.name AS city, countries.name AS country, region\n",
        "FROM cities\n",
        "  INNER JOIN countries\n",
        "    ON cities.country_code = countries.code;\n",
        "\n",
        "'''\n",
        "city\tcountry\tregion\n",
        "Abidjan\tCote d'Ivoire\tWestern Africa\n",
        "Abu Dhabi\tUnited Arab Emirates\tMiddle East\n",
        "Abuja\tNigeria\tWestern Africa\n",
        "'''"
      ],
      "execution_count": null,
      "outputs": []
    },
    {
      "cell_type": "markdown",
      "metadata": {
        "id": "PEWnu7Hh6_gy"
      },
      "source": [
        "Conclusion\n",
        "\n",
        "Great work! In the next exercise you'll explore how you can do more aliasing to limit the amount of writing."
      ]
    },
    {
      "cell_type": "markdown",
      "metadata": {
        "id": "qZHpRz1p7CnN"
      },
      "source": [
        "# Inner join (2)\n",
        "\n",
        "Instead of writing the full table name, you can use table aliasing as a shortcut. For tables you also use AS to add the alias immediately after the table name with a space. Check out the aliasing of cities and countries below.\n",
        "\n",
        "```\n",
        "SELECT c1.name AS city, c2.name AS country\n",
        "FROM cities AS c1\n",
        "INNER JOIN countries AS c2\n",
        "ON c1.country_code = c2.code;\n",
        "```\n",
        "\n",
        "Notice that to select a field in your query that appears in multiple tables, you'll need to identify which table/table alias you're referring to by using a . in your SELECT statement.\n",
        "\n",
        "You'll now explore a way to get data from both the countries and economies tables to examine the inflation rate for both 2010 and 2015.\n",
        "\n",
        "Sometimes it's easier to write SQL code out of order: you write the SELECT statement after you've done the JOIN.\n",
        "\n",
        "Instructions\n",
        "\n",
        "1. Join the tables countries (left) and economies (right) aliasing countries AS c and economies AS e.\n",
        "\n",
        "2. Specify the field to match the tables ON.\n",
        "\n",
        "3. From this join, SELECT:\n",
        "\n",
        " * c.code, aliased as country_code.\n",
        "\n",
        " * name, year, and inflation_rate, not aliased.\n"
      ]
    },
    {
      "cell_type": "code",
      "metadata": {
        "id": "77DMBBXq7669"
      },
      "source": [
        "#-- 3. Select fields with aliases\n",
        "SELECT c.code AS country_code, name, year, inflation_rate\n",
        "FROM countries AS c\n",
        "#  -- 1. Join to economies (alias e)\n",
        "  INNER JOIN economies AS e\n",
        "#    -- 2. Match on code\n",
        "    ON c.code = e.code;\n",
        "\n",
        "'''\n",
        "country_code\tname\tyear\tinflation_rate\n",
        "AFG\tAfghanistan\t2010\t2.179\n",
        "AFG\tAfghanistan\t2015\t-1.549\n",
        "AGO\tAngola\t2010\t14.48\n",
        "'''"
      ],
      "execution_count": null,
      "outputs": []
    },
    {
      "cell_type": "markdown",
      "metadata": {
        "id": "4G-DIbJ08HPG"
      },
      "source": [
        "Conclusion\n",
        "\n",
        "Nicely done! Using this short aliases takes some getting used to, but it will save you a lot of typing."
      ]
    },
    {
      "cell_type": "markdown",
      "metadata": {
        "id": "4EBAi2288I7D"
      },
      "source": [
        "# Inner join (3)\n",
        "\n",
        "The ability to combine multiple joins in a single query is a powerful feature of SQL, e.g:\n",
        "\n",
        "```\n",
        "SELECT *\n",
        "FROM left_table\n",
        "  INNER JOIN right_table\n",
        "    ON left_table.id = right_table.id\n",
        "  INNER JOIN another_table\n",
        "    ON left_table.id = another_table.id;\n",
        "```\n",
        "\n",
        "As you can see here it becomes tedious to continually write long table names in joins. This is when it becomes useful to alias each table using the first letter of its name (e.g. countries AS c)! It is standard practice to alias in this way and, if you choose to alias tables or are asked to specifically for an exercise in this course, you should follow this protocol.\n",
        "\n",
        "Now, for each country, you want to get the country name, its region, and the fertility rate and unemployment rate for both 2010 and 2015.\n",
        "\n",
        "Note that results should work throughout this course with or without table aliasing unless specified differently.\n",
        "\n",
        "Instructions\n",
        "\n",
        "1. Inner join countries (left) and populations (right) on the code and country_code fields respectively.\n",
        "    \n",
        "2. Alias countries AS c and populations AS p.\n",
        "\n",
        "3. Select code, name, and region from countries and also select year and fertility_rate from populations (5 fields in total).\n"
      ]
    },
    {
      "cell_type": "code",
      "metadata": {
        "id": "RerTqze-9O6C"
      },
      "source": [
        "#-- 4. Select fields\n",
        "SELECT code, name, region, year, fertility_rate\n",
        "#  -- 1. From countries (alias as c)\n",
        "  FROM countries AS c\n",
        "#  -- 2. Join with populations (as p)\n",
        "  INNER JOIN populations AS p\n",
        "#    -- 3. Match on country code\n",
        "    ON c.code = p.country_code;\n",
        "\n",
        "'''\n",
        "code\tname\tregion\tyear\tfertility_rate\n",
        "ABW\tAruba\tCaribbean\t2010\t1.704\n",
        "ABW\tAruba\tCaribbean\t2015\t1.647\n",
        "AFG\tAfghanistan\tSouthern and Central Asia\t2010\t5.746\n",
        "'''"
      ],
      "execution_count": null,
      "outputs": []
    },
    {
      "cell_type": "markdown",
      "metadata": {
        "id": "xQ-OjNbk9W-Y"
      },
      "source": [
        "4. Add an additional inner join with economies to your previous query by joining on code.\n",
        "\n",
        "5. Include the unemployment_rate column that became available through joining with economies.\n",
        "\n",
        "6. Note that year appears in both populations and economies, so you have to explicitly use e.year instead of year as you did before.\n"
      ]
    },
    {
      "cell_type": "code",
      "metadata": {
        "id": "5BIq9F0Z9cq-"
      },
      "source": [
        "#-- 6. Select fields\n",
        "SELECT c.code, name, region, e.year, fertility_rate, unemployment_rate\n",
        "#  -- 1. From countries (alias as c)\n",
        "  FROM countries AS c\n",
        "#  -- 2. Join to populations (as p)\n",
        "  INNER JOIN populations AS p\n",
        "#    -- 3. Match on country code\n",
        "    ON c.code = p.country_code\n",
        "#  -- 4. Join to economies (as e)\n",
        "  INNER JOIN economies AS e\n",
        "#    -- 5. Match on country code\n",
        "    ON c.code = e.code;\n",
        "\n",
        "'''\n",
        "code\tname\tregion\tyear\tfertility_rate\tunemployment_rate\n",
        "AFG\tAfghanistan\tSouthern and Central Asia\t2015\t5.746\tnull\n",
        "AFG\tAfghanistan\tSouthern and Central Asia\t2010\t5.746\tnull\n",
        "AFG\tAfghanistan\tSouthern and Central Asia\t2015\t4.653\tnull\n",
        "'''"
      ],
      "execution_count": null,
      "outputs": []
    },
    {
      "cell_type": "markdown",
      "metadata": {
        "id": "thBk0Zyw-DRx"
      },
      "source": [
        "7. Scroll down the query result and take a look at the results for Albania from your previous query. Does something seem off to you?\n",
        "\n",
        "8. The trouble with doing your last join on c.code = e.code and not also including year is that e.g. the 2010 value for fertility_rate is also paired with the 2015 value for unemployment_rate.\n",
        "\n",
        "9. Fix your previous query: in your last ON clause, use AND to add an additional joining condition. In addition to joining on code in c and e, also join on year in e and p.\n"
      ]
    },
    {
      "cell_type": "code",
      "metadata": {
        "id": "4sNj27Vz-NR-"
      },
      "source": [
        "#-- 6. Select fields\n",
        "SELECT c.code, name, region, e.year, fertility_rate, unemployment_rate\n",
        " # -- 1. From countries (alias as c)\n",
        "  FROM countries AS c\n",
        "#  -- 2. Join to populations (as p)\n",
        "  INNER JOIN populations AS p\n",
        " #   -- 3. Match on country code\n",
        "    ON c.code = p.country_code\n",
        " # -- 4. Join to economies (as e)\n",
        "  INNER JOIN economies AS e\n",
        " #   -- 5. Match on country code and year\n",
        "    ON c.code = e.code AND e.year = p.year;\n",
        "\n",
        "'''\n",
        "code\tname\tregion\tyear\tfertility_rate\tunemployment_rate\n",
        "AFG\tAfghanistan\tSouthern and Central Asia\t2010\t5.746\tnull\n",
        "AFG\tAfghanistan\tSouthern and Central Asia\t2015\t4.653\tnull\n",
        "AGO\tAngola\tCentral Africa\t2010\t6.416\tnull\n",
        "'''"
      ],
      "execution_count": null,
      "outputs": []
    },
    {
      "cell_type": "markdown",
      "metadata": {
        "id": "PDh1Ax57-7Tr"
      },
      "source": [
        "Conclusion\n",
        "\n",
        "Good work! Time to learn something new!"
      ]
    },
    {
      "cell_type": "markdown",
      "metadata": {
        "id": "m74hPmJY_GuA"
      },
      "source": [
        "# INNER JOIN via USING\n",
        "\n",
        "1. INNER JOIN via USING\n",
        "\n",
        "Congratulations on making it through the first set of exercises on using INNER JOIN to combine two or three tables into one! You'll next learn about the USING keyword in SQL and how it can be used in joins.\n",
        "2. The INNER JOIN diagram again\n",
        "\n",
        "Recall the INNER JOIN diagram you saw in the last video. Think about the SQL code needed to complete this diagram. Let's check it out. We select and alias three fields and use the left table on the left of the join and the right table on the right of the join matching based on the entries for the id key field.\n",
        "3. The INNER JOIN diagram with USING\n",
        "\n",
        "When the key field you'd like to join on is the same name in both tables, you can use a USING clause instead of the ON clause you have seen so far. Since id is the same name in both the left table and the right table we can specify USING instead of ON here. Note that the parentheses are required around the key field with USING. Let's revisit the example of joining the prime_ministers table\n",
        "4. Countries with prime ministers and presidents\n",
        "\n",
        "to the presidents table to determine countries with both types of leaders. How could you fill in the blanks to get the result with USING? (Pause for a few seconds) Did you get it? (PAUSE) Ah, I played a bit of a trick on you here. But why does this work? Since an INNER JOIN includes entries in both tables and both tables contain the countries listed, it doesn't matter the order in which we place the tables in the join if we SELECT these columns. You'll be told in the exercises which table to use on the left and on the right to avoid this confusion. Note again the use of the parentheses around country after USING.\n",
        "5. Let's practice!\n",
        "\n",
        "Now you'll test your understanding of INNER JOINs before we delve into an exercise with USING. Go get 'em! "
      ]
    },
    {
      "cell_type": "markdown",
      "metadata": {
        "id": "Ra3p8-GmAL-H"
      },
      "source": [
        "# Review inner join using on\n",
        "\n",
        "Why does the following code result in an error?\n",
        "\n",
        "```\n",
        "SELECT c.name AS country, l.name AS language\n",
        "FROM countries AS c\n",
        "  INNER JOIN languages AS l;\n",
        "```\n",
        "\n",
        "Possible Answers\n",
        "\n",
        "1. The languages table has more rows than the countries table.\n",
        " - Incorrect. It is not a requirement that the table on the right of the JOIN have fewer rows than the one on the left.\n",
        "\n",
        "2. There are multiple languages spoken in many countries.\n",
        " - Incorrect. When an INNER JOIN is done, it will match all values in both tables. This may mean that there are multiple matches for a country in terms of languages spoken.\n",
        "\n",
        "3. INNER JOIN requires a specification of the key field (or fields) in each table.\n",
        " - Correct!\n",
        "\n",
        "4. Join queries may not be followed by a semi-colon.\n",
        " - Incorrect. Review your previous exercises to make sure all of the code needed for an INNER JOIN."
      ]
    },
    {
      "cell_type": "markdown",
      "metadata": {
        "id": "T-X-AVEvK6yv"
      },
      "source": [
        "# Inner join with using\n",
        "\n",
        "When joining tables with a common field name, e.g.\n",
        "\n",
        "```\n",
        "SELECT *\n",
        "FROM countries\n",
        "  INNER JOIN economies\n",
        "    ON countries.code = economies.code\n",
        "```\n",
        "\n",
        "You can use USING as a shortcut:\n",
        "\n",
        "```\n",
        "SELECT *\n",
        "FROM countries\n",
        "  INNER JOIN economies\n",
        "    USING(code)\n",
        "```\n",
        "\n",
        "You'll now explore how this can be done with the countries and languages tables.\n",
        "\n",
        "Instructions\n",
        "\n",
        "1. Inner join countries on the left and languages on the right with USING(code).\n",
        "    \n",
        "2. Select the fields corresponding to:\n",
        "\n",
        " * country name AS country,\n",
        "\n",
        " * continent name,\n",
        "\n",
        " * language name AS language, and\n",
        "\n",
        " * whether or not the language is official.\n",
        "\n",
        "Remember to alias your tables using the first letter of their names."
      ]
    },
    {
      "cell_type": "code",
      "metadata": {
        "id": "RjAP9nQCL2TC"
      },
      "source": [
        "#-- 4. Select fields\n",
        "SELECT c.name AS country, c.continent, l.name AS language, l.official\n",
        "#  -- 1. From countries (alias as c)\n",
        "  FROM countries AS c\n",
        "#  -- 2. Join to languages (as l)\n",
        "  INNER JOIN languages AS l\n",
        "#    -- 3. Match using code\n",
        "    USING(code)\n",
        "\n",
        "'''\n",
        "country\tcontinent\tlanguage\tofficial\n",
        "Afghanistan\tAsia\tDari\ttrue\n",
        "Afghanistan\tAsia\tPashto\ttrue\n",
        "Afghanistan\tAsia\tTurkic\tfalse\n",
        "'''"
      ],
      "execution_count": null,
      "outputs": []
    },
    {
      "cell_type": "markdown",
      "metadata": {
        "id": "h-yOs8pgNh4s"
      },
      "source": [
        "# Self-ish joins, just in CASE\n",
        "\n",
        "1. Self-ish joins, just in CASE\n",
        "\n",
        "You'll now dive into inner joins where a table is joined with itself. Sounds a little selfish, doesn't it? These types of joins, as you may have guessed, are called self joins. You'll also explore how to slice a numerical field into categories using the CASE command. Joining a table to\n",
        "2. Join a table to itself?\n",
        "\n",
        "itself may seem like a bit of a crazy, strange thing to ever want to do. Self-joins are used to compare values in a field to other values of the same field from within the same table. Let's further explore this with an example. Recall the prime_ministers table from earlier. What if you wanted to create a new table showing countries that are in the same continent matched as pairs? Let's explore a chunk of INNER JOIN code using the prime_ministers table.\n",
        "3. Join prime_ministers to itself?\n",
        "\n",
        "You might want to pause the video and think about what the resulting table will look like. The country column is selected twice as well as continent. The prime_ministers table is on both the left and the right. The vital step here is setting the key columns by which we match the table to itself. For each country, we will have a match if the country in the \"right table\" (that is also prime_ministers) is in the same continent. Lastly, since the results of this query are more than can fit on the slide, you'll only see the first 14 records. See how we have exactly this in the result! It's a pairing of each country with every other country in its same continent. But do you see a problem here? We don't want to list the country with itself after all. In the next slide, you'll see a way to do this. Pause to think about how to get around this before continuing. We don't want to include rows\n",
        "4. Finishing off the self-join on prime_ministers\n",
        "\n",
        "where the country is the same in the country1 and country2 fields. The AND clause can check that multiple conditions are met. Here a match will not be made between prime_ministers and itself if the countries match. You, thus, have the correct table now; the results here are again limited in order for them to fit on the slide. Notice that self-join doesn't have a syntax quite as simple as INNER JOIN (You can't just write SELF JOIN in SQL code).\n",
        "5. CASE WHEN and THEN\n",
        "\n",
        "The next command isn't a join, but is a useful tool in your repertoire. You'll be introduced to using CASE with another table in the leaders database. The states table contains numeric data about different countries in the six inhabited world continents. We'll focus on the field indep_year now. Suppose we'd like to group the year of independence into categories of before 1900, between 1900 and 1930, and after 1930. CASE will get us there! CASE is a way to do multiple if-then-else statements in a simplified way in SQL.\n",
        "6. Preparing indep_year_group in states\n",
        "\n",
        "You can now see the basic layout for creating a new field containing the groupings. How might we fill them in? After the first WHEN should specify that we want to check for indep_year being less than 1900. Next we want indep_year_group to contain 'between 1900 and 1930' in the next blank. Lastly any other record not matching these conditions will be assigned the value of 'after 1930' for indep_year_group.\n",
        "7. Creating indep_year_group in states\n",
        "\n",
        "Check out the completed query with completed blanks. Notice how the values of indep_year are grouped in indep_year_group. Also observe how continent relates to indep_year_group.\n",
        "8. Let's practice!\n",
        "\n",
        "You'll now work on a couple of exercises for practice, then complete a challenge testing your knowledge of the Chapter 1 material. "
      ]
    },
    {
      "cell_type": "markdown",
      "metadata": {
        "id": "zb-qKgwRPV4I"
      },
      "source": [
        "# Self-join\n",
        "\n",
        "In this exercise, you'll use the populations table to perform a self-join to calculate the percentage increase in population from 2010 to 2015 for each country code!\n",
        "\n",
        "Since you'll be joining the populations table to itself, you can alias populations as p1 and also populations as p2. This is good practice whenever you are aliasing and your tables have the same first letter. Note that you are required to alias the tables with self-joins.\n",
        "\n",
        "Instructions\n",
        "\n",
        "1. Join populations with itself ON country_code.\n",
        "\n",
        "2. Select the country_code from p1 and the size field from both p1 and p2. SQL won't allow same-named fields, so alias p1.size as size2010 and p2.size as size2015.\n"
      ]
    },
    {
      "cell_type": "code",
      "metadata": {
        "id": "IGZOwmuIQJVY"
      },
      "source": [
        "#-- 4. Select fields with aliases\n",
        "SELECT p1.country_code, \n",
        "       p1.size AS size2010, \n",
        "       p2.size AS size2015\n",
        "#-- 1. From populations (alias as p1)\n",
        "FROM populations as p1\n",
        "#  -- 2. Join to itself (alias as p2)\n",
        "  INNER JOIN populations as p2\n",
        "#    -- 3. Match on country code\n",
        "    ON p1.country_code = p2.country_code\n",
        "\n",
        "'''\n",
        "country_code\tsize2010\tsize2015\n",
        "ABW\t101597\t103889\n",
        "ABW\t101597\t101597\n",
        "ABW\t103889\t103889\n",
        "'''"
      ],
      "execution_count": null,
      "outputs": []
    },
    {
      "cell_type": "markdown",
      "metadata": {
        "id": "1JeEx1vhQS30"
      },
      "source": [
        "Notice from the result that for each country_code you have four entries laying out all combinations of 2010 and 2015.\n",
        "\n",
        "3. Extend the ON in your query to include only those records where the p1.year (2010) matches with p2.year - 5 (2015 - 5 = 2010). This will omit the three entries per country_code that you aren't interested in.\n"
      ]
    },
    {
      "cell_type": "code",
      "metadata": {
        "id": "BvK0Kp5WRky1"
      },
      "source": [
        "#-- 5. Select fields with aliases\n",
        "SELECT p1.country_code,\n",
        "       p1.size AS size2010,\n",
        "       p2.size AS size2015\n",
        "#-- 1. From populations (alias as p1)\n",
        "FROM populations as p1\n",
        "#  -- 2. Join to itself (alias as p2)\n",
        "  INNER JOIN populations as p2\n",
        "#    -- 3. Match on country code\n",
        "    ON p1.country_code = p2.country_code\n",
        "#        -- 4. and year (with calculation)\n",
        "        AND p1.year = p2.year - 5\n",
        "\n",
        "'''\n",
        "country_code\tsize2010\tsize2015\n",
        "ABW\t101597\t103889\n",
        "AFG\t27962200\t32526600\n",
        "AGO\t21220000\t25022000\n",
        "'''"
      ],
      "execution_count": null,
      "outputs": []
    },
    {
      "cell_type": "markdown",
      "metadata": {
        "id": "S5VjrPQeRoOF"
      },
      "source": [
        "As you just saw, you can also use SQL to calculate values like p2.year - 5 for you. With two fields like size2010 and size2015, you may want to determine the percentage increase from one field to the next:\n",
        "\n",
        "With two numeric fields `A` and `B`, the percentage growth from `A` to `B` can be calculated as `(B - A) / A * 100.0`.\n",
        "\n",
        "Add a new field to SELECT, aliased as growth_perc, that calculates the percentage population growth from 2010 to 2015 for each country, using p2.size and p1.size."
      ]
    },
    {
      "cell_type": "code",
      "metadata": {
        "id": "ZnX57SrTSRLK"
      },
      "source": [
        "SELECT p1.country_code,\n",
        "       p1.size AS size2010, \n",
        "       p2.size AS size2015,\n",
        "       -- 1. calculate growth_perc\n",
        "       ((p2.size - p1.size)/p1.size * 100.0) AS growth_perc\n",
        "-- 2. From populations (alias as p1)\n",
        "FROM populations AS p1\n",
        "  -- 3. Join to itself (alias as p2)\n",
        "  INNER JOIN populations AS p2\n",
        "    -- 4. Match on country code\n",
        "    ON p1.country_code = p2.country_code\n",
        "        -- 5. and year (with calculation)\n",
        "        AND p1.year = p2.year - 5;\n",
        "\n",
        "'''\n",
        "country_code\tsize2010\tsize2015\tgrowth_perc\n",
        "ABW\t101597\t103889\t2.25597210228443\n",
        "AFG\t27962200\t32526600\t16.32329672575\n",
        "AGO\t21220000\t25022000\t17.9171919822693\n",
        "'''"
      ],
      "execution_count": null,
      "outputs": []
    },
    {
      "cell_type": "markdown",
      "metadata": {
        "id": "s0zdhFFqS4wW"
      },
      "source": [
        "# Case when and then\n",
        "\n",
        "Often it's useful to look at a numerical field not as raw data, but instead as being in different categories or groups.\n",
        "\n",
        "You can use CASE with WHEN, THEN, ELSE, and END to define a new grouping field.\n",
        "\n",
        "Instructions\n",
        "\n",
        "Using the countries table, create a new field AS geosize_group that groups the countries into three groups:\n",
        "\n",
        "1. If surface_area is greater than 2 million, geosize_group is 'large'.\n",
        "\n",
        "2. If surface_area is greater than 350 thousand but not larger than 2 million, geosize_group is 'medium'.\n",
        "\n",
        "3. Otherwise, geosize_group is 'small'.\n"
      ]
    },
    {
      "cell_type": "code",
      "metadata": {
        "id": "MVBOYsv4T6Yg"
      },
      "source": [
        "SELECT name, continent, code, surface_area,\n",
        "    -- 1. First case\n",
        "    CASE WHEN surface_area > 2000000 THEN 'large'\n",
        "        -- 2. Second case\n",
        "        WHEN surface_area > 350000 THEN 'medium'\n",
        "        -- 3. Else clause + end\n",
        "        ELSE 'small' END\n",
        "        -- 4. Alias name\n",
        "        AS geosize_group\n",
        "-- 5. From table\n",
        "FROM countries;\n",
        "\n",
        "'''\n",
        "name\tcontinent\tcode\tsurface_area\tgeosize_group\n",
        "Afghanistan\tAsia\tAFG\t652090\tmedium\n",
        "Netherlands\tEurope\tNLD\t41526\tsmall\n",
        "Albania\tEurope\tALB\t28748\tsmall\n",
        "'''"
      ],
      "execution_count": null,
      "outputs": []
    },
    {
      "cell_type": "markdown",
      "metadata": {
        "id": "qHhhSX3FUA_Z"
      },
      "source": [
        "# Inner challenge\n",
        "\n",
        "The table you created with the added geosize_group field has been loaded for you here with the name countries_plus. Observe the use of (and the placement of) the INTO command to create this countries_plus table:\n",
        "\n",
        "```\n",
        "SELECT name, continent, code, surface_area,\n",
        "    CASE WHEN surface_area > 2000000\n",
        "            THEN 'large'\n",
        "       WHEN surface_area > 350000\n",
        "            THEN 'medium'\n",
        "       ELSE 'small' END\n",
        "       AS geosize_group\n",
        "INTO countries_plus\n",
        "FROM countries;\n",
        "```\n",
        "\n",
        "You will now explore the relationship between the size of a country in terms of surface area and in terms of population using grouping fields created with CASE.\n",
        "\n",
        "By the end of this exercise, you'll be writing two queries back-to-back in a single script. You got this!\n",
        "\n",
        "Instructions\n",
        "\n",
        "Using the populations table focused only for the year 2015, create a new field aliased as popsize_group to organize population size into\n",
        "\n",
        "1. 'large' (> 50 million),\n",
        "\n",
        "2. 'medium' (> 1 million), and\n",
        "\n",
        "3. 'small' groups.\n",
        "\n",
        "Select only the country code, population size, and this new popsize_group as fields."
      ]
    },
    {
      "cell_type": "code",
      "metadata": {
        "id": "_p9e60LIVB0w"
      },
      "source": [
        "SELECT country_code, size,\n",
        "    -- 1. First case\n",
        "    CASE WHEN size > 50000000 THEN 'large'\n",
        "        -- 2. Second case\n",
        "        WHEN size > 1000000 THEN 'medium'\n",
        "        -- 3. Else clause + end\n",
        "        ELSE 'small' END\n",
        "        -- 4. Alias name (popsize_group)\n",
        "        AS popsize_group\n",
        "-- 5. From table\n",
        "FROM populations\n",
        "-- 6. Focus on 2015\n",
        "WHERE year = 2015;\n",
        "\n",
        "'''\n",
        "country_code\tsize\tpopsize_group\n",
        "ABW\t103889\tsmall\n",
        "AFG\t32526600\tmedium\n",
        "AGO\t25022000\tmedium\n",
        "'''"
      ],
      "execution_count": null,
      "outputs": []
    },
    {
      "cell_type": "markdown",
      "metadata": {
        "id": "onHshP79VGjA"
      },
      "source": [
        "4. Use INTO to save the result of the previous query as pop_plus. You can see an example of this in the countries_plus code in the assignment text. Make sure to include a ; at the end of your WHERE clause!\n",
        "\n",
        "5. Then, include another query below your first query to display all the records in pop_plus using SELECT * FROM pop_plus; so that you generate results and this will display pop_plus in query result.\n"
      ]
    },
    {
      "cell_type": "code",
      "metadata": {
        "id": "1T56wCDnVmkE"
      },
      "source": [
        "SELECT country_code, size,\n",
        "    CASE WHEN size > 50000000 THEN 'large'\n",
        "        WHEN size > 1000000 THEN 'medium'\n",
        "        ELSE 'small' END\n",
        "        AS popsize_group\n",
        "-- 1. Into table\n",
        "INTO pop_plus\n",
        "FROM populations\n",
        "WHERE year = 2015;\n",
        "\n",
        "-- 2. Select all columns of pop_plus\n",
        "SELECT * FROM pop_plus;\n",
        "\n",
        "'''\n",
        "country_code\tsize\tpopsize_group\n",
        "ABW\t103889\tsmall\n",
        "AFG\t32526600\tmedium\n",
        "AGO\t25022000\tmedium\n",
        "'''"
      ],
      "execution_count": null,
      "outputs": []
    },
    {
      "cell_type": "markdown",
      "metadata": {
        "id": "-ZhNe4bNVq8I"
      },
      "source": [
        "6. Keep the first query intact that creates pop_plus using INTO.\n",
        "\n",
        "7. Write a query to join countries_plus AS c on the left with pop_plus AS p on the right matching on the country code fields.\n",
        "\n",
        "8. Sort the data based on geosize_group, in ascending order so that large appears on top.\n",
        "\n",
        "9. Select the name, continent, geosize_group, and popsize_group fields.\n"
      ]
    },
    {
      "cell_type": "code",
      "metadata": {
        "id": "lWeH8Zj-WlcA"
      },
      "source": [
        "SELECT country_code, size,\n",
        "  CASE WHEN size > 50000000\n",
        "            THEN 'large'\n",
        "       WHEN size > 1000000\n",
        "            THEN 'medium'\n",
        "       ELSE 'small' END\n",
        "       AS popsize_group\n",
        "INTO pop_plus       \n",
        "FROM populations\n",
        "WHERE year = 2015;\n",
        "\n",
        "-- 5. Select fields\n",
        "SELECT c.name, c.continent, c.geosize_group, p.popsize_group\n",
        "-- 1. From countries_plus (alias as c)\n",
        "FROM countries_plus AS c\n",
        "  -- 2. Join to pop_plus (alias as p)\n",
        "  INNER JOIN pop_plus as p\n",
        "    -- 3. Match on country code\n",
        "    ON c.code = p.country_code\n",
        "-- 4. Order the table    \n",
        "ORDER BY geosize_group;\n",
        "\n",
        "'''\n",
        "name\tcontinent\tgeosize_group\tpopsize_group\n",
        "Canada\tNorth America\tlarge\tmedium\n",
        "United States\tNorth America\tlarge\tlarge\n",
        "Greenland\tNorth America\tlarge\tsmall\n",
        "'''"
      ],
      "execution_count": null,
      "outputs": []
    },
    {
      "cell_type": "markdown",
      "metadata": {
        "id": "g3QfvpL8Wprn"
      },
      "source": [
        "Conclusion\n",
        "\n",
        "This concludes chapter 1 and you now know the INs of JOINs. Off to chapter 2 to learn the OUTs!"
      ]
    }
  ]
}