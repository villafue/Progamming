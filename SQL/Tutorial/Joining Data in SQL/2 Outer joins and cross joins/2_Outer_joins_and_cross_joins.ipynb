{
  "nbformat": 4,
  "nbformat_minor": 0,
  "metadata": {
    "colab": {
      "name": "2 Outer joins and cross joins.ipynb",
      "provenance": [],
      "authorship_tag": "ABX9TyNUQuQ2sXixDKoHeF22pBs9",
      "include_colab_link": true
    },
    "kernelspec": {
      "name": "python3",
      "display_name": "Python 3"
    },
    "language_info": {
      "name": "python"
    }
  },
  "cells": [
    {
      "cell_type": "markdown",
      "metadata": {
        "id": "view-in-github",
        "colab_type": "text"
      },
      "source": [
        "<a href=\"https://colab.research.google.com/github/villafue/Progamming/blob/main/SQL/Tutorial/Joining%20Data%20in%20SQL/2%20Outer%20joins%20and%20cross%20joins/2_Outer_joins_and_cross_joins.ipynb\" target=\"_parent\"><img src=\"https://colab.research.google.com/assets/colab-badge.svg\" alt=\"Open In Colab\"/></a>"
      ]
    },
    {
      "cell_type": "markdown",
      "metadata": {
        "id": "lu3BwTDaW614"
      },
      "source": [
        "Outer joins and cross joins\n",
        "\n",
        "In this chapter, you'll come to grips with different kinds of outer joins. You'll learn how to gain further insights into your data through left joins, right joins, and full joins. In addition to outer joins, you'll also work with cross joins."
      ]
    },
    {
      "cell_type": "code",
      "metadata": {
        "id": "OawWw_VvWwzB"
      },
      "source": [
        ""
      ],
      "execution_count": null,
      "outputs": []
    }
  ]
}