{
  "nbformat": 4,
  "nbformat_minor": 0,
  "metadata": {
    "colab": {
      "name": "2 Outer joins and cross joins.ipynb",
      "provenance": [],
      "authorship_tag": "ABX9TyMTzO+rq0uwbLO0dewJnqlE",
      "include_colab_link": true
    },
    "kernelspec": {
      "name": "python3",
      "display_name": "Python 3"
    },
    "language_info": {
      "name": "python"
    }
  },
  "cells": [
    {
      "cell_type": "markdown",
      "metadata": {
        "id": "view-in-github",
        "colab_type": "text"
      },
      "source": [
        "<a href=\"https://colab.research.google.com/github/villafue/Progamming/blob/main/SQL/Tutorial/Joining%20Data%20in%20SQL/2%20Outer%20joins%20and%20cross%20joins/2_Outer_joins_and_cross_joins.ipynb\" target=\"_parent\"><img src=\"https://colab.research.google.com/assets/colab-badge.svg\" alt=\"Open In Colab\"/></a>"
      ]
    },
    {
      "cell_type": "markdown",
      "metadata": {
        "id": "lu3BwTDaW614"
      },
      "source": [
        "Outer joins and cross joins\n",
        "\n",
        "In this chapter, you'll come to grips with different kinds of outer joins. You'll learn how to gain further insights into your data through left joins, right joins, and full joins. In addition to outer joins, you'll also work with cross joins."
      ]
    },
    {
      "cell_type": "markdown",
      "metadata": {
        "id": "GK1yFbzWXQ_x"
      },
      "source": [
        "# LEFT and RIGHT JOINs\n",
        "\n",
        ". LEFT and RIGHT JOINs\n",
        "\n",
        "Congratulations on completing Chapter 1 on INNER JOINs. Welcome to Chapter 2 on OUTER JOINs! You can remember outer joins as reaching OUT to another table while keeping all of the records of the original table. Inner joins keep only the records IN both tables. You'll begin this chapter by exploring (1) LEFT JOINs, (2) RIGHT JOINs, and (3) FULL JOINs, which are the three types of OUTER JOINs. Let's begin by exploring how a LEFT JOIN differs from an INNER JOIN via a diagram.\n",
        "2. INNER JOIN diagram\n",
        "\n",
        "Recall the inner join diagram from Chapter 1. The only records that were included in the resulting table of the INNER JOIN query were those in which the id field had matching values.\n",
        "3. LEFT JOIN initial diagram\n",
        "\n",
        "In contrast, a LEFT JOIN notes those records in the left table that do not have a match on the key field in the right table. This is denoted in the diagram by the open circles remaining close to the left table for id values of 2 and 3. These values of 2 and 3 do not appear in the id field of the right table.\n",
        "4. LEFT JOIN diagram\n",
        "\n",
        "You now see the result of the LEFT JOIN query. Whereas the INNER JOIN kept just the records corresponding to id values of 1 and 4, a LEFT JOIN keeps all of the original records in the left table but then marks the values as missing in the right table for those that don't have a match. The missing values are marked with dark gray boxes here for clarity. Note that the values of 5 and 6 for id in the right table are not found in the result of LEFT JOIN in any way.\n",
        "5. Multiple INNER JOIN diagram\n",
        "\n",
        "It isn't always the case that each key value in the left table corresponds to exactly one record in the key column of the right table. In these examples, we have this layout. Missing entries still occur for ids of 2 and 3 and the value of R3 is brought into the join from right2 since it matches on id 4. Duplicate rows are shown in the LEFT JOIN for id 1 since it has two matches corresponding to the values of R1 and R2 in the right2 table.\n",
        "6. The syntax of a LEFT JOIN\n",
        "\n",
        "The syntax of the LEFT JOIN is similar to that of the INNER JOIN. Let's explore the same code you used before to determine the countries with a prime minister and a president, but let's use a LEFT JOIN instead of an INNER JOIN. Further, let's remove continent to save space on the screen. The first four records in this table are the same as those from the INNER JOIN. The last six correspond to the countries that do not have a president and thus their president values are missing.\n",
        "7. RIGHT JOIN\n",
        "\n",
        "The RIGHT JOIN is much less common than the LEFT JOIN so we won't spend as much time on it here. The diagram will help you to understand how it works. Instead of matching entries in the id column on the left table TO the id column of the right table, a RIGHT JOIN does the reverse. Therefore, we see open circles on the ids of 5 and 6 in the right table since they are not found in the left table. The resulting table from the RIGHT JOIN shows these missing entries in the L_val field. As you can see in SQL the right table appears after RIGHT JOIN and the left table appears after FROM.\n",
        "8. Let's practice!\n",
        "\n",
        "I'll see you again soon to introduce FULL JOINs after you complete the next few exercises. "
      ]
    },
    {
      "cell_type": "markdown",
      "metadata": {
        "id": "kotjERvhrRXQ"
      },
      "source": [
        "# Left Join\n",
        "\n",
        "Now you'll explore the differences between performing an inner join and a left join using the cities and countries tables.\n",
        "\n",
        "You'll begin by performing an inner join with the cities table on the left and the countries table on the right. Remember to alias the name of the city field as city and the name of the country field as country.\n",
        "\n",
        "You will then change the query to a left join. Take note of how many records are in each query here!\n",
        "\n",
        "Instructions\n",
        "\n",
        "1. Fill in the code based on the instructions in the code comments to complete the inner join. Note how many records are in the result of the join in the query result tab."
      ]
    },
    {
      "cell_type": "code",
      "metadata": {
        "id": "OawWw_VvWwzB"
      },
      "source": [
        "#-- Select the city name (with alias), the country code,\n",
        "#-- the country name (with alias), the region,\n",
        "#-- and the city proper population\n",
        "SELECT c1.name AS city, code, c2.name AS country,\n",
        "       region, city_proper_pop\n",
        "#-- From left table (with alias)\n",
        "FROM cities AS c1\n",
        "#  -- Join to right table (with alias)\n",
        "  INNER JOIN countries AS c2\n",
        "#    -- Match on country code\n",
        "    ON c1.country_code = c2.code\n",
        "#-- Order by descending country code\n",
        "ORDER BY code DESC;\n",
        "\n",
        "'''\n",
        "city\tcode\tcountry\tregion\tcity_proper_pop\n",
        "Harare\tZWE\tZimbabwe\tEastern Africa\t1606000\n",
        "Lusaka\tZMB\tZambia\tEastern Africa\t1742980\n",
        "Cape Town\tZAF\tSouth Africa\tSouthern Africa\t3740030\n",
        "\n",
        "Showing 100 out of 230 rows\n",
        "'''"
      ],
      "execution_count": null,
      "outputs": []
    },
    {
      "cell_type": "markdown",
      "metadata": {
        "id": "hwXSE7_MsLA3"
      },
      "source": [
        "2. Change the code to perform a LEFT JOIN instead of an INNER JOIN. After executing this query, note how many records the query result contains."
      ]
    },
    {
      "cell_type": "code",
      "metadata": {
        "id": "DFLxFg90sPSL"
      },
      "source": [
        "SELECT c1.name AS city, code, c2.name AS country,\n",
        "       region, city_proper_pop\n",
        "FROM cities AS c1\n",
        "#  -- 1. Join right table (with alias)\n",
        "  LEFT JOIN countries AS c2\n",
        "#    -- 2. Match on country code\n",
        "    ON c1.country_code = c2.code\n",
        "#-- 3. Order by descending country code\n",
        "ORDER BY code DESC;\n",
        "\n",
        "'''\n",
        "city\tcode\tcountry\tregion\tcity_proper_pop\n",
        "Taichung\tnull\tnull\tnull\t2752410\n",
        "Tainan\tnull\tnull\tnull\t1885250\n",
        "Kaohsiung\tnull\tnull\tnull\t2778920\n",
        "\n",
        "Showing 100 out of 236 rows\n",
        "'''"
      ],
      "execution_count": null,
      "outputs": []
    },
    {
      "cell_type": "markdown",
      "metadata": {
        "id": "gVxhGyvisn79"
      },
      "source": [
        "Conclusion\n",
        "\n",
        "Perfect! Notice that the INNER JOIN version resulted in 230 records. The LEFT JOIN version returned 236 rows."
      ]
    },
    {
      "cell_type": "markdown",
      "metadata": {
        "id": "IELpSK50suE3"
      },
      "source": [
        "# Left join (2)\n",
        "\n",
        "Next, you'll try out another example comparing an inner join to its corresponding left join. Before you begin though, take note of how many records are in both the countries and languages tables below.\n",
        "\n",
        "You will begin with an inner join on the countries table on the left with the languages table on the right. Then you'll change the code to a left join in the next bullet.\n",
        "\n",
        "Note the use of multi-line comments here using /* and */.\n",
        "\n",
        "Instructions\n",
        "\n",
        "1. Perform an inner join. Alias the name of the country field as country and the name of the language field as language.\n",
        "\n",
        "2. Sort based on descending country name.\n"
      ]
    },
    {
      "cell_type": "code",
      "metadata": {
        "id": "hpKQcxwVs1yq"
      },
      "source": [
        "#/*\n",
        "#5. Select country name AS country, the country's local name,\n",
        "#the language name AS language, and\n",
        "#the percent of the language spoken in the country\n",
        "#*/\n",
        "SELECT c.name AS country, local_name, l.name AS language, percent\n",
        "#-- 1. From left table (alias as c)\n",
        "FROM countries AS c\n",
        "#  -- 2. Join to right table (alias as l)\n",
        "  INNER JOIN languages AS l\n",
        "#    -- 3. Match on fields\n",
        "    ON c.code = l.code\n",
        "#-- 4. Order by descending country\n",
        "ORDER BY country DESC;\n",
        "\n",
        "'''\n",
        "country\tlocal_name\tlanguage\tpercent\n",
        "Zimbabwe\tZimbabwe\tShona\tnull\n",
        "Zimbabwe\tZimbabwe\tVenda\tnull\n",
        "Zimbabwe\tZimbabwe\tTswana\tnull\n",
        "'''"
      ],
      "execution_count": null,
      "outputs": []
    },
    {
      "cell_type": "markdown",
      "metadata": {
        "id": "qDWIpfhStcxU"
      },
      "source": [
        "3. Perform a left join instead of an inner join. Observe the result, and also note the change in the number of records in the result.\n",
        "\n",
        "4. Carefully review which records appear in the left join result, but not in the inner join result.\n"
      ]
    },
    {
      "cell_type": "code",
      "metadata": {
        "id": "HQ8niFpitwD2"
      },
      "source": [
        "/*\n",
        "5. Select country name AS country, the country's local name,\n",
        "the language name AS language, and\n",
        "the percent of the language spoken in the country\n",
        "*/\n",
        "SELECT c.name AS country, local_name, l.name AS language, percent\n",
        "-- 1. From left table (alias as c)\n",
        "FROM countries AS c\n",
        "  -- 2. Join to right table (alias as l)\n",
        "  LEFT JOIN languages AS l\n",
        "    -- 3. Match on fields\n",
        "    ON c.code = l.code\n",
        "-- 4. Order by descending country\n",
        "ORDER BY country DESC;\n",
        "\n",
        "'''\n",
        "country\tlocal_name\tlanguage\tpercent\n",
        "Zimbabwe\tZimbabwe\tChibarwe\tnull\n",
        "Zimbabwe\tZimbabwe\tShona\tnull\n",
        "Zimbabwe\tZimbabwe\tNdebele\tnull\n",
        "'''"
      ],
      "execution_count": null,
      "outputs": []
    },
    {
      "cell_type": "markdown",
      "metadata": {
        "id": "03eRf7CVtzYN"
      },
      "source": [
        "Conclusion\n",
        "\n",
        "Perfect! Notice that the INNER JOIN version resulted in 909 records. The LEFT JOIN version returned 916 rows."
      ]
    },
    {
      "cell_type": "markdown",
      "metadata": {
        "id": "lBZV3HXIt3tr"
      },
      "source": [
        "# Left join (3)\n",
        "\n",
        "You'll now revisit the use of the AVG() function introduced in our [Intro to SQL for Data Science](https://www.datacamp.com/courses/intro-to-sql-for-data-science) course. You will use it in combination with left join to determine the average gross domestic product (GDP) per capita by region in 2010.\n",
        "\n",
        "Instructions\n",
        "\n",
        "1. Begin with a left join with the countries table on the left and the economies table on the right.\n",
        "\n",
        "2. Focus only on records with 2010 as the year.\n"
      ]
    },
    {
      "cell_type": "code",
      "metadata": {
        "id": "5aP0GCBquhkb"
      },
      "source": [
        "#-- 5. Select name, region, and gdp_percapita\n",
        "SELECT name, region, gdp_percapita\n",
        "#-- 1. From countries (alias as c)\n",
        "FROM countries AS c\n",
        "#  -- 2. Left join with economies (alias as e)\n",
        "  LEFT JOIN economies AS e\n",
        "#    -- 3. Match on code fields\n",
        "    ON c.code = e.code\n",
        "#-- 4. Focus on 2010\n",
        "WHERE year = '2010';\n",
        "\n",
        "'''\n",
        "name\tregion\tgdp_percapita\n",
        "Afghanistan\tSouthern and Central Asia\t539.667\n",
        "Angola\tCentral Africa\t3599.27\n",
        "Albania\tSouthern Europe\t4098.13\n",
        "'''"
      ],
      "execution_count": null,
      "outputs": []
    },
    {
      "cell_type": "markdown",
      "metadata": {
        "id": "O_m9U2D6uvz8"
      },
      "source": [
        "3. Modify your code to calculate the average GDP per capita AS avg_gdp for each region in 2010.\n",
        "\n",
        "4. Select the region and avg_gdp fields.\n"
      ]
    },
    {
      "cell_type": "code",
      "metadata": {
        "id": "2FSzisSku9qI"
      },
      "source": [
        "#-- Select fields\n",
        "SELECT region, AVG(gdp_percapita) AS avg_gdp\n",
        "#-- From countries (alias as c)\n",
        "FROM countries AS c\n",
        "#  -- Left join with economies (alias as e)\n",
        "  LEFT JOIN economies AS e\n",
        "#    -- Match on code fields\n",
        "    ON c.code = e.code\n",
        "#-- Focus on 2010\n",
        "WHERE year = '2010'\n",
        "#-- Group by region\n",
        "GROUP BY region;\n",
        "\n",
        "'''\n",
        "region\tavg_gdp\n",
        "Southern Africa\t5051.59797363281\n",
        "Caribbean\t11413.339454064\n",
        "Eastern Africa\t1757.34816169739\n",
        "'''"
      ],
      "execution_count": null,
      "outputs": []
    },
    {
      "cell_type": "markdown",
      "metadata": {
        "id": "A5y6DtF_vall"
      },
      "source": [
        "5. Arrange this data on average GDP per capita for each region in 2010 from highest to lowest average GDP per capita."
      ]
    },
    {
      "cell_type": "code",
      "metadata": {
        "id": "Wq4yEudrvh3F"
      },
      "source": [
        "#-- Select fields\n",
        "SELECT region, AVG(gdp_percapita) AS avg_gdp\n",
        "#-- From countries (alias as c)\n",
        "FROM countries AS c\n",
        "#  -- Left join with economies (alias as e)\n",
        "  LEFT JOIN economies AS e\n",
        "#    -- Match on code fields\n",
        "    ON c.code = e.code\n",
        "#-- Focus on 2010\n",
        "WHERE year = '2010'\n",
        "#-- Group by region\n",
        "GROUP BY region\n",
        "#-- Order by descending avg_gdp\n",
        "ORDER BY avg_gdp DESC;\n",
        "\n",
        "'''\n",
        "region\tavg_gdp\n",
        "Western Europe\t58130.9614955357\n",
        "Nordic Countries\t57073.99765625\n",
        "North America\t47911.509765625\n",
        "'''"
      ],
      "execution_count": null,
      "outputs": []
    },
    {
      "cell_type": "markdown",
      "metadata": {
        "id": "9M6Ajw4qwH9V"
      },
      "source": [
        "Conclusion\n",
        "\n",
        "Well done. Notice how gradually you're adding more and more building blocks to your SQL vocabulary. This enables you to answer questions of ever-increasing complexity!"
      ]
    },
    {
      "cell_type": "markdown",
      "metadata": {
        "id": "IL4GJmmFwLMv"
      },
      "source": [
        "# Right join\n",
        "\n",
        "Right joins aren't as common as left joins. One reason why is that you can always write a right join as a left join.\n",
        "\n",
        "Instructions\n",
        "\n",
        "1. The left join code is commented out here. Your task is to write a new query using rights joins that produces the same result as what the query using left joins produces. Keep this left joins code commented as you write your own query just below it using right joins to solve the problem.\n",
        "\n",
        "Note the order of the joins matters in your conversion to using right joins!"
      ]
    },
    {
      "cell_type": "code",
      "metadata": {
        "id": "cGtPHimNwTBc"
      },
      "source": [
        "#-- convert this code to use RIGHT JOINs instead of LEFT JOINs\n",
        "'''/*\n",
        "SELECT cities.name AS city, urbanarea_pop, countries.name AS country,\n",
        "       indep_year, languages.name AS language, percent\n",
        "FROM cities\n",
        "  LEFT JOIN countries\n",
        "    ON cities.country_code = countries.code\n",
        "  LEFT JOIN languages\n",
        "    ON countries.code = languages.code\n",
        "ORDER BY city, language;\n",
        "*/'''\n",
        "\n",
        "SELECT cities.name AS city, urbanarea_pop, countries.name AS country,\n",
        "       indep_year, languages.name AS language, percent\n",
        "FROM languages\n",
        "  RIGHT JOIN countries\n",
        "    ON languages.code = countries.code\n",
        "  RIGHT JOIN cities\n",
        "    ON countries.code = cities.country_code\n",
        "ORDER BY city, language;\n",
        "\n",
        "'''\n",
        "city\turbanarea_pop\tcountry\tindep_year\tlanguage\tpercent\n",
        "Abidjan\t4765000\tCote d'Ivoire\t1960\tFrench\tnull\n",
        "Abidjan\t4765000\tCote d'Ivoire\t1960\tOther\tnull\n",
        "Abu Dhabi\t1145000\tUnited Arab Emirates\t1971\tArabic\tnull\n",
        "'''"
      ],
      "execution_count": null,
      "outputs": []
    },
    {
      "cell_type": "markdown",
      "metadata": {
        "id": "hd__KdblxE8n"
      },
      "source": [
        "Conclusion\n",
        "\n",
        "Correct; everything should be reversed!"
      ]
    },
    {
      "cell_type": "markdown",
      "metadata": {
        "id": "E3tDsX7PxH-4"
      },
      "source": [
        "# FULL JOINs\n",
        "\n",
        "1. FULL JOINs\n",
        "\n",
        "The last of the three types of OUTER JOINs is the FULL JOIN. In this video, you'll see the differences between a FULL JOIN and the other joins you've learned about. In particular, the instruction will focus on comparing them to INNER JOINs and LEFT JOINs and then to LEFT JOINs and RIGHT JOINs. Let's first review how the diagram changes between an INNER JOIN and a LEFT JOIN for our basic example using the left and right tables. Then we'll delve into the FULL JOIN diagram and its SQL code.\n",
        "2. INNER JOIN vs LEFT JOIN\n",
        "\n",
        "Recall that an INNER JOIN keeps only the records that have matching key field values in both tables. A LEFT JOIN keeps all of the records in the left table while bringing in missing values for those key field values that don't appear in the right table. Let's next review the differences between a LEFT JOIN and a RIGHT JOIN.\n",
        "3. LEFT JOIN vs RIGHT JOIN\n",
        "\n",
        "Now you can see the differences between a LEFT JOIN and a RIGHT JOIN. The id values of 2 and 3 in the left table do not match with the id values in the right table, so missing values are brought in for them in the LEFT JOIN. Likewise for the RIGHT JOIN, missing values are brought in for id values of 5 and 6.\n",
        "4. FULL JOIN initial diagram\n",
        "\n",
        "A FULL JOIN combines a LEFT JOIN and a RIGHT JOIN as you can see by looking at this diagram. So it will bring in all records from both the left and the right table and keep track of the missing values accordingly.\n",
        "5. FULL JOIN diagram\n",
        "\n",
        "Note the missing values here and that all six of the values of id are included in the table. You can also see from the SQL code to produce this FULL JOIN result that the general format aligns closely with the SQL syntax you've seen for both an INNER JOIN and a LEFT JOIN. You'll next explore an example from the leaders database.\n",
        "6. FULL JOIN example using leaders database\n",
        "\n",
        "Let's revisit the example of looking at countries with prime ministers and/or presidents. We'll walk through the code line by line to do this using a FULL JOIN. The SELECT statement starts us off by including the country field from both of our tables of interest and also the prime_minister and president fields.\n",
        "7. FULL JOIN example using leaders database\n",
        "\n",
        "Next, the left table is specified as prime_ministers. Note that the order matters here and if you switched the two tables you'd get slightly different output.\n",
        "8. FULL JOIN example using leaders database\n",
        "\n",
        "The right table is specified as presidents with the alias of p2. prime_ministers was aliased as p1 in the previous line.\n",
        "9. FULL JOIN example using leaders database\n",
        "\n",
        "Lastly, the join is done based on the key field of country in both tables.\n",
        "10. FULL JOIN example results using leaders\n",
        "\n",
        "Time for some practice!\n",
        "11. Let's practice!"
      ]
    },
    {
      "cell_type": "markdown",
      "metadata": {
        "id": "DTPqs46qxPWq"
      },
      "source": [
        "# Full join\n",
        "\n",
        "In this exercise, you'll examine how your results differ when using a full join versus using a left join versus using an inner join with the countries and currencies tables.\n",
        "\n",
        "You will focus on the North American region and also where the name of the country is missing. Dig in to see what we mean!\n",
        "\n",
        "Begin with a full join with countries on the left and currencies on the right. The fields of interest have been SELECTed for you throughout this exercise.\n",
        "\n",
        "Then complete a similar left join and conclude with an inner join.\n",
        "\n",
        "Instructions\n",
        "\n",
        "1. Choose records in which region corresponds to North America or is NULL."
      ]
    },
    {
      "cell_type": "code",
      "metadata": {
        "id": "4-nPVXH10Ldo"
      },
      "source": [
        "SELECT name AS country, code, region, basic_unit\n",
        "#-- 3. From countries\n",
        "FROM countries\n",
        "#  -- 4. Join to currencies\n",
        "  FULL JOIN currencies\n",
        "#    -- 5. Match on code\n",
        "    USING (code)\n",
        "#-- 1. Where region is North America or null\n",
        "WHERE region = 'North America' OR region IS NULL\n",
        "#-- 2. Order by region\n",
        "ORDER BY region;\n",
        "\n",
        "'''\n",
        "country\tcode\tregion\tbasic_unit\n",
        "Bermuda\tBMU\tNorth America\tBermudian dollar\n",
        "United States\tUSA\tNorth America\tUnited States dollar\n",
        "Canada\tCAN\tNorth America\tCanadian dollar\n",
        "'''"
      ],
      "execution_count": null,
      "outputs": []
    },
    {
      "cell_type": "markdown",
      "metadata": {
        "id": "p4DZZ9q90seD"
      },
      "source": [
        "3. Repeat the same query as above but use a LEFT JOIN instead of a FULL JOIN. Note what has changed compared to the FULL JOIN result!"
      ]
    },
    {
      "cell_type": "code",
      "metadata": {
        "id": "_N87VEf70ujS"
      },
      "source": [
        "SELECT name AS country, code, region, basic_unit\n",
        "#-- 1. From countries\n",
        "FROM countries\n",
        "#  -- 2. Join to currencies\n",
        "  LEFT JOIN currencies\n",
        "#    -- 3. Match on code\n",
        "    USING (code)\n",
        "#-- 4. Where region is North America or null\n",
        "WHERE region = 'North America' OR region IS NULL\n",
        "#-- 5. Order by region\n",
        "ORDER BY region;\n",
        "\n",
        "'''\n",
        "country\tcode\tregion\tbasic_unit\n",
        "Bermuda\tBMU\tNorth America\tBermudian dollar\n",
        "Canada\tCAN\tNorth America\tCanadian dollar\n",
        "United States\tUSA\tNorth America\tUnited States dollar\n",
        "Greenland\tGRL\tNorth America\tnull\n",
        "Showing 4 out of 4 rows\n",
        "'''"
      ],
      "execution_count": null,
      "outputs": []
    },
    {
      "cell_type": "markdown",
      "metadata": {
        "id": "lBYz8Kgb1GHa"
      },
      "source": [
        "3. Repeat the same query as above but use an INNER JOIN instead of a FULL JOIN. Note what has changed compared to the FULL JOIN and LEFT JOIN results!"
      ]
    },
    {
      "cell_type": "code",
      "metadata": {
        "id": "0csTmcGv1NCA"
      },
      "source": [
        "SELECT name AS country, code, region, basic_unit\n",
        "FROM countries\n",
        "#  -- 1. Join to currencies\n",
        "  INNER JOIN currencies\n",
        "    USING (code)\n",
        "#-- 2. Where region is North America or null\n",
        "WHERE region = 'North America' OR region IS NULL\n",
        "#-- 3. Order by region\n",
        "ORDER BY region;\n",
        "\n",
        "'''\n",
        "country\tcode\tregion\tbasic_unit\n",
        "Bermuda\tBMU\tNorth America\tBermudian dollar\n",
        "Canada\tCAN\tNorth America\tCanadian dollar\n",
        "United States\tUSA\tNorth America\tUnited States dollar\n",
        "Showing 3 out of 3 rows\n",
        "'''"
      ],
      "execution_count": null,
      "outputs": []
    },
    {
      "cell_type": "markdown",
      "metadata": {
        "id": "JD97N0331d2t"
      },
      "source": [
        "Conclusion\n",
        "\n",
        "Have you kept an eye out on the different numbers of records these queries returned? The FULL JOIN query returned 17 rows, the OUTER JOIN returned 4 rows, and the INNER JOIN only returned 3 rows. Do these results make sense to you?"
      ]
    },
    {
      "cell_type": "markdown",
      "metadata": {
        "id": "VtHQcwQv1i5e"
      },
      "source": [
        "# Full join (2)\n",
        "\n",
        "You'll now investigate a similar exercise to the last one, but this time focused on using a table with more records on the left than the right. You'll work with the languages and countries tables.\n",
        "\n",
        "Begin with a full join with languages on the left and countries on the right. Appropriate fields have been selected for you again here.\n",
        "\n",
        "Instructions\n",
        "\n",
        "1. Choose records in which countries.name starts with the capital letter 'V' or is NULL.\n",
        "\n",
        "2. Arrange by countries.name in ascending order to more clearly see the results.\n"
      ]
    },
    {
      "cell_type": "code",
      "metadata": {
        "id": "y4IAjwf11feY"
      },
      "source": [
        "SELECT countries.name, code, languages.name AS language\n",
        "#-- 3. From languages\n",
        "FROM languages\n",
        "#  -- 4. Join to countries\n",
        "  FULL JOIN countries\n",
        "#    -- 5. Match on code\n",
        "    USING (code)\n",
        "#-- 1. Where countries.name starts with V or is null\n",
        "WHERE countries.name LIKE 'V%' OR countries.name IS NULL\n",
        "#-- 2. Order by ascending countries.name\n",
        "ORDER BY countries.name;\n",
        "\n",
        "'''\n",
        "name\tcode\tlanguage\n",
        "Vanuatu\tVUT\tTribal Languages\n",
        "Vanuatu\tVUT\tEnglish\n",
        "Vanuatu\tVUT\tFrench\n",
        "'''"
      ],
      "execution_count": null,
      "outputs": []
    },
    {
      "cell_type": "markdown",
      "metadata": {
        "id": "m4USFqWw2Hg_"
      },
      "source": [
        "3. Repeat the same query as above but use a left join instead of a full join. Note what has changed compared to the full join result!"
      ]
    },
    {
      "cell_type": "code",
      "metadata": {
        "id": "b1XRTb4t2Six"
      },
      "source": [
        "SELECT countries.name, code, languages.name AS language\n",
        "FROM languages\n",
        "#  -- 1. Join to countries\n",
        "  LEFT JOIN countries\n",
        "#    -- 2. Match using code\n",
        "    USING (code)\n",
        "#-- 3. Where countries.name starts with V or is null\n",
        "WHERE countries.name LIKE 'V%' OR countries.name IS NULL\n",
        "ORDER BY countries.name;\n",
        "\n",
        "'''\n",
        "name\tcode\tlanguage\n",
        "Vanuatu\tVUT\tEnglish\n",
        "Vanuatu\tVUT\tOther\n",
        "Vanuatu\tVUT\tFrench\n",
        "'''"
      ],
      "execution_count": null,
      "outputs": []
    },
    {
      "cell_type": "markdown",
      "metadata": {
        "id": "Iqby3QcJ2aOG"
      },
      "source": [
        "4. Repeat once more, but use an inner join instead of a left join. Note what has changed compared to the full join and left join results."
      ]
    },
    {
      "cell_type": "code",
      "metadata": {
        "id": "wrBlV4MI2mAO"
      },
      "source": [
        "SELECT countries.name, code, languages.name AS language\n",
        "FROM languages\n",
        "  -- 1. Join to countries\n",
        "  INNER JOIN countries\n",
        "    USING (code)\n",
        "-- 2. Where countries.name starts with V or is null\n",
        "WHERE countries.name LIKE 'V%' OR countries.name IS NULL\n",
        "ORDER BY countries.name;\n",
        "\n",
        "'''\n",
        "name\tcode\tlanguage\n",
        "Vanuatu\tVUT\tTribal Languages\n",
        "Vanuatu\tVUT\tBislama\n",
        "Vanuatu\tVUT\tEnglish\n",
        "'''"
      ],
      "execution_count": null,
      "outputs": []
    },
    {
      "cell_type": "markdown",
      "metadata": {
        "id": "nlrK-1f_3bGL"
      },
      "source": [
        "Conclusion\n",
        "\n",
        "Well done. Again, make sure to compare the number of records the different types of joins return and try to verify whether the results make sense."
      ]
    },
    {
      "cell_type": "markdown",
      "metadata": {
        "id": "TviRjQaL3fdr"
      },
      "source": [
        "# Full join (3)\n",
        "\n",
        "You'll now explore using two consecutive full joins on the three tables you worked with in the previous two exercises.\n",
        "\n",
        "Instructions\n",
        "\n",
        "1. Complete a full join with countries on the left and languages on the right.\n",
        "\n",
        "2. Next, full join this result with currencies on the right.\n",
        "\n",
        "3. Use LIKE to choose the Melanesia and Micronesia regions (Hint: 'M%esia').\n",
        "\n",
        "4. Select the fields corresponding to the country name AS country, region, language name AS language, and basic and fractional units of currency.\n"
      ]
    },
    {
      "cell_type": "code",
      "metadata": {
        "id": "sz4kJuO63q3Y"
      },
      "source": [
        "#-- 7. Select fields (with aliases)\n",
        "SELECT c1.name AS country, region, l.name AS language,\n",
        "       basic_unit, frac_unit\n",
        "#-- 1. From countries (alias as c1)\n",
        "FROM countries AS c1\n",
        "#  -- 2. Join with languages (alias as l)\n",
        "  FULL JOIN languages AS l\n",
        "#    -- 3. Match on code\n",
        "    USING (code)\n",
        "#  -- 4. Join with currencies (alias as c2)\n",
        "  FULL JOIN currencies AS c2\n",
        "#    -- 5. Match on code\n",
        "    USING (code)\n",
        "#-- 6. Where region like Melanesia and Micronesia\n",
        "WHERE region LIKE 'M%esia';\n",
        "\n",
        "'''\n",
        "country\tregion\tlanguage\tbasic_unit\tfrac_unit\n",
        "Kiribati\tMicronesia\tEnglish\tAustralian dollar\tCent\n",
        "Kiribati\tMicronesia\tKiribati\tAustralian dollar\tCent\n",
        "Marshall Islands\tMicronesia\tOther\tUnited States dollar\tCent\n",
        "'''"
      ],
      "execution_count": null,
      "outputs": []
    },
    {
      "cell_type": "markdown",
      "metadata": {
        "id": "p3Xfp12N4T1X"
      },
      "source": [
        "Conclusion\n",
        "\n",
        "Well done! How many countries are in the regions you filtered on?"
      ]
    },
    {
      "cell_type": "markdown",
      "metadata": {
        "id": "_gESyNN34jn0"
      },
      "source": [
        "# Review outer joins\n",
        "\n",
        "A(n) ___ join is a join combining the results of a ___ join and a ___ join.\n",
        "\n",
        "Possible Answers\n",
        "\n",
        "1. left, full, right: Incorrect. Are you sure you have these in the right order?\n",
        "\n",
        "2. right, full, left: Incorrect. Are you sure you have these in the right order?\n",
        "\n",
        "3. inner, left, right: Incorrect. Should it say 'inner' here or something else?\n",
        "\n",
        "4. None of the above are true: Correct"
      ]
    },
    {
      "cell_type": "markdown",
      "metadata": {
        "id": "atY3jWMK5MBV"
      },
      "source": [
        "# CROSSing the rubicon\n",
        "\n",
        "1. CROSSing the Rubicon\n",
        "\n",
        "Now that you've worked with INNER JOINs and OUTER JOINs it's time to check out the CROSS JOIN. CROSS JOINs create all possible combinations of two tables. Let's explore the diagram for a CROSS JOIN next.\n",
        "2. CROSS JOIN diagram\n",
        "\n",
        "In this diagram we have two tables named table1 and table2. Each table only has one field, both with the name of id. The result of the CROSS JOIN is all nine combinations of the id values of 1, 2, and 3 in table1 with the id values of A, B, and C for table2. Next you'll explore an example from the leaders database and look over the SQL syntax for a CROSS JOIN.\n",
        "3. Pairing prime ministers with presidents\n",
        "\n",
        "Suppose that all prime ministers in North America and Oceania in the prime_ministers table are scheduled for individual meetings with all presidents in the presidents table. You can look at all of these combinations by using a CROSS JOIN. The syntax here remains similar to what you've seen earlier in the course. We use a WHERE clause to focus on only prime ministers in North America and Oceania in the prime_ministers table. The results of the query give us the pairings for the two prime ministers in North America and Oceania from the prime_ministers table with the seven presidents in the presidents table.\n",
        "4. Let's practice!\n",
        "\n",
        "You'll now hop into an exercise focusing on a couple of cities in a tribute to the author Charles Dickens. This chapter closes with a challenge to test your comprehension of the content covered here. Good luck! "
      ]
    },
    {
      "cell_type": "markdown",
      "metadata": {
        "id": "5aSF4cZd5yPh"
      },
      "source": [
        "# A table of two cities\n",
        "\n",
        "This exercise looks to explore languages potentially and most frequently spoken in the cities of Hyderabad, India and Hyderabad, Pakistan.\n",
        "\n",
        "You will begin with a cross join with cities AS c on the left and languages AS l on the right. Then you will modify the query using an inner join in the next tab.\n",
        "\n",
        "Instructions\n",
        "\n",
        "1. Create the cross join as described above. (Recall that cross joins do not use ON or USING.)\n",
        "\n",
        "2. Make use of LIKE and Hyder% to choose Hyderabad in both countries.\n",
        "\n",
        "3. Select only the city name AS city and language name AS language.\n"
      ]
    },
    {
      "cell_type": "code",
      "metadata": {
        "id": "2h7Cf5Q46SCr"
      },
      "source": [
        "#-- 4. Select fields\n",
        "SELECT c.name AS city, l.name AS language\n",
        "#-- 1. From cities (alias as c)\n",
        "FROM cities AS c        \n",
        "#  -- 2. Join to languages (alias as l)\n",
        "  CROSS JOIN languages AS l\n",
        "#-- 3. Where c.name like Hyderabad\n",
        "WHERE c.name LIKE 'Hyder%';\n",
        "\n",
        "'''\n",
        "city\tlanguage\n",
        "Hyderabad (India)\tDari\n",
        "Hyderabad\tDari\n",
        "Hyderabad (India)\tPashto\n",
        "'''"
      ],
      "execution_count": null,
      "outputs": []
    },
    {
      "cell_type": "markdown",
      "metadata": {
        "id": "dgNFT81m6ahd"
      },
      "source": [
        "4. Use an inner join instead of a cross join. Think about what the difference will be in the results for this inner join result and the one for the cross join."
      ]
    },
    {
      "cell_type": "code",
      "metadata": {
        "id": "eoZXpaxx6ftr"
      },
      "source": [
        "-- 5. Select fields\n",
        "SELECT c.name AS city, l.name AS language\n",
        "-- 1. From cities (alias as c)\n",
        "from cities as c     \n",
        "  -- 2. Join to languages (alias as l)\n",
        "  INNER JOIN languages AS l\n",
        "    -- 3. Match on country code\n",
        "    ON c.country_code = l.code\n",
        "-- 4. Where c.name like Hyderabad\n",
        "WHERE c.name LIKE 'Hyder%';\n",
        "\n",
        "'''\n",
        "city\tlanguage\n",
        "Hyderabad (India)\tHindi\n",
        "Hyderabad (India)\tBengali\n",
        "Hyderabad (India)\tTelugu\n",
        "'''"
      ],
      "execution_count": null,
      "outputs": []
    },
    {
      "cell_type": "markdown",
      "metadata": {
        "id": "0-CJPJ4J64g7"
      },
      "source": [
        "Conclusion\n",
        "\n",
        "Good one! Can you see the difference between a CROSS JOIN and a INNER JOIN?"
      ]
    },
    {
      "cell_type": "markdown",
      "metadata": {
        "id": "p63PzAHD7BDm"
      },
      "source": [
        "# Outer challenge\n",
        "\n",
        "Now that you're fully equipped to use outer joins, try a challenge problem to test your knowledge!\n",
        "\n",
        "In terms of life expectancy for 2010, determine the names of the lowest five countries and their regions.\n",
        "\n",
        "Instructions\n",
        "\n",
        "1. Select country name AS country, region, and life expectancy AS life_exp.\n",
        "\n",
        "2. Make sure to use LEFT JOIN, WHERE, ORDER BY, and LIMIT.\n"
      ]
    },
    {
      "cell_type": "code",
      "metadata": {
        "id": "4Px3ZKSz7yw2"
      },
      "source": [
        "#-- Select fields\n",
        "SELECT c.name AS country, region, life_expectancy AS life_exp\n",
        "#-- From countries (alias as c)\n",
        "FROM countries AS c\n",
        "#  -- Join to populations (alias as p)\n",
        "  LEFT JOIN populations as p\n",
        "#    -- Match on country code\n",
        "    ON c.code = p.country_code\n",
        "#-- Focus on 2010\n",
        "WHERE year = '2010'\n",
        "#-- Order by life_exp\n",
        "ORDER BY life_exp\n",
        "#-- Limit to 5 records\n",
        "LIMIT 5\n",
        "\n",
        "'''\n",
        "country\tregion\tlife_exp\n",
        "Lesotho\tSouthern Africa\t47.4834\n",
        "Central African Republic\tCentral Africa\t47.6253\n",
        "Sierra Leone\tWestern Africa\t48.229\n",
        "'''"
      ],
      "execution_count": null,
      "outputs": []
    },
    {
      "cell_type": "markdown",
      "metadata": {
        "id": "s7HyrByk76A-"
      },
      "source": [
        "Conclusion\n",
        "\n",
        "This was the last exercise of this chapter on outer joins and cross joins. In the next chapter, you'll learn about set theory clauses!"
      ]
    }
  ]
}